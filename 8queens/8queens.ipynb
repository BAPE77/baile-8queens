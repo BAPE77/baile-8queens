{
 "cells": [
  {
   "cell_type": "markdown",
   "id": "fb40be12",
   "metadata": {},
   "source": [
    "# Problema de las Ocho Reinas"
   ]
  },
  {
   "cell_type": "markdown",
   "id": "df32640d",
   "metadata": {},
   "source": [
    "## Contenidos"
   ]
  },
  {
   "cell_type": "markdown",
   "id": "45e1b926",
   "metadata": {},
   "source": [
    "- [Contenidos](#contenidos)\n",
    "- [Introducción](#introducción)\n",
    "- [Planteamiento del Problema](#planteamiento-del-problema)\n",
    "    - [Estados](#estados)\n",
    "        - [Representación](#representación)\n",
    "        - [Estado Inicial](#estado-inicial)\n",
    "        - [Estado Final](#estado-final)\n",
    "    - [Condición de Meta](#condición-de-meta)\n",
    "    - [Función Sucesor](#función-sucesor)\n",
    "    - [Costo](#costo)\n",
    "    - [Heurística](#heurística)\n",
    "        - [Reinas Restantes](#reinas-restantes)\n",
    "        - [Disponibilidad de Casillas](#disponibilidad-de-casillas)\n",
    "        - [Reinas en Misma Posición](#reinas-en-misma-posición)\n",
    "- [Desarrollo del Problema](#desarrollo-del-problema)\n",
    "    - [Importar Bibliotecas](#importar-bibliotecas)\n",
    "    - [Declaración del Estado Inicial](#declaración-del-estado-inicial)\n",
    "    - [Impresión del Tablero](#impresión-del-tablero)\n",
    "    - [Definición de la Función Sucesor](#definición-de-la-función-sucesor)\n",
    "        - [Función Sucesor Secuencial](#función-sucesor-secuencial)\n",
    "        - [Función Sucesor Aleatoria](#función-sucesor-aleatoria)\n",
    "    - [Definición de Función de Meta](#definición-de-función-de-meta)\n",
    "    - [Declaración del Estado Final](#declaración-del-estado-final)\n",
    "    - [Impresión de Caminos](#impresión-de-caminos)\n",
    "    - [Búsqueda BFS](#búsqueda-bfs)\n",
    "        - [BFS sin Meta](#bfs-sin-meta)\n",
    "            - [Sucesión en Secuencia](#sucesión-en-secuencia)\n",
    "                - [Resultados](#resultados)\n",
    "                - [Camino](#camino)\n",
    "            - [Sucesión Aleatoria](#sucesión-aleatoria)\n",
    "                - [Resultados](#resultados)\n",
    "                - [Camino](#camino)\n",
    "        - [BFS con Meta](#bfs-con-meta)\n",
    "            - [Sucesión en Secuencia](#sucesión-en-secuencia)\n",
    "                - [Resultados](#resultados)\n",
    "                - [Camino](#camino)\n",
    "            - [Sucesión Aleatoria](#sucesión-aleatoria)\n",
    "                - [Resultados](#resultados)\n",
    "                - [Camino](#camino)\n",
    "    - [Búsqueda DFS](#búsqueda-dfs)\n",
    "        - [DFS sin Meta](#dfs-sin-meta)\n",
    "            - [Sucesión en Secuencia](#sucesión-en-secuencia)\n",
    "                - [Resultados](#resultados)\n",
    "                - [Camino](#camino)\n",
    "            - [Sucesión Aleatoria](#sucesión-aleatoria)\n",
    "                - [Resultados](#resultados)\n",
    "                - [Camino](#camino)\n",
    "        - [DFS con Meta](#dfs-con-meta)\n",
    "            - [Sucesión en Secuencia](#sucesión-en-secuencia)\n",
    "                - [Resultados](#resultados)\n",
    "                - [Camino](#camino)\n",
    "            - [Sucesión Aleatoria](#sucesión-aleatoria)\n",
    "                - [Resultados](#resultados)\n",
    "                - [Camino](#camino)\n",
    "    - [Búsqueda A*](#búsqueda-a)\n",
    "        - [Definición de la Heurística](#definición-de-la-heurística)\n",
    "        - [A* sin Meta](#a-sin-meta)\n",
    "            - [Sucesión en Secuencia](#sucesión-en-secuencia)\n",
    "                - [Resultados](#resultados)\n",
    "                - [Camino](#camino)\n",
    "            - [Sucesión Aleatoria](#sucesión-aleatoria)\n",
    "                - [Resultados](#resultados)\n",
    "                - [Camino](#camino)\n",
    "        - [A* con Meta](#a-con-meta)\n",
    "            - [Sucesión en Secuencia](#sucesión-en-secuencia)\n",
    "                - [Resultados](#resultados)\n",
    "                - [Camino](#camino)\n",
    "            - [Sucesión Aleatoria](#sucesión-aleatoria)\n",
    "                - [Resultados](#resultados)\n",
    "                - [Camino](#camino)\n",
    "        - [Comparación de Resultados](#comparación-de-resultados)\n",
    "            - [Medición de Tiempos](#medición-de-tiempos)\n",
    "                - [Sin Estado Meta](#sin-estado-meta)\n",
    "                - [Con Estado Meta](#con-estado-meta)\n",
    "        - [Conclusiones](#conclusiones)"
   ]
  },
  {
   "cell_type": "markdown",
   "id": "53fc3a44",
   "metadata": {},
   "source": [
    "## Introducción\n",
    "El problema de las ocho reinas consiste en colocar ocho reinas en un tablero de ajedrez de tamaño de $8\\times8$ casillas, de manera que ninguna reina se amenace entre sí; es decir, que ninguna reina sea colocada en la misma columna, fila o diagonal que otra reina.\n",
    "\n",
    "El enlace al repositorio utilizado para este proyecto es el siguiente:\n",
    "[baile-8queens](https://github.com/BAPE77/baile-8queens.git)"
   ]
  },
  {
   "cell_type": "markdown",
   "id": "e4f39cce",
   "metadata": {},
   "source": [
    "![8queens_solution1](8queens_solution1.png)"
   ]
  },
  {
   "cell_type": "markdown",
   "id": "1ade3df5",
   "metadata": {},
   "source": [
    "## Planteamiento del Problema\n",
    "Debido a la naturaleza del problema, se requiere una manera de representar el tablero de ajedrez (dimensiones de $8\\times8$), representando cada una de las $64$ casillas, así como la existencia de una reina en alguna de esas casillas, con hasta un máximo de $8$ reinas en total. El problema parte de alguna distribución determinada y termina una vez se haya encontrado una combinación en la que ninguna reina ataque a otra reina y en que todas hayan sido colocadas en el tablero. Esto implica que el problema tiene una profundidad máxima de $8$, si consideramos la profundidad $0$ como el estado en el que no hay ninguna reina sobre el tablero."
   ]
  },
  {
   "cell_type": "markdown",
   "id": "c3452a2a",
   "metadata": {},
   "source": [
    "### Estados\n",
    "Cada distribución posible de las reinas en el tablero sería un estado posible. El primer estado, o estado $0$ será aquél con cero reinas en el tablero, mientras que los siguientes $64$ posibles estados serán para representar el tablero con una sola reina; los siguientes $63$ estados serán para el tablero con dos reinas en total, y asi sucesivamente. Esto implica que, para todo el problema, la cantidad total de posibles  estados es $64\\times63\\times62\\times61\\times60\\times59\\times58\\times57=178,462,987,637,760$. Por esto mismo, es importante encontrar criterios clave al momento de definir la función sucesoria y las posibles heurísticas."
   ]
  },
  {
   "cell_type": "markdown",
   "id": "df80c1e3",
   "metadata": {},
   "source": [
    "#### Representación\n",
    "Para representar el tablero de ajedrez, así como la posición de las reinas en las casillas y, por consiguiente, cada estado, se utilizará una matriz de dimensiones $8\\times8$. Esta matriz estará inicialmente llena de ceros, y cada cero representará cada casilla sin reina y que no esté siendo atacada. Para representar a una reina ubicada en la casilla $(i,j)$, a esa posición en la matriz se le asignará un uno. Para representar una casilla vacía que está siendo atacada se utilizará el número dos.\n",
    "\n",
    "Así pues, el estado $0$ se tendrá de la siguiente forma:\n",
    "| &nbsp; | 0 | 1 | 2 | 3 | 4 | 5 | 6 | 7 |\n",
    "| --- | --- | --- | --- | --- | --- | --- | --- | ---|\n",
    "| __0__ | 0 | 0 | 0 | 0 | 0 | 0 | 0 | 0 |\n",
    "| __1__ | 0 | 0 | 0 | 0 | 0 | 0 | 0 | 0 |\n",
    "| __2__ | 0 | 0 | 0 | 0 | 0 | 0 | 0 | 0 |\n",
    "| __3__ | 0 | 0 | 0 | 0 | 0 | 0 | 0 | 0 |\n",
    "| __4__ | 0 | 0 | 0 | 0 | 0 | 0 | 0 | 0 |\n",
    "| __5__ | 0 | 0 | 0 | 0 | 0 | 0 | 0 | 0 |\n",
    "| __6__ | 0 | 0 | 0 | 0 | 0 | 0 | 0 | 0 |\n",
    "| __7__ | 0 | 0 | 0 | 0 | 0 | 0 | 0 | 0 |\n",
    "\n",
    "Un tablero con una sola reina podrá representarse de la siguiente manera:\n",
    "| &nbsp; | 0 | 1 | 2 | 3 | 4 | 5 | 6 | 7 |\n",
    "| --- | --- | --- | --- | --- | --- | --- | --- | ---|\n",
    "| __0__ | 2 | 0 | 2 | 0 | 2 | 0 | 0 | 0 |\n",
    "| __1__ | 0 | 2 | 2 | 2 | 0 | 0 | 0 | 0 |\n",
    "| __2__ | 2 | 2 | 1 | 2 | 2 | 2 | 2 | 2 |\n",
    "| __3__ | 0 | 2 | 2 | 2 | 0 | 0 | 0 | 0 |\n",
    "| __4__ | 2 | 0 | 2 | 0 | 2 | 0 | 0 | 0 |\n",
    "| __5__ | 0 | 0 | 2 | 0 | 0 | 2 | 0 | 0 |\n",
    "| __6__ | 0 | 0 | 2 | 0 | 0 | 0 | 2 | 0 |\n",
    "| __7__ | 0 | 0 | 2 | 0 | 0 | 0 | 0 | 2 |\n",
    "\n",
    "Y uno con dos reinas, de la siguiente forma:\n",
    "| &nbsp; | 0 | 1 | 2 | 3 | 4 | 5 | 6 | 7 |\n",
    "| --- | --- | --- | --- | --- | --- | --- | --- | ---|\n",
    "| __0__ | 2 | 0 | 2 | 2 | 2 | 0 | 0 | 2 |\n",
    "| __1__ | 0 | 2 | 2 | 2 | 0 | 0 | 2 | 0 |\n",
    "| __2__ | 2 | 2 | 1 | 2 | 2 | 2 | 2 | 2 |\n",
    "| __3__ | 0 | 2 | 2 | 2 | 2 | 0 | 0 | 0 |\n",
    "| __4__ | 2 | 2 | 2 | 1 | 2 | 2 | 2 | 2 |\n",
    "| __5__ | 0 | 0 | 2 | 2 | 2 | 2 | 0 | 0 |\n",
    "| __6__ | 0 | 2 | 2 | 2 | 0 | 2 | 2 | 0 |\n",
    "| __7__ | 2 | 0 | 2 | 2 | 0 | 0 | 2 | 2 |"
   ]
  },
  {
   "cell_type": "markdown",
   "id": "ebd7d64f",
   "metadata": {},
   "source": [
    "#### Estado Inicial\n",
    "Podemos partir del estado $0$, o de cualquier otro estado que cuente con reinas que no se ataquen entre sí."
   ]
  },
  {
   "cell_type": "markdown",
   "id": "44f07fc3",
   "metadata": {},
   "source": [
    "#### Estado Final\n",
    "\n",
    "Para este problema existen $92$ soluciones totales. Cualquier distribución que entre en el conjunto de esas soluciones se considerará como un estado final. Estos estados se logran una vez las $8$ reinas han sido colocadas sobre el tablero sin que ningún par de reinas se ataque entre sí.\n",
    "\n",
    "Un ejemplo de un estado final puede ser:\n",
    "| &nbsp; | 0 | 1 | 2 | 3 | 4 | 5 | 6 | 7 |\n",
    "| --- | --- | --- | --- | --- | --- | --- | --- | ---|\n",
    "| __0__ | 2 | 2 | 2 | 1 | 2 | 2 | 2 | 2 |\n",
    "| __1__ | 2 | 2 | 2 | 2 | 2 | 2 | 1 | 2 |\n",
    "| __2__ | 2 | 2 | 1 | 2 | 2 | 2 | 2 | 2 |\n",
    "| __3__ | 2 | 2 | 2 | 2 | 2 | 2 | 2 | 1 |\n",
    "| __4__ | 2 | 1 | 2 | 2 | 2 | 2 | 2 | 2 |\n",
    "| __5__ | 2 | 2 | 2 | 2 | 1 | 2 | 2 | 2 |\n",
    "| __6__ | 1 | 2 | 2 | 2 | 2 | 2 | 2 | 2 |\n",
    "| __7__ | 2 | 2 | 2 | 2 | 2 | 1 | 2 | 2 |"
   ]
  },
  {
   "cell_type": "markdown",
   "id": "091a2ba5",
   "metadata": {},
   "source": [
    "### Condición de Meta\n",
    "Para corroborar que se ha alcanzado el estado final, se verificará que la cantidad de reinas colocadas en el tablero sea igual a  $8$. Adicionalmente, se realizarán verificaciones adicionales para determinar si ningún par de reinas se está atacando entre sí. En caso de que ambas condiciones se hayan cumplido, se considerará a dicho estado como una meta o estado final."
   ]
  },
  {
   "cell_type": "markdown",
   "id": "7fbfcdcb",
   "metadata": {},
   "source": [
    "### Función Sucesor\n",
    "La función sucesor recibirá el estado actual en el que se encuentra el tablero. Posteriormente, buscará la primera casilla sin reina o sin ser atacada, y en esa casilla colocará una reina. Finalmente, marcará todas las casillas que esa reina ataque. Haciendo la verificación de casillas atacadas, se tiene una reducción considerable del espacio de estados a analizar."
   ]
  },
  {
   "cell_type": "markdown",
   "id": "faa27d99",
   "metadata": {},
   "source": [
    "### Costo\n",
    "Para representar el costo, nos basta con aplicar un costo unitario, asociado con la colocación de una nueva reina en el tablero. Eso significa que el costo máximo para cualquier solución correcta será de $8$."
   ]
  },
  {
   "cell_type": "markdown",
   "id": "2d44ac27",
   "metadata": {},
   "source": [
    "### Heurística\n",
    "Existen algunas distintas posibles heurísticas a utilizar para el problema en la búsqueda A*. Algunas de las sugerencias incluyen:\n",
    "- Cantidad de reinas restantes por colocar\n",
    "- Disponibilidad de casillas\n",
    "- Reinas colocadas en misma posición (si existe un estado final objetivo)\n",
    "\n",
    "Debido a la naturaleza de la función sucesor, es imposible generar un estado donde dos o más reinas se ataquen entre sí, por lo que no es posible utilizar una heurística que evalúe la cantidad de reinas que se estén atacando, a pesar de haberse considerado con anterioridad."
   ]
  },
  {
   "cell_type": "markdown",
   "id": "296c5267",
   "metadata": {},
   "source": [
    "#### Reinas Restantes\n",
    "La fórmula para esta heurística sería $h(n)=8-(\\text{reinas colocadas})$"
   ]
  },
  {
   "cell_type": "markdown",
   "id": "71eb8a9d",
   "metadata": {},
   "source": [
    "#### Disponibilidad de Casillas\n",
    "La fórmula para esta heurística sería $h(n)=8-(\\text{reinas colocadas})+max(0,(\\text{reinas restantes} - \\text{casillas libres}))$. Esta se vuelve una heurística híbrida que mezcla la estimación de pasos restantes y que previene algunos estados que ya no sean posibles de resolver, teniendo cierto grado de predicción. Así pues, esta será la heurística que se utilizará para resolver el problema con la búsqueda de A*."
   ]
  },
  {
   "cell_type": "markdown",
   "id": "aa04afbc",
   "metadata": {},
   "source": [
    "#### Reinas en Misma Posición\n",
    "Esta heurística se encargaría de buscar la cantidad de reinas que tienen en común el estado actual y el estado objetivo, en caso de existir uno. Esto haría que la búsqueda favorezca las configuraciones con mayor cantidad de reinas en común.\n",
    "En caso de no tener un estado final objetivo específico, se utilizará la heurística de disponibilidad de casillas."
   ]
  },
  {
   "cell_type": "markdown",
   "id": "8c4f1d71",
   "metadata": {},
   "source": [
    "## Desarrollo del Problema"
   ]
  },
  {
   "cell_type": "markdown",
   "id": "bb0ef1fb",
   "metadata": {},
   "source": [
    "### Importar Bibliotecas\n",
    "Para esta parte se requieren bibliotecas básicas, en particular Numpy para el manejo de la matríz que representará al tablero de ajedrez. Adicionalmente, definimos la ruta hacia la biblioteca baile, y de esta obtenemos el módulo para búsqueda simple \"SimpleSearch\"."
   ]
  },
  {
   "cell_type": "code",
   "execution_count": 1,
   "id": "fd49427a",
   "metadata": {},
   "outputs": [
    {
     "data": {
      "text/plain": [
       "<module 'SimpleSearch' from '/home/bape119/UMSNH/9thSemester/AI/projects/8QueensProblem/baile-8queens/src/SimpleSearch.py'>"
      ]
     },
     "execution_count": 1,
     "metadata": {},
     "output_type": "execute_result"
    }
   ],
   "source": [
    "import numpy as np\n",
    "import random\n",
    "import sys, os\n",
    "baile_path = os.path.abspath(os.path.join(\"..\",\"src\"))\n",
    "if not baile_path in sys.path:\n",
    "    sys.path.append(baile_path)\n",
    "import SimpleSearch as ss\n",
    "from importlib import reload\n",
    "reload(ss)"
   ]
  },
  {
   "cell_type": "markdown",
   "id": "02016c1a",
   "metadata": {},
   "source": [
    "### Declaración del Estado Inicial\n",
    "Como se mencionó previamente, se partirá del estado $0$. De igual forma, cada estado se representa con una matríz de enteros, donde cada valor puede ser $0$ (casilla vacía y sin atacar), $1$ (casilla con reina) o $2$ (casilla atacada).\n",
    "\n",
    "Así pues, se define un arreglo bidimensional de Numpy, de dimensiones de $8\\times8$ lleno de ceros. Sin embargo, para que la biblioteca baile pueda trabajar con este arreglo, se require que sea inmutable. Para esto, lo convertimos en una tupla de tuplas, y a partir de ese, generamos el nodo."
   ]
  },
  {
   "cell_type": "code",
   "execution_count": 2,
   "id": "a5c0ffab",
   "metadata": {},
   "outputs": [],
   "source": [
    "state0 = np.array([\n",
    "    [0, 0, 0, 0, 0, 0, 0, 0],\n",
    "    [0, 0, 0, 0, 0, 0, 0, 0],\n",
    "    [0, 0, 0, 0, 0, 0, 0, 0],\n",
    "    [0, 0, 0, 0, 0, 0, 0, 0],\n",
    "    [0, 0, 0, 0, 0, 0, 0, 0],\n",
    "    [0, 0, 0, 0, 0, 0, 0, 0],\n",
    "    [0, 0, 0, 0, 0, 0, 0, 0],\n",
    "    [0, 0, 0, 0, 0, 0, 0, 0],\n",
    "])\n",
    "state0 = tuple([tuple(row) for row in state0])\n",
    "startNode = ss.node(state0, op=\"Inicio\")"
   ]
  },
  {
   "cell_type": "markdown",
   "id": "22e14546",
   "metadata": {},
   "source": [
    "### Impresión del Tablero\n",
    "Se define una función que permita una impresión más amigable a la vista para un tablero. Para cada casilla vacía se coloca un '.', para una reina se coloca una 'Q' y para una casilla atacada se coloca 'x'. Esta función nos servirá más adelante para las impresiones de los caminos. También permite la impresión de la representación numérica de la matriz, para identificar los valores que asignamos a cada elemento."
   ]
  },
  {
   "cell_type": "code",
   "execution_count": 3,
   "id": "993fdc4c",
   "metadata": {},
   "outputs": [],
   "source": [
    "def printChessBoard(state, numerical=0):\n",
    "    board = np.array(state)\n",
    "    for row in board:\n",
    "        line = \" \".join(\n",
    "            \"Q\" if val == 1 else \".\" if val == 0 else \"x\"\n",
    "            for val in row\n",
    "            )\n",
    "        if numerical == 1:\n",
    "            line = line + \"   \" + np.array_str(row)\n",
    "        print(line)"
   ]
  },
  {
   "cell_type": "markdown",
   "id": "dad0d113",
   "metadata": {},
   "source": [
    "Hacemos una impresión de las características principales del estado inicial."
   ]
  },
  {
   "cell_type": "code",
   "execution_count": 4,
   "id": "4c9af81c",
   "metadata": {},
   "outputs": [
    {
     "name": "stdout",
     "output_type": "stream",
     "text": [
      "\n",
      "Operación: Inicio, Profundidad: 0\n",
      "Tablero:\n",
      ". . . . . . . .   [0 0 0 0 0 0 0 0]\n",
      ". . . . . . . .   [0 0 0 0 0 0 0 0]\n",
      ". . . . . . . .   [0 0 0 0 0 0 0 0]\n",
      ". . . . . . . .   [0 0 0 0 0 0 0 0]\n",
      ". . . . . . . .   [0 0 0 0 0 0 0 0]\n",
      ". . . . . . . .   [0 0 0 0 0 0 0 0]\n",
      ". . . . . . . .   [0 0 0 0 0 0 0 0]\n",
      ". . . . . . . .   [0 0 0 0 0 0 0 0]\n"
     ]
    }
   ],
   "source": [
    "print(f\"\\nOperación: {startNode.op}, Profundidad: {startNode.depth}\")\n",
    "print(\"Tablero:\")\n",
    "printChessBoard(startNode.state, 1)"
   ]
  },
  {
   "cell_type": "markdown",
   "id": "5f2e1934",
   "metadata": {},
   "source": [
    "### Definición de la Función Sucesor\n",
    "Como ya se mencionó, esta consiste en colocar una reina en alguna de las casillas que se encuentren disponibles, es decir, sin una reina en ellas y que no estén siendo atacadas.\n",
    "\n",
    "Para la función sucesor, partimos de un estado $S$. Realizamos una copia de dicho estado, y creamos una lista para sus posibles sucesores.\n",
    "\n",
    "La intención es recorrer cada casilla del tablero (elemento de la matríz) y, en caso de encontrar una casilla disponible, colocar una reina en ella.\n",
    "\n",
    "Al encontrarse la casilla, se crea una copia del estado anterior, para generar el nuevo estado. La columna y la fila donde se encuentra la casilla disponible ahora serán atacadas, por lo que se les asigna un $2$.\n",
    "\n",
    "Una vez la fila y la columna se han indicado como atacadas, se busca la diagonal de arriba a la izquierda hacia abajo a la derecha a la que pertenece la casilla. Para esto, consideramos como referencia la diagonal principal, es decir, aquella que va desde $(0, 0)$ hasta $(7, 7)$, y consideramos un offset, que determina el desplazamiento en diagonales hacia la derecha y arriba (offset positivo) o hacia la izquierda y abajo (offset negativo). Este offset, para la casilla $(i, j)$ se puede calcular como $j-i$.\n",
    "\n",
    "De igual forma, se busca la anti-diagonal de la casilla, para la que se cumple que todo valor de $(i+k)+(j-k)=i+j$. Es decir, cualquier desplazamiento sobre esa diagonal, dará un valor constante al sumar sus índices. En base a este número también es posible determinar si la anti-diagonal en la que se encuentra la casilla $(i, j)$ está arriba a la izquierda o abajo a la derecha de la anti-diagonal principal."
   ]
  },
  {
   "cell_type": "markdown",
   "id": "3640815d",
   "metadata": {},
   "source": [
    "#### Función Sucesor Secuencial"
   ]
  },
  {
   "cell_type": "code",
   "execution_count": 5,
   "id": "f803eb13",
   "metadata": {},
   "outputs": [],
   "source": [
    "def placeQueenSequence(node):\n",
    "    board = np.array(node.state)            # Copia de estado S\n",
    "    successors = []                         # Lista de sucesores\n",
    "    for i in range (0, len(board)):         # Recorrer filas del tablero\n",
    "        for j in range (0, len(board)):         # Recorrer columnas del tablero\n",
    "            if board[i][j] == 0:                    # Si la casilla (i, j) está libre\n",
    "                newBoard = board.copy()                 # Se copia el estado anterior\n",
    "\n",
    "                # Filas y Columnas\n",
    "                newBoard[i, :] = 2                      # Toda la fila i es atacada\n",
    "                newBoard[:, j] = 2                      # Toda la columna j es atacada\n",
    "\n",
    "                ### Diagonal ###                        # La diagonal vista de esquina superior izquierda a la inferior derecha\n",
    "                nRows, nCols = newBoard.shape           # Se determina el número de filas y de columnas\n",
    "                offset = j - i                          # Indica en qué diagonal se encuentra la casilla con relación a la diagonal principal\n",
    "                if offset >= 0:                         # La diagonal de la casilla está a la derecha y arriba de la diagonal principal\n",
    "                    rows = np.arange(nRows - offset)        # Se toman las filas de la diagonal, desplazándose una cantidad 'offset' de filas hacia arriba\n",
    "                    cols = np.arange(nCols - offset) + offset   # Se toman las columnas de la diagonal, desplazándose una cantidad 'offset' de columnas hacia la derecha\n",
    "                else:                                   # La diagonal de la casilla está a la izquierda y abajo de la diagonal principal\n",
    "                    rows = np.arange(nRows + offset) - offset   # Se toman las filas de la diagonal, desplazándose una cantidad 'offset' de filas hacia abajo\n",
    "                    cols = np.arange(nCols + offset)        # Se toman las columnas de la diagonal, desplazándose una cantidad 'offset' de columnas hacia la izquierda\n",
    "                newBoard[rows, cols] = 2                # Toda la diagonal es atacada\n",
    "                \n",
    "                ### Anti-diagonal ###                   # La diagonal vista de la esquina inferior izquierda a la superior derecha\n",
    "                diagSum = i + j                         # Se determina la suma de los índices de la antidiagonal\n",
    "                if diagSum < nRows:                     # La anti-diagonal está a la izquierda y arriba de la anti-diagonal principal\n",
    "                    antiRows = np.arange(diagSum + 1)       # Se toman las primeras diagSum + 1 filas, compensando el desplazamiento hacia arriba\n",
    "                    antiCols = diagSum - antiRows           # Se toman las primeras diagSum + 1 columnas, inversamente a las filas, compensando el desplazamiento hacia la izquierda\n",
    "                else:                                   # La anti-diagonal está a la derecha y abajo de la anti-diagonal principal\n",
    "                    start_col = diagSum - (nRows - 1)       # Se determina a partir de qué columna tomar\n",
    "                    antiCols = np.arange(start_col, nCols)  # Se toman las últimas columnas a partir de la determinada, compensando el movimiento hacia la derecha\n",
    "                    antiRows = diagSum - antiCols           # Se toman las últimas filas, inversamente a las columnas, compensando el desplazamiento hacia abajo\n",
    "                validIndices = (antiRows >= 0) & (antiRows < nRows) & (antiCols >= 0) & (antiCols < nCols)  # Se validan los límites de las filas y columnas de la anti-diagonal\n",
    "                antiRows = antiRows[validIndices]       # Se descartan los índices de las filas fuera de los límites\n",
    "                antiCols = antiCols[validIndices]       # Se descartan los índices de las columnas fuera de los límites\n",
    "                newBoard[antiRows, antiCols] = 2        # Toda la anti-diagonal es atacada\n",
    "\n",
    "                newBoard[i][j] = 1                      # Se coloca la reina en la casilla (i, j)\n",
    "\n",
    "                newBoard = tuple([tuple(row) for row in newBoard])  # Se convierte a una tupla de tuplas para ser inmutable\n",
    "\n",
    "                op = f\"Reina colocada en ({i}, {j})\"    # Se indica la operación de dónde se coloca la reina\n",
    "\n",
    "                successors.append(ss.node(newBoard, op=op, depth=node.depth+1, parent=node))    # Se añade el nuevo nodo a la lista de sucesores\n",
    "    return successors"
   ]
  },
  {
   "cell_type": "markdown",
   "id": "160931ac",
   "metadata": {},
   "source": [
    "#### Función Sucesor Aleatoria"
   ]
  },
  {
   "cell_type": "code",
   "execution_count": 6,
   "id": "0d218629",
   "metadata": {},
   "outputs": [],
   "source": [
    "def placeQueenRandom(node):\n",
    "    board = np.array(node.state)            # Copia de estado S\n",
    "    successors = []                         # Lista de sucesores\n",
    "    available = [(i, j) for i in range(len(board)) for j in range(len(board)) if board[i][j] == 0]  # Se buscan las casillas libres totales\n",
    "    random.shuffle(available)               # Se ordenan las casillas libres de manera aleatoria\n",
    "    for i, j in available:                  # Se recorre cada casilla libre\n",
    "        newBoard = board.copy()                 # Se copia el estado anterior\n",
    "\n",
    "        # Filas y Columnas\n",
    "        newBoard[i, :] = 2                      # Toda la fila i es atacada\n",
    "        newBoard[:, j] = 2                      # Toda la columna j es atacada\n",
    "\n",
    "        ### Diagonal ###                        # La diagonal vista de esquina superior izquierda a la inferior derecha\n",
    "        nRows, nCols = newBoard.shape           # Se determina el número de filas y de columnas\n",
    "        offset = j - i                          # Indica en qué diagonal se encuentra la casilla con relación a la diagonal principal\n",
    "        if offset >= 0:                         # La diagonal de la casilla está a la derecha y arriba de la diagonal principal\n",
    "            rows = np.arange(nRows - offset)        # Se toman las filas de la diagonal, desplazándose una cantidad 'offset' de filas hacia arriba\n",
    "            cols = np.arange(nCols - offset) + offset   # Se toman las columnas de la diagonal, desplazándose una cantidad 'offset' de columnas hacia la derecha\n",
    "        else:                                   # La diagonal de la casilla está a la izquierda y abajo de la diagonal principal\n",
    "            rows = np.arange(nRows + offset) - offset   # Se toman las filas de la diagonal, desplazándose una cantidad 'offset' de filas hacia abajo\n",
    "            cols = np.arange(nCols + offset)        # Se toman las columnas de la diagonal, desplazándose una cantidad 'offset' de columnas hacia la izquierda\n",
    "        newBoard[rows, cols] = 2                # Toda la diagonal es atacada\n",
    "                \n",
    "        ### Anti-diagonal ###                   # La diagonal vista de la esquina inferior izquierda a la superior derecha\n",
    "        diagSum = i + j                         # Se determina la suma de los índices de la antidiagonal\n",
    "        if diagSum < nRows:                     # La anti-diagonal está a la izquierda y arriba de la anti-diagonal principal\n",
    "            antiRows = np.arange(diagSum + 1)       # Se toman las primeras diagSum + 1 filas, compensando el desplazamiento hacia arriba\n",
    "            antiCols = diagSum - antiRows           # Se toman las primeras diagSum + 1 columnas, inversamente a las filas, compensando el desplazamiento hacia la izquierda\n",
    "        else:                                   # La anti-diagonal está a la derecha y abajo de la anti-diagonal principal\n",
    "            start_col = diagSum - (nRows - 1)       # Se determina a partir de qué columna tomar\n",
    "            antiCols = np.arange(start_col, nCols)  # Se toman las últimas columnas a partir de la determinada, compensando el movimiento hacia la derecha\n",
    "            antiRows = diagSum - antiCols           # Se toman las últimas filas, inversamente a las columnas, compensando el desplazamiento hacia abajo\n",
    "        validIndices = (antiRows >= 0) & (antiRows < nRows) & (antiCols >= 0) & (antiCols < nCols)  # Se validan los límites de las filas y columnas de la anti-diagonal\n",
    "        antiRows = antiRows[validIndices]       # Se descartan los índices de las filas fuera de los límites\n",
    "        antiCols = antiCols[validIndices]       # Se descartan los índices de las columnas fuera de los límites\n",
    "        newBoard[antiRows, antiCols] = 2        # Toda la anti-diagonal es atacada\n",
    "\n",
    "        newBoard[i][j] = 1                      # Se coloca la reina en la casilla (i, j)\n",
    "\n",
    "        newBoard = tuple([tuple(row) for row in newBoard])  # Se convierte a una tupla de tuplas para ser inmutable\n",
    "\n",
    "        op = f\"Reina colocada en ({i}, {j})\"    # Se indica la operación de dónde se coloca la reina\n",
    "\n",
    "        successors.append(ss.node(newBoard, op=op, depth=node.depth+1, parent=node))    # Se añade el nuevo nodo a la lista de sucesores\n",
    "    return successors"
   ]
  },
  {
   "cell_type": "markdown",
   "id": "865a7e12",
   "metadata": {},
   "source": [
    "### Definición de Función de Meta"
   ]
  },
  {
   "cell_type": "code",
   "execution_count": 7,
   "id": "5ea11f75",
   "metadata": {},
   "outputs": [],
   "source": [
    "def goalEightQueens(*states):\n",
    "    start = states[0]           # Este es el estado que se va a evaluar\n",
    "    final = states[1]           # Se almacena el estado meta\n",
    "    if final == None:           # Si el estado meta no existe se determina si el estado a evaluar es un estado final válido\n",
    "        unique, counts = np.unique(start.state, return_counts=True)     # Se obtienen todos los valores únicos en la matriz y su cantidad de apariciones\n",
    "        cellValues = dict(zip(unique, counts))                          # Se mapea cada valor único con sus apariciones\n",
    "        return 0 not in cellValues and cellValues.get(1) == 8           # Se evalúa si todas las reinas han sido colocadas y si no hay ninguna casilla libre\n",
    "    else:                       # Si el estado meta existe, se compara con el estado a evaluar\n",
    "        return (start.state == final.state).all()           # Se determina si el estado a evaluar es igual que el estado meta\n"
   ]
  },
  {
   "cell_type": "markdown",
   "id": "cf7cdecc",
   "metadata": {},
   "source": [
    "### Declaración del Estado Final"
   ]
  },
  {
   "cell_type": "code",
   "execution_count": 8,
   "id": "c6ce8ba3",
   "metadata": {},
   "outputs": [
    {
     "name": "stdout",
     "output_type": "stream",
     "text": [
      "False\n"
     ]
    }
   ],
   "source": [
    "state8 = np.array([\n",
    "    [2, 2, 2, 1, 2, 2, 2, 2],\n",
    "    [2, 2, 2, 2, 2, 2, 1, 2],\n",
    "    [2, 2, 1, 2, 2, 2, 2, 2],\n",
    "    [2, 2, 2, 2, 2, 2, 2, 1],\n",
    "    [2, 1, 2, 2, 2, 2, 2, 2],\n",
    "    [2, 2, 2, 2, 1, 2, 2, 2],\n",
    "    [1, 2, 2, 2, 2, 2, 2, 2],\n",
    "    [2, 2, 2, 2, 2, 1, 2, 2],\n",
    "])\n",
    "finalNode = ss.node(state8, op=\"Final\")\n",
    "print(goalEightQueens(startNode, finalNode))"
   ]
  },
  {
   "cell_type": "markdown",
   "id": "aa802124",
   "metadata": {},
   "source": [
    "### Impresión de Caminos"
   ]
  },
  {
   "cell_type": "code",
   "execution_count": 9,
   "id": "34a1eed6",
   "metadata": {},
   "outputs": [],
   "source": [
    "def print_path(seq):\n",
    "    for state, op, depth in seq:\n",
    "        print(f\"Operación: {op}, Profundidad: {depth}\")\n",
    "        print(\"Tablero:\")\n",
    "        printChessBoard(state, 1)"
   ]
  },
  {
   "cell_type": "markdown",
   "id": "9d36e6d9",
   "metadata": {},
   "source": [
    "### Búsqueda BFS"
   ]
  },
  {
   "cell_type": "markdown",
   "id": "6c8975b7",
   "metadata": {},
   "source": [
    "#### BFS sin Meta"
   ]
  },
  {
   "cell_type": "code",
   "execution_count": 10,
   "id": "33dc09d6",
   "metadata": {},
   "outputs": [],
   "source": [
    "bfsSequence = ss.BlindSearch(startNode, placeQueenSequence, goalEightQueens, strategy=\"bfs\")\n",
    "bfsRandom = ss.BlindSearch(startNode, placeQueenRandom, goalEightQueens, strategy=\"bfs\")"
   ]
  },
  {
   "cell_type": "markdown",
   "id": "17e850a8",
   "metadata": {},
   "source": [
    "##### Sucesión en Secuencia"
   ]
  },
  {
   "cell_type": "code",
   "execution_count": 11,
   "id": "b8417dc3",
   "metadata": {},
   "outputs": [
    {
     "name": "stdout",
     "output_type": "stream",
     "text": [
      "finished in 118878 iterations\n",
      "Se acabaron los estados: 91\n"
     ]
    }
   ],
   "source": [
    "resultBS = bfsSequence.find()"
   ]
  },
  {
   "cell_type": "markdown",
   "id": "730c5394",
   "metadata": {},
   "source": [
    "###### Resultados"
   ]
  },
  {
   "cell_type": "code",
   "execution_count": 12,
   "id": "eb188204",
   "metadata": {},
   "outputs": [
    {
     "name": "stdout",
     "output_type": "stream",
     "text": [
      "Q x x x x x x x   [1 2 2 2 2 2 2 2]\n",
      "x x x x Q x x x   [2 2 2 2 1 2 2 2]\n",
      "x x x x x x x Q   [2 2 2 2 2 2 2 1]\n",
      "x x x x x Q x x   [2 2 2 2 2 1 2 2]\n",
      "x x Q x x x x x   [2 2 1 2 2 2 2 2]\n",
      "x x x x x x Q x   [2 2 2 2 2 2 1 2]\n",
      "x Q x x x x x x   [2 1 2 2 2 2 2 2]\n",
      "x x x Q x x x x   [2 2 2 1 2 2 2 2]\n"
     ]
    }
   ],
   "source": [
    "printChessBoard(resultBS.state, 1)"
   ]
  },
  {
   "cell_type": "markdown",
   "id": "8c8a004f",
   "metadata": {},
   "source": [
    "###### Camino"
   ]
  },
  {
   "cell_type": "code",
   "execution_count": 13,
   "id": "1923f28f",
   "metadata": {},
   "outputs": [
    {
     "name": "stdout",
     "output_type": "stream",
     "text": [
      "Longitud de la Solución: 9\n",
      "Operación: Inicio, Profundidad: 0\n",
      "Tablero:\n",
      ". . . . . . . .   [0 0 0 0 0 0 0 0]\n",
      ". . . . . . . .   [0 0 0 0 0 0 0 0]\n",
      ". . . . . . . .   [0 0 0 0 0 0 0 0]\n",
      ". . . . . . . .   [0 0 0 0 0 0 0 0]\n",
      ". . . . . . . .   [0 0 0 0 0 0 0 0]\n",
      ". . . . . . . .   [0 0 0 0 0 0 0 0]\n",
      ". . . . . . . .   [0 0 0 0 0 0 0 0]\n",
      ". . . . . . . .   [0 0 0 0 0 0 0 0]\n",
      "Operación: Reina colocada en (0, 0), Profundidad: 1\n",
      "Tablero:\n",
      "Q x x x x x x x   [1 2 2 2 2 2 2 2]\n",
      "x x . . . . . .   [2 2 0 0 0 0 0 0]\n",
      "x . x . . . . .   [2 0 2 0 0 0 0 0]\n",
      "x . . x . . . .   [2 0 0 2 0 0 0 0]\n",
      "x . . . x . . .   [2 0 0 0 2 0 0 0]\n",
      "x . . . . x . .   [2 0 0 0 0 2 0 0]\n",
      "x . . . . . x .   [2 0 0 0 0 0 2 0]\n",
      "x . . . . . . x   [2 0 0 0 0 0 0 2]\n",
      "Operación: Reina colocada en (1, 4), Profundidad: 2\n",
      "Tablero:\n",
      "Q x x x x x x x   [1 2 2 2 2 2 2 2]\n",
      "x x x x Q x x x   [2 2 2 2 1 2 2 2]\n",
      "x . x x x x . .   [2 0 2 2 2 2 0 0]\n",
      "x . x x x . x .   [2 0 2 2 2 0 2 0]\n",
      "x x . . x . . x   [2 2 0 0 2 0 0 2]\n",
      "x . . . x x . .   [2 0 0 0 2 2 0 0]\n",
      "x . . . x . x .   [2 0 0 0 2 0 2 0]\n",
      "x . . . x . . x   [2 0 0 0 2 0 0 2]\n",
      "Operación: Reina colocada en (2, 7), Profundidad: 3\n",
      "Tablero:\n",
      "Q x x x x x x x   [1 2 2 2 2 2 2 2]\n",
      "x x x x Q x x x   [2 2 2 2 1 2 2 2]\n",
      "x x x x x x x Q   [2 2 2 2 2 2 2 1]\n",
      "x . x x x . x x   [2 0 2 2 2 0 2 2]\n",
      "x x . . x x . x   [2 2 0 0 2 2 0 2]\n",
      "x . . . x x . x   [2 0 0 0 2 2 0 2]\n",
      "x . . x x . x x   [2 0 0 2 2 0 2 2]\n",
      "x . x . x . . x   [2 0 2 0 2 0 0 2]\n",
      "Operación: Reina colocada en (3, 5), Profundidad: 4\n",
      "Tablero:\n",
      "Q x x x x x x x   [1 2 2 2 2 2 2 2]\n",
      "x x x x Q x x x   [2 2 2 2 1 2 2 2]\n",
      "x x x x x x x Q   [2 2 2 2 2 2 2 1]\n",
      "x x x x x Q x x   [2 2 2 2 2 1 2 2]\n",
      "x x . . x x x x   [2 2 0 0 2 2 2 2]\n",
      "x . . x x x . x   [2 0 0 2 2 2 0 2]\n",
      "x . x x x x x x   [2 0 2 2 2 2 2 2]\n",
      "x x x . x x . x   [2 2 2 0 2 2 0 2]\n",
      "Operación: Reina colocada en (4, 2), Profundidad: 5\n",
      "Tablero:\n",
      "Q x x x x x x x   [1 2 2 2 2 2 2 2]\n",
      "x x x x Q x x x   [2 2 2 2 1 2 2 2]\n",
      "x x x x x x x Q   [2 2 2 2 2 2 2 1]\n",
      "x x x x x Q x x   [2 2 2 2 2 1 2 2]\n",
      "x x Q x x x x x   [2 2 1 2 2 2 2 2]\n",
      "x x x x x x . x   [2 2 2 2 2 2 0 2]\n",
      "x . x x x x x x   [2 0 2 2 2 2 2 2]\n",
      "x x x . x x . x   [2 2 2 0 2 2 0 2]\n",
      "Operación: Reina colocada en (5, 6), Profundidad: 6\n",
      "Tablero:\n",
      "Q x x x x x x x   [1 2 2 2 2 2 2 2]\n",
      "x x x x Q x x x   [2 2 2 2 1 2 2 2]\n",
      "x x x x x x x Q   [2 2 2 2 2 2 2 1]\n",
      "x x x x x Q x x   [2 2 2 2 2 1 2 2]\n",
      "x x Q x x x x x   [2 2 1 2 2 2 2 2]\n",
      "x x x x x x Q x   [2 2 2 2 2 2 1 2]\n",
      "x . x x x x x x   [2 0 2 2 2 2 2 2]\n",
      "x x x . x x x x   [2 2 2 0 2 2 2 2]\n",
      "Operación: Reina colocada en (6, 1), Profundidad: 7\n",
      "Tablero:\n",
      "Q x x x x x x x   [1 2 2 2 2 2 2 2]\n",
      "x x x x Q x x x   [2 2 2 2 1 2 2 2]\n",
      "x x x x x x x Q   [2 2 2 2 2 2 2 1]\n",
      "x x x x x Q x x   [2 2 2 2 2 1 2 2]\n",
      "x x Q x x x x x   [2 2 1 2 2 2 2 2]\n",
      "x x x x x x Q x   [2 2 2 2 2 2 1 2]\n",
      "x Q x x x x x x   [2 1 2 2 2 2 2 2]\n",
      "x x x . x x x x   [2 2 2 0 2 2 2 2]\n",
      "Operación: Reina colocada en (7, 3), Profundidad: 8\n",
      "Tablero:\n",
      "Q x x x x x x x   [1 2 2 2 2 2 2 2]\n",
      "x x x x Q x x x   [2 2 2 2 1 2 2 2]\n",
      "x x x x x x x Q   [2 2 2 2 2 2 2 1]\n",
      "x x x x x Q x x   [2 2 2 2 2 1 2 2]\n",
      "x x Q x x x x x   [2 2 1 2 2 2 2 2]\n",
      "x x x x x x Q x   [2 2 2 2 2 2 1 2]\n",
      "x Q x x x x x x   [2 1 2 2 2 2 2 2]\n",
      "x x x Q x x x x   [2 2 2 1 2 2 2 2]\n"
     ]
    }
   ],
   "source": [
    "pathBS = resultBS.getPath()\n",
    "print(\"Longitud de la Solución: %s\" %len(pathBS))\n",
    "print_path(pathBS)"
   ]
  },
  {
   "cell_type": "markdown",
   "id": "e5ccbd94",
   "metadata": {},
   "source": [
    "##### Sucesión Aleatoria"
   ]
  },
  {
   "cell_type": "code",
   "execution_count": 14,
   "id": "1a81ea67",
   "metadata": {},
   "outputs": [
    {
     "name": "stdout",
     "output_type": "stream",
     "text": [
      "finished in 118878 iterations\n",
      "Se acabaron los estados: 91\n"
     ]
    }
   ],
   "source": [
    "resultBR = bfsRandom.find()"
   ]
  },
  {
   "cell_type": "markdown",
   "id": "c842c77b",
   "metadata": {},
   "source": [
    "###### Resultados"
   ]
  },
  {
   "cell_type": "code",
   "execution_count": 15,
   "id": "c7e9fe48",
   "metadata": {},
   "outputs": [
    {
     "name": "stdout",
     "output_type": "stream",
     "text": [
      "Q x x x x x x x   [1 2 2 2 2 2 2 2]\n",
      "x x x x x Q x x   [2 2 2 2 2 1 2 2]\n",
      "x x x x x x x Q   [2 2 2 2 2 2 2 1]\n",
      "x x Q x x x x x   [2 2 1 2 2 2 2 2]\n",
      "x x x x x x Q x   [2 2 2 2 2 2 1 2]\n",
      "x x x Q x x x x   [2 2 2 1 2 2 2 2]\n",
      "x Q x x x x x x   [2 1 2 2 2 2 2 2]\n",
      "x x x x Q x x x   [2 2 2 2 1 2 2 2]\n"
     ]
    }
   ],
   "source": [
    "printChessBoard(resultBR.state, 1)"
   ]
  },
  {
   "cell_type": "markdown",
   "id": "fba05909",
   "metadata": {},
   "source": [
    "###### Camino"
   ]
  },
  {
   "cell_type": "code",
   "execution_count": 16,
   "id": "e5508211",
   "metadata": {},
   "outputs": [
    {
     "name": "stdout",
     "output_type": "stream",
     "text": [
      "Longitud de la Solución: 9\n",
      "Operación: Inicio, Profundidad: 0\n",
      "Tablero:\n",
      ". . . . . . . .   [0 0 0 0 0 0 0 0]\n",
      ". . . . . . . .   [0 0 0 0 0 0 0 0]\n",
      ". . . . . . . .   [0 0 0 0 0 0 0 0]\n",
      ". . . . . . . .   [0 0 0 0 0 0 0 0]\n",
      ". . . . . . . .   [0 0 0 0 0 0 0 0]\n",
      ". . . . . . . .   [0 0 0 0 0 0 0 0]\n",
      ". . . . . . . .   [0 0 0 0 0 0 0 0]\n",
      ". . . . . . . .   [0 0 0 0 0 0 0 0]\n",
      "Operación: Reina colocada en (1, 5), Profundidad: 1\n",
      "Tablero:\n",
      ". . . . x x x .   [0 0 0 0 2 2 2 0]\n",
      "x x x x x Q x x   [2 2 2 2 2 1 2 2]\n",
      ". . . . x x x .   [0 0 0 0 2 2 2 0]\n",
      ". . . x . x . x   [0 0 0 2 0 2 0 2]\n",
      ". . x . . x . .   [0 0 2 0 0 2 0 0]\n",
      ". x . . . x . .   [0 2 0 0 0 2 0 0]\n",
      "x . . . . x . .   [2 0 0 0 0 2 0 0]\n",
      ". . . . . x . .   [0 0 0 0 0 2 0 0]\n",
      "Operación: Reina colocada en (0, 0), Profundidad: 2\n",
      "Tablero:\n",
      "Q x x x x x x x   [1 2 2 2 2 2 2 2]\n",
      "x x x x x Q x x   [2 2 2 2 2 1 2 2]\n",
      "x . x . x x x .   [2 0 2 0 2 2 2 0]\n",
      "x . . x . x . x   [2 0 0 2 0 2 0 2]\n",
      "x . x . x x . .   [2 0 2 0 2 2 0 0]\n",
      "x x . . . x . .   [2 2 0 0 0 2 0 0]\n",
      "x . . . . x x .   [2 0 0 0 0 2 2 0]\n",
      "x . . . . x . x   [2 0 0 0 0 2 0 2]\n",
      "Operación: Reina colocada en (3, 2), Profundidad: 3\n",
      "Tablero:\n",
      "Q x x x x x x x   [1 2 2 2 2 2 2 2]\n",
      "x x x x x Q x x   [2 2 2 2 2 1 2 2]\n",
      "x x x x x x x .   [2 2 2 2 2 2 2 0]\n",
      "x x Q x x x x x   [2 2 1 2 2 2 2 2]\n",
      "x x x x x x . .   [2 2 2 2 2 2 0 0]\n",
      "x x x . x x . .   [2 2 2 0 2 2 0 0]\n",
      "x . x . . x x .   [2 0 2 0 0 2 2 0]\n",
      "x . x . . x x x   [2 0 2 0 0 2 2 2]\n",
      "Operación: Reina colocada en (6, 1), Profundidad: 4\n",
      "Tablero:\n",
      "Q x x x x x x x   [1 2 2 2 2 2 2 2]\n",
      "x x x x x Q x x   [2 2 2 2 2 1 2 2]\n",
      "x x x x x x x .   [2 2 2 2 2 2 2 0]\n",
      "x x Q x x x x x   [2 2 1 2 2 2 2 2]\n",
      "x x x x x x . .   [2 2 2 2 2 2 0 0]\n",
      "x x x . x x . .   [2 2 2 0 2 2 0 0]\n",
      "x Q x x x x x x   [2 1 2 2 2 2 2 2]\n",
      "x x x . . x x x   [2 2 2 0 0 2 2 2]\n",
      "Operación: Reina colocada en (5, 3), Profundidad: 5\n",
      "Tablero:\n",
      "Q x x x x x x x   [1 2 2 2 2 2 2 2]\n",
      "x x x x x Q x x   [2 2 2 2 2 1 2 2]\n",
      "x x x x x x x .   [2 2 2 2 2 2 2 0]\n",
      "x x Q x x x x x   [2 2 1 2 2 2 2 2]\n",
      "x x x x x x . .   [2 2 2 2 2 2 0 0]\n",
      "x x x Q x x x x   [2 2 2 1 2 2 2 2]\n",
      "x Q x x x x x x   [2 1 2 2 2 2 2 2]\n",
      "x x x x . x x x   [2 2 2 2 0 2 2 2]\n",
      "Operación: Reina colocada en (4, 6), Profundidad: 6\n",
      "Tablero:\n",
      "Q x x x x x x x   [1 2 2 2 2 2 2 2]\n",
      "x x x x x Q x x   [2 2 2 2 2 1 2 2]\n",
      "x x x x x x x .   [2 2 2 2 2 2 2 0]\n",
      "x x Q x x x x x   [2 2 1 2 2 2 2 2]\n",
      "x x x x x x Q x   [2 2 2 2 2 2 1 2]\n",
      "x x x Q x x x x   [2 2 2 1 2 2 2 2]\n",
      "x Q x x x x x x   [2 1 2 2 2 2 2 2]\n",
      "x x x x . x x x   [2 2 2 2 0 2 2 2]\n",
      "Operación: Reina colocada en (2, 7), Profundidad: 7\n",
      "Tablero:\n",
      "Q x x x x x x x   [1 2 2 2 2 2 2 2]\n",
      "x x x x x Q x x   [2 2 2 2 2 1 2 2]\n",
      "x x x x x x x Q   [2 2 2 2 2 2 2 1]\n",
      "x x Q x x x x x   [2 2 1 2 2 2 2 2]\n",
      "x x x x x x Q x   [2 2 2 2 2 2 1 2]\n",
      "x x x Q x x x x   [2 2 2 1 2 2 2 2]\n",
      "x Q x x x x x x   [2 1 2 2 2 2 2 2]\n",
      "x x x x . x x x   [2 2 2 2 0 2 2 2]\n",
      "Operación: Reina colocada en (7, 4), Profundidad: 8\n",
      "Tablero:\n",
      "Q x x x x x x x   [1 2 2 2 2 2 2 2]\n",
      "x x x x x Q x x   [2 2 2 2 2 1 2 2]\n",
      "x x x x x x x Q   [2 2 2 2 2 2 2 1]\n",
      "x x Q x x x x x   [2 2 1 2 2 2 2 2]\n",
      "x x x x x x Q x   [2 2 2 2 2 2 1 2]\n",
      "x x x Q x x x x   [2 2 2 1 2 2 2 2]\n",
      "x Q x x x x x x   [2 1 2 2 2 2 2 2]\n",
      "x x x x Q x x x   [2 2 2 2 1 2 2 2]\n"
     ]
    }
   ],
   "source": [
    "pathBR = resultBR.getPath()\n",
    "print(\"Longitud de la Solución: %s\" %len(pathBR))\n",
    "print_path(pathBR)"
   ]
  },
  {
   "cell_type": "markdown",
   "id": "5f1043e0",
   "metadata": {},
   "source": [
    "#### BFS con Meta"
   ]
  },
  {
   "cell_type": "code",
   "execution_count": 17,
   "id": "106c959b",
   "metadata": {},
   "outputs": [],
   "source": [
    "bfsSequenceGoal = ss.BlindSearch(startNode, placeQueenSequence, goalEightQueens, goal_state=finalNode, strategy=\"bfs\")\n",
    "bfsRandomGoal = ss.BlindSearch(startNode, placeQueenRandom, goalEightQueens, goal_state=finalNode, strategy=\"bfs\")"
   ]
  },
  {
   "cell_type": "markdown",
   "id": "700213dc",
   "metadata": {},
   "source": [
    "##### Sucesión en Secuencia"
   ]
  },
  {
   "cell_type": "code",
   "execution_count": 18,
   "id": "13247a42",
   "metadata": {},
   "outputs": [
    {
     "name": "stdout",
     "output_type": "stream",
     "text": [
      "finished in 118918 iterations\n",
      "Se acabaron los estados: 51\n"
     ]
    }
   ],
   "source": [
    "resultBSG = bfsSequenceGoal.find()"
   ]
  },
  {
   "cell_type": "markdown",
   "id": "11f976f7",
   "metadata": {},
   "source": [
    "###### Resultados"
   ]
  },
  {
   "cell_type": "code",
   "execution_count": 19,
   "id": "f9dd18af",
   "metadata": {},
   "outputs": [
    {
     "name": "stdout",
     "output_type": "stream",
     "text": [
      "x x x Q x x x x   [2 2 2 1 2 2 2 2]\n",
      "x x x x x x Q x   [2 2 2 2 2 2 1 2]\n",
      "x x Q x x x x x   [2 2 1 2 2 2 2 2]\n",
      "x x x x x x x Q   [2 2 2 2 2 2 2 1]\n",
      "x Q x x x x x x   [2 1 2 2 2 2 2 2]\n",
      "x x x x Q x x x   [2 2 2 2 1 2 2 2]\n",
      "Q x x x x x x x   [1 2 2 2 2 2 2 2]\n",
      "x x x x x Q x x   [2 2 2 2 2 1 2 2]\n"
     ]
    }
   ],
   "source": [
    "printChessBoard(resultBSG.state, 1)"
   ]
  },
  {
   "cell_type": "markdown",
   "id": "69a77437",
   "metadata": {},
   "source": [
    "###### Camino"
   ]
  },
  {
   "cell_type": "code",
   "execution_count": 20,
   "id": "1230512f",
   "metadata": {},
   "outputs": [
    {
     "name": "stdout",
     "output_type": "stream",
     "text": [
      "Longitud de la Solución: 9\n",
      "Operación: Inicio, Profundidad: 0\n",
      "Tablero:\n",
      ". . . . . . . .   [0 0 0 0 0 0 0 0]\n",
      ". . . . . . . .   [0 0 0 0 0 0 0 0]\n",
      ". . . . . . . .   [0 0 0 0 0 0 0 0]\n",
      ". . . . . . . .   [0 0 0 0 0 0 0 0]\n",
      ". . . . . . . .   [0 0 0 0 0 0 0 0]\n",
      ". . . . . . . .   [0 0 0 0 0 0 0 0]\n",
      ". . . . . . . .   [0 0 0 0 0 0 0 0]\n",
      ". . . . . . . .   [0 0 0 0 0 0 0 0]\n",
      "Operación: Reina colocada en (0, 3), Profundidad: 1\n",
      "Tablero:\n",
      "x x x Q x x x x   [2 2 2 1 2 2 2 2]\n",
      ". . x x x . . .   [0 0 2 2 2 0 0 0]\n",
      ". x . x . x . .   [0 2 0 2 0 2 0 0]\n",
      "x . . x . . x .   [2 0 0 2 0 0 2 0]\n",
      ". . . x . . . x   [0 0 0 2 0 0 0 2]\n",
      ". . . x . . . .   [0 0 0 2 0 0 0 0]\n",
      ". . . x . . . .   [0 0 0 2 0 0 0 0]\n",
      ". . . x . . . .   [0 0 0 2 0 0 0 0]\n",
      "Operación: Reina colocada en (1, 6), Profundidad: 2\n",
      "Tablero:\n",
      "x x x Q x x x x   [2 2 2 1 2 2 2 2]\n",
      "x x x x x x Q x   [2 2 2 2 2 2 1 2]\n",
      ". x . x . x x x   [0 2 0 2 0 2 2 2]\n",
      "x . . x x . x .   [2 0 0 2 2 0 2 0]\n",
      ". . . x . . x x   [0 0 0 2 0 0 2 2]\n",
      ". . x x . . x .   [0 0 2 2 0 0 2 0]\n",
      ". x . x . . x .   [0 2 0 2 0 0 2 0]\n",
      "x . . x . . x .   [2 0 0 2 0 0 2 0]\n",
      "Operación: Reina colocada en (2, 2), Profundidad: 3\n",
      "Tablero:\n",
      "x x x Q x x x x   [2 2 2 1 2 2 2 2]\n",
      "x x x x x x Q x   [2 2 2 2 2 2 1 2]\n",
      "x x Q x x x x x   [2 2 1 2 2 2 2 2]\n",
      "x x x x x . x .   [2 2 2 2 2 0 2 0]\n",
      "x . x x x . x x   [2 0 2 2 2 0 2 2]\n",
      ". . x x . x x .   [0 0 2 2 0 2 2 0]\n",
      ". x x x . . x .   [0 2 2 2 0 0 2 0]\n",
      "x . x x . . x x   [2 0 2 2 0 0 2 2]\n",
      "Operación: Reina colocada en (3, 7), Profundidad: 4\n",
      "Tablero:\n",
      "x x x Q x x x x   [2 2 2 1 2 2 2 2]\n",
      "x x x x x x Q x   [2 2 2 2 2 2 1 2]\n",
      "x x Q x x x x x   [2 2 1 2 2 2 2 2]\n",
      "x x x x x x x Q   [2 2 2 2 2 2 2 1]\n",
      "x . x x x . x x   [2 0 2 2 2 0 2 2]\n",
      ". . x x . x x x   [0 0 2 2 0 2 2 2]\n",
      ". x x x x . x x   [0 2 2 2 2 0 2 2]\n",
      "x . x x . . x x   [2 0 2 2 0 0 2 2]\n",
      "Operación: Reina colocada en (4, 1), Profundidad: 5\n",
      "Tablero:\n",
      "x x x Q x x x x   [2 2 2 1 2 2 2 2]\n",
      "x x x x x x Q x   [2 2 2 2 2 2 1 2]\n",
      "x x Q x x x x x   [2 2 1 2 2 2 2 2]\n",
      "x x x x x x x Q   [2 2 2 2 2 2 2 1]\n",
      "x Q x x x x x x   [2 1 2 2 2 2 2 2]\n",
      "x x x x . x x x   [2 2 2 2 0 2 2 2]\n",
      ". x x x x . x x   [0 2 2 2 2 0 2 2]\n",
      "x x x x x . x x   [2 2 2 2 2 0 2 2]\n",
      "Operación: Reina colocada en (5, 4), Profundidad: 6\n",
      "Tablero:\n",
      "x x x Q x x x x   [2 2 2 1 2 2 2 2]\n",
      "x x x x x x Q x   [2 2 2 2 2 2 1 2]\n",
      "x x Q x x x x x   [2 2 1 2 2 2 2 2]\n",
      "x x x x x x x Q   [2 2 2 2 2 2 2 1]\n",
      "x Q x x x x x x   [2 1 2 2 2 2 2 2]\n",
      "x x x x Q x x x   [2 2 2 2 1 2 2 2]\n",
      ". x x x x x x x   [0 2 2 2 2 2 2 2]\n",
      "x x x x x . x x   [2 2 2 2 2 0 2 2]\n",
      "Operación: Reina colocada en (6, 0), Profundidad: 7\n",
      "Tablero:\n",
      "x x x Q x x x x   [2 2 2 1 2 2 2 2]\n",
      "x x x x x x Q x   [2 2 2 2 2 2 1 2]\n",
      "x x Q x x x x x   [2 2 1 2 2 2 2 2]\n",
      "x x x x x x x Q   [2 2 2 2 2 2 2 1]\n",
      "x Q x x x x x x   [2 1 2 2 2 2 2 2]\n",
      "x x x x Q x x x   [2 2 2 2 1 2 2 2]\n",
      "Q x x x x x x x   [1 2 2 2 2 2 2 2]\n",
      "x x x x x . x x   [2 2 2 2 2 0 2 2]\n",
      "Operación: Reina colocada en (7, 5), Profundidad: 8\n",
      "Tablero:\n",
      "x x x Q x x x x   [2 2 2 1 2 2 2 2]\n",
      "x x x x x x Q x   [2 2 2 2 2 2 1 2]\n",
      "x x Q x x x x x   [2 2 1 2 2 2 2 2]\n",
      "x x x x x x x Q   [2 2 2 2 2 2 2 1]\n",
      "x Q x x x x x x   [2 1 2 2 2 2 2 2]\n",
      "x x x x Q x x x   [2 2 2 2 1 2 2 2]\n",
      "Q x x x x x x x   [1 2 2 2 2 2 2 2]\n",
      "x x x x x Q x x   [2 2 2 2 2 1 2 2]\n"
     ]
    }
   ],
   "source": [
    "pathBSG = resultBSG.getPath()\n",
    "print(\"Longitud de la Solución: %s\" %len(pathBSG))\n",
    "print_path(pathBSG)"
   ]
  },
  {
   "cell_type": "markdown",
   "id": "05ec6c93",
   "metadata": {},
   "source": [
    "##### Sucesión Aleatoria"
   ]
  },
  {
   "cell_type": "code",
   "execution_count": 21,
   "id": "12d6f2ce",
   "metadata": {},
   "outputs": [
    {
     "name": "stdout",
     "output_type": "stream",
     "text": [
      "finished in 118895 iterations\n",
      "Se acabaron los estados: 74\n"
     ]
    }
   ],
   "source": [
    "resultBRG = bfsRandomGoal.find()"
   ]
  },
  {
   "cell_type": "markdown",
   "id": "4ca43378",
   "metadata": {},
   "source": [
    "###### Resultados"
   ]
  },
  {
   "cell_type": "code",
   "execution_count": 22,
   "id": "11446363",
   "metadata": {},
   "outputs": [
    {
     "name": "stdout",
     "output_type": "stream",
     "text": [
      "x x x Q x x x x   [2 2 2 1 2 2 2 2]\n",
      "x x x x x x Q x   [2 2 2 2 2 2 1 2]\n",
      "x x Q x x x x x   [2 2 1 2 2 2 2 2]\n",
      "x x x x x x x Q   [2 2 2 2 2 2 2 1]\n",
      "x Q x x x x x x   [2 1 2 2 2 2 2 2]\n",
      "x x x x Q x x x   [2 2 2 2 1 2 2 2]\n",
      "Q x x x x x x x   [1 2 2 2 2 2 2 2]\n",
      "x x x x x Q x x   [2 2 2 2 2 1 2 2]\n"
     ]
    }
   ],
   "source": [
    "printChessBoard(resultBRG.state, 1)"
   ]
  },
  {
   "cell_type": "markdown",
   "id": "08af7e88",
   "metadata": {},
   "source": [
    "###### Camino"
   ]
  },
  {
   "cell_type": "code",
   "execution_count": 23,
   "id": "2efc6ac9",
   "metadata": {},
   "outputs": [
    {
     "name": "stdout",
     "output_type": "stream",
     "text": [
      "Longitud de la Solución: 9\n",
      "Operación: Inicio, Profundidad: 0\n",
      "Tablero:\n",
      ". . . . . . . .   [0 0 0 0 0 0 0 0]\n",
      ". . . . . . . .   [0 0 0 0 0 0 0 0]\n",
      ". . . . . . . .   [0 0 0 0 0 0 0 0]\n",
      ". . . . . . . .   [0 0 0 0 0 0 0 0]\n",
      ". . . . . . . .   [0 0 0 0 0 0 0 0]\n",
      ". . . . . . . .   [0 0 0 0 0 0 0 0]\n",
      ". . . . . . . .   [0 0 0 0 0 0 0 0]\n",
      ". . . . . . . .   [0 0 0 0 0 0 0 0]\n",
      "Operación: Reina colocada en (4, 1), Profundidad: 1\n",
      "Tablero:\n",
      ". x . . . x . .   [0 2 0 0 0 2 0 0]\n",
      ". x . . x . . .   [0 2 0 0 2 0 0 0]\n",
      ". x . x . . . .   [0 2 0 2 0 0 0 0]\n",
      "x x x . . . . .   [2 2 2 0 0 0 0 0]\n",
      "x Q x x x x x x   [2 1 2 2 2 2 2 2]\n",
      "x x x . . . . .   [2 2 2 0 0 0 0 0]\n",
      ". x . x . . . .   [0 2 0 2 0 0 0 0]\n",
      ". x . . x . . .   [0 2 0 0 2 0 0 0]\n",
      "Operación: Reina colocada en (3, 7), Profundidad: 2\n",
      "Tablero:\n",
      ". x . . x x . x   [0 2 0 0 2 2 0 2]\n",
      ". x . . x x . x   [0 2 0 0 2 2 0 2]\n",
      ". x . x . . x x   [0 2 0 2 0 0 2 2]\n",
      "x x x x x x x Q   [2 2 2 2 2 2 2 1]\n",
      "x Q x x x x x x   [2 1 2 2 2 2 2 2]\n",
      "x x x . . x . x   [2 2 2 0 0 2 0 2]\n",
      ". x . x x . . x   [0 2 0 2 2 0 0 2]\n",
      ". x . x x . . x   [0 2 0 2 2 0 0 2]\n",
      "Operación: Reina colocada en (7, 5), Profundidad: 3\n",
      "Tablero:\n",
      ". x . . x x . x   [0 2 0 0 2 2 0 2]\n",
      ". x . . x x . x   [0 2 0 0 2 2 0 2]\n",
      "x x . x . x x x   [2 2 0 2 0 2 2 2]\n",
      "x x x x x x x Q   [2 2 2 2 2 2 2 1]\n",
      "x Q x x x x x x   [2 1 2 2 2 2 2 2]\n",
      "x x x x . x . x   [2 2 2 2 0 2 0 2]\n",
      ". x . x x x x x   [0 2 0 2 2 2 2 2]\n",
      "x x x x x Q x x   [2 2 2 2 2 1 2 2]\n",
      "Operación: Reina colocada en (0, 3), Profundidad: 4\n",
      "Tablero:\n",
      "x x x Q x x x x   [2 2 2 1 2 2 2 2]\n",
      ". x x x x x . x   [0 2 2 2 2 2 0 2]\n",
      "x x . x . x x x   [2 2 0 2 0 2 2 2]\n",
      "x x x x x x x Q   [2 2 2 2 2 2 2 1]\n",
      "x Q x x x x x x   [2 1 2 2 2 2 2 2]\n",
      "x x x x . x . x   [2 2 2 2 0 2 0 2]\n",
      ". x . x x x x x   [0 2 0 2 2 2 2 2]\n",
      "x x x x x Q x x   [2 2 2 2 2 1 2 2]\n",
      "Operación: Reina colocada en (5, 4), Profundidad: 5\n",
      "Tablero:\n",
      "x x x Q x x x x   [2 2 2 1 2 2 2 2]\n",
      "x x x x x x . x   [2 2 2 2 2 2 0 2]\n",
      "x x . x x x x x   [2 2 0 2 2 2 2 2]\n",
      "x x x x x x x Q   [2 2 2 2 2 2 2 1]\n",
      "x Q x x x x x x   [2 1 2 2 2 2 2 2]\n",
      "x x x x Q x x x   [2 2 2 2 1 2 2 2]\n",
      ". x . x x x x x   [0 2 0 2 2 2 2 2]\n",
      "x x x x x Q x x   [2 2 2 2 2 1 2 2]\n",
      "Operación: Reina colocada en (2, 2), Profundidad: 6\n",
      "Tablero:\n",
      "x x x Q x x x x   [2 2 2 1 2 2 2 2]\n",
      "x x x x x x . x   [2 2 2 2 2 2 0 2]\n",
      "x x Q x x x x x   [2 2 1 2 2 2 2 2]\n",
      "x x x x x x x Q   [2 2 2 2 2 2 2 1]\n",
      "x Q x x x x x x   [2 1 2 2 2 2 2 2]\n",
      "x x x x Q x x x   [2 2 2 2 1 2 2 2]\n",
      ". x x x x x x x   [0 2 2 2 2 2 2 2]\n",
      "x x x x x Q x x   [2 2 2 2 2 1 2 2]\n",
      "Operación: Reina colocada en (6, 0), Profundidad: 7\n",
      "Tablero:\n",
      "x x x Q x x x x   [2 2 2 1 2 2 2 2]\n",
      "x x x x x x . x   [2 2 2 2 2 2 0 2]\n",
      "x x Q x x x x x   [2 2 1 2 2 2 2 2]\n",
      "x x x x x x x Q   [2 2 2 2 2 2 2 1]\n",
      "x Q x x x x x x   [2 1 2 2 2 2 2 2]\n",
      "x x x x Q x x x   [2 2 2 2 1 2 2 2]\n",
      "Q x x x x x x x   [1 2 2 2 2 2 2 2]\n",
      "x x x x x Q x x   [2 2 2 2 2 1 2 2]\n",
      "Operación: Reina colocada en (1, 6), Profundidad: 8\n",
      "Tablero:\n",
      "x x x Q x x x x   [2 2 2 1 2 2 2 2]\n",
      "x x x x x x Q x   [2 2 2 2 2 2 1 2]\n",
      "x x Q x x x x x   [2 2 1 2 2 2 2 2]\n",
      "x x x x x x x Q   [2 2 2 2 2 2 2 1]\n",
      "x Q x x x x x x   [2 1 2 2 2 2 2 2]\n",
      "x x x x Q x x x   [2 2 2 2 1 2 2 2]\n",
      "Q x x x x x x x   [1 2 2 2 2 2 2 2]\n",
      "x x x x x Q x x   [2 2 2 2 2 1 2 2]\n"
     ]
    }
   ],
   "source": [
    "pathBRG = resultBRG.getPath()\n",
    "print(\"Longitud de la Solución: %s\" %len(pathBRG))\n",
    "print_path(pathBRG)"
   ]
  },
  {
   "cell_type": "markdown",
   "id": "25056004",
   "metadata": {},
   "source": [
    "### Búsqueda DFS"
   ]
  },
  {
   "cell_type": "markdown",
   "id": "5d073ff5",
   "metadata": {},
   "source": [
    "#### DFS sin Meta"
   ]
  },
  {
   "cell_type": "code",
   "execution_count": 24,
   "id": "23c6582d",
   "metadata": {},
   "outputs": [],
   "source": [
    "dfsSequence = ss.BlindSearch(startNode, placeQueenSequence, goalEightQueens, strategy=\"dfs\")\n",
    "dfsRandom = ss.BlindSearch(startNode, placeQueenRandom, goalEightQueens, strategy=\"dfs\")"
   ]
  },
  {
   "cell_type": "markdown",
   "id": "048de67d",
   "metadata": {},
   "source": [
    "##### Sucesión en Secuencia"
   ]
  },
  {
   "cell_type": "code",
   "execution_count": 25,
   "id": "e1d77d1d",
   "metadata": {},
   "outputs": [
    {
     "name": "stdout",
     "output_type": "stream",
     "text": [
      "finished in 1969 iterations\n",
      "Se acabaron los estados: 150\n"
     ]
    }
   ],
   "source": [
    "resultDS = dfsSequence.find()"
   ]
  },
  {
   "cell_type": "markdown",
   "id": "c0a7c991",
   "metadata": {},
   "source": [
    "###### Resultados"
   ]
  },
  {
   "cell_type": "code",
   "execution_count": 26,
   "id": "60c0eb4f",
   "metadata": {},
   "outputs": [
    {
     "name": "stdout",
     "output_type": "stream",
     "text": [
      "x x x x Q x x x   [2 2 2 2 1 2 2 2]\n",
      "x x x x x x Q x   [2 2 2 2 2 2 1 2]\n",
      "x Q x x x x x x   [2 1 2 2 2 2 2 2]\n",
      "x x x x x Q x x   [2 2 2 2 2 1 2 2]\n",
      "x x Q x x x x x   [2 2 1 2 2 2 2 2]\n",
      "Q x x x x x x x   [1 2 2 2 2 2 2 2]\n",
      "x x x Q x x x x   [2 2 2 1 2 2 2 2]\n",
      "x x x x x x x Q   [2 2 2 2 2 2 2 1]\n"
     ]
    }
   ],
   "source": [
    "printChessBoard(resultDS.state, 1)"
   ]
  },
  {
   "cell_type": "markdown",
   "id": "a01a7e32",
   "metadata": {},
   "source": [
    "###### Camino"
   ]
  },
  {
   "cell_type": "code",
   "execution_count": 27,
   "id": "2d3aa7f5",
   "metadata": {},
   "outputs": [
    {
     "name": "stdout",
     "output_type": "stream",
     "text": [
      "Longitud de la Solución: 9\n",
      "Operación: Inicio, Profundidad: 0\n",
      "Tablero:\n",
      ". . . . . . . .   [0 0 0 0 0 0 0 0]\n",
      ". . . . . . . .   [0 0 0 0 0 0 0 0]\n",
      ". . . . . . . .   [0 0 0 0 0 0 0 0]\n",
      ". . . . . . . .   [0 0 0 0 0 0 0 0]\n",
      ". . . . . . . .   [0 0 0 0 0 0 0 0]\n",
      ". . . . . . . .   [0 0 0 0 0 0 0 0]\n",
      ". . . . . . . .   [0 0 0 0 0 0 0 0]\n",
      ". . . . . . . .   [0 0 0 0 0 0 0 0]\n",
      "Operación: Reina colocada en (7, 7), Profundidad: 1\n",
      "Tablero:\n",
      "x . . . . . . x   [2 0 0 0 0 0 0 2]\n",
      ". x . . . . . x   [0 2 0 0 0 0 0 2]\n",
      ". . x . . . . x   [0 0 2 0 0 0 0 2]\n",
      ". . . x . . . x   [0 0 0 2 0 0 0 2]\n",
      ". . . . x . . x   [0 0 0 0 2 0 0 2]\n",
      ". . . . . x . x   [0 0 0 0 0 2 0 2]\n",
      ". . . . . . x x   [0 0 0 0 0 0 2 2]\n",
      "x x x x x x x Q   [2 2 2 2 2 2 2 1]\n",
      "Operación: Reina colocada en (6, 3), Profundidad: 2\n",
      "Tablero:\n",
      "x . . x . . . x   [2 0 0 2 0 0 0 2]\n",
      ". x . x . . . x   [0 2 0 2 0 0 0 2]\n",
      ". . x x . . . x   [0 0 2 2 0 0 0 2]\n",
      "x . . x . . x x   [2 0 0 2 0 0 2 2]\n",
      ". x . x x x . x   [0 2 0 2 2 2 0 2]\n",
      ". . x x x x . x   [0 0 2 2 2 2 0 2]\n",
      "x x x Q x x x x   [2 2 2 1 2 2 2 2]\n",
      "x x x x x x x Q   [2 2 2 2 2 2 2 1]\n",
      "Operación: Reina colocada en (5, 0), Profundidad: 3\n",
      "Tablero:\n",
      "x . . x . x . x   [2 0 0 2 0 2 0 2]\n",
      "x x . x x . . x   [2 2 0 2 2 0 0 2]\n",
      "x . x x . . . x   [2 0 2 2 0 0 0 2]\n",
      "x . x x . . x x   [2 0 2 2 0 0 2 2]\n",
      "x x . x x x . x   [2 2 0 2 2 2 0 2]\n",
      "Q x x x x x x x   [1 2 2 2 2 2 2 2]\n",
      "x x x Q x x x x   [2 2 2 1 2 2 2 2]\n",
      "x x x x x x x Q   [2 2 2 2 2 2 2 1]\n",
      "Operación: Reina colocada en (4, 2), Profundidad: 4\n",
      "Tablero:\n",
      "x . x x . x x x   [2 0 2 2 0 2 2 2]\n",
      "x x x x x x . x   [2 2 2 2 2 2 0 2]\n",
      "x . x x x . . x   [2 0 2 2 2 0 0 2]\n",
      "x x x x . . x x   [2 2 2 2 0 0 2 2]\n",
      "x x Q x x x x x   [2 2 1 2 2 2 2 2]\n",
      "Q x x x x x x x   [1 2 2 2 2 2 2 2]\n",
      "x x x Q x x x x   [2 2 2 1 2 2 2 2]\n",
      "x x x x x x x Q   [2 2 2 2 2 2 2 1]\n",
      "Operación: Reina colocada en (3, 5), Profundidad: 5\n",
      "Tablero:\n",
      "x . x x . x x x   [2 0 2 2 0 2 2 2]\n",
      "x x x x x x . x   [2 2 2 2 2 2 0 2]\n",
      "x . x x x x x x   [2 0 2 2 2 2 2 2]\n",
      "x x x x x Q x x   [2 2 2 2 2 1 2 2]\n",
      "x x Q x x x x x   [2 2 1 2 2 2 2 2]\n",
      "Q x x x x x x x   [1 2 2 2 2 2 2 2]\n",
      "x x x Q x x x x   [2 2 2 1 2 2 2 2]\n",
      "x x x x x x x Q   [2 2 2 2 2 2 2 1]\n",
      "Operación: Reina colocada en (2, 1), Profundidad: 6\n",
      "Tablero:\n",
      "x x x x . x x x   [2 2 2 2 0 2 2 2]\n",
      "x x x x x x . x   [2 2 2 2 2 2 0 2]\n",
      "x Q x x x x x x   [2 1 2 2 2 2 2 2]\n",
      "x x x x x Q x x   [2 2 2 2 2 1 2 2]\n",
      "x x Q x x x x x   [2 2 1 2 2 2 2 2]\n",
      "Q x x x x x x x   [1 2 2 2 2 2 2 2]\n",
      "x x x Q x x x x   [2 2 2 1 2 2 2 2]\n",
      "x x x x x x x Q   [2 2 2 2 2 2 2 1]\n",
      "Operación: Reina colocada en (1, 6), Profundidad: 7\n",
      "Tablero:\n",
      "x x x x . x x x   [2 2 2 2 0 2 2 2]\n",
      "x x x x x x Q x   [2 2 2 2 2 2 1 2]\n",
      "x Q x x x x x x   [2 1 2 2 2 2 2 2]\n",
      "x x x x x Q x x   [2 2 2 2 2 1 2 2]\n",
      "x x Q x x x x x   [2 2 1 2 2 2 2 2]\n",
      "Q x x x x x x x   [1 2 2 2 2 2 2 2]\n",
      "x x x Q x x x x   [2 2 2 1 2 2 2 2]\n",
      "x x x x x x x Q   [2 2 2 2 2 2 2 1]\n",
      "Operación: Reina colocada en (0, 4), Profundidad: 8\n",
      "Tablero:\n",
      "x x x x Q x x x   [2 2 2 2 1 2 2 2]\n",
      "x x x x x x Q x   [2 2 2 2 2 2 1 2]\n",
      "x Q x x x x x x   [2 1 2 2 2 2 2 2]\n",
      "x x x x x Q x x   [2 2 2 2 2 1 2 2]\n",
      "x x Q x x x x x   [2 2 1 2 2 2 2 2]\n",
      "Q x x x x x x x   [1 2 2 2 2 2 2 2]\n",
      "x x x Q x x x x   [2 2 2 1 2 2 2 2]\n",
      "x x x x x x x Q   [2 2 2 2 2 2 2 1]\n"
     ]
    }
   ],
   "source": [
    "pathDS = resultDS.getPath()\n",
    "print(\"Longitud de la Solución: %s\" %len(pathDS))\n",
    "print_path(pathDS)"
   ]
  },
  {
   "cell_type": "markdown",
   "id": "2c9c282a",
   "metadata": {},
   "source": [
    "##### Sucesión Aleatoria"
   ]
  },
  {
   "cell_type": "code",
   "execution_count": 28,
   "id": "1e0dd234",
   "metadata": {},
   "outputs": [
    {
     "name": "stdout",
     "output_type": "stream",
     "text": [
      "finished in 764 iterations\n",
      "Se acabaron los estados: 139\n"
     ]
    }
   ],
   "source": [
    "resultDR = dfsRandom.find()"
   ]
  },
  {
   "cell_type": "markdown",
   "id": "c3412c48",
   "metadata": {},
   "source": [
    "###### Resultados"
   ]
  },
  {
   "cell_type": "code",
   "execution_count": 29,
   "id": "556d645a",
   "metadata": {},
   "outputs": [
    {
     "name": "stdout",
     "output_type": "stream",
     "text": [
      "x x x x x Q x x   [2 2 2 2 2 1 2 2]\n",
      "x x x Q x x x x   [2 2 2 1 2 2 2 2]\n",
      "x Q x x x x x x   [2 1 2 2 2 2 2 2]\n",
      "x x x x x x x Q   [2 2 2 2 2 2 2 1]\n",
      "x x x x Q x x x   [2 2 2 2 1 2 2 2]\n",
      "x x x x x x Q x   [2 2 2 2 2 2 1 2]\n",
      "Q x x x x x x x   [1 2 2 2 2 2 2 2]\n",
      "x x Q x x x x x   [2 2 1 2 2 2 2 2]\n"
     ]
    }
   ],
   "source": [
    "printChessBoard(resultDR.state, 1)"
   ]
  },
  {
   "cell_type": "markdown",
   "id": "b5a6a6c4",
   "metadata": {},
   "source": [
    "###### Camino"
   ]
  },
  {
   "cell_type": "code",
   "execution_count": 30,
   "id": "71861180",
   "metadata": {},
   "outputs": [
    {
     "name": "stdout",
     "output_type": "stream",
     "text": [
      "Longitud de la Solución: 9\n",
      "Operación: Inicio, Profundidad: 0\n",
      "Tablero:\n",
      ". . . . . . . .   [0 0 0 0 0 0 0 0]\n",
      ". . . . . . . .   [0 0 0 0 0 0 0 0]\n",
      ". . . . . . . .   [0 0 0 0 0 0 0 0]\n",
      ". . . . . . . .   [0 0 0 0 0 0 0 0]\n",
      ". . . . . . . .   [0 0 0 0 0 0 0 0]\n",
      ". . . . . . . .   [0 0 0 0 0 0 0 0]\n",
      ". . . . . . . .   [0 0 0 0 0 0 0 0]\n",
      ". . . . . . . .   [0 0 0 0 0 0 0 0]\n",
      "Operación: Reina colocada en (2, 1), Profundidad: 1\n",
      "Tablero:\n",
      ". x . x . . . .   [0 2 0 2 0 0 0 0]\n",
      "x x x . . . . .   [2 2 2 0 0 0 0 0]\n",
      "x Q x x x x x x   [2 1 2 2 2 2 2 2]\n",
      "x x x . . . . .   [2 2 2 0 0 0 0 0]\n",
      ". x . x . . . .   [0 2 0 2 0 0 0 0]\n",
      ". x . . x . . .   [0 2 0 0 2 0 0 0]\n",
      ". x . . . x . .   [0 2 0 0 0 2 0 0]\n",
      ". x . . . . x .   [0 2 0 0 0 0 2 0]\n",
      "Operación: Reina colocada en (4, 4), Profundidad: 2\n",
      "Tablero:\n",
      "x x . x x . . .   [2 2 0 2 2 0 0 0]\n",
      "x x x . x . . x   [2 2 2 0 2 0 0 2]\n",
      "x Q x x x x x x   [2 1 2 2 2 2 2 2]\n",
      "x x x x x x . .   [2 2 2 2 2 2 0 0]\n",
      "x x x x Q x x x   [2 2 2 2 1 2 2 2]\n",
      ". x . x x x . .   [0 2 0 2 2 2 0 0]\n",
      ". x x . x x x .   [0 2 2 0 2 2 2 0]\n",
      ". x . . x . x x   [0 2 0 0 2 0 2 2]\n",
      "Operación: Reina colocada en (5, 6), Profundidad: 3\n",
      "Tablero:\n",
      "x x . x x . x .   [2 2 0 2 2 0 2 0]\n",
      "x x x . x . x x   [2 2 2 0 2 0 2 2]\n",
      "x Q x x x x x x   [2 1 2 2 2 2 2 2]\n",
      "x x x x x x x .   [2 2 2 2 2 2 2 0]\n",
      "x x x x Q x x x   [2 2 2 2 1 2 2 2]\n",
      "x x x x x x Q x   [2 2 2 2 2 2 1 2]\n",
      ". x x . x x x x   [0 2 2 0 2 2 2 2]\n",
      ". x . . x . x x   [0 2 0 0 2 0 2 2]\n",
      "Operación: Reina colocada en (3, 7), Profundidad: 4\n",
      "Tablero:\n",
      "x x . x x . x x   [2 2 0 2 2 0 2 2]\n",
      "x x x . x x x x   [2 2 2 0 2 2 2 2]\n",
      "x Q x x x x x x   [2 1 2 2 2 2 2 2]\n",
      "x x x x x x x Q   [2 2 2 2 2 2 2 1]\n",
      "x x x x Q x x x   [2 2 2 2 1 2 2 2]\n",
      "x x x x x x Q x   [2 2 2 2 2 2 1 2]\n",
      ". x x . x x x x   [0 2 2 0 2 2 2 2]\n",
      ". x . x x . x x   [0 2 0 2 2 0 2 2]\n",
      "Operación: Reina colocada en (1, 3), Profundidad: 5\n",
      "Tablero:\n",
      "x x x x x . x x   [2 2 2 2 2 0 2 2]\n",
      "x x x Q x x x x   [2 2 2 1 2 2 2 2]\n",
      "x Q x x x x x x   [2 1 2 2 2 2 2 2]\n",
      "x x x x x x x Q   [2 2 2 2 2 2 2 1]\n",
      "x x x x Q x x x   [2 2 2 2 1 2 2 2]\n",
      "x x x x x x Q x   [2 2 2 2 2 2 1 2]\n",
      ". x x x x x x x   [0 2 2 2 2 2 2 2]\n",
      ". x . x x . x x   [0 2 0 2 2 0 2 2]\n",
      "Operación: Reina colocada en (0, 5), Profundidad: 6\n",
      "Tablero:\n",
      "x x x x x Q x x   [2 2 2 2 2 1 2 2]\n",
      "x x x Q x x x x   [2 2 2 1 2 2 2 2]\n",
      "x Q x x x x x x   [2 1 2 2 2 2 2 2]\n",
      "x x x x x x x Q   [2 2 2 2 2 2 2 1]\n",
      "x x x x Q x x x   [2 2 2 2 1 2 2 2]\n",
      "x x x x x x Q x   [2 2 2 2 2 2 1 2]\n",
      ". x x x x x x x   [0 2 2 2 2 2 2 2]\n",
      ". x . x x x x x   [0 2 0 2 2 2 2 2]\n",
      "Operación: Reina colocada en (7, 2), Profundidad: 7\n",
      "Tablero:\n",
      "x x x x x Q x x   [2 2 2 2 2 1 2 2]\n",
      "x x x Q x x x x   [2 2 2 1 2 2 2 2]\n",
      "x Q x x x x x x   [2 1 2 2 2 2 2 2]\n",
      "x x x x x x x Q   [2 2 2 2 2 2 2 1]\n",
      "x x x x Q x x x   [2 2 2 2 1 2 2 2]\n",
      "x x x x x x Q x   [2 2 2 2 2 2 1 2]\n",
      ". x x x x x x x   [0 2 2 2 2 2 2 2]\n",
      "x x Q x x x x x   [2 2 1 2 2 2 2 2]\n",
      "Operación: Reina colocada en (6, 0), Profundidad: 8\n",
      "Tablero:\n",
      "x x x x x Q x x   [2 2 2 2 2 1 2 2]\n",
      "x x x Q x x x x   [2 2 2 1 2 2 2 2]\n",
      "x Q x x x x x x   [2 1 2 2 2 2 2 2]\n",
      "x x x x x x x Q   [2 2 2 2 2 2 2 1]\n",
      "x x x x Q x x x   [2 2 2 2 1 2 2 2]\n",
      "x x x x x x Q x   [2 2 2 2 2 2 1 2]\n",
      "Q x x x x x x x   [1 2 2 2 2 2 2 2]\n",
      "x x Q x x x x x   [2 2 1 2 2 2 2 2]\n"
     ]
    }
   ],
   "source": [
    "pathDR = resultDR.getPath()\n",
    "print(\"Longitud de la Solución: %s\" %len(pathDR))\n",
    "print_path(pathDR)"
   ]
  },
  {
   "cell_type": "markdown",
   "id": "039064b6",
   "metadata": {},
   "source": [
    "#### DFS con Meta"
   ]
  },
  {
   "cell_type": "code",
   "execution_count": 31,
   "id": "87c96ed1",
   "metadata": {},
   "outputs": [],
   "source": [
    "dfsSequenceGoal = ss.BlindSearch(startNode, placeQueenSequence, goalEightQueens, goal_state=finalNode, strategy=\"dfs\")\n",
    "dfsRandomGoal = ss.BlindSearch(startNode, placeQueenRandom, goalEightQueens, goal_state=finalNode, strategy=\"dfs\")"
   ]
  },
  {
   "cell_type": "markdown",
   "id": "c7d38480",
   "metadata": {},
   "source": [
    "##### Sucesión en Secuencia"
   ]
  },
  {
   "cell_type": "code",
   "execution_count": 32,
   "id": "67fd48f7",
   "metadata": {},
   "outputs": [
    {
     "name": "stdout",
     "output_type": "stream",
     "text": [
      "finished in 22308 iterations\n",
      "Se acabaron los estados: 153\n"
     ]
    }
   ],
   "source": [
    "resultDSG = dfsSequenceGoal.find()"
   ]
  },
  {
   "cell_type": "markdown",
   "id": "8bc9c0cb",
   "metadata": {},
   "source": [
    "###### Resultados"
   ]
  },
  {
   "cell_type": "code",
   "execution_count": 33,
   "id": "54f43d61",
   "metadata": {},
   "outputs": [
    {
     "name": "stdout",
     "output_type": "stream",
     "text": [
      "x x x Q x x x x   [2 2 2 1 2 2 2 2]\n",
      "x x x x x x Q x   [2 2 2 2 2 2 1 2]\n",
      "x x Q x x x x x   [2 2 1 2 2 2 2 2]\n",
      "x x x x x x x Q   [2 2 2 2 2 2 2 1]\n",
      "x Q x x x x x x   [2 1 2 2 2 2 2 2]\n",
      "x x x x Q x x x   [2 2 2 2 1 2 2 2]\n",
      "Q x x x x x x x   [1 2 2 2 2 2 2 2]\n",
      "x x x x x Q x x   [2 2 2 2 2 1 2 2]\n"
     ]
    }
   ],
   "source": [
    "printChessBoard(resultDSG.state, 1)"
   ]
  },
  {
   "cell_type": "markdown",
   "id": "a14165cd",
   "metadata": {},
   "source": [
    "###### Camino"
   ]
  },
  {
   "cell_type": "code",
   "execution_count": 34,
   "id": "bacb135a",
   "metadata": {},
   "outputs": [
    {
     "name": "stdout",
     "output_type": "stream",
     "text": [
      "Longitud de la Solución: 9\n",
      "Operación: Inicio, Profundidad: 0\n",
      "Tablero:\n",
      ". . . . . . . .   [0 0 0 0 0 0 0 0]\n",
      ". . . . . . . .   [0 0 0 0 0 0 0 0]\n",
      ". . . . . . . .   [0 0 0 0 0 0 0 0]\n",
      ". . . . . . . .   [0 0 0 0 0 0 0 0]\n",
      ". . . . . . . .   [0 0 0 0 0 0 0 0]\n",
      ". . . . . . . .   [0 0 0 0 0 0 0 0]\n",
      ". . . . . . . .   [0 0 0 0 0 0 0 0]\n",
      ". . . . . . . .   [0 0 0 0 0 0 0 0]\n",
      "Operación: Reina colocada en (7, 5), Profundidad: 1\n",
      "Tablero:\n",
      ". . . . . x . .   [0 0 0 0 0 2 0 0]\n",
      ". . . . . x . .   [0 0 0 0 0 2 0 0]\n",
      "x . . . . x . .   [2 0 0 0 0 2 0 0]\n",
      ". x . . . x . .   [0 2 0 0 0 2 0 0]\n",
      ". . x . . x . .   [0 0 2 0 0 2 0 0]\n",
      ". . . x . x . x   [0 0 0 2 0 2 0 2]\n",
      ". . . . x x x .   [0 0 0 0 2 2 2 0]\n",
      "x x x x x Q x x   [2 2 2 2 2 1 2 2]\n",
      "Operación: Reina colocada en (6, 0), Profundidad: 2\n",
      "Tablero:\n",
      "x . . . . x x .   [2 0 0 0 0 2 2 0]\n",
      "x . . . . x . .   [2 0 0 0 0 2 0 0]\n",
      "x . . . x x . .   [2 0 0 0 2 2 0 0]\n",
      "x x . x . x . .   [2 2 0 2 0 2 0 0]\n",
      "x . x . . x . .   [2 0 2 0 0 2 0 0]\n",
      "x x . x . x . x   [2 2 0 2 0 2 0 2]\n",
      "Q x x x x x x x   [1 2 2 2 2 2 2 2]\n",
      "x x x x x Q x x   [2 2 2 2 2 1 2 2]\n",
      "Operación: Reina colocada en (5, 4), Profundidad: 3\n",
      "Tablero:\n",
      "x . . . x x x .   [2 0 0 0 2 2 2 0]\n",
      "x . . . x x . .   [2 0 0 0 2 2 0 0]\n",
      "x x . . x x . x   [2 2 0 0 2 2 0 2]\n",
      "x x x x x x x .   [2 2 2 2 2 2 2 0]\n",
      "x . x x x x . .   [2 0 2 2 2 2 0 0]\n",
      "x x x x Q x x x   [2 2 2 2 1 2 2 2]\n",
      "Q x x x x x x x   [1 2 2 2 2 2 2 2]\n",
      "x x x x x Q x x   [2 2 2 2 2 1 2 2]\n",
      "Operación: Reina colocada en (4, 1), Profundidad: 4\n",
      "Tablero:\n",
      "x x . . x x x .   [2 2 0 0 2 2 2 0]\n",
      "x x . . x x . .   [2 2 0 0 2 2 0 0]\n",
      "x x . x x x . x   [2 2 0 2 2 2 0 2]\n",
      "x x x x x x x .   [2 2 2 2 2 2 2 0]\n",
      "x Q x x x x x x   [2 1 2 2 2 2 2 2]\n",
      "x x x x Q x x x   [2 2 2 2 1 2 2 2]\n",
      "Q x x x x x x x   [1 2 2 2 2 2 2 2]\n",
      "x x x x x Q x x   [2 2 2 2 2 1 2 2]\n",
      "Operación: Reina colocada en (3, 7), Profundidad: 5\n",
      "Tablero:\n",
      "x x . . x x x x   [2 2 0 0 2 2 2 2]\n",
      "x x . . x x . x   [2 2 0 0 2 2 0 2]\n",
      "x x . x x x x x   [2 2 0 2 2 2 2 2]\n",
      "x x x x x x x Q   [2 2 2 2 2 2 2 1]\n",
      "x Q x x x x x x   [2 1 2 2 2 2 2 2]\n",
      "x x x x Q x x x   [2 2 2 2 1 2 2 2]\n",
      "Q x x x x x x x   [1 2 2 2 2 2 2 2]\n",
      "x x x x x Q x x   [2 2 2 2 2 1 2 2]\n",
      "Operación: Reina colocada en (2, 2), Profundidad: 6\n",
      "Tablero:\n",
      "x x x . x x x x   [2 2 2 0 2 2 2 2]\n",
      "x x x x x x . x   [2 2 2 2 2 2 0 2]\n",
      "x x Q x x x x x   [2 2 1 2 2 2 2 2]\n",
      "x x x x x x x Q   [2 2 2 2 2 2 2 1]\n",
      "x Q x x x x x x   [2 1 2 2 2 2 2 2]\n",
      "x x x x Q x x x   [2 2 2 2 1 2 2 2]\n",
      "Q x x x x x x x   [1 2 2 2 2 2 2 2]\n",
      "x x x x x Q x x   [2 2 2 2 2 1 2 2]\n",
      "Operación: Reina colocada en (1, 6), Profundidad: 7\n",
      "Tablero:\n",
      "x x x . x x x x   [2 2 2 0 2 2 2 2]\n",
      "x x x x x x Q x   [2 2 2 2 2 2 1 2]\n",
      "x x Q x x x x x   [2 2 1 2 2 2 2 2]\n",
      "x x x x x x x Q   [2 2 2 2 2 2 2 1]\n",
      "x Q x x x x x x   [2 1 2 2 2 2 2 2]\n",
      "x x x x Q x x x   [2 2 2 2 1 2 2 2]\n",
      "Q x x x x x x x   [1 2 2 2 2 2 2 2]\n",
      "x x x x x Q x x   [2 2 2 2 2 1 2 2]\n",
      "Operación: Reina colocada en (0, 3), Profundidad: 8\n",
      "Tablero:\n",
      "x x x Q x x x x   [2 2 2 1 2 2 2 2]\n",
      "x x x x x x Q x   [2 2 2 2 2 2 1 2]\n",
      "x x Q x x x x x   [2 2 1 2 2 2 2 2]\n",
      "x x x x x x x Q   [2 2 2 2 2 2 2 1]\n",
      "x Q x x x x x x   [2 1 2 2 2 2 2 2]\n",
      "x x x x Q x x x   [2 2 2 2 1 2 2 2]\n",
      "Q x x x x x x x   [1 2 2 2 2 2 2 2]\n",
      "x x x x x Q x x   [2 2 2 2 2 1 2 2]\n"
     ]
    }
   ],
   "source": [
    "pathDSG = resultDSG.getPath()\n",
    "print(\"Longitud de la Solución: %s\" %len(pathDSG))\n",
    "print_path(pathDSG)"
   ]
  },
  {
   "cell_type": "markdown",
   "id": "098cde2e",
   "metadata": {},
   "source": [
    "##### Sucesión Aleatoria"
   ]
  },
  {
   "cell_type": "code",
   "execution_count": 35,
   "id": "152285e7",
   "metadata": {},
   "outputs": [
    {
     "name": "stdout",
     "output_type": "stream",
     "text": [
      "finished in 47914 iterations\n",
      "Se acabaron los estados: 136\n"
     ]
    }
   ],
   "source": [
    "resultDRG = dfsRandomGoal.find()"
   ]
  },
  {
   "cell_type": "markdown",
   "id": "c1082585",
   "metadata": {},
   "source": [
    "###### Resultados"
   ]
  },
  {
   "cell_type": "code",
   "execution_count": 36,
   "id": "deeb5fb1",
   "metadata": {},
   "outputs": [
    {
     "name": "stdout",
     "output_type": "stream",
     "text": [
      "x x x Q x x x x   [2 2 2 1 2 2 2 2]\n",
      "x x x x x x Q x   [2 2 2 2 2 2 1 2]\n",
      "x x Q x x x x x   [2 2 1 2 2 2 2 2]\n",
      "x x x x x x x Q   [2 2 2 2 2 2 2 1]\n",
      "x Q x x x x x x   [2 1 2 2 2 2 2 2]\n",
      "x x x x Q x x x   [2 2 2 2 1 2 2 2]\n",
      "Q x x x x x x x   [1 2 2 2 2 2 2 2]\n",
      "x x x x x Q x x   [2 2 2 2 2 1 2 2]\n"
     ]
    }
   ],
   "source": [
    "printChessBoard(resultDRG.state, 1)"
   ]
  },
  {
   "cell_type": "markdown",
   "id": "f48023d7",
   "metadata": {},
   "source": [
    "###### Camino"
   ]
  },
  {
   "cell_type": "code",
   "execution_count": 37,
   "id": "e180b316",
   "metadata": {},
   "outputs": [
    {
     "name": "stdout",
     "output_type": "stream",
     "text": [
      "Longitud de la Solución: 9\n",
      "Operación: Inicio, Profundidad: 0\n",
      "Tablero:\n",
      ". . . . . . . .   [0 0 0 0 0 0 0 0]\n",
      ". . . . . . . .   [0 0 0 0 0 0 0 0]\n",
      ". . . . . . . .   [0 0 0 0 0 0 0 0]\n",
      ". . . . . . . .   [0 0 0 0 0 0 0 0]\n",
      ". . . . . . . .   [0 0 0 0 0 0 0 0]\n",
      ". . . . . . . .   [0 0 0 0 0 0 0 0]\n",
      ". . . . . . . .   [0 0 0 0 0 0 0 0]\n",
      ". . . . . . . .   [0 0 0 0 0 0 0 0]\n",
      "Operación: Reina colocada en (7, 5), Profundidad: 1\n",
      "Tablero:\n",
      ". . . . . x . .   [0 0 0 0 0 2 0 0]\n",
      ". . . . . x . .   [0 0 0 0 0 2 0 0]\n",
      "x . . . . x . .   [2 0 0 0 0 2 0 0]\n",
      ". x . . . x . .   [0 2 0 0 0 2 0 0]\n",
      ". . x . . x . .   [0 0 2 0 0 2 0 0]\n",
      ". . . x . x . x   [0 0 0 2 0 2 0 2]\n",
      ". . . . x x x .   [0 0 0 0 2 2 2 0]\n",
      "x x x x x Q x x   [2 2 2 2 2 1 2 2]\n",
      "Operación: Reina colocada en (5, 4), Profundidad: 2\n",
      "Tablero:\n",
      ". . . . x x . .   [0 0 0 0 2 2 0 0]\n",
      "x . . . x x . .   [2 0 0 0 2 2 0 0]\n",
      "x x . . x x . x   [2 2 0 0 2 2 0 2]\n",
      ". x x . x x x .   [0 2 2 0 2 2 2 0]\n",
      ". . x x x x . .   [0 0 2 2 2 2 0 0]\n",
      "x x x x Q x x x   [2 2 2 2 1 2 2 2]\n",
      ". . . x x x x .   [0 0 0 2 2 2 2 0]\n",
      "x x x x x Q x x   [2 2 2 2 2 1 2 2]\n",
      "Operación: Reina colocada en (2, 2), Profundidad: 3\n",
      "Tablero:\n",
      "x . x . x x . .   [2 0 2 0 2 2 0 0]\n",
      "x x x x x x . .   [2 2 2 2 2 2 0 0]\n",
      "x x Q x x x x x   [2 2 1 2 2 2 2 2]\n",
      ". x x x x x x .   [0 2 2 2 2 2 2 0]\n",
      "x . x x x x . .   [2 0 2 2 2 2 0 0]\n",
      "x x x x Q x x x   [2 2 2 2 1 2 2 2]\n",
      ". . x x x x x .   [0 0 2 2 2 2 2 0]\n",
      "x x x x x Q x x   [2 2 2 2 2 1 2 2]\n",
      "Operación: Reina colocada en (4, 1), Profundidad: 4\n",
      "Tablero:\n",
      "x x x . x x . .   [2 2 2 0 2 2 0 0]\n",
      "x x x x x x . .   [2 2 2 2 2 2 0 0]\n",
      "x x Q x x x x x   [2 2 1 2 2 2 2 2]\n",
      "x x x x x x x .   [2 2 2 2 2 2 2 0]\n",
      "x Q x x x x x x   [2 1 2 2 2 2 2 2]\n",
      "x x x x Q x x x   [2 2 2 2 1 2 2 2]\n",
      ". x x x x x x .   [0 2 2 2 2 2 2 0]\n",
      "x x x x x Q x x   [2 2 2 2 2 1 2 2]\n",
      "Operación: Reina colocada en (0, 3), Profundidad: 5\n",
      "Tablero:\n",
      "x x x Q x x x x   [2 2 2 1 2 2 2 2]\n",
      "x x x x x x . .   [2 2 2 2 2 2 0 0]\n",
      "x x Q x x x x x   [2 2 1 2 2 2 2 2]\n",
      "x x x x x x x .   [2 2 2 2 2 2 2 0]\n",
      "x Q x x x x x x   [2 1 2 2 2 2 2 2]\n",
      "x x x x Q x x x   [2 2 2 2 1 2 2 2]\n",
      ". x x x x x x .   [0 2 2 2 2 2 2 0]\n",
      "x x x x x Q x x   [2 2 2 2 2 1 2 2]\n",
      "Operación: Reina colocada en (3, 7), Profundidad: 6\n",
      "Tablero:\n",
      "x x x Q x x x x   [2 2 2 1 2 2 2 2]\n",
      "x x x x x x . x   [2 2 2 2 2 2 0 2]\n",
      "x x Q x x x x x   [2 2 1 2 2 2 2 2]\n",
      "x x x x x x x Q   [2 2 2 2 2 2 2 1]\n",
      "x Q x x x x x x   [2 1 2 2 2 2 2 2]\n",
      "x x x x Q x x x   [2 2 2 2 1 2 2 2]\n",
      ". x x x x x x x   [0 2 2 2 2 2 2 2]\n",
      "x x x x x Q x x   [2 2 2 2 2 1 2 2]\n",
      "Operación: Reina colocada en (6, 0), Profundidad: 7\n",
      "Tablero:\n",
      "x x x Q x x x x   [2 2 2 1 2 2 2 2]\n",
      "x x x x x x . x   [2 2 2 2 2 2 0 2]\n",
      "x x Q x x x x x   [2 2 1 2 2 2 2 2]\n",
      "x x x x x x x Q   [2 2 2 2 2 2 2 1]\n",
      "x Q x x x x x x   [2 1 2 2 2 2 2 2]\n",
      "x x x x Q x x x   [2 2 2 2 1 2 2 2]\n",
      "Q x x x x x x x   [1 2 2 2 2 2 2 2]\n",
      "x x x x x Q x x   [2 2 2 2 2 1 2 2]\n",
      "Operación: Reina colocada en (1, 6), Profundidad: 8\n",
      "Tablero:\n",
      "x x x Q x x x x   [2 2 2 1 2 2 2 2]\n",
      "x x x x x x Q x   [2 2 2 2 2 2 1 2]\n",
      "x x Q x x x x x   [2 2 1 2 2 2 2 2]\n",
      "x x x x x x x Q   [2 2 2 2 2 2 2 1]\n",
      "x Q x x x x x x   [2 1 2 2 2 2 2 2]\n",
      "x x x x Q x x x   [2 2 2 2 1 2 2 2]\n",
      "Q x x x x x x x   [1 2 2 2 2 2 2 2]\n",
      "x x x x x Q x x   [2 2 2 2 2 1 2 2]\n"
     ]
    }
   ],
   "source": [
    "pathDRG = resultDRG.getPath()\n",
    "print(\"Longitud de la Solución: %s\" %len(pathDRG))\n",
    "print_path(pathDRG)"
   ]
  },
  {
   "cell_type": "markdown",
   "id": "0b70a168",
   "metadata": {},
   "source": [
    "### Búsqueda A*"
   ]
  },
  {
   "cell_type": "markdown",
   "id": "c25e7c4f",
   "metadata": {},
   "source": [
    "#### Definición de la Heurística"
   ]
  },
  {
   "cell_type": "code",
   "execution_count": 38,
   "id": "57350162",
   "metadata": {},
   "outputs": [
    {
     "data": {
      "text/plain": [
       "<module 'SimpleSearch' from '/home/bape119/UMSNH/9thSemester/AI/projects/8QueensProblem/baile-8queens/src/SimpleSearch.py'>"
      ]
     },
     "execution_count": 38,
     "metadata": {},
     "output_type": "execute_result"
    }
   ],
   "source": [
    "def cellAvailability(state):\n",
    "    board = np.array(state)\n",
    "    placedQueens = np.sum(board == 1)\n",
    "    missingQueens = 8 - placedQueens\n",
    "    emptyCells = np.sum(board == 0)\n",
    "    h = missingQueens\n",
    "    if emptyCells < missingQueens:\n",
    "        h += max(0, (missingQueens - emptyCells))\n",
    "    return h\n",
    "\n",
    "def compareBoardsQueens(current, goal):\n",
    "    currentBoard = np.array(current)\n",
    "    goalBoard = np.array(goal)\n",
    "    commonQueens = np.sum((currentBoard == 1) & (goalBoard == 1))\n",
    "    return int(8 - commonQueens)\n",
    "\n",
    "def eightQueensHeuristic(*states):\n",
    "    current = states[0]\n",
    "    final = states[1]\n",
    "    if final == None:\n",
    "        return cellAvailability(current)\n",
    "    else:\n",
    "        return compareBoardsQueens(current, final)\n",
    "\n",
    "reload(ss)"
   ]
  },
  {
   "cell_type": "markdown",
   "id": "dc56a533",
   "metadata": {},
   "source": [
    "#### A* sin Meta"
   ]
  },
  {
   "cell_type": "code",
   "execution_count": 39,
   "id": "874083f2",
   "metadata": {},
   "outputs": [],
   "source": [
    "asSequence = ss.BlindSearch(startNode, placeQueenSequence, goalEightQueens, strategy=\"a*\", heuristic=eightQueensHeuristic)\n",
    "asRandom = ss.BlindSearch(startNode, placeQueenRandom, goalEightQueens, strategy=\"a*\", heuristic=eightQueensHeuristic)"
   ]
  },
  {
   "cell_type": "markdown",
   "id": "e28a98c4",
   "metadata": {},
   "source": [
    "##### Sucesión en Secuencia"
   ]
  },
  {
   "cell_type": "code",
   "execution_count": 40,
   "id": "74d87262",
   "metadata": {},
   "outputs": [
    {
     "name": "stdout",
     "output_type": "stream",
     "text": [
      "finished in 118878 iterations\n",
      "Se acabaron los estados: 91\n"
     ]
    }
   ],
   "source": [
    "resultAS = asSequence.find()"
   ]
  },
  {
   "cell_type": "markdown",
   "id": "ec8942d8",
   "metadata": {},
   "source": [
    "###### Resultados"
   ]
  },
  {
   "cell_type": "code",
   "execution_count": 41,
   "id": "040750ce",
   "metadata": {},
   "outputs": [
    {
     "name": "stdout",
     "output_type": "stream",
     "text": [
      "x x Q x x x x x   [2 2 1 2 2 2 2 2]\n",
      "x x x x Q x x x   [2 2 2 2 1 2 2 2]\n",
      "x x x x x x Q x   [2 2 2 2 2 2 1 2]\n",
      "Q x x x x x x x   [1 2 2 2 2 2 2 2]\n",
      "x x x Q x x x x   [2 2 2 1 2 2 2 2]\n",
      "x Q x x x x x x   [2 1 2 2 2 2 2 2]\n",
      "x x x x x x x Q   [2 2 2 2 2 2 2 1]\n",
      "x x x x x Q x x   [2 2 2 2 2 1 2 2]\n"
     ]
    }
   ],
   "source": [
    "printChessBoard(resultAS.state, 1)"
   ]
  },
  {
   "cell_type": "markdown",
   "id": "2bcda666",
   "metadata": {},
   "source": [
    "###### Camino"
   ]
  },
  {
   "cell_type": "code",
   "execution_count": 42,
   "id": "4fa1531c",
   "metadata": {},
   "outputs": [
    {
     "name": "stdout",
     "output_type": "stream",
     "text": [
      "Longitud de la Solución: 9\n",
      "Operación: Inicio, Profundidad: 0\n",
      "Tablero:\n",
      ". . . . . . . .   [0 0 0 0 0 0 0 0]\n",
      ". . . . . . . .   [0 0 0 0 0 0 0 0]\n",
      ". . . . . . . .   [0 0 0 0 0 0 0 0]\n",
      ". . . . . . . .   [0 0 0 0 0 0 0 0]\n",
      ". . . . . . . .   [0 0 0 0 0 0 0 0]\n",
      ". . . . . . . .   [0 0 0 0 0 0 0 0]\n",
      ". . . . . . . .   [0 0 0 0 0 0 0 0]\n",
      ". . . . . . . .   [0 0 0 0 0 0 0 0]\n",
      "Operación: Reina colocada en (1, 4), Profundidad: 1\n",
      "Tablero:\n",
      ". . . x x x . .   [0 0 0 2 2 2 0 0]\n",
      "x x x x Q x x x   [2 2 2 2 1 2 2 2]\n",
      ". . . x x x . .   [0 0 0 2 2 2 0 0]\n",
      ". . x . x . x .   [0 0 2 0 2 0 2 0]\n",
      ". x . . x . . x   [0 2 0 0 2 0 0 2]\n",
      "x . . . x . . .   [2 0 0 0 2 0 0 0]\n",
      ". . . . x . . .   [0 0 0 0 2 0 0 0]\n",
      ". . . . x . . .   [0 0 0 0 2 0 0 0]\n",
      "Operación: Reina colocada en (0, 2), Profundidad: 2\n",
      "Tablero:\n",
      "x x Q x x x x x   [2 2 1 2 2 2 2 2]\n",
      "x x x x Q x x x   [2 2 2 2 1 2 2 2]\n",
      "x . x x x x . .   [2 0 2 2 2 2 0 0]\n",
      ". . x . x x x .   [0 0 2 0 2 2 2 0]\n",
      ". x x . x . x x   [0 2 2 0 2 0 2 2]\n",
      "x . x . x . . x   [2 0 2 0 2 0 0 2]\n",
      ". . x . x . . .   [0 0 2 0 2 0 0 0]\n",
      ". . x . x . . .   [0 0 2 0 2 0 0 0]\n",
      "Operación: Reina colocada en (7, 5), Profundidad: 3\n",
      "Tablero:\n",
      "x x Q x x x x x   [2 2 1 2 2 2 2 2]\n",
      "x x x x Q x x x   [2 2 2 2 1 2 2 2]\n",
      "x . x x x x . .   [2 0 2 2 2 2 0 0]\n",
      ". x x . x x x .   [0 2 2 0 2 2 2 0]\n",
      ". x x . x x x x   [0 2 2 0 2 2 2 2]\n",
      "x . x x x x . x   [2 0 2 2 2 2 0 2]\n",
      ". . x . x x x .   [0 0 2 0 2 2 2 0]\n",
      "x x x x x Q x x   [2 2 2 2 2 1 2 2]\n",
      "Operación: Reina colocada en (2, 6), Profundidad: 4\n",
      "Tablero:\n",
      "x x Q x x x x x   [2 2 1 2 2 2 2 2]\n",
      "x x x x Q x x x   [2 2 2 2 1 2 2 2]\n",
      "x x x x x x Q x   [2 2 2 2 2 2 1 2]\n",
      ". x x . x x x x   [0 2 2 0 2 2 2 2]\n",
      ". x x . x x x x   [0 2 2 0 2 2 2 2]\n",
      "x . x x x x x x   [2 0 2 2 2 2 2 2]\n",
      ". . x . x x x .   [0 0 2 0 2 2 2 0]\n",
      "x x x x x Q x x   [2 2 2 2 2 1 2 2]\n",
      "Operación: Reina colocada en (6, 7), Profundidad: 5\n",
      "Tablero:\n",
      "x x Q x x x x x   [2 2 1 2 2 2 2 2]\n",
      "x x x x Q x x x   [2 2 2 2 1 2 2 2]\n",
      "x x x x x x Q x   [2 2 2 2 2 2 1 2]\n",
      ". x x . x x x x   [0 2 2 0 2 2 2 2]\n",
      ". x x . x x x x   [0 2 2 0 2 2 2 2]\n",
      "x . x x x x x x   [2 0 2 2 2 2 2 2]\n",
      "x x x x x x x Q   [2 2 2 2 2 2 2 1]\n",
      "x x x x x Q x x   [2 2 2 2 2 1 2 2]\n",
      "Operación: Reina colocada en (5, 1), Profundidad: 6\n",
      "Tablero:\n",
      "x x Q x x x x x   [2 2 1 2 2 2 2 2]\n",
      "x x x x Q x x x   [2 2 2 2 1 2 2 2]\n",
      "x x x x x x Q x   [2 2 2 2 2 2 1 2]\n",
      ". x x x x x x x   [0 2 2 2 2 2 2 2]\n",
      "x x x . x x x x   [2 2 2 0 2 2 2 2]\n",
      "x Q x x x x x x   [2 1 2 2 2 2 2 2]\n",
      "x x x x x x x Q   [2 2 2 2 2 2 2 1]\n",
      "x x x x x Q x x   [2 2 2 2 2 1 2 2]\n",
      "Operación: Reina colocada en (4, 3), Profundidad: 7\n",
      "Tablero:\n",
      "x x Q x x x x x   [2 2 1 2 2 2 2 2]\n",
      "x x x x Q x x x   [2 2 2 2 1 2 2 2]\n",
      "x x x x x x Q x   [2 2 2 2 2 2 1 2]\n",
      ". x x x x x x x   [0 2 2 2 2 2 2 2]\n",
      "x x x Q x x x x   [2 2 2 1 2 2 2 2]\n",
      "x Q x x x x x x   [2 1 2 2 2 2 2 2]\n",
      "x x x x x x x Q   [2 2 2 2 2 2 2 1]\n",
      "x x x x x Q x x   [2 2 2 2 2 1 2 2]\n",
      "Operación: Reina colocada en (3, 0), Profundidad: 8\n",
      "Tablero:\n",
      "x x Q x x x x x   [2 2 1 2 2 2 2 2]\n",
      "x x x x Q x x x   [2 2 2 2 1 2 2 2]\n",
      "x x x x x x Q x   [2 2 2 2 2 2 1 2]\n",
      "Q x x x x x x x   [1 2 2 2 2 2 2 2]\n",
      "x x x Q x x x x   [2 2 2 1 2 2 2 2]\n",
      "x Q x x x x x x   [2 1 2 2 2 2 2 2]\n",
      "x x x x x x x Q   [2 2 2 2 2 2 2 1]\n",
      "x x x x x Q x x   [2 2 2 2 2 1 2 2]\n"
     ]
    }
   ],
   "source": [
    "pathAS = resultAS.getPath()\n",
    "print(\"Longitud de la Solución: %s\" %len(pathAS))\n",
    "print_path(pathAS)"
   ]
  },
  {
   "cell_type": "markdown",
   "id": "5d52f7fc",
   "metadata": {},
   "source": [
    "##### Sucesión Aleatoria"
   ]
  },
  {
   "cell_type": "code",
   "execution_count": 43,
   "id": "7be97ded",
   "metadata": {},
   "outputs": [
    {
     "name": "stdout",
     "output_type": "stream",
     "text": [
      "finished in 118878 iterations\n",
      "Se acabaron los estados: 91\n"
     ]
    }
   ],
   "source": [
    "resultAR = asRandom.find()"
   ]
  },
  {
   "cell_type": "markdown",
   "id": "edf8cc6b",
   "metadata": {},
   "source": [
    "###### Resultados"
   ]
  },
  {
   "cell_type": "code",
   "execution_count": 44,
   "id": "bd7041ed",
   "metadata": {},
   "outputs": [
    {
     "name": "stdout",
     "output_type": "stream",
     "text": [
      "x x x x x Q x x   [2 2 2 2 2 1 2 2]\n",
      "x Q x x x x x x   [2 1 2 2 2 2 2 2]\n",
      "x x x x x x Q x   [2 2 2 2 2 2 1 2]\n",
      "Q x x x x x x x   [1 2 2 2 2 2 2 2]\n",
      "x x Q x x x x x   [2 2 1 2 2 2 2 2]\n",
      "x x x x Q x x x   [2 2 2 2 1 2 2 2]\n",
      "x x x x x x x Q   [2 2 2 2 2 2 2 1]\n",
      "x x x Q x x x x   [2 2 2 1 2 2 2 2]\n"
     ]
    }
   ],
   "source": [
    "printChessBoard(resultAR.state, 1)"
   ]
  },
  {
   "cell_type": "markdown",
   "id": "8474c445",
   "metadata": {},
   "source": [
    "###### Camino"
   ]
  },
  {
   "cell_type": "code",
   "execution_count": 45,
   "id": "4b5962f1",
   "metadata": {},
   "outputs": [
    {
     "name": "stdout",
     "output_type": "stream",
     "text": [
      "Longitud de la Solución: 9\n",
      "Operación: Inicio, Profundidad: 0\n",
      "Tablero:\n",
      ". . . . . . . .   [0 0 0 0 0 0 0 0]\n",
      ". . . . . . . .   [0 0 0 0 0 0 0 0]\n",
      ". . . . . . . .   [0 0 0 0 0 0 0 0]\n",
      ". . . . . . . .   [0 0 0 0 0 0 0 0]\n",
      ". . . . . . . .   [0 0 0 0 0 0 0 0]\n",
      ". . . . . . . .   [0 0 0 0 0 0 0 0]\n",
      ". . . . . . . .   [0 0 0 0 0 0 0 0]\n",
      ". . . . . . . .   [0 0 0 0 0 0 0 0]\n",
      "Operación: Reina colocada en (2, 6), Profundidad: 1\n",
      "Tablero:\n",
      ". . . . x . x .   [0 0 0 0 2 0 2 0]\n",
      ". . . . . x x x   [0 0 0 0 0 2 2 2]\n",
      "x x x x x x Q x   [2 2 2 2 2 2 1 2]\n",
      ". . . . . x x x   [0 0 0 0 0 2 2 2]\n",
      ". . . . x . x .   [0 0 0 0 2 0 2 0]\n",
      ". . . x . . x .   [0 0 0 2 0 0 2 0]\n",
      ". . x . . . x .   [0 0 2 0 0 0 2 0]\n",
      ". x . . . . x .   [0 2 0 0 0 0 2 0]\n",
      "Operación: Reina colocada en (0, 5), Profundidad: 2\n",
      "Tablero:\n",
      "x x x x x Q x x   [2 2 2 2 2 1 2 2]\n",
      ". . . . x x x x   [0 0 0 0 2 2 2 2]\n",
      "x x x x x x Q x   [2 2 2 2 2 2 1 2]\n",
      ". . x . . x x x   [0 0 2 0 0 2 2 2]\n",
      ". x . . x x x .   [0 2 0 0 2 2 2 0]\n",
      "x . . x . x x .   [2 0 0 2 0 2 2 0]\n",
      ". . x . . x x .   [0 0 2 0 0 2 2 0]\n",
      ". x . . . x x .   [0 2 0 0 0 2 2 0]\n",
      "Operación: Reina colocada en (3, 0), Profundidad: 3\n",
      "Tablero:\n",
      "x x x x x Q x x   [2 2 2 2 2 1 2 2]\n",
      "x . x . x x x x   [2 0 2 0 2 2 2 2]\n",
      "x x x x x x Q x   [2 2 2 2 2 2 1 2]\n",
      "Q x x x x x x x   [1 2 2 2 2 2 2 2]\n",
      "x x . . x x x .   [2 2 0 0 2 2 2 0]\n",
      "x . x x . x x .   [2 0 2 2 0 2 2 0]\n",
      "x . x x . x x .   [2 0 2 2 0 2 2 0]\n",
      "x x . . x x x .   [2 2 0 0 2 2 2 0]\n",
      "Operación: Reina colocada en (5, 4), Profundidad: 4\n",
      "Tablero:\n",
      "x x x x x Q x x   [2 2 2 2 2 1 2 2]\n",
      "x . x . x x x x   [2 0 2 0 2 2 2 2]\n",
      "x x x x x x Q x   [2 2 2 2 2 2 1 2]\n",
      "Q x x x x x x x   [1 2 2 2 2 2 2 2]\n",
      "x x . x x x x .   [2 2 0 2 2 2 2 0]\n",
      "x x x x Q x x x   [2 2 2 2 1 2 2 2]\n",
      "x . x x x x x .   [2 0 2 2 2 2 2 0]\n",
      "x x x . x x x .   [2 2 2 0 2 2 2 0]\n",
      "Operación: Reina colocada en (1, 1), Profundidad: 5\n",
      "Tablero:\n",
      "x x x x x Q x x   [2 2 2 2 2 1 2 2]\n",
      "x Q x x x x x x   [2 1 2 2 2 2 2 2]\n",
      "x x x x x x Q x   [2 2 2 2 2 2 1 2]\n",
      "Q x x x x x x x   [1 2 2 2 2 2 2 2]\n",
      "x x . x x x x .   [2 2 0 2 2 2 2 0]\n",
      "x x x x Q x x x   [2 2 2 2 1 2 2 2]\n",
      "x x x x x x x .   [2 2 2 2 2 2 2 0]\n",
      "x x x . x x x x   [2 2 2 0 2 2 2 2]\n",
      "Operación: Reina colocada en (6, 7), Profundidad: 6\n",
      "Tablero:\n",
      "x x x x x Q x x   [2 2 2 2 2 1 2 2]\n",
      "x Q x x x x x x   [2 1 2 2 2 2 2 2]\n",
      "x x x x x x Q x   [2 2 2 2 2 2 1 2]\n",
      "Q x x x x x x x   [1 2 2 2 2 2 2 2]\n",
      "x x . x x x x x   [2 2 0 2 2 2 2 2]\n",
      "x x x x Q x x x   [2 2 2 2 1 2 2 2]\n",
      "x x x x x x x Q   [2 2 2 2 2 2 2 1]\n",
      "x x x . x x x x   [2 2 2 0 2 2 2 2]\n",
      "Operación: Reina colocada en (7, 3), Profundidad: 7\n",
      "Tablero:\n",
      "x x x x x Q x x   [2 2 2 2 2 1 2 2]\n",
      "x Q x x x x x x   [2 1 2 2 2 2 2 2]\n",
      "x x x x x x Q x   [2 2 2 2 2 2 1 2]\n",
      "Q x x x x x x x   [1 2 2 2 2 2 2 2]\n",
      "x x . x x x x x   [2 2 0 2 2 2 2 2]\n",
      "x x x x Q x x x   [2 2 2 2 1 2 2 2]\n",
      "x x x x x x x Q   [2 2 2 2 2 2 2 1]\n",
      "x x x Q x x x x   [2 2 2 1 2 2 2 2]\n",
      "Operación: Reina colocada en (4, 2), Profundidad: 8\n",
      "Tablero:\n",
      "x x x x x Q x x   [2 2 2 2 2 1 2 2]\n",
      "x Q x x x x x x   [2 1 2 2 2 2 2 2]\n",
      "x x x x x x Q x   [2 2 2 2 2 2 1 2]\n",
      "Q x x x x x x x   [1 2 2 2 2 2 2 2]\n",
      "x x Q x x x x x   [2 2 1 2 2 2 2 2]\n",
      "x x x x Q x x x   [2 2 2 2 1 2 2 2]\n",
      "x x x x x x x Q   [2 2 2 2 2 2 2 1]\n",
      "x x x Q x x x x   [2 2 2 1 2 2 2 2]\n"
     ]
    }
   ],
   "source": [
    "pathAR = resultAR.getPath()\n",
    "print(\"Longitud de la Solución: %s\" %len(pathAR))\n",
    "print_path(pathAR)"
   ]
  },
  {
   "cell_type": "markdown",
   "id": "eaff6e37",
   "metadata": {},
   "source": [
    "#### A* con Meta"
   ]
  },
  {
   "cell_type": "code",
   "execution_count": 46,
   "id": "8cce6698",
   "metadata": {},
   "outputs": [],
   "source": [
    "asSequenceGoal = ss.BlindSearch(startNode, placeQueenSequence, goalEightQueens, goal_state=finalNode, strategy=\"a*\", heuristic=eightQueensHeuristic)\n",
    "asRandomGoal = ss.BlindSearch(startNode, placeQueenRandom, goalEightQueens, goal_state=finalNode, strategy=\"a*\", heuristic=eightQueensHeuristic)"
   ]
  },
  {
   "cell_type": "markdown",
   "id": "3522c483",
   "metadata": {},
   "source": [
    "##### Sucesión en Secuencia"
   ]
  },
  {
   "cell_type": "code",
   "execution_count": 47,
   "id": "000e8ae4",
   "metadata": {},
   "outputs": [
    {
     "name": "stdout",
     "output_type": "stream",
     "text": [
      "finished in 118926 iterations\n",
      "Se acabaron los estados: 43\n"
     ]
    }
   ],
   "source": [
    "resultASG = asSequenceGoal.find()"
   ]
  },
  {
   "cell_type": "markdown",
   "id": "6ca5ede4",
   "metadata": {},
   "source": [
    "###### Resultados"
   ]
  },
  {
   "cell_type": "code",
   "execution_count": 48,
   "id": "22af462e",
   "metadata": {},
   "outputs": [
    {
     "name": "stdout",
     "output_type": "stream",
     "text": [
      "x x x Q x x x x   [2 2 2 1 2 2 2 2]\n",
      "x x x x x x Q x   [2 2 2 2 2 2 1 2]\n",
      "x x Q x x x x x   [2 2 1 2 2 2 2 2]\n",
      "x x x x x x x Q   [2 2 2 2 2 2 2 1]\n",
      "x Q x x x x x x   [2 1 2 2 2 2 2 2]\n",
      "x x x x Q x x x   [2 2 2 2 1 2 2 2]\n",
      "Q x x x x x x x   [1 2 2 2 2 2 2 2]\n",
      "x x x x x Q x x   [2 2 2 2 2 1 2 2]\n"
     ]
    }
   ],
   "source": [
    "printChessBoard(resultASG.state, 1)"
   ]
  },
  {
   "cell_type": "markdown",
   "id": "1fad6eaf",
   "metadata": {},
   "source": [
    "###### Camino"
   ]
  },
  {
   "cell_type": "code",
   "execution_count": 49,
   "id": "45e9f873",
   "metadata": {},
   "outputs": [
    {
     "name": "stdout",
     "output_type": "stream",
     "text": [
      "Longitud de la Solución: 9\n",
      "Operación: Inicio, Profundidad: 0\n",
      "Tablero:\n",
      ". . . . . . . .   [0 0 0 0 0 0 0 0]\n",
      ". . . . . . . .   [0 0 0 0 0 0 0 0]\n",
      ". . . . . . . .   [0 0 0 0 0 0 0 0]\n",
      ". . . . . . . .   [0 0 0 0 0 0 0 0]\n",
      ". . . . . . . .   [0 0 0 0 0 0 0 0]\n",
      ". . . . . . . .   [0 0 0 0 0 0 0 0]\n",
      ". . . . . . . .   [0 0 0 0 0 0 0 0]\n",
      ". . . . . . . .   [0 0 0 0 0 0 0 0]\n",
      "Operación: Reina colocada en (7, 5), Profundidad: 1\n",
      "Tablero:\n",
      ". . . . . x . .   [0 0 0 0 0 2 0 0]\n",
      ". . . . . x . .   [0 0 0 0 0 2 0 0]\n",
      "x . . . . x . .   [2 0 0 0 0 2 0 0]\n",
      ". x . . . x . .   [0 2 0 0 0 2 0 0]\n",
      ". . x . . x . .   [0 0 2 0 0 2 0 0]\n",
      ". . . x . x . x   [0 0 0 2 0 2 0 2]\n",
      ". . . . x x x .   [0 0 0 0 2 2 2 0]\n",
      "x x x x x Q x x   [2 2 2 2 2 1 2 2]\n",
      "Operación: Reina colocada en (3, 7), Profundidad: 2\n",
      "Tablero:\n",
      ". . . . x x . x   [0 0 0 0 2 2 0 2]\n",
      ". . . . . x . x   [0 0 0 0 0 2 0 2]\n",
      "x . . . . x x x   [2 0 0 0 0 2 2 2]\n",
      "x x x x x x x Q   [2 2 2 2 2 2 2 1]\n",
      ". . x . . x x x   [0 0 2 0 0 2 2 2]\n",
      ". . . x . x . x   [0 0 0 2 0 2 0 2]\n",
      ". . . . x x x x   [0 0 0 0 2 2 2 2]\n",
      "x x x x x Q x x   [2 2 2 2 2 1 2 2]\n",
      "Operación: Reina colocada en (2, 2), Profundidad: 3\n",
      "Tablero:\n",
      "x . x . x x . x   [2 0 2 0 2 2 0 2]\n",
      ". x x x . x . x   [0 2 2 2 0 2 0 2]\n",
      "x x Q x x x x x   [2 2 1 2 2 2 2 2]\n",
      "x x x x x x x Q   [2 2 2 2 2 2 2 1]\n",
      "x . x . x x x x   [2 0 2 0 2 2 2 2]\n",
      ". . x x . x . x   [0 0 2 2 0 2 0 2]\n",
      ". . x . x x x x   [0 0 2 0 2 2 2 2]\n",
      "x x x x x Q x x   [2 2 2 2 2 1 2 2]\n",
      "Operación: Reina colocada en (4, 1), Profundidad: 4\n",
      "Tablero:\n",
      "x x x . x x . x   [2 2 2 0 2 2 0 2]\n",
      ". x x x x x . x   [0 2 2 2 2 2 0 2]\n",
      "x x Q x x x x x   [2 2 1 2 2 2 2 2]\n",
      "x x x x x x x Q   [2 2 2 2 2 2 2 1]\n",
      "x Q x x x x x x   [2 1 2 2 2 2 2 2]\n",
      "x x x x . x . x   [2 2 2 2 0 2 0 2]\n",
      ". x x x x x x x   [0 2 2 2 2 2 2 2]\n",
      "x x x x x Q x x   [2 2 2 2 2 1 2 2]\n",
      "Operación: Reina colocada en (6, 0), Profundidad: 5\n",
      "Tablero:\n",
      "x x x . x x x x   [2 2 2 0 2 2 2 2]\n",
      "x x x x x x . x   [2 2 2 2 2 2 0 2]\n",
      "x x Q x x x x x   [2 2 1 2 2 2 2 2]\n",
      "x x x x x x x Q   [2 2 2 2 2 2 2 1]\n",
      "x Q x x x x x x   [2 1 2 2 2 2 2 2]\n",
      "x x x x . x . x   [2 2 2 2 0 2 0 2]\n",
      "Q x x x x x x x   [1 2 2 2 2 2 2 2]\n",
      "x x x x x Q x x   [2 2 2 2 2 1 2 2]\n",
      "Operación: Reina colocada en (5, 4), Profundidad: 6\n",
      "Tablero:\n",
      "x x x . x x x x   [2 2 2 0 2 2 2 2]\n",
      "x x x x x x . x   [2 2 2 2 2 2 0 2]\n",
      "x x Q x x x x x   [2 2 1 2 2 2 2 2]\n",
      "x x x x x x x Q   [2 2 2 2 2 2 2 1]\n",
      "x Q x x x x x x   [2 1 2 2 2 2 2 2]\n",
      "x x x x Q x x x   [2 2 2 2 1 2 2 2]\n",
      "Q x x x x x x x   [1 2 2 2 2 2 2 2]\n",
      "x x x x x Q x x   [2 2 2 2 2 1 2 2]\n",
      "Operación: Reina colocada en (0, 3), Profundidad: 7\n",
      "Tablero:\n",
      "x x x Q x x x x   [2 2 2 1 2 2 2 2]\n",
      "x x x x x x . x   [2 2 2 2 2 2 0 2]\n",
      "x x Q x x x x x   [2 2 1 2 2 2 2 2]\n",
      "x x x x x x x Q   [2 2 2 2 2 2 2 1]\n",
      "x Q x x x x x x   [2 1 2 2 2 2 2 2]\n",
      "x x x x Q x x x   [2 2 2 2 1 2 2 2]\n",
      "Q x x x x x x x   [1 2 2 2 2 2 2 2]\n",
      "x x x x x Q x x   [2 2 2 2 2 1 2 2]\n",
      "Operación: Reina colocada en (1, 6), Profundidad: 8\n",
      "Tablero:\n",
      "x x x Q x x x x   [2 2 2 1 2 2 2 2]\n",
      "x x x x x x Q x   [2 2 2 2 2 2 1 2]\n",
      "x x Q x x x x x   [2 2 1 2 2 2 2 2]\n",
      "x x x x x x x Q   [2 2 2 2 2 2 2 1]\n",
      "x Q x x x x x x   [2 1 2 2 2 2 2 2]\n",
      "x x x x Q x x x   [2 2 2 2 1 2 2 2]\n",
      "Q x x x x x x x   [1 2 2 2 2 2 2 2]\n",
      "x x x x x Q x x   [2 2 2 2 2 1 2 2]\n"
     ]
    }
   ],
   "source": [
    "pathASG = resultASG.getPath()\n",
    "print(\"Longitud de la Solución: %s\" %len(pathASG))\n",
    "print_path(pathASG)"
   ]
  },
  {
   "cell_type": "markdown",
   "id": "cfdd7f00",
   "metadata": {},
   "source": [
    "##### Sucesión Aleatoria"
   ]
  },
  {
   "cell_type": "code",
   "execution_count": 50,
   "id": "c8726336",
   "metadata": {},
   "outputs": [
    {
     "name": "stdout",
     "output_type": "stream",
     "text": [
      "finished in 118897 iterations\n",
      "Se acabaron los estados: 72\n"
     ]
    }
   ],
   "source": [
    "resultARG = asRandomGoal.find()"
   ]
  },
  {
   "cell_type": "markdown",
   "id": "e81925a1",
   "metadata": {},
   "source": [
    "###### Resultados"
   ]
  },
  {
   "cell_type": "code",
   "execution_count": 51,
   "id": "fbfa48b9",
   "metadata": {},
   "outputs": [
    {
     "name": "stdout",
     "output_type": "stream",
     "text": [
      "x x x Q x x x x   [2 2 2 1 2 2 2 2]\n",
      "x x x x x x Q x   [2 2 2 2 2 2 1 2]\n",
      "x x Q x x x x x   [2 2 1 2 2 2 2 2]\n",
      "x x x x x x x Q   [2 2 2 2 2 2 2 1]\n",
      "x Q x x x x x x   [2 1 2 2 2 2 2 2]\n",
      "x x x x Q x x x   [2 2 2 2 1 2 2 2]\n",
      "Q x x x x x x x   [1 2 2 2 2 2 2 2]\n",
      "x x x x x Q x x   [2 2 2 2 2 1 2 2]\n"
     ]
    }
   ],
   "source": [
    "printChessBoard(resultARG.state, 1)"
   ]
  },
  {
   "cell_type": "markdown",
   "id": "281bfc8e",
   "metadata": {},
   "source": [
    "###### Camino"
   ]
  },
  {
   "cell_type": "code",
   "execution_count": 52,
   "id": "48624014",
   "metadata": {},
   "outputs": [
    {
     "name": "stdout",
     "output_type": "stream",
     "text": [
      "Longitud de la Solución: 9\n",
      "Operación: Inicio, Profundidad: 0\n",
      "Tablero:\n",
      ". . . . . . . .   [0 0 0 0 0 0 0 0]\n",
      ". . . . . . . .   [0 0 0 0 0 0 0 0]\n",
      ". . . . . . . .   [0 0 0 0 0 0 0 0]\n",
      ". . . . . . . .   [0 0 0 0 0 0 0 0]\n",
      ". . . . . . . .   [0 0 0 0 0 0 0 0]\n",
      ". . . . . . . .   [0 0 0 0 0 0 0 0]\n",
      ". . . . . . . .   [0 0 0 0 0 0 0 0]\n",
      ". . . . . . . .   [0 0 0 0 0 0 0 0]\n",
      "Operación: Reina colocada en (4, 1), Profundidad: 1\n",
      "Tablero:\n",
      ". x . . . x . .   [0 2 0 0 0 2 0 0]\n",
      ". x . . x . . .   [0 2 0 0 2 0 0 0]\n",
      ". x . x . . . .   [0 2 0 2 0 0 0 0]\n",
      "x x x . . . . .   [2 2 2 0 0 0 0 0]\n",
      "x Q x x x x x x   [2 1 2 2 2 2 2 2]\n",
      "x x x . . . . .   [2 2 2 0 0 0 0 0]\n",
      ". x . x . . . .   [0 2 0 2 0 0 0 0]\n",
      ". x . . x . . .   [0 2 0 0 2 0 0 0]\n",
      "Operación: Reina colocada en (3, 7), Profundidad: 2\n",
      "Tablero:\n",
      ". x . . x x . x   [0 2 0 0 2 2 0 2]\n",
      ". x . . x x . x   [0 2 0 0 2 2 0 2]\n",
      ". x . x . . x x   [0 2 0 2 0 0 2 2]\n",
      "x x x x x x x Q   [2 2 2 2 2 2 2 1]\n",
      "x Q x x x x x x   [2 1 2 2 2 2 2 2]\n",
      "x x x . . x . x   [2 2 2 0 0 2 0 2]\n",
      ". x . x x . . x   [0 2 0 2 2 0 0 2]\n",
      ". x . x x . . x   [0 2 0 2 2 0 0 2]\n",
      "Operación: Reina colocada en (5, 4), Profundidad: 3\n",
      "Tablero:\n",
      ". x . . x x . x   [0 2 0 0 2 2 0 2]\n",
      "x x . . x x . x   [2 2 0 0 2 2 0 2]\n",
      ". x . x x . x x   [0 2 0 2 2 0 2 2]\n",
      "x x x x x x x Q   [2 2 2 2 2 2 2 1]\n",
      "x Q x x x x x x   [2 1 2 2 2 2 2 2]\n",
      "x x x x Q x x x   [2 2 2 2 1 2 2 2]\n",
      ". x . x x x . x   [0 2 0 2 2 2 0 2]\n",
      ". x x x x . x x   [0 2 2 2 2 0 2 2]\n",
      "Operación: Reina colocada en (0, 3), Profundidad: 4\n",
      "Tablero:\n",
      "x x x Q x x x x   [2 2 2 1 2 2 2 2]\n",
      "x x x x x x . x   [2 2 2 2 2 2 0 2]\n",
      ". x . x x x x x   [0 2 0 2 2 2 2 2]\n",
      "x x x x x x x Q   [2 2 2 2 2 2 2 1]\n",
      "x Q x x x x x x   [2 1 2 2 2 2 2 2]\n",
      "x x x x Q x x x   [2 2 2 2 1 2 2 2]\n",
      ". x . x x x . x   [0 2 0 2 2 2 0 2]\n",
      ". x x x x . x x   [0 2 2 2 2 0 2 2]\n",
      "Operación: Reina colocada en (6, 0), Profundidad: 5\n",
      "Tablero:\n",
      "x x x Q x x x x   [2 2 2 1 2 2 2 2]\n",
      "x x x x x x . x   [2 2 2 2 2 2 0 2]\n",
      "x x . x x x x x   [2 2 0 2 2 2 2 2]\n",
      "x x x x x x x Q   [2 2 2 2 2 2 2 1]\n",
      "x Q x x x x x x   [2 1 2 2 2 2 2 2]\n",
      "x x x x Q x x x   [2 2 2 2 1 2 2 2]\n",
      "Q x x x x x x x   [1 2 2 2 2 2 2 2]\n",
      "x x x x x . x x   [2 2 2 2 2 0 2 2]\n",
      "Operación: Reina colocada en (2, 2), Profundidad: 6\n",
      "Tablero:\n",
      "x x x Q x x x x   [2 2 2 1 2 2 2 2]\n",
      "x x x x x x . x   [2 2 2 2 2 2 0 2]\n",
      "x x Q x x x x x   [2 2 1 2 2 2 2 2]\n",
      "x x x x x x x Q   [2 2 2 2 2 2 2 1]\n",
      "x Q x x x x x x   [2 1 2 2 2 2 2 2]\n",
      "x x x x Q x x x   [2 2 2 2 1 2 2 2]\n",
      "Q x x x x x x x   [1 2 2 2 2 2 2 2]\n",
      "x x x x x . x x   [2 2 2 2 2 0 2 2]\n",
      "Operación: Reina colocada en (1, 6), Profundidad: 7\n",
      "Tablero:\n",
      "x x x Q x x x x   [2 2 2 1 2 2 2 2]\n",
      "x x x x x x Q x   [2 2 2 2 2 2 1 2]\n",
      "x x Q x x x x x   [2 2 1 2 2 2 2 2]\n",
      "x x x x x x x Q   [2 2 2 2 2 2 2 1]\n",
      "x Q x x x x x x   [2 1 2 2 2 2 2 2]\n",
      "x x x x Q x x x   [2 2 2 2 1 2 2 2]\n",
      "Q x x x x x x x   [1 2 2 2 2 2 2 2]\n",
      "x x x x x . x x   [2 2 2 2 2 0 2 2]\n",
      "Operación: Reina colocada en (7, 5), Profundidad: 8\n",
      "Tablero:\n",
      "x x x Q x x x x   [2 2 2 1 2 2 2 2]\n",
      "x x x x x x Q x   [2 2 2 2 2 2 1 2]\n",
      "x x Q x x x x x   [2 2 1 2 2 2 2 2]\n",
      "x x x x x x x Q   [2 2 2 2 2 2 2 1]\n",
      "x Q x x x x x x   [2 1 2 2 2 2 2 2]\n",
      "x x x x Q x x x   [2 2 2 2 1 2 2 2]\n",
      "Q x x x x x x x   [1 2 2 2 2 2 2 2]\n",
      "x x x x x Q x x   [2 2 2 2 2 1 2 2]\n"
     ]
    }
   ],
   "source": [
    "pathARG = resultARG.getPath()\n",
    "print(\"Longitud de la Solución: %s\" %len(pathARG))\n",
    "print_path(pathARG)"
   ]
  },
  {
   "cell_type": "markdown",
   "id": "cc22b078",
   "metadata": {},
   "source": [
    "### Comparación de Resultados"
   ]
  },
  {
   "cell_type": "markdown",
   "id": "da32eadc",
   "metadata": {},
   "source": [
    "#### Medición de Tiempos\n",
    "Para medir los resultados, usamos la función sucesor de secuencia, pues nos ofrece resultados más consistentes. Probamos los resultados tanto sin un estado meta definido, como un estado meta definido."
   ]
  },
  {
   "cell_type": "markdown",
   "id": "4de5822f",
   "metadata": {},
   "source": [
    "##### Sin Estado Meta"
   ]
  },
  {
   "cell_type": "code",
   "execution_count": 54,
   "id": "92d3cad5",
   "metadata": {},
   "outputs": [
    {
     "name": "stdout",
     "output_type": "stream",
     "text": [
      "finished in 118878 iterations\n",
      "Se acabaron los estados: 91\n",
      "CPU times: user 20.2 s, sys: 27 ms, total: 20.3 s\n",
      "Wall time: 21.2 s\n"
     ]
    },
    {
     "data": {
      "text/plain": [
       "<SimpleSearch.node at 0x7e294811e8a0>"
      ]
     },
     "execution_count": 54,
     "metadata": {},
     "output_type": "execute_result"
    }
   ],
   "source": [
    "%time bfsSequence.find()"
   ]
  },
  {
   "cell_type": "code",
   "execution_count": 55,
   "id": "c2a27f8c",
   "metadata": {},
   "outputs": [
    {
     "name": "stdout",
     "output_type": "stream",
     "text": [
      "finished in 1969 iterations\n",
      "Se acabaron los estados: 150\n",
      "CPU times: user 277 ms, sys: 27 μs, total: 277 ms\n",
      "Wall time: 288 ms\n"
     ]
    },
    {
     "data": {
      "text/plain": [
       "<SimpleSearch.node at 0x7e28faf45940>"
      ]
     },
     "execution_count": 55,
     "metadata": {},
     "output_type": "execute_result"
    }
   ],
   "source": [
    "%time dfsSequence.find()"
   ]
  },
  {
   "cell_type": "code",
   "execution_count": 56,
   "id": "90d7f035",
   "metadata": {},
   "outputs": [
    {
     "name": "stdout",
     "output_type": "stream",
     "text": [
      "finished in 118878 iterations\n",
      "Se acabaron los estados: 91\n",
      "CPU times: user 22.9 s, sys: 15.6 ms, total: 23 s\n",
      "Wall time: 22.6 s\n"
     ]
    },
    {
     "data": {
      "text/plain": [
       "<SimpleSearch.node at 0x7e28e119d220>"
      ]
     },
     "execution_count": 56,
     "metadata": {},
     "output_type": "execute_result"
    }
   ],
   "source": [
    "%time asSequence.find()"
   ]
  },
  {
   "cell_type": "markdown",
   "id": "1bde7c0e",
   "metadata": {},
   "source": [
    "##### Con Estado Meta"
   ]
  },
  {
   "cell_type": "code",
   "execution_count": 57,
   "id": "69e69412",
   "metadata": {},
   "outputs": [
    {
     "name": "stdout",
     "output_type": "stream",
     "text": [
      "finished in 118918 iterations\n",
      "Se acabaron los estados: 51\n",
      "CPU times: user 19.4 s, sys: 95.8 ms, total: 19.5 s\n",
      "Wall time: 19 s\n"
     ]
    },
    {
     "data": {
      "text/plain": [
       "<SimpleSearch.node at 0x7e291c5c7080>"
      ]
     },
     "execution_count": 57,
     "metadata": {},
     "output_type": "execute_result"
    }
   ],
   "source": [
    "%time bfsSequenceGoal.find()"
   ]
  },
  {
   "cell_type": "code",
   "execution_count": 58,
   "id": "2b3bb272",
   "metadata": {},
   "outputs": [
    {
     "name": "stdout",
     "output_type": "stream",
     "text": [
      "finished in 22308 iterations\n",
      "Se acabaron los estados: 153\n",
      "CPU times: user 2.65 s, sys: 114 μs, total: 2.65 s\n",
      "Wall time: 2.77 s\n"
     ]
    },
    {
     "data": {
      "text/plain": [
       "<SimpleSearch.node at 0x7e288295ce90>"
      ]
     },
     "execution_count": 58,
     "metadata": {},
     "output_type": "execute_result"
    }
   ],
   "source": [
    "%time dfsSequenceGoal.find()"
   ]
  },
  {
   "cell_type": "code",
   "execution_count": 59,
   "id": "5f700b89",
   "metadata": {},
   "outputs": [
    {
     "name": "stdout",
     "output_type": "stream",
     "text": [
      "finished in 118926 iterations\n",
      "Se acabaron los estados: 43\n",
      "CPU times: user 19.6 s, sys: 130 ms, total: 19.7 s\n",
      "Wall time: 20.7 s\n"
     ]
    },
    {
     "data": {
      "text/plain": [
       "<SimpleSearch.node at 0x7e28c4c9f350>"
      ]
     },
     "execution_count": 59,
     "metadata": {},
     "output_type": "execute_result"
    }
   ],
   "source": [
    "%time asSequenceGoal.find()"
   ]
  },
  {
   "cell_type": "markdown",
   "id": "bef7f36a",
   "metadata": {},
   "source": [
    "### Conclusiones\n",
    "Los resultados medidos nos muestran que el algoritmo más adecuado para este problema resultó ser el DFS. Esto tiene lógica, debido a la poca profundidad del problema y a la manera en que la función sucesor fue definida. Como es imposible generar estados ilegales, toda secuencia siempre terminará al llegar a profundidad $8$. Considerando que, desde cualquier primera reina colocada en el tablero, se puede llegar a una solución del problema, es inevitable que tras el primer estado una búsqueda a profundidad llegue a la solución correcta. La función sucesor definida ayuda bastante a reducir el espacio de estados, pues en lugar de tener $63$ posibles estados para cada uno de los $64$ estados tras colocar la primera reina, se tienen solo $k$ posibles estados, donde $k$ es igual a la cantidad de casillas no atacadas ni ocupadas por otras reinas, manteniendo esta secuencia para cada nuevo estado.\n",
    "\n",
    "Otro aspecto interesante es que el algoritmo A* no parece superar ni siquiera al BFS. Las heurísticas propuestas ofrecen resultados que deberían simplificar las operaciones y que deberían evitar investigar ciertos estados sin solución, pero no se tienen tiempos menores. La cantidad de iteraciones es bastante similar a BFS."
   ]
  }
 ],
 "metadata": {
  "kernelspec": {
   "display_name": ".venv",
   "language": "python",
   "name": "python3"
  },
  "language_info": {
   "codemirror_mode": {
    "name": "ipython",
    "version": 3
   },
   "file_extension": ".py",
   "mimetype": "text/x-python",
   "name": "python",
   "nbconvert_exporter": "python",
   "pygments_lexer": "ipython3",
   "version": "3.12.3"
  }
 },
 "nbformat": 4,
 "nbformat_minor": 5
}
