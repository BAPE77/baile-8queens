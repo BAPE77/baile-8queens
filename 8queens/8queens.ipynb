{
 "cells": [
  {
   "cell_type": "markdown",
   "id": "fb40be12",
   "metadata": {},
   "source": [
    "# Problema de las Ocho Reinas"
   ]
  },
  {
   "cell_type": "markdown",
   "id": "45e1b926",
   "metadata": {},
   "source": [
    "## Contenidos\n",
    "- [Contenidos](#contenidos)\n",
    "- [Introducción](#introducción)\n",
    "- [Planteamiento del Problema](#planteamiento-del-problema)\n",
    "    - [Estados](#estados)\n",
    "        - [Representación](#representación)\n",
    "        - [Estado Inicial](#estado-inicial)\n",
    "        - [Estado Final](#estado-final)\n",
    "    - [Condición de Meta](#condición-de-meta)\n",
    "    - [Función Sucesor](#función-sucesor)\n",
    "- [Desarrollo del Problema](#desarrollo-del-problema)\n",
    "    - [Importar Bibliotecas](#importar-bibliotecas)\n",
    "    - [Declaración del Estado Inicial](#declaración-del-estado-inicial)\n",
    "    - [Definición de la Función Sucesor](#definición-de-la-función-sucesor)"
   ]
  },
  {
   "cell_type": "markdown",
   "id": "53fc3a44",
   "metadata": {},
   "source": [
    "## Introducción\n",
    "El problema de las ocho reinas consiste en colocar ocho reinas en un tablero de ajedrez de tamaño de $8\\times8$ casillas, de manera que ninguna reina se amenace entre sí; es decir, que ninguna reina sea colocada en la misma columna, fila o diagonal que otra reina."
   ]
  },
  {
   "cell_type": "markdown",
   "id": "e4f39cce",
   "metadata": {},
   "source": [
    "![8queens_solution1](8queens_solution1.png)"
   ]
  },
  {
   "cell_type": "markdown",
   "id": "1ade3df5",
   "metadata": {},
   "source": [
    "## Planteamiento del Problema\n",
    "Debido a la naturaleza del problema, se requiere una manera de representar el tablero de ajedrez (dimensiones de $8\\times8$), representando cada una de las $64$ casillas, así como la existencia de una reina en alguna de esas casillas, con hasta un máximo de $8$ reinas en total. El problema parte de alguna distribución determinada y termina una vez se haya encontrado una combinación en la que ninguna reina ataque a otra reina y en que todas hayan sido colocadas en el tablero. Esto implica que el problema tiene una profundidad máxima de $8$, si consideramos la profundidad $0$ como el estado en el que no hay ninguna reina sobre el tablero."
   ]
  },
  {
   "cell_type": "markdown",
   "id": "c3452a2a",
   "metadata": {},
   "source": [
    "### Estados\n",
    "Cada distribución posible de las reinas en el tablero sería un estado posible. El primer estado, o estado $0$ será aquél con cero reinas en el tablero, mientras que los siguientes $64$ posibles estados serán para representar el tablero con una sola reina; los siguientes $63$ estados serán para el tablero con dos reinas en total, y asi sucesivamente. Esto implica que, para todo el problema, la cantidad total de posibles  estados es $64\\times63\\times62\\times61\\times60\\times59\\times58\\times57=178,462,987,637,760$. Por esto mismo, es importante encontrar criterios clave al momento de definir la función sucesoria y las posibles heurísticas."
   ]
  },
  {
   "cell_type": "markdown",
   "id": "df80c1e3",
   "metadata": {},
   "source": [
    "#### Representación\n",
    "Para representar el tablero de ajedrez, así como la posición de las reinas en las casillas y, por consiguiente, cada estado, se utilizará una matriz de dimensiones $8\\times8$. Esta matriz estará inicialmente llena de ceros, y cada cero representará cada casilla sin reina y que no esté siendo atacada. Para representar a una reina ubicada en la casilla $(i,j)$, a esa posición en la matriz se le asignará un uno. Para representar una casilla vacía que está siendo atacada se utilizará el número dos.\n",
    "\n",
    "Así pues, el estado $0$ se tendrá de la siguiente forma:\n",
    "| &nbsp; | 0 | 1 | 2 | 3 | 4 | 5 | 6 | 7 |\n",
    "| --- | --- | --- | --- | --- | --- | --- | --- | ---|\n",
    "| __0__ | 0 | 0 | 0 | 0 | 0 | 0 | 0 | 0 |\n",
    "| __1__ | 0 | 0 | 0 | 0 | 0 | 0 | 0 | 0 |\n",
    "| __2__ | 0 | 0 | 0 | 0 | 0 | 0 | 0 | 0 |\n",
    "| __3__ | 0 | 0 | 0 | 0 | 0 | 0 | 0 | 0 |\n",
    "| __4__ | 0 | 0 | 0 | 0 | 0 | 0 | 0 | 0 |\n",
    "| __5__ | 0 | 0 | 0 | 0 | 0 | 0 | 0 | 0 |\n",
    "| __6__ | 0 | 0 | 0 | 0 | 0 | 0 | 0 | 0 |\n",
    "| __7__ | 0 | 0 | 0 | 0 | 0 | 0 | 0 | 0 |\n",
    "\n",
    "Un tablero con una sola reina podrá representarse de la siguiente manera:\n",
    "| &nbsp; | 0 | 1 | 2 | 3 | 4 | 5 | 6 | 7 |\n",
    "| --- | --- | --- | --- | --- | --- | --- | --- | ---|\n",
    "| __0__ | 2 | 0 | 2 | 0 | 2 | 0 | 0 | 0 |\n",
    "| __1__ | 0 | 2 | 2 | 2 | 0 | 0 | 0 | 0 |\n",
    "| __2__ | 2 | 2 | 1 | 2 | 2 | 2 | 2 | 2 |\n",
    "| __3__ | 0 | 2 | 2 | 2 | 0 | 0 | 0 | 0 |\n",
    "| __4__ | 2 | 0 | 2 | 0 | 2 | 0 | 0 | 0 |\n",
    "| __5__ | 0 | 0 | 2 | 0 | 0 | 2 | 0 | 0 |\n",
    "| __6__ | 0 | 0 | 2 | 0 | 0 | 0 | 2 | 0 |\n",
    "| __7__ | 0 | 0 | 2 | 0 | 0 | 0 | 0 | 2 |\n",
    "\n",
    "Y uno con dos reinas, de la siguiente forma:\n",
    "| &nbsp; | 0 | 1 | 2 | 3 | 4 | 5 | 6 | 7 |\n",
    "| --- | --- | --- | --- | --- | --- | --- | --- | ---|\n",
    "| __0__ | 2 | 0 | 2 | 2 | 2 | 0 | 0 | 2 |\n",
    "| __1__ | 0 | 2 | 2 | 2 | 0 | 0 | 2 | 0 |\n",
    "| __2__ | 2 | 2 | 1 | 2 | 2 | 2 | 2 | 2 |\n",
    "| __3__ | 0 | 2 | 2 | 2 | 2 | 0 | 0 | 0 |\n",
    "| __4__ | 2 | 2 | 2 | 1 | 2 | 2 | 2 | 2 |\n",
    "| __5__ | 0 | 0 | 2 | 2 | 2 | 2 | 0 | 0 |\n",
    "| __6__ | 0 | 2 | 2 | 2 | 0 | 2 | 2 | 0 |\n",
    "| __7__ | 2 | 0 | 2 | 2 | 0 | 0 | 2 | 2 |"
   ]
  },
  {
   "cell_type": "markdown",
   "id": "ebd7d64f",
   "metadata": {},
   "source": [
    "#### Estado Inicial\n",
    "Podemos partir del estado $0$, o de cualquier otro estado que cuente con reinas que no se ataquen entre sí."
   ]
  },
  {
   "cell_type": "markdown",
   "id": "44f07fc3",
   "metadata": {},
   "source": [
    "#### Estado Final\n",
    "\n",
    "Para este problema existen $92$ soluciones totales. Cualquier distribución que entre en el conjunto de esas soluciones se considerará como un estado final. Estos estados se logran una vez las $8$ reinas han sido colocadas sobre el tablero sin que ningún par de reinas se ataque entre sí.\n",
    "\n",
    "Un ejemplo de un estado final puede ser:\n",
    "| &nbsp; | 0 | 1 | 2 | 3 | 4 | 5 | 6 | 7 |\n",
    "| --- | --- | --- | --- | --- | --- | --- | --- | ---|\n",
    "| __0__ | 2 | 2 | 2 | 1 | 2 | 2 | 2 | 2 |\n",
    "| __1__ | 2 | 2 | 2 | 2 | 2 | 2 | 1 | 2 |\n",
    "| __2__ | 2 | 2 | 1 | 2 | 2 | 2 | 2 | 2 |\n",
    "| __3__ | 2 | 2 | 2 | 2 | 2 | 2 | 2 | 1 |\n",
    "| __4__ | 2 | 1 | 2 | 2 | 2 | 2 | 2 | 2 |\n",
    "| __5__ | 2 | 2 | 2 | 2 | 1 | 2 | 2 | 2 |\n",
    "| __6__ | 1 | 2 | 2 | 2 | 2 | 2 | 2 | 2 |\n",
    "| __7__ | 2 | 2 | 2 | 2 | 2 | 1 | 2 | 2 |"
   ]
  },
  {
   "cell_type": "markdown",
   "id": "091a2ba5",
   "metadata": {},
   "source": [
    "### Condición de Meta\n",
    "Para corroborar que se ha alcanzado el estado final, se verificará que la cantidad de reinas colocadas en el tablero sea igual a  $8$. Adicionalmente, se realizarán verificaciones adicionales para determinar si ningún par de reinas se está atacando entre sí. En caso de que ambas condiciones se hayan cumplido, se considerará a dicho estado como una meta o estado final."
   ]
  },
  {
   "cell_type": "markdown",
   "id": "7fbfcdcb",
   "metadata": {},
   "source": [
    "### Función Sucesor\n",
    "La función sucesor recibirá el estado actual en el que se encuentra el tablero. Posteriormente, buscará la primera casilla sin reina o sin ser atacada, y en esa casilla colocará una reina. Finalmente, marcará todas las casillas que esa reina ataque. Haciendo la verificación de casillas atacadas, se tiene una reducción considerable del espacio de estados a analizar."
   ]
  },
  {
   "cell_type": "markdown",
   "id": "8c4f1d71",
   "metadata": {},
   "source": [
    "## Desarrollo del Problema"
   ]
  },
  {
   "cell_type": "markdown",
   "id": "bb0ef1fb",
   "metadata": {},
   "source": [
    "### Importar Bibliotecas\n",
    "Para esta parte se requieren bibliotecas básicas, en particular Numpy para el manejo de la matríz que representará al tablero de ajedrez. Adicionalmente, definimos la ruta hacia la biblioteca baile, y de esta obtenemos el módulo para búsqueda simple \"SimpleSearch\"."
   ]
  },
  {
   "cell_type": "code",
   "execution_count": 100,
   "id": "fd49427a",
   "metadata": {},
   "outputs": [
    {
     "data": {
      "text/plain": [
       "<module 'SimpleSearch' from '/home/bape119/UMSNH/9thSemester/AI/projects/8QueensProblem/baile-8queens/src/SimpleSearch.py'>"
      ]
     },
     "execution_count": 100,
     "metadata": {},
     "output_type": "execute_result"
    }
   ],
   "source": [
    "import numpy as np\n",
    "import sys, os\n",
    "baile_path = os.path.abspath(os.path.join(\"..\",\"src\"))\n",
    "if not baile_path in sys.path:\n",
    "    sys.path.append(baile_path)\n",
    "import SimpleSearch as ss\n",
    "from importlib import reload\n",
    "reload(ss)"
   ]
  },
  {
   "cell_type": "markdown",
   "id": "02016c1a",
   "metadata": {},
   "source": [
    "### Declaración del Estado Inicial\n",
    "Como se mencionó previamente, se partirá del estado $0$. De igual forma, cada estado se representa con una matríz de enteros, donde cada valor puede ser $0$ (casilla vacía y sin atacar), $1$ (casilla con reina) o $2$ (casilla atacada).\n",
    "\n",
    "Así pues, se define un arreglo bidimensional de Numpy, de dimensiones de $8\\times8$ llena de ceros."
   ]
  },
  {
   "cell_type": "code",
   "execution_count": 101,
   "id": "a5c0ffab",
   "metadata": {},
   "outputs": [],
   "source": [
    "state0 = np.array([\n",
    "    [0, 0, 0, 0, 0, 0, 0, 0],\n",
    "    [0, 0, 0, 0, 0, 0, 0, 0],\n",
    "    [0, 0, 0, 0, 0, 0, 0, 0],\n",
    "    [0, 0, 0, 0, 0, 0, 0, 0],\n",
    "    [0, 0, 0, 0, 0, 0, 0, 0],\n",
    "    [0, 0, 0, 0, 0, 0, 0, 0],\n",
    "    [0, 0, 0, 0, 0, 0, 0, 0],\n",
    "    [0, 0, 0, 0, 0, 0, 0, 0],\n",
    "])"
   ]
  },
  {
   "cell_type": "markdown",
   "id": "34bf04d0",
   "metadata": {},
   "source": [
    "Este arreglo bidimensional sirve para generar el nodo del estado inicial, a través de la clase node, proporcionada por la biblioteca baile."
   ]
  },
  {
   "cell_type": "code",
   "execution_count": 102,
   "id": "7b65b934",
   "metadata": {},
   "outputs": [],
   "source": [
    "startNode = ss.node(state0, op=\"start\")"
   ]
  },
  {
   "cell_type": "markdown",
   "id": "dad0d113",
   "metadata": {},
   "source": [
    "Hacemos una impresión de las características principales del estado inicial."
   ]
  },
  {
   "cell_type": "code",
   "execution_count": 103,
   "id": "4c9af81c",
   "metadata": {},
   "outputs": [
    {
     "name": "stdout",
     "output_type": "stream",
     "text": [
      "Estado Inicial:\n",
      " [[0 0 0 0 0 0 0 0]\n",
      " [0 0 0 0 0 0 0 0]\n",
      " [0 0 0 0 0 0 0 0]\n",
      " [0 0 0 0 0 0 0 0]\n",
      " [0 0 0 0 0 0 0 0]\n",
      " [0 0 0 0 0 0 0 0]\n",
      " [0 0 0 0 0 0 0 0]\n",
      " [0 0 0 0 0 0 0 0]]\n",
      "Profundidad:  0\n"
     ]
    }
   ],
   "source": [
    "print(\"Estado Inicial:\\n\", startNode.state)\n",
    "print(\"Profundidad: \", startNode.depth)"
   ]
  },
  {
   "cell_type": "markdown",
   "id": "5f2e1934",
   "metadata": {},
   "source": [
    "### Definición de la Función Sucesor\n",
    "Como ya se mencionó, esta consiste en colocar una reina en alguna de las casillas que se encuentren disponibles, es decir, sin una reina en ellas y que no estén siendo atacadas."
   ]
  },
  {
   "cell_type": "markdown",
   "id": "6f9451b8",
   "metadata": {},
   "source": [
    "Para la función sucesor, partimos de un estado $S$. Realizamos una copia de dicho estado, y creamos una lista para sus posibles sucesores.\n",
    "\n",
    "La intención es recorrer cada casilla del tablero (elemento de la matríz) y, en caso de encontrar una casilla disponible, colocar una reina en ella.\n",
    "\n",
    "Al encontrarse la casilla, se crea una copia del estado anterior, para generar el nuevo estado. La columna y la fila donde se encuentra la casilla disponible ahora serán atacadas, por lo que se les asigna un $2$.\n",
    "\n",
    "Una vez la fila y la columna se han indicado como atacadas, se busca la diagonal de arriba a la izquierda hacia abajo a la derecha a la que pertenece la casilla. Para esto, consideramos como referencia la diagonal principal, es decir, aquella que va desde $(0, 0)$ hasta $(7, 7)$, y consideramos un offset, que determina el desplazamiento en diagonales hacia la derecha y arriba (offset positivo) o hacia la izquierda y abajo (offset negativo). Este offset, para la casilla $(i, j)$ se puede calcular como $j-i$.\n",
    "\n",
    "De igual forma, se busca la anti-diagonal de la casilla, para la que se cumple que todo valor de $(i+k)+(j-k)=i+j$. Es decir, cualquier desplazamiento sobre esa diagonal, dará un valor constante al sumar sus índices. En base a este número también es posible determinar si la anti-diagonal en la que se encuentra la casilla $(i, j)$ está arriba a la izquierda o abajo a la derecha de la anti-diagonal principal."
   ]
  },
  {
   "cell_type": "code",
   "execution_count": 104,
   "id": "f803eb13",
   "metadata": {},
   "outputs": [],
   "source": [
    "def placeQueen(node):\n",
    "    board = node.state      # Copia de estado S\n",
    "    successors = []         # Lista de sucesores\n",
    "    for i in range (0, len(board)):      # Recorrer filas del tablero\n",
    "        for j in range (0, len(board)):      # Recorrer columnas del tablero\n",
    "            if board[i][j] == 0:        # Si la casilla (i, j) está libre\n",
    "                newBoard = board.copy()     # Se copia el estado anterior\n",
    "\n",
    "                # Filas y Columnas\n",
    "                newBoard[i, :] = 2          # Toda la fila i es atacada\n",
    "                newBoard[:, j] = 2          # Toda la columna j es atacada\n",
    "\n",
    "                ### Diagonal ###                            # La diagonal vista de esquina superior izquierda a la inferior derecha\n",
    "                n_rows, n_cols = newBoard.shape                 # Se determina el número de filas y de columnas\n",
    "                offset = j - i                                  # Indica en qué diagonal se encuentra la casilla con relación a la diagonal principal\n",
    "                if offset >= 0:                                 # La diagonal de la casilla está a la derecha y arriba de la diagonal principal\n",
    "                    rows = np.arange(n_rows - offset)               # Se toman las filas de la diagonal, desplazándose una cantidad 'offset' de filas hacia arriba\n",
    "                    cols = np.arange(n_cols - offset) + offset      # Se toman las columnas de la diagonal, desplazándose una cantidad 'offset' de columnas hacia la derecha\n",
    "                else:                                           # La diagonal de la casilla está a la izquierda y abajo de la diagonal principal\n",
    "                    rows = np.arange(n_rows + offset) - offset      # Se toman las filas de la diagonal, desplazándose una cantidad 'offset' de filas hacia abajo\n",
    "                    cols = np.arange(n_cols + offset)               # Se toman las columnas de la diagonal, desplazándose una cantidad 'offset' de columnas hacia la izquierda\n",
    "                newBoard[rows, cols] = 2                        # Toda la diagonal es atacada\n",
    "                \n",
    "                ### Anti-diagonal ###                       # La diagonal vista de la esquina inferior izquierda a la superior derecha\n",
    "                diag_sum = i + j                                # Se determina la suma de los índices de la antidiagonal\n",
    "                if diag_sum < n_rows:                           # La anti-diagonal está a la izquierda y arriba de la anti-diagonal principal\n",
    "                    anti_rows = np.arange(diag_sum + 1)             # Se toman las primeras diag_sum + 1 filas, compensando el desplazamiento hacia arriba\n",
    "                    anti_cols = diag_sum - anti_rows                # Se toman las primeras diag_sum + 1 columnas, inversamente a las filas, compensando el desplazamiento hacia la izquierda\n",
    "                else:                                           # La anti-diagonal está a la derecha y abajo de la anti-diagonal principal\n",
    "                    start_col = diag_sum - (n_rows - 1)             # Se determina a partir de qué columna tomar\n",
    "                    anti_cols = np.arange(start_col, n_cols)        # Se toman las últimas columnas a partir de la determinada, compensando el movimiento hacia la derecha\n",
    "                    anti_rows = diag_sum - anti_cols                # Se toman las últimas filas, inversamente a las columnas, compensando el desplazamiento hacia abajo\n",
    "                valid_indices = (anti_rows >= 0) & (anti_rows < n_rows) & (anti_cols >= 0) & (anti_cols < n_cols)   # Se validan los límites de las filas y columnas de la anti-diagonal\n",
    "                anti_rows = anti_rows[valid_indices]            # Se descartan los índices de las filas fuera de los límites\n",
    "                anti_cols = anti_cols[valid_indices]            # Se descartan los índices de las columnas fuera de los límites\n",
    "                newBoard[anti_rows, anti_cols] = 2              # Toda la anti-diagonal es atacada\n",
    "\n",
    "                newBoard[i][j] = 1                              # Se coloca la reina en la casilla (i, j)\n",
    "\n",
    "                successors.append(ss.node(newBoard, op=\"place\", depth=node.depth+1, parent=node))   # Se añade el nuevo nodo a la lista de sucesores\n",
    "    return successors"
   ]
  },
  {
   "cell_type": "code",
   "execution_count": 105,
   "id": "6c36928e",
   "metadata": {},
   "outputs": [
    {
     "name": "stdout",
     "output_type": "stream",
     "text": [
      "64\n"
     ]
    }
   ],
   "source": [
    "successors = placeQueen(startNode)\n",
    "print(len(successors))"
   ]
  }
 ],
 "metadata": {
  "kernelspec": {
   "display_name": ".venv",
   "language": "python",
   "name": "python3"
  },
  "language_info": {
   "codemirror_mode": {
    "name": "ipython",
    "version": 3
   },
   "file_extension": ".py",
   "mimetype": "text/x-python",
   "name": "python",
   "nbconvert_exporter": "python",
   "pygments_lexer": "ipython3",
   "version": "3.12.3"
  }
 },
 "nbformat": 4,
 "nbformat_minor": 5
}
