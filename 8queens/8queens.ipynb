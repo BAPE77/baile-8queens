{
 "cells": [
  {
   "cell_type": "markdown",
   "id": "fb40be12",
   "metadata": {},
   "source": [
    "# Problema de las Ocho Reinas"
   ]
  },
  {
   "cell_type": "code",
   "execution_count": 3,
   "id": "a5c0ffab",
   "metadata": {},
   "outputs": [],
   "source": [
    "state0 = (\n",
    "    (0, 0, 0, 0, 0, 0, 0, 0),\n",
    "    (0, 0, 0, 0, 0, 0, 0, 0),\n",
    "    (0, 0, 0, 0, 0, 0, 0, 0),\n",
    "    (0, 0, 0, 0, 0, 0, 0, 0),\n",
    "    (0, 0, 0, 0, 0, 0, 0, 0),\n",
    "    (0, 0, 0, 0, 0, 0, 0, 0),\n",
    "    (0, 0, 0, 0, 0, 0, 0, 0),\n",
    "    (0, 0, 0, 0, 0, 0, 0, 0),\n",
    ")"
   ]
  },
  {
   "cell_type": "code",
   "execution_count": 4,
   "id": "fd49427a",
   "metadata": {},
   "outputs": [
    {
     "data": {
      "text/plain": [
       "<module 'SimpleSearch' from '/home/bape119/UMSNH/9thSemester/AI/projects/8QueensProblem/baile-8queens/src/SimpleSearch.py'>"
      ]
     },
     "execution_count": 4,
     "metadata": {},
     "output_type": "execute_result"
    }
   ],
   "source": [
    "import sys, os\n",
    "baile_path = os.path.abspath(os.path.join(\"..\",\"src\"))\n",
    "if not baile_path in sys.path:\n",
    "    sys.path.append(baile_path)\n",
    "import SimpleSearch as ss\n",
    "from importlib import reload\n",
    "reload(ss)"
   ]
  }
 ],
 "metadata": {
  "kernelspec": {
   "display_name": ".venv",
   "language": "python",
   "name": "python3"
  },
  "language_info": {
   "codemirror_mode": {
    "name": "ipython",
    "version": 3
   },
   "file_extension": ".py",
   "mimetype": "text/x-python",
   "name": "python",
   "nbconvert_exporter": "python",
   "pygments_lexer": "ipython3",
   "version": "3.12.3"
  }
 },
 "nbformat": 4,
 "nbformat_minor": 5
}
