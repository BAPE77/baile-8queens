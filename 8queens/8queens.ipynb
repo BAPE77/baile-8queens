{
 "cells": [
  {
   "cell_type": "markdown",
   "id": "fb40be12",
   "metadata": {},
   "source": [
    "# Problema de las Ocho Reinas"
   ]
  },
  {
   "cell_type": "markdown",
   "id": "45e1b926",
   "metadata": {},
   "source": [
    "## Contenidos\n",
    "- [Contenidos](#contenidos)\n",
    "- [Introducción](#introducción)\n",
    "- [Planteamiento del Problema](#planteamiento-del-problema)\n",
    "    - [Estados](#estados)\n",
    "        - [Representación](#representación)\n",
    "        - [Estado Inicial](#estado-inicial)\n",
    "        - [Estado Final](#estado-final)\n",
    "    - [Condición de Meta](#condición-de-meta)\n",
    "    - [Función Sucesor](#función-sucesor)\n",
    "- [Desarrollo del Problema](#desarrollo-del-problema)\n",
    "    - [Importar Bibliotecas](#importar-bibliotecas)\n",
    "    - [Declaración del Estado Inicial](#declaración-del-estado-inicial)\n",
    "    - [Impresión del Tablero](#impresión-del-tablero)\n",
    "    - [Definición de la Función Sucesor](#definición-de-la-función-sucesor)"
   ]
  },
  {
   "cell_type": "markdown",
   "id": "53fc3a44",
   "metadata": {},
   "source": [
    "## Introducción\n",
    "El problema de las ocho reinas consiste en colocar ocho reinas en un tablero de ajedrez de tamaño de $8\\times8$ casillas, de manera que ninguna reina se amenace entre sí; es decir, que ninguna reina sea colocada en la misma columna, fila o diagonal que otra reina."
   ]
  },
  {
   "cell_type": "markdown",
   "id": "e4f39cce",
   "metadata": {},
   "source": [
    "![8queens_solution1](8queens_solution1.png)"
   ]
  },
  {
   "cell_type": "markdown",
   "id": "1ade3df5",
   "metadata": {},
   "source": [
    "## Planteamiento del Problema\n",
    "Debido a la naturaleza del problema, se requiere una manera de representar el tablero de ajedrez (dimensiones de $8\\times8$), representando cada una de las $64$ casillas, así como la existencia de una reina en alguna de esas casillas, con hasta un máximo de $8$ reinas en total. El problema parte de alguna distribución determinada y termina una vez se haya encontrado una combinación en la que ninguna reina ataque a otra reina y en que todas hayan sido colocadas en el tablero. Esto implica que el problema tiene una profundidad máxima de $8$, si consideramos la profundidad $0$ como el estado en el que no hay ninguna reina sobre el tablero."
   ]
  },
  {
   "cell_type": "markdown",
   "id": "c3452a2a",
   "metadata": {},
   "source": [
    "### Estados\n",
    "Cada distribución posible de las reinas en el tablero sería un estado posible. El primer estado, o estado $0$ será aquél con cero reinas en el tablero, mientras que los siguientes $64$ posibles estados serán para representar el tablero con una sola reina; los siguientes $63$ estados serán para el tablero con dos reinas en total, y asi sucesivamente. Esto implica que, para todo el problema, la cantidad total de posibles  estados es $64\\times63\\times62\\times61\\times60\\times59\\times58\\times57=178,462,987,637,760$. Por esto mismo, es importante encontrar criterios clave al momento de definir la función sucesoria y las posibles heurísticas."
   ]
  },
  {
   "cell_type": "markdown",
   "id": "df80c1e3",
   "metadata": {},
   "source": [
    "#### Representación\n",
    "Para representar el tablero de ajedrez, así como la posición de las reinas en las casillas y, por consiguiente, cada estado, se utilizará una matriz de dimensiones $8\\times8$. Esta matriz estará inicialmente llena de ceros, y cada cero representará cada casilla sin reina y que no esté siendo atacada. Para representar a una reina ubicada en la casilla $(i,j)$, a esa posición en la matriz se le asignará un uno. Para representar una casilla vacía que está siendo atacada se utilizará el número dos.\n",
    "\n",
    "Así pues, el estado $0$ se tendrá de la siguiente forma:\n",
    "| &nbsp; | 0 | 1 | 2 | 3 | 4 | 5 | 6 | 7 |\n",
    "| --- | --- | --- | --- | --- | --- | --- | --- | ---|\n",
    "| __0__ | 0 | 0 | 0 | 0 | 0 | 0 | 0 | 0 |\n",
    "| __1__ | 0 | 0 | 0 | 0 | 0 | 0 | 0 | 0 |\n",
    "| __2__ | 0 | 0 | 0 | 0 | 0 | 0 | 0 | 0 |\n",
    "| __3__ | 0 | 0 | 0 | 0 | 0 | 0 | 0 | 0 |\n",
    "| __4__ | 0 | 0 | 0 | 0 | 0 | 0 | 0 | 0 |\n",
    "| __5__ | 0 | 0 | 0 | 0 | 0 | 0 | 0 | 0 |\n",
    "| __6__ | 0 | 0 | 0 | 0 | 0 | 0 | 0 | 0 |\n",
    "| __7__ | 0 | 0 | 0 | 0 | 0 | 0 | 0 | 0 |\n",
    "\n",
    "Un tablero con una sola reina podrá representarse de la siguiente manera:\n",
    "| &nbsp; | 0 | 1 | 2 | 3 | 4 | 5 | 6 | 7 |\n",
    "| --- | --- | --- | --- | --- | --- | --- | --- | ---|\n",
    "| __0__ | 2 | 0 | 2 | 0 | 2 | 0 | 0 | 0 |\n",
    "| __1__ | 0 | 2 | 2 | 2 | 0 | 0 | 0 | 0 |\n",
    "| __2__ | 2 | 2 | 1 | 2 | 2 | 2 | 2 | 2 |\n",
    "| __3__ | 0 | 2 | 2 | 2 | 0 | 0 | 0 | 0 |\n",
    "| __4__ | 2 | 0 | 2 | 0 | 2 | 0 | 0 | 0 |\n",
    "| __5__ | 0 | 0 | 2 | 0 | 0 | 2 | 0 | 0 |\n",
    "| __6__ | 0 | 0 | 2 | 0 | 0 | 0 | 2 | 0 |\n",
    "| __7__ | 0 | 0 | 2 | 0 | 0 | 0 | 0 | 2 |\n",
    "\n",
    "Y uno con dos reinas, de la siguiente forma:\n",
    "| &nbsp; | 0 | 1 | 2 | 3 | 4 | 5 | 6 | 7 |\n",
    "| --- | --- | --- | --- | --- | --- | --- | --- | ---|\n",
    "| __0__ | 2 | 0 | 2 | 2 | 2 | 0 | 0 | 2 |\n",
    "| __1__ | 0 | 2 | 2 | 2 | 0 | 0 | 2 | 0 |\n",
    "| __2__ | 2 | 2 | 1 | 2 | 2 | 2 | 2 | 2 |\n",
    "| __3__ | 0 | 2 | 2 | 2 | 2 | 0 | 0 | 0 |\n",
    "| __4__ | 2 | 2 | 2 | 1 | 2 | 2 | 2 | 2 |\n",
    "| __5__ | 0 | 0 | 2 | 2 | 2 | 2 | 0 | 0 |\n",
    "| __6__ | 0 | 2 | 2 | 2 | 0 | 2 | 2 | 0 |\n",
    "| __7__ | 2 | 0 | 2 | 2 | 0 | 0 | 2 | 2 |"
   ]
  },
  {
   "cell_type": "markdown",
   "id": "ebd7d64f",
   "metadata": {},
   "source": [
    "#### Estado Inicial\n",
    "Podemos partir del estado $0$, o de cualquier otro estado que cuente con reinas que no se ataquen entre sí."
   ]
  },
  {
   "cell_type": "markdown",
   "id": "44f07fc3",
   "metadata": {},
   "source": [
    "#### Estado Final\n",
    "\n",
    "Para este problema existen $92$ soluciones totales. Cualquier distribución que entre en el conjunto de esas soluciones se considerará como un estado final. Estos estados se logran una vez las $8$ reinas han sido colocadas sobre el tablero sin que ningún par de reinas se ataque entre sí.\n",
    "\n",
    "Un ejemplo de un estado final puede ser:\n",
    "| &nbsp; | 0 | 1 | 2 | 3 | 4 | 5 | 6 | 7 |\n",
    "| --- | --- | --- | --- | --- | --- | --- | --- | ---|\n",
    "| __0__ | 2 | 2 | 2 | 1 | 2 | 2 | 2 | 2 |\n",
    "| __1__ | 2 | 2 | 2 | 2 | 2 | 2 | 1 | 2 |\n",
    "| __2__ | 2 | 2 | 1 | 2 | 2 | 2 | 2 | 2 |\n",
    "| __3__ | 2 | 2 | 2 | 2 | 2 | 2 | 2 | 1 |\n",
    "| __4__ | 2 | 1 | 2 | 2 | 2 | 2 | 2 | 2 |\n",
    "| __5__ | 2 | 2 | 2 | 2 | 1 | 2 | 2 | 2 |\n",
    "| __6__ | 1 | 2 | 2 | 2 | 2 | 2 | 2 | 2 |\n",
    "| __7__ | 2 | 2 | 2 | 2 | 2 | 1 | 2 | 2 |"
   ]
  },
  {
   "cell_type": "markdown",
   "id": "091a2ba5",
   "metadata": {},
   "source": [
    "### Condición de Meta\n",
    "Para corroborar que se ha alcanzado el estado final, se verificará que la cantidad de reinas colocadas en el tablero sea igual a  $8$. Adicionalmente, se realizarán verificaciones adicionales para determinar si ningún par de reinas se está atacando entre sí. En caso de que ambas condiciones se hayan cumplido, se considerará a dicho estado como una meta o estado final."
   ]
  },
  {
   "cell_type": "markdown",
   "id": "7fbfcdcb",
   "metadata": {},
   "source": [
    "### Función Sucesor\n",
    "La función sucesor recibirá el estado actual en el que se encuentra el tablero. Posteriormente, buscará la primera casilla sin reina o sin ser atacada, y en esa casilla colocará una reina. Finalmente, marcará todas las casillas que esa reina ataque. Haciendo la verificación de casillas atacadas, se tiene una reducción considerable del espacio de estados a analizar."
   ]
  },
  {
   "cell_type": "markdown",
   "id": "8c4f1d71",
   "metadata": {},
   "source": [
    "## Desarrollo del Problema"
   ]
  },
  {
   "cell_type": "markdown",
   "id": "bb0ef1fb",
   "metadata": {},
   "source": [
    "### Importar Bibliotecas\n",
    "Para esta parte se requieren bibliotecas básicas, en particular Numpy para el manejo de la matríz que representará al tablero de ajedrez. Adicionalmente, definimos la ruta hacia la biblioteca baile, y de esta obtenemos el módulo para búsqueda simple \"SimpleSearch\"."
   ]
  },
  {
   "cell_type": "code",
   "execution_count": 295,
   "id": "fd49427a",
   "metadata": {},
   "outputs": [
    {
     "data": {
      "text/plain": [
       "<module 'SimpleSearch' from '/home/bape119/UMSNH/9thSemester/AI/projects/8QueensProblem/baile-8queens/src/SimpleSearch.py'>"
      ]
     },
     "execution_count": 295,
     "metadata": {},
     "output_type": "execute_result"
    }
   ],
   "source": [
    "import numpy as np\n",
    "import random\n",
    "import sys, os\n",
    "baile_path = os.path.abspath(os.path.join(\"..\",\"src\"))\n",
    "if not baile_path in sys.path:\n",
    "    sys.path.append(baile_path)\n",
    "import SimpleSearch as ss\n",
    "from importlib import reload\n",
    "reload(ss)"
   ]
  },
  {
   "cell_type": "markdown",
   "id": "02016c1a",
   "metadata": {},
   "source": [
    "### Declaración del Estado Inicial\n",
    "Como se mencionó previamente, se partirá del estado $0$. De igual forma, cada estado se representa con una matríz de enteros, donde cada valor puede ser $0$ (casilla vacía y sin atacar), $1$ (casilla con reina) o $2$ (casilla atacada).\n",
    "\n",
    "Así pues, se define un arreglo bidimensional de Numpy, de dimensiones de $8\\times8$ lleno de ceros. Sin embargo, para que la biblioteca baile pueda trabajar con este arreglo, se require que sea inmutable. Para esto, lo convertimos en una tupla de tuplas, y a partir de ese, generamos el nodo."
   ]
  },
  {
   "cell_type": "code",
   "execution_count": 296,
   "id": "a5c0ffab",
   "metadata": {},
   "outputs": [],
   "source": [
    "state0 = np.array([\n",
    "    [0, 0, 0, 0, 0, 0, 0, 0],\n",
    "    [0, 0, 0, 0, 0, 0, 0, 0],\n",
    "    [0, 0, 0, 0, 0, 0, 0, 0],\n",
    "    [0, 0, 0, 0, 0, 0, 0, 0],\n",
    "    [0, 0, 0, 0, 0, 0, 0, 0],\n",
    "    [0, 0, 0, 0, 0, 0, 0, 0],\n",
    "    [0, 0, 0, 0, 0, 0, 0, 0],\n",
    "    [0, 0, 0, 0, 0, 0, 0, 0],\n",
    "])\n",
    "state0 = tuple([tuple(row) for row in state0])\n",
    "startNode = ss.node(state0, op=\"Inicio\")"
   ]
  },
  {
   "cell_type": "markdown",
   "id": "22e14546",
   "metadata": {},
   "source": [
    "### Impresión del Tablero\n",
    "Se define una función que permita una impresión más amigable a la vista para un tablero. Para cada casilla vacía se coloca un '.', para una reina se coloca una 'Q' y para una casilla atacada se coloca 'x'. Esta función nos servirá más adelante para las impresiones de los caminos. También permite la impresión de la representación numérica de la matriz, para identificar los valores que asignamos a cada elemento."
   ]
  },
  {
   "cell_type": "code",
   "execution_count": 297,
   "id": "993fdc4c",
   "metadata": {},
   "outputs": [],
   "source": [
    "def printChessBoard(state, numerical=0):\n",
    "    board = np.array(state)\n",
    "    for row in board:\n",
    "        line = \" \".join(\n",
    "            \"Q\" if val == 1 else \".\" if val == 0 else \"x\"\n",
    "            for val in row\n",
    "            )\n",
    "        if numerical == 1:\n",
    "            line = line + \"   \" + np.array_str(row)\n",
    "        print(line)"
   ]
  },
  {
   "cell_type": "markdown",
   "id": "dad0d113",
   "metadata": {},
   "source": [
    "Hacemos una impresión de las características principales del estado inicial."
   ]
  },
  {
   "cell_type": "code",
   "execution_count": 298,
   "id": "4c9af81c",
   "metadata": {},
   "outputs": [
    {
     "name": "stdout",
     "output_type": "stream",
     "text": [
      "\n",
      "Operación: Inicio, Profundidad: 0\n",
      "Tablero:\n",
      ". . . . . . . .   [0 0 0 0 0 0 0 0]\n",
      ". . . . . . . .   [0 0 0 0 0 0 0 0]\n",
      ". . . . . . . .   [0 0 0 0 0 0 0 0]\n",
      ". . . . . . . .   [0 0 0 0 0 0 0 0]\n",
      ". . . . . . . .   [0 0 0 0 0 0 0 0]\n",
      ". . . . . . . .   [0 0 0 0 0 0 0 0]\n",
      ". . . . . . . .   [0 0 0 0 0 0 0 0]\n",
      ". . . . . . . .   [0 0 0 0 0 0 0 0]\n"
     ]
    }
   ],
   "source": [
    "print(f\"\\nOperación: {startNode.op}, Profundidad: {startNode.depth}\")\n",
    "print(\"Tablero:\")\n",
    "printChessBoard(startNode.state, 1)"
   ]
  },
  {
   "cell_type": "markdown",
   "id": "5f2e1934",
   "metadata": {},
   "source": [
    "### Definición de la Función Sucesor\n",
    "Como ya se mencionó, esta consiste en colocar una reina en alguna de las casillas que se encuentren disponibles, es decir, sin una reina en ellas y que no estén siendo atacadas.\n",
    "\n",
    "Para la función sucesor, partimos de un estado $S$. Realizamos una copia de dicho estado, y creamos una lista para sus posibles sucesores.\n",
    "\n",
    "La intención es recorrer cada casilla del tablero (elemento de la matríz) y, en caso de encontrar una casilla disponible, colocar una reina en ella.\n",
    "\n",
    "Al encontrarse la casilla, se crea una copia del estado anterior, para generar el nuevo estado. La columna y la fila donde se encuentra la casilla disponible ahora serán atacadas, por lo que se les asigna un $2$.\n",
    "\n",
    "Una vez la fila y la columna se han indicado como atacadas, se busca la diagonal de arriba a la izquierda hacia abajo a la derecha a la que pertenece la casilla. Para esto, consideramos como referencia la diagonal principal, es decir, aquella que va desde $(0, 0)$ hasta $(7, 7)$, y consideramos un offset, que determina el desplazamiento en diagonales hacia la derecha y arriba (offset positivo) o hacia la izquierda y abajo (offset negativo). Este offset, para la casilla $(i, j)$ se puede calcular como $j-i$.\n",
    "\n",
    "De igual forma, se busca la anti-diagonal de la casilla, para la que se cumple que todo valor de $(i+k)+(j-k)=i+j$. Es decir, cualquier desplazamiento sobre esa diagonal, dará un valor constante al sumar sus índices. En base a este número también es posible determinar si la anti-diagonal en la que se encuentra la casilla $(i, j)$ está arriba a la izquierda o abajo a la derecha de la anti-diagonal principal."
   ]
  },
  {
   "cell_type": "markdown",
   "id": "3640815d",
   "metadata": {},
   "source": [
    "#### Función Sucesor Secuencial"
   ]
  },
  {
   "cell_type": "code",
   "execution_count": 299,
   "id": "f803eb13",
   "metadata": {},
   "outputs": [],
   "source": [
    "def placeQueenSequence(node):\n",
    "    board = np.array(node.state)            # Copia de estado S\n",
    "    successors = []                         # Lista de sucesores\n",
    "    for i in range (0, len(board)):         # Recorrer filas del tablero\n",
    "        for j in range (0, len(board)):         # Recorrer columnas del tablero\n",
    "            if board[i][j] == 0:                    # Si la casilla (i, j) está libre\n",
    "                newBoard = board.copy()                 # Se copia el estado anterior\n",
    "\n",
    "                # Filas y Columnas\n",
    "                newBoard[i, :] = 2                      # Toda la fila i es atacada\n",
    "                newBoard[:, j] = 2                      # Toda la columna j es atacada\n",
    "\n",
    "                ### Diagonal ###                        # La diagonal vista de esquina superior izquierda a la inferior derecha\n",
    "                nRows, nCols = newBoard.shape           # Se determina el número de filas y de columnas\n",
    "                offset = j - i                          # Indica en qué diagonal se encuentra la casilla con relación a la diagonal principal\n",
    "                if offset >= 0:                         # La diagonal de la casilla está a la derecha y arriba de la diagonal principal\n",
    "                    rows = np.arange(nRows - offset)        # Se toman las filas de la diagonal, desplazándose una cantidad 'offset' de filas hacia arriba\n",
    "                    cols = np.arange(nCols - offset) + offset   # Se toman las columnas de la diagonal, desplazándose una cantidad 'offset' de columnas hacia la derecha\n",
    "                else:                                   # La diagonal de la casilla está a la izquierda y abajo de la diagonal principal\n",
    "                    rows = np.arange(nRows + offset) - offset   # Se toman las filas de la diagonal, desplazándose una cantidad 'offset' de filas hacia abajo\n",
    "                    cols = np.arange(nCols + offset)        # Se toman las columnas de la diagonal, desplazándose una cantidad 'offset' de columnas hacia la izquierda\n",
    "                newBoard[rows, cols] = 2                # Toda la diagonal es atacada\n",
    "                \n",
    "                ### Anti-diagonal ###                   # La diagonal vista de la esquina inferior izquierda a la superior derecha\n",
    "                diagSum = i + j                         # Se determina la suma de los índices de la antidiagonal\n",
    "                if diagSum < nRows:                     # La anti-diagonal está a la izquierda y arriba de la anti-diagonal principal\n",
    "                    antiRows = np.arange(diagSum + 1)       # Se toman las primeras diagSum + 1 filas, compensando el desplazamiento hacia arriba\n",
    "                    antiCols = diagSum - antiRows           # Se toman las primeras diagSum + 1 columnas, inversamente a las filas, compensando el desplazamiento hacia la izquierda\n",
    "                else:                                   # La anti-diagonal está a la derecha y abajo de la anti-diagonal principal\n",
    "                    start_col = diagSum - (nRows - 1)       # Se determina a partir de qué columna tomar\n",
    "                    antiCols = np.arange(start_col, nCols)  # Se toman las últimas columnas a partir de la determinada, compensando el movimiento hacia la derecha\n",
    "                    antiRows = diagSum - antiCols           # Se toman las últimas filas, inversamente a las columnas, compensando el desplazamiento hacia abajo\n",
    "                validIndices = (antiRows >= 0) & (antiRows < nRows) & (antiCols >= 0) & (antiCols < nCols)  # Se validan los límites de las filas y columnas de la anti-diagonal\n",
    "                antiRows = antiRows[validIndices]       # Se descartan los índices de las filas fuera de los límites\n",
    "                antiCols = antiCols[validIndices]       # Se descartan los índices de las columnas fuera de los límites\n",
    "                newBoard[antiRows, antiCols] = 2        # Toda la anti-diagonal es atacada\n",
    "\n",
    "                newBoard[i][j] = 1                      # Se coloca la reina en la casilla (i, j)\n",
    "\n",
    "                newBoard = tuple([tuple(row) for row in newBoard])  # Se convierte a una tupla de tuplas para ser inmutable\n",
    "\n",
    "                op = f\"Reina colocada en ({i}, {j})\"    # Se indica la operación de dónde se coloca la reina\n",
    "\n",
    "                successors.append(ss.node(newBoard, op=op, depth=node.depth+1, parent=node))    # Se añade el nuevo nodo a la lista de sucesores\n",
    "    return successors"
   ]
  },
  {
   "cell_type": "markdown",
   "id": "160931ac",
   "metadata": {},
   "source": [
    "#### Función Sucesor Aleatoria"
   ]
  },
  {
   "cell_type": "code",
   "execution_count": 300,
   "id": "0d218629",
   "metadata": {},
   "outputs": [],
   "source": [
    "def placeQueenRandom(node):\n",
    "    board = np.array(node.state)            # Copia de estado S\n",
    "    successors = []                         # Lista de sucesores\n",
    "    available = [(i, j) for i in range(len(board)) for j in range(len(board)) if board[i][j] == 0]  # Se buscan las casillas libres totales\n",
    "    random.shuffle(available)               # Se ordenan las casillas libres de manera aleatoria\n",
    "    for i, j in available:                  # Se recorre cada casilla libre\n",
    "        newBoard = board.copy()                 # Se copia el estado anterior\n",
    "\n",
    "        # Filas y Columnas\n",
    "        newBoard[i, :] = 2                      # Toda la fila i es atacada\n",
    "        newBoard[:, j] = 2                      # Toda la columna j es atacada\n",
    "\n",
    "        ### Diagonal ###                        # La diagonal vista de esquina superior izquierda a la inferior derecha\n",
    "        nRows, nCols = newBoard.shape           # Se determina el número de filas y de columnas\n",
    "        offset = j - i                          # Indica en qué diagonal se encuentra la casilla con relación a la diagonal principal\n",
    "        if offset >= 0:                         # La diagonal de la casilla está a la derecha y arriba de la diagonal principal\n",
    "            rows = np.arange(nRows - offset)        # Se toman las filas de la diagonal, desplazándose una cantidad 'offset' de filas hacia arriba\n",
    "            cols = np.arange(nCols - offset) + offset   # Se toman las columnas de la diagonal, desplazándose una cantidad 'offset' de columnas hacia la derecha\n",
    "        else:                                   # La diagonal de la casilla está a la izquierda y abajo de la diagonal principal\n",
    "            rows = np.arange(nRows + offset) - offset   # Se toman las filas de la diagonal, desplazándose una cantidad 'offset' de filas hacia abajo\n",
    "            cols = np.arange(nCols + offset)        # Se toman las columnas de la diagonal, desplazándose una cantidad 'offset' de columnas hacia la izquierda\n",
    "        newBoard[rows, cols] = 2                # Toda la diagonal es atacada\n",
    "                \n",
    "        ### Anti-diagonal ###                   # La diagonal vista de la esquina inferior izquierda a la superior derecha\n",
    "        diagSum = i + j                         # Se determina la suma de los índices de la antidiagonal\n",
    "        if diagSum < nRows:                     # La anti-diagonal está a la izquierda y arriba de la anti-diagonal principal\n",
    "            antiRows = np.arange(diagSum + 1)       # Se toman las primeras diagSum + 1 filas, compensando el desplazamiento hacia arriba\n",
    "            antiCols = diagSum - antiRows           # Se toman las primeras diagSum + 1 columnas, inversamente a las filas, compensando el desplazamiento hacia la izquierda\n",
    "        else:                                   # La anti-diagonal está a la derecha y abajo de la anti-diagonal principal\n",
    "            start_col = diagSum - (nRows - 1)       # Se determina a partir de qué columna tomar\n",
    "            antiCols = np.arange(start_col, nCols)  # Se toman las últimas columnas a partir de la determinada, compensando el movimiento hacia la derecha\n",
    "            antiRows = diagSum - antiCols           # Se toman las últimas filas, inversamente a las columnas, compensando el desplazamiento hacia abajo\n",
    "        validIndices = (antiRows >= 0) & (antiRows < nRows) & (antiCols >= 0) & (antiCols < nCols)  # Se validan los límites de las filas y columnas de la anti-diagonal\n",
    "        antiRows = antiRows[validIndices]       # Se descartan los índices de las filas fuera de los límites\n",
    "        antiCols = antiCols[validIndices]       # Se descartan los índices de las columnas fuera de los límites\n",
    "        newBoard[antiRows, antiCols] = 2        # Toda la anti-diagonal es atacada\n",
    "\n",
    "        newBoard[i][j] = 1                      # Se coloca la reina en la casilla (i, j)\n",
    "\n",
    "        newBoard = tuple([tuple(row) for row in newBoard])  # Se convierte a una tupla de tuplas para ser inmutable\n",
    "\n",
    "        op = f\"Reina colocada en ({i}, {j})\"    # Se indica la operación de dónde se coloca la reina\n",
    "\n",
    "        successors.append(ss.node(newBoard, op=op, depth=node.depth+1, parent=node))    # Se añade el nuevo nodo a la lista de sucesores\n",
    "    return successors"
   ]
  },
  {
   "cell_type": "markdown",
   "id": "865a7e12",
   "metadata": {},
   "source": [
    "### Definición de Función de Meta"
   ]
  },
  {
   "cell_type": "code",
   "execution_count": 301,
   "id": "5ea11f75",
   "metadata": {},
   "outputs": [],
   "source": [
    "def goalEightQueens(*states):\n",
    "    start = states[0]\n",
    "    final = states[1]\n",
    "    if final == None:\n",
    "        unique, counts = np.unique(start.state, return_counts=True)\n",
    "        cellValues = dict(zip(unique, counts))\n",
    "        return 0 not in cellValues and cellValues.get(1) == 8\n",
    "    else:\n",
    "        return (start.state == final.state).all()\n"
   ]
  },
  {
   "cell_type": "markdown",
   "id": "cf7cdecc",
   "metadata": {},
   "source": [
    "### Declaración del Estado Final"
   ]
  },
  {
   "cell_type": "code",
   "execution_count": 302,
   "id": "c6ce8ba3",
   "metadata": {},
   "outputs": [
    {
     "name": "stdout",
     "output_type": "stream",
     "text": [
      "False\n"
     ]
    }
   ],
   "source": [
    "state8 = np.array([\n",
    "    [2, 2, 2, 1, 2, 2, 2, 2],\n",
    "    [2, 2, 2, 2, 2, 2, 1, 2],\n",
    "    [2, 2, 1, 2, 2, 2, 2, 2],\n",
    "    [2, 2, 2, 2, 2, 2, 2, 1],\n",
    "    [2, 1, 2, 2, 2, 2, 2, 2],\n",
    "    [2, 2, 2, 2, 1, 2, 2, 2],\n",
    "    [1, 2, 2, 2, 2, 2, 2, 2],\n",
    "    [2, 2, 2, 2, 2, 1, 2, 2],\n",
    "])\n",
    "finalNode = ss.node(state8, op=\"Final\")\n",
    "print(goalEightQueens(startNode, finalNode))"
   ]
  },
  {
   "cell_type": "markdown",
   "id": "aa802124",
   "metadata": {},
   "source": [
    "### Impresión de Caminos"
   ]
  },
  {
   "cell_type": "code",
   "execution_count": 303,
   "id": "34a1eed6",
   "metadata": {},
   "outputs": [],
   "source": [
    "def print_path(seq):\n",
    "    for state, op, depth in seq:\n",
    "        print(f\"Operación: {op}, Profundidad: {depth}\")\n",
    "        print(\"Tablero:\")\n",
    "        printChessBoard(state, 1)"
   ]
  },
  {
   "cell_type": "markdown",
   "id": "9d36e6d9",
   "metadata": {},
   "source": [
    "### Búsqueda BFS"
   ]
  },
  {
   "cell_type": "markdown",
   "id": "6c8975b7",
   "metadata": {},
   "source": [
    "#### BFS sin Meta"
   ]
  },
  {
   "cell_type": "code",
   "execution_count": 304,
   "id": "33dc09d6",
   "metadata": {},
   "outputs": [],
   "source": [
    "bfsSequence = ss.BlindSearch(startNode, placeQueenSequence, goalEightQueens, strategy=\"bfs\")\n",
    "bfsRandom = ss.BlindSearch(startNode, placeQueenRandom, goalEightQueens, strategy=\"bfs\")"
   ]
  },
  {
   "cell_type": "markdown",
   "id": "17e850a8",
   "metadata": {},
   "source": [
    "##### Sucesión en Secuencia"
   ]
  },
  {
   "cell_type": "code",
   "execution_count": 305,
   "id": "b8417dc3",
   "metadata": {},
   "outputs": [
    {
     "name": "stdout",
     "output_type": "stream",
     "text": [
      "finished in 118878 iterations\n",
      "Se acabaron los estados: 91\n"
     ]
    }
   ],
   "source": [
    "resultBS = bfsSequence.find()"
   ]
  },
  {
   "cell_type": "markdown",
   "id": "730c5394",
   "metadata": {},
   "source": [
    "###### Resultados"
   ]
  },
  {
   "cell_type": "code",
   "execution_count": 306,
   "id": "eb188204",
   "metadata": {},
   "outputs": [
    {
     "name": "stdout",
     "output_type": "stream",
     "text": [
      "Q x x x x x x x   [1 2 2 2 2 2 2 2]\n",
      "x x x x Q x x x   [2 2 2 2 1 2 2 2]\n",
      "x x x x x x x Q   [2 2 2 2 2 2 2 1]\n",
      "x x x x x Q x x   [2 2 2 2 2 1 2 2]\n",
      "x x Q x x x x x   [2 2 1 2 2 2 2 2]\n",
      "x x x x x x Q x   [2 2 2 2 2 2 1 2]\n",
      "x Q x x x x x x   [2 1 2 2 2 2 2 2]\n",
      "x x x Q x x x x   [2 2 2 1 2 2 2 2]\n"
     ]
    }
   ],
   "source": [
    "printChessBoard(resultBS.state, 1)"
   ]
  },
  {
   "cell_type": "markdown",
   "id": "8c8a004f",
   "metadata": {},
   "source": [
    "###### Camino"
   ]
  },
  {
   "cell_type": "code",
   "execution_count": 307,
   "id": "1923f28f",
   "metadata": {},
   "outputs": [
    {
     "name": "stdout",
     "output_type": "stream",
     "text": [
      "Longitud de la Solución: 9\n",
      "Operación: Inicio, Profundidad: 0\n",
      "Tablero:\n",
      ". . . . . . . .   [0 0 0 0 0 0 0 0]\n",
      ". . . . . . . .   [0 0 0 0 0 0 0 0]\n",
      ". . . . . . . .   [0 0 0 0 0 0 0 0]\n",
      ". . . . . . . .   [0 0 0 0 0 0 0 0]\n",
      ". . . . . . . .   [0 0 0 0 0 0 0 0]\n",
      ". . . . . . . .   [0 0 0 0 0 0 0 0]\n",
      ". . . . . . . .   [0 0 0 0 0 0 0 0]\n",
      ". . . . . . . .   [0 0 0 0 0 0 0 0]\n",
      "Operación: Reina colocada en (0, 0), Profundidad: 1\n",
      "Tablero:\n",
      "Q x x x x x x x   [1 2 2 2 2 2 2 2]\n",
      "x x . . . . . .   [2 2 0 0 0 0 0 0]\n",
      "x . x . . . . .   [2 0 2 0 0 0 0 0]\n",
      "x . . x . . . .   [2 0 0 2 0 0 0 0]\n",
      "x . . . x . . .   [2 0 0 0 2 0 0 0]\n",
      "x . . . . x . .   [2 0 0 0 0 2 0 0]\n",
      "x . . . . . x .   [2 0 0 0 0 0 2 0]\n",
      "x . . . . . . x   [2 0 0 0 0 0 0 2]\n",
      "Operación: Reina colocada en (1, 4), Profundidad: 2\n",
      "Tablero:\n",
      "Q x x x x x x x   [1 2 2 2 2 2 2 2]\n",
      "x x x x Q x x x   [2 2 2 2 1 2 2 2]\n",
      "x . x x x x . .   [2 0 2 2 2 2 0 0]\n",
      "x . x x x . x .   [2 0 2 2 2 0 2 0]\n",
      "x x . . x . . x   [2 2 0 0 2 0 0 2]\n",
      "x . . . x x . .   [2 0 0 0 2 2 0 0]\n",
      "x . . . x . x .   [2 0 0 0 2 0 2 0]\n",
      "x . . . x . . x   [2 0 0 0 2 0 0 2]\n",
      "Operación: Reina colocada en (2, 7), Profundidad: 3\n",
      "Tablero:\n",
      "Q x x x x x x x   [1 2 2 2 2 2 2 2]\n",
      "x x x x Q x x x   [2 2 2 2 1 2 2 2]\n",
      "x x x x x x x Q   [2 2 2 2 2 2 2 1]\n",
      "x . x x x . x x   [2 0 2 2 2 0 2 2]\n",
      "x x . . x x . x   [2 2 0 0 2 2 0 2]\n",
      "x . . . x x . x   [2 0 0 0 2 2 0 2]\n",
      "x . . x x . x x   [2 0 0 2 2 0 2 2]\n",
      "x . x . x . . x   [2 0 2 0 2 0 0 2]\n",
      "Operación: Reina colocada en (3, 5), Profundidad: 4\n",
      "Tablero:\n",
      "Q x x x x x x x   [1 2 2 2 2 2 2 2]\n",
      "x x x x Q x x x   [2 2 2 2 1 2 2 2]\n",
      "x x x x x x x Q   [2 2 2 2 2 2 2 1]\n",
      "x x x x x Q x x   [2 2 2 2 2 1 2 2]\n",
      "x x . . x x x x   [2 2 0 0 2 2 2 2]\n",
      "x . . x x x . x   [2 0 0 2 2 2 0 2]\n",
      "x . x x x x x x   [2 0 2 2 2 2 2 2]\n",
      "x x x . x x . x   [2 2 2 0 2 2 0 2]\n",
      "Operación: Reina colocada en (4, 2), Profundidad: 5\n",
      "Tablero:\n",
      "Q x x x x x x x   [1 2 2 2 2 2 2 2]\n",
      "x x x x Q x x x   [2 2 2 2 1 2 2 2]\n",
      "x x x x x x x Q   [2 2 2 2 2 2 2 1]\n",
      "x x x x x Q x x   [2 2 2 2 2 1 2 2]\n",
      "x x Q x x x x x   [2 2 1 2 2 2 2 2]\n",
      "x x x x x x . x   [2 2 2 2 2 2 0 2]\n",
      "x . x x x x x x   [2 0 2 2 2 2 2 2]\n",
      "x x x . x x . x   [2 2 2 0 2 2 0 2]\n",
      "Operación: Reina colocada en (5, 6), Profundidad: 6\n",
      "Tablero:\n",
      "Q x x x x x x x   [1 2 2 2 2 2 2 2]\n",
      "x x x x Q x x x   [2 2 2 2 1 2 2 2]\n",
      "x x x x x x x Q   [2 2 2 2 2 2 2 1]\n",
      "x x x x x Q x x   [2 2 2 2 2 1 2 2]\n",
      "x x Q x x x x x   [2 2 1 2 2 2 2 2]\n",
      "x x x x x x Q x   [2 2 2 2 2 2 1 2]\n",
      "x . x x x x x x   [2 0 2 2 2 2 2 2]\n",
      "x x x . x x x x   [2 2 2 0 2 2 2 2]\n",
      "Operación: Reina colocada en (6, 1), Profundidad: 7\n",
      "Tablero:\n",
      "Q x x x x x x x   [1 2 2 2 2 2 2 2]\n",
      "x x x x Q x x x   [2 2 2 2 1 2 2 2]\n",
      "x x x x x x x Q   [2 2 2 2 2 2 2 1]\n",
      "x x x x x Q x x   [2 2 2 2 2 1 2 2]\n",
      "x x Q x x x x x   [2 2 1 2 2 2 2 2]\n",
      "x x x x x x Q x   [2 2 2 2 2 2 1 2]\n",
      "x Q x x x x x x   [2 1 2 2 2 2 2 2]\n",
      "x x x . x x x x   [2 2 2 0 2 2 2 2]\n",
      "Operación: Reina colocada en (7, 3), Profundidad: 8\n",
      "Tablero:\n",
      "Q x x x x x x x   [1 2 2 2 2 2 2 2]\n",
      "x x x x Q x x x   [2 2 2 2 1 2 2 2]\n",
      "x x x x x x x Q   [2 2 2 2 2 2 2 1]\n",
      "x x x x x Q x x   [2 2 2 2 2 1 2 2]\n",
      "x x Q x x x x x   [2 2 1 2 2 2 2 2]\n",
      "x x x x x x Q x   [2 2 2 2 2 2 1 2]\n",
      "x Q x x x x x x   [2 1 2 2 2 2 2 2]\n",
      "x x x Q x x x x   [2 2 2 1 2 2 2 2]\n"
     ]
    }
   ],
   "source": [
    "pathBS = resultBS.getPath()\n",
    "print(\"Longitud de la Solución: %s\" %len(pathBS))\n",
    "print_path(pathBS)"
   ]
  },
  {
   "cell_type": "markdown",
   "id": "e5ccbd94",
   "metadata": {},
   "source": [
    "##### Sucesión Aleatoria"
   ]
  },
  {
   "cell_type": "code",
   "execution_count": 308,
   "id": "1a81ea67",
   "metadata": {},
   "outputs": [
    {
     "name": "stdout",
     "output_type": "stream",
     "text": [
      "finished in 118878 iterations\n",
      "Se acabaron los estados: 91\n"
     ]
    }
   ],
   "source": [
    "resultBR = bfsRandom.find()"
   ]
  },
  {
   "cell_type": "markdown",
   "id": "c842c77b",
   "metadata": {},
   "source": [
    "###### Resultados"
   ]
  },
  {
   "cell_type": "code",
   "execution_count": 309,
   "id": "c7e9fe48",
   "metadata": {},
   "outputs": [
    {
     "name": "stdout",
     "output_type": "stream",
     "text": [
      "x x x Q x x x x   [2 2 2 1 2 2 2 2]\n",
      "x x x x x x Q x   [2 2 2 2 2 2 1 2]\n",
      "x x x x Q x x x   [2 2 2 2 1 2 2 2]\n",
      "x Q x x x x x x   [2 1 2 2 2 2 2 2]\n",
      "x x x x x Q x x   [2 2 2 2 2 1 2 2]\n",
      "Q x x x x x x x   [1 2 2 2 2 2 2 2]\n",
      "x x Q x x x x x   [2 2 1 2 2 2 2 2]\n",
      "x x x x x x x Q   [2 2 2 2 2 2 2 1]\n"
     ]
    }
   ],
   "source": [
    "printChessBoard(resultBR.state, 1)"
   ]
  },
  {
   "cell_type": "markdown",
   "id": "fba05909",
   "metadata": {},
   "source": [
    "###### Camino"
   ]
  },
  {
   "cell_type": "code",
   "execution_count": 310,
   "id": "e5508211",
   "metadata": {},
   "outputs": [
    {
     "name": "stdout",
     "output_type": "stream",
     "text": [
      "Longitud de la Solución: 9\n",
      "Operación: Inicio, Profundidad: 0\n",
      "Tablero:\n",
      ". . . . . . . .   [0 0 0 0 0 0 0 0]\n",
      ". . . . . . . .   [0 0 0 0 0 0 0 0]\n",
      ". . . . . . . .   [0 0 0 0 0 0 0 0]\n",
      ". . . . . . . .   [0 0 0 0 0 0 0 0]\n",
      ". . . . . . . .   [0 0 0 0 0 0 0 0]\n",
      ". . . . . . . .   [0 0 0 0 0 0 0 0]\n",
      ". . . . . . . .   [0 0 0 0 0 0 0 0]\n",
      ". . . . . . . .   [0 0 0 0 0 0 0 0]\n",
      "Operación: Reina colocada en (2, 4), Profundidad: 1\n",
      "Tablero:\n",
      ". . x . x . x .   [0 0 2 0 2 0 2 0]\n",
      ". . . x x x . .   [0 0 0 2 2 2 0 0]\n",
      "x x x x Q x x x   [2 2 2 2 1 2 2 2]\n",
      ". . . x x x . .   [0 0 0 2 2 2 0 0]\n",
      ". . x . x . x .   [0 0 2 0 2 0 2 0]\n",
      ". x . . x . . x   [0 2 0 0 2 0 0 2]\n",
      "x . . . x . . .   [2 0 0 0 2 0 0 0]\n",
      ". . . . x . . .   [0 0 0 0 2 0 0 0]\n",
      "Operación: Reina colocada en (5, 0), Profundidad: 2\n",
      "Tablero:\n",
      "x . x . x x x .   [2 0 2 0 2 2 2 0]\n",
      "x . . x x x . .   [2 0 0 2 2 2 0 0]\n",
      "x x x x Q x x x   [2 2 2 2 1 2 2 2]\n",
      "x . x x x x . .   [2 0 2 2 2 2 0 0]\n",
      "x x x . x . x .   [2 2 2 0 2 0 2 0]\n",
      "Q x x x x x x x   [1 2 2 2 2 2 2 2]\n",
      "x x . . x . . .   [2 2 0 0 2 0 0 0]\n",
      "x . x . x . . .   [2 0 2 0 2 0 0 0]\n",
      "Operación: Reina colocada en (3, 1), Profundidad: 3\n",
      "Tablero:\n",
      "x x x . x x x .   [2 2 2 0 2 2 2 0]\n",
      "x x . x x x . .   [2 2 0 2 2 2 0 0]\n",
      "x x x x Q x x x   [2 2 2 2 1 2 2 2]\n",
      "x Q x x x x x x   [2 1 2 2 2 2 2 2]\n",
      "x x x . x . x .   [2 2 2 0 2 0 2 0]\n",
      "Q x x x x x x x   [1 2 2 2 2 2 2 2]\n",
      "x x . . x . . .   [2 2 0 0 2 0 0 0]\n",
      "x x x . x x . .   [2 2 2 0 2 2 0 0]\n",
      "Operación: Reina colocada en (7, 7), Profundidad: 4\n",
      "Tablero:\n",
      "x x x . x x x x   [2 2 2 0 2 2 2 2]\n",
      "x x . x x x . x   [2 2 0 2 2 2 0 2]\n",
      "x x x x Q x x x   [2 2 2 2 1 2 2 2]\n",
      "x Q x x x x x x   [2 1 2 2 2 2 2 2]\n",
      "x x x . x . x x   [2 2 2 0 2 0 2 2]\n",
      "Q x x x x x x x   [1 2 2 2 2 2 2 2]\n",
      "x x . . x . x x   [2 2 0 0 2 0 2 2]\n",
      "x x x x x x x Q   [2 2 2 2 2 2 2 1]\n",
      "Operación: Reina colocada en (0, 3), Profundidad: 5\n",
      "Tablero:\n",
      "x x x Q x x x x   [2 2 2 1 2 2 2 2]\n",
      "x x x x x x . x   [2 2 2 2 2 2 0 2]\n",
      "x x x x Q x x x   [2 2 2 2 1 2 2 2]\n",
      "x Q x x x x x x   [2 1 2 2 2 2 2 2]\n",
      "x x x x x . x x   [2 2 2 2 2 0 2 2]\n",
      "Q x x x x x x x   [1 2 2 2 2 2 2 2]\n",
      "x x . x x . x x   [2 2 0 2 2 0 2 2]\n",
      "x x x x x x x Q   [2 2 2 2 2 2 2 1]\n",
      "Operación: Reina colocada en (1, 6), Profundidad: 6\n",
      "Tablero:\n",
      "x x x Q x x x x   [2 2 2 1 2 2 2 2]\n",
      "x x x x x x Q x   [2 2 2 2 2 2 1 2]\n",
      "x x x x Q x x x   [2 2 2 2 1 2 2 2]\n",
      "x Q x x x x x x   [2 1 2 2 2 2 2 2]\n",
      "x x x x x . x x   [2 2 2 2 2 0 2 2]\n",
      "Q x x x x x x x   [1 2 2 2 2 2 2 2]\n",
      "x x . x x . x x   [2 2 0 2 2 0 2 2]\n",
      "x x x x x x x Q   [2 2 2 2 2 2 2 1]\n",
      "Operación: Reina colocada en (4, 5), Profundidad: 7\n",
      "Tablero:\n",
      "x x x Q x x x x   [2 2 2 1 2 2 2 2]\n",
      "x x x x x x Q x   [2 2 2 2 2 2 1 2]\n",
      "x x x x Q x x x   [2 2 2 2 1 2 2 2]\n",
      "x Q x x x x x x   [2 1 2 2 2 2 2 2]\n",
      "x x x x x Q x x   [2 2 2 2 2 1 2 2]\n",
      "Q x x x x x x x   [1 2 2 2 2 2 2 2]\n",
      "x x . x x x x x   [2 2 0 2 2 2 2 2]\n",
      "x x x x x x x Q   [2 2 2 2 2 2 2 1]\n",
      "Operación: Reina colocada en (6, 2), Profundidad: 8\n",
      "Tablero:\n",
      "x x x Q x x x x   [2 2 2 1 2 2 2 2]\n",
      "x x x x x x Q x   [2 2 2 2 2 2 1 2]\n",
      "x x x x Q x x x   [2 2 2 2 1 2 2 2]\n",
      "x Q x x x x x x   [2 1 2 2 2 2 2 2]\n",
      "x x x x x Q x x   [2 2 2 2 2 1 2 2]\n",
      "Q x x x x x x x   [1 2 2 2 2 2 2 2]\n",
      "x x Q x x x x x   [2 2 1 2 2 2 2 2]\n",
      "x x x x x x x Q   [2 2 2 2 2 2 2 1]\n"
     ]
    }
   ],
   "source": [
    "pathBR = resultBR.getPath()\n",
    "print(\"Longitud de la Solución: %s\" %len(pathBR))\n",
    "print_path(pathBR)"
   ]
  },
  {
   "cell_type": "markdown",
   "id": "5f1043e0",
   "metadata": {},
   "source": [
    "#### BFS con Meta"
   ]
  },
  {
   "cell_type": "code",
   "execution_count": 311,
   "id": "106c959b",
   "metadata": {},
   "outputs": [],
   "source": [
    "bfsSequenceGoal = ss.BlindSearch(startNode, placeQueenSequence, goalEightQueens, goal_state=finalNode, strategy=\"bfs\")\n",
    "bfsRandomGoal = ss.BlindSearch(startNode, placeQueenRandom, goalEightQueens, goal_state=finalNode, strategy=\"bfs\")"
   ]
  },
  {
   "cell_type": "markdown",
   "id": "700213dc",
   "metadata": {},
   "source": [
    "##### Sucesión en Secuencia"
   ]
  },
  {
   "cell_type": "code",
   "execution_count": 312,
   "id": "13247a42",
   "metadata": {},
   "outputs": [
    {
     "name": "stdout",
     "output_type": "stream",
     "text": [
      "finished in 118918 iterations\n",
      "Se acabaron los estados: 51\n"
     ]
    }
   ],
   "source": [
    "resultBSG = bfsSequenceGoal.find()"
   ]
  },
  {
   "cell_type": "markdown",
   "id": "11f976f7",
   "metadata": {},
   "source": [
    "###### Resultados"
   ]
  },
  {
   "cell_type": "code",
   "execution_count": 313,
   "id": "f9dd18af",
   "metadata": {},
   "outputs": [
    {
     "name": "stdout",
     "output_type": "stream",
     "text": [
      "x x x Q x x x x   [2 2 2 1 2 2 2 2]\n",
      "x x x x x x Q x   [2 2 2 2 2 2 1 2]\n",
      "x x Q x x x x x   [2 2 1 2 2 2 2 2]\n",
      "x x x x x x x Q   [2 2 2 2 2 2 2 1]\n",
      "x Q x x x x x x   [2 1 2 2 2 2 2 2]\n",
      "x x x x Q x x x   [2 2 2 2 1 2 2 2]\n",
      "Q x x x x x x x   [1 2 2 2 2 2 2 2]\n",
      "x x x x x Q x x   [2 2 2 2 2 1 2 2]\n"
     ]
    }
   ],
   "source": [
    "printChessBoard(resultBSG.state, 1)"
   ]
  },
  {
   "cell_type": "markdown",
   "id": "69a77437",
   "metadata": {},
   "source": [
    "###### Camino"
   ]
  },
  {
   "cell_type": "code",
   "execution_count": 314,
   "id": "1230512f",
   "metadata": {},
   "outputs": [
    {
     "name": "stdout",
     "output_type": "stream",
     "text": [
      "Longitud de la Solución: 9\n",
      "Operación: Inicio, Profundidad: 0\n",
      "Tablero:\n",
      ". . . . . . . .   [0 0 0 0 0 0 0 0]\n",
      ". . . . . . . .   [0 0 0 0 0 0 0 0]\n",
      ". . . . . . . .   [0 0 0 0 0 0 0 0]\n",
      ". . . . . . . .   [0 0 0 0 0 0 0 0]\n",
      ". . . . . . . .   [0 0 0 0 0 0 0 0]\n",
      ". . . . . . . .   [0 0 0 0 0 0 0 0]\n",
      ". . . . . . . .   [0 0 0 0 0 0 0 0]\n",
      ". . . . . . . .   [0 0 0 0 0 0 0 0]\n",
      "Operación: Reina colocada en (0, 3), Profundidad: 1\n",
      "Tablero:\n",
      "x x x Q x x x x   [2 2 2 1 2 2 2 2]\n",
      ". . x x x . . .   [0 0 2 2 2 0 0 0]\n",
      ". x . x . x . .   [0 2 0 2 0 2 0 0]\n",
      "x . . x . . x .   [2 0 0 2 0 0 2 0]\n",
      ". . . x . . . x   [0 0 0 2 0 0 0 2]\n",
      ". . . x . . . .   [0 0 0 2 0 0 0 0]\n",
      ". . . x . . . .   [0 0 0 2 0 0 0 0]\n",
      ". . . x . . . .   [0 0 0 2 0 0 0 0]\n",
      "Operación: Reina colocada en (1, 6), Profundidad: 2\n",
      "Tablero:\n",
      "x x x Q x x x x   [2 2 2 1 2 2 2 2]\n",
      "x x x x x x Q x   [2 2 2 2 2 2 1 2]\n",
      ". x . x . x x x   [0 2 0 2 0 2 2 2]\n",
      "x . . x x . x .   [2 0 0 2 2 0 2 0]\n",
      ". . . x . . x x   [0 0 0 2 0 0 2 2]\n",
      ". . x x . . x .   [0 0 2 2 0 0 2 0]\n",
      ". x . x . . x .   [0 2 0 2 0 0 2 0]\n",
      "x . . x . . x .   [2 0 0 2 0 0 2 0]\n",
      "Operación: Reina colocada en (2, 2), Profundidad: 3\n",
      "Tablero:\n",
      "x x x Q x x x x   [2 2 2 1 2 2 2 2]\n",
      "x x x x x x Q x   [2 2 2 2 2 2 1 2]\n",
      "x x Q x x x x x   [2 2 1 2 2 2 2 2]\n",
      "x x x x x . x .   [2 2 2 2 2 0 2 0]\n",
      "x . x x x . x x   [2 0 2 2 2 0 2 2]\n",
      ". . x x . x x .   [0 0 2 2 0 2 2 0]\n",
      ". x x x . . x .   [0 2 2 2 0 0 2 0]\n",
      "x . x x . . x x   [2 0 2 2 0 0 2 2]\n",
      "Operación: Reina colocada en (3, 7), Profundidad: 4\n",
      "Tablero:\n",
      "x x x Q x x x x   [2 2 2 1 2 2 2 2]\n",
      "x x x x x x Q x   [2 2 2 2 2 2 1 2]\n",
      "x x Q x x x x x   [2 2 1 2 2 2 2 2]\n",
      "x x x x x x x Q   [2 2 2 2 2 2 2 1]\n",
      "x . x x x . x x   [2 0 2 2 2 0 2 2]\n",
      ". . x x . x x x   [0 0 2 2 0 2 2 2]\n",
      ". x x x x . x x   [0 2 2 2 2 0 2 2]\n",
      "x . x x . . x x   [2 0 2 2 0 0 2 2]\n",
      "Operación: Reina colocada en (4, 1), Profundidad: 5\n",
      "Tablero:\n",
      "x x x Q x x x x   [2 2 2 1 2 2 2 2]\n",
      "x x x x x x Q x   [2 2 2 2 2 2 1 2]\n",
      "x x Q x x x x x   [2 2 1 2 2 2 2 2]\n",
      "x x x x x x x Q   [2 2 2 2 2 2 2 1]\n",
      "x Q x x x x x x   [2 1 2 2 2 2 2 2]\n",
      "x x x x . x x x   [2 2 2 2 0 2 2 2]\n",
      ". x x x x . x x   [0 2 2 2 2 0 2 2]\n",
      "x x x x x . x x   [2 2 2 2 2 0 2 2]\n",
      "Operación: Reina colocada en (5, 4), Profundidad: 6\n",
      "Tablero:\n",
      "x x x Q x x x x   [2 2 2 1 2 2 2 2]\n",
      "x x x x x x Q x   [2 2 2 2 2 2 1 2]\n",
      "x x Q x x x x x   [2 2 1 2 2 2 2 2]\n",
      "x x x x x x x Q   [2 2 2 2 2 2 2 1]\n",
      "x Q x x x x x x   [2 1 2 2 2 2 2 2]\n",
      "x x x x Q x x x   [2 2 2 2 1 2 2 2]\n",
      ". x x x x x x x   [0 2 2 2 2 2 2 2]\n",
      "x x x x x . x x   [2 2 2 2 2 0 2 2]\n",
      "Operación: Reina colocada en (6, 0), Profundidad: 7\n",
      "Tablero:\n",
      "x x x Q x x x x   [2 2 2 1 2 2 2 2]\n",
      "x x x x x x Q x   [2 2 2 2 2 2 1 2]\n",
      "x x Q x x x x x   [2 2 1 2 2 2 2 2]\n",
      "x x x x x x x Q   [2 2 2 2 2 2 2 1]\n",
      "x Q x x x x x x   [2 1 2 2 2 2 2 2]\n",
      "x x x x Q x x x   [2 2 2 2 1 2 2 2]\n",
      "Q x x x x x x x   [1 2 2 2 2 2 2 2]\n",
      "x x x x x . x x   [2 2 2 2 2 0 2 2]\n",
      "Operación: Reina colocada en (7, 5), Profundidad: 8\n",
      "Tablero:\n",
      "x x x Q x x x x   [2 2 2 1 2 2 2 2]\n",
      "x x x x x x Q x   [2 2 2 2 2 2 1 2]\n",
      "x x Q x x x x x   [2 2 1 2 2 2 2 2]\n",
      "x x x x x x x Q   [2 2 2 2 2 2 2 1]\n",
      "x Q x x x x x x   [2 1 2 2 2 2 2 2]\n",
      "x x x x Q x x x   [2 2 2 2 1 2 2 2]\n",
      "Q x x x x x x x   [1 2 2 2 2 2 2 2]\n",
      "x x x x x Q x x   [2 2 2 2 2 1 2 2]\n"
     ]
    }
   ],
   "source": [
    "pathBSG = resultBSG.getPath()\n",
    "print(\"Longitud de la Solución: %s\" %len(pathBSG))\n",
    "print_path(pathBSG)"
   ]
  },
  {
   "cell_type": "markdown",
   "id": "05ec6c93",
   "metadata": {},
   "source": [
    "##### Sucesión Aleatoria"
   ]
  },
  {
   "cell_type": "code",
   "execution_count": 315,
   "id": "12d6f2ce",
   "metadata": {},
   "outputs": [
    {
     "name": "stdout",
     "output_type": "stream",
     "text": [
      "finished in 118933 iterations\n",
      "Se acabaron los estados: 36\n"
     ]
    }
   ],
   "source": [
    "resultBRG = bfsRandomGoal.find()"
   ]
  },
  {
   "cell_type": "markdown",
   "id": "4ca43378",
   "metadata": {},
   "source": [
    "###### Resultados"
   ]
  },
  {
   "cell_type": "code",
   "execution_count": 316,
   "id": "11446363",
   "metadata": {},
   "outputs": [
    {
     "name": "stdout",
     "output_type": "stream",
     "text": [
      "x x x Q x x x x   [2 2 2 1 2 2 2 2]\n",
      "x x x x x x Q x   [2 2 2 2 2 2 1 2]\n",
      "x x Q x x x x x   [2 2 1 2 2 2 2 2]\n",
      "x x x x x x x Q   [2 2 2 2 2 2 2 1]\n",
      "x Q x x x x x x   [2 1 2 2 2 2 2 2]\n",
      "x x x x Q x x x   [2 2 2 2 1 2 2 2]\n",
      "Q x x x x x x x   [1 2 2 2 2 2 2 2]\n",
      "x x x x x Q x x   [2 2 2 2 2 1 2 2]\n"
     ]
    }
   ],
   "source": [
    "printChessBoard(resultBRG.state, 1)"
   ]
  },
  {
   "cell_type": "markdown",
   "id": "08af7e88",
   "metadata": {},
   "source": [
    "###### Camino"
   ]
  },
  {
   "cell_type": "code",
   "execution_count": 317,
   "id": "2efc6ac9",
   "metadata": {},
   "outputs": [
    {
     "name": "stdout",
     "output_type": "stream",
     "text": [
      "Longitud de la Solución: 9\n",
      "Operación: Inicio, Profundidad: 0\n",
      "Tablero:\n",
      ". . . . . . . .   [0 0 0 0 0 0 0 0]\n",
      ". . . . . . . .   [0 0 0 0 0 0 0 0]\n",
      ". . . . . . . .   [0 0 0 0 0 0 0 0]\n",
      ". . . . . . . .   [0 0 0 0 0 0 0 0]\n",
      ". . . . . . . .   [0 0 0 0 0 0 0 0]\n",
      ". . . . . . . .   [0 0 0 0 0 0 0 0]\n",
      ". . . . . . . .   [0 0 0 0 0 0 0 0]\n",
      ". . . . . . . .   [0 0 0 0 0 0 0 0]\n",
      "Operación: Reina colocada en (4, 1), Profundidad: 1\n",
      "Tablero:\n",
      ". x . . . x . .   [0 2 0 0 0 2 0 0]\n",
      ". x . . x . . .   [0 2 0 0 2 0 0 0]\n",
      ". x . x . . . .   [0 2 0 2 0 0 0 0]\n",
      "x x x . . . . .   [2 2 2 0 0 0 0 0]\n",
      "x Q x x x x x x   [2 1 2 2 2 2 2 2]\n",
      "x x x . . . . .   [2 2 2 0 0 0 0 0]\n",
      ". x . x . . . .   [0 2 0 2 0 0 0 0]\n",
      ". x . . x . . .   [0 2 0 0 2 0 0 0]\n",
      "Operación: Reina colocada en (5, 4), Profundidad: 2\n",
      "Tablero:\n",
      ". x . . x x . .   [0 2 0 0 2 2 0 0]\n",
      "x x . . x . . .   [2 2 0 0 2 0 0 0]\n",
      ". x . x x . . x   [0 2 0 2 2 0 0 2]\n",
      "x x x . x . x .   [2 2 2 0 2 0 2 0]\n",
      "x Q x x x x x x   [2 1 2 2 2 2 2 2]\n",
      "x x x x Q x x x   [2 2 2 2 1 2 2 2]\n",
      ". x . x x x . .   [0 2 0 2 2 2 0 0]\n",
      ". x x . x . x .   [0 2 2 0 2 0 2 0]\n",
      "Operación: Reina colocada en (2, 2), Profundidad: 3\n",
      "Tablero:\n",
      "x x x . x x . .   [2 2 2 0 2 2 0 0]\n",
      "x x x x x . . .   [2 2 2 2 2 0 0 0]\n",
      "x x Q x x x x x   [2 2 1 2 2 2 2 2]\n",
      "x x x x x . x .   [2 2 2 2 2 0 2 0]\n",
      "x Q x x x x x x   [2 1 2 2 2 2 2 2]\n",
      "x x x x Q x x x   [2 2 2 2 1 2 2 2]\n",
      ". x x x x x x .   [0 2 2 2 2 2 2 0]\n",
      ". x x . x . x x   [0 2 2 0 2 0 2 2]\n",
      "Operación: Reina colocada en (6, 0), Profundidad: 4\n",
      "Tablero:\n",
      "x x x . x x x .   [2 2 2 0 2 2 2 0]\n",
      "x x x x x x . .   [2 2 2 2 2 2 0 0]\n",
      "x x Q x x x x x   [2 2 1 2 2 2 2 2]\n",
      "x x x x x . x .   [2 2 2 2 2 0 2 0]\n",
      "x Q x x x x x x   [2 1 2 2 2 2 2 2]\n",
      "x x x x Q x x x   [2 2 2 2 1 2 2 2]\n",
      "Q x x x x x x x   [1 2 2 2 2 2 2 2]\n",
      "x x x . x . x x   [2 2 2 0 2 0 2 2]\n",
      "Operación: Reina colocada en (7, 5), Profundidad: 5\n",
      "Tablero:\n",
      "x x x . x x x .   [2 2 2 0 2 2 2 0]\n",
      "x x x x x x . .   [2 2 2 2 2 2 0 0]\n",
      "x x Q x x x x x   [2 2 1 2 2 2 2 2]\n",
      "x x x x x x x .   [2 2 2 2 2 2 2 0]\n",
      "x Q x x x x x x   [2 1 2 2 2 2 2 2]\n",
      "x x x x Q x x x   [2 2 2 2 1 2 2 2]\n",
      "Q x x x x x x x   [1 2 2 2 2 2 2 2]\n",
      "x x x x x Q x x   [2 2 2 2 2 1 2 2]\n",
      "Operación: Reina colocada en (1, 6), Profundidad: 6\n",
      "Tablero:\n",
      "x x x . x x x x   [2 2 2 0 2 2 2 2]\n",
      "x x x x x x Q x   [2 2 2 2 2 2 1 2]\n",
      "x x Q x x x x x   [2 2 1 2 2 2 2 2]\n",
      "x x x x x x x .   [2 2 2 2 2 2 2 0]\n",
      "x Q x x x x x x   [2 1 2 2 2 2 2 2]\n",
      "x x x x Q x x x   [2 2 2 2 1 2 2 2]\n",
      "Q x x x x x x x   [1 2 2 2 2 2 2 2]\n",
      "x x x x x Q x x   [2 2 2 2 2 1 2 2]\n",
      "Operación: Reina colocada en (0, 3), Profundidad: 7\n",
      "Tablero:\n",
      "x x x Q x x x x   [2 2 2 1 2 2 2 2]\n",
      "x x x x x x Q x   [2 2 2 2 2 2 1 2]\n",
      "x x Q x x x x x   [2 2 1 2 2 2 2 2]\n",
      "x x x x x x x .   [2 2 2 2 2 2 2 0]\n",
      "x Q x x x x x x   [2 1 2 2 2 2 2 2]\n",
      "x x x x Q x x x   [2 2 2 2 1 2 2 2]\n",
      "Q x x x x x x x   [1 2 2 2 2 2 2 2]\n",
      "x x x x x Q x x   [2 2 2 2 2 1 2 2]\n",
      "Operación: Reina colocada en (3, 7), Profundidad: 8\n",
      "Tablero:\n",
      "x x x Q x x x x   [2 2 2 1 2 2 2 2]\n",
      "x x x x x x Q x   [2 2 2 2 2 2 1 2]\n",
      "x x Q x x x x x   [2 2 1 2 2 2 2 2]\n",
      "x x x x x x x Q   [2 2 2 2 2 2 2 1]\n",
      "x Q x x x x x x   [2 1 2 2 2 2 2 2]\n",
      "x x x x Q x x x   [2 2 2 2 1 2 2 2]\n",
      "Q x x x x x x x   [1 2 2 2 2 2 2 2]\n",
      "x x x x x Q x x   [2 2 2 2 2 1 2 2]\n"
     ]
    }
   ],
   "source": [
    "pathBRG = resultBRG.getPath()\n",
    "print(\"Longitud de la Solución: %s\" %len(pathBRG))\n",
    "print_path(pathBRG)"
   ]
  },
  {
   "cell_type": "markdown",
   "id": "25056004",
   "metadata": {},
   "source": [
    "### Búsqueda DFS"
   ]
  },
  {
   "cell_type": "markdown",
   "id": "5d073ff5",
   "metadata": {},
   "source": [
    "#### DFS sin Meta"
   ]
  },
  {
   "cell_type": "code",
   "execution_count": 318,
   "id": "23c6582d",
   "metadata": {},
   "outputs": [],
   "source": [
    "dfsSequence = ss.BlindSearch(startNode, placeQueenSequence, goalEightQueens, strategy=\"dfs\")\n",
    "dfsRandom = ss.BlindSearch(startNode, placeQueenRandom, goalEightQueens, strategy=\"dfs\")"
   ]
  },
  {
   "cell_type": "markdown",
   "id": "048de67d",
   "metadata": {},
   "source": [
    "##### Sucesión en Secuencia"
   ]
  },
  {
   "cell_type": "code",
   "execution_count": 319,
   "id": "e1d77d1d",
   "metadata": {},
   "outputs": [
    {
     "name": "stdout",
     "output_type": "stream",
     "text": [
      "finished in 1969 iterations\n",
      "Se acabaron los estados: 150\n"
     ]
    }
   ],
   "source": [
    "resultDS = dfsSequence.find()"
   ]
  },
  {
   "cell_type": "markdown",
   "id": "c0a7c991",
   "metadata": {},
   "source": [
    "###### Resultados"
   ]
  },
  {
   "cell_type": "code",
   "execution_count": 320,
   "id": "60c0eb4f",
   "metadata": {},
   "outputs": [
    {
     "name": "stdout",
     "output_type": "stream",
     "text": [
      "x x x x Q x x x   [2 2 2 2 1 2 2 2]\n",
      "x x x x x x Q x   [2 2 2 2 2 2 1 2]\n",
      "x Q x x x x x x   [2 1 2 2 2 2 2 2]\n",
      "x x x x x Q x x   [2 2 2 2 2 1 2 2]\n",
      "x x Q x x x x x   [2 2 1 2 2 2 2 2]\n",
      "Q x x x x x x x   [1 2 2 2 2 2 2 2]\n",
      "x x x Q x x x x   [2 2 2 1 2 2 2 2]\n",
      "x x x x x x x Q   [2 2 2 2 2 2 2 1]\n"
     ]
    }
   ],
   "source": [
    "printChessBoard(resultDS.state, 1)"
   ]
  },
  {
   "cell_type": "markdown",
   "id": "a01a7e32",
   "metadata": {},
   "source": [
    "###### Camino"
   ]
  },
  {
   "cell_type": "code",
   "execution_count": 332,
   "id": "2d3aa7f5",
   "metadata": {},
   "outputs": [
    {
     "name": "stdout",
     "output_type": "stream",
     "text": [
      "Longitud de la Solución: 9\n",
      "Operación: Inicio, Profundidad: 0\n",
      "Tablero:\n",
      ". . . . . . . .   [0 0 0 0 0 0 0 0]\n",
      ". . . . . . . .   [0 0 0 0 0 0 0 0]\n",
      ". . . . . . . .   [0 0 0 0 0 0 0 0]\n",
      ". . . . . . . .   [0 0 0 0 0 0 0 0]\n",
      ". . . . . . . .   [0 0 0 0 0 0 0 0]\n",
      ". . . . . . . .   [0 0 0 0 0 0 0 0]\n",
      ". . . . . . . .   [0 0 0 0 0 0 0 0]\n",
      ". . . . . . . .   [0 0 0 0 0 0 0 0]\n",
      "Operación: Reina colocada en (7, 7), Profundidad: 1\n",
      "Tablero:\n",
      "x . . . . . . x   [2 0 0 0 0 0 0 2]\n",
      ". x . . . . . x   [0 2 0 0 0 0 0 2]\n",
      ". . x . . . . x   [0 0 2 0 0 0 0 2]\n",
      ". . . x . . . x   [0 0 0 2 0 0 0 2]\n",
      ". . . . x . . x   [0 0 0 0 2 0 0 2]\n",
      ". . . . . x . x   [0 0 0 0 0 2 0 2]\n",
      ". . . . . . x x   [0 0 0 0 0 0 2 2]\n",
      "x x x x x x x Q   [2 2 2 2 2 2 2 1]\n",
      "Operación: Reina colocada en (6, 3), Profundidad: 2\n",
      "Tablero:\n",
      "x . . x . . . x   [2 0 0 2 0 0 0 2]\n",
      ". x . x . . . x   [0 2 0 2 0 0 0 2]\n",
      ". . x x . . . x   [0 0 2 2 0 0 0 2]\n",
      "x . . x . . x x   [2 0 0 2 0 0 2 2]\n",
      ". x . x x x . x   [0 2 0 2 2 2 0 2]\n",
      ". . x x x x . x   [0 0 2 2 2 2 0 2]\n",
      "x x x Q x x x x   [2 2 2 1 2 2 2 2]\n",
      "x x x x x x x Q   [2 2 2 2 2 2 2 1]\n",
      "Operación: Reina colocada en (5, 0), Profundidad: 3\n",
      "Tablero:\n",
      "x . . x . x . x   [2 0 0 2 0 2 0 2]\n",
      "x x . x x . . x   [2 2 0 2 2 0 0 2]\n",
      "x . x x . . . x   [2 0 2 2 0 0 0 2]\n",
      "x . x x . . x x   [2 0 2 2 0 0 2 2]\n",
      "x x . x x x . x   [2 2 0 2 2 2 0 2]\n",
      "Q x x x x x x x   [1 2 2 2 2 2 2 2]\n",
      "x x x Q x x x x   [2 2 2 1 2 2 2 2]\n",
      "x x x x x x x Q   [2 2 2 2 2 2 2 1]\n",
      "Operación: Reina colocada en (4, 2), Profundidad: 4\n",
      "Tablero:\n",
      "x . x x . x x x   [2 0 2 2 0 2 2 2]\n",
      "x x x x x x . x   [2 2 2 2 2 2 0 2]\n",
      "x . x x x . . x   [2 0 2 2 2 0 0 2]\n",
      "x x x x . . x x   [2 2 2 2 0 0 2 2]\n",
      "x x Q x x x x x   [2 2 1 2 2 2 2 2]\n",
      "Q x x x x x x x   [1 2 2 2 2 2 2 2]\n",
      "x x x Q x x x x   [2 2 2 1 2 2 2 2]\n",
      "x x x x x x x Q   [2 2 2 2 2 2 2 1]\n",
      "Operación: Reina colocada en (3, 5), Profundidad: 5\n",
      "Tablero:\n",
      "x . x x . x x x   [2 0 2 2 0 2 2 2]\n",
      "x x x x x x . x   [2 2 2 2 2 2 0 2]\n",
      "x . x x x x x x   [2 0 2 2 2 2 2 2]\n",
      "x x x x x Q x x   [2 2 2 2 2 1 2 2]\n",
      "x x Q x x x x x   [2 2 1 2 2 2 2 2]\n",
      "Q x x x x x x x   [1 2 2 2 2 2 2 2]\n",
      "x x x Q x x x x   [2 2 2 1 2 2 2 2]\n",
      "x x x x x x x Q   [2 2 2 2 2 2 2 1]\n",
      "Operación: Reina colocada en (2, 1), Profundidad: 6\n",
      "Tablero:\n",
      "x x x x . x x x   [2 2 2 2 0 2 2 2]\n",
      "x x x x x x . x   [2 2 2 2 2 2 0 2]\n",
      "x Q x x x x x x   [2 1 2 2 2 2 2 2]\n",
      "x x x x x Q x x   [2 2 2 2 2 1 2 2]\n",
      "x x Q x x x x x   [2 2 1 2 2 2 2 2]\n",
      "Q x x x x x x x   [1 2 2 2 2 2 2 2]\n",
      "x x x Q x x x x   [2 2 2 1 2 2 2 2]\n",
      "x x x x x x x Q   [2 2 2 2 2 2 2 1]\n",
      "Operación: Reina colocada en (1, 6), Profundidad: 7\n",
      "Tablero:\n",
      "x x x x . x x x   [2 2 2 2 0 2 2 2]\n",
      "x x x x x x Q x   [2 2 2 2 2 2 1 2]\n",
      "x Q x x x x x x   [2 1 2 2 2 2 2 2]\n",
      "x x x x x Q x x   [2 2 2 2 2 1 2 2]\n",
      "x x Q x x x x x   [2 2 1 2 2 2 2 2]\n",
      "Q x x x x x x x   [1 2 2 2 2 2 2 2]\n",
      "x x x Q x x x x   [2 2 2 1 2 2 2 2]\n",
      "x x x x x x x Q   [2 2 2 2 2 2 2 1]\n",
      "Operación: Reina colocada en (0, 4), Profundidad: 8\n",
      "Tablero:\n",
      "x x x x Q x x x   [2 2 2 2 1 2 2 2]\n",
      "x x x x x x Q x   [2 2 2 2 2 2 1 2]\n",
      "x Q x x x x x x   [2 1 2 2 2 2 2 2]\n",
      "x x x x x Q x x   [2 2 2 2 2 1 2 2]\n",
      "x x Q x x x x x   [2 2 1 2 2 2 2 2]\n",
      "Q x x x x x x x   [1 2 2 2 2 2 2 2]\n",
      "x x x Q x x x x   [2 2 2 1 2 2 2 2]\n",
      "x x x x x x x Q   [2 2 2 2 2 2 2 1]\n"
     ]
    }
   ],
   "source": [
    "pathDS = resultDS.getPath()\n",
    "print(\"Longitud de la Solución: %s\" %len(pathDS))\n",
    "print_path(pathDS)"
   ]
  },
  {
   "cell_type": "markdown",
   "id": "2c9c282a",
   "metadata": {},
   "source": [
    "##### Sucesión Aleatoria"
   ]
  },
  {
   "cell_type": "code",
   "execution_count": 336,
   "id": "1e0dd234",
   "metadata": {},
   "outputs": [
    {
     "name": "stdout",
     "output_type": "stream",
     "text": [
      "finished in 38 iterations\n",
      "Se acabaron los estados: 145\n"
     ]
    }
   ],
   "source": [
    "resultDR = dfsRandom.find()"
   ]
  },
  {
   "cell_type": "markdown",
   "id": "c3412c48",
   "metadata": {},
   "source": [
    "###### Resultados"
   ]
  },
  {
   "cell_type": "code",
   "execution_count": 337,
   "id": "556d645a",
   "metadata": {},
   "outputs": [
    {
     "name": "stdout",
     "output_type": "stream",
     "text": [
      "x x Q x x x x x   [2 2 1 2 2 2 2 2]\n",
      "x x x x x Q x x   [2 2 2 2 2 1 2 2]\n",
      "x x x Q x x x x   [2 2 2 1 2 2 2 2]\n",
      "Q x x x x x x x   [1 2 2 2 2 2 2 2]\n",
      "x x x x x x x Q   [2 2 2 2 2 2 2 1]\n",
      "x x x x Q x x x   [2 2 2 2 1 2 2 2]\n",
      "x x x x x x Q x   [2 2 2 2 2 2 1 2]\n",
      "x Q x x x x x x   [2 1 2 2 2 2 2 2]\n"
     ]
    }
   ],
   "source": [
    "printChessBoard(resultDR.state, 1)"
   ]
  },
  {
   "cell_type": "markdown",
   "id": "b5a6a6c4",
   "metadata": {},
   "source": [
    "###### Camino"
   ]
  },
  {
   "cell_type": "code",
   "execution_count": 338,
   "id": "71861180",
   "metadata": {},
   "outputs": [
    {
     "name": "stdout",
     "output_type": "stream",
     "text": [
      "Longitud de la Solución: 9\n",
      "Operación: Inicio, Profundidad: 0\n",
      "Tablero:\n",
      ". . . . . . . .   [0 0 0 0 0 0 0 0]\n",
      ". . . . . . . .   [0 0 0 0 0 0 0 0]\n",
      ". . . . . . . .   [0 0 0 0 0 0 0 0]\n",
      ". . . . . . . .   [0 0 0 0 0 0 0 0]\n",
      ". . . . . . . .   [0 0 0 0 0 0 0 0]\n",
      ". . . . . . . .   [0 0 0 0 0 0 0 0]\n",
      ". . . . . . . .   [0 0 0 0 0 0 0 0]\n",
      ". . . . . . . .   [0 0 0 0 0 0 0 0]\n",
      "Operación: Reina colocada en (2, 3), Profundidad: 1\n",
      "Tablero:\n",
      ". x . x . x . .   [0 2 0 2 0 2 0 0]\n",
      ". . x x x . . .   [0 0 2 2 2 0 0 0]\n",
      "x x x Q x x x x   [2 2 2 1 2 2 2 2]\n",
      ". . x x x . . .   [0 0 2 2 2 0 0 0]\n",
      ". x . x . x . .   [0 2 0 2 0 2 0 0]\n",
      "x . . x . . x .   [2 0 0 2 0 0 2 0]\n",
      ". . . x . . . x   [0 0 0 2 0 0 0 2]\n",
      ". . . x . . . .   [0 0 0 2 0 0 0 0]\n",
      "Operación: Reina colocada en (1, 5), Profundidad: 2\n",
      "Tablero:\n",
      ". x . x x x x .   [0 2 0 2 2 2 2 0]\n",
      "x x x x x Q x x   [2 2 2 2 2 1 2 2]\n",
      "x x x Q x x x x   [2 2 2 1 2 2 2 2]\n",
      ". . x x x x . x   [0 0 2 2 2 2 0 2]\n",
      ". x x x . x . .   [0 2 2 2 0 2 0 0]\n",
      "x x . x . x x .   [2 2 0 2 0 2 2 0]\n",
      "x . . x . x . x   [2 0 0 2 0 2 0 2]\n",
      ". . . x . x . .   [0 0 0 2 0 2 0 0]\n",
      "Operación: Reina colocada en (7, 1), Profundidad: 3\n",
      "Tablero:\n",
      ". x . x x x x .   [0 2 0 2 2 2 2 0]\n",
      "x x x x x Q x x   [2 2 2 2 2 1 2 2]\n",
      "x x x Q x x x x   [2 2 2 1 2 2 2 2]\n",
      ". x x x x x . x   [0 2 2 2 2 2 0 2]\n",
      ". x x x x x . .   [0 2 2 2 2 2 0 0]\n",
      "x x . x . x x .   [2 2 0 2 0 2 2 0]\n",
      "x x x x . x . x   [2 2 2 2 0 2 0 2]\n",
      "x Q x x x x x x   [2 1 2 2 2 2 2 2]\n",
      "Operación: Reina colocada en (3, 0), Profundidad: 4\n",
      "Tablero:\n",
      "x x . x x x x .   [2 2 0 2 2 2 2 0]\n",
      "x x x x x Q x x   [2 2 2 2 2 1 2 2]\n",
      "x x x Q x x x x   [2 2 2 1 2 2 2 2]\n",
      "Q x x x x x x x   [1 2 2 2 2 2 2 2]\n",
      "x x x x x x . .   [2 2 2 2 2 2 0 0]\n",
      "x x x x . x x .   [2 2 2 2 0 2 2 0]\n",
      "x x x x . x . x   [2 2 2 2 0 2 0 2]\n",
      "x Q x x x x x x   [2 1 2 2 2 2 2 2]\n",
      "Operación: Reina colocada en (4, 7), Profundidad: 5\n",
      "Tablero:\n",
      "x x . x x x x x   [2 2 0 2 2 2 2 2]\n",
      "x x x x x Q x x   [2 2 2 2 2 1 2 2]\n",
      "x x x Q x x x x   [2 2 2 1 2 2 2 2]\n",
      "Q x x x x x x x   [1 2 2 2 2 2 2 2]\n",
      "x x x x x x x Q   [2 2 2 2 2 2 2 1]\n",
      "x x x x . x x x   [2 2 2 2 0 2 2 2]\n",
      "x x x x . x . x   [2 2 2 2 0 2 0 2]\n",
      "x Q x x x x x x   [2 1 2 2 2 2 2 2]\n",
      "Operación: Reina colocada en (6, 6), Profundidad: 6\n",
      "Tablero:\n",
      "x x . x x x x x   [2 2 0 2 2 2 2 2]\n",
      "x x x x x Q x x   [2 2 2 2 2 1 2 2]\n",
      "x x x Q x x x x   [2 2 2 1 2 2 2 2]\n",
      "Q x x x x x x x   [1 2 2 2 2 2 2 2]\n",
      "x x x x x x x Q   [2 2 2 2 2 2 2 1]\n",
      "x x x x . x x x   [2 2 2 2 0 2 2 2]\n",
      "x x x x x x Q x   [2 2 2 2 2 2 1 2]\n",
      "x Q x x x x x x   [2 1 2 2 2 2 2 2]\n",
      "Operación: Reina colocada en (5, 4), Profundidad: 7\n",
      "Tablero:\n",
      "x x . x x x x x   [2 2 0 2 2 2 2 2]\n",
      "x x x x x Q x x   [2 2 2 2 2 1 2 2]\n",
      "x x x Q x x x x   [2 2 2 1 2 2 2 2]\n",
      "Q x x x x x x x   [1 2 2 2 2 2 2 2]\n",
      "x x x x x x x Q   [2 2 2 2 2 2 2 1]\n",
      "x x x x Q x x x   [2 2 2 2 1 2 2 2]\n",
      "x x x x x x Q x   [2 2 2 2 2 2 1 2]\n",
      "x Q x x x x x x   [2 1 2 2 2 2 2 2]\n",
      "Operación: Reina colocada en (0, 2), Profundidad: 8\n",
      "Tablero:\n",
      "x x Q x x x x x   [2 2 1 2 2 2 2 2]\n",
      "x x x x x Q x x   [2 2 2 2 2 1 2 2]\n",
      "x x x Q x x x x   [2 2 2 1 2 2 2 2]\n",
      "Q x x x x x x x   [1 2 2 2 2 2 2 2]\n",
      "x x x x x x x Q   [2 2 2 2 2 2 2 1]\n",
      "x x x x Q x x x   [2 2 2 2 1 2 2 2]\n",
      "x x x x x x Q x   [2 2 2 2 2 2 1 2]\n",
      "x Q x x x x x x   [2 1 2 2 2 2 2 2]\n"
     ]
    }
   ],
   "source": [
    "pathDR = resultDR.getPath()\n",
    "print(\"Longitud de la Solución: %s\" %len(pathDR))\n",
    "print_path(pathDR)"
   ]
  },
  {
   "cell_type": "markdown",
   "id": "039064b6",
   "metadata": {},
   "source": [
    "#### DFS con Meta"
   ]
  },
  {
   "cell_type": "code",
   "execution_count": 325,
   "id": "87c96ed1",
   "metadata": {},
   "outputs": [],
   "source": [
    "dfsSequenceGoal = ss.BlindSearch(startNode, placeQueenSequence, goalEightQueens, goal_state=finalNode, strategy=\"dfs\")\n",
    "dfsRandomGoal = ss.BlindSearch(startNode, placeQueenRandom, goalEightQueens, goal_state=finalNode, strategy=\"dfs\")"
   ]
  },
  {
   "cell_type": "markdown",
   "id": "c7d38480",
   "metadata": {},
   "source": [
    "##### Sucesión en Secuencia"
   ]
  },
  {
   "cell_type": "code",
   "execution_count": 326,
   "id": "67fd48f7",
   "metadata": {},
   "outputs": [
    {
     "name": "stdout",
     "output_type": "stream",
     "text": [
      "finished in 22308 iterations\n",
      "Se acabaron los estados: 153\n"
     ]
    }
   ],
   "source": [
    "resultDSG = dfsSequenceGoal.find()"
   ]
  },
  {
   "cell_type": "markdown",
   "id": "8bc9c0cb",
   "metadata": {},
   "source": [
    "###### Resultados"
   ]
  },
  {
   "cell_type": "code",
   "execution_count": 327,
   "id": "54f43d61",
   "metadata": {},
   "outputs": [
    {
     "name": "stdout",
     "output_type": "stream",
     "text": [
      "x x x Q x x x x   [2 2 2 1 2 2 2 2]\n",
      "x x x x x x Q x   [2 2 2 2 2 2 1 2]\n",
      "x x Q x x x x x   [2 2 1 2 2 2 2 2]\n",
      "x x x x x x x Q   [2 2 2 2 2 2 2 1]\n",
      "x Q x x x x x x   [2 1 2 2 2 2 2 2]\n",
      "x x x x Q x x x   [2 2 2 2 1 2 2 2]\n",
      "Q x x x x x x x   [1 2 2 2 2 2 2 2]\n",
      "x x x x x Q x x   [2 2 2 2 2 1 2 2]\n"
     ]
    }
   ],
   "source": [
    "printChessBoard(resultDSG.state, 1)"
   ]
  },
  {
   "cell_type": "markdown",
   "id": "a14165cd",
   "metadata": {},
   "source": [
    "###### Camino"
   ]
  },
  {
   "cell_type": "code",
   "execution_count": 328,
   "id": "bacb135a",
   "metadata": {},
   "outputs": [
    {
     "name": "stdout",
     "output_type": "stream",
     "text": [
      "Longitud de la Solución: 9\n",
      "Operación: Inicio, Profundidad: 0\n",
      "Tablero:\n",
      ". . . . . . . .   [0 0 0 0 0 0 0 0]\n",
      ". . . . . . . .   [0 0 0 0 0 0 0 0]\n",
      ". . . . . . . .   [0 0 0 0 0 0 0 0]\n",
      ". . . . . . . .   [0 0 0 0 0 0 0 0]\n",
      ". . . . . . . .   [0 0 0 0 0 0 0 0]\n",
      ". . . . . . . .   [0 0 0 0 0 0 0 0]\n",
      ". . . . . . . .   [0 0 0 0 0 0 0 0]\n",
      ". . . . . . . .   [0 0 0 0 0 0 0 0]\n",
      "Operación: Reina colocada en (7, 5), Profundidad: 1\n",
      "Tablero:\n",
      ". . . . . x . .   [0 0 0 0 0 2 0 0]\n",
      ". . . . . x . .   [0 0 0 0 0 2 0 0]\n",
      "x . . . . x . .   [2 0 0 0 0 2 0 0]\n",
      ". x . . . x . .   [0 2 0 0 0 2 0 0]\n",
      ". . x . . x . .   [0 0 2 0 0 2 0 0]\n",
      ". . . x . x . x   [0 0 0 2 0 2 0 2]\n",
      ". . . . x x x .   [0 0 0 0 2 2 2 0]\n",
      "x x x x x Q x x   [2 2 2 2 2 1 2 2]\n",
      "Operación: Reina colocada en (6, 0), Profundidad: 2\n",
      "Tablero:\n",
      "x . . . . x x .   [2 0 0 0 0 2 2 0]\n",
      "x . . . . x . .   [2 0 0 0 0 2 0 0]\n",
      "x . . . x x . .   [2 0 0 0 2 2 0 0]\n",
      "x x . x . x . .   [2 2 0 2 0 2 0 0]\n",
      "x . x . . x . .   [2 0 2 0 0 2 0 0]\n",
      "x x . x . x . x   [2 2 0 2 0 2 0 2]\n",
      "Q x x x x x x x   [1 2 2 2 2 2 2 2]\n",
      "x x x x x Q x x   [2 2 2 2 2 1 2 2]\n",
      "Operación: Reina colocada en (5, 4), Profundidad: 3\n",
      "Tablero:\n",
      "x . . . x x x .   [2 0 0 0 2 2 2 0]\n",
      "x . . . x x . .   [2 0 0 0 2 2 0 0]\n",
      "x x . . x x . x   [2 2 0 0 2 2 0 2]\n",
      "x x x x x x x .   [2 2 2 2 2 2 2 0]\n",
      "x . x x x x . .   [2 0 2 2 2 2 0 0]\n",
      "x x x x Q x x x   [2 2 2 2 1 2 2 2]\n",
      "Q x x x x x x x   [1 2 2 2 2 2 2 2]\n",
      "x x x x x Q x x   [2 2 2 2 2 1 2 2]\n",
      "Operación: Reina colocada en (4, 1), Profundidad: 4\n",
      "Tablero:\n",
      "x x . . x x x .   [2 2 0 0 2 2 2 0]\n",
      "x x . . x x . .   [2 2 0 0 2 2 0 0]\n",
      "x x . x x x . x   [2 2 0 2 2 2 0 2]\n",
      "x x x x x x x .   [2 2 2 2 2 2 2 0]\n",
      "x Q x x x x x x   [2 1 2 2 2 2 2 2]\n",
      "x x x x Q x x x   [2 2 2 2 1 2 2 2]\n",
      "Q x x x x x x x   [1 2 2 2 2 2 2 2]\n",
      "x x x x x Q x x   [2 2 2 2 2 1 2 2]\n",
      "Operación: Reina colocada en (3, 7), Profundidad: 5\n",
      "Tablero:\n",
      "x x . . x x x x   [2 2 0 0 2 2 2 2]\n",
      "x x . . x x . x   [2 2 0 0 2 2 0 2]\n",
      "x x . x x x x x   [2 2 0 2 2 2 2 2]\n",
      "x x x x x x x Q   [2 2 2 2 2 2 2 1]\n",
      "x Q x x x x x x   [2 1 2 2 2 2 2 2]\n",
      "x x x x Q x x x   [2 2 2 2 1 2 2 2]\n",
      "Q x x x x x x x   [1 2 2 2 2 2 2 2]\n",
      "x x x x x Q x x   [2 2 2 2 2 1 2 2]\n",
      "Operación: Reina colocada en (2, 2), Profundidad: 6\n",
      "Tablero:\n",
      "x x x . x x x x   [2 2 2 0 2 2 2 2]\n",
      "x x x x x x . x   [2 2 2 2 2 2 0 2]\n",
      "x x Q x x x x x   [2 2 1 2 2 2 2 2]\n",
      "x x x x x x x Q   [2 2 2 2 2 2 2 1]\n",
      "x Q x x x x x x   [2 1 2 2 2 2 2 2]\n",
      "x x x x Q x x x   [2 2 2 2 1 2 2 2]\n",
      "Q x x x x x x x   [1 2 2 2 2 2 2 2]\n",
      "x x x x x Q x x   [2 2 2 2 2 1 2 2]\n",
      "Operación: Reina colocada en (1, 6), Profundidad: 7\n",
      "Tablero:\n",
      "x x x . x x x x   [2 2 2 0 2 2 2 2]\n",
      "x x x x x x Q x   [2 2 2 2 2 2 1 2]\n",
      "x x Q x x x x x   [2 2 1 2 2 2 2 2]\n",
      "x x x x x x x Q   [2 2 2 2 2 2 2 1]\n",
      "x Q x x x x x x   [2 1 2 2 2 2 2 2]\n",
      "x x x x Q x x x   [2 2 2 2 1 2 2 2]\n",
      "Q x x x x x x x   [1 2 2 2 2 2 2 2]\n",
      "x x x x x Q x x   [2 2 2 2 2 1 2 2]\n",
      "Operación: Reina colocada en (0, 3), Profundidad: 8\n",
      "Tablero:\n",
      "x x x Q x x x x   [2 2 2 1 2 2 2 2]\n",
      "x x x x x x Q x   [2 2 2 2 2 2 1 2]\n",
      "x x Q x x x x x   [2 2 1 2 2 2 2 2]\n",
      "x x x x x x x Q   [2 2 2 2 2 2 2 1]\n",
      "x Q x x x x x x   [2 1 2 2 2 2 2 2]\n",
      "x x x x Q x x x   [2 2 2 2 1 2 2 2]\n",
      "Q x x x x x x x   [1 2 2 2 2 2 2 2]\n",
      "x x x x x Q x x   [2 2 2 2 2 1 2 2]\n"
     ]
    }
   ],
   "source": [
    "pathDSG = resultDSG.getPath()\n",
    "print(\"Longitud de la Solución: %s\" %len(pathDSG))\n",
    "print_path(pathDSG)"
   ]
  },
  {
   "cell_type": "markdown",
   "id": "098cde2e",
   "metadata": {},
   "source": [
    "##### Sucesión Aleatoria"
   ]
  },
  {
   "cell_type": "code",
   "execution_count": 339,
   "id": "152285e7",
   "metadata": {},
   "outputs": [
    {
     "name": "stdout",
     "output_type": "stream",
     "text": [
      "finished in 13 iterations\n",
      "Se acabaron los estados: 150\n"
     ]
    }
   ],
   "source": [
    "resultDRG = dfsRandomGoal.find()"
   ]
  },
  {
   "cell_type": "markdown",
   "id": "c1082585",
   "metadata": {},
   "source": [
    "###### Resultados"
   ]
  },
  {
   "cell_type": "code",
   "execution_count": 340,
   "id": "deeb5fb1",
   "metadata": {},
   "outputs": [
    {
     "name": "stdout",
     "output_type": "stream",
     "text": [
      "x x x Q x x x x   [2 2 2 1 2 2 2 2]\n",
      "x x x x x x Q x   [2 2 2 2 2 2 1 2]\n",
      "x x Q x x x x x   [2 2 1 2 2 2 2 2]\n",
      "x x x x x x x Q   [2 2 2 2 2 2 2 1]\n",
      "x Q x x x x x x   [2 1 2 2 2 2 2 2]\n",
      "x x x x Q x x x   [2 2 2 2 1 2 2 2]\n",
      "Q x x x x x x x   [1 2 2 2 2 2 2 2]\n",
      "x x x x x Q x x   [2 2 2 2 2 1 2 2]\n"
     ]
    }
   ],
   "source": [
    "printChessBoard(resultDRG.state, 1)"
   ]
  },
  {
   "cell_type": "markdown",
   "id": "f48023d7",
   "metadata": {},
   "source": [
    "###### Camino"
   ]
  },
  {
   "cell_type": "code",
   "execution_count": 342,
   "id": "e180b316",
   "metadata": {},
   "outputs": [
    {
     "name": "stdout",
     "output_type": "stream",
     "text": [
      "Longitud de la Solución: 9\n",
      "Operación: Inicio, Profundidad: 0\n",
      "Tablero:\n",
      ". . . . . . . .   [0 0 0 0 0 0 0 0]\n",
      ". . . . . . . .   [0 0 0 0 0 0 0 0]\n",
      ". . . . . . . .   [0 0 0 0 0 0 0 0]\n",
      ". . . . . . . .   [0 0 0 0 0 0 0 0]\n",
      ". . . . . . . .   [0 0 0 0 0 0 0 0]\n",
      ". . . . . . . .   [0 0 0 0 0 0 0 0]\n",
      ". . . . . . . .   [0 0 0 0 0 0 0 0]\n",
      ". . . . . . . .   [0 0 0 0 0 0 0 0]\n",
      "Operación: Reina colocada en (3, 7), Profundidad: 1\n",
      "Tablero:\n",
      ". . . . x . . x   [0 0 0 0 2 0 0 2]\n",
      ". . . . . x . x   [0 0 0 0 0 2 0 2]\n",
      ". . . . . . x x   [0 0 0 0 0 0 2 2]\n",
      "x x x x x x x Q   [2 2 2 2 2 2 2 1]\n",
      ". . . . . . x x   [0 0 0 0 0 0 2 2]\n",
      ". . . . . x . x   [0 0 0 0 0 2 0 2]\n",
      ". . . . x . . x   [0 0 0 0 2 0 0 2]\n",
      ". . . x . . . x   [0 0 0 2 0 0 0 2]\n",
      "Operación: Reina colocada en (6, 0), Profundidad: 2\n",
      "Tablero:\n",
      "x . . . x . x x   [2 0 0 0 2 0 2 2]\n",
      "x . . . . x . x   [2 0 0 0 0 2 0 2]\n",
      "x . . . x . x x   [2 0 0 0 2 0 2 2]\n",
      "x x x x x x x Q   [2 2 2 2 2 2 2 1]\n",
      "x . x . . . x x   [2 0 2 0 0 0 2 2]\n",
      "x x . . . x . x   [2 2 0 0 0 2 0 2]\n",
      "Q x x x x x x x   [1 2 2 2 2 2 2 2]\n",
      "x x . x . . . x   [2 2 0 2 0 0 0 2]\n",
      "Operación: Reina colocada en (4, 1), Profundidad: 3\n",
      "Tablero:\n",
      "x x . . x x x x   [2 2 0 0 2 2 2 2]\n",
      "x x . . x x . x   [2 2 0 0 2 2 0 2]\n",
      "x x . x x . x x   [2 2 0 2 2 0 2 2]\n",
      "x x x x x x x Q   [2 2 2 2 2 2 2 1]\n",
      "x Q x x x x x x   [2 1 2 2 2 2 2 2]\n",
      "x x x . . x . x   [2 2 2 0 0 2 0 2]\n",
      "Q x x x x x x x   [1 2 2 2 2 2 2 2]\n",
      "x x . x x . . x   [2 2 0 2 2 0 0 2]\n",
      "Operación: Reina colocada en (5, 4), Profundidad: 4\n",
      "Tablero:\n",
      "x x . . x x x x   [2 2 0 0 2 2 2 2]\n",
      "x x . . x x . x   [2 2 0 0 2 2 0 2]\n",
      "x x . x x . x x   [2 2 0 2 2 0 2 2]\n",
      "x x x x x x x Q   [2 2 2 2 2 2 2 1]\n",
      "x Q x x x x x x   [2 1 2 2 2 2 2 2]\n",
      "x x x x Q x x x   [2 2 2 2 1 2 2 2]\n",
      "Q x x x x x x x   [1 2 2 2 2 2 2 2]\n",
      "x x x x x . x x   [2 2 2 2 2 0 2 2]\n",
      "Operación: Reina colocada en (2, 2), Profundidad: 5\n",
      "Tablero:\n",
      "x x x . x x x x   [2 2 2 0 2 2 2 2]\n",
      "x x x x x x . x   [2 2 2 2 2 2 0 2]\n",
      "x x Q x x x x x   [2 2 1 2 2 2 2 2]\n",
      "x x x x x x x Q   [2 2 2 2 2 2 2 1]\n",
      "x Q x x x x x x   [2 1 2 2 2 2 2 2]\n",
      "x x x x Q x x x   [2 2 2 2 1 2 2 2]\n",
      "Q x x x x x x x   [1 2 2 2 2 2 2 2]\n",
      "x x x x x . x x   [2 2 2 2 2 0 2 2]\n",
      "Operación: Reina colocada en (1, 6), Profundidad: 6\n",
      "Tablero:\n",
      "x x x . x x x x   [2 2 2 0 2 2 2 2]\n",
      "x x x x x x Q x   [2 2 2 2 2 2 1 2]\n",
      "x x Q x x x x x   [2 2 1 2 2 2 2 2]\n",
      "x x x x x x x Q   [2 2 2 2 2 2 2 1]\n",
      "x Q x x x x x x   [2 1 2 2 2 2 2 2]\n",
      "x x x x Q x x x   [2 2 2 2 1 2 2 2]\n",
      "Q x x x x x x x   [1 2 2 2 2 2 2 2]\n",
      "x x x x x . x x   [2 2 2 2 2 0 2 2]\n",
      "Operación: Reina colocada en (0, 3), Profundidad: 7\n",
      "Tablero:\n",
      "x x x Q x x x x   [2 2 2 1 2 2 2 2]\n",
      "x x x x x x Q x   [2 2 2 2 2 2 1 2]\n",
      "x x Q x x x x x   [2 2 1 2 2 2 2 2]\n",
      "x x x x x x x Q   [2 2 2 2 2 2 2 1]\n",
      "x Q x x x x x x   [2 1 2 2 2 2 2 2]\n",
      "x x x x Q x x x   [2 2 2 2 1 2 2 2]\n",
      "Q x x x x x x x   [1 2 2 2 2 2 2 2]\n",
      "x x x x x . x x   [2 2 2 2 2 0 2 2]\n",
      "Operación: Reina colocada en (7, 5), Profundidad: 8\n",
      "Tablero:\n",
      "x x x Q x x x x   [2 2 2 1 2 2 2 2]\n",
      "x x x x x x Q x   [2 2 2 2 2 2 1 2]\n",
      "x x Q x x x x x   [2 2 1 2 2 2 2 2]\n",
      "x x x x x x x Q   [2 2 2 2 2 2 2 1]\n",
      "x Q x x x x x x   [2 1 2 2 2 2 2 2]\n",
      "x x x x Q x x x   [2 2 2 2 1 2 2 2]\n",
      "Q x x x x x x x   [1 2 2 2 2 2 2 2]\n",
      "x x x x x Q x x   [2 2 2 2 2 1 2 2]\n"
     ]
    }
   ],
   "source": [
    "pathDRG = resultDRG.getPath()\n",
    "print(\"Longitud de la Solución: %s\" %len(pathDRG))\n",
    "print_path(pathDRG)"
   ]
  }
 ],
 "metadata": {
  "kernelspec": {
   "display_name": ".venv",
   "language": "python",
   "name": "python3"
  },
  "language_info": {
   "codemirror_mode": {
    "name": "ipython",
    "version": 3
   },
   "file_extension": ".py",
   "mimetype": "text/x-python",
   "name": "python",
   "nbconvert_exporter": "python",
   "pygments_lexer": "ipython3",
   "version": "3.12.3"
  }
 },
 "nbformat": 4,
 "nbformat_minor": 5
}
