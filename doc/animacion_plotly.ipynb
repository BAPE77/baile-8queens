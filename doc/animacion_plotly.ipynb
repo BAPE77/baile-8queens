{
 "cells": [
  {
   "cell_type": "code",
   "execution_count": 31,
   "metadata": {},
   "outputs": [],
   "source": [
    "import sys,os\n",
    "import matplotlib.pyplot as plt\n",
    "import numpy as np\n",
    "import plotly.graph_objects as go\n",
    "import plotly.figure_factory as ff\n",
    "from plotly.offline import download_plotlyjs, init_notebook_mode,  iplot, plot\n",
    "from IPython.display import clear_output\n",
    "import time\n",
    "\n",
    "baile_path=os.path.abspath(os.path.join(\"..\",\"src\"))\n",
    "test_path=os.path.abspath(os.path.join(\"..\",\"test\"))\n",
    "if not baile_path in sys.path:\n",
    "    sys.path.append(baile_path)\n",
    "if not test_path in sys.path:\n",
    "    sys.path.append(test_path)\n",
    "import SimpleSearch as ss\n",
    "from test_simple_search import successor8Puzzle,goal8Puzzle"
   ]
  },
  {
   "cell_type": "code",
   "execution_count": 2,
   "metadata": {},
   "outputs": [
    {
     "name": "stdout",
     "output_type": "stream",
     "text": [
      "finished in 171375 iterations\n",
      "Se acabaron los estados: 6352\n"
     ]
    }
   ],
   "source": [
    "start=ss.node(((1,8,4),(3,0,2),(6,5,7)),op=\"start\")\n",
    "final=ss.node(((1,2,3),(4,5,6),(7,8,0)),op=\"final\")\n",
    "\n",
    "\n",
    "bfs=ss.BlindSearch(start,successor8Puzzle,goal8Puzzle,goal_state=final,strategy=\"bfs\")\n",
    "result=bfs.find()"
   ]
  },
  {
   "cell_type": "code",
   "execution_count": 6,
   "metadata": {},
   "outputs": [],
   "source": [
    "l=result.getPath()"
   ]
  },
  {
   "cell_type": "code",
   "execution_count": 43,
   "metadata": {},
   "outputs": [],
   "source": [
    "def genAnnotations(z):\n",
    "    x,y=[0,1,2],[0,1,2]\n",
    "    annotations = go.Annotations()\n",
    "    for n, row in enumerate(z):\n",
    "        for m, val in enumerate(row):\n",
    "            annotations.append(go.layout.Annotation(text= z[n][m] and str(z[n][m]) or \"\", x=x[m], y=y[n],\n",
    "                                                font={'color':'green','size':80}, xref='x1', yref='y1', \n",
    "                                                    showarrow=False))\n",
    "    return annotations\n",
    "def genFrames(path):\n",
    "    frames,steps=[],[]\n",
    "    x,y=[0,1,2],[0,1,2]\n",
    "    for item in path:\n",
    "        z=list(item[0])\n",
    "        z.reverse()\n",
    "        ann=genAnnotations(z)\n",
    "        name=item[2]\n",
    "        hm=go.Heatmap(z=np.array(z),showscale=False,x=x,y=y,colorscale='magma',ygap=5,xgap=5)\n",
    "        layout=go.Layout(annotations=ann,xaxis=dict(showticklabels=False),\n",
    "                         yaxis=dict(showticklabels=False),height=700, width=600)\n",
    "        frames.append(go.Frame(data=[hm], layout=layout, name=name))  \n",
    "        steps.append({\"args\": [[name], {\"frame\": {\"duration\": 300, \"redraw\": True}, \"mode\": \"immediate\",\n",
    "                                        \"transition\": {\"duration\": 300}}],\n",
    "                      \"label\": name,\"method\": \"animate\"})  \n",
    "    return frames,steps\n",
    "\n",
    "def animacion(path):\n",
    "    x,y=[0,1,2],[0,1,2]\n",
    "    frames,steps=genFrames(path)\n",
    "    st=list(path[0][0])\n",
    "    st.reverse()\n",
    "    ann=genAnnotations(st)\n",
    "    #menus=[dict(type=\"buttons\",buttons=[dict(label=\"Play\",method=\"animate\",args=[None])],direction='left',\n",
    "    #          x=0.1,y=0, xanchor= \"right\", yanchor=\"top\")]\n",
    "    sliders= { \"active\": 0, \"yanchor\": \"top\",\"xanchor\": \"left\",\n",
    "              \"currentvalue\": {\"font\": {\"size\": 20}, \"prefix\": \"Step:\",\"visible\": True,\"xanchor\": \"right\"},\n",
    "              \"transition\": {\"duration\": 300, \"easing\": \"cubic-in-out\"},\"pad\": {\"b\": 10, \"t\": 50},\n",
    "              \"len\": 0.9,\"x\": 0.1,\"y\": 0,\"steps\": []}\n",
    "    sliders['steps']=steps\n",
    "    layout=go.Layout(annotations=ann,xaxis=dict(showticklabels=False),sliders=[sliders],\n",
    "                         yaxis=dict(showticklabels=False),height=700, width=600)\n",
    "    fig = go.Figure(data=go.Heatmap(z=np.array(st),showscale=False,x=x,y=y,\n",
    "                                    colorscale='magma',ygap=5,xgap=5),\n",
    "                    frames=frames,layout=layout)\n",
    "    return fig"
   ]
  },
  {
   "cell_type": "code",
   "execution_count": 44,
   "metadata": {},
   "outputs": [
    {
     "data": {
      "application/vnd.plotly.v1+json": {
       "config": {
        "plotlyServerURL": "https://plot.ly"
       },
       "data": [
        {
         "colorscale": [
          [
           0,
           "#000004"
          ],
          [
           0.1111111111111111,
           "#180f3d"
          ],
          [
           0.2222222222222222,
           "#440f76"
          ],
          [
           0.3333333333333333,
           "#721f81"
          ],
          [
           0.4444444444444444,
           "#9e2f7f"
          ],
          [
           0.5555555555555556,
           "#cd4071"
          ],
          [
           0.6666666666666666,
           "#f1605d"
          ],
          [
           0.7777777777777778,
           "#fd9668"
          ],
          [
           0.8888888888888888,
           "#feca8d"
          ],
          [
           1,
           "#fcfdbf"
          ]
         ],
         "showscale": false,
         "type": "heatmap",
         "x": [
          0,
          1,
          2
         ],
         "xgap": 5,
         "y": [
          0,
          1,
          2
         ],
         "ygap": 5,
         "z": [
          [
           6,
           5,
           7
          ],
          [
           3,
           0,
           2
          ],
          [
           1,
           8,
           4
          ]
         ]
        }
       ],
       "frames": [
        {
         "data": [
          {
           "colorscale": [
            [
             0,
             "#000004"
            ],
            [
             0.1111111111111111,
             "#180f3d"
            ],
            [
             0.2222222222222222,
             "#440f76"
            ],
            [
             0.3333333333333333,
             "#721f81"
            ],
            [
             0.4444444444444444,
             "#9e2f7f"
            ],
            [
             0.5555555555555556,
             "#cd4071"
            ],
            [
             0.6666666666666666,
             "#f1605d"
            ],
            [
             0.7777777777777778,
             "#fd9668"
            ],
            [
             0.8888888888888888,
             "#feca8d"
            ],
            [
             1,
             "#fcfdbf"
            ]
           ],
           "showscale": false,
           "type": "heatmap",
           "x": [
            0,
            1,
            2
           ],
           "xgap": 5,
           "y": [
            0,
            1,
            2
           ],
           "ygap": 5,
           "z": [
            [
             6,
             5,
             7
            ],
            [
             3,
             0,
             2
            ],
            [
             1,
             8,
             4
            ]
           ]
          }
         ],
         "layout": {
          "annotations": [
           {
            "font": {
             "color": "green",
             "size": 80
            },
            "showarrow": false,
            "text": "6",
            "x": 0,
            "xref": "x",
            "y": 0,
            "yref": "y"
           },
           {
            "font": {
             "color": "green",
             "size": 80
            },
            "showarrow": false,
            "text": "5",
            "x": 1,
            "xref": "x",
            "y": 0,
            "yref": "y"
           },
           {
            "font": {
             "color": "green",
             "size": 80
            },
            "showarrow": false,
            "text": "7",
            "x": 2,
            "xref": "x",
            "y": 0,
            "yref": "y"
           },
           {
            "font": {
             "color": "green",
             "size": 80
            },
            "showarrow": false,
            "text": "3",
            "x": 0,
            "xref": "x",
            "y": 1,
            "yref": "y"
           },
           {
            "font": {
             "color": "green",
             "size": 80
            },
            "showarrow": false,
            "text": "",
            "x": 1,
            "xref": "x",
            "y": 1,
            "yref": "y"
           },
           {
            "font": {
             "color": "green",
             "size": 80
            },
            "showarrow": false,
            "text": "2",
            "x": 2,
            "xref": "x",
            "y": 1,
            "yref": "y"
           },
           {
            "font": {
             "color": "green",
             "size": 80
            },
            "showarrow": false,
            "text": "1",
            "x": 0,
            "xref": "x",
            "y": 2,
            "yref": "y"
           },
           {
            "font": {
             "color": "green",
             "size": 80
            },
            "showarrow": false,
            "text": "8",
            "x": 1,
            "xref": "x",
            "y": 2,
            "yref": "y"
           },
           {
            "font": {
             "color": "green",
             "size": 80
            },
            "showarrow": false,
            "text": "4",
            "x": 2,
            "xref": "x",
            "y": 2,
            "yref": "y"
           }
          ],
          "height": 700,
          "width": 600,
          "xaxis": {
           "showticklabels": false
          },
          "yaxis": {
           "showticklabels": false
          }
         },
         "name": "0"
        },
        {
         "data": [
          {
           "colorscale": [
            [
             0,
             "#000004"
            ],
            [
             0.1111111111111111,
             "#180f3d"
            ],
            [
             0.2222222222222222,
             "#440f76"
            ],
            [
             0.3333333333333333,
             "#721f81"
            ],
            [
             0.4444444444444444,
             "#9e2f7f"
            ],
            [
             0.5555555555555556,
             "#cd4071"
            ],
            [
             0.6666666666666666,
             "#f1605d"
            ],
            [
             0.7777777777777778,
             "#fd9668"
            ],
            [
             0.8888888888888888,
             "#feca8d"
            ],
            [
             1,
             "#fcfdbf"
            ]
           ],
           "showscale": false,
           "type": "heatmap",
           "x": [
            0,
            1,
            2
           ],
           "xgap": 5,
           "y": [
            0,
            1,
            2
           ],
           "ygap": 5,
           "z": [
            [
             6,
             5,
             7
            ],
            [
             3,
             8,
             2
            ],
            [
             1,
             0,
             4
            ]
           ]
          }
         ],
         "layout": {
          "annotations": [
           {
            "font": {
             "color": "green",
             "size": 80
            },
            "showarrow": false,
            "text": "6",
            "x": 0,
            "xref": "x",
            "y": 0,
            "yref": "y"
           },
           {
            "font": {
             "color": "green",
             "size": 80
            },
            "showarrow": false,
            "text": "5",
            "x": 1,
            "xref": "x",
            "y": 0,
            "yref": "y"
           },
           {
            "font": {
             "color": "green",
             "size": 80
            },
            "showarrow": false,
            "text": "7",
            "x": 2,
            "xref": "x",
            "y": 0,
            "yref": "y"
           },
           {
            "font": {
             "color": "green",
             "size": 80
            },
            "showarrow": false,
            "text": "3",
            "x": 0,
            "xref": "x",
            "y": 1,
            "yref": "y"
           },
           {
            "font": {
             "color": "green",
             "size": 80
            },
            "showarrow": false,
            "text": "8",
            "x": 1,
            "xref": "x",
            "y": 1,
            "yref": "y"
           },
           {
            "font": {
             "color": "green",
             "size": 80
            },
            "showarrow": false,
            "text": "2",
            "x": 2,
            "xref": "x",
            "y": 1,
            "yref": "y"
           },
           {
            "font": {
             "color": "green",
             "size": 80
            },
            "showarrow": false,
            "text": "1",
            "x": 0,
            "xref": "x",
            "y": 2,
            "yref": "y"
           },
           {
            "font": {
             "color": "green",
             "size": 80
            },
            "showarrow": false,
            "text": "",
            "x": 1,
            "xref": "x",
            "y": 2,
            "yref": "y"
           },
           {
            "font": {
             "color": "green",
             "size": 80
            },
            "showarrow": false,
            "text": "4",
            "x": 2,
            "xref": "x",
            "y": 2,
            "yref": "y"
           }
          ],
          "height": 700,
          "width": 600,
          "xaxis": {
           "showticklabels": false
          },
          "yaxis": {
           "showticklabels": false
          }
         },
         "name": "1"
        },
        {
         "data": [
          {
           "colorscale": [
            [
             0,
             "#000004"
            ],
            [
             0.1111111111111111,
             "#180f3d"
            ],
            [
             0.2222222222222222,
             "#440f76"
            ],
            [
             0.3333333333333333,
             "#721f81"
            ],
            [
             0.4444444444444444,
             "#9e2f7f"
            ],
            [
             0.5555555555555556,
             "#cd4071"
            ],
            [
             0.6666666666666666,
             "#f1605d"
            ],
            [
             0.7777777777777778,
             "#fd9668"
            ],
            [
             0.8888888888888888,
             "#feca8d"
            ],
            [
             1,
             "#fcfdbf"
            ]
           ],
           "showscale": false,
           "type": "heatmap",
           "x": [
            0,
            1,
            2
           ],
           "xgap": 5,
           "y": [
            0,
            1,
            2
           ],
           "ygap": 5,
           "z": [
            [
             6,
             5,
             7
            ],
            [
             3,
             8,
             2
            ],
            [
             1,
             4,
             0
            ]
           ]
          }
         ],
         "layout": {
          "annotations": [
           {
            "font": {
             "color": "green",
             "size": 80
            },
            "showarrow": false,
            "text": "6",
            "x": 0,
            "xref": "x",
            "y": 0,
            "yref": "y"
           },
           {
            "font": {
             "color": "green",
             "size": 80
            },
            "showarrow": false,
            "text": "5",
            "x": 1,
            "xref": "x",
            "y": 0,
            "yref": "y"
           },
           {
            "font": {
             "color": "green",
             "size": 80
            },
            "showarrow": false,
            "text": "7",
            "x": 2,
            "xref": "x",
            "y": 0,
            "yref": "y"
           },
           {
            "font": {
             "color": "green",
             "size": 80
            },
            "showarrow": false,
            "text": "3",
            "x": 0,
            "xref": "x",
            "y": 1,
            "yref": "y"
           },
           {
            "font": {
             "color": "green",
             "size": 80
            },
            "showarrow": false,
            "text": "8",
            "x": 1,
            "xref": "x",
            "y": 1,
            "yref": "y"
           },
           {
            "font": {
             "color": "green",
             "size": 80
            },
            "showarrow": false,
            "text": "2",
            "x": 2,
            "xref": "x",
            "y": 1,
            "yref": "y"
           },
           {
            "font": {
             "color": "green",
             "size": 80
            },
            "showarrow": false,
            "text": "1",
            "x": 0,
            "xref": "x",
            "y": 2,
            "yref": "y"
           },
           {
            "font": {
             "color": "green",
             "size": 80
            },
            "showarrow": false,
            "text": "4",
            "x": 1,
            "xref": "x",
            "y": 2,
            "yref": "y"
           },
           {
            "font": {
             "color": "green",
             "size": 80
            },
            "showarrow": false,
            "text": "",
            "x": 2,
            "xref": "x",
            "y": 2,
            "yref": "y"
           }
          ],
          "height": 700,
          "width": 600,
          "xaxis": {
           "showticklabels": false
          },
          "yaxis": {
           "showticklabels": false
          }
         },
         "name": "2"
        },
        {
         "data": [
          {
           "colorscale": [
            [
             0,
             "#000004"
            ],
            [
             0.1111111111111111,
             "#180f3d"
            ],
            [
             0.2222222222222222,
             "#440f76"
            ],
            [
             0.3333333333333333,
             "#721f81"
            ],
            [
             0.4444444444444444,
             "#9e2f7f"
            ],
            [
             0.5555555555555556,
             "#cd4071"
            ],
            [
             0.6666666666666666,
             "#f1605d"
            ],
            [
             0.7777777777777778,
             "#fd9668"
            ],
            [
             0.8888888888888888,
             "#feca8d"
            ],
            [
             1,
             "#fcfdbf"
            ]
           ],
           "showscale": false,
           "type": "heatmap",
           "x": [
            0,
            1,
            2
           ],
           "xgap": 5,
           "y": [
            0,
            1,
            2
           ],
           "ygap": 5,
           "z": [
            [
             6,
             5,
             7
            ],
            [
             3,
             8,
             0
            ],
            [
             1,
             4,
             2
            ]
           ]
          }
         ],
         "layout": {
          "annotations": [
           {
            "font": {
             "color": "green",
             "size": 80
            },
            "showarrow": false,
            "text": "6",
            "x": 0,
            "xref": "x",
            "y": 0,
            "yref": "y"
           },
           {
            "font": {
             "color": "green",
             "size": 80
            },
            "showarrow": false,
            "text": "5",
            "x": 1,
            "xref": "x",
            "y": 0,
            "yref": "y"
           },
           {
            "font": {
             "color": "green",
             "size": 80
            },
            "showarrow": false,
            "text": "7",
            "x": 2,
            "xref": "x",
            "y": 0,
            "yref": "y"
           },
           {
            "font": {
             "color": "green",
             "size": 80
            },
            "showarrow": false,
            "text": "3",
            "x": 0,
            "xref": "x",
            "y": 1,
            "yref": "y"
           },
           {
            "font": {
             "color": "green",
             "size": 80
            },
            "showarrow": false,
            "text": "8",
            "x": 1,
            "xref": "x",
            "y": 1,
            "yref": "y"
           },
           {
            "font": {
             "color": "green",
             "size": 80
            },
            "showarrow": false,
            "text": "",
            "x": 2,
            "xref": "x",
            "y": 1,
            "yref": "y"
           },
           {
            "font": {
             "color": "green",
             "size": 80
            },
            "showarrow": false,
            "text": "1",
            "x": 0,
            "xref": "x",
            "y": 2,
            "yref": "y"
           },
           {
            "font": {
             "color": "green",
             "size": 80
            },
            "showarrow": false,
            "text": "4",
            "x": 1,
            "xref": "x",
            "y": 2,
            "yref": "y"
           },
           {
            "font": {
             "color": "green",
             "size": 80
            },
            "showarrow": false,
            "text": "2",
            "x": 2,
            "xref": "x",
            "y": 2,
            "yref": "y"
           }
          ],
          "height": 700,
          "width": 600,
          "xaxis": {
           "showticklabels": false
          },
          "yaxis": {
           "showticklabels": false
          }
         },
         "name": "3"
        },
        {
         "data": [
          {
           "colorscale": [
            [
             0,
             "#000004"
            ],
            [
             0.1111111111111111,
             "#180f3d"
            ],
            [
             0.2222222222222222,
             "#440f76"
            ],
            [
             0.3333333333333333,
             "#721f81"
            ],
            [
             0.4444444444444444,
             "#9e2f7f"
            ],
            [
             0.5555555555555556,
             "#cd4071"
            ],
            [
             0.6666666666666666,
             "#f1605d"
            ],
            [
             0.7777777777777778,
             "#fd9668"
            ],
            [
             0.8888888888888888,
             "#feca8d"
            ],
            [
             1,
             "#fcfdbf"
            ]
           ],
           "showscale": false,
           "type": "heatmap",
           "x": [
            0,
            1,
            2
           ],
           "xgap": 5,
           "y": [
            0,
            1,
            2
           ],
           "ygap": 5,
           "z": [
            [
             6,
             5,
             7
            ],
            [
             3,
             0,
             8
            ],
            [
             1,
             4,
             2
            ]
           ]
          }
         ],
         "layout": {
          "annotations": [
           {
            "font": {
             "color": "green",
             "size": 80
            },
            "showarrow": false,
            "text": "6",
            "x": 0,
            "xref": "x",
            "y": 0,
            "yref": "y"
           },
           {
            "font": {
             "color": "green",
             "size": 80
            },
            "showarrow": false,
            "text": "5",
            "x": 1,
            "xref": "x",
            "y": 0,
            "yref": "y"
           },
           {
            "font": {
             "color": "green",
             "size": 80
            },
            "showarrow": false,
            "text": "7",
            "x": 2,
            "xref": "x",
            "y": 0,
            "yref": "y"
           },
           {
            "font": {
             "color": "green",
             "size": 80
            },
            "showarrow": false,
            "text": "3",
            "x": 0,
            "xref": "x",
            "y": 1,
            "yref": "y"
           },
           {
            "font": {
             "color": "green",
             "size": 80
            },
            "showarrow": false,
            "text": "",
            "x": 1,
            "xref": "x",
            "y": 1,
            "yref": "y"
           },
           {
            "font": {
             "color": "green",
             "size": 80
            },
            "showarrow": false,
            "text": "8",
            "x": 2,
            "xref": "x",
            "y": 1,
            "yref": "y"
           },
           {
            "font": {
             "color": "green",
             "size": 80
            },
            "showarrow": false,
            "text": "1",
            "x": 0,
            "xref": "x",
            "y": 2,
            "yref": "y"
           },
           {
            "font": {
             "color": "green",
             "size": 80
            },
            "showarrow": false,
            "text": "4",
            "x": 1,
            "xref": "x",
            "y": 2,
            "yref": "y"
           },
           {
            "font": {
             "color": "green",
             "size": 80
            },
            "showarrow": false,
            "text": "2",
            "x": 2,
            "xref": "x",
            "y": 2,
            "yref": "y"
           }
          ],
          "height": 700,
          "width": 600,
          "xaxis": {
           "showticklabels": false
          },
          "yaxis": {
           "showticklabels": false
          }
         },
         "name": "4"
        },
        {
         "data": [
          {
           "colorscale": [
            [
             0,
             "#000004"
            ],
            [
             0.1111111111111111,
             "#180f3d"
            ],
            [
             0.2222222222222222,
             "#440f76"
            ],
            [
             0.3333333333333333,
             "#721f81"
            ],
            [
             0.4444444444444444,
             "#9e2f7f"
            ],
            [
             0.5555555555555556,
             "#cd4071"
            ],
            [
             0.6666666666666666,
             "#f1605d"
            ],
            [
             0.7777777777777778,
             "#fd9668"
            ],
            [
             0.8888888888888888,
             "#feca8d"
            ],
            [
             1,
             "#fcfdbf"
            ]
           ],
           "showscale": false,
           "type": "heatmap",
           "x": [
            0,
            1,
            2
           ],
           "xgap": 5,
           "y": [
            0,
            1,
            2
           ],
           "ygap": 5,
           "z": [
            [
             6,
             5,
             7
            ],
            [
             0,
             3,
             8
            ],
            [
             1,
             4,
             2
            ]
           ]
          }
         ],
         "layout": {
          "annotations": [
           {
            "font": {
             "color": "green",
             "size": 80
            },
            "showarrow": false,
            "text": "6",
            "x": 0,
            "xref": "x",
            "y": 0,
            "yref": "y"
           },
           {
            "font": {
             "color": "green",
             "size": 80
            },
            "showarrow": false,
            "text": "5",
            "x": 1,
            "xref": "x",
            "y": 0,
            "yref": "y"
           },
           {
            "font": {
             "color": "green",
             "size": 80
            },
            "showarrow": false,
            "text": "7",
            "x": 2,
            "xref": "x",
            "y": 0,
            "yref": "y"
           },
           {
            "font": {
             "color": "green",
             "size": 80
            },
            "showarrow": false,
            "text": "",
            "x": 0,
            "xref": "x",
            "y": 1,
            "yref": "y"
           },
           {
            "font": {
             "color": "green",
             "size": 80
            },
            "showarrow": false,
            "text": "3",
            "x": 1,
            "xref": "x",
            "y": 1,
            "yref": "y"
           },
           {
            "font": {
             "color": "green",
             "size": 80
            },
            "showarrow": false,
            "text": "8",
            "x": 2,
            "xref": "x",
            "y": 1,
            "yref": "y"
           },
           {
            "font": {
             "color": "green",
             "size": 80
            },
            "showarrow": false,
            "text": "1",
            "x": 0,
            "xref": "x",
            "y": 2,
            "yref": "y"
           },
           {
            "font": {
             "color": "green",
             "size": 80
            },
            "showarrow": false,
            "text": "4",
            "x": 1,
            "xref": "x",
            "y": 2,
            "yref": "y"
           },
           {
            "font": {
             "color": "green",
             "size": 80
            },
            "showarrow": false,
            "text": "2",
            "x": 2,
            "xref": "x",
            "y": 2,
            "yref": "y"
           }
          ],
          "height": 700,
          "width": 600,
          "xaxis": {
           "showticklabels": false
          },
          "yaxis": {
           "showticklabels": false
          }
         },
         "name": "5"
        },
        {
         "data": [
          {
           "colorscale": [
            [
             0,
             "#000004"
            ],
            [
             0.1111111111111111,
             "#180f3d"
            ],
            [
             0.2222222222222222,
             "#440f76"
            ],
            [
             0.3333333333333333,
             "#721f81"
            ],
            [
             0.4444444444444444,
             "#9e2f7f"
            ],
            [
             0.5555555555555556,
             "#cd4071"
            ],
            [
             0.6666666666666666,
             "#f1605d"
            ],
            [
             0.7777777777777778,
             "#fd9668"
            ],
            [
             0.8888888888888888,
             "#feca8d"
            ],
            [
             1,
             "#fcfdbf"
            ]
           ],
           "showscale": false,
           "type": "heatmap",
           "x": [
            0,
            1,
            2
           ],
           "xgap": 5,
           "y": [
            0,
            1,
            2
           ],
           "ygap": 5,
           "z": [
            [
             0,
             5,
             7
            ],
            [
             6,
             3,
             8
            ],
            [
             1,
             4,
             2
            ]
           ]
          }
         ],
         "layout": {
          "annotations": [
           {
            "font": {
             "color": "green",
             "size": 80
            },
            "showarrow": false,
            "text": "",
            "x": 0,
            "xref": "x",
            "y": 0,
            "yref": "y"
           },
           {
            "font": {
             "color": "green",
             "size": 80
            },
            "showarrow": false,
            "text": "5",
            "x": 1,
            "xref": "x",
            "y": 0,
            "yref": "y"
           },
           {
            "font": {
             "color": "green",
             "size": 80
            },
            "showarrow": false,
            "text": "7",
            "x": 2,
            "xref": "x",
            "y": 0,
            "yref": "y"
           },
           {
            "font": {
             "color": "green",
             "size": 80
            },
            "showarrow": false,
            "text": "6",
            "x": 0,
            "xref": "x",
            "y": 1,
            "yref": "y"
           },
           {
            "font": {
             "color": "green",
             "size": 80
            },
            "showarrow": false,
            "text": "3",
            "x": 1,
            "xref": "x",
            "y": 1,
            "yref": "y"
           },
           {
            "font": {
             "color": "green",
             "size": 80
            },
            "showarrow": false,
            "text": "8",
            "x": 2,
            "xref": "x",
            "y": 1,
            "yref": "y"
           },
           {
            "font": {
             "color": "green",
             "size": 80
            },
            "showarrow": false,
            "text": "1",
            "x": 0,
            "xref": "x",
            "y": 2,
            "yref": "y"
           },
           {
            "font": {
             "color": "green",
             "size": 80
            },
            "showarrow": false,
            "text": "4",
            "x": 1,
            "xref": "x",
            "y": 2,
            "yref": "y"
           },
           {
            "font": {
             "color": "green",
             "size": 80
            },
            "showarrow": false,
            "text": "2",
            "x": 2,
            "xref": "x",
            "y": 2,
            "yref": "y"
           }
          ],
          "height": 700,
          "width": 600,
          "xaxis": {
           "showticklabels": false
          },
          "yaxis": {
           "showticklabels": false
          }
         },
         "name": "6"
        },
        {
         "data": [
          {
           "colorscale": [
            [
             0,
             "#000004"
            ],
            [
             0.1111111111111111,
             "#180f3d"
            ],
            [
             0.2222222222222222,
             "#440f76"
            ],
            [
             0.3333333333333333,
             "#721f81"
            ],
            [
             0.4444444444444444,
             "#9e2f7f"
            ],
            [
             0.5555555555555556,
             "#cd4071"
            ],
            [
             0.6666666666666666,
             "#f1605d"
            ],
            [
             0.7777777777777778,
             "#fd9668"
            ],
            [
             0.8888888888888888,
             "#feca8d"
            ],
            [
             1,
             "#fcfdbf"
            ]
           ],
           "showscale": false,
           "type": "heatmap",
           "x": [
            0,
            1,
            2
           ],
           "xgap": 5,
           "y": [
            0,
            1,
            2
           ],
           "ygap": 5,
           "z": [
            [
             5,
             0,
             7
            ],
            [
             6,
             3,
             8
            ],
            [
             1,
             4,
             2
            ]
           ]
          }
         ],
         "layout": {
          "annotations": [
           {
            "font": {
             "color": "green",
             "size": 80
            },
            "showarrow": false,
            "text": "5",
            "x": 0,
            "xref": "x",
            "y": 0,
            "yref": "y"
           },
           {
            "font": {
             "color": "green",
             "size": 80
            },
            "showarrow": false,
            "text": "",
            "x": 1,
            "xref": "x",
            "y": 0,
            "yref": "y"
           },
           {
            "font": {
             "color": "green",
             "size": 80
            },
            "showarrow": false,
            "text": "7",
            "x": 2,
            "xref": "x",
            "y": 0,
            "yref": "y"
           },
           {
            "font": {
             "color": "green",
             "size": 80
            },
            "showarrow": false,
            "text": "6",
            "x": 0,
            "xref": "x",
            "y": 1,
            "yref": "y"
           },
           {
            "font": {
             "color": "green",
             "size": 80
            },
            "showarrow": false,
            "text": "3",
            "x": 1,
            "xref": "x",
            "y": 1,
            "yref": "y"
           },
           {
            "font": {
             "color": "green",
             "size": 80
            },
            "showarrow": false,
            "text": "8",
            "x": 2,
            "xref": "x",
            "y": 1,
            "yref": "y"
           },
           {
            "font": {
             "color": "green",
             "size": 80
            },
            "showarrow": false,
            "text": "1",
            "x": 0,
            "xref": "x",
            "y": 2,
            "yref": "y"
           },
           {
            "font": {
             "color": "green",
             "size": 80
            },
            "showarrow": false,
            "text": "4",
            "x": 1,
            "xref": "x",
            "y": 2,
            "yref": "y"
           },
           {
            "font": {
             "color": "green",
             "size": 80
            },
            "showarrow": false,
            "text": "2",
            "x": 2,
            "xref": "x",
            "y": 2,
            "yref": "y"
           }
          ],
          "height": 700,
          "width": 600,
          "xaxis": {
           "showticklabels": false
          },
          "yaxis": {
           "showticklabels": false
          }
         },
         "name": "7"
        },
        {
         "data": [
          {
           "colorscale": [
            [
             0,
             "#000004"
            ],
            [
             0.1111111111111111,
             "#180f3d"
            ],
            [
             0.2222222222222222,
             "#440f76"
            ],
            [
             0.3333333333333333,
             "#721f81"
            ],
            [
             0.4444444444444444,
             "#9e2f7f"
            ],
            [
             0.5555555555555556,
             "#cd4071"
            ],
            [
             0.6666666666666666,
             "#f1605d"
            ],
            [
             0.7777777777777778,
             "#fd9668"
            ],
            [
             0.8888888888888888,
             "#feca8d"
            ],
            [
             1,
             "#fcfdbf"
            ]
           ],
           "showscale": false,
           "type": "heatmap",
           "x": [
            0,
            1,
            2
           ],
           "xgap": 5,
           "y": [
            0,
            1,
            2
           ],
           "ygap": 5,
           "z": [
            [
             5,
             7,
             0
            ],
            [
             6,
             3,
             8
            ],
            [
             1,
             4,
             2
            ]
           ]
          }
         ],
         "layout": {
          "annotations": [
           {
            "font": {
             "color": "green",
             "size": 80
            },
            "showarrow": false,
            "text": "5",
            "x": 0,
            "xref": "x",
            "y": 0,
            "yref": "y"
           },
           {
            "font": {
             "color": "green",
             "size": 80
            },
            "showarrow": false,
            "text": "7",
            "x": 1,
            "xref": "x",
            "y": 0,
            "yref": "y"
           },
           {
            "font": {
             "color": "green",
             "size": 80
            },
            "showarrow": false,
            "text": "",
            "x": 2,
            "xref": "x",
            "y": 0,
            "yref": "y"
           },
           {
            "font": {
             "color": "green",
             "size": 80
            },
            "showarrow": false,
            "text": "6",
            "x": 0,
            "xref": "x",
            "y": 1,
            "yref": "y"
           },
           {
            "font": {
             "color": "green",
             "size": 80
            },
            "showarrow": false,
            "text": "3",
            "x": 1,
            "xref": "x",
            "y": 1,
            "yref": "y"
           },
           {
            "font": {
             "color": "green",
             "size": 80
            },
            "showarrow": false,
            "text": "8",
            "x": 2,
            "xref": "x",
            "y": 1,
            "yref": "y"
           },
           {
            "font": {
             "color": "green",
             "size": 80
            },
            "showarrow": false,
            "text": "1",
            "x": 0,
            "xref": "x",
            "y": 2,
            "yref": "y"
           },
           {
            "font": {
             "color": "green",
             "size": 80
            },
            "showarrow": false,
            "text": "4",
            "x": 1,
            "xref": "x",
            "y": 2,
            "yref": "y"
           },
           {
            "font": {
             "color": "green",
             "size": 80
            },
            "showarrow": false,
            "text": "2",
            "x": 2,
            "xref": "x",
            "y": 2,
            "yref": "y"
           }
          ],
          "height": 700,
          "width": 600,
          "xaxis": {
           "showticklabels": false
          },
          "yaxis": {
           "showticklabels": false
          }
         },
         "name": "8"
        },
        {
         "data": [
          {
           "colorscale": [
            [
             0,
             "#000004"
            ],
            [
             0.1111111111111111,
             "#180f3d"
            ],
            [
             0.2222222222222222,
             "#440f76"
            ],
            [
             0.3333333333333333,
             "#721f81"
            ],
            [
             0.4444444444444444,
             "#9e2f7f"
            ],
            [
             0.5555555555555556,
             "#cd4071"
            ],
            [
             0.6666666666666666,
             "#f1605d"
            ],
            [
             0.7777777777777778,
             "#fd9668"
            ],
            [
             0.8888888888888888,
             "#feca8d"
            ],
            [
             1,
             "#fcfdbf"
            ]
           ],
           "showscale": false,
           "type": "heatmap",
           "x": [
            0,
            1,
            2
           ],
           "xgap": 5,
           "y": [
            0,
            1,
            2
           ],
           "ygap": 5,
           "z": [
            [
             5,
             7,
             8
            ],
            [
             6,
             3,
             0
            ],
            [
             1,
             4,
             2
            ]
           ]
          }
         ],
         "layout": {
          "annotations": [
           {
            "font": {
             "color": "green",
             "size": 80
            },
            "showarrow": false,
            "text": "5",
            "x": 0,
            "xref": "x",
            "y": 0,
            "yref": "y"
           },
           {
            "font": {
             "color": "green",
             "size": 80
            },
            "showarrow": false,
            "text": "7",
            "x": 1,
            "xref": "x",
            "y": 0,
            "yref": "y"
           },
           {
            "font": {
             "color": "green",
             "size": 80
            },
            "showarrow": false,
            "text": "8",
            "x": 2,
            "xref": "x",
            "y": 0,
            "yref": "y"
           },
           {
            "font": {
             "color": "green",
             "size": 80
            },
            "showarrow": false,
            "text": "6",
            "x": 0,
            "xref": "x",
            "y": 1,
            "yref": "y"
           },
           {
            "font": {
             "color": "green",
             "size": 80
            },
            "showarrow": false,
            "text": "3",
            "x": 1,
            "xref": "x",
            "y": 1,
            "yref": "y"
           },
           {
            "font": {
             "color": "green",
             "size": 80
            },
            "showarrow": false,
            "text": "",
            "x": 2,
            "xref": "x",
            "y": 1,
            "yref": "y"
           },
           {
            "font": {
             "color": "green",
             "size": 80
            },
            "showarrow": false,
            "text": "1",
            "x": 0,
            "xref": "x",
            "y": 2,
            "yref": "y"
           },
           {
            "font": {
             "color": "green",
             "size": 80
            },
            "showarrow": false,
            "text": "4",
            "x": 1,
            "xref": "x",
            "y": 2,
            "yref": "y"
           },
           {
            "font": {
             "color": "green",
             "size": 80
            },
            "showarrow": false,
            "text": "2",
            "x": 2,
            "xref": "x",
            "y": 2,
            "yref": "y"
           }
          ],
          "height": 700,
          "width": 600,
          "xaxis": {
           "showticklabels": false
          },
          "yaxis": {
           "showticklabels": false
          }
         },
         "name": "9"
        },
        {
         "data": [
          {
           "colorscale": [
            [
             0,
             "#000004"
            ],
            [
             0.1111111111111111,
             "#180f3d"
            ],
            [
             0.2222222222222222,
             "#440f76"
            ],
            [
             0.3333333333333333,
             "#721f81"
            ],
            [
             0.4444444444444444,
             "#9e2f7f"
            ],
            [
             0.5555555555555556,
             "#cd4071"
            ],
            [
             0.6666666666666666,
             "#f1605d"
            ],
            [
             0.7777777777777778,
             "#fd9668"
            ],
            [
             0.8888888888888888,
             "#feca8d"
            ],
            [
             1,
             "#fcfdbf"
            ]
           ],
           "showscale": false,
           "type": "heatmap",
           "x": [
            0,
            1,
            2
           ],
           "xgap": 5,
           "y": [
            0,
            1,
            2
           ],
           "ygap": 5,
           "z": [
            [
             5,
             7,
             8
            ],
            [
             6,
             0,
             3
            ],
            [
             1,
             4,
             2
            ]
           ]
          }
         ],
         "layout": {
          "annotations": [
           {
            "font": {
             "color": "green",
             "size": 80
            },
            "showarrow": false,
            "text": "5",
            "x": 0,
            "xref": "x",
            "y": 0,
            "yref": "y"
           },
           {
            "font": {
             "color": "green",
             "size": 80
            },
            "showarrow": false,
            "text": "7",
            "x": 1,
            "xref": "x",
            "y": 0,
            "yref": "y"
           },
           {
            "font": {
             "color": "green",
             "size": 80
            },
            "showarrow": false,
            "text": "8",
            "x": 2,
            "xref": "x",
            "y": 0,
            "yref": "y"
           },
           {
            "font": {
             "color": "green",
             "size": 80
            },
            "showarrow": false,
            "text": "6",
            "x": 0,
            "xref": "x",
            "y": 1,
            "yref": "y"
           },
           {
            "font": {
             "color": "green",
             "size": 80
            },
            "showarrow": false,
            "text": "",
            "x": 1,
            "xref": "x",
            "y": 1,
            "yref": "y"
           },
           {
            "font": {
             "color": "green",
             "size": 80
            },
            "showarrow": false,
            "text": "3",
            "x": 2,
            "xref": "x",
            "y": 1,
            "yref": "y"
           },
           {
            "font": {
             "color": "green",
             "size": 80
            },
            "showarrow": false,
            "text": "1",
            "x": 0,
            "xref": "x",
            "y": 2,
            "yref": "y"
           },
           {
            "font": {
             "color": "green",
             "size": 80
            },
            "showarrow": false,
            "text": "4",
            "x": 1,
            "xref": "x",
            "y": 2,
            "yref": "y"
           },
           {
            "font": {
             "color": "green",
             "size": 80
            },
            "showarrow": false,
            "text": "2",
            "x": 2,
            "xref": "x",
            "y": 2,
            "yref": "y"
           }
          ],
          "height": 700,
          "width": 600,
          "xaxis": {
           "showticklabels": false
          },
          "yaxis": {
           "showticklabels": false
          }
         },
         "name": "10"
        },
        {
         "data": [
          {
           "colorscale": [
            [
             0,
             "#000004"
            ],
            [
             0.1111111111111111,
             "#180f3d"
            ],
            [
             0.2222222222222222,
             "#440f76"
            ],
            [
             0.3333333333333333,
             "#721f81"
            ],
            [
             0.4444444444444444,
             "#9e2f7f"
            ],
            [
             0.5555555555555556,
             "#cd4071"
            ],
            [
             0.6666666666666666,
             "#f1605d"
            ],
            [
             0.7777777777777778,
             "#fd9668"
            ],
            [
             0.8888888888888888,
             "#feca8d"
            ],
            [
             1,
             "#fcfdbf"
            ]
           ],
           "showscale": false,
           "type": "heatmap",
           "x": [
            0,
            1,
            2
           ],
           "xgap": 5,
           "y": [
            0,
            1,
            2
           ],
           "ygap": 5,
           "z": [
            [
             5,
             7,
             8
            ],
            [
             6,
             4,
             3
            ],
            [
             1,
             0,
             2
            ]
           ]
          }
         ],
         "layout": {
          "annotations": [
           {
            "font": {
             "color": "green",
             "size": 80
            },
            "showarrow": false,
            "text": "5",
            "x": 0,
            "xref": "x",
            "y": 0,
            "yref": "y"
           },
           {
            "font": {
             "color": "green",
             "size": 80
            },
            "showarrow": false,
            "text": "7",
            "x": 1,
            "xref": "x",
            "y": 0,
            "yref": "y"
           },
           {
            "font": {
             "color": "green",
             "size": 80
            },
            "showarrow": false,
            "text": "8",
            "x": 2,
            "xref": "x",
            "y": 0,
            "yref": "y"
           },
           {
            "font": {
             "color": "green",
             "size": 80
            },
            "showarrow": false,
            "text": "6",
            "x": 0,
            "xref": "x",
            "y": 1,
            "yref": "y"
           },
           {
            "font": {
             "color": "green",
             "size": 80
            },
            "showarrow": false,
            "text": "4",
            "x": 1,
            "xref": "x",
            "y": 1,
            "yref": "y"
           },
           {
            "font": {
             "color": "green",
             "size": 80
            },
            "showarrow": false,
            "text": "3",
            "x": 2,
            "xref": "x",
            "y": 1,
            "yref": "y"
           },
           {
            "font": {
             "color": "green",
             "size": 80
            },
            "showarrow": false,
            "text": "1",
            "x": 0,
            "xref": "x",
            "y": 2,
            "yref": "y"
           },
           {
            "font": {
             "color": "green",
             "size": 80
            },
            "showarrow": false,
            "text": "",
            "x": 1,
            "xref": "x",
            "y": 2,
            "yref": "y"
           },
           {
            "font": {
             "color": "green",
             "size": 80
            },
            "showarrow": false,
            "text": "2",
            "x": 2,
            "xref": "x",
            "y": 2,
            "yref": "y"
           }
          ],
          "height": 700,
          "width": 600,
          "xaxis": {
           "showticklabels": false
          },
          "yaxis": {
           "showticklabels": false
          }
         },
         "name": "11"
        },
        {
         "data": [
          {
           "colorscale": [
            [
             0,
             "#000004"
            ],
            [
             0.1111111111111111,
             "#180f3d"
            ],
            [
             0.2222222222222222,
             "#440f76"
            ],
            [
             0.3333333333333333,
             "#721f81"
            ],
            [
             0.4444444444444444,
             "#9e2f7f"
            ],
            [
             0.5555555555555556,
             "#cd4071"
            ],
            [
             0.6666666666666666,
             "#f1605d"
            ],
            [
             0.7777777777777778,
             "#fd9668"
            ],
            [
             0.8888888888888888,
             "#feca8d"
            ],
            [
             1,
             "#fcfdbf"
            ]
           ],
           "showscale": false,
           "type": "heatmap",
           "x": [
            0,
            1,
            2
           ],
           "xgap": 5,
           "y": [
            0,
            1,
            2
           ],
           "ygap": 5,
           "z": [
            [
             5,
             7,
             8
            ],
            [
             6,
             4,
             3
            ],
            [
             1,
             2,
             0
            ]
           ]
          }
         ],
         "layout": {
          "annotations": [
           {
            "font": {
             "color": "green",
             "size": 80
            },
            "showarrow": false,
            "text": "5",
            "x": 0,
            "xref": "x",
            "y": 0,
            "yref": "y"
           },
           {
            "font": {
             "color": "green",
             "size": 80
            },
            "showarrow": false,
            "text": "7",
            "x": 1,
            "xref": "x",
            "y": 0,
            "yref": "y"
           },
           {
            "font": {
             "color": "green",
             "size": 80
            },
            "showarrow": false,
            "text": "8",
            "x": 2,
            "xref": "x",
            "y": 0,
            "yref": "y"
           },
           {
            "font": {
             "color": "green",
             "size": 80
            },
            "showarrow": false,
            "text": "6",
            "x": 0,
            "xref": "x",
            "y": 1,
            "yref": "y"
           },
           {
            "font": {
             "color": "green",
             "size": 80
            },
            "showarrow": false,
            "text": "4",
            "x": 1,
            "xref": "x",
            "y": 1,
            "yref": "y"
           },
           {
            "font": {
             "color": "green",
             "size": 80
            },
            "showarrow": false,
            "text": "3",
            "x": 2,
            "xref": "x",
            "y": 1,
            "yref": "y"
           },
           {
            "font": {
             "color": "green",
             "size": 80
            },
            "showarrow": false,
            "text": "1",
            "x": 0,
            "xref": "x",
            "y": 2,
            "yref": "y"
           },
           {
            "font": {
             "color": "green",
             "size": 80
            },
            "showarrow": false,
            "text": "2",
            "x": 1,
            "xref": "x",
            "y": 2,
            "yref": "y"
           },
           {
            "font": {
             "color": "green",
             "size": 80
            },
            "showarrow": false,
            "text": "",
            "x": 2,
            "xref": "x",
            "y": 2,
            "yref": "y"
           }
          ],
          "height": 700,
          "width": 600,
          "xaxis": {
           "showticklabels": false
          },
          "yaxis": {
           "showticklabels": false
          }
         },
         "name": "12"
        },
        {
         "data": [
          {
           "colorscale": [
            [
             0,
             "#000004"
            ],
            [
             0.1111111111111111,
             "#180f3d"
            ],
            [
             0.2222222222222222,
             "#440f76"
            ],
            [
             0.3333333333333333,
             "#721f81"
            ],
            [
             0.4444444444444444,
             "#9e2f7f"
            ],
            [
             0.5555555555555556,
             "#cd4071"
            ],
            [
             0.6666666666666666,
             "#f1605d"
            ],
            [
             0.7777777777777778,
             "#fd9668"
            ],
            [
             0.8888888888888888,
             "#feca8d"
            ],
            [
             1,
             "#fcfdbf"
            ]
           ],
           "showscale": false,
           "type": "heatmap",
           "x": [
            0,
            1,
            2
           ],
           "xgap": 5,
           "y": [
            0,
            1,
            2
           ],
           "ygap": 5,
           "z": [
            [
             5,
             7,
             8
            ],
            [
             6,
             4,
             0
            ],
            [
             1,
             2,
             3
            ]
           ]
          }
         ],
         "layout": {
          "annotations": [
           {
            "font": {
             "color": "green",
             "size": 80
            },
            "showarrow": false,
            "text": "5",
            "x": 0,
            "xref": "x",
            "y": 0,
            "yref": "y"
           },
           {
            "font": {
             "color": "green",
             "size": 80
            },
            "showarrow": false,
            "text": "7",
            "x": 1,
            "xref": "x",
            "y": 0,
            "yref": "y"
           },
           {
            "font": {
             "color": "green",
             "size": 80
            },
            "showarrow": false,
            "text": "8",
            "x": 2,
            "xref": "x",
            "y": 0,
            "yref": "y"
           },
           {
            "font": {
             "color": "green",
             "size": 80
            },
            "showarrow": false,
            "text": "6",
            "x": 0,
            "xref": "x",
            "y": 1,
            "yref": "y"
           },
           {
            "font": {
             "color": "green",
             "size": 80
            },
            "showarrow": false,
            "text": "4",
            "x": 1,
            "xref": "x",
            "y": 1,
            "yref": "y"
           },
           {
            "font": {
             "color": "green",
             "size": 80
            },
            "showarrow": false,
            "text": "",
            "x": 2,
            "xref": "x",
            "y": 1,
            "yref": "y"
           },
           {
            "font": {
             "color": "green",
             "size": 80
            },
            "showarrow": false,
            "text": "1",
            "x": 0,
            "xref": "x",
            "y": 2,
            "yref": "y"
           },
           {
            "font": {
             "color": "green",
             "size": 80
            },
            "showarrow": false,
            "text": "2",
            "x": 1,
            "xref": "x",
            "y": 2,
            "yref": "y"
           },
           {
            "font": {
             "color": "green",
             "size": 80
            },
            "showarrow": false,
            "text": "3",
            "x": 2,
            "xref": "x",
            "y": 2,
            "yref": "y"
           }
          ],
          "height": 700,
          "width": 600,
          "xaxis": {
           "showticklabels": false
          },
          "yaxis": {
           "showticklabels": false
          }
         },
         "name": "13"
        },
        {
         "data": [
          {
           "colorscale": [
            [
             0,
             "#000004"
            ],
            [
             0.1111111111111111,
             "#180f3d"
            ],
            [
             0.2222222222222222,
             "#440f76"
            ],
            [
             0.3333333333333333,
             "#721f81"
            ],
            [
             0.4444444444444444,
             "#9e2f7f"
            ],
            [
             0.5555555555555556,
             "#cd4071"
            ],
            [
             0.6666666666666666,
             "#f1605d"
            ],
            [
             0.7777777777777778,
             "#fd9668"
            ],
            [
             0.8888888888888888,
             "#feca8d"
            ],
            [
             1,
             "#fcfdbf"
            ]
           ],
           "showscale": false,
           "type": "heatmap",
           "x": [
            0,
            1,
            2
           ],
           "xgap": 5,
           "y": [
            0,
            1,
            2
           ],
           "ygap": 5,
           "z": [
            [
             5,
             7,
             0
            ],
            [
             6,
             4,
             8
            ],
            [
             1,
             2,
             3
            ]
           ]
          }
         ],
         "layout": {
          "annotations": [
           {
            "font": {
             "color": "green",
             "size": 80
            },
            "showarrow": false,
            "text": "5",
            "x": 0,
            "xref": "x",
            "y": 0,
            "yref": "y"
           },
           {
            "font": {
             "color": "green",
             "size": 80
            },
            "showarrow": false,
            "text": "7",
            "x": 1,
            "xref": "x",
            "y": 0,
            "yref": "y"
           },
           {
            "font": {
             "color": "green",
             "size": 80
            },
            "showarrow": false,
            "text": "",
            "x": 2,
            "xref": "x",
            "y": 0,
            "yref": "y"
           },
           {
            "font": {
             "color": "green",
             "size": 80
            },
            "showarrow": false,
            "text": "6",
            "x": 0,
            "xref": "x",
            "y": 1,
            "yref": "y"
           },
           {
            "font": {
             "color": "green",
             "size": 80
            },
            "showarrow": false,
            "text": "4",
            "x": 1,
            "xref": "x",
            "y": 1,
            "yref": "y"
           },
           {
            "font": {
             "color": "green",
             "size": 80
            },
            "showarrow": false,
            "text": "8",
            "x": 2,
            "xref": "x",
            "y": 1,
            "yref": "y"
           },
           {
            "font": {
             "color": "green",
             "size": 80
            },
            "showarrow": false,
            "text": "1",
            "x": 0,
            "xref": "x",
            "y": 2,
            "yref": "y"
           },
           {
            "font": {
             "color": "green",
             "size": 80
            },
            "showarrow": false,
            "text": "2",
            "x": 1,
            "xref": "x",
            "y": 2,
            "yref": "y"
           },
           {
            "font": {
             "color": "green",
             "size": 80
            },
            "showarrow": false,
            "text": "3",
            "x": 2,
            "xref": "x",
            "y": 2,
            "yref": "y"
           }
          ],
          "height": 700,
          "width": 600,
          "xaxis": {
           "showticklabels": false
          },
          "yaxis": {
           "showticklabels": false
          }
         },
         "name": "14"
        },
        {
         "data": [
          {
           "colorscale": [
            [
             0,
             "#000004"
            ],
            [
             0.1111111111111111,
             "#180f3d"
            ],
            [
             0.2222222222222222,
             "#440f76"
            ],
            [
             0.3333333333333333,
             "#721f81"
            ],
            [
             0.4444444444444444,
             "#9e2f7f"
            ],
            [
             0.5555555555555556,
             "#cd4071"
            ],
            [
             0.6666666666666666,
             "#f1605d"
            ],
            [
             0.7777777777777778,
             "#fd9668"
            ],
            [
             0.8888888888888888,
             "#feca8d"
            ],
            [
             1,
             "#fcfdbf"
            ]
           ],
           "showscale": false,
           "type": "heatmap",
           "x": [
            0,
            1,
            2
           ],
           "xgap": 5,
           "y": [
            0,
            1,
            2
           ],
           "ygap": 5,
           "z": [
            [
             5,
             0,
             7
            ],
            [
             6,
             4,
             8
            ],
            [
             1,
             2,
             3
            ]
           ]
          }
         ],
         "layout": {
          "annotations": [
           {
            "font": {
             "color": "green",
             "size": 80
            },
            "showarrow": false,
            "text": "5",
            "x": 0,
            "xref": "x",
            "y": 0,
            "yref": "y"
           },
           {
            "font": {
             "color": "green",
             "size": 80
            },
            "showarrow": false,
            "text": "",
            "x": 1,
            "xref": "x",
            "y": 0,
            "yref": "y"
           },
           {
            "font": {
             "color": "green",
             "size": 80
            },
            "showarrow": false,
            "text": "7",
            "x": 2,
            "xref": "x",
            "y": 0,
            "yref": "y"
           },
           {
            "font": {
             "color": "green",
             "size": 80
            },
            "showarrow": false,
            "text": "6",
            "x": 0,
            "xref": "x",
            "y": 1,
            "yref": "y"
           },
           {
            "font": {
             "color": "green",
             "size": 80
            },
            "showarrow": false,
            "text": "4",
            "x": 1,
            "xref": "x",
            "y": 1,
            "yref": "y"
           },
           {
            "font": {
             "color": "green",
             "size": 80
            },
            "showarrow": false,
            "text": "8",
            "x": 2,
            "xref": "x",
            "y": 1,
            "yref": "y"
           },
           {
            "font": {
             "color": "green",
             "size": 80
            },
            "showarrow": false,
            "text": "1",
            "x": 0,
            "xref": "x",
            "y": 2,
            "yref": "y"
           },
           {
            "font": {
             "color": "green",
             "size": 80
            },
            "showarrow": false,
            "text": "2",
            "x": 1,
            "xref": "x",
            "y": 2,
            "yref": "y"
           },
           {
            "font": {
             "color": "green",
             "size": 80
            },
            "showarrow": false,
            "text": "3",
            "x": 2,
            "xref": "x",
            "y": 2,
            "yref": "y"
           }
          ],
          "height": 700,
          "width": 600,
          "xaxis": {
           "showticklabels": false
          },
          "yaxis": {
           "showticklabels": false
          }
         },
         "name": "15"
        },
        {
         "data": [
          {
           "colorscale": [
            [
             0,
             "#000004"
            ],
            [
             0.1111111111111111,
             "#180f3d"
            ],
            [
             0.2222222222222222,
             "#440f76"
            ],
            [
             0.3333333333333333,
             "#721f81"
            ],
            [
             0.4444444444444444,
             "#9e2f7f"
            ],
            [
             0.5555555555555556,
             "#cd4071"
            ],
            [
             0.6666666666666666,
             "#f1605d"
            ],
            [
             0.7777777777777778,
             "#fd9668"
            ],
            [
             0.8888888888888888,
             "#feca8d"
            ],
            [
             1,
             "#fcfdbf"
            ]
           ],
           "showscale": false,
           "type": "heatmap",
           "x": [
            0,
            1,
            2
           ],
           "xgap": 5,
           "y": [
            0,
            1,
            2
           ],
           "ygap": 5,
           "z": [
            [
             5,
             4,
             7
            ],
            [
             6,
             0,
             8
            ],
            [
             1,
             2,
             3
            ]
           ]
          }
         ],
         "layout": {
          "annotations": [
           {
            "font": {
             "color": "green",
             "size": 80
            },
            "showarrow": false,
            "text": "5",
            "x": 0,
            "xref": "x",
            "y": 0,
            "yref": "y"
           },
           {
            "font": {
             "color": "green",
             "size": 80
            },
            "showarrow": false,
            "text": "4",
            "x": 1,
            "xref": "x",
            "y": 0,
            "yref": "y"
           },
           {
            "font": {
             "color": "green",
             "size": 80
            },
            "showarrow": false,
            "text": "7",
            "x": 2,
            "xref": "x",
            "y": 0,
            "yref": "y"
           },
           {
            "font": {
             "color": "green",
             "size": 80
            },
            "showarrow": false,
            "text": "6",
            "x": 0,
            "xref": "x",
            "y": 1,
            "yref": "y"
           },
           {
            "font": {
             "color": "green",
             "size": 80
            },
            "showarrow": false,
            "text": "",
            "x": 1,
            "xref": "x",
            "y": 1,
            "yref": "y"
           },
           {
            "font": {
             "color": "green",
             "size": 80
            },
            "showarrow": false,
            "text": "8",
            "x": 2,
            "xref": "x",
            "y": 1,
            "yref": "y"
           },
           {
            "font": {
             "color": "green",
             "size": 80
            },
            "showarrow": false,
            "text": "1",
            "x": 0,
            "xref": "x",
            "y": 2,
            "yref": "y"
           },
           {
            "font": {
             "color": "green",
             "size": 80
            },
            "showarrow": false,
            "text": "2",
            "x": 1,
            "xref": "x",
            "y": 2,
            "yref": "y"
           },
           {
            "font": {
             "color": "green",
             "size": 80
            },
            "showarrow": false,
            "text": "3",
            "x": 2,
            "xref": "x",
            "y": 2,
            "yref": "y"
           }
          ],
          "height": 700,
          "width": 600,
          "xaxis": {
           "showticklabels": false
          },
          "yaxis": {
           "showticklabels": false
          }
         },
         "name": "16"
        },
        {
         "data": [
          {
           "colorscale": [
            [
             0,
             "#000004"
            ],
            [
             0.1111111111111111,
             "#180f3d"
            ],
            [
             0.2222222222222222,
             "#440f76"
            ],
            [
             0.3333333333333333,
             "#721f81"
            ],
            [
             0.4444444444444444,
             "#9e2f7f"
            ],
            [
             0.5555555555555556,
             "#cd4071"
            ],
            [
             0.6666666666666666,
             "#f1605d"
            ],
            [
             0.7777777777777778,
             "#fd9668"
            ],
            [
             0.8888888888888888,
             "#feca8d"
            ],
            [
             1,
             "#fcfdbf"
            ]
           ],
           "showscale": false,
           "type": "heatmap",
           "x": [
            0,
            1,
            2
           ],
           "xgap": 5,
           "y": [
            0,
            1,
            2
           ],
           "ygap": 5,
           "z": [
            [
             5,
             4,
             7
            ],
            [
             0,
             6,
             8
            ],
            [
             1,
             2,
             3
            ]
           ]
          }
         ],
         "layout": {
          "annotations": [
           {
            "font": {
             "color": "green",
             "size": 80
            },
            "showarrow": false,
            "text": "5",
            "x": 0,
            "xref": "x",
            "y": 0,
            "yref": "y"
           },
           {
            "font": {
             "color": "green",
             "size": 80
            },
            "showarrow": false,
            "text": "4",
            "x": 1,
            "xref": "x",
            "y": 0,
            "yref": "y"
           },
           {
            "font": {
             "color": "green",
             "size": 80
            },
            "showarrow": false,
            "text": "7",
            "x": 2,
            "xref": "x",
            "y": 0,
            "yref": "y"
           },
           {
            "font": {
             "color": "green",
             "size": 80
            },
            "showarrow": false,
            "text": "",
            "x": 0,
            "xref": "x",
            "y": 1,
            "yref": "y"
           },
           {
            "font": {
             "color": "green",
             "size": 80
            },
            "showarrow": false,
            "text": "6",
            "x": 1,
            "xref": "x",
            "y": 1,
            "yref": "y"
           },
           {
            "font": {
             "color": "green",
             "size": 80
            },
            "showarrow": false,
            "text": "8",
            "x": 2,
            "xref": "x",
            "y": 1,
            "yref": "y"
           },
           {
            "font": {
             "color": "green",
             "size": 80
            },
            "showarrow": false,
            "text": "1",
            "x": 0,
            "xref": "x",
            "y": 2,
            "yref": "y"
           },
           {
            "font": {
             "color": "green",
             "size": 80
            },
            "showarrow": false,
            "text": "2",
            "x": 1,
            "xref": "x",
            "y": 2,
            "yref": "y"
           },
           {
            "font": {
             "color": "green",
             "size": 80
            },
            "showarrow": false,
            "text": "3",
            "x": 2,
            "xref": "x",
            "y": 2,
            "yref": "y"
           }
          ],
          "height": 700,
          "width": 600,
          "xaxis": {
           "showticklabels": false
          },
          "yaxis": {
           "showticklabels": false
          }
         },
         "name": "17"
        },
        {
         "data": [
          {
           "colorscale": [
            [
             0,
             "#000004"
            ],
            [
             0.1111111111111111,
             "#180f3d"
            ],
            [
             0.2222222222222222,
             "#440f76"
            ],
            [
             0.3333333333333333,
             "#721f81"
            ],
            [
             0.4444444444444444,
             "#9e2f7f"
            ],
            [
             0.5555555555555556,
             "#cd4071"
            ],
            [
             0.6666666666666666,
             "#f1605d"
            ],
            [
             0.7777777777777778,
             "#fd9668"
            ],
            [
             0.8888888888888888,
             "#feca8d"
            ],
            [
             1,
             "#fcfdbf"
            ]
           ],
           "showscale": false,
           "type": "heatmap",
           "x": [
            0,
            1,
            2
           ],
           "xgap": 5,
           "y": [
            0,
            1,
            2
           ],
           "ygap": 5,
           "z": [
            [
             0,
             4,
             7
            ],
            [
             5,
             6,
             8
            ],
            [
             1,
             2,
             3
            ]
           ]
          }
         ],
         "layout": {
          "annotations": [
           {
            "font": {
             "color": "green",
             "size": 80
            },
            "showarrow": false,
            "text": "",
            "x": 0,
            "xref": "x",
            "y": 0,
            "yref": "y"
           },
           {
            "font": {
             "color": "green",
             "size": 80
            },
            "showarrow": false,
            "text": "4",
            "x": 1,
            "xref": "x",
            "y": 0,
            "yref": "y"
           },
           {
            "font": {
             "color": "green",
             "size": 80
            },
            "showarrow": false,
            "text": "7",
            "x": 2,
            "xref": "x",
            "y": 0,
            "yref": "y"
           },
           {
            "font": {
             "color": "green",
             "size": 80
            },
            "showarrow": false,
            "text": "5",
            "x": 0,
            "xref": "x",
            "y": 1,
            "yref": "y"
           },
           {
            "font": {
             "color": "green",
             "size": 80
            },
            "showarrow": false,
            "text": "6",
            "x": 1,
            "xref": "x",
            "y": 1,
            "yref": "y"
           },
           {
            "font": {
             "color": "green",
             "size": 80
            },
            "showarrow": false,
            "text": "8",
            "x": 2,
            "xref": "x",
            "y": 1,
            "yref": "y"
           },
           {
            "font": {
             "color": "green",
             "size": 80
            },
            "showarrow": false,
            "text": "1",
            "x": 0,
            "xref": "x",
            "y": 2,
            "yref": "y"
           },
           {
            "font": {
             "color": "green",
             "size": 80
            },
            "showarrow": false,
            "text": "2",
            "x": 1,
            "xref": "x",
            "y": 2,
            "yref": "y"
           },
           {
            "font": {
             "color": "green",
             "size": 80
            },
            "showarrow": false,
            "text": "3",
            "x": 2,
            "xref": "x",
            "y": 2,
            "yref": "y"
           }
          ],
          "height": 700,
          "width": 600,
          "xaxis": {
           "showticklabels": false
          },
          "yaxis": {
           "showticklabels": false
          }
         },
         "name": "18"
        },
        {
         "data": [
          {
           "colorscale": [
            [
             0,
             "#000004"
            ],
            [
             0.1111111111111111,
             "#180f3d"
            ],
            [
             0.2222222222222222,
             "#440f76"
            ],
            [
             0.3333333333333333,
             "#721f81"
            ],
            [
             0.4444444444444444,
             "#9e2f7f"
            ],
            [
             0.5555555555555556,
             "#cd4071"
            ],
            [
             0.6666666666666666,
             "#f1605d"
            ],
            [
             0.7777777777777778,
             "#fd9668"
            ],
            [
             0.8888888888888888,
             "#feca8d"
            ],
            [
             1,
             "#fcfdbf"
            ]
           ],
           "showscale": false,
           "type": "heatmap",
           "x": [
            0,
            1,
            2
           ],
           "xgap": 5,
           "y": [
            0,
            1,
            2
           ],
           "ygap": 5,
           "z": [
            [
             4,
             0,
             7
            ],
            [
             5,
             6,
             8
            ],
            [
             1,
             2,
             3
            ]
           ]
          }
         ],
         "layout": {
          "annotations": [
           {
            "font": {
             "color": "green",
             "size": 80
            },
            "showarrow": false,
            "text": "4",
            "x": 0,
            "xref": "x",
            "y": 0,
            "yref": "y"
           },
           {
            "font": {
             "color": "green",
             "size": 80
            },
            "showarrow": false,
            "text": "",
            "x": 1,
            "xref": "x",
            "y": 0,
            "yref": "y"
           },
           {
            "font": {
             "color": "green",
             "size": 80
            },
            "showarrow": false,
            "text": "7",
            "x": 2,
            "xref": "x",
            "y": 0,
            "yref": "y"
           },
           {
            "font": {
             "color": "green",
             "size": 80
            },
            "showarrow": false,
            "text": "5",
            "x": 0,
            "xref": "x",
            "y": 1,
            "yref": "y"
           },
           {
            "font": {
             "color": "green",
             "size": 80
            },
            "showarrow": false,
            "text": "6",
            "x": 1,
            "xref": "x",
            "y": 1,
            "yref": "y"
           },
           {
            "font": {
             "color": "green",
             "size": 80
            },
            "showarrow": false,
            "text": "8",
            "x": 2,
            "xref": "x",
            "y": 1,
            "yref": "y"
           },
           {
            "font": {
             "color": "green",
             "size": 80
            },
            "showarrow": false,
            "text": "1",
            "x": 0,
            "xref": "x",
            "y": 2,
            "yref": "y"
           },
           {
            "font": {
             "color": "green",
             "size": 80
            },
            "showarrow": false,
            "text": "2",
            "x": 1,
            "xref": "x",
            "y": 2,
            "yref": "y"
           },
           {
            "font": {
             "color": "green",
             "size": 80
            },
            "showarrow": false,
            "text": "3",
            "x": 2,
            "xref": "x",
            "y": 2,
            "yref": "y"
           }
          ],
          "height": 700,
          "width": 600,
          "xaxis": {
           "showticklabels": false
          },
          "yaxis": {
           "showticklabels": false
          }
         },
         "name": "19"
        },
        {
         "data": [
          {
           "colorscale": [
            [
             0,
             "#000004"
            ],
            [
             0.1111111111111111,
             "#180f3d"
            ],
            [
             0.2222222222222222,
             "#440f76"
            ],
            [
             0.3333333333333333,
             "#721f81"
            ],
            [
             0.4444444444444444,
             "#9e2f7f"
            ],
            [
             0.5555555555555556,
             "#cd4071"
            ],
            [
             0.6666666666666666,
             "#f1605d"
            ],
            [
             0.7777777777777778,
             "#fd9668"
            ],
            [
             0.8888888888888888,
             "#feca8d"
            ],
            [
             1,
             "#fcfdbf"
            ]
           ],
           "showscale": false,
           "type": "heatmap",
           "x": [
            0,
            1,
            2
           ],
           "xgap": 5,
           "y": [
            0,
            1,
            2
           ],
           "ygap": 5,
           "z": [
            [
             4,
             7,
             0
            ],
            [
             5,
             6,
             8
            ],
            [
             1,
             2,
             3
            ]
           ]
          }
         ],
         "layout": {
          "annotations": [
           {
            "font": {
             "color": "green",
             "size": 80
            },
            "showarrow": false,
            "text": "4",
            "x": 0,
            "xref": "x",
            "y": 0,
            "yref": "y"
           },
           {
            "font": {
             "color": "green",
             "size": 80
            },
            "showarrow": false,
            "text": "7",
            "x": 1,
            "xref": "x",
            "y": 0,
            "yref": "y"
           },
           {
            "font": {
             "color": "green",
             "size": 80
            },
            "showarrow": false,
            "text": "",
            "x": 2,
            "xref": "x",
            "y": 0,
            "yref": "y"
           },
           {
            "font": {
             "color": "green",
             "size": 80
            },
            "showarrow": false,
            "text": "5",
            "x": 0,
            "xref": "x",
            "y": 1,
            "yref": "y"
           },
           {
            "font": {
             "color": "green",
             "size": 80
            },
            "showarrow": false,
            "text": "6",
            "x": 1,
            "xref": "x",
            "y": 1,
            "yref": "y"
           },
           {
            "font": {
             "color": "green",
             "size": 80
            },
            "showarrow": false,
            "text": "8",
            "x": 2,
            "xref": "x",
            "y": 1,
            "yref": "y"
           },
           {
            "font": {
             "color": "green",
             "size": 80
            },
            "showarrow": false,
            "text": "1",
            "x": 0,
            "xref": "x",
            "y": 2,
            "yref": "y"
           },
           {
            "font": {
             "color": "green",
             "size": 80
            },
            "showarrow": false,
            "text": "2",
            "x": 1,
            "xref": "x",
            "y": 2,
            "yref": "y"
           },
           {
            "font": {
             "color": "green",
             "size": 80
            },
            "showarrow": false,
            "text": "3",
            "x": 2,
            "xref": "x",
            "y": 2,
            "yref": "y"
           }
          ],
          "height": 700,
          "width": 600,
          "xaxis": {
           "showticklabels": false
          },
          "yaxis": {
           "showticklabels": false
          }
         },
         "name": "20"
        },
        {
         "data": [
          {
           "colorscale": [
            [
             0,
             "#000004"
            ],
            [
             0.1111111111111111,
             "#180f3d"
            ],
            [
             0.2222222222222222,
             "#440f76"
            ],
            [
             0.3333333333333333,
             "#721f81"
            ],
            [
             0.4444444444444444,
             "#9e2f7f"
            ],
            [
             0.5555555555555556,
             "#cd4071"
            ],
            [
             0.6666666666666666,
             "#f1605d"
            ],
            [
             0.7777777777777778,
             "#fd9668"
            ],
            [
             0.8888888888888888,
             "#feca8d"
            ],
            [
             1,
             "#fcfdbf"
            ]
           ],
           "showscale": false,
           "type": "heatmap",
           "x": [
            0,
            1,
            2
           ],
           "xgap": 5,
           "y": [
            0,
            1,
            2
           ],
           "ygap": 5,
           "z": [
            [
             4,
             7,
             8
            ],
            [
             5,
             6,
             0
            ],
            [
             1,
             2,
             3
            ]
           ]
          }
         ],
         "layout": {
          "annotations": [
           {
            "font": {
             "color": "green",
             "size": 80
            },
            "showarrow": false,
            "text": "4",
            "x": 0,
            "xref": "x",
            "y": 0,
            "yref": "y"
           },
           {
            "font": {
             "color": "green",
             "size": 80
            },
            "showarrow": false,
            "text": "7",
            "x": 1,
            "xref": "x",
            "y": 0,
            "yref": "y"
           },
           {
            "font": {
             "color": "green",
             "size": 80
            },
            "showarrow": false,
            "text": "8",
            "x": 2,
            "xref": "x",
            "y": 0,
            "yref": "y"
           },
           {
            "font": {
             "color": "green",
             "size": 80
            },
            "showarrow": false,
            "text": "5",
            "x": 0,
            "xref": "x",
            "y": 1,
            "yref": "y"
           },
           {
            "font": {
             "color": "green",
             "size": 80
            },
            "showarrow": false,
            "text": "6",
            "x": 1,
            "xref": "x",
            "y": 1,
            "yref": "y"
           },
           {
            "font": {
             "color": "green",
             "size": 80
            },
            "showarrow": false,
            "text": "",
            "x": 2,
            "xref": "x",
            "y": 1,
            "yref": "y"
           },
           {
            "font": {
             "color": "green",
             "size": 80
            },
            "showarrow": false,
            "text": "1",
            "x": 0,
            "xref": "x",
            "y": 2,
            "yref": "y"
           },
           {
            "font": {
             "color": "green",
             "size": 80
            },
            "showarrow": false,
            "text": "2",
            "x": 1,
            "xref": "x",
            "y": 2,
            "yref": "y"
           },
           {
            "font": {
             "color": "green",
             "size": 80
            },
            "showarrow": false,
            "text": "3",
            "x": 2,
            "xref": "x",
            "y": 2,
            "yref": "y"
           }
          ],
          "height": 700,
          "width": 600,
          "xaxis": {
           "showticklabels": false
          },
          "yaxis": {
           "showticklabels": false
          }
         },
         "name": "21"
        },
        {
         "data": [
          {
           "colorscale": [
            [
             0,
             "#000004"
            ],
            [
             0.1111111111111111,
             "#180f3d"
            ],
            [
             0.2222222222222222,
             "#440f76"
            ],
            [
             0.3333333333333333,
             "#721f81"
            ],
            [
             0.4444444444444444,
             "#9e2f7f"
            ],
            [
             0.5555555555555556,
             "#cd4071"
            ],
            [
             0.6666666666666666,
             "#f1605d"
            ],
            [
             0.7777777777777778,
             "#fd9668"
            ],
            [
             0.8888888888888888,
             "#feca8d"
            ],
            [
             1,
             "#fcfdbf"
            ]
           ],
           "showscale": false,
           "type": "heatmap",
           "x": [
            0,
            1,
            2
           ],
           "xgap": 5,
           "y": [
            0,
            1,
            2
           ],
           "ygap": 5,
           "z": [
            [
             4,
             7,
             8
            ],
            [
             5,
             0,
             6
            ],
            [
             1,
             2,
             3
            ]
           ]
          }
         ],
         "layout": {
          "annotations": [
           {
            "font": {
             "color": "green",
             "size": 80
            },
            "showarrow": false,
            "text": "4",
            "x": 0,
            "xref": "x",
            "y": 0,
            "yref": "y"
           },
           {
            "font": {
             "color": "green",
             "size": 80
            },
            "showarrow": false,
            "text": "7",
            "x": 1,
            "xref": "x",
            "y": 0,
            "yref": "y"
           },
           {
            "font": {
             "color": "green",
             "size": 80
            },
            "showarrow": false,
            "text": "8",
            "x": 2,
            "xref": "x",
            "y": 0,
            "yref": "y"
           },
           {
            "font": {
             "color": "green",
             "size": 80
            },
            "showarrow": false,
            "text": "5",
            "x": 0,
            "xref": "x",
            "y": 1,
            "yref": "y"
           },
           {
            "font": {
             "color": "green",
             "size": 80
            },
            "showarrow": false,
            "text": "",
            "x": 1,
            "xref": "x",
            "y": 1,
            "yref": "y"
           },
           {
            "font": {
             "color": "green",
             "size": 80
            },
            "showarrow": false,
            "text": "6",
            "x": 2,
            "xref": "x",
            "y": 1,
            "yref": "y"
           },
           {
            "font": {
             "color": "green",
             "size": 80
            },
            "showarrow": false,
            "text": "1",
            "x": 0,
            "xref": "x",
            "y": 2,
            "yref": "y"
           },
           {
            "font": {
             "color": "green",
             "size": 80
            },
            "showarrow": false,
            "text": "2",
            "x": 1,
            "xref": "x",
            "y": 2,
            "yref": "y"
           },
           {
            "font": {
             "color": "green",
             "size": 80
            },
            "showarrow": false,
            "text": "3",
            "x": 2,
            "xref": "x",
            "y": 2,
            "yref": "y"
           }
          ],
          "height": 700,
          "width": 600,
          "xaxis": {
           "showticklabels": false
          },
          "yaxis": {
           "showticklabels": false
          }
         },
         "name": "22"
        },
        {
         "data": [
          {
           "colorscale": [
            [
             0,
             "#000004"
            ],
            [
             0.1111111111111111,
             "#180f3d"
            ],
            [
             0.2222222222222222,
             "#440f76"
            ],
            [
             0.3333333333333333,
             "#721f81"
            ],
            [
             0.4444444444444444,
             "#9e2f7f"
            ],
            [
             0.5555555555555556,
             "#cd4071"
            ],
            [
             0.6666666666666666,
             "#f1605d"
            ],
            [
             0.7777777777777778,
             "#fd9668"
            ],
            [
             0.8888888888888888,
             "#feca8d"
            ],
            [
             1,
             "#fcfdbf"
            ]
           ],
           "showscale": false,
           "type": "heatmap",
           "x": [
            0,
            1,
            2
           ],
           "xgap": 5,
           "y": [
            0,
            1,
            2
           ],
           "ygap": 5,
           "z": [
            [
             4,
             7,
             8
            ],
            [
             0,
             5,
             6
            ],
            [
             1,
             2,
             3
            ]
           ]
          }
         ],
         "layout": {
          "annotations": [
           {
            "font": {
             "color": "green",
             "size": 80
            },
            "showarrow": false,
            "text": "4",
            "x": 0,
            "xref": "x",
            "y": 0,
            "yref": "y"
           },
           {
            "font": {
             "color": "green",
             "size": 80
            },
            "showarrow": false,
            "text": "7",
            "x": 1,
            "xref": "x",
            "y": 0,
            "yref": "y"
           },
           {
            "font": {
             "color": "green",
             "size": 80
            },
            "showarrow": false,
            "text": "8",
            "x": 2,
            "xref": "x",
            "y": 0,
            "yref": "y"
           },
           {
            "font": {
             "color": "green",
             "size": 80
            },
            "showarrow": false,
            "text": "",
            "x": 0,
            "xref": "x",
            "y": 1,
            "yref": "y"
           },
           {
            "font": {
             "color": "green",
             "size": 80
            },
            "showarrow": false,
            "text": "5",
            "x": 1,
            "xref": "x",
            "y": 1,
            "yref": "y"
           },
           {
            "font": {
             "color": "green",
             "size": 80
            },
            "showarrow": false,
            "text": "6",
            "x": 2,
            "xref": "x",
            "y": 1,
            "yref": "y"
           },
           {
            "font": {
             "color": "green",
             "size": 80
            },
            "showarrow": false,
            "text": "1",
            "x": 0,
            "xref": "x",
            "y": 2,
            "yref": "y"
           },
           {
            "font": {
             "color": "green",
             "size": 80
            },
            "showarrow": false,
            "text": "2",
            "x": 1,
            "xref": "x",
            "y": 2,
            "yref": "y"
           },
           {
            "font": {
             "color": "green",
             "size": 80
            },
            "showarrow": false,
            "text": "3",
            "x": 2,
            "xref": "x",
            "y": 2,
            "yref": "y"
           }
          ],
          "height": 700,
          "width": 600,
          "xaxis": {
           "showticklabels": false
          },
          "yaxis": {
           "showticklabels": false
          }
         },
         "name": "23"
        },
        {
         "data": [
          {
           "colorscale": [
            [
             0,
             "#000004"
            ],
            [
             0.1111111111111111,
             "#180f3d"
            ],
            [
             0.2222222222222222,
             "#440f76"
            ],
            [
             0.3333333333333333,
             "#721f81"
            ],
            [
             0.4444444444444444,
             "#9e2f7f"
            ],
            [
             0.5555555555555556,
             "#cd4071"
            ],
            [
             0.6666666666666666,
             "#f1605d"
            ],
            [
             0.7777777777777778,
             "#fd9668"
            ],
            [
             0.8888888888888888,
             "#feca8d"
            ],
            [
             1,
             "#fcfdbf"
            ]
           ],
           "showscale": false,
           "type": "heatmap",
           "x": [
            0,
            1,
            2
           ],
           "xgap": 5,
           "y": [
            0,
            1,
            2
           ],
           "ygap": 5,
           "z": [
            [
             0,
             7,
             8
            ],
            [
             4,
             5,
             6
            ],
            [
             1,
             2,
             3
            ]
           ]
          }
         ],
         "layout": {
          "annotations": [
           {
            "font": {
             "color": "green",
             "size": 80
            },
            "showarrow": false,
            "text": "",
            "x": 0,
            "xref": "x",
            "y": 0,
            "yref": "y"
           },
           {
            "font": {
             "color": "green",
             "size": 80
            },
            "showarrow": false,
            "text": "7",
            "x": 1,
            "xref": "x",
            "y": 0,
            "yref": "y"
           },
           {
            "font": {
             "color": "green",
             "size": 80
            },
            "showarrow": false,
            "text": "8",
            "x": 2,
            "xref": "x",
            "y": 0,
            "yref": "y"
           },
           {
            "font": {
             "color": "green",
             "size": 80
            },
            "showarrow": false,
            "text": "4",
            "x": 0,
            "xref": "x",
            "y": 1,
            "yref": "y"
           },
           {
            "font": {
             "color": "green",
             "size": 80
            },
            "showarrow": false,
            "text": "5",
            "x": 1,
            "xref": "x",
            "y": 1,
            "yref": "y"
           },
           {
            "font": {
             "color": "green",
             "size": 80
            },
            "showarrow": false,
            "text": "6",
            "x": 2,
            "xref": "x",
            "y": 1,
            "yref": "y"
           },
           {
            "font": {
             "color": "green",
             "size": 80
            },
            "showarrow": false,
            "text": "1",
            "x": 0,
            "xref": "x",
            "y": 2,
            "yref": "y"
           },
           {
            "font": {
             "color": "green",
             "size": 80
            },
            "showarrow": false,
            "text": "2",
            "x": 1,
            "xref": "x",
            "y": 2,
            "yref": "y"
           },
           {
            "font": {
             "color": "green",
             "size": 80
            },
            "showarrow": false,
            "text": "3",
            "x": 2,
            "xref": "x",
            "y": 2,
            "yref": "y"
           }
          ],
          "height": 700,
          "width": 600,
          "xaxis": {
           "showticklabels": false
          },
          "yaxis": {
           "showticklabels": false
          }
         },
         "name": "24"
        },
        {
         "data": [
          {
           "colorscale": [
            [
             0,
             "#000004"
            ],
            [
             0.1111111111111111,
             "#180f3d"
            ],
            [
             0.2222222222222222,
             "#440f76"
            ],
            [
             0.3333333333333333,
             "#721f81"
            ],
            [
             0.4444444444444444,
             "#9e2f7f"
            ],
            [
             0.5555555555555556,
             "#cd4071"
            ],
            [
             0.6666666666666666,
             "#f1605d"
            ],
            [
             0.7777777777777778,
             "#fd9668"
            ],
            [
             0.8888888888888888,
             "#feca8d"
            ],
            [
             1,
             "#fcfdbf"
            ]
           ],
           "showscale": false,
           "type": "heatmap",
           "x": [
            0,
            1,
            2
           ],
           "xgap": 5,
           "y": [
            0,
            1,
            2
           ],
           "ygap": 5,
           "z": [
            [
             7,
             0,
             8
            ],
            [
             4,
             5,
             6
            ],
            [
             1,
             2,
             3
            ]
           ]
          }
         ],
         "layout": {
          "annotations": [
           {
            "font": {
             "color": "green",
             "size": 80
            },
            "showarrow": false,
            "text": "7",
            "x": 0,
            "xref": "x",
            "y": 0,
            "yref": "y"
           },
           {
            "font": {
             "color": "green",
             "size": 80
            },
            "showarrow": false,
            "text": "",
            "x": 1,
            "xref": "x",
            "y": 0,
            "yref": "y"
           },
           {
            "font": {
             "color": "green",
             "size": 80
            },
            "showarrow": false,
            "text": "8",
            "x": 2,
            "xref": "x",
            "y": 0,
            "yref": "y"
           },
           {
            "font": {
             "color": "green",
             "size": 80
            },
            "showarrow": false,
            "text": "4",
            "x": 0,
            "xref": "x",
            "y": 1,
            "yref": "y"
           },
           {
            "font": {
             "color": "green",
             "size": 80
            },
            "showarrow": false,
            "text": "5",
            "x": 1,
            "xref": "x",
            "y": 1,
            "yref": "y"
           },
           {
            "font": {
             "color": "green",
             "size": 80
            },
            "showarrow": false,
            "text": "6",
            "x": 2,
            "xref": "x",
            "y": 1,
            "yref": "y"
           },
           {
            "font": {
             "color": "green",
             "size": 80
            },
            "showarrow": false,
            "text": "1",
            "x": 0,
            "xref": "x",
            "y": 2,
            "yref": "y"
           },
           {
            "font": {
             "color": "green",
             "size": 80
            },
            "showarrow": false,
            "text": "2",
            "x": 1,
            "xref": "x",
            "y": 2,
            "yref": "y"
           },
           {
            "font": {
             "color": "green",
             "size": 80
            },
            "showarrow": false,
            "text": "3",
            "x": 2,
            "xref": "x",
            "y": 2,
            "yref": "y"
           }
          ],
          "height": 700,
          "width": 600,
          "xaxis": {
           "showticklabels": false
          },
          "yaxis": {
           "showticklabels": false
          }
         },
         "name": "25"
        },
        {
         "data": [
          {
           "colorscale": [
            [
             0,
             "#000004"
            ],
            [
             0.1111111111111111,
             "#180f3d"
            ],
            [
             0.2222222222222222,
             "#440f76"
            ],
            [
             0.3333333333333333,
             "#721f81"
            ],
            [
             0.4444444444444444,
             "#9e2f7f"
            ],
            [
             0.5555555555555556,
             "#cd4071"
            ],
            [
             0.6666666666666666,
             "#f1605d"
            ],
            [
             0.7777777777777778,
             "#fd9668"
            ],
            [
             0.8888888888888888,
             "#feca8d"
            ],
            [
             1,
             "#fcfdbf"
            ]
           ],
           "showscale": false,
           "type": "heatmap",
           "x": [
            0,
            1,
            2
           ],
           "xgap": 5,
           "y": [
            0,
            1,
            2
           ],
           "ygap": 5,
           "z": [
            [
             7,
             8,
             0
            ],
            [
             4,
             5,
             6
            ],
            [
             1,
             2,
             3
            ]
           ]
          }
         ],
         "layout": {
          "annotations": [
           {
            "font": {
             "color": "green",
             "size": 80
            },
            "showarrow": false,
            "text": "7",
            "x": 0,
            "xref": "x",
            "y": 0,
            "yref": "y"
           },
           {
            "font": {
             "color": "green",
             "size": 80
            },
            "showarrow": false,
            "text": "8",
            "x": 1,
            "xref": "x",
            "y": 0,
            "yref": "y"
           },
           {
            "font": {
             "color": "green",
             "size": 80
            },
            "showarrow": false,
            "text": "",
            "x": 2,
            "xref": "x",
            "y": 0,
            "yref": "y"
           },
           {
            "font": {
             "color": "green",
             "size": 80
            },
            "showarrow": false,
            "text": "4",
            "x": 0,
            "xref": "x",
            "y": 1,
            "yref": "y"
           },
           {
            "font": {
             "color": "green",
             "size": 80
            },
            "showarrow": false,
            "text": "5",
            "x": 1,
            "xref": "x",
            "y": 1,
            "yref": "y"
           },
           {
            "font": {
             "color": "green",
             "size": 80
            },
            "showarrow": false,
            "text": "6",
            "x": 2,
            "xref": "x",
            "y": 1,
            "yref": "y"
           },
           {
            "font": {
             "color": "green",
             "size": 80
            },
            "showarrow": false,
            "text": "1",
            "x": 0,
            "xref": "x",
            "y": 2,
            "yref": "y"
           },
           {
            "font": {
             "color": "green",
             "size": 80
            },
            "showarrow": false,
            "text": "2",
            "x": 1,
            "xref": "x",
            "y": 2,
            "yref": "y"
           },
           {
            "font": {
             "color": "green",
             "size": 80
            },
            "showarrow": false,
            "text": "3",
            "x": 2,
            "xref": "x",
            "y": 2,
            "yref": "y"
           }
          ],
          "height": 700,
          "width": 600,
          "xaxis": {
           "showticklabels": false
          },
          "yaxis": {
           "showticklabels": false
          }
         },
         "name": "26"
        }
       ],
       "layout": {
        "annotations": [
         {
          "font": {
           "color": "green",
           "size": 80
          },
          "showarrow": false,
          "text": "6",
          "x": 0,
          "xref": "x",
          "y": 0,
          "yref": "y"
         },
         {
          "font": {
           "color": "green",
           "size": 80
          },
          "showarrow": false,
          "text": "5",
          "x": 1,
          "xref": "x",
          "y": 0,
          "yref": "y"
         },
         {
          "font": {
           "color": "green",
           "size": 80
          },
          "showarrow": false,
          "text": "7",
          "x": 2,
          "xref": "x",
          "y": 0,
          "yref": "y"
         },
         {
          "font": {
           "color": "green",
           "size": 80
          },
          "showarrow": false,
          "text": "3",
          "x": 0,
          "xref": "x",
          "y": 1,
          "yref": "y"
         },
         {
          "font": {
           "color": "green",
           "size": 80
          },
          "showarrow": false,
          "text": "",
          "x": 1,
          "xref": "x",
          "y": 1,
          "yref": "y"
         },
         {
          "font": {
           "color": "green",
           "size": 80
          },
          "showarrow": false,
          "text": "2",
          "x": 2,
          "xref": "x",
          "y": 1,
          "yref": "y"
         },
         {
          "font": {
           "color": "green",
           "size": 80
          },
          "showarrow": false,
          "text": "1",
          "x": 0,
          "xref": "x",
          "y": 2,
          "yref": "y"
         },
         {
          "font": {
           "color": "green",
           "size": 80
          },
          "showarrow": false,
          "text": "8",
          "x": 1,
          "xref": "x",
          "y": 2,
          "yref": "y"
         },
         {
          "font": {
           "color": "green",
           "size": 80
          },
          "showarrow": false,
          "text": "4",
          "x": 2,
          "xref": "x",
          "y": 2,
          "yref": "y"
         }
        ],
        "height": 700,
        "sliders": [
         {
          "active": 0,
          "currentvalue": {
           "font": {
            "size": 20
           },
           "prefix": "Step:",
           "visible": true,
           "xanchor": "right"
          },
          "len": 0.9,
          "pad": {
           "b": 10,
           "t": 50
          },
          "steps": [
           {
            "args": [
             [
              0
             ],
             {
              "frame": {
               "duration": 300,
               "redraw": true
              },
              "mode": "immediate",
              "transition": {
               "duration": 300
              }
             }
            ],
            "label": "0",
            "method": "animate"
           },
           {
            "args": [
             [
              1
             ],
             {
              "frame": {
               "duration": 300,
               "redraw": true
              },
              "mode": "immediate",
              "transition": {
               "duration": 300
              }
             }
            ],
            "label": "1",
            "method": "animate"
           },
           {
            "args": [
             [
              2
             ],
             {
              "frame": {
               "duration": 300,
               "redraw": true
              },
              "mode": "immediate",
              "transition": {
               "duration": 300
              }
             }
            ],
            "label": "2",
            "method": "animate"
           },
           {
            "args": [
             [
              3
             ],
             {
              "frame": {
               "duration": 300,
               "redraw": true
              },
              "mode": "immediate",
              "transition": {
               "duration": 300
              }
             }
            ],
            "label": "3",
            "method": "animate"
           },
           {
            "args": [
             [
              4
             ],
             {
              "frame": {
               "duration": 300,
               "redraw": true
              },
              "mode": "immediate",
              "transition": {
               "duration": 300
              }
             }
            ],
            "label": "4",
            "method": "animate"
           },
           {
            "args": [
             [
              5
             ],
             {
              "frame": {
               "duration": 300,
               "redraw": true
              },
              "mode": "immediate",
              "transition": {
               "duration": 300
              }
             }
            ],
            "label": "5",
            "method": "animate"
           },
           {
            "args": [
             [
              6
             ],
             {
              "frame": {
               "duration": 300,
               "redraw": true
              },
              "mode": "immediate",
              "transition": {
               "duration": 300
              }
             }
            ],
            "label": "6",
            "method": "animate"
           },
           {
            "args": [
             [
              7
             ],
             {
              "frame": {
               "duration": 300,
               "redraw": true
              },
              "mode": "immediate",
              "transition": {
               "duration": 300
              }
             }
            ],
            "label": "7",
            "method": "animate"
           },
           {
            "args": [
             [
              8
             ],
             {
              "frame": {
               "duration": 300,
               "redraw": true
              },
              "mode": "immediate",
              "transition": {
               "duration": 300
              }
             }
            ],
            "label": "8",
            "method": "animate"
           },
           {
            "args": [
             [
              9
             ],
             {
              "frame": {
               "duration": 300,
               "redraw": true
              },
              "mode": "immediate",
              "transition": {
               "duration": 300
              }
             }
            ],
            "label": "9",
            "method": "animate"
           },
           {
            "args": [
             [
              10
             ],
             {
              "frame": {
               "duration": 300,
               "redraw": true
              },
              "mode": "immediate",
              "transition": {
               "duration": 300
              }
             }
            ],
            "label": "10",
            "method": "animate"
           },
           {
            "args": [
             [
              11
             ],
             {
              "frame": {
               "duration": 300,
               "redraw": true
              },
              "mode": "immediate",
              "transition": {
               "duration": 300
              }
             }
            ],
            "label": "11",
            "method": "animate"
           },
           {
            "args": [
             [
              12
             ],
             {
              "frame": {
               "duration": 300,
               "redraw": true
              },
              "mode": "immediate",
              "transition": {
               "duration": 300
              }
             }
            ],
            "label": "12",
            "method": "animate"
           },
           {
            "args": [
             [
              13
             ],
             {
              "frame": {
               "duration": 300,
               "redraw": true
              },
              "mode": "immediate",
              "transition": {
               "duration": 300
              }
             }
            ],
            "label": "13",
            "method": "animate"
           },
           {
            "args": [
             [
              14
             ],
             {
              "frame": {
               "duration": 300,
               "redraw": true
              },
              "mode": "immediate",
              "transition": {
               "duration": 300
              }
             }
            ],
            "label": "14",
            "method": "animate"
           },
           {
            "args": [
             [
              15
             ],
             {
              "frame": {
               "duration": 300,
               "redraw": true
              },
              "mode": "immediate",
              "transition": {
               "duration": 300
              }
             }
            ],
            "label": "15",
            "method": "animate"
           },
           {
            "args": [
             [
              16
             ],
             {
              "frame": {
               "duration": 300,
               "redraw": true
              },
              "mode": "immediate",
              "transition": {
               "duration": 300
              }
             }
            ],
            "label": "16",
            "method": "animate"
           },
           {
            "args": [
             [
              17
             ],
             {
              "frame": {
               "duration": 300,
               "redraw": true
              },
              "mode": "immediate",
              "transition": {
               "duration": 300
              }
             }
            ],
            "label": "17",
            "method": "animate"
           },
           {
            "args": [
             [
              18
             ],
             {
              "frame": {
               "duration": 300,
               "redraw": true
              },
              "mode": "immediate",
              "transition": {
               "duration": 300
              }
             }
            ],
            "label": "18",
            "method": "animate"
           },
           {
            "args": [
             [
              19
             ],
             {
              "frame": {
               "duration": 300,
               "redraw": true
              },
              "mode": "immediate",
              "transition": {
               "duration": 300
              }
             }
            ],
            "label": "19",
            "method": "animate"
           },
           {
            "args": [
             [
              20
             ],
             {
              "frame": {
               "duration": 300,
               "redraw": true
              },
              "mode": "immediate",
              "transition": {
               "duration": 300
              }
             }
            ],
            "label": "20",
            "method": "animate"
           },
           {
            "args": [
             [
              21
             ],
             {
              "frame": {
               "duration": 300,
               "redraw": true
              },
              "mode": "immediate",
              "transition": {
               "duration": 300
              }
             }
            ],
            "label": "21",
            "method": "animate"
           },
           {
            "args": [
             [
              22
             ],
             {
              "frame": {
               "duration": 300,
               "redraw": true
              },
              "mode": "immediate",
              "transition": {
               "duration": 300
              }
             }
            ],
            "label": "22",
            "method": "animate"
           },
           {
            "args": [
             [
              23
             ],
             {
              "frame": {
               "duration": 300,
               "redraw": true
              },
              "mode": "immediate",
              "transition": {
               "duration": 300
              }
             }
            ],
            "label": "23",
            "method": "animate"
           },
           {
            "args": [
             [
              24
             ],
             {
              "frame": {
               "duration": 300,
               "redraw": true
              },
              "mode": "immediate",
              "transition": {
               "duration": 300
              }
             }
            ],
            "label": "24",
            "method": "animate"
           },
           {
            "args": [
             [
              25
             ],
             {
              "frame": {
               "duration": 300,
               "redraw": true
              },
              "mode": "immediate",
              "transition": {
               "duration": 300
              }
             }
            ],
            "label": "25",
            "method": "animate"
           },
           {
            "args": [
             [
              26
             ],
             {
              "frame": {
               "duration": 300,
               "redraw": true
              },
              "mode": "immediate",
              "transition": {
               "duration": 300
              }
             }
            ],
            "label": "26",
            "method": "animate"
           }
          ],
          "transition": {
           "duration": 300,
           "easing": "cubic-in-out"
          },
          "x": 0.1,
          "xanchor": "left",
          "y": 0,
          "yanchor": "top"
         }
        ],
        "template": {
         "data": {
          "bar": [
           {
            "error_x": {
             "color": "#2a3f5f"
            },
            "error_y": {
             "color": "#2a3f5f"
            },
            "marker": {
             "line": {
              "color": "#E5ECF6",
              "width": 0.5
             }
            },
            "type": "bar"
           }
          ],
          "barpolar": [
           {
            "marker": {
             "line": {
              "color": "#E5ECF6",
              "width": 0.5
             }
            },
            "type": "barpolar"
           }
          ],
          "carpet": [
           {
            "aaxis": {
             "endlinecolor": "#2a3f5f",
             "gridcolor": "white",
             "linecolor": "white",
             "minorgridcolor": "white",
             "startlinecolor": "#2a3f5f"
            },
            "baxis": {
             "endlinecolor": "#2a3f5f",
             "gridcolor": "white",
             "linecolor": "white",
             "minorgridcolor": "white",
             "startlinecolor": "#2a3f5f"
            },
            "type": "carpet"
           }
          ],
          "choropleth": [
           {
            "colorbar": {
             "outlinewidth": 0,
             "ticks": ""
            },
            "type": "choropleth"
           }
          ],
          "contour": [
           {
            "colorbar": {
             "outlinewidth": 0,
             "ticks": ""
            },
            "colorscale": [
             [
              0,
              "#0d0887"
             ],
             [
              0.1111111111111111,
              "#46039f"
             ],
             [
              0.2222222222222222,
              "#7201a8"
             ],
             [
              0.3333333333333333,
              "#9c179e"
             ],
             [
              0.4444444444444444,
              "#bd3786"
             ],
             [
              0.5555555555555556,
              "#d8576b"
             ],
             [
              0.6666666666666666,
              "#ed7953"
             ],
             [
              0.7777777777777778,
              "#fb9f3a"
             ],
             [
              0.8888888888888888,
              "#fdca26"
             ],
             [
              1,
              "#f0f921"
             ]
            ],
            "type": "contour"
           }
          ],
          "contourcarpet": [
           {
            "colorbar": {
             "outlinewidth": 0,
             "ticks": ""
            },
            "type": "contourcarpet"
           }
          ],
          "heatmap": [
           {
            "colorbar": {
             "outlinewidth": 0,
             "ticks": ""
            },
            "colorscale": [
             [
              0,
              "#0d0887"
             ],
             [
              0.1111111111111111,
              "#46039f"
             ],
             [
              0.2222222222222222,
              "#7201a8"
             ],
             [
              0.3333333333333333,
              "#9c179e"
             ],
             [
              0.4444444444444444,
              "#bd3786"
             ],
             [
              0.5555555555555556,
              "#d8576b"
             ],
             [
              0.6666666666666666,
              "#ed7953"
             ],
             [
              0.7777777777777778,
              "#fb9f3a"
             ],
             [
              0.8888888888888888,
              "#fdca26"
             ],
             [
              1,
              "#f0f921"
             ]
            ],
            "type": "heatmap"
           }
          ],
          "heatmapgl": [
           {
            "colorbar": {
             "outlinewidth": 0,
             "ticks": ""
            },
            "colorscale": [
             [
              0,
              "#0d0887"
             ],
             [
              0.1111111111111111,
              "#46039f"
             ],
             [
              0.2222222222222222,
              "#7201a8"
             ],
             [
              0.3333333333333333,
              "#9c179e"
             ],
             [
              0.4444444444444444,
              "#bd3786"
             ],
             [
              0.5555555555555556,
              "#d8576b"
             ],
             [
              0.6666666666666666,
              "#ed7953"
             ],
             [
              0.7777777777777778,
              "#fb9f3a"
             ],
             [
              0.8888888888888888,
              "#fdca26"
             ],
             [
              1,
              "#f0f921"
             ]
            ],
            "type": "heatmapgl"
           }
          ],
          "histogram": [
           {
            "marker": {
             "colorbar": {
              "outlinewidth": 0,
              "ticks": ""
             }
            },
            "type": "histogram"
           }
          ],
          "histogram2d": [
           {
            "colorbar": {
             "outlinewidth": 0,
             "ticks": ""
            },
            "colorscale": [
             [
              0,
              "#0d0887"
             ],
             [
              0.1111111111111111,
              "#46039f"
             ],
             [
              0.2222222222222222,
              "#7201a8"
             ],
             [
              0.3333333333333333,
              "#9c179e"
             ],
             [
              0.4444444444444444,
              "#bd3786"
             ],
             [
              0.5555555555555556,
              "#d8576b"
             ],
             [
              0.6666666666666666,
              "#ed7953"
             ],
             [
              0.7777777777777778,
              "#fb9f3a"
             ],
             [
              0.8888888888888888,
              "#fdca26"
             ],
             [
              1,
              "#f0f921"
             ]
            ],
            "type": "histogram2d"
           }
          ],
          "histogram2dcontour": [
           {
            "colorbar": {
             "outlinewidth": 0,
             "ticks": ""
            },
            "colorscale": [
             [
              0,
              "#0d0887"
             ],
             [
              0.1111111111111111,
              "#46039f"
             ],
             [
              0.2222222222222222,
              "#7201a8"
             ],
             [
              0.3333333333333333,
              "#9c179e"
             ],
             [
              0.4444444444444444,
              "#bd3786"
             ],
             [
              0.5555555555555556,
              "#d8576b"
             ],
             [
              0.6666666666666666,
              "#ed7953"
             ],
             [
              0.7777777777777778,
              "#fb9f3a"
             ],
             [
              0.8888888888888888,
              "#fdca26"
             ],
             [
              1,
              "#f0f921"
             ]
            ],
            "type": "histogram2dcontour"
           }
          ],
          "mesh3d": [
           {
            "colorbar": {
             "outlinewidth": 0,
             "ticks": ""
            },
            "type": "mesh3d"
           }
          ],
          "parcoords": [
           {
            "line": {
             "colorbar": {
              "outlinewidth": 0,
              "ticks": ""
             }
            },
            "type": "parcoords"
           }
          ],
          "pie": [
           {
            "automargin": true,
            "type": "pie"
           }
          ],
          "scatter": [
           {
            "marker": {
             "colorbar": {
              "outlinewidth": 0,
              "ticks": ""
             }
            },
            "type": "scatter"
           }
          ],
          "scatter3d": [
           {
            "line": {
             "colorbar": {
              "outlinewidth": 0,
              "ticks": ""
             }
            },
            "marker": {
             "colorbar": {
              "outlinewidth": 0,
              "ticks": ""
             }
            },
            "type": "scatter3d"
           }
          ],
          "scattercarpet": [
           {
            "marker": {
             "colorbar": {
              "outlinewidth": 0,
              "ticks": ""
             }
            },
            "type": "scattercarpet"
           }
          ],
          "scattergeo": [
           {
            "marker": {
             "colorbar": {
              "outlinewidth": 0,
              "ticks": ""
             }
            },
            "type": "scattergeo"
           }
          ],
          "scattergl": [
           {
            "marker": {
             "colorbar": {
              "outlinewidth": 0,
              "ticks": ""
             }
            },
            "type": "scattergl"
           }
          ],
          "scattermapbox": [
           {
            "marker": {
             "colorbar": {
              "outlinewidth": 0,
              "ticks": ""
             }
            },
            "type": "scattermapbox"
           }
          ],
          "scatterpolar": [
           {
            "marker": {
             "colorbar": {
              "outlinewidth": 0,
              "ticks": ""
             }
            },
            "type": "scatterpolar"
           }
          ],
          "scatterpolargl": [
           {
            "marker": {
             "colorbar": {
              "outlinewidth": 0,
              "ticks": ""
             }
            },
            "type": "scatterpolargl"
           }
          ],
          "scatterternary": [
           {
            "marker": {
             "colorbar": {
              "outlinewidth": 0,
              "ticks": ""
             }
            },
            "type": "scatterternary"
           }
          ],
          "surface": [
           {
            "colorbar": {
             "outlinewidth": 0,
             "ticks": ""
            },
            "colorscale": [
             [
              0,
              "#0d0887"
             ],
             [
              0.1111111111111111,
              "#46039f"
             ],
             [
              0.2222222222222222,
              "#7201a8"
             ],
             [
              0.3333333333333333,
              "#9c179e"
             ],
             [
              0.4444444444444444,
              "#bd3786"
             ],
             [
              0.5555555555555556,
              "#d8576b"
             ],
             [
              0.6666666666666666,
              "#ed7953"
             ],
             [
              0.7777777777777778,
              "#fb9f3a"
             ],
             [
              0.8888888888888888,
              "#fdca26"
             ],
             [
              1,
              "#f0f921"
             ]
            ],
            "type": "surface"
           }
          ],
          "table": [
           {
            "cells": {
             "fill": {
              "color": "#EBF0F8"
             },
             "line": {
              "color": "white"
             }
            },
            "header": {
             "fill": {
              "color": "#C8D4E3"
             },
             "line": {
              "color": "white"
             }
            },
            "type": "table"
           }
          ]
         },
         "layout": {
          "annotationdefaults": {
           "arrowcolor": "#2a3f5f",
           "arrowhead": 0,
           "arrowwidth": 1
          },
          "coloraxis": {
           "colorbar": {
            "outlinewidth": 0,
            "ticks": ""
           }
          },
          "colorscale": {
           "diverging": [
            [
             0,
             "#8e0152"
            ],
            [
             0.1,
             "#c51b7d"
            ],
            [
             0.2,
             "#de77ae"
            ],
            [
             0.3,
             "#f1b6da"
            ],
            [
             0.4,
             "#fde0ef"
            ],
            [
             0.5,
             "#f7f7f7"
            ],
            [
             0.6,
             "#e6f5d0"
            ],
            [
             0.7,
             "#b8e186"
            ],
            [
             0.8,
             "#7fbc41"
            ],
            [
             0.9,
             "#4d9221"
            ],
            [
             1,
             "#276419"
            ]
           ],
           "sequential": [
            [
             0,
             "#0d0887"
            ],
            [
             0.1111111111111111,
             "#46039f"
            ],
            [
             0.2222222222222222,
             "#7201a8"
            ],
            [
             0.3333333333333333,
             "#9c179e"
            ],
            [
             0.4444444444444444,
             "#bd3786"
            ],
            [
             0.5555555555555556,
             "#d8576b"
            ],
            [
             0.6666666666666666,
             "#ed7953"
            ],
            [
             0.7777777777777778,
             "#fb9f3a"
            ],
            [
             0.8888888888888888,
             "#fdca26"
            ],
            [
             1,
             "#f0f921"
            ]
           ],
           "sequentialminus": [
            [
             0,
             "#0d0887"
            ],
            [
             0.1111111111111111,
             "#46039f"
            ],
            [
             0.2222222222222222,
             "#7201a8"
            ],
            [
             0.3333333333333333,
             "#9c179e"
            ],
            [
             0.4444444444444444,
             "#bd3786"
            ],
            [
             0.5555555555555556,
             "#d8576b"
            ],
            [
             0.6666666666666666,
             "#ed7953"
            ],
            [
             0.7777777777777778,
             "#fb9f3a"
            ],
            [
             0.8888888888888888,
             "#fdca26"
            ],
            [
             1,
             "#f0f921"
            ]
           ]
          },
          "colorway": [
           "#636efa",
           "#EF553B",
           "#00cc96",
           "#ab63fa",
           "#FFA15A",
           "#19d3f3",
           "#FF6692",
           "#B6E880",
           "#FF97FF",
           "#FECB52"
          ],
          "font": {
           "color": "#2a3f5f"
          },
          "geo": {
           "bgcolor": "white",
           "lakecolor": "white",
           "landcolor": "#E5ECF6",
           "showlakes": true,
           "showland": true,
           "subunitcolor": "white"
          },
          "hoverlabel": {
           "align": "left"
          },
          "hovermode": "closest",
          "mapbox": {
           "style": "light"
          },
          "paper_bgcolor": "white",
          "plot_bgcolor": "#E5ECF6",
          "polar": {
           "angularaxis": {
            "gridcolor": "white",
            "linecolor": "white",
            "ticks": ""
           },
           "bgcolor": "#E5ECF6",
           "radialaxis": {
            "gridcolor": "white",
            "linecolor": "white",
            "ticks": ""
           }
          },
          "scene": {
           "xaxis": {
            "backgroundcolor": "#E5ECF6",
            "gridcolor": "white",
            "gridwidth": 2,
            "linecolor": "white",
            "showbackground": true,
            "ticks": "",
            "zerolinecolor": "white"
           },
           "yaxis": {
            "backgroundcolor": "#E5ECF6",
            "gridcolor": "white",
            "gridwidth": 2,
            "linecolor": "white",
            "showbackground": true,
            "ticks": "",
            "zerolinecolor": "white"
           },
           "zaxis": {
            "backgroundcolor": "#E5ECF6",
            "gridcolor": "white",
            "gridwidth": 2,
            "linecolor": "white",
            "showbackground": true,
            "ticks": "",
            "zerolinecolor": "white"
           }
          },
          "shapedefaults": {
           "line": {
            "color": "#2a3f5f"
           }
          },
          "ternary": {
           "aaxis": {
            "gridcolor": "white",
            "linecolor": "white",
            "ticks": ""
           },
           "baxis": {
            "gridcolor": "white",
            "linecolor": "white",
            "ticks": ""
           },
           "bgcolor": "#E5ECF6",
           "caxis": {
            "gridcolor": "white",
            "linecolor": "white",
            "ticks": ""
           }
          },
          "title": {
           "x": 0.05
          },
          "xaxis": {
           "automargin": true,
           "gridcolor": "white",
           "linecolor": "white",
           "ticks": "",
           "title": {
            "standoff": 15
           },
           "zerolinecolor": "white",
           "zerolinewidth": 2
          },
          "yaxis": {
           "automargin": true,
           "gridcolor": "white",
           "linecolor": "white",
           "ticks": "",
           "title": {
            "standoff": 15
           },
           "zerolinecolor": "white",
           "zerolinewidth": 2
          }
         }
        },
        "width": 600,
        "xaxis": {
         "showticklabels": false
        },
        "yaxis": {
         "showticklabels": false
        }
       }
      },
      "text/html": [
       "<div>                            <div id=\"c6f6546a-028c-4085-9d0e-43e7c1344ef8\" class=\"plotly-graph-div\" style=\"height:700px; width:600px;\"></div>            <script type=\"text/javascript\">                require([\"plotly\"], function(Plotly) {                    window.PLOTLYENV=window.PLOTLYENV || {};                                    if (document.getElementById(\"c6f6546a-028c-4085-9d0e-43e7c1344ef8\")) {                    Plotly.newPlot(                        \"c6f6546a-028c-4085-9d0e-43e7c1344ef8\",                        [{\"colorscale\": [[0.0, \"#000004\"], [0.1111111111111111, \"#180f3d\"], [0.2222222222222222, \"#440f76\"], [0.3333333333333333, \"#721f81\"], [0.4444444444444444, \"#9e2f7f\"], [0.5555555555555556, \"#cd4071\"], [0.6666666666666666, \"#f1605d\"], [0.7777777777777778, \"#fd9668\"], [0.8888888888888888, \"#feca8d\"], [1.0, \"#fcfdbf\"]], \"showscale\": false, \"type\": \"heatmap\", \"x\": [0, 1, 2], \"xgap\": 5, \"y\": [0, 1, 2], \"ygap\": 5, \"z\": [[6, 5, 7], [3, 0, 2], [1, 8, 4]]}],                        {\"annotations\": [{\"font\": {\"color\": \"green\", \"size\": 80}, \"showarrow\": false, \"text\": \"6\", \"x\": 0, \"xref\": \"x\", \"y\": 0, \"yref\": \"y\"}, {\"font\": {\"color\": \"green\", \"size\": 80}, \"showarrow\": false, \"text\": \"5\", \"x\": 1, \"xref\": \"x\", \"y\": 0, \"yref\": \"y\"}, {\"font\": {\"color\": \"green\", \"size\": 80}, \"showarrow\": false, \"text\": \"7\", \"x\": 2, \"xref\": \"x\", \"y\": 0, \"yref\": \"y\"}, {\"font\": {\"color\": \"green\", \"size\": 80}, \"showarrow\": false, \"text\": \"3\", \"x\": 0, \"xref\": \"x\", \"y\": 1, \"yref\": \"y\"}, {\"font\": {\"color\": \"green\", \"size\": 80}, \"showarrow\": false, \"text\": \"\", \"x\": 1, \"xref\": \"x\", \"y\": 1, \"yref\": \"y\"}, {\"font\": {\"color\": \"green\", \"size\": 80}, \"showarrow\": false, \"text\": \"2\", \"x\": 2, \"xref\": \"x\", \"y\": 1, \"yref\": \"y\"}, {\"font\": {\"color\": \"green\", \"size\": 80}, \"showarrow\": false, \"text\": \"1\", \"x\": 0, \"xref\": \"x\", \"y\": 2, \"yref\": \"y\"}, {\"font\": {\"color\": \"green\", \"size\": 80}, \"showarrow\": false, \"text\": \"8\", \"x\": 1, \"xref\": \"x\", \"y\": 2, \"yref\": \"y\"}, {\"font\": {\"color\": \"green\", \"size\": 80}, \"showarrow\": false, \"text\": \"4\", \"x\": 2, \"xref\": \"x\", \"y\": 2, \"yref\": \"y\"}], \"height\": 700, \"sliders\": [{\"active\": 0, \"currentvalue\": {\"font\": {\"size\": 20}, \"prefix\": \"Step:\", \"visible\": true, \"xanchor\": \"right\"}, \"len\": 0.9, \"pad\": {\"b\": 10, \"t\": 50}, \"steps\": [{\"args\": [[0], {\"frame\": {\"duration\": 300, \"redraw\": true}, \"mode\": \"immediate\", \"transition\": {\"duration\": 300}}], \"label\": \"0\", \"method\": \"animate\"}, {\"args\": [[1], {\"frame\": {\"duration\": 300, \"redraw\": true}, \"mode\": \"immediate\", \"transition\": {\"duration\": 300}}], \"label\": \"1\", \"method\": \"animate\"}, {\"args\": [[2], {\"frame\": {\"duration\": 300, \"redraw\": true}, \"mode\": \"immediate\", \"transition\": {\"duration\": 300}}], \"label\": \"2\", \"method\": \"animate\"}, {\"args\": [[3], {\"frame\": {\"duration\": 300, \"redraw\": true}, \"mode\": \"immediate\", \"transition\": {\"duration\": 300}}], \"label\": \"3\", \"method\": \"animate\"}, {\"args\": [[4], {\"frame\": {\"duration\": 300, \"redraw\": true}, \"mode\": \"immediate\", \"transition\": {\"duration\": 300}}], \"label\": \"4\", \"method\": \"animate\"}, {\"args\": [[5], {\"frame\": {\"duration\": 300, \"redraw\": true}, \"mode\": \"immediate\", \"transition\": {\"duration\": 300}}], \"label\": \"5\", \"method\": \"animate\"}, {\"args\": [[6], {\"frame\": {\"duration\": 300, \"redraw\": true}, \"mode\": \"immediate\", \"transition\": {\"duration\": 300}}], \"label\": \"6\", \"method\": \"animate\"}, {\"args\": [[7], {\"frame\": {\"duration\": 300, \"redraw\": true}, \"mode\": \"immediate\", \"transition\": {\"duration\": 300}}], \"label\": \"7\", \"method\": \"animate\"}, {\"args\": [[8], {\"frame\": {\"duration\": 300, \"redraw\": true}, \"mode\": \"immediate\", \"transition\": {\"duration\": 300}}], \"label\": \"8\", \"method\": \"animate\"}, {\"args\": [[9], {\"frame\": {\"duration\": 300, \"redraw\": true}, \"mode\": \"immediate\", \"transition\": {\"duration\": 300}}], \"label\": \"9\", \"method\": \"animate\"}, {\"args\": [[10], {\"frame\": {\"duration\": 300, \"redraw\": true}, \"mode\": \"immediate\", \"transition\": {\"duration\": 300}}], \"label\": \"10\", \"method\": \"animate\"}, {\"args\": [[11], {\"frame\": {\"duration\": 300, \"redraw\": true}, \"mode\": \"immediate\", \"transition\": {\"duration\": 300}}], \"label\": \"11\", \"method\": \"animate\"}, {\"args\": [[12], {\"frame\": {\"duration\": 300, \"redraw\": true}, \"mode\": \"immediate\", \"transition\": {\"duration\": 300}}], \"label\": \"12\", \"method\": \"animate\"}, {\"args\": [[13], {\"frame\": {\"duration\": 300, \"redraw\": true}, \"mode\": \"immediate\", \"transition\": {\"duration\": 300}}], \"label\": \"13\", \"method\": \"animate\"}, {\"args\": [[14], {\"frame\": {\"duration\": 300, \"redraw\": true}, \"mode\": \"immediate\", \"transition\": {\"duration\": 300}}], \"label\": \"14\", \"method\": \"animate\"}, {\"args\": [[15], {\"frame\": {\"duration\": 300, \"redraw\": true}, \"mode\": \"immediate\", \"transition\": {\"duration\": 300}}], \"label\": \"15\", \"method\": \"animate\"}, {\"args\": [[16], {\"frame\": {\"duration\": 300, \"redraw\": true}, \"mode\": \"immediate\", \"transition\": {\"duration\": 300}}], \"label\": \"16\", \"method\": \"animate\"}, {\"args\": [[17], {\"frame\": {\"duration\": 300, \"redraw\": true}, \"mode\": \"immediate\", \"transition\": {\"duration\": 300}}], \"label\": \"17\", \"method\": \"animate\"}, {\"args\": [[18], {\"frame\": {\"duration\": 300, \"redraw\": true}, \"mode\": \"immediate\", \"transition\": {\"duration\": 300}}], \"label\": \"18\", \"method\": \"animate\"}, {\"args\": [[19], {\"frame\": {\"duration\": 300, \"redraw\": true}, \"mode\": \"immediate\", \"transition\": {\"duration\": 300}}], \"label\": \"19\", \"method\": \"animate\"}, {\"args\": [[20], {\"frame\": {\"duration\": 300, \"redraw\": true}, \"mode\": \"immediate\", \"transition\": {\"duration\": 300}}], \"label\": \"20\", \"method\": \"animate\"}, {\"args\": [[21], {\"frame\": {\"duration\": 300, \"redraw\": true}, \"mode\": \"immediate\", \"transition\": {\"duration\": 300}}], \"label\": \"21\", \"method\": \"animate\"}, {\"args\": [[22], {\"frame\": {\"duration\": 300, \"redraw\": true}, \"mode\": \"immediate\", \"transition\": {\"duration\": 300}}], \"label\": \"22\", \"method\": \"animate\"}, {\"args\": [[23], {\"frame\": {\"duration\": 300, \"redraw\": true}, \"mode\": \"immediate\", \"transition\": {\"duration\": 300}}], \"label\": \"23\", \"method\": \"animate\"}, {\"args\": [[24], {\"frame\": {\"duration\": 300, \"redraw\": true}, \"mode\": \"immediate\", \"transition\": {\"duration\": 300}}], \"label\": \"24\", \"method\": \"animate\"}, {\"args\": [[25], {\"frame\": {\"duration\": 300, \"redraw\": true}, \"mode\": \"immediate\", \"transition\": {\"duration\": 300}}], \"label\": \"25\", \"method\": \"animate\"}, {\"args\": [[26], {\"frame\": {\"duration\": 300, \"redraw\": true}, \"mode\": \"immediate\", \"transition\": {\"duration\": 300}}], \"label\": \"26\", \"method\": \"animate\"}], \"transition\": {\"duration\": 300, \"easing\": \"cubic-in-out\"}, \"x\": 0.1, \"xanchor\": \"left\", \"y\": 0, \"yanchor\": \"top\"}], \"template\": {\"data\": {\"bar\": [{\"error_x\": {\"color\": \"#2a3f5f\"}, \"error_y\": {\"color\": \"#2a3f5f\"}, \"marker\": {\"line\": {\"color\": \"#E5ECF6\", \"width\": 0.5}}, \"type\": \"bar\"}], \"barpolar\": [{\"marker\": {\"line\": {\"color\": \"#E5ECF6\", \"width\": 0.5}}, \"type\": \"barpolar\"}], \"carpet\": [{\"aaxis\": {\"endlinecolor\": \"#2a3f5f\", \"gridcolor\": \"white\", \"linecolor\": \"white\", \"minorgridcolor\": \"white\", \"startlinecolor\": \"#2a3f5f\"}, \"baxis\": {\"endlinecolor\": \"#2a3f5f\", \"gridcolor\": \"white\", \"linecolor\": \"white\", \"minorgridcolor\": \"white\", \"startlinecolor\": \"#2a3f5f\"}, \"type\": \"carpet\"}], \"choropleth\": [{\"colorbar\": {\"outlinewidth\": 0, \"ticks\": \"\"}, \"type\": \"choropleth\"}], \"contour\": [{\"colorbar\": {\"outlinewidth\": 0, \"ticks\": \"\"}, \"colorscale\": [[0.0, \"#0d0887\"], [0.1111111111111111, \"#46039f\"], [0.2222222222222222, \"#7201a8\"], [0.3333333333333333, \"#9c179e\"], [0.4444444444444444, \"#bd3786\"], [0.5555555555555556, \"#d8576b\"], [0.6666666666666666, \"#ed7953\"], [0.7777777777777778, \"#fb9f3a\"], [0.8888888888888888, \"#fdca26\"], [1.0, \"#f0f921\"]], \"type\": \"contour\"}], \"contourcarpet\": [{\"colorbar\": {\"outlinewidth\": 0, \"ticks\": \"\"}, \"type\": \"contourcarpet\"}], \"heatmap\": [{\"colorbar\": {\"outlinewidth\": 0, \"ticks\": \"\"}, \"colorscale\": [[0.0, \"#0d0887\"], [0.1111111111111111, \"#46039f\"], [0.2222222222222222, \"#7201a8\"], [0.3333333333333333, \"#9c179e\"], [0.4444444444444444, \"#bd3786\"], [0.5555555555555556, \"#d8576b\"], [0.6666666666666666, \"#ed7953\"], [0.7777777777777778, \"#fb9f3a\"], [0.8888888888888888, \"#fdca26\"], [1.0, \"#f0f921\"]], \"type\": \"heatmap\"}], \"heatmapgl\": [{\"colorbar\": {\"outlinewidth\": 0, \"ticks\": \"\"}, \"colorscale\": [[0.0, \"#0d0887\"], [0.1111111111111111, \"#46039f\"], [0.2222222222222222, \"#7201a8\"], [0.3333333333333333, \"#9c179e\"], [0.4444444444444444, \"#bd3786\"], [0.5555555555555556, \"#d8576b\"], [0.6666666666666666, \"#ed7953\"], [0.7777777777777778, \"#fb9f3a\"], [0.8888888888888888, \"#fdca26\"], [1.0, \"#f0f921\"]], \"type\": \"heatmapgl\"}], \"histogram\": [{\"marker\": {\"colorbar\": {\"outlinewidth\": 0, \"ticks\": \"\"}}, \"type\": \"histogram\"}], \"histogram2d\": [{\"colorbar\": {\"outlinewidth\": 0, \"ticks\": \"\"}, \"colorscale\": [[0.0, \"#0d0887\"], [0.1111111111111111, \"#46039f\"], [0.2222222222222222, \"#7201a8\"], [0.3333333333333333, \"#9c179e\"], [0.4444444444444444, \"#bd3786\"], [0.5555555555555556, \"#d8576b\"], [0.6666666666666666, \"#ed7953\"], [0.7777777777777778, \"#fb9f3a\"], [0.8888888888888888, \"#fdca26\"], [1.0, \"#f0f921\"]], \"type\": \"histogram2d\"}], \"histogram2dcontour\": [{\"colorbar\": {\"outlinewidth\": 0, \"ticks\": \"\"}, \"colorscale\": [[0.0, \"#0d0887\"], [0.1111111111111111, \"#46039f\"], [0.2222222222222222, \"#7201a8\"], [0.3333333333333333, \"#9c179e\"], [0.4444444444444444, \"#bd3786\"], [0.5555555555555556, \"#d8576b\"], [0.6666666666666666, \"#ed7953\"], [0.7777777777777778, \"#fb9f3a\"], [0.8888888888888888, \"#fdca26\"], [1.0, \"#f0f921\"]], \"type\": \"histogram2dcontour\"}], \"mesh3d\": [{\"colorbar\": {\"outlinewidth\": 0, \"ticks\": \"\"}, \"type\": \"mesh3d\"}], \"parcoords\": [{\"line\": {\"colorbar\": {\"outlinewidth\": 0, \"ticks\": \"\"}}, \"type\": \"parcoords\"}], \"pie\": [{\"automargin\": true, \"type\": \"pie\"}], \"scatter\": [{\"marker\": {\"colorbar\": {\"outlinewidth\": 0, \"ticks\": \"\"}}, \"type\": \"scatter\"}], \"scatter3d\": [{\"line\": {\"colorbar\": {\"outlinewidth\": 0, \"ticks\": \"\"}}, \"marker\": {\"colorbar\": {\"outlinewidth\": 0, \"ticks\": \"\"}}, \"type\": \"scatter3d\"}], \"scattercarpet\": [{\"marker\": {\"colorbar\": {\"outlinewidth\": 0, \"ticks\": \"\"}}, \"type\": \"scattercarpet\"}], \"scattergeo\": [{\"marker\": {\"colorbar\": {\"outlinewidth\": 0, \"ticks\": \"\"}}, \"type\": \"scattergeo\"}], \"scattergl\": [{\"marker\": {\"colorbar\": {\"outlinewidth\": 0, \"ticks\": \"\"}}, \"type\": \"scattergl\"}], \"scattermapbox\": [{\"marker\": {\"colorbar\": {\"outlinewidth\": 0, \"ticks\": \"\"}}, \"type\": \"scattermapbox\"}], \"scatterpolar\": [{\"marker\": {\"colorbar\": {\"outlinewidth\": 0, \"ticks\": \"\"}}, \"type\": \"scatterpolar\"}], \"scatterpolargl\": [{\"marker\": {\"colorbar\": {\"outlinewidth\": 0, \"ticks\": \"\"}}, \"type\": \"scatterpolargl\"}], \"scatterternary\": [{\"marker\": {\"colorbar\": {\"outlinewidth\": 0, \"ticks\": \"\"}}, \"type\": \"scatterternary\"}], \"surface\": [{\"colorbar\": {\"outlinewidth\": 0, \"ticks\": \"\"}, \"colorscale\": [[0.0, \"#0d0887\"], [0.1111111111111111, \"#46039f\"], [0.2222222222222222, \"#7201a8\"], [0.3333333333333333, \"#9c179e\"], [0.4444444444444444, \"#bd3786\"], [0.5555555555555556, \"#d8576b\"], [0.6666666666666666, \"#ed7953\"], [0.7777777777777778, \"#fb9f3a\"], [0.8888888888888888, \"#fdca26\"], [1.0, \"#f0f921\"]], \"type\": \"surface\"}], \"table\": [{\"cells\": {\"fill\": {\"color\": \"#EBF0F8\"}, \"line\": {\"color\": \"white\"}}, \"header\": {\"fill\": {\"color\": \"#C8D4E3\"}, \"line\": {\"color\": \"white\"}}, \"type\": \"table\"}]}, \"layout\": {\"annotationdefaults\": {\"arrowcolor\": \"#2a3f5f\", \"arrowhead\": 0, \"arrowwidth\": 1}, \"coloraxis\": {\"colorbar\": {\"outlinewidth\": 0, \"ticks\": \"\"}}, \"colorscale\": {\"diverging\": [[0, \"#8e0152\"], [0.1, \"#c51b7d\"], [0.2, \"#de77ae\"], [0.3, \"#f1b6da\"], [0.4, \"#fde0ef\"], [0.5, \"#f7f7f7\"], [0.6, \"#e6f5d0\"], [0.7, \"#b8e186\"], [0.8, \"#7fbc41\"], [0.9, \"#4d9221\"], [1, \"#276419\"]], \"sequential\": [[0.0, \"#0d0887\"], [0.1111111111111111, \"#46039f\"], [0.2222222222222222, \"#7201a8\"], [0.3333333333333333, \"#9c179e\"], [0.4444444444444444, \"#bd3786\"], [0.5555555555555556, \"#d8576b\"], [0.6666666666666666, \"#ed7953\"], [0.7777777777777778, \"#fb9f3a\"], [0.8888888888888888, \"#fdca26\"], [1.0, \"#f0f921\"]], \"sequentialminus\": [[0.0, \"#0d0887\"], [0.1111111111111111, \"#46039f\"], [0.2222222222222222, \"#7201a8\"], [0.3333333333333333, \"#9c179e\"], [0.4444444444444444, \"#bd3786\"], [0.5555555555555556, \"#d8576b\"], [0.6666666666666666, \"#ed7953\"], [0.7777777777777778, \"#fb9f3a\"], [0.8888888888888888, \"#fdca26\"], [1.0, \"#f0f921\"]]}, \"colorway\": [\"#636efa\", \"#EF553B\", \"#00cc96\", \"#ab63fa\", \"#FFA15A\", \"#19d3f3\", \"#FF6692\", \"#B6E880\", \"#FF97FF\", \"#FECB52\"], \"font\": {\"color\": \"#2a3f5f\"}, \"geo\": {\"bgcolor\": \"white\", \"lakecolor\": \"white\", \"landcolor\": \"#E5ECF6\", \"showlakes\": true, \"showland\": true, \"subunitcolor\": \"white\"}, \"hoverlabel\": {\"align\": \"left\"}, \"hovermode\": \"closest\", \"mapbox\": {\"style\": \"light\"}, \"paper_bgcolor\": \"white\", \"plot_bgcolor\": \"#E5ECF6\", \"polar\": {\"angularaxis\": {\"gridcolor\": \"white\", \"linecolor\": \"white\", \"ticks\": \"\"}, \"bgcolor\": \"#E5ECF6\", \"radialaxis\": {\"gridcolor\": \"white\", \"linecolor\": \"white\", \"ticks\": \"\"}}, \"scene\": {\"xaxis\": {\"backgroundcolor\": \"#E5ECF6\", \"gridcolor\": \"white\", \"gridwidth\": 2, \"linecolor\": \"white\", \"showbackground\": true, \"ticks\": \"\", \"zerolinecolor\": \"white\"}, \"yaxis\": {\"backgroundcolor\": \"#E5ECF6\", \"gridcolor\": \"white\", \"gridwidth\": 2, \"linecolor\": \"white\", \"showbackground\": true, \"ticks\": \"\", \"zerolinecolor\": \"white\"}, \"zaxis\": {\"backgroundcolor\": \"#E5ECF6\", \"gridcolor\": \"white\", \"gridwidth\": 2, \"linecolor\": \"white\", \"showbackground\": true, \"ticks\": \"\", \"zerolinecolor\": \"white\"}}, \"shapedefaults\": {\"line\": {\"color\": \"#2a3f5f\"}}, \"ternary\": {\"aaxis\": {\"gridcolor\": \"white\", \"linecolor\": \"white\", \"ticks\": \"\"}, \"baxis\": {\"gridcolor\": \"white\", \"linecolor\": \"white\", \"ticks\": \"\"}, \"bgcolor\": \"#E5ECF6\", \"caxis\": {\"gridcolor\": \"white\", \"linecolor\": \"white\", \"ticks\": \"\"}}, \"title\": {\"x\": 0.05}, \"xaxis\": {\"automargin\": true, \"gridcolor\": \"white\", \"linecolor\": \"white\", \"ticks\": \"\", \"title\": {\"standoff\": 15}, \"zerolinecolor\": \"white\", \"zerolinewidth\": 2}, \"yaxis\": {\"automargin\": true, \"gridcolor\": \"white\", \"linecolor\": \"white\", \"ticks\": \"\", \"title\": {\"standoff\": 15}, \"zerolinecolor\": \"white\", \"zerolinewidth\": 2}}}, \"width\": 600, \"xaxis\": {\"showticklabels\": false}, \"yaxis\": {\"showticklabels\": false}},                        {\"responsive\": true}                    ).then(function(){\n",
       "                            Plotly.addFrames('c6f6546a-028c-4085-9d0e-43e7c1344ef8', [{\"data\": [{\"colorscale\": [[0.0, \"#000004\"], [0.1111111111111111, \"#180f3d\"], [0.2222222222222222, \"#440f76\"], [0.3333333333333333, \"#721f81\"], [0.4444444444444444, \"#9e2f7f\"], [0.5555555555555556, \"#cd4071\"], [0.6666666666666666, \"#f1605d\"], [0.7777777777777778, \"#fd9668\"], [0.8888888888888888, \"#feca8d\"], [1.0, \"#fcfdbf\"]], \"showscale\": false, \"x\": [0, 1, 2], \"xgap\": 5, \"y\": [0, 1, 2], \"ygap\": 5, \"z\": [[6, 5, 7], [3, 0, 2], [1, 8, 4]], \"type\": \"heatmap\"}], \"layout\": {\"annotations\": [{\"font\": {\"color\": \"green\", \"size\": 80}, \"showarrow\": false, \"text\": \"6\", \"x\": 0, \"xref\": \"x\", \"y\": 0, \"yref\": \"y\"}, {\"font\": {\"color\": \"green\", \"size\": 80}, \"showarrow\": false, \"text\": \"5\", \"x\": 1, \"xref\": \"x\", \"y\": 0, \"yref\": \"y\"}, {\"font\": {\"color\": \"green\", \"size\": 80}, \"showarrow\": false, \"text\": \"7\", \"x\": 2, \"xref\": \"x\", \"y\": 0, \"yref\": \"y\"}, {\"font\": {\"color\": \"green\", \"size\": 80}, \"showarrow\": false, \"text\": \"3\", \"x\": 0, \"xref\": \"x\", \"y\": 1, \"yref\": \"y\"}, {\"font\": {\"color\": \"green\", \"size\": 80}, \"showarrow\": false, \"text\": \"\", \"x\": 1, \"xref\": \"x\", \"y\": 1, \"yref\": \"y\"}, {\"font\": {\"color\": \"green\", \"size\": 80}, \"showarrow\": false, \"text\": \"2\", \"x\": 2, \"xref\": \"x\", \"y\": 1, \"yref\": \"y\"}, {\"font\": {\"color\": \"green\", \"size\": 80}, \"showarrow\": false, \"text\": \"1\", \"x\": 0, \"xref\": \"x\", \"y\": 2, \"yref\": \"y\"}, {\"font\": {\"color\": \"green\", \"size\": 80}, \"showarrow\": false, \"text\": \"8\", \"x\": 1, \"xref\": \"x\", \"y\": 2, \"yref\": \"y\"}, {\"font\": {\"color\": \"green\", \"size\": 80}, \"showarrow\": false, \"text\": \"4\", \"x\": 2, \"xref\": \"x\", \"y\": 2, \"yref\": \"y\"}], \"height\": 700, \"width\": 600, \"xaxis\": {\"showticklabels\": false}, \"yaxis\": {\"showticklabels\": false}}, \"name\": \"0\"}, {\"data\": [{\"colorscale\": [[0.0, \"#000004\"], [0.1111111111111111, \"#180f3d\"], [0.2222222222222222, \"#440f76\"], [0.3333333333333333, \"#721f81\"], [0.4444444444444444, \"#9e2f7f\"], [0.5555555555555556, \"#cd4071\"], [0.6666666666666666, \"#f1605d\"], [0.7777777777777778, \"#fd9668\"], [0.8888888888888888, \"#feca8d\"], [1.0, \"#fcfdbf\"]], \"showscale\": false, \"x\": [0, 1, 2], \"xgap\": 5, \"y\": [0, 1, 2], \"ygap\": 5, \"z\": [[6, 5, 7], [3, 8, 2], [1, 0, 4]], \"type\": \"heatmap\"}], \"layout\": {\"annotations\": [{\"font\": {\"color\": \"green\", \"size\": 80}, \"showarrow\": false, \"text\": \"6\", \"x\": 0, \"xref\": \"x\", \"y\": 0, \"yref\": \"y\"}, {\"font\": {\"color\": \"green\", \"size\": 80}, \"showarrow\": false, \"text\": \"5\", \"x\": 1, \"xref\": \"x\", \"y\": 0, \"yref\": \"y\"}, {\"font\": {\"color\": \"green\", \"size\": 80}, \"showarrow\": false, \"text\": \"7\", \"x\": 2, \"xref\": \"x\", \"y\": 0, \"yref\": \"y\"}, {\"font\": {\"color\": \"green\", \"size\": 80}, \"showarrow\": false, \"text\": \"3\", \"x\": 0, \"xref\": \"x\", \"y\": 1, \"yref\": \"y\"}, {\"font\": {\"color\": \"green\", \"size\": 80}, \"showarrow\": false, \"text\": \"8\", \"x\": 1, \"xref\": \"x\", \"y\": 1, \"yref\": \"y\"}, {\"font\": {\"color\": \"green\", \"size\": 80}, \"showarrow\": false, \"text\": \"2\", \"x\": 2, \"xref\": \"x\", \"y\": 1, \"yref\": \"y\"}, {\"font\": {\"color\": \"green\", \"size\": 80}, \"showarrow\": false, \"text\": \"1\", \"x\": 0, \"xref\": \"x\", \"y\": 2, \"yref\": \"y\"}, {\"font\": {\"color\": \"green\", \"size\": 80}, \"showarrow\": false, \"text\": \"\", \"x\": 1, \"xref\": \"x\", \"y\": 2, \"yref\": \"y\"}, {\"font\": {\"color\": \"green\", \"size\": 80}, \"showarrow\": false, \"text\": \"4\", \"x\": 2, \"xref\": \"x\", \"y\": 2, \"yref\": \"y\"}], \"height\": 700, \"width\": 600, \"xaxis\": {\"showticklabels\": false}, \"yaxis\": {\"showticklabels\": false}}, \"name\": \"1\"}, {\"data\": [{\"colorscale\": [[0.0, \"#000004\"], [0.1111111111111111, \"#180f3d\"], [0.2222222222222222, \"#440f76\"], [0.3333333333333333, \"#721f81\"], [0.4444444444444444, \"#9e2f7f\"], [0.5555555555555556, \"#cd4071\"], [0.6666666666666666, \"#f1605d\"], [0.7777777777777778, \"#fd9668\"], [0.8888888888888888, \"#feca8d\"], [1.0, \"#fcfdbf\"]], \"showscale\": false, \"x\": [0, 1, 2], \"xgap\": 5, \"y\": [0, 1, 2], \"ygap\": 5, \"z\": [[6, 5, 7], [3, 8, 2], [1, 4, 0]], \"type\": \"heatmap\"}], \"layout\": {\"annotations\": [{\"font\": {\"color\": \"green\", \"size\": 80}, \"showarrow\": false, \"text\": \"6\", \"x\": 0, \"xref\": \"x\", \"y\": 0, \"yref\": \"y\"}, {\"font\": {\"color\": \"green\", \"size\": 80}, \"showarrow\": false, \"text\": \"5\", \"x\": 1, \"xref\": \"x\", \"y\": 0, \"yref\": \"y\"}, {\"font\": {\"color\": \"green\", \"size\": 80}, \"showarrow\": false, \"text\": \"7\", \"x\": 2, \"xref\": \"x\", \"y\": 0, \"yref\": \"y\"}, {\"font\": {\"color\": \"green\", \"size\": 80}, \"showarrow\": false, \"text\": \"3\", \"x\": 0, \"xref\": \"x\", \"y\": 1, \"yref\": \"y\"}, {\"font\": {\"color\": \"green\", \"size\": 80}, \"showarrow\": false, \"text\": \"8\", \"x\": 1, \"xref\": \"x\", \"y\": 1, \"yref\": \"y\"}, {\"font\": {\"color\": \"green\", \"size\": 80}, \"showarrow\": false, \"text\": \"2\", \"x\": 2, \"xref\": \"x\", \"y\": 1, \"yref\": \"y\"}, {\"font\": {\"color\": \"green\", \"size\": 80}, \"showarrow\": false, \"text\": \"1\", \"x\": 0, \"xref\": \"x\", \"y\": 2, \"yref\": \"y\"}, {\"font\": {\"color\": \"green\", \"size\": 80}, \"showarrow\": false, \"text\": \"4\", \"x\": 1, \"xref\": \"x\", \"y\": 2, \"yref\": \"y\"}, {\"font\": {\"color\": \"green\", \"size\": 80}, \"showarrow\": false, \"text\": \"\", \"x\": 2, \"xref\": \"x\", \"y\": 2, \"yref\": \"y\"}], \"height\": 700, \"width\": 600, \"xaxis\": {\"showticklabels\": false}, \"yaxis\": {\"showticklabels\": false}}, \"name\": \"2\"}, {\"data\": [{\"colorscale\": [[0.0, \"#000004\"], [0.1111111111111111, \"#180f3d\"], [0.2222222222222222, \"#440f76\"], [0.3333333333333333, \"#721f81\"], [0.4444444444444444, \"#9e2f7f\"], [0.5555555555555556, \"#cd4071\"], [0.6666666666666666, \"#f1605d\"], [0.7777777777777778, \"#fd9668\"], [0.8888888888888888, \"#feca8d\"], [1.0, \"#fcfdbf\"]], \"showscale\": false, \"x\": [0, 1, 2], \"xgap\": 5, \"y\": [0, 1, 2], \"ygap\": 5, \"z\": [[6, 5, 7], [3, 8, 0], [1, 4, 2]], \"type\": \"heatmap\"}], \"layout\": {\"annotations\": [{\"font\": {\"color\": \"green\", \"size\": 80}, \"showarrow\": false, \"text\": \"6\", \"x\": 0, \"xref\": \"x\", \"y\": 0, \"yref\": \"y\"}, {\"font\": {\"color\": \"green\", \"size\": 80}, \"showarrow\": false, \"text\": \"5\", \"x\": 1, \"xref\": \"x\", \"y\": 0, \"yref\": \"y\"}, {\"font\": {\"color\": \"green\", \"size\": 80}, \"showarrow\": false, \"text\": \"7\", \"x\": 2, \"xref\": \"x\", \"y\": 0, \"yref\": \"y\"}, {\"font\": {\"color\": \"green\", \"size\": 80}, \"showarrow\": false, \"text\": \"3\", \"x\": 0, \"xref\": \"x\", \"y\": 1, \"yref\": \"y\"}, {\"font\": {\"color\": \"green\", \"size\": 80}, \"showarrow\": false, \"text\": \"8\", \"x\": 1, \"xref\": \"x\", \"y\": 1, \"yref\": \"y\"}, {\"font\": {\"color\": \"green\", \"size\": 80}, \"showarrow\": false, \"text\": \"\", \"x\": 2, \"xref\": \"x\", \"y\": 1, \"yref\": \"y\"}, {\"font\": {\"color\": \"green\", \"size\": 80}, \"showarrow\": false, \"text\": \"1\", \"x\": 0, \"xref\": \"x\", \"y\": 2, \"yref\": \"y\"}, {\"font\": {\"color\": \"green\", \"size\": 80}, \"showarrow\": false, \"text\": \"4\", \"x\": 1, \"xref\": \"x\", \"y\": 2, \"yref\": \"y\"}, {\"font\": {\"color\": \"green\", \"size\": 80}, \"showarrow\": false, \"text\": \"2\", \"x\": 2, \"xref\": \"x\", \"y\": 2, \"yref\": \"y\"}], \"height\": 700, \"width\": 600, \"xaxis\": {\"showticklabels\": false}, \"yaxis\": {\"showticklabels\": false}}, \"name\": \"3\"}, {\"data\": [{\"colorscale\": [[0.0, \"#000004\"], [0.1111111111111111, \"#180f3d\"], [0.2222222222222222, \"#440f76\"], [0.3333333333333333, \"#721f81\"], [0.4444444444444444, \"#9e2f7f\"], [0.5555555555555556, \"#cd4071\"], [0.6666666666666666, \"#f1605d\"], [0.7777777777777778, \"#fd9668\"], [0.8888888888888888, \"#feca8d\"], [1.0, \"#fcfdbf\"]], \"showscale\": false, \"x\": [0, 1, 2], \"xgap\": 5, \"y\": [0, 1, 2], \"ygap\": 5, \"z\": [[6, 5, 7], [3, 0, 8], [1, 4, 2]], \"type\": \"heatmap\"}], \"layout\": {\"annotations\": [{\"font\": {\"color\": \"green\", \"size\": 80}, \"showarrow\": false, \"text\": \"6\", \"x\": 0, \"xref\": \"x\", \"y\": 0, \"yref\": \"y\"}, {\"font\": {\"color\": \"green\", \"size\": 80}, \"showarrow\": false, \"text\": \"5\", \"x\": 1, \"xref\": \"x\", \"y\": 0, \"yref\": \"y\"}, {\"font\": {\"color\": \"green\", \"size\": 80}, \"showarrow\": false, \"text\": \"7\", \"x\": 2, \"xref\": \"x\", \"y\": 0, \"yref\": \"y\"}, {\"font\": {\"color\": \"green\", \"size\": 80}, \"showarrow\": false, \"text\": \"3\", \"x\": 0, \"xref\": \"x\", \"y\": 1, \"yref\": \"y\"}, {\"font\": {\"color\": \"green\", \"size\": 80}, \"showarrow\": false, \"text\": \"\", \"x\": 1, \"xref\": \"x\", \"y\": 1, \"yref\": \"y\"}, {\"font\": {\"color\": \"green\", \"size\": 80}, \"showarrow\": false, \"text\": \"8\", \"x\": 2, \"xref\": \"x\", \"y\": 1, \"yref\": \"y\"}, {\"font\": {\"color\": \"green\", \"size\": 80}, \"showarrow\": false, \"text\": \"1\", \"x\": 0, \"xref\": \"x\", \"y\": 2, \"yref\": \"y\"}, {\"font\": {\"color\": \"green\", \"size\": 80}, \"showarrow\": false, \"text\": \"4\", \"x\": 1, \"xref\": \"x\", \"y\": 2, \"yref\": \"y\"}, {\"font\": {\"color\": \"green\", \"size\": 80}, \"showarrow\": false, \"text\": \"2\", \"x\": 2, \"xref\": \"x\", \"y\": 2, \"yref\": \"y\"}], \"height\": 700, \"width\": 600, \"xaxis\": {\"showticklabels\": false}, \"yaxis\": {\"showticklabels\": false}}, \"name\": \"4\"}, {\"data\": [{\"colorscale\": [[0.0, \"#000004\"], [0.1111111111111111, \"#180f3d\"], [0.2222222222222222, \"#440f76\"], [0.3333333333333333, \"#721f81\"], [0.4444444444444444, \"#9e2f7f\"], [0.5555555555555556, \"#cd4071\"], [0.6666666666666666, \"#f1605d\"], [0.7777777777777778, \"#fd9668\"], [0.8888888888888888, \"#feca8d\"], [1.0, \"#fcfdbf\"]], \"showscale\": false, \"x\": [0, 1, 2], \"xgap\": 5, \"y\": [0, 1, 2], \"ygap\": 5, \"z\": [[6, 5, 7], [0, 3, 8], [1, 4, 2]], \"type\": \"heatmap\"}], \"layout\": {\"annotations\": [{\"font\": {\"color\": \"green\", \"size\": 80}, \"showarrow\": false, \"text\": \"6\", \"x\": 0, \"xref\": \"x\", \"y\": 0, \"yref\": \"y\"}, {\"font\": {\"color\": \"green\", \"size\": 80}, \"showarrow\": false, \"text\": \"5\", \"x\": 1, \"xref\": \"x\", \"y\": 0, \"yref\": \"y\"}, {\"font\": {\"color\": \"green\", \"size\": 80}, \"showarrow\": false, \"text\": \"7\", \"x\": 2, \"xref\": \"x\", \"y\": 0, \"yref\": \"y\"}, {\"font\": {\"color\": \"green\", \"size\": 80}, \"showarrow\": false, \"text\": \"\", \"x\": 0, \"xref\": \"x\", \"y\": 1, \"yref\": \"y\"}, {\"font\": {\"color\": \"green\", \"size\": 80}, \"showarrow\": false, \"text\": \"3\", \"x\": 1, \"xref\": \"x\", \"y\": 1, \"yref\": \"y\"}, {\"font\": {\"color\": \"green\", \"size\": 80}, \"showarrow\": false, \"text\": \"8\", \"x\": 2, \"xref\": \"x\", \"y\": 1, \"yref\": \"y\"}, {\"font\": {\"color\": \"green\", \"size\": 80}, \"showarrow\": false, \"text\": \"1\", \"x\": 0, \"xref\": \"x\", \"y\": 2, \"yref\": \"y\"}, {\"font\": {\"color\": \"green\", \"size\": 80}, \"showarrow\": false, \"text\": \"4\", \"x\": 1, \"xref\": \"x\", \"y\": 2, \"yref\": \"y\"}, {\"font\": {\"color\": \"green\", \"size\": 80}, \"showarrow\": false, \"text\": \"2\", \"x\": 2, \"xref\": \"x\", \"y\": 2, \"yref\": \"y\"}], \"height\": 700, \"width\": 600, \"xaxis\": {\"showticklabels\": false}, \"yaxis\": {\"showticklabels\": false}}, \"name\": \"5\"}, {\"data\": [{\"colorscale\": [[0.0, \"#000004\"], [0.1111111111111111, \"#180f3d\"], [0.2222222222222222, \"#440f76\"], [0.3333333333333333, \"#721f81\"], [0.4444444444444444, \"#9e2f7f\"], [0.5555555555555556, \"#cd4071\"], [0.6666666666666666, \"#f1605d\"], [0.7777777777777778, \"#fd9668\"], [0.8888888888888888, \"#feca8d\"], [1.0, \"#fcfdbf\"]], \"showscale\": false, \"x\": [0, 1, 2], \"xgap\": 5, \"y\": [0, 1, 2], \"ygap\": 5, \"z\": [[0, 5, 7], [6, 3, 8], [1, 4, 2]], \"type\": \"heatmap\"}], \"layout\": {\"annotations\": [{\"font\": {\"color\": \"green\", \"size\": 80}, \"showarrow\": false, \"text\": \"\", \"x\": 0, \"xref\": \"x\", \"y\": 0, \"yref\": \"y\"}, {\"font\": {\"color\": \"green\", \"size\": 80}, \"showarrow\": false, \"text\": \"5\", \"x\": 1, \"xref\": \"x\", \"y\": 0, \"yref\": \"y\"}, {\"font\": {\"color\": \"green\", \"size\": 80}, \"showarrow\": false, \"text\": \"7\", \"x\": 2, \"xref\": \"x\", \"y\": 0, \"yref\": \"y\"}, {\"font\": {\"color\": \"green\", \"size\": 80}, \"showarrow\": false, \"text\": \"6\", \"x\": 0, \"xref\": \"x\", \"y\": 1, \"yref\": \"y\"}, {\"font\": {\"color\": \"green\", \"size\": 80}, \"showarrow\": false, \"text\": \"3\", \"x\": 1, \"xref\": \"x\", \"y\": 1, \"yref\": \"y\"}, {\"font\": {\"color\": \"green\", \"size\": 80}, \"showarrow\": false, \"text\": \"8\", \"x\": 2, \"xref\": \"x\", \"y\": 1, \"yref\": \"y\"}, {\"font\": {\"color\": \"green\", \"size\": 80}, \"showarrow\": false, \"text\": \"1\", \"x\": 0, \"xref\": \"x\", \"y\": 2, \"yref\": \"y\"}, {\"font\": {\"color\": \"green\", \"size\": 80}, \"showarrow\": false, \"text\": \"4\", \"x\": 1, \"xref\": \"x\", \"y\": 2, \"yref\": \"y\"}, {\"font\": {\"color\": \"green\", \"size\": 80}, \"showarrow\": false, \"text\": \"2\", \"x\": 2, \"xref\": \"x\", \"y\": 2, \"yref\": \"y\"}], \"height\": 700, \"width\": 600, \"xaxis\": {\"showticklabels\": false}, \"yaxis\": {\"showticklabels\": false}}, \"name\": \"6\"}, {\"data\": [{\"colorscale\": [[0.0, \"#000004\"], [0.1111111111111111, \"#180f3d\"], [0.2222222222222222, \"#440f76\"], [0.3333333333333333, \"#721f81\"], [0.4444444444444444, \"#9e2f7f\"], [0.5555555555555556, \"#cd4071\"], [0.6666666666666666, \"#f1605d\"], [0.7777777777777778, \"#fd9668\"], [0.8888888888888888, \"#feca8d\"], [1.0, \"#fcfdbf\"]], \"showscale\": false, \"x\": [0, 1, 2], \"xgap\": 5, \"y\": [0, 1, 2], \"ygap\": 5, \"z\": [[5, 0, 7], [6, 3, 8], [1, 4, 2]], \"type\": \"heatmap\"}], \"layout\": {\"annotations\": [{\"font\": {\"color\": \"green\", \"size\": 80}, \"showarrow\": false, \"text\": \"5\", \"x\": 0, \"xref\": \"x\", \"y\": 0, \"yref\": \"y\"}, {\"font\": {\"color\": \"green\", \"size\": 80}, \"showarrow\": false, \"text\": \"\", \"x\": 1, \"xref\": \"x\", \"y\": 0, \"yref\": \"y\"}, {\"font\": {\"color\": \"green\", \"size\": 80}, \"showarrow\": false, \"text\": \"7\", \"x\": 2, \"xref\": \"x\", \"y\": 0, \"yref\": \"y\"}, {\"font\": {\"color\": \"green\", \"size\": 80}, \"showarrow\": false, \"text\": \"6\", \"x\": 0, \"xref\": \"x\", \"y\": 1, \"yref\": \"y\"}, {\"font\": {\"color\": \"green\", \"size\": 80}, \"showarrow\": false, \"text\": \"3\", \"x\": 1, \"xref\": \"x\", \"y\": 1, \"yref\": \"y\"}, {\"font\": {\"color\": \"green\", \"size\": 80}, \"showarrow\": false, \"text\": \"8\", \"x\": 2, \"xref\": \"x\", \"y\": 1, \"yref\": \"y\"}, {\"font\": {\"color\": \"green\", \"size\": 80}, \"showarrow\": false, \"text\": \"1\", \"x\": 0, \"xref\": \"x\", \"y\": 2, \"yref\": \"y\"}, {\"font\": {\"color\": \"green\", \"size\": 80}, \"showarrow\": false, \"text\": \"4\", \"x\": 1, \"xref\": \"x\", \"y\": 2, \"yref\": \"y\"}, {\"font\": {\"color\": \"green\", \"size\": 80}, \"showarrow\": false, \"text\": \"2\", \"x\": 2, \"xref\": \"x\", \"y\": 2, \"yref\": \"y\"}], \"height\": 700, \"width\": 600, \"xaxis\": {\"showticklabels\": false}, \"yaxis\": {\"showticklabels\": false}}, \"name\": \"7\"}, {\"data\": [{\"colorscale\": [[0.0, \"#000004\"], [0.1111111111111111, \"#180f3d\"], [0.2222222222222222, \"#440f76\"], [0.3333333333333333, \"#721f81\"], [0.4444444444444444, \"#9e2f7f\"], [0.5555555555555556, \"#cd4071\"], [0.6666666666666666, \"#f1605d\"], [0.7777777777777778, \"#fd9668\"], [0.8888888888888888, \"#feca8d\"], [1.0, \"#fcfdbf\"]], \"showscale\": false, \"x\": [0, 1, 2], \"xgap\": 5, \"y\": [0, 1, 2], \"ygap\": 5, \"z\": [[5, 7, 0], [6, 3, 8], [1, 4, 2]], \"type\": \"heatmap\"}], \"layout\": {\"annotations\": [{\"font\": {\"color\": \"green\", \"size\": 80}, \"showarrow\": false, \"text\": \"5\", \"x\": 0, \"xref\": \"x\", \"y\": 0, \"yref\": \"y\"}, {\"font\": {\"color\": \"green\", \"size\": 80}, \"showarrow\": false, \"text\": \"7\", \"x\": 1, \"xref\": \"x\", \"y\": 0, \"yref\": \"y\"}, {\"font\": {\"color\": \"green\", \"size\": 80}, \"showarrow\": false, \"text\": \"\", \"x\": 2, \"xref\": \"x\", \"y\": 0, \"yref\": \"y\"}, {\"font\": {\"color\": \"green\", \"size\": 80}, \"showarrow\": false, \"text\": \"6\", \"x\": 0, \"xref\": \"x\", \"y\": 1, \"yref\": \"y\"}, {\"font\": {\"color\": \"green\", \"size\": 80}, \"showarrow\": false, \"text\": \"3\", \"x\": 1, \"xref\": \"x\", \"y\": 1, \"yref\": \"y\"}, {\"font\": {\"color\": \"green\", \"size\": 80}, \"showarrow\": false, \"text\": \"8\", \"x\": 2, \"xref\": \"x\", \"y\": 1, \"yref\": \"y\"}, {\"font\": {\"color\": \"green\", \"size\": 80}, \"showarrow\": false, \"text\": \"1\", \"x\": 0, \"xref\": \"x\", \"y\": 2, \"yref\": \"y\"}, {\"font\": {\"color\": \"green\", \"size\": 80}, \"showarrow\": false, \"text\": \"4\", \"x\": 1, \"xref\": \"x\", \"y\": 2, \"yref\": \"y\"}, {\"font\": {\"color\": \"green\", \"size\": 80}, \"showarrow\": false, \"text\": \"2\", \"x\": 2, \"xref\": \"x\", \"y\": 2, \"yref\": \"y\"}], \"height\": 700, \"width\": 600, \"xaxis\": {\"showticklabels\": false}, \"yaxis\": {\"showticklabels\": false}}, \"name\": \"8\"}, {\"data\": [{\"colorscale\": [[0.0, \"#000004\"], [0.1111111111111111, \"#180f3d\"], [0.2222222222222222, \"#440f76\"], [0.3333333333333333, \"#721f81\"], [0.4444444444444444, \"#9e2f7f\"], [0.5555555555555556, \"#cd4071\"], [0.6666666666666666, \"#f1605d\"], [0.7777777777777778, \"#fd9668\"], [0.8888888888888888, \"#feca8d\"], [1.0, \"#fcfdbf\"]], \"showscale\": false, \"x\": [0, 1, 2], \"xgap\": 5, \"y\": [0, 1, 2], \"ygap\": 5, \"z\": [[5, 7, 8], [6, 3, 0], [1, 4, 2]], \"type\": \"heatmap\"}], \"layout\": {\"annotations\": [{\"font\": {\"color\": \"green\", \"size\": 80}, \"showarrow\": false, \"text\": \"5\", \"x\": 0, \"xref\": \"x\", \"y\": 0, \"yref\": \"y\"}, {\"font\": {\"color\": \"green\", \"size\": 80}, \"showarrow\": false, \"text\": \"7\", \"x\": 1, \"xref\": \"x\", \"y\": 0, \"yref\": \"y\"}, {\"font\": {\"color\": \"green\", \"size\": 80}, \"showarrow\": false, \"text\": \"8\", \"x\": 2, \"xref\": \"x\", \"y\": 0, \"yref\": \"y\"}, {\"font\": {\"color\": \"green\", \"size\": 80}, \"showarrow\": false, \"text\": \"6\", \"x\": 0, \"xref\": \"x\", \"y\": 1, \"yref\": \"y\"}, {\"font\": {\"color\": \"green\", \"size\": 80}, \"showarrow\": false, \"text\": \"3\", \"x\": 1, \"xref\": \"x\", \"y\": 1, \"yref\": \"y\"}, {\"font\": {\"color\": \"green\", \"size\": 80}, \"showarrow\": false, \"text\": \"\", \"x\": 2, \"xref\": \"x\", \"y\": 1, \"yref\": \"y\"}, {\"font\": {\"color\": \"green\", \"size\": 80}, \"showarrow\": false, \"text\": \"1\", \"x\": 0, \"xref\": \"x\", \"y\": 2, \"yref\": \"y\"}, {\"font\": {\"color\": \"green\", \"size\": 80}, \"showarrow\": false, \"text\": \"4\", \"x\": 1, \"xref\": \"x\", \"y\": 2, \"yref\": \"y\"}, {\"font\": {\"color\": \"green\", \"size\": 80}, \"showarrow\": false, \"text\": \"2\", \"x\": 2, \"xref\": \"x\", \"y\": 2, \"yref\": \"y\"}], \"height\": 700, \"width\": 600, \"xaxis\": {\"showticklabels\": false}, \"yaxis\": {\"showticklabels\": false}}, \"name\": \"9\"}, {\"data\": [{\"colorscale\": [[0.0, \"#000004\"], [0.1111111111111111, \"#180f3d\"], [0.2222222222222222, \"#440f76\"], [0.3333333333333333, \"#721f81\"], [0.4444444444444444, \"#9e2f7f\"], [0.5555555555555556, \"#cd4071\"], [0.6666666666666666, \"#f1605d\"], [0.7777777777777778, \"#fd9668\"], [0.8888888888888888, \"#feca8d\"], [1.0, \"#fcfdbf\"]], \"showscale\": false, \"x\": [0, 1, 2], \"xgap\": 5, \"y\": [0, 1, 2], \"ygap\": 5, \"z\": [[5, 7, 8], [6, 0, 3], [1, 4, 2]], \"type\": \"heatmap\"}], \"layout\": {\"annotations\": [{\"font\": {\"color\": \"green\", \"size\": 80}, \"showarrow\": false, \"text\": \"5\", \"x\": 0, \"xref\": \"x\", \"y\": 0, \"yref\": \"y\"}, {\"font\": {\"color\": \"green\", \"size\": 80}, \"showarrow\": false, \"text\": \"7\", \"x\": 1, \"xref\": \"x\", \"y\": 0, \"yref\": \"y\"}, {\"font\": {\"color\": \"green\", \"size\": 80}, \"showarrow\": false, \"text\": \"8\", \"x\": 2, \"xref\": \"x\", \"y\": 0, \"yref\": \"y\"}, {\"font\": {\"color\": \"green\", \"size\": 80}, \"showarrow\": false, \"text\": \"6\", \"x\": 0, \"xref\": \"x\", \"y\": 1, \"yref\": \"y\"}, {\"font\": {\"color\": \"green\", \"size\": 80}, \"showarrow\": false, \"text\": \"\", \"x\": 1, \"xref\": \"x\", \"y\": 1, \"yref\": \"y\"}, {\"font\": {\"color\": \"green\", \"size\": 80}, \"showarrow\": false, \"text\": \"3\", \"x\": 2, \"xref\": \"x\", \"y\": 1, \"yref\": \"y\"}, {\"font\": {\"color\": \"green\", \"size\": 80}, \"showarrow\": false, \"text\": \"1\", \"x\": 0, \"xref\": \"x\", \"y\": 2, \"yref\": \"y\"}, {\"font\": {\"color\": \"green\", \"size\": 80}, \"showarrow\": false, \"text\": \"4\", \"x\": 1, \"xref\": \"x\", \"y\": 2, \"yref\": \"y\"}, {\"font\": {\"color\": \"green\", \"size\": 80}, \"showarrow\": false, \"text\": \"2\", \"x\": 2, \"xref\": \"x\", \"y\": 2, \"yref\": \"y\"}], \"height\": 700, \"width\": 600, \"xaxis\": {\"showticklabels\": false}, \"yaxis\": {\"showticklabels\": false}}, \"name\": \"10\"}, {\"data\": [{\"colorscale\": [[0.0, \"#000004\"], [0.1111111111111111, \"#180f3d\"], [0.2222222222222222, \"#440f76\"], [0.3333333333333333, \"#721f81\"], [0.4444444444444444, \"#9e2f7f\"], [0.5555555555555556, \"#cd4071\"], [0.6666666666666666, \"#f1605d\"], [0.7777777777777778, \"#fd9668\"], [0.8888888888888888, \"#feca8d\"], [1.0, \"#fcfdbf\"]], \"showscale\": false, \"x\": [0, 1, 2], \"xgap\": 5, \"y\": [0, 1, 2], \"ygap\": 5, \"z\": [[5, 7, 8], [6, 4, 3], [1, 0, 2]], \"type\": \"heatmap\"}], \"layout\": {\"annotations\": [{\"font\": {\"color\": \"green\", \"size\": 80}, \"showarrow\": false, \"text\": \"5\", \"x\": 0, \"xref\": \"x\", \"y\": 0, \"yref\": \"y\"}, {\"font\": {\"color\": \"green\", \"size\": 80}, \"showarrow\": false, \"text\": \"7\", \"x\": 1, \"xref\": \"x\", \"y\": 0, \"yref\": \"y\"}, {\"font\": {\"color\": \"green\", \"size\": 80}, \"showarrow\": false, \"text\": \"8\", \"x\": 2, \"xref\": \"x\", \"y\": 0, \"yref\": \"y\"}, {\"font\": {\"color\": \"green\", \"size\": 80}, \"showarrow\": false, \"text\": \"6\", \"x\": 0, \"xref\": \"x\", \"y\": 1, \"yref\": \"y\"}, {\"font\": {\"color\": \"green\", \"size\": 80}, \"showarrow\": false, \"text\": \"4\", \"x\": 1, \"xref\": \"x\", \"y\": 1, \"yref\": \"y\"}, {\"font\": {\"color\": \"green\", \"size\": 80}, \"showarrow\": false, \"text\": \"3\", \"x\": 2, \"xref\": \"x\", \"y\": 1, \"yref\": \"y\"}, {\"font\": {\"color\": \"green\", \"size\": 80}, \"showarrow\": false, \"text\": \"1\", \"x\": 0, \"xref\": \"x\", \"y\": 2, \"yref\": \"y\"}, {\"font\": {\"color\": \"green\", \"size\": 80}, \"showarrow\": false, \"text\": \"\", \"x\": 1, \"xref\": \"x\", \"y\": 2, \"yref\": \"y\"}, {\"font\": {\"color\": \"green\", \"size\": 80}, \"showarrow\": false, \"text\": \"2\", \"x\": 2, \"xref\": \"x\", \"y\": 2, \"yref\": \"y\"}], \"height\": 700, \"width\": 600, \"xaxis\": {\"showticklabels\": false}, \"yaxis\": {\"showticklabels\": false}}, \"name\": \"11\"}, {\"data\": [{\"colorscale\": [[0.0, \"#000004\"], [0.1111111111111111, \"#180f3d\"], [0.2222222222222222, \"#440f76\"], [0.3333333333333333, \"#721f81\"], [0.4444444444444444, \"#9e2f7f\"], [0.5555555555555556, \"#cd4071\"], [0.6666666666666666, \"#f1605d\"], [0.7777777777777778, \"#fd9668\"], [0.8888888888888888, \"#feca8d\"], [1.0, \"#fcfdbf\"]], \"showscale\": false, \"x\": [0, 1, 2], \"xgap\": 5, \"y\": [0, 1, 2], \"ygap\": 5, \"z\": [[5, 7, 8], [6, 4, 3], [1, 2, 0]], \"type\": \"heatmap\"}], \"layout\": {\"annotations\": [{\"font\": {\"color\": \"green\", \"size\": 80}, \"showarrow\": false, \"text\": \"5\", \"x\": 0, \"xref\": \"x\", \"y\": 0, \"yref\": \"y\"}, {\"font\": {\"color\": \"green\", \"size\": 80}, \"showarrow\": false, \"text\": \"7\", \"x\": 1, \"xref\": \"x\", \"y\": 0, \"yref\": \"y\"}, {\"font\": {\"color\": \"green\", \"size\": 80}, \"showarrow\": false, \"text\": \"8\", \"x\": 2, \"xref\": \"x\", \"y\": 0, \"yref\": \"y\"}, {\"font\": {\"color\": \"green\", \"size\": 80}, \"showarrow\": false, \"text\": \"6\", \"x\": 0, \"xref\": \"x\", \"y\": 1, \"yref\": \"y\"}, {\"font\": {\"color\": \"green\", \"size\": 80}, \"showarrow\": false, \"text\": \"4\", \"x\": 1, \"xref\": \"x\", \"y\": 1, \"yref\": \"y\"}, {\"font\": {\"color\": \"green\", \"size\": 80}, \"showarrow\": false, \"text\": \"3\", \"x\": 2, \"xref\": \"x\", \"y\": 1, \"yref\": \"y\"}, {\"font\": {\"color\": \"green\", \"size\": 80}, \"showarrow\": false, \"text\": \"1\", \"x\": 0, \"xref\": \"x\", \"y\": 2, \"yref\": \"y\"}, {\"font\": {\"color\": \"green\", \"size\": 80}, \"showarrow\": false, \"text\": \"2\", \"x\": 1, \"xref\": \"x\", \"y\": 2, \"yref\": \"y\"}, {\"font\": {\"color\": \"green\", \"size\": 80}, \"showarrow\": false, \"text\": \"\", \"x\": 2, \"xref\": \"x\", \"y\": 2, \"yref\": \"y\"}], \"height\": 700, \"width\": 600, \"xaxis\": {\"showticklabels\": false}, \"yaxis\": {\"showticklabels\": false}}, \"name\": \"12\"}, {\"data\": [{\"colorscale\": [[0.0, \"#000004\"], [0.1111111111111111, \"#180f3d\"], [0.2222222222222222, \"#440f76\"], [0.3333333333333333, \"#721f81\"], [0.4444444444444444, \"#9e2f7f\"], [0.5555555555555556, \"#cd4071\"], [0.6666666666666666, \"#f1605d\"], [0.7777777777777778, \"#fd9668\"], [0.8888888888888888, \"#feca8d\"], [1.0, \"#fcfdbf\"]], \"showscale\": false, \"x\": [0, 1, 2], \"xgap\": 5, \"y\": [0, 1, 2], \"ygap\": 5, \"z\": [[5, 7, 8], [6, 4, 0], [1, 2, 3]], \"type\": \"heatmap\"}], \"layout\": {\"annotations\": [{\"font\": {\"color\": \"green\", \"size\": 80}, \"showarrow\": false, \"text\": \"5\", \"x\": 0, \"xref\": \"x\", \"y\": 0, \"yref\": \"y\"}, {\"font\": {\"color\": \"green\", \"size\": 80}, \"showarrow\": false, \"text\": \"7\", \"x\": 1, \"xref\": \"x\", \"y\": 0, \"yref\": \"y\"}, {\"font\": {\"color\": \"green\", \"size\": 80}, \"showarrow\": false, \"text\": \"8\", \"x\": 2, \"xref\": \"x\", \"y\": 0, \"yref\": \"y\"}, {\"font\": {\"color\": \"green\", \"size\": 80}, \"showarrow\": false, \"text\": \"6\", \"x\": 0, \"xref\": \"x\", \"y\": 1, \"yref\": \"y\"}, {\"font\": {\"color\": \"green\", \"size\": 80}, \"showarrow\": false, \"text\": \"4\", \"x\": 1, \"xref\": \"x\", \"y\": 1, \"yref\": \"y\"}, {\"font\": {\"color\": \"green\", \"size\": 80}, \"showarrow\": false, \"text\": \"\", \"x\": 2, \"xref\": \"x\", \"y\": 1, \"yref\": \"y\"}, {\"font\": {\"color\": \"green\", \"size\": 80}, \"showarrow\": false, \"text\": \"1\", \"x\": 0, \"xref\": \"x\", \"y\": 2, \"yref\": \"y\"}, {\"font\": {\"color\": \"green\", \"size\": 80}, \"showarrow\": false, \"text\": \"2\", \"x\": 1, \"xref\": \"x\", \"y\": 2, \"yref\": \"y\"}, {\"font\": {\"color\": \"green\", \"size\": 80}, \"showarrow\": false, \"text\": \"3\", \"x\": 2, \"xref\": \"x\", \"y\": 2, \"yref\": \"y\"}], \"height\": 700, \"width\": 600, \"xaxis\": {\"showticklabels\": false}, \"yaxis\": {\"showticklabels\": false}}, \"name\": \"13\"}, {\"data\": [{\"colorscale\": [[0.0, \"#000004\"], [0.1111111111111111, \"#180f3d\"], [0.2222222222222222, \"#440f76\"], [0.3333333333333333, \"#721f81\"], [0.4444444444444444, \"#9e2f7f\"], [0.5555555555555556, \"#cd4071\"], [0.6666666666666666, \"#f1605d\"], [0.7777777777777778, \"#fd9668\"], [0.8888888888888888, \"#feca8d\"], [1.0, \"#fcfdbf\"]], \"showscale\": false, \"x\": [0, 1, 2], \"xgap\": 5, \"y\": [0, 1, 2], \"ygap\": 5, \"z\": [[5, 7, 0], [6, 4, 8], [1, 2, 3]], \"type\": \"heatmap\"}], \"layout\": {\"annotations\": [{\"font\": {\"color\": \"green\", \"size\": 80}, \"showarrow\": false, \"text\": \"5\", \"x\": 0, \"xref\": \"x\", \"y\": 0, \"yref\": \"y\"}, {\"font\": {\"color\": \"green\", \"size\": 80}, \"showarrow\": false, \"text\": \"7\", \"x\": 1, \"xref\": \"x\", \"y\": 0, \"yref\": \"y\"}, {\"font\": {\"color\": \"green\", \"size\": 80}, \"showarrow\": false, \"text\": \"\", \"x\": 2, \"xref\": \"x\", \"y\": 0, \"yref\": \"y\"}, {\"font\": {\"color\": \"green\", \"size\": 80}, \"showarrow\": false, \"text\": \"6\", \"x\": 0, \"xref\": \"x\", \"y\": 1, \"yref\": \"y\"}, {\"font\": {\"color\": \"green\", \"size\": 80}, \"showarrow\": false, \"text\": \"4\", \"x\": 1, \"xref\": \"x\", \"y\": 1, \"yref\": \"y\"}, {\"font\": {\"color\": \"green\", \"size\": 80}, \"showarrow\": false, \"text\": \"8\", \"x\": 2, \"xref\": \"x\", \"y\": 1, \"yref\": \"y\"}, {\"font\": {\"color\": \"green\", \"size\": 80}, \"showarrow\": false, \"text\": \"1\", \"x\": 0, \"xref\": \"x\", \"y\": 2, \"yref\": \"y\"}, {\"font\": {\"color\": \"green\", \"size\": 80}, \"showarrow\": false, \"text\": \"2\", \"x\": 1, \"xref\": \"x\", \"y\": 2, \"yref\": \"y\"}, {\"font\": {\"color\": \"green\", \"size\": 80}, \"showarrow\": false, \"text\": \"3\", \"x\": 2, \"xref\": \"x\", \"y\": 2, \"yref\": \"y\"}], \"height\": 700, \"width\": 600, \"xaxis\": {\"showticklabels\": false}, \"yaxis\": {\"showticklabels\": false}}, \"name\": \"14\"}, {\"data\": [{\"colorscale\": [[0.0, \"#000004\"], [0.1111111111111111, \"#180f3d\"], [0.2222222222222222, \"#440f76\"], [0.3333333333333333, \"#721f81\"], [0.4444444444444444, \"#9e2f7f\"], [0.5555555555555556, \"#cd4071\"], [0.6666666666666666, \"#f1605d\"], [0.7777777777777778, \"#fd9668\"], [0.8888888888888888, \"#feca8d\"], [1.0, \"#fcfdbf\"]], \"showscale\": false, \"x\": [0, 1, 2], \"xgap\": 5, \"y\": [0, 1, 2], \"ygap\": 5, \"z\": [[5, 0, 7], [6, 4, 8], [1, 2, 3]], \"type\": \"heatmap\"}], \"layout\": {\"annotations\": [{\"font\": {\"color\": \"green\", \"size\": 80}, \"showarrow\": false, \"text\": \"5\", \"x\": 0, \"xref\": \"x\", \"y\": 0, \"yref\": \"y\"}, {\"font\": {\"color\": \"green\", \"size\": 80}, \"showarrow\": false, \"text\": \"\", \"x\": 1, \"xref\": \"x\", \"y\": 0, \"yref\": \"y\"}, {\"font\": {\"color\": \"green\", \"size\": 80}, \"showarrow\": false, \"text\": \"7\", \"x\": 2, \"xref\": \"x\", \"y\": 0, \"yref\": \"y\"}, {\"font\": {\"color\": \"green\", \"size\": 80}, \"showarrow\": false, \"text\": \"6\", \"x\": 0, \"xref\": \"x\", \"y\": 1, \"yref\": \"y\"}, {\"font\": {\"color\": \"green\", \"size\": 80}, \"showarrow\": false, \"text\": \"4\", \"x\": 1, \"xref\": \"x\", \"y\": 1, \"yref\": \"y\"}, {\"font\": {\"color\": \"green\", \"size\": 80}, \"showarrow\": false, \"text\": \"8\", \"x\": 2, \"xref\": \"x\", \"y\": 1, \"yref\": \"y\"}, {\"font\": {\"color\": \"green\", \"size\": 80}, \"showarrow\": false, \"text\": \"1\", \"x\": 0, \"xref\": \"x\", \"y\": 2, \"yref\": \"y\"}, {\"font\": {\"color\": \"green\", \"size\": 80}, \"showarrow\": false, \"text\": \"2\", \"x\": 1, \"xref\": \"x\", \"y\": 2, \"yref\": \"y\"}, {\"font\": {\"color\": \"green\", \"size\": 80}, \"showarrow\": false, \"text\": \"3\", \"x\": 2, \"xref\": \"x\", \"y\": 2, \"yref\": \"y\"}], \"height\": 700, \"width\": 600, \"xaxis\": {\"showticklabels\": false}, \"yaxis\": {\"showticklabels\": false}}, \"name\": \"15\"}, {\"data\": [{\"colorscale\": [[0.0, \"#000004\"], [0.1111111111111111, \"#180f3d\"], [0.2222222222222222, \"#440f76\"], [0.3333333333333333, \"#721f81\"], [0.4444444444444444, \"#9e2f7f\"], [0.5555555555555556, \"#cd4071\"], [0.6666666666666666, \"#f1605d\"], [0.7777777777777778, \"#fd9668\"], [0.8888888888888888, \"#feca8d\"], [1.0, \"#fcfdbf\"]], \"showscale\": false, \"x\": [0, 1, 2], \"xgap\": 5, \"y\": [0, 1, 2], \"ygap\": 5, \"z\": [[5, 4, 7], [6, 0, 8], [1, 2, 3]], \"type\": \"heatmap\"}], \"layout\": {\"annotations\": [{\"font\": {\"color\": \"green\", \"size\": 80}, \"showarrow\": false, \"text\": \"5\", \"x\": 0, \"xref\": \"x\", \"y\": 0, \"yref\": \"y\"}, {\"font\": {\"color\": \"green\", \"size\": 80}, \"showarrow\": false, \"text\": \"4\", \"x\": 1, \"xref\": \"x\", \"y\": 0, \"yref\": \"y\"}, {\"font\": {\"color\": \"green\", \"size\": 80}, \"showarrow\": false, \"text\": \"7\", \"x\": 2, \"xref\": \"x\", \"y\": 0, \"yref\": \"y\"}, {\"font\": {\"color\": \"green\", \"size\": 80}, \"showarrow\": false, \"text\": \"6\", \"x\": 0, \"xref\": \"x\", \"y\": 1, \"yref\": \"y\"}, {\"font\": {\"color\": \"green\", \"size\": 80}, \"showarrow\": false, \"text\": \"\", \"x\": 1, \"xref\": \"x\", \"y\": 1, \"yref\": \"y\"}, {\"font\": {\"color\": \"green\", \"size\": 80}, \"showarrow\": false, \"text\": \"8\", \"x\": 2, \"xref\": \"x\", \"y\": 1, \"yref\": \"y\"}, {\"font\": {\"color\": \"green\", \"size\": 80}, \"showarrow\": false, \"text\": \"1\", \"x\": 0, \"xref\": \"x\", \"y\": 2, \"yref\": \"y\"}, {\"font\": {\"color\": \"green\", \"size\": 80}, \"showarrow\": false, \"text\": \"2\", \"x\": 1, \"xref\": \"x\", \"y\": 2, \"yref\": \"y\"}, {\"font\": {\"color\": \"green\", \"size\": 80}, \"showarrow\": false, \"text\": \"3\", \"x\": 2, \"xref\": \"x\", \"y\": 2, \"yref\": \"y\"}], \"height\": 700, \"width\": 600, \"xaxis\": {\"showticklabels\": false}, \"yaxis\": {\"showticklabels\": false}}, \"name\": \"16\"}, {\"data\": [{\"colorscale\": [[0.0, \"#000004\"], [0.1111111111111111, \"#180f3d\"], [0.2222222222222222, \"#440f76\"], [0.3333333333333333, \"#721f81\"], [0.4444444444444444, \"#9e2f7f\"], [0.5555555555555556, \"#cd4071\"], [0.6666666666666666, \"#f1605d\"], [0.7777777777777778, \"#fd9668\"], [0.8888888888888888, \"#feca8d\"], [1.0, \"#fcfdbf\"]], \"showscale\": false, \"x\": [0, 1, 2], \"xgap\": 5, \"y\": [0, 1, 2], \"ygap\": 5, \"z\": [[5, 4, 7], [0, 6, 8], [1, 2, 3]], \"type\": \"heatmap\"}], \"layout\": {\"annotations\": [{\"font\": {\"color\": \"green\", \"size\": 80}, \"showarrow\": false, \"text\": \"5\", \"x\": 0, \"xref\": \"x\", \"y\": 0, \"yref\": \"y\"}, {\"font\": {\"color\": \"green\", \"size\": 80}, \"showarrow\": false, \"text\": \"4\", \"x\": 1, \"xref\": \"x\", \"y\": 0, \"yref\": \"y\"}, {\"font\": {\"color\": \"green\", \"size\": 80}, \"showarrow\": false, \"text\": \"7\", \"x\": 2, \"xref\": \"x\", \"y\": 0, \"yref\": \"y\"}, {\"font\": {\"color\": \"green\", \"size\": 80}, \"showarrow\": false, \"text\": \"\", \"x\": 0, \"xref\": \"x\", \"y\": 1, \"yref\": \"y\"}, {\"font\": {\"color\": \"green\", \"size\": 80}, \"showarrow\": false, \"text\": \"6\", \"x\": 1, \"xref\": \"x\", \"y\": 1, \"yref\": \"y\"}, {\"font\": {\"color\": \"green\", \"size\": 80}, \"showarrow\": false, \"text\": \"8\", \"x\": 2, \"xref\": \"x\", \"y\": 1, \"yref\": \"y\"}, {\"font\": {\"color\": \"green\", \"size\": 80}, \"showarrow\": false, \"text\": \"1\", \"x\": 0, \"xref\": \"x\", \"y\": 2, \"yref\": \"y\"}, {\"font\": {\"color\": \"green\", \"size\": 80}, \"showarrow\": false, \"text\": \"2\", \"x\": 1, \"xref\": \"x\", \"y\": 2, \"yref\": \"y\"}, {\"font\": {\"color\": \"green\", \"size\": 80}, \"showarrow\": false, \"text\": \"3\", \"x\": 2, \"xref\": \"x\", \"y\": 2, \"yref\": \"y\"}], \"height\": 700, \"width\": 600, \"xaxis\": {\"showticklabels\": false}, \"yaxis\": {\"showticklabels\": false}}, \"name\": \"17\"}, {\"data\": [{\"colorscale\": [[0.0, \"#000004\"], [0.1111111111111111, \"#180f3d\"], [0.2222222222222222, \"#440f76\"], [0.3333333333333333, \"#721f81\"], [0.4444444444444444, \"#9e2f7f\"], [0.5555555555555556, \"#cd4071\"], [0.6666666666666666, \"#f1605d\"], [0.7777777777777778, \"#fd9668\"], [0.8888888888888888, \"#feca8d\"], [1.0, \"#fcfdbf\"]], \"showscale\": false, \"x\": [0, 1, 2], \"xgap\": 5, \"y\": [0, 1, 2], \"ygap\": 5, \"z\": [[0, 4, 7], [5, 6, 8], [1, 2, 3]], \"type\": \"heatmap\"}], \"layout\": {\"annotations\": [{\"font\": {\"color\": \"green\", \"size\": 80}, \"showarrow\": false, \"text\": \"\", \"x\": 0, \"xref\": \"x\", \"y\": 0, \"yref\": \"y\"}, {\"font\": {\"color\": \"green\", \"size\": 80}, \"showarrow\": false, \"text\": \"4\", \"x\": 1, \"xref\": \"x\", \"y\": 0, \"yref\": \"y\"}, {\"font\": {\"color\": \"green\", \"size\": 80}, \"showarrow\": false, \"text\": \"7\", \"x\": 2, \"xref\": \"x\", \"y\": 0, \"yref\": \"y\"}, {\"font\": {\"color\": \"green\", \"size\": 80}, \"showarrow\": false, \"text\": \"5\", \"x\": 0, \"xref\": \"x\", \"y\": 1, \"yref\": \"y\"}, {\"font\": {\"color\": \"green\", \"size\": 80}, \"showarrow\": false, \"text\": \"6\", \"x\": 1, \"xref\": \"x\", \"y\": 1, \"yref\": \"y\"}, {\"font\": {\"color\": \"green\", \"size\": 80}, \"showarrow\": false, \"text\": \"8\", \"x\": 2, \"xref\": \"x\", \"y\": 1, \"yref\": \"y\"}, {\"font\": {\"color\": \"green\", \"size\": 80}, \"showarrow\": false, \"text\": \"1\", \"x\": 0, \"xref\": \"x\", \"y\": 2, \"yref\": \"y\"}, {\"font\": {\"color\": \"green\", \"size\": 80}, \"showarrow\": false, \"text\": \"2\", \"x\": 1, \"xref\": \"x\", \"y\": 2, \"yref\": \"y\"}, {\"font\": {\"color\": \"green\", \"size\": 80}, \"showarrow\": false, \"text\": \"3\", \"x\": 2, \"xref\": \"x\", \"y\": 2, \"yref\": \"y\"}], \"height\": 700, \"width\": 600, \"xaxis\": {\"showticklabels\": false}, \"yaxis\": {\"showticklabels\": false}}, \"name\": \"18\"}, {\"data\": [{\"colorscale\": [[0.0, \"#000004\"], [0.1111111111111111, \"#180f3d\"], [0.2222222222222222, \"#440f76\"], [0.3333333333333333, \"#721f81\"], [0.4444444444444444, \"#9e2f7f\"], [0.5555555555555556, \"#cd4071\"], [0.6666666666666666, \"#f1605d\"], [0.7777777777777778, \"#fd9668\"], [0.8888888888888888, \"#feca8d\"], [1.0, \"#fcfdbf\"]], \"showscale\": false, \"x\": [0, 1, 2], \"xgap\": 5, \"y\": [0, 1, 2], \"ygap\": 5, \"z\": [[4, 0, 7], [5, 6, 8], [1, 2, 3]], \"type\": \"heatmap\"}], \"layout\": {\"annotations\": [{\"font\": {\"color\": \"green\", \"size\": 80}, \"showarrow\": false, \"text\": \"4\", \"x\": 0, \"xref\": \"x\", \"y\": 0, \"yref\": \"y\"}, {\"font\": {\"color\": \"green\", \"size\": 80}, \"showarrow\": false, \"text\": \"\", \"x\": 1, \"xref\": \"x\", \"y\": 0, \"yref\": \"y\"}, {\"font\": {\"color\": \"green\", \"size\": 80}, \"showarrow\": false, \"text\": \"7\", \"x\": 2, \"xref\": \"x\", \"y\": 0, \"yref\": \"y\"}, {\"font\": {\"color\": \"green\", \"size\": 80}, \"showarrow\": false, \"text\": \"5\", \"x\": 0, \"xref\": \"x\", \"y\": 1, \"yref\": \"y\"}, {\"font\": {\"color\": \"green\", \"size\": 80}, \"showarrow\": false, \"text\": \"6\", \"x\": 1, \"xref\": \"x\", \"y\": 1, \"yref\": \"y\"}, {\"font\": {\"color\": \"green\", \"size\": 80}, \"showarrow\": false, \"text\": \"8\", \"x\": 2, \"xref\": \"x\", \"y\": 1, \"yref\": \"y\"}, {\"font\": {\"color\": \"green\", \"size\": 80}, \"showarrow\": false, \"text\": \"1\", \"x\": 0, \"xref\": \"x\", \"y\": 2, \"yref\": \"y\"}, {\"font\": {\"color\": \"green\", \"size\": 80}, \"showarrow\": false, \"text\": \"2\", \"x\": 1, \"xref\": \"x\", \"y\": 2, \"yref\": \"y\"}, {\"font\": {\"color\": \"green\", \"size\": 80}, \"showarrow\": false, \"text\": \"3\", \"x\": 2, \"xref\": \"x\", \"y\": 2, \"yref\": \"y\"}], \"height\": 700, \"width\": 600, \"xaxis\": {\"showticklabels\": false}, \"yaxis\": {\"showticklabels\": false}}, \"name\": \"19\"}, {\"data\": [{\"colorscale\": [[0.0, \"#000004\"], [0.1111111111111111, \"#180f3d\"], [0.2222222222222222, \"#440f76\"], [0.3333333333333333, \"#721f81\"], [0.4444444444444444, \"#9e2f7f\"], [0.5555555555555556, \"#cd4071\"], [0.6666666666666666, \"#f1605d\"], [0.7777777777777778, \"#fd9668\"], [0.8888888888888888, \"#feca8d\"], [1.0, \"#fcfdbf\"]], \"showscale\": false, \"x\": [0, 1, 2], \"xgap\": 5, \"y\": [0, 1, 2], \"ygap\": 5, \"z\": [[4, 7, 0], [5, 6, 8], [1, 2, 3]], \"type\": \"heatmap\"}], \"layout\": {\"annotations\": [{\"font\": {\"color\": \"green\", \"size\": 80}, \"showarrow\": false, \"text\": \"4\", \"x\": 0, \"xref\": \"x\", \"y\": 0, \"yref\": \"y\"}, {\"font\": {\"color\": \"green\", \"size\": 80}, \"showarrow\": false, \"text\": \"7\", \"x\": 1, \"xref\": \"x\", \"y\": 0, \"yref\": \"y\"}, {\"font\": {\"color\": \"green\", \"size\": 80}, \"showarrow\": false, \"text\": \"\", \"x\": 2, \"xref\": \"x\", \"y\": 0, \"yref\": \"y\"}, {\"font\": {\"color\": \"green\", \"size\": 80}, \"showarrow\": false, \"text\": \"5\", \"x\": 0, \"xref\": \"x\", \"y\": 1, \"yref\": \"y\"}, {\"font\": {\"color\": \"green\", \"size\": 80}, \"showarrow\": false, \"text\": \"6\", \"x\": 1, \"xref\": \"x\", \"y\": 1, \"yref\": \"y\"}, {\"font\": {\"color\": \"green\", \"size\": 80}, \"showarrow\": false, \"text\": \"8\", \"x\": 2, \"xref\": \"x\", \"y\": 1, \"yref\": \"y\"}, {\"font\": {\"color\": \"green\", \"size\": 80}, \"showarrow\": false, \"text\": \"1\", \"x\": 0, \"xref\": \"x\", \"y\": 2, \"yref\": \"y\"}, {\"font\": {\"color\": \"green\", \"size\": 80}, \"showarrow\": false, \"text\": \"2\", \"x\": 1, \"xref\": \"x\", \"y\": 2, \"yref\": \"y\"}, {\"font\": {\"color\": \"green\", \"size\": 80}, \"showarrow\": false, \"text\": \"3\", \"x\": 2, \"xref\": \"x\", \"y\": 2, \"yref\": \"y\"}], \"height\": 700, \"width\": 600, \"xaxis\": {\"showticklabels\": false}, \"yaxis\": {\"showticklabels\": false}}, \"name\": \"20\"}, {\"data\": [{\"colorscale\": [[0.0, \"#000004\"], [0.1111111111111111, \"#180f3d\"], [0.2222222222222222, \"#440f76\"], [0.3333333333333333, \"#721f81\"], [0.4444444444444444, \"#9e2f7f\"], [0.5555555555555556, \"#cd4071\"], [0.6666666666666666, \"#f1605d\"], [0.7777777777777778, \"#fd9668\"], [0.8888888888888888, \"#feca8d\"], [1.0, \"#fcfdbf\"]], \"showscale\": false, \"x\": [0, 1, 2], \"xgap\": 5, \"y\": [0, 1, 2], \"ygap\": 5, \"z\": [[4, 7, 8], [5, 6, 0], [1, 2, 3]], \"type\": \"heatmap\"}], \"layout\": {\"annotations\": [{\"font\": {\"color\": \"green\", \"size\": 80}, \"showarrow\": false, \"text\": \"4\", \"x\": 0, \"xref\": \"x\", \"y\": 0, \"yref\": \"y\"}, {\"font\": {\"color\": \"green\", \"size\": 80}, \"showarrow\": false, \"text\": \"7\", \"x\": 1, \"xref\": \"x\", \"y\": 0, \"yref\": \"y\"}, {\"font\": {\"color\": \"green\", \"size\": 80}, \"showarrow\": false, \"text\": \"8\", \"x\": 2, \"xref\": \"x\", \"y\": 0, \"yref\": \"y\"}, {\"font\": {\"color\": \"green\", \"size\": 80}, \"showarrow\": false, \"text\": \"5\", \"x\": 0, \"xref\": \"x\", \"y\": 1, \"yref\": \"y\"}, {\"font\": {\"color\": \"green\", \"size\": 80}, \"showarrow\": false, \"text\": \"6\", \"x\": 1, \"xref\": \"x\", \"y\": 1, \"yref\": \"y\"}, {\"font\": {\"color\": \"green\", \"size\": 80}, \"showarrow\": false, \"text\": \"\", \"x\": 2, \"xref\": \"x\", \"y\": 1, \"yref\": \"y\"}, {\"font\": {\"color\": \"green\", \"size\": 80}, \"showarrow\": false, \"text\": \"1\", \"x\": 0, \"xref\": \"x\", \"y\": 2, \"yref\": \"y\"}, {\"font\": {\"color\": \"green\", \"size\": 80}, \"showarrow\": false, \"text\": \"2\", \"x\": 1, \"xref\": \"x\", \"y\": 2, \"yref\": \"y\"}, {\"font\": {\"color\": \"green\", \"size\": 80}, \"showarrow\": false, \"text\": \"3\", \"x\": 2, \"xref\": \"x\", \"y\": 2, \"yref\": \"y\"}], \"height\": 700, \"width\": 600, \"xaxis\": {\"showticklabels\": false}, \"yaxis\": {\"showticklabels\": false}}, \"name\": \"21\"}, {\"data\": [{\"colorscale\": [[0.0, \"#000004\"], [0.1111111111111111, \"#180f3d\"], [0.2222222222222222, \"#440f76\"], [0.3333333333333333, \"#721f81\"], [0.4444444444444444, \"#9e2f7f\"], [0.5555555555555556, \"#cd4071\"], [0.6666666666666666, \"#f1605d\"], [0.7777777777777778, \"#fd9668\"], [0.8888888888888888, \"#feca8d\"], [1.0, \"#fcfdbf\"]], \"showscale\": false, \"x\": [0, 1, 2], \"xgap\": 5, \"y\": [0, 1, 2], \"ygap\": 5, \"z\": [[4, 7, 8], [5, 0, 6], [1, 2, 3]], \"type\": \"heatmap\"}], \"layout\": {\"annotations\": [{\"font\": {\"color\": \"green\", \"size\": 80}, \"showarrow\": false, \"text\": \"4\", \"x\": 0, \"xref\": \"x\", \"y\": 0, \"yref\": \"y\"}, {\"font\": {\"color\": \"green\", \"size\": 80}, \"showarrow\": false, \"text\": \"7\", \"x\": 1, \"xref\": \"x\", \"y\": 0, \"yref\": \"y\"}, {\"font\": {\"color\": \"green\", \"size\": 80}, \"showarrow\": false, \"text\": \"8\", \"x\": 2, \"xref\": \"x\", \"y\": 0, \"yref\": \"y\"}, {\"font\": {\"color\": \"green\", \"size\": 80}, \"showarrow\": false, \"text\": \"5\", \"x\": 0, \"xref\": \"x\", \"y\": 1, \"yref\": \"y\"}, {\"font\": {\"color\": \"green\", \"size\": 80}, \"showarrow\": false, \"text\": \"\", \"x\": 1, \"xref\": \"x\", \"y\": 1, \"yref\": \"y\"}, {\"font\": {\"color\": \"green\", \"size\": 80}, \"showarrow\": false, \"text\": \"6\", \"x\": 2, \"xref\": \"x\", \"y\": 1, \"yref\": \"y\"}, {\"font\": {\"color\": \"green\", \"size\": 80}, \"showarrow\": false, \"text\": \"1\", \"x\": 0, \"xref\": \"x\", \"y\": 2, \"yref\": \"y\"}, {\"font\": {\"color\": \"green\", \"size\": 80}, \"showarrow\": false, \"text\": \"2\", \"x\": 1, \"xref\": \"x\", \"y\": 2, \"yref\": \"y\"}, {\"font\": {\"color\": \"green\", \"size\": 80}, \"showarrow\": false, \"text\": \"3\", \"x\": 2, \"xref\": \"x\", \"y\": 2, \"yref\": \"y\"}], \"height\": 700, \"width\": 600, \"xaxis\": {\"showticklabels\": false}, \"yaxis\": {\"showticklabels\": false}}, \"name\": \"22\"}, {\"data\": [{\"colorscale\": [[0.0, \"#000004\"], [0.1111111111111111, \"#180f3d\"], [0.2222222222222222, \"#440f76\"], [0.3333333333333333, \"#721f81\"], [0.4444444444444444, \"#9e2f7f\"], [0.5555555555555556, \"#cd4071\"], [0.6666666666666666, \"#f1605d\"], [0.7777777777777778, \"#fd9668\"], [0.8888888888888888, \"#feca8d\"], [1.0, \"#fcfdbf\"]], \"showscale\": false, \"x\": [0, 1, 2], \"xgap\": 5, \"y\": [0, 1, 2], \"ygap\": 5, \"z\": [[4, 7, 8], [0, 5, 6], [1, 2, 3]], \"type\": \"heatmap\"}], \"layout\": {\"annotations\": [{\"font\": {\"color\": \"green\", \"size\": 80}, \"showarrow\": false, \"text\": \"4\", \"x\": 0, \"xref\": \"x\", \"y\": 0, \"yref\": \"y\"}, {\"font\": {\"color\": \"green\", \"size\": 80}, \"showarrow\": false, \"text\": \"7\", \"x\": 1, \"xref\": \"x\", \"y\": 0, \"yref\": \"y\"}, {\"font\": {\"color\": \"green\", \"size\": 80}, \"showarrow\": false, \"text\": \"8\", \"x\": 2, \"xref\": \"x\", \"y\": 0, \"yref\": \"y\"}, {\"font\": {\"color\": \"green\", \"size\": 80}, \"showarrow\": false, \"text\": \"\", \"x\": 0, \"xref\": \"x\", \"y\": 1, \"yref\": \"y\"}, {\"font\": {\"color\": \"green\", \"size\": 80}, \"showarrow\": false, \"text\": \"5\", \"x\": 1, \"xref\": \"x\", \"y\": 1, \"yref\": \"y\"}, {\"font\": {\"color\": \"green\", \"size\": 80}, \"showarrow\": false, \"text\": \"6\", \"x\": 2, \"xref\": \"x\", \"y\": 1, \"yref\": \"y\"}, {\"font\": {\"color\": \"green\", \"size\": 80}, \"showarrow\": false, \"text\": \"1\", \"x\": 0, \"xref\": \"x\", \"y\": 2, \"yref\": \"y\"}, {\"font\": {\"color\": \"green\", \"size\": 80}, \"showarrow\": false, \"text\": \"2\", \"x\": 1, \"xref\": \"x\", \"y\": 2, \"yref\": \"y\"}, {\"font\": {\"color\": \"green\", \"size\": 80}, \"showarrow\": false, \"text\": \"3\", \"x\": 2, \"xref\": \"x\", \"y\": 2, \"yref\": \"y\"}], \"height\": 700, \"width\": 600, \"xaxis\": {\"showticklabels\": false}, \"yaxis\": {\"showticklabels\": false}}, \"name\": \"23\"}, {\"data\": [{\"colorscale\": [[0.0, \"#000004\"], [0.1111111111111111, \"#180f3d\"], [0.2222222222222222, \"#440f76\"], [0.3333333333333333, \"#721f81\"], [0.4444444444444444, \"#9e2f7f\"], [0.5555555555555556, \"#cd4071\"], [0.6666666666666666, \"#f1605d\"], [0.7777777777777778, \"#fd9668\"], [0.8888888888888888, \"#feca8d\"], [1.0, \"#fcfdbf\"]], \"showscale\": false, \"x\": [0, 1, 2], \"xgap\": 5, \"y\": [0, 1, 2], \"ygap\": 5, \"z\": [[0, 7, 8], [4, 5, 6], [1, 2, 3]], \"type\": \"heatmap\"}], \"layout\": {\"annotations\": [{\"font\": {\"color\": \"green\", \"size\": 80}, \"showarrow\": false, \"text\": \"\", \"x\": 0, \"xref\": \"x\", \"y\": 0, \"yref\": \"y\"}, {\"font\": {\"color\": \"green\", \"size\": 80}, \"showarrow\": false, \"text\": \"7\", \"x\": 1, \"xref\": \"x\", \"y\": 0, \"yref\": \"y\"}, {\"font\": {\"color\": \"green\", \"size\": 80}, \"showarrow\": false, \"text\": \"8\", \"x\": 2, \"xref\": \"x\", \"y\": 0, \"yref\": \"y\"}, {\"font\": {\"color\": \"green\", \"size\": 80}, \"showarrow\": false, \"text\": \"4\", \"x\": 0, \"xref\": \"x\", \"y\": 1, \"yref\": \"y\"}, {\"font\": {\"color\": \"green\", \"size\": 80}, \"showarrow\": false, \"text\": \"5\", \"x\": 1, \"xref\": \"x\", \"y\": 1, \"yref\": \"y\"}, {\"font\": {\"color\": \"green\", \"size\": 80}, \"showarrow\": false, \"text\": \"6\", \"x\": 2, \"xref\": \"x\", \"y\": 1, \"yref\": \"y\"}, {\"font\": {\"color\": \"green\", \"size\": 80}, \"showarrow\": false, \"text\": \"1\", \"x\": 0, \"xref\": \"x\", \"y\": 2, \"yref\": \"y\"}, {\"font\": {\"color\": \"green\", \"size\": 80}, \"showarrow\": false, \"text\": \"2\", \"x\": 1, \"xref\": \"x\", \"y\": 2, \"yref\": \"y\"}, {\"font\": {\"color\": \"green\", \"size\": 80}, \"showarrow\": false, \"text\": \"3\", \"x\": 2, \"xref\": \"x\", \"y\": 2, \"yref\": \"y\"}], \"height\": 700, \"width\": 600, \"xaxis\": {\"showticklabels\": false}, \"yaxis\": {\"showticklabels\": false}}, \"name\": \"24\"}, {\"data\": [{\"colorscale\": [[0.0, \"#000004\"], [0.1111111111111111, \"#180f3d\"], [0.2222222222222222, \"#440f76\"], [0.3333333333333333, \"#721f81\"], [0.4444444444444444, \"#9e2f7f\"], [0.5555555555555556, \"#cd4071\"], [0.6666666666666666, \"#f1605d\"], [0.7777777777777778, \"#fd9668\"], [0.8888888888888888, \"#feca8d\"], [1.0, \"#fcfdbf\"]], \"showscale\": false, \"x\": [0, 1, 2], \"xgap\": 5, \"y\": [0, 1, 2], \"ygap\": 5, \"z\": [[7, 0, 8], [4, 5, 6], [1, 2, 3]], \"type\": \"heatmap\"}], \"layout\": {\"annotations\": [{\"font\": {\"color\": \"green\", \"size\": 80}, \"showarrow\": false, \"text\": \"7\", \"x\": 0, \"xref\": \"x\", \"y\": 0, \"yref\": \"y\"}, {\"font\": {\"color\": \"green\", \"size\": 80}, \"showarrow\": false, \"text\": \"\", \"x\": 1, \"xref\": \"x\", \"y\": 0, \"yref\": \"y\"}, {\"font\": {\"color\": \"green\", \"size\": 80}, \"showarrow\": false, \"text\": \"8\", \"x\": 2, \"xref\": \"x\", \"y\": 0, \"yref\": \"y\"}, {\"font\": {\"color\": \"green\", \"size\": 80}, \"showarrow\": false, \"text\": \"4\", \"x\": 0, \"xref\": \"x\", \"y\": 1, \"yref\": \"y\"}, {\"font\": {\"color\": \"green\", \"size\": 80}, \"showarrow\": false, \"text\": \"5\", \"x\": 1, \"xref\": \"x\", \"y\": 1, \"yref\": \"y\"}, {\"font\": {\"color\": \"green\", \"size\": 80}, \"showarrow\": false, \"text\": \"6\", \"x\": 2, \"xref\": \"x\", \"y\": 1, \"yref\": \"y\"}, {\"font\": {\"color\": \"green\", \"size\": 80}, \"showarrow\": false, \"text\": \"1\", \"x\": 0, \"xref\": \"x\", \"y\": 2, \"yref\": \"y\"}, {\"font\": {\"color\": \"green\", \"size\": 80}, \"showarrow\": false, \"text\": \"2\", \"x\": 1, \"xref\": \"x\", \"y\": 2, \"yref\": \"y\"}, {\"font\": {\"color\": \"green\", \"size\": 80}, \"showarrow\": false, \"text\": \"3\", \"x\": 2, \"xref\": \"x\", \"y\": 2, \"yref\": \"y\"}], \"height\": 700, \"width\": 600, \"xaxis\": {\"showticklabels\": false}, \"yaxis\": {\"showticklabels\": false}}, \"name\": \"25\"}, {\"data\": [{\"colorscale\": [[0.0, \"#000004\"], [0.1111111111111111, \"#180f3d\"], [0.2222222222222222, \"#440f76\"], [0.3333333333333333, \"#721f81\"], [0.4444444444444444, \"#9e2f7f\"], [0.5555555555555556, \"#cd4071\"], [0.6666666666666666, \"#f1605d\"], [0.7777777777777778, \"#fd9668\"], [0.8888888888888888, \"#feca8d\"], [1.0, \"#fcfdbf\"]], \"showscale\": false, \"x\": [0, 1, 2], \"xgap\": 5, \"y\": [0, 1, 2], \"ygap\": 5, \"z\": [[7, 8, 0], [4, 5, 6], [1, 2, 3]], \"type\": \"heatmap\"}], \"layout\": {\"annotations\": [{\"font\": {\"color\": \"green\", \"size\": 80}, \"showarrow\": false, \"text\": \"7\", \"x\": 0, \"xref\": \"x\", \"y\": 0, \"yref\": \"y\"}, {\"font\": {\"color\": \"green\", \"size\": 80}, \"showarrow\": false, \"text\": \"8\", \"x\": 1, \"xref\": \"x\", \"y\": 0, \"yref\": \"y\"}, {\"font\": {\"color\": \"green\", \"size\": 80}, \"showarrow\": false, \"text\": \"\", \"x\": 2, \"xref\": \"x\", \"y\": 0, \"yref\": \"y\"}, {\"font\": {\"color\": \"green\", \"size\": 80}, \"showarrow\": false, \"text\": \"4\", \"x\": 0, \"xref\": \"x\", \"y\": 1, \"yref\": \"y\"}, {\"font\": {\"color\": \"green\", \"size\": 80}, \"showarrow\": false, \"text\": \"5\", \"x\": 1, \"xref\": \"x\", \"y\": 1, \"yref\": \"y\"}, {\"font\": {\"color\": \"green\", \"size\": 80}, \"showarrow\": false, \"text\": \"6\", \"x\": 2, \"xref\": \"x\", \"y\": 1, \"yref\": \"y\"}, {\"font\": {\"color\": \"green\", \"size\": 80}, \"showarrow\": false, \"text\": \"1\", \"x\": 0, \"xref\": \"x\", \"y\": 2, \"yref\": \"y\"}, {\"font\": {\"color\": \"green\", \"size\": 80}, \"showarrow\": false, \"text\": \"2\", \"x\": 1, \"xref\": \"x\", \"y\": 2, \"yref\": \"y\"}, {\"font\": {\"color\": \"green\", \"size\": 80}, \"showarrow\": false, \"text\": \"3\", \"x\": 2, \"xref\": \"x\", \"y\": 2, \"yref\": \"y\"}], \"height\": 700, \"width\": 600, \"xaxis\": {\"showticklabels\": false}, \"yaxis\": {\"showticklabels\": false}}, \"name\": \"26\"}]);\n",
       "                        }).then(function(){\n",
       "                            \n",
       "var gd = document.getElementById('c6f6546a-028c-4085-9d0e-43e7c1344ef8');\n",
       "var x = new MutationObserver(function (mutations, observer) {{\n",
       "        var display = window.getComputedStyle(gd).display;\n",
       "        if (!display || display === 'none') {{\n",
       "            console.log([gd, 'removed!']);\n",
       "            Plotly.purge(gd);\n",
       "            observer.disconnect();\n",
       "        }}\n",
       "}});\n",
       "\n",
       "// Listen for the removal of the full notebook cells\n",
       "var notebookContainer = gd.closest('#notebook-container');\n",
       "if (notebookContainer) {{\n",
       "    x.observe(notebookContainer, {childList: true});\n",
       "}}\n",
       "\n",
       "// Listen for the clearing of the current output cell\n",
       "var outputEl = gd.closest('.output');\n",
       "if (outputEl) {{\n",
       "    x.observe(outputEl, {childList: true});\n",
       "}}\n",
       "\n",
       "                        })                };                });            </script>        </div>"
      ]
     },
     "metadata": {},
     "output_type": "display_data"
    }
   ],
   "source": [
    "fig=animacion(l);\n",
    "fig.show()"
   ]
  },
  {
   "cell_type": "code",
   "execution_count": null,
   "metadata": {},
   "outputs": [
    {
     "data": {
      "application/vnd.plotly.v1+json": {
       "config": {
        "linkText": "Export to plot.ly",
        "plotlyServerURL": "https://plot.ly",
        "showLink": false
       },
       "data": [
        {
         "colorscale": [
          [
           0,
           "#000004"
          ],
          [
           0.1111111111111111,
           "#180f3d"
          ],
          [
           0.2222222222222222,
           "#440f76"
          ],
          [
           0.3333333333333333,
           "#721f81"
          ],
          [
           0.4444444444444444,
           "#9e2f7f"
          ],
          [
           0.5555555555555556,
           "#cd4071"
          ],
          [
           0.6666666666666666,
           "#f1605d"
          ],
          [
           0.7777777777777778,
           "#fd9668"
          ],
          [
           0.8888888888888888,
           "#feca8d"
          ],
          [
           1,
           "#fcfdbf"
          ]
         ],
         "showscale": false,
         "type": "heatmap",
         "x": [
          0,
          1,
          2
         ],
         "xgap": 5,
         "y": [
          0,
          1,
          2
         ],
         "ygap": 5,
         "z": [
          [
           6,
           5,
           7
          ],
          [
           3,
           0,
           2
          ],
          [
           1,
           8,
           4
          ]
         ]
        }
       ],
       "frames": [
        {
         "data": [
          {
           "colorscale": [
            [
             0,
             "#000004"
            ],
            [
             0.1111111111111111,
             "#180f3d"
            ],
            [
             0.2222222222222222,
             "#440f76"
            ],
            [
             0.3333333333333333,
             "#721f81"
            ],
            [
             0.4444444444444444,
             "#9e2f7f"
            ],
            [
             0.5555555555555556,
             "#cd4071"
            ],
            [
             0.6666666666666666,
             "#f1605d"
            ],
            [
             0.7777777777777778,
             "#fd9668"
            ],
            [
             0.8888888888888888,
             "#feca8d"
            ],
            [
             1,
             "#fcfdbf"
            ]
           ],
           "showscale": false,
           "type": "heatmap",
           "x": [
            0,
            1,
            2
           ],
           "xgap": 5,
           "y": [
            0,
            1,
            2
           ],
           "ygap": 5,
           "z": [
            [
             6,
             5,
             7
            ],
            [
             3,
             0,
             2
            ],
            [
             1,
             8,
             4
            ]
           ]
          }
         ],
         "layout": {
          "annotations": [
           {
            "font": {
             "color": "green",
             "size": 80
            },
            "showarrow": false,
            "text": "6",
            "x": 0,
            "xref": "x",
            "y": 0,
            "yref": "y"
           },
           {
            "font": {
             "color": "green",
             "size": 80
            },
            "showarrow": false,
            "text": "5",
            "x": 1,
            "xref": "x",
            "y": 0,
            "yref": "y"
           },
           {
            "font": {
             "color": "green",
             "size": 80
            },
            "showarrow": false,
            "text": "7",
            "x": 2,
            "xref": "x",
            "y": 0,
            "yref": "y"
           },
           {
            "font": {
             "color": "green",
             "size": 80
            },
            "showarrow": false,
            "text": "3",
            "x": 0,
            "xref": "x",
            "y": 1,
            "yref": "y"
           },
           {
            "font": {
             "color": "green",
             "size": 80
            },
            "showarrow": false,
            "text": "",
            "x": 1,
            "xref": "x",
            "y": 1,
            "yref": "y"
           },
           {
            "font": {
             "color": "green",
             "size": 80
            },
            "showarrow": false,
            "text": "2",
            "x": 2,
            "xref": "x",
            "y": 1,
            "yref": "y"
           },
           {
            "font": {
             "color": "green",
             "size": 80
            },
            "showarrow": false,
            "text": "1",
            "x": 0,
            "xref": "x",
            "y": 2,
            "yref": "y"
           },
           {
            "font": {
             "color": "green",
             "size": 80
            },
            "showarrow": false,
            "text": "8",
            "x": 1,
            "xref": "x",
            "y": 2,
            "yref": "y"
           },
           {
            "font": {
             "color": "green",
             "size": 80
            },
            "showarrow": false,
            "text": "4",
            "x": 2,
            "xref": "x",
            "y": 2,
            "yref": "y"
           }
          ],
          "height": 700,
          "width": 600,
          "xaxis": {
           "showticklabels": false
          },
          "yaxis": {
           "showticklabels": false
          }
         },
         "name": "0"
        },
        {
         "data": [
          {
           "colorscale": [
            [
             0,
             "#000004"
            ],
            [
             0.1111111111111111,
             "#180f3d"
            ],
            [
             0.2222222222222222,
             "#440f76"
            ],
            [
             0.3333333333333333,
             "#721f81"
            ],
            [
             0.4444444444444444,
             "#9e2f7f"
            ],
            [
             0.5555555555555556,
             "#cd4071"
            ],
            [
             0.6666666666666666,
             "#f1605d"
            ],
            [
             0.7777777777777778,
             "#fd9668"
            ],
            [
             0.8888888888888888,
             "#feca8d"
            ],
            [
             1,
             "#fcfdbf"
            ]
           ],
           "showscale": false,
           "type": "heatmap",
           "x": [
            0,
            1,
            2
           ],
           "xgap": 5,
           "y": [
            0,
            1,
            2
           ],
           "ygap": 5,
           "z": [
            [
             6,
             5,
             7
            ],
            [
             3,
             8,
             2
            ],
            [
             1,
             0,
             4
            ]
           ]
          }
         ],
         "layout": {
          "annotations": [
           {
            "font": {
             "color": "green",
             "size": 80
            },
            "showarrow": false,
            "text": "6",
            "x": 0,
            "xref": "x",
            "y": 0,
            "yref": "y"
           },
           {
            "font": {
             "color": "green",
             "size": 80
            },
            "showarrow": false,
            "text": "5",
            "x": 1,
            "xref": "x",
            "y": 0,
            "yref": "y"
           },
           {
            "font": {
             "color": "green",
             "size": 80
            },
            "showarrow": false,
            "text": "7",
            "x": 2,
            "xref": "x",
            "y": 0,
            "yref": "y"
           },
           {
            "font": {
             "color": "green",
             "size": 80
            },
            "showarrow": false,
            "text": "3",
            "x": 0,
            "xref": "x",
            "y": 1,
            "yref": "y"
           },
           {
            "font": {
             "color": "green",
             "size": 80
            },
            "showarrow": false,
            "text": "8",
            "x": 1,
            "xref": "x",
            "y": 1,
            "yref": "y"
           },
           {
            "font": {
             "color": "green",
             "size": 80
            },
            "showarrow": false,
            "text": "2",
            "x": 2,
            "xref": "x",
            "y": 1,
            "yref": "y"
           },
           {
            "font": {
             "color": "green",
             "size": 80
            },
            "showarrow": false,
            "text": "1",
            "x": 0,
            "xref": "x",
            "y": 2,
            "yref": "y"
           },
           {
            "font": {
             "color": "green",
             "size": 80
            },
            "showarrow": false,
            "text": "",
            "x": 1,
            "xref": "x",
            "y": 2,
            "yref": "y"
           },
           {
            "font": {
             "color": "green",
             "size": 80
            },
            "showarrow": false,
            "text": "4",
            "x": 2,
            "xref": "x",
            "y": 2,
            "yref": "y"
           }
          ],
          "height": 700,
          "width": 600,
          "xaxis": {
           "showticklabels": false
          },
          "yaxis": {
           "showticklabels": false
          }
         },
         "name": "1"
        },
        {
         "data": [
          {
           "colorscale": [
            [
             0,
             "#000004"
            ],
            [
             0.1111111111111111,
             "#180f3d"
            ],
            [
             0.2222222222222222,
             "#440f76"
            ],
            [
             0.3333333333333333,
             "#721f81"
            ],
            [
             0.4444444444444444,
             "#9e2f7f"
            ],
            [
             0.5555555555555556,
             "#cd4071"
            ],
            [
             0.6666666666666666,
             "#f1605d"
            ],
            [
             0.7777777777777778,
             "#fd9668"
            ],
            [
             0.8888888888888888,
             "#feca8d"
            ],
            [
             1,
             "#fcfdbf"
            ]
           ],
           "showscale": false,
           "type": "heatmap",
           "x": [
            0,
            1,
            2
           ],
           "xgap": 5,
           "y": [
            0,
            1,
            2
           ],
           "ygap": 5,
           "z": [
            [
             6,
             5,
             7
            ],
            [
             3,
             8,
             2
            ],
            [
             1,
             4,
             0
            ]
           ]
          }
         ],
         "layout": {
          "annotations": [
           {
            "font": {
             "color": "green",
             "size": 80
            },
            "showarrow": false,
            "text": "6",
            "x": 0,
            "xref": "x",
            "y": 0,
            "yref": "y"
           },
           {
            "font": {
             "color": "green",
             "size": 80
            },
            "showarrow": false,
            "text": "5",
            "x": 1,
            "xref": "x",
            "y": 0,
            "yref": "y"
           },
           {
            "font": {
             "color": "green",
             "size": 80
            },
            "showarrow": false,
            "text": "7",
            "x": 2,
            "xref": "x",
            "y": 0,
            "yref": "y"
           },
           {
            "font": {
             "color": "green",
             "size": 80
            },
            "showarrow": false,
            "text": "3",
            "x": 0,
            "xref": "x",
            "y": 1,
            "yref": "y"
           },
           {
            "font": {
             "color": "green",
             "size": 80
            },
            "showarrow": false,
            "text": "8",
            "x": 1,
            "xref": "x",
            "y": 1,
            "yref": "y"
           },
           {
            "font": {
             "color": "green",
             "size": 80
            },
            "showarrow": false,
            "text": "2",
            "x": 2,
            "xref": "x",
            "y": 1,
            "yref": "y"
           },
           {
            "font": {
             "color": "green",
             "size": 80
            },
            "showarrow": false,
            "text": "1",
            "x": 0,
            "xref": "x",
            "y": 2,
            "yref": "y"
           },
           {
            "font": {
             "color": "green",
             "size": 80
            },
            "showarrow": false,
            "text": "4",
            "x": 1,
            "xref": "x",
            "y": 2,
            "yref": "y"
           },
           {
            "font": {
             "color": "green",
             "size": 80
            },
            "showarrow": false,
            "text": "",
            "x": 2,
            "xref": "x",
            "y": 2,
            "yref": "y"
           }
          ],
          "height": 700,
          "width": 600,
          "xaxis": {
           "showticklabels": false
          },
          "yaxis": {
           "showticklabels": false
          }
         },
         "name": "2"
        },
        {
         "data": [
          {
           "colorscale": [
            [
             0,
             "#000004"
            ],
            [
             0.1111111111111111,
             "#180f3d"
            ],
            [
             0.2222222222222222,
             "#440f76"
            ],
            [
             0.3333333333333333,
             "#721f81"
            ],
            [
             0.4444444444444444,
             "#9e2f7f"
            ],
            [
             0.5555555555555556,
             "#cd4071"
            ],
            [
             0.6666666666666666,
             "#f1605d"
            ],
            [
             0.7777777777777778,
             "#fd9668"
            ],
            [
             0.8888888888888888,
             "#feca8d"
            ],
            [
             1,
             "#fcfdbf"
            ]
           ],
           "showscale": false,
           "type": "heatmap",
           "x": [
            0,
            1,
            2
           ],
           "xgap": 5,
           "y": [
            0,
            1,
            2
           ],
           "ygap": 5,
           "z": [
            [
             6,
             5,
             7
            ],
            [
             3,
             8,
             0
            ],
            [
             1,
             4,
             2
            ]
           ]
          }
         ],
         "layout": {
          "annotations": [
           {
            "font": {
             "color": "green",
             "size": 80
            },
            "showarrow": false,
            "text": "6",
            "x": 0,
            "xref": "x",
            "y": 0,
            "yref": "y"
           },
           {
            "font": {
             "color": "green",
             "size": 80
            },
            "showarrow": false,
            "text": "5",
            "x": 1,
            "xref": "x",
            "y": 0,
            "yref": "y"
           },
           {
            "font": {
             "color": "green",
             "size": 80
            },
            "showarrow": false,
            "text": "7",
            "x": 2,
            "xref": "x",
            "y": 0,
            "yref": "y"
           },
           {
            "font": {
             "color": "green",
             "size": 80
            },
            "showarrow": false,
            "text": "3",
            "x": 0,
            "xref": "x",
            "y": 1,
            "yref": "y"
           },
           {
            "font": {
             "color": "green",
             "size": 80
            },
            "showarrow": false,
            "text": "8",
            "x": 1,
            "xref": "x",
            "y": 1,
            "yref": "y"
           },
           {
            "font": {
             "color": "green",
             "size": 80
            },
            "showarrow": false,
            "text": "",
            "x": 2,
            "xref": "x",
            "y": 1,
            "yref": "y"
           },
           {
            "font": {
             "color": "green",
             "size": 80
            },
            "showarrow": false,
            "text": "1",
            "x": 0,
            "xref": "x",
            "y": 2,
            "yref": "y"
           },
           {
            "font": {
             "color": "green",
             "size": 80
            },
            "showarrow": false,
            "text": "4",
            "x": 1,
            "xref": "x",
            "y": 2,
            "yref": "y"
           },
           {
            "font": {
             "color": "green",
             "size": 80
            },
            "showarrow": false,
            "text": "2",
            "x": 2,
            "xref": "x",
            "y": 2,
            "yref": "y"
           }
          ],
          "height": 700,
          "width": 600,
          "xaxis": {
           "showticklabels": false
          },
          "yaxis": {
           "showticklabels": false
          }
         },
         "name": "3"
        },
        {
         "data": [
          {
           "colorscale": [
            [
             0,
             "#000004"
            ],
            [
             0.1111111111111111,
             "#180f3d"
            ],
            [
             0.2222222222222222,
             "#440f76"
            ],
            [
             0.3333333333333333,
             "#721f81"
            ],
            [
             0.4444444444444444,
             "#9e2f7f"
            ],
            [
             0.5555555555555556,
             "#cd4071"
            ],
            [
             0.6666666666666666,
             "#f1605d"
            ],
            [
             0.7777777777777778,
             "#fd9668"
            ],
            [
             0.8888888888888888,
             "#feca8d"
            ],
            [
             1,
             "#fcfdbf"
            ]
           ],
           "showscale": false,
           "type": "heatmap",
           "x": [
            0,
            1,
            2
           ],
           "xgap": 5,
           "y": [
            0,
            1,
            2
           ],
           "ygap": 5,
           "z": [
            [
             6,
             5,
             7
            ],
            [
             3,
             0,
             8
            ],
            [
             1,
             4,
             2
            ]
           ]
          }
         ],
         "layout": {
          "annotations": [
           {
            "font": {
             "color": "green",
             "size": 80
            },
            "showarrow": false,
            "text": "6",
            "x": 0,
            "xref": "x",
            "y": 0,
            "yref": "y"
           },
           {
            "font": {
             "color": "green",
             "size": 80
            },
            "showarrow": false,
            "text": "5",
            "x": 1,
            "xref": "x",
            "y": 0,
            "yref": "y"
           },
           {
            "font": {
             "color": "green",
             "size": 80
            },
            "showarrow": false,
            "text": "7",
            "x": 2,
            "xref": "x",
            "y": 0,
            "yref": "y"
           },
           {
            "font": {
             "color": "green",
             "size": 80
            },
            "showarrow": false,
            "text": "3",
            "x": 0,
            "xref": "x",
            "y": 1,
            "yref": "y"
           },
           {
            "font": {
             "color": "green",
             "size": 80
            },
            "showarrow": false,
            "text": "",
            "x": 1,
            "xref": "x",
            "y": 1,
            "yref": "y"
           },
           {
            "font": {
             "color": "green",
             "size": 80
            },
            "showarrow": false,
            "text": "8",
            "x": 2,
            "xref": "x",
            "y": 1,
            "yref": "y"
           },
           {
            "font": {
             "color": "green",
             "size": 80
            },
            "showarrow": false,
            "text": "1",
            "x": 0,
            "xref": "x",
            "y": 2,
            "yref": "y"
           },
           {
            "font": {
             "color": "green",
             "size": 80
            },
            "showarrow": false,
            "text": "4",
            "x": 1,
            "xref": "x",
            "y": 2,
            "yref": "y"
           },
           {
            "font": {
             "color": "green",
             "size": 80
            },
            "showarrow": false,
            "text": "2",
            "x": 2,
            "xref": "x",
            "y": 2,
            "yref": "y"
           }
          ],
          "height": 700,
          "width": 600,
          "xaxis": {
           "showticklabels": false
          },
          "yaxis": {
           "showticklabels": false
          }
         },
         "name": "4"
        },
        {
         "data": [
          {
           "colorscale": [
            [
             0,
             "#000004"
            ],
            [
             0.1111111111111111,
             "#180f3d"
            ],
            [
             0.2222222222222222,
             "#440f76"
            ],
            [
             0.3333333333333333,
             "#721f81"
            ],
            [
             0.4444444444444444,
             "#9e2f7f"
            ],
            [
             0.5555555555555556,
             "#cd4071"
            ],
            [
             0.6666666666666666,
             "#f1605d"
            ],
            [
             0.7777777777777778,
             "#fd9668"
            ],
            [
             0.8888888888888888,
             "#feca8d"
            ],
            [
             1,
             "#fcfdbf"
            ]
           ],
           "showscale": false,
           "type": "heatmap",
           "x": [
            0,
            1,
            2
           ],
           "xgap": 5,
           "y": [
            0,
            1,
            2
           ],
           "ygap": 5,
           "z": [
            [
             6,
             5,
             7
            ],
            [
             0,
             3,
             8
            ],
            [
             1,
             4,
             2
            ]
           ]
          }
         ],
         "layout": {
          "annotations": [
           {
            "font": {
             "color": "green",
             "size": 80
            },
            "showarrow": false,
            "text": "6",
            "x": 0,
            "xref": "x",
            "y": 0,
            "yref": "y"
           },
           {
            "font": {
             "color": "green",
             "size": 80
            },
            "showarrow": false,
            "text": "5",
            "x": 1,
            "xref": "x",
            "y": 0,
            "yref": "y"
           },
           {
            "font": {
             "color": "green",
             "size": 80
            },
            "showarrow": false,
            "text": "7",
            "x": 2,
            "xref": "x",
            "y": 0,
            "yref": "y"
           },
           {
            "font": {
             "color": "green",
             "size": 80
            },
            "showarrow": false,
            "text": "",
            "x": 0,
            "xref": "x",
            "y": 1,
            "yref": "y"
           },
           {
            "font": {
             "color": "green",
             "size": 80
            },
            "showarrow": false,
            "text": "3",
            "x": 1,
            "xref": "x",
            "y": 1,
            "yref": "y"
           },
           {
            "font": {
             "color": "green",
             "size": 80
            },
            "showarrow": false,
            "text": "8",
            "x": 2,
            "xref": "x",
            "y": 1,
            "yref": "y"
           },
           {
            "font": {
             "color": "green",
             "size": 80
            },
            "showarrow": false,
            "text": "1",
            "x": 0,
            "xref": "x",
            "y": 2,
            "yref": "y"
           },
           {
            "font": {
             "color": "green",
             "size": 80
            },
            "showarrow": false,
            "text": "4",
            "x": 1,
            "xref": "x",
            "y": 2,
            "yref": "y"
           },
           {
            "font": {
             "color": "green",
             "size": 80
            },
            "showarrow": false,
            "text": "2",
            "x": 2,
            "xref": "x",
            "y": 2,
            "yref": "y"
           }
          ],
          "height": 700,
          "width": 600,
          "xaxis": {
           "showticklabels": false
          },
          "yaxis": {
           "showticklabels": false
          }
         },
         "name": "5"
        },
        {
         "data": [
          {
           "colorscale": [
            [
             0,
             "#000004"
            ],
            [
             0.1111111111111111,
             "#180f3d"
            ],
            [
             0.2222222222222222,
             "#440f76"
            ],
            [
             0.3333333333333333,
             "#721f81"
            ],
            [
             0.4444444444444444,
             "#9e2f7f"
            ],
            [
             0.5555555555555556,
             "#cd4071"
            ],
            [
             0.6666666666666666,
             "#f1605d"
            ],
            [
             0.7777777777777778,
             "#fd9668"
            ],
            [
             0.8888888888888888,
             "#feca8d"
            ],
            [
             1,
             "#fcfdbf"
            ]
           ],
           "showscale": false,
           "type": "heatmap",
           "x": [
            0,
            1,
            2
           ],
           "xgap": 5,
           "y": [
            0,
            1,
            2
           ],
           "ygap": 5,
           "z": [
            [
             0,
             5,
             7
            ],
            [
             6,
             3,
             8
            ],
            [
             1,
             4,
             2
            ]
           ]
          }
         ],
         "layout": {
          "annotations": [
           {
            "font": {
             "color": "green",
             "size": 80
            },
            "showarrow": false,
            "text": "",
            "x": 0,
            "xref": "x",
            "y": 0,
            "yref": "y"
           },
           {
            "font": {
             "color": "green",
             "size": 80
            },
            "showarrow": false,
            "text": "5",
            "x": 1,
            "xref": "x",
            "y": 0,
            "yref": "y"
           },
           {
            "font": {
             "color": "green",
             "size": 80
            },
            "showarrow": false,
            "text": "7",
            "x": 2,
            "xref": "x",
            "y": 0,
            "yref": "y"
           },
           {
            "font": {
             "color": "green",
             "size": 80
            },
            "showarrow": false,
            "text": "6",
            "x": 0,
            "xref": "x",
            "y": 1,
            "yref": "y"
           },
           {
            "font": {
             "color": "green",
             "size": 80
            },
            "showarrow": false,
            "text": "3",
            "x": 1,
            "xref": "x",
            "y": 1,
            "yref": "y"
           },
           {
            "font": {
             "color": "green",
             "size": 80
            },
            "showarrow": false,
            "text": "8",
            "x": 2,
            "xref": "x",
            "y": 1,
            "yref": "y"
           },
           {
            "font": {
             "color": "green",
             "size": 80
            },
            "showarrow": false,
            "text": "1",
            "x": 0,
            "xref": "x",
            "y": 2,
            "yref": "y"
           },
           {
            "font": {
             "color": "green",
             "size": 80
            },
            "showarrow": false,
            "text": "4",
            "x": 1,
            "xref": "x",
            "y": 2,
            "yref": "y"
           },
           {
            "font": {
             "color": "green",
             "size": 80
            },
            "showarrow": false,
            "text": "2",
            "x": 2,
            "xref": "x",
            "y": 2,
            "yref": "y"
           }
          ],
          "height": 700,
          "width": 600,
          "xaxis": {
           "showticklabels": false
          },
          "yaxis": {
           "showticklabels": false
          }
         },
         "name": "6"
        },
        {
         "data": [
          {
           "colorscale": [
            [
             0,
             "#000004"
            ],
            [
             0.1111111111111111,
             "#180f3d"
            ],
            [
             0.2222222222222222,
             "#440f76"
            ],
            [
             0.3333333333333333,
             "#721f81"
            ],
            [
             0.4444444444444444,
             "#9e2f7f"
            ],
            [
             0.5555555555555556,
             "#cd4071"
            ],
            [
             0.6666666666666666,
             "#f1605d"
            ],
            [
             0.7777777777777778,
             "#fd9668"
            ],
            [
             0.8888888888888888,
             "#feca8d"
            ],
            [
             1,
             "#fcfdbf"
            ]
           ],
           "showscale": false,
           "type": "heatmap",
           "x": [
            0,
            1,
            2
           ],
           "xgap": 5,
           "y": [
            0,
            1,
            2
           ],
           "ygap": 5,
           "z": [
            [
             5,
             0,
             7
            ],
            [
             6,
             3,
             8
            ],
            [
             1,
             4,
             2
            ]
           ]
          }
         ],
         "layout": {
          "annotations": [
           {
            "font": {
             "color": "green",
             "size": 80
            },
            "showarrow": false,
            "text": "5",
            "x": 0,
            "xref": "x",
            "y": 0,
            "yref": "y"
           },
           {
            "font": {
             "color": "green",
             "size": 80
            },
            "showarrow": false,
            "text": "",
            "x": 1,
            "xref": "x",
            "y": 0,
            "yref": "y"
           },
           {
            "font": {
             "color": "green",
             "size": 80
            },
            "showarrow": false,
            "text": "7",
            "x": 2,
            "xref": "x",
            "y": 0,
            "yref": "y"
           },
           {
            "font": {
             "color": "green",
             "size": 80
            },
            "showarrow": false,
            "text": "6",
            "x": 0,
            "xref": "x",
            "y": 1,
            "yref": "y"
           },
           {
            "font": {
             "color": "green",
             "size": 80
            },
            "showarrow": false,
            "text": "3",
            "x": 1,
            "xref": "x",
            "y": 1,
            "yref": "y"
           },
           {
            "font": {
             "color": "green",
             "size": 80
            },
            "showarrow": false,
            "text": "8",
            "x": 2,
            "xref": "x",
            "y": 1,
            "yref": "y"
           },
           {
            "font": {
             "color": "green",
             "size": 80
            },
            "showarrow": false,
            "text": "1",
            "x": 0,
            "xref": "x",
            "y": 2,
            "yref": "y"
           },
           {
            "font": {
             "color": "green",
             "size": 80
            },
            "showarrow": false,
            "text": "4",
            "x": 1,
            "xref": "x",
            "y": 2,
            "yref": "y"
           },
           {
            "font": {
             "color": "green",
             "size": 80
            },
            "showarrow": false,
            "text": "2",
            "x": 2,
            "xref": "x",
            "y": 2,
            "yref": "y"
           }
          ],
          "height": 700,
          "width": 600,
          "xaxis": {
           "showticklabels": false
          },
          "yaxis": {
           "showticklabels": false
          }
         },
         "name": "7"
        },
        {
         "data": [
          {
           "colorscale": [
            [
             0,
             "#000004"
            ],
            [
             0.1111111111111111,
             "#180f3d"
            ],
            [
             0.2222222222222222,
             "#440f76"
            ],
            [
             0.3333333333333333,
             "#721f81"
            ],
            [
             0.4444444444444444,
             "#9e2f7f"
            ],
            [
             0.5555555555555556,
             "#cd4071"
            ],
            [
             0.6666666666666666,
             "#f1605d"
            ],
            [
             0.7777777777777778,
             "#fd9668"
            ],
            [
             0.8888888888888888,
             "#feca8d"
            ],
            [
             1,
             "#fcfdbf"
            ]
           ],
           "showscale": false,
           "type": "heatmap",
           "x": [
            0,
            1,
            2
           ],
           "xgap": 5,
           "y": [
            0,
            1,
            2
           ],
           "ygap": 5,
           "z": [
            [
             5,
             7,
             0
            ],
            [
             6,
             3,
             8
            ],
            [
             1,
             4,
             2
            ]
           ]
          }
         ],
         "layout": {
          "annotations": [
           {
            "font": {
             "color": "green",
             "size": 80
            },
            "showarrow": false,
            "text": "5",
            "x": 0,
            "xref": "x",
            "y": 0,
            "yref": "y"
           },
           {
            "font": {
             "color": "green",
             "size": 80
            },
            "showarrow": false,
            "text": "7",
            "x": 1,
            "xref": "x",
            "y": 0,
            "yref": "y"
           },
           {
            "font": {
             "color": "green",
             "size": 80
            },
            "showarrow": false,
            "text": "",
            "x": 2,
            "xref": "x",
            "y": 0,
            "yref": "y"
           },
           {
            "font": {
             "color": "green",
             "size": 80
            },
            "showarrow": false,
            "text": "6",
            "x": 0,
            "xref": "x",
            "y": 1,
            "yref": "y"
           },
           {
            "font": {
             "color": "green",
             "size": 80
            },
            "showarrow": false,
            "text": "3",
            "x": 1,
            "xref": "x",
            "y": 1,
            "yref": "y"
           },
           {
            "font": {
             "color": "green",
             "size": 80
            },
            "showarrow": false,
            "text": "8",
            "x": 2,
            "xref": "x",
            "y": 1,
            "yref": "y"
           },
           {
            "font": {
             "color": "green",
             "size": 80
            },
            "showarrow": false,
            "text": "1",
            "x": 0,
            "xref": "x",
            "y": 2,
            "yref": "y"
           },
           {
            "font": {
             "color": "green",
             "size": 80
            },
            "showarrow": false,
            "text": "4",
            "x": 1,
            "xref": "x",
            "y": 2,
            "yref": "y"
           },
           {
            "font": {
             "color": "green",
             "size": 80
            },
            "showarrow": false,
            "text": "2",
            "x": 2,
            "xref": "x",
            "y": 2,
            "yref": "y"
           }
          ],
          "height": 700,
          "width": 600,
          "xaxis": {
           "showticklabels": false
          },
          "yaxis": {
           "showticklabels": false
          }
         },
         "name": "8"
        },
        {
         "data": [
          {
           "colorscale": [
            [
             0,
             "#000004"
            ],
            [
             0.1111111111111111,
             "#180f3d"
            ],
            [
             0.2222222222222222,
             "#440f76"
            ],
            [
             0.3333333333333333,
             "#721f81"
            ],
            [
             0.4444444444444444,
             "#9e2f7f"
            ],
            [
             0.5555555555555556,
             "#cd4071"
            ],
            [
             0.6666666666666666,
             "#f1605d"
            ],
            [
             0.7777777777777778,
             "#fd9668"
            ],
            [
             0.8888888888888888,
             "#feca8d"
            ],
            [
             1,
             "#fcfdbf"
            ]
           ],
           "showscale": false,
           "type": "heatmap",
           "x": [
            0,
            1,
            2
           ],
           "xgap": 5,
           "y": [
            0,
            1,
            2
           ],
           "ygap": 5,
           "z": [
            [
             5,
             7,
             8
            ],
            [
             6,
             3,
             0
            ],
            [
             1,
             4,
             2
            ]
           ]
          }
         ],
         "layout": {
          "annotations": [
           {
            "font": {
             "color": "green",
             "size": 80
            },
            "showarrow": false,
            "text": "5",
            "x": 0,
            "xref": "x",
            "y": 0,
            "yref": "y"
           },
           {
            "font": {
             "color": "green",
             "size": 80
            },
            "showarrow": false,
            "text": "7",
            "x": 1,
            "xref": "x",
            "y": 0,
            "yref": "y"
           },
           {
            "font": {
             "color": "green",
             "size": 80
            },
            "showarrow": false,
            "text": "8",
            "x": 2,
            "xref": "x",
            "y": 0,
            "yref": "y"
           },
           {
            "font": {
             "color": "green",
             "size": 80
            },
            "showarrow": false,
            "text": "6",
            "x": 0,
            "xref": "x",
            "y": 1,
            "yref": "y"
           },
           {
            "font": {
             "color": "green",
             "size": 80
            },
            "showarrow": false,
            "text": "3",
            "x": 1,
            "xref": "x",
            "y": 1,
            "yref": "y"
           },
           {
            "font": {
             "color": "green",
             "size": 80
            },
            "showarrow": false,
            "text": "",
            "x": 2,
            "xref": "x",
            "y": 1,
            "yref": "y"
           },
           {
            "font": {
             "color": "green",
             "size": 80
            },
            "showarrow": false,
            "text": "1",
            "x": 0,
            "xref": "x",
            "y": 2,
            "yref": "y"
           },
           {
            "font": {
             "color": "green",
             "size": 80
            },
            "showarrow": false,
            "text": "4",
            "x": 1,
            "xref": "x",
            "y": 2,
            "yref": "y"
           },
           {
            "font": {
             "color": "green",
             "size": 80
            },
            "showarrow": false,
            "text": "2",
            "x": 2,
            "xref": "x",
            "y": 2,
            "yref": "y"
           }
          ],
          "height": 700,
          "width": 600,
          "xaxis": {
           "showticklabels": false
          },
          "yaxis": {
           "showticklabels": false
          }
         },
         "name": "9"
        },
        {
         "data": [
          {
           "colorscale": [
            [
             0,
             "#000004"
            ],
            [
             0.1111111111111111,
             "#180f3d"
            ],
            [
             0.2222222222222222,
             "#440f76"
            ],
            [
             0.3333333333333333,
             "#721f81"
            ],
            [
             0.4444444444444444,
             "#9e2f7f"
            ],
            [
             0.5555555555555556,
             "#cd4071"
            ],
            [
             0.6666666666666666,
             "#f1605d"
            ],
            [
             0.7777777777777778,
             "#fd9668"
            ],
            [
             0.8888888888888888,
             "#feca8d"
            ],
            [
             1,
             "#fcfdbf"
            ]
           ],
           "showscale": false,
           "type": "heatmap",
           "x": [
            0,
            1,
            2
           ],
           "xgap": 5,
           "y": [
            0,
            1,
            2
           ],
           "ygap": 5,
           "z": [
            [
             5,
             7,
             8
            ],
            [
             6,
             0,
             3
            ],
            [
             1,
             4,
             2
            ]
           ]
          }
         ],
         "layout": {
          "annotations": [
           {
            "font": {
             "color": "green",
             "size": 80
            },
            "showarrow": false,
            "text": "5",
            "x": 0,
            "xref": "x",
            "y": 0,
            "yref": "y"
           },
           {
            "font": {
             "color": "green",
             "size": 80
            },
            "showarrow": false,
            "text": "7",
            "x": 1,
            "xref": "x",
            "y": 0,
            "yref": "y"
           },
           {
            "font": {
             "color": "green",
             "size": 80
            },
            "showarrow": false,
            "text": "8",
            "x": 2,
            "xref": "x",
            "y": 0,
            "yref": "y"
           },
           {
            "font": {
             "color": "green",
             "size": 80
            },
            "showarrow": false,
            "text": "6",
            "x": 0,
            "xref": "x",
            "y": 1,
            "yref": "y"
           },
           {
            "font": {
             "color": "green",
             "size": 80
            },
            "showarrow": false,
            "text": "",
            "x": 1,
            "xref": "x",
            "y": 1,
            "yref": "y"
           },
           {
            "font": {
             "color": "green",
             "size": 80
            },
            "showarrow": false,
            "text": "3",
            "x": 2,
            "xref": "x",
            "y": 1,
            "yref": "y"
           },
           {
            "font": {
             "color": "green",
             "size": 80
            },
            "showarrow": false,
            "text": "1",
            "x": 0,
            "xref": "x",
            "y": 2,
            "yref": "y"
           },
           {
            "font": {
             "color": "green",
             "size": 80
            },
            "showarrow": false,
            "text": "4",
            "x": 1,
            "xref": "x",
            "y": 2,
            "yref": "y"
           },
           {
            "font": {
             "color": "green",
             "size": 80
            },
            "showarrow": false,
            "text": "2",
            "x": 2,
            "xref": "x",
            "y": 2,
            "yref": "y"
           }
          ],
          "height": 700,
          "width": 600,
          "xaxis": {
           "showticklabels": false
          },
          "yaxis": {
           "showticklabels": false
          }
         },
         "name": "10"
        },
        {
         "data": [
          {
           "colorscale": [
            [
             0,
             "#000004"
            ],
            [
             0.1111111111111111,
             "#180f3d"
            ],
            [
             0.2222222222222222,
             "#440f76"
            ],
            [
             0.3333333333333333,
             "#721f81"
            ],
            [
             0.4444444444444444,
             "#9e2f7f"
            ],
            [
             0.5555555555555556,
             "#cd4071"
            ],
            [
             0.6666666666666666,
             "#f1605d"
            ],
            [
             0.7777777777777778,
             "#fd9668"
            ],
            [
             0.8888888888888888,
             "#feca8d"
            ],
            [
             1,
             "#fcfdbf"
            ]
           ],
           "showscale": false,
           "type": "heatmap",
           "x": [
            0,
            1,
            2
           ],
           "xgap": 5,
           "y": [
            0,
            1,
            2
           ],
           "ygap": 5,
           "z": [
            [
             5,
             7,
             8
            ],
            [
             6,
             4,
             3
            ],
            [
             1,
             0,
             2
            ]
           ]
          }
         ],
         "layout": {
          "annotations": [
           {
            "font": {
             "color": "green",
             "size": 80
            },
            "showarrow": false,
            "text": "5",
            "x": 0,
            "xref": "x",
            "y": 0,
            "yref": "y"
           },
           {
            "font": {
             "color": "green",
             "size": 80
            },
            "showarrow": false,
            "text": "7",
            "x": 1,
            "xref": "x",
            "y": 0,
            "yref": "y"
           },
           {
            "font": {
             "color": "green",
             "size": 80
            },
            "showarrow": false,
            "text": "8",
            "x": 2,
            "xref": "x",
            "y": 0,
            "yref": "y"
           },
           {
            "font": {
             "color": "green",
             "size": 80
            },
            "showarrow": false,
            "text": "6",
            "x": 0,
            "xref": "x",
            "y": 1,
            "yref": "y"
           },
           {
            "font": {
             "color": "green",
             "size": 80
            },
            "showarrow": false,
            "text": "4",
            "x": 1,
            "xref": "x",
            "y": 1,
            "yref": "y"
           },
           {
            "font": {
             "color": "green",
             "size": 80
            },
            "showarrow": false,
            "text": "3",
            "x": 2,
            "xref": "x",
            "y": 1,
            "yref": "y"
           },
           {
            "font": {
             "color": "green",
             "size": 80
            },
            "showarrow": false,
            "text": "1",
            "x": 0,
            "xref": "x",
            "y": 2,
            "yref": "y"
           },
           {
            "font": {
             "color": "green",
             "size": 80
            },
            "showarrow": false,
            "text": "",
            "x": 1,
            "xref": "x",
            "y": 2,
            "yref": "y"
           },
           {
            "font": {
             "color": "green",
             "size": 80
            },
            "showarrow": false,
            "text": "2",
            "x": 2,
            "xref": "x",
            "y": 2,
            "yref": "y"
           }
          ],
          "height": 700,
          "width": 600,
          "xaxis": {
           "showticklabels": false
          },
          "yaxis": {
           "showticklabels": false
          }
         },
         "name": "11"
        },
        {
         "data": [
          {
           "colorscale": [
            [
             0,
             "#000004"
            ],
            [
             0.1111111111111111,
             "#180f3d"
            ],
            [
             0.2222222222222222,
             "#440f76"
            ],
            [
             0.3333333333333333,
             "#721f81"
            ],
            [
             0.4444444444444444,
             "#9e2f7f"
            ],
            [
             0.5555555555555556,
             "#cd4071"
            ],
            [
             0.6666666666666666,
             "#f1605d"
            ],
            [
             0.7777777777777778,
             "#fd9668"
            ],
            [
             0.8888888888888888,
             "#feca8d"
            ],
            [
             1,
             "#fcfdbf"
            ]
           ],
           "showscale": false,
           "type": "heatmap",
           "x": [
            0,
            1,
            2
           ],
           "xgap": 5,
           "y": [
            0,
            1,
            2
           ],
           "ygap": 5,
           "z": [
            [
             5,
             7,
             8
            ],
            [
             6,
             4,
             3
            ],
            [
             1,
             2,
             0
            ]
           ]
          }
         ],
         "layout": {
          "annotations": [
           {
            "font": {
             "color": "green",
             "size": 80
            },
            "showarrow": false,
            "text": "5",
            "x": 0,
            "xref": "x",
            "y": 0,
            "yref": "y"
           },
           {
            "font": {
             "color": "green",
             "size": 80
            },
            "showarrow": false,
            "text": "7",
            "x": 1,
            "xref": "x",
            "y": 0,
            "yref": "y"
           },
           {
            "font": {
             "color": "green",
             "size": 80
            },
            "showarrow": false,
            "text": "8",
            "x": 2,
            "xref": "x",
            "y": 0,
            "yref": "y"
           },
           {
            "font": {
             "color": "green",
             "size": 80
            },
            "showarrow": false,
            "text": "6",
            "x": 0,
            "xref": "x",
            "y": 1,
            "yref": "y"
           },
           {
            "font": {
             "color": "green",
             "size": 80
            },
            "showarrow": false,
            "text": "4",
            "x": 1,
            "xref": "x",
            "y": 1,
            "yref": "y"
           },
           {
            "font": {
             "color": "green",
             "size": 80
            },
            "showarrow": false,
            "text": "3",
            "x": 2,
            "xref": "x",
            "y": 1,
            "yref": "y"
           },
           {
            "font": {
             "color": "green",
             "size": 80
            },
            "showarrow": false,
            "text": "1",
            "x": 0,
            "xref": "x",
            "y": 2,
            "yref": "y"
           },
           {
            "font": {
             "color": "green",
             "size": 80
            },
            "showarrow": false,
            "text": "2",
            "x": 1,
            "xref": "x",
            "y": 2,
            "yref": "y"
           },
           {
            "font": {
             "color": "green",
             "size": 80
            },
            "showarrow": false,
            "text": "",
            "x": 2,
            "xref": "x",
            "y": 2,
            "yref": "y"
           }
          ],
          "height": 700,
          "width": 600,
          "xaxis": {
           "showticklabels": false
          },
          "yaxis": {
           "showticklabels": false
          }
         },
         "name": "12"
        },
        {
         "data": [
          {
           "colorscale": [
            [
             0,
             "#000004"
            ],
            [
             0.1111111111111111,
             "#180f3d"
            ],
            [
             0.2222222222222222,
             "#440f76"
            ],
            [
             0.3333333333333333,
             "#721f81"
            ],
            [
             0.4444444444444444,
             "#9e2f7f"
            ],
            [
             0.5555555555555556,
             "#cd4071"
            ],
            [
             0.6666666666666666,
             "#f1605d"
            ],
            [
             0.7777777777777778,
             "#fd9668"
            ],
            [
             0.8888888888888888,
             "#feca8d"
            ],
            [
             1,
             "#fcfdbf"
            ]
           ],
           "showscale": false,
           "type": "heatmap",
           "x": [
            0,
            1,
            2
           ],
           "xgap": 5,
           "y": [
            0,
            1,
            2
           ],
           "ygap": 5,
           "z": [
            [
             5,
             7,
             8
            ],
            [
             6,
             4,
             0
            ],
            [
             1,
             2,
             3
            ]
           ]
          }
         ],
         "layout": {
          "annotations": [
           {
            "font": {
             "color": "green",
             "size": 80
            },
            "showarrow": false,
            "text": "5",
            "x": 0,
            "xref": "x",
            "y": 0,
            "yref": "y"
           },
           {
            "font": {
             "color": "green",
             "size": 80
            },
            "showarrow": false,
            "text": "7",
            "x": 1,
            "xref": "x",
            "y": 0,
            "yref": "y"
           },
           {
            "font": {
             "color": "green",
             "size": 80
            },
            "showarrow": false,
            "text": "8",
            "x": 2,
            "xref": "x",
            "y": 0,
            "yref": "y"
           },
           {
            "font": {
             "color": "green",
             "size": 80
            },
            "showarrow": false,
            "text": "6",
            "x": 0,
            "xref": "x",
            "y": 1,
            "yref": "y"
           },
           {
            "font": {
             "color": "green",
             "size": 80
            },
            "showarrow": false,
            "text": "4",
            "x": 1,
            "xref": "x",
            "y": 1,
            "yref": "y"
           },
           {
            "font": {
             "color": "green",
             "size": 80
            },
            "showarrow": false,
            "text": "",
            "x": 2,
            "xref": "x",
            "y": 1,
            "yref": "y"
           },
           {
            "font": {
             "color": "green",
             "size": 80
            },
            "showarrow": false,
            "text": "1",
            "x": 0,
            "xref": "x",
            "y": 2,
            "yref": "y"
           },
           {
            "font": {
             "color": "green",
             "size": 80
            },
            "showarrow": false,
            "text": "2",
            "x": 1,
            "xref": "x",
            "y": 2,
            "yref": "y"
           },
           {
            "font": {
             "color": "green",
             "size": 80
            },
            "showarrow": false,
            "text": "3",
            "x": 2,
            "xref": "x",
            "y": 2,
            "yref": "y"
           }
          ],
          "height": 700,
          "width": 600,
          "xaxis": {
           "showticklabels": false
          },
          "yaxis": {
           "showticklabels": false
          }
         },
         "name": "13"
        },
        {
         "data": [
          {
           "colorscale": [
            [
             0,
             "#000004"
            ],
            [
             0.1111111111111111,
             "#180f3d"
            ],
            [
             0.2222222222222222,
             "#440f76"
            ],
            [
             0.3333333333333333,
             "#721f81"
            ],
            [
             0.4444444444444444,
             "#9e2f7f"
            ],
            [
             0.5555555555555556,
             "#cd4071"
            ],
            [
             0.6666666666666666,
             "#f1605d"
            ],
            [
             0.7777777777777778,
             "#fd9668"
            ],
            [
             0.8888888888888888,
             "#feca8d"
            ],
            [
             1,
             "#fcfdbf"
            ]
           ],
           "showscale": false,
           "type": "heatmap",
           "x": [
            0,
            1,
            2
           ],
           "xgap": 5,
           "y": [
            0,
            1,
            2
           ],
           "ygap": 5,
           "z": [
            [
             5,
             7,
             0
            ],
            [
             6,
             4,
             8
            ],
            [
             1,
             2,
             3
            ]
           ]
          }
         ],
         "layout": {
          "annotations": [
           {
            "font": {
             "color": "green",
             "size": 80
            },
            "showarrow": false,
            "text": "5",
            "x": 0,
            "xref": "x",
            "y": 0,
            "yref": "y"
           },
           {
            "font": {
             "color": "green",
             "size": 80
            },
            "showarrow": false,
            "text": "7",
            "x": 1,
            "xref": "x",
            "y": 0,
            "yref": "y"
           },
           {
            "font": {
             "color": "green",
             "size": 80
            },
            "showarrow": false,
            "text": "",
            "x": 2,
            "xref": "x",
            "y": 0,
            "yref": "y"
           },
           {
            "font": {
             "color": "green",
             "size": 80
            },
            "showarrow": false,
            "text": "6",
            "x": 0,
            "xref": "x",
            "y": 1,
            "yref": "y"
           },
           {
            "font": {
             "color": "green",
             "size": 80
            },
            "showarrow": false,
            "text": "4",
            "x": 1,
            "xref": "x",
            "y": 1,
            "yref": "y"
           },
           {
            "font": {
             "color": "green",
             "size": 80
            },
            "showarrow": false,
            "text": "8",
            "x": 2,
            "xref": "x",
            "y": 1,
            "yref": "y"
           },
           {
            "font": {
             "color": "green",
             "size": 80
            },
            "showarrow": false,
            "text": "1",
            "x": 0,
            "xref": "x",
            "y": 2,
            "yref": "y"
           },
           {
            "font": {
             "color": "green",
             "size": 80
            },
            "showarrow": false,
            "text": "2",
            "x": 1,
            "xref": "x",
            "y": 2,
            "yref": "y"
           },
           {
            "font": {
             "color": "green",
             "size": 80
            },
            "showarrow": false,
            "text": "3",
            "x": 2,
            "xref": "x",
            "y": 2,
            "yref": "y"
           }
          ],
          "height": 700,
          "width": 600,
          "xaxis": {
           "showticklabels": false
          },
          "yaxis": {
           "showticklabels": false
          }
         },
         "name": "14"
        },
        {
         "data": [
          {
           "colorscale": [
            [
             0,
             "#000004"
            ],
            [
             0.1111111111111111,
             "#180f3d"
            ],
            [
             0.2222222222222222,
             "#440f76"
            ],
            [
             0.3333333333333333,
             "#721f81"
            ],
            [
             0.4444444444444444,
             "#9e2f7f"
            ],
            [
             0.5555555555555556,
             "#cd4071"
            ],
            [
             0.6666666666666666,
             "#f1605d"
            ],
            [
             0.7777777777777778,
             "#fd9668"
            ],
            [
             0.8888888888888888,
             "#feca8d"
            ],
            [
             1,
             "#fcfdbf"
            ]
           ],
           "showscale": false,
           "type": "heatmap",
           "x": [
            0,
            1,
            2
           ],
           "xgap": 5,
           "y": [
            0,
            1,
            2
           ],
           "ygap": 5,
           "z": [
            [
             5,
             0,
             7
            ],
            [
             6,
             4,
             8
            ],
            [
             1,
             2,
             3
            ]
           ]
          }
         ],
         "layout": {
          "annotations": [
           {
            "font": {
             "color": "green",
             "size": 80
            },
            "showarrow": false,
            "text": "5",
            "x": 0,
            "xref": "x",
            "y": 0,
            "yref": "y"
           },
           {
            "font": {
             "color": "green",
             "size": 80
            },
            "showarrow": false,
            "text": "",
            "x": 1,
            "xref": "x",
            "y": 0,
            "yref": "y"
           },
           {
            "font": {
             "color": "green",
             "size": 80
            },
            "showarrow": false,
            "text": "7",
            "x": 2,
            "xref": "x",
            "y": 0,
            "yref": "y"
           },
           {
            "font": {
             "color": "green",
             "size": 80
            },
            "showarrow": false,
            "text": "6",
            "x": 0,
            "xref": "x",
            "y": 1,
            "yref": "y"
           },
           {
            "font": {
             "color": "green",
             "size": 80
            },
            "showarrow": false,
            "text": "4",
            "x": 1,
            "xref": "x",
            "y": 1,
            "yref": "y"
           },
           {
            "font": {
             "color": "green",
             "size": 80
            },
            "showarrow": false,
            "text": "8",
            "x": 2,
            "xref": "x",
            "y": 1,
            "yref": "y"
           },
           {
            "font": {
             "color": "green",
             "size": 80
            },
            "showarrow": false,
            "text": "1",
            "x": 0,
            "xref": "x",
            "y": 2,
            "yref": "y"
           },
           {
            "font": {
             "color": "green",
             "size": 80
            },
            "showarrow": false,
            "text": "2",
            "x": 1,
            "xref": "x",
            "y": 2,
            "yref": "y"
           },
           {
            "font": {
             "color": "green",
             "size": 80
            },
            "showarrow": false,
            "text": "3",
            "x": 2,
            "xref": "x",
            "y": 2,
            "yref": "y"
           }
          ],
          "height": 700,
          "width": 600,
          "xaxis": {
           "showticklabels": false
          },
          "yaxis": {
           "showticklabels": false
          }
         },
         "name": "15"
        },
        {
         "data": [
          {
           "colorscale": [
            [
             0,
             "#000004"
            ],
            [
             0.1111111111111111,
             "#180f3d"
            ],
            [
             0.2222222222222222,
             "#440f76"
            ],
            [
             0.3333333333333333,
             "#721f81"
            ],
            [
             0.4444444444444444,
             "#9e2f7f"
            ],
            [
             0.5555555555555556,
             "#cd4071"
            ],
            [
             0.6666666666666666,
             "#f1605d"
            ],
            [
             0.7777777777777778,
             "#fd9668"
            ],
            [
             0.8888888888888888,
             "#feca8d"
            ],
            [
             1,
             "#fcfdbf"
            ]
           ],
           "showscale": false,
           "type": "heatmap",
           "x": [
            0,
            1,
            2
           ],
           "xgap": 5,
           "y": [
            0,
            1,
            2
           ],
           "ygap": 5,
           "z": [
            [
             5,
             4,
             7
            ],
            [
             6,
             0,
             8
            ],
            [
             1,
             2,
             3
            ]
           ]
          }
         ],
         "layout": {
          "annotations": [
           {
            "font": {
             "color": "green",
             "size": 80
            },
            "showarrow": false,
            "text": "5",
            "x": 0,
            "xref": "x",
            "y": 0,
            "yref": "y"
           },
           {
            "font": {
             "color": "green",
             "size": 80
            },
            "showarrow": false,
            "text": "4",
            "x": 1,
            "xref": "x",
            "y": 0,
            "yref": "y"
           },
           {
            "font": {
             "color": "green",
             "size": 80
            },
            "showarrow": false,
            "text": "7",
            "x": 2,
            "xref": "x",
            "y": 0,
            "yref": "y"
           },
           {
            "font": {
             "color": "green",
             "size": 80
            },
            "showarrow": false,
            "text": "6",
            "x": 0,
            "xref": "x",
            "y": 1,
            "yref": "y"
           },
           {
            "font": {
             "color": "green",
             "size": 80
            },
            "showarrow": false,
            "text": "",
            "x": 1,
            "xref": "x",
            "y": 1,
            "yref": "y"
           },
           {
            "font": {
             "color": "green",
             "size": 80
            },
            "showarrow": false,
            "text": "8",
            "x": 2,
            "xref": "x",
            "y": 1,
            "yref": "y"
           },
           {
            "font": {
             "color": "green",
             "size": 80
            },
            "showarrow": false,
            "text": "1",
            "x": 0,
            "xref": "x",
            "y": 2,
            "yref": "y"
           },
           {
            "font": {
             "color": "green",
             "size": 80
            },
            "showarrow": false,
            "text": "2",
            "x": 1,
            "xref": "x",
            "y": 2,
            "yref": "y"
           },
           {
            "font": {
             "color": "green",
             "size": 80
            },
            "showarrow": false,
            "text": "3",
            "x": 2,
            "xref": "x",
            "y": 2,
            "yref": "y"
           }
          ],
          "height": 700,
          "width": 600,
          "xaxis": {
           "showticklabels": false
          },
          "yaxis": {
           "showticklabels": false
          }
         },
         "name": "16"
        },
        {
         "data": [
          {
           "colorscale": [
            [
             0,
             "#000004"
            ],
            [
             0.1111111111111111,
             "#180f3d"
            ],
            [
             0.2222222222222222,
             "#440f76"
            ],
            [
             0.3333333333333333,
             "#721f81"
            ],
            [
             0.4444444444444444,
             "#9e2f7f"
            ],
            [
             0.5555555555555556,
             "#cd4071"
            ],
            [
             0.6666666666666666,
             "#f1605d"
            ],
            [
             0.7777777777777778,
             "#fd9668"
            ],
            [
             0.8888888888888888,
             "#feca8d"
            ],
            [
             1,
             "#fcfdbf"
            ]
           ],
           "showscale": false,
           "type": "heatmap",
           "x": [
            0,
            1,
            2
           ],
           "xgap": 5,
           "y": [
            0,
            1,
            2
           ],
           "ygap": 5,
           "z": [
            [
             5,
             4,
             7
            ],
            [
             0,
             6,
             8
            ],
            [
             1,
             2,
             3
            ]
           ]
          }
         ],
         "layout": {
          "annotations": [
           {
            "font": {
             "color": "green",
             "size": 80
            },
            "showarrow": false,
            "text": "5",
            "x": 0,
            "xref": "x",
            "y": 0,
            "yref": "y"
           },
           {
            "font": {
             "color": "green",
             "size": 80
            },
            "showarrow": false,
            "text": "4",
            "x": 1,
            "xref": "x",
            "y": 0,
            "yref": "y"
           },
           {
            "font": {
             "color": "green",
             "size": 80
            },
            "showarrow": false,
            "text": "7",
            "x": 2,
            "xref": "x",
            "y": 0,
            "yref": "y"
           },
           {
            "font": {
             "color": "green",
             "size": 80
            },
            "showarrow": false,
            "text": "",
            "x": 0,
            "xref": "x",
            "y": 1,
            "yref": "y"
           },
           {
            "font": {
             "color": "green",
             "size": 80
            },
            "showarrow": false,
            "text": "6",
            "x": 1,
            "xref": "x",
            "y": 1,
            "yref": "y"
           },
           {
            "font": {
             "color": "green",
             "size": 80
            },
            "showarrow": false,
            "text": "8",
            "x": 2,
            "xref": "x",
            "y": 1,
            "yref": "y"
           },
           {
            "font": {
             "color": "green",
             "size": 80
            },
            "showarrow": false,
            "text": "1",
            "x": 0,
            "xref": "x",
            "y": 2,
            "yref": "y"
           },
           {
            "font": {
             "color": "green",
             "size": 80
            },
            "showarrow": false,
            "text": "2",
            "x": 1,
            "xref": "x",
            "y": 2,
            "yref": "y"
           },
           {
            "font": {
             "color": "green",
             "size": 80
            },
            "showarrow": false,
            "text": "3",
            "x": 2,
            "xref": "x",
            "y": 2,
            "yref": "y"
           }
          ],
          "height": 700,
          "width": 600,
          "xaxis": {
           "showticklabels": false
          },
          "yaxis": {
           "showticklabels": false
          }
         },
         "name": "17"
        },
        {
         "data": [
          {
           "colorscale": [
            [
             0,
             "#000004"
            ],
            [
             0.1111111111111111,
             "#180f3d"
            ],
            [
             0.2222222222222222,
             "#440f76"
            ],
            [
             0.3333333333333333,
             "#721f81"
            ],
            [
             0.4444444444444444,
             "#9e2f7f"
            ],
            [
             0.5555555555555556,
             "#cd4071"
            ],
            [
             0.6666666666666666,
             "#f1605d"
            ],
            [
             0.7777777777777778,
             "#fd9668"
            ],
            [
             0.8888888888888888,
             "#feca8d"
            ],
            [
             1,
             "#fcfdbf"
            ]
           ],
           "showscale": false,
           "type": "heatmap",
           "x": [
            0,
            1,
            2
           ],
           "xgap": 5,
           "y": [
            0,
            1,
            2
           ],
           "ygap": 5,
           "z": [
            [
             0,
             4,
             7
            ],
            [
             5,
             6,
             8
            ],
            [
             1,
             2,
             3
            ]
           ]
          }
         ],
         "layout": {
          "annotations": [
           {
            "font": {
             "color": "green",
             "size": 80
            },
            "showarrow": false,
            "text": "",
            "x": 0,
            "xref": "x",
            "y": 0,
            "yref": "y"
           },
           {
            "font": {
             "color": "green",
             "size": 80
            },
            "showarrow": false,
            "text": "4",
            "x": 1,
            "xref": "x",
            "y": 0,
            "yref": "y"
           },
           {
            "font": {
             "color": "green",
             "size": 80
            },
            "showarrow": false,
            "text": "7",
            "x": 2,
            "xref": "x",
            "y": 0,
            "yref": "y"
           },
           {
            "font": {
             "color": "green",
             "size": 80
            },
            "showarrow": false,
            "text": "5",
            "x": 0,
            "xref": "x",
            "y": 1,
            "yref": "y"
           },
           {
            "font": {
             "color": "green",
             "size": 80
            },
            "showarrow": false,
            "text": "6",
            "x": 1,
            "xref": "x",
            "y": 1,
            "yref": "y"
           },
           {
            "font": {
             "color": "green",
             "size": 80
            },
            "showarrow": false,
            "text": "8",
            "x": 2,
            "xref": "x",
            "y": 1,
            "yref": "y"
           },
           {
            "font": {
             "color": "green",
             "size": 80
            },
            "showarrow": false,
            "text": "1",
            "x": 0,
            "xref": "x",
            "y": 2,
            "yref": "y"
           },
           {
            "font": {
             "color": "green",
             "size": 80
            },
            "showarrow": false,
            "text": "2",
            "x": 1,
            "xref": "x",
            "y": 2,
            "yref": "y"
           },
           {
            "font": {
             "color": "green",
             "size": 80
            },
            "showarrow": false,
            "text": "3",
            "x": 2,
            "xref": "x",
            "y": 2,
            "yref": "y"
           }
          ],
          "height": 700,
          "width": 600,
          "xaxis": {
           "showticklabels": false
          },
          "yaxis": {
           "showticklabels": false
          }
         },
         "name": "18"
        },
        {
         "data": [
          {
           "colorscale": [
            [
             0,
             "#000004"
            ],
            [
             0.1111111111111111,
             "#180f3d"
            ],
            [
             0.2222222222222222,
             "#440f76"
            ],
            [
             0.3333333333333333,
             "#721f81"
            ],
            [
             0.4444444444444444,
             "#9e2f7f"
            ],
            [
             0.5555555555555556,
             "#cd4071"
            ],
            [
             0.6666666666666666,
             "#f1605d"
            ],
            [
             0.7777777777777778,
             "#fd9668"
            ],
            [
             0.8888888888888888,
             "#feca8d"
            ],
            [
             1,
             "#fcfdbf"
            ]
           ],
           "showscale": false,
           "type": "heatmap",
           "x": [
            0,
            1,
            2
           ],
           "xgap": 5,
           "y": [
            0,
            1,
            2
           ],
           "ygap": 5,
           "z": [
            [
             4,
             0,
             7
            ],
            [
             5,
             6,
             8
            ],
            [
             1,
             2,
             3
            ]
           ]
          }
         ],
         "layout": {
          "annotations": [
           {
            "font": {
             "color": "green",
             "size": 80
            },
            "showarrow": false,
            "text": "4",
            "x": 0,
            "xref": "x",
            "y": 0,
            "yref": "y"
           },
           {
            "font": {
             "color": "green",
             "size": 80
            },
            "showarrow": false,
            "text": "",
            "x": 1,
            "xref": "x",
            "y": 0,
            "yref": "y"
           },
           {
            "font": {
             "color": "green",
             "size": 80
            },
            "showarrow": false,
            "text": "7",
            "x": 2,
            "xref": "x",
            "y": 0,
            "yref": "y"
           },
           {
            "font": {
             "color": "green",
             "size": 80
            },
            "showarrow": false,
            "text": "5",
            "x": 0,
            "xref": "x",
            "y": 1,
            "yref": "y"
           },
           {
            "font": {
             "color": "green",
             "size": 80
            },
            "showarrow": false,
            "text": "6",
            "x": 1,
            "xref": "x",
            "y": 1,
            "yref": "y"
           },
           {
            "font": {
             "color": "green",
             "size": 80
            },
            "showarrow": false,
            "text": "8",
            "x": 2,
            "xref": "x",
            "y": 1,
            "yref": "y"
           },
           {
            "font": {
             "color": "green",
             "size": 80
            },
            "showarrow": false,
            "text": "1",
            "x": 0,
            "xref": "x",
            "y": 2,
            "yref": "y"
           },
           {
            "font": {
             "color": "green",
             "size": 80
            },
            "showarrow": false,
            "text": "2",
            "x": 1,
            "xref": "x",
            "y": 2,
            "yref": "y"
           },
           {
            "font": {
             "color": "green",
             "size": 80
            },
            "showarrow": false,
            "text": "3",
            "x": 2,
            "xref": "x",
            "y": 2,
            "yref": "y"
           }
          ],
          "height": 700,
          "width": 600,
          "xaxis": {
           "showticklabels": false
          },
          "yaxis": {
           "showticklabels": false
          }
         },
         "name": "19"
        },
        {
         "data": [
          {
           "colorscale": [
            [
             0,
             "#000004"
            ],
            [
             0.1111111111111111,
             "#180f3d"
            ],
            [
             0.2222222222222222,
             "#440f76"
            ],
            [
             0.3333333333333333,
             "#721f81"
            ],
            [
             0.4444444444444444,
             "#9e2f7f"
            ],
            [
             0.5555555555555556,
             "#cd4071"
            ],
            [
             0.6666666666666666,
             "#f1605d"
            ],
            [
             0.7777777777777778,
             "#fd9668"
            ],
            [
             0.8888888888888888,
             "#feca8d"
            ],
            [
             1,
             "#fcfdbf"
            ]
           ],
           "showscale": false,
           "type": "heatmap",
           "x": [
            0,
            1,
            2
           ],
           "xgap": 5,
           "y": [
            0,
            1,
            2
           ],
           "ygap": 5,
           "z": [
            [
             4,
             7,
             0
            ],
            [
             5,
             6,
             8
            ],
            [
             1,
             2,
             3
            ]
           ]
          }
         ],
         "layout": {
          "annotations": [
           {
            "font": {
             "color": "green",
             "size": 80
            },
            "showarrow": false,
            "text": "4",
            "x": 0,
            "xref": "x",
            "y": 0,
            "yref": "y"
           },
           {
            "font": {
             "color": "green",
             "size": 80
            },
            "showarrow": false,
            "text": "7",
            "x": 1,
            "xref": "x",
            "y": 0,
            "yref": "y"
           },
           {
            "font": {
             "color": "green",
             "size": 80
            },
            "showarrow": false,
            "text": "",
            "x": 2,
            "xref": "x",
            "y": 0,
            "yref": "y"
           },
           {
            "font": {
             "color": "green",
             "size": 80
            },
            "showarrow": false,
            "text": "5",
            "x": 0,
            "xref": "x",
            "y": 1,
            "yref": "y"
           },
           {
            "font": {
             "color": "green",
             "size": 80
            },
            "showarrow": false,
            "text": "6",
            "x": 1,
            "xref": "x",
            "y": 1,
            "yref": "y"
           },
           {
            "font": {
             "color": "green",
             "size": 80
            },
            "showarrow": false,
            "text": "8",
            "x": 2,
            "xref": "x",
            "y": 1,
            "yref": "y"
           },
           {
            "font": {
             "color": "green",
             "size": 80
            },
            "showarrow": false,
            "text": "1",
            "x": 0,
            "xref": "x",
            "y": 2,
            "yref": "y"
           },
           {
            "font": {
             "color": "green",
             "size": 80
            },
            "showarrow": false,
            "text": "2",
            "x": 1,
            "xref": "x",
            "y": 2,
            "yref": "y"
           },
           {
            "font": {
             "color": "green",
             "size": 80
            },
            "showarrow": false,
            "text": "3",
            "x": 2,
            "xref": "x",
            "y": 2,
            "yref": "y"
           }
          ],
          "height": 700,
          "width": 600,
          "xaxis": {
           "showticklabels": false
          },
          "yaxis": {
           "showticklabels": false
          }
         },
         "name": "20"
        },
        {
         "data": [
          {
           "colorscale": [
            [
             0,
             "#000004"
            ],
            [
             0.1111111111111111,
             "#180f3d"
            ],
            [
             0.2222222222222222,
             "#440f76"
            ],
            [
             0.3333333333333333,
             "#721f81"
            ],
            [
             0.4444444444444444,
             "#9e2f7f"
            ],
            [
             0.5555555555555556,
             "#cd4071"
            ],
            [
             0.6666666666666666,
             "#f1605d"
            ],
            [
             0.7777777777777778,
             "#fd9668"
            ],
            [
             0.8888888888888888,
             "#feca8d"
            ],
            [
             1,
             "#fcfdbf"
            ]
           ],
           "showscale": false,
           "type": "heatmap",
           "x": [
            0,
            1,
            2
           ],
           "xgap": 5,
           "y": [
            0,
            1,
            2
           ],
           "ygap": 5,
           "z": [
            [
             4,
             7,
             8
            ],
            [
             5,
             6,
             0
            ],
            [
             1,
             2,
             3
            ]
           ]
          }
         ],
         "layout": {
          "annotations": [
           {
            "font": {
             "color": "green",
             "size": 80
            },
            "showarrow": false,
            "text": "4",
            "x": 0,
            "xref": "x",
            "y": 0,
            "yref": "y"
           },
           {
            "font": {
             "color": "green",
             "size": 80
            },
            "showarrow": false,
            "text": "7",
            "x": 1,
            "xref": "x",
            "y": 0,
            "yref": "y"
           },
           {
            "font": {
             "color": "green",
             "size": 80
            },
            "showarrow": false,
            "text": "8",
            "x": 2,
            "xref": "x",
            "y": 0,
            "yref": "y"
           },
           {
            "font": {
             "color": "green",
             "size": 80
            },
            "showarrow": false,
            "text": "5",
            "x": 0,
            "xref": "x",
            "y": 1,
            "yref": "y"
           },
           {
            "font": {
             "color": "green",
             "size": 80
            },
            "showarrow": false,
            "text": "6",
            "x": 1,
            "xref": "x",
            "y": 1,
            "yref": "y"
           },
           {
            "font": {
             "color": "green",
             "size": 80
            },
            "showarrow": false,
            "text": "",
            "x": 2,
            "xref": "x",
            "y": 1,
            "yref": "y"
           },
           {
            "font": {
             "color": "green",
             "size": 80
            },
            "showarrow": false,
            "text": "1",
            "x": 0,
            "xref": "x",
            "y": 2,
            "yref": "y"
           },
           {
            "font": {
             "color": "green",
             "size": 80
            },
            "showarrow": false,
            "text": "2",
            "x": 1,
            "xref": "x",
            "y": 2,
            "yref": "y"
           },
           {
            "font": {
             "color": "green",
             "size": 80
            },
            "showarrow": false,
            "text": "3",
            "x": 2,
            "xref": "x",
            "y": 2,
            "yref": "y"
           }
          ],
          "height": 700,
          "width": 600,
          "xaxis": {
           "showticklabels": false
          },
          "yaxis": {
           "showticklabels": false
          }
         },
         "name": "21"
        },
        {
         "data": [
          {
           "colorscale": [
            [
             0,
             "#000004"
            ],
            [
             0.1111111111111111,
             "#180f3d"
            ],
            [
             0.2222222222222222,
             "#440f76"
            ],
            [
             0.3333333333333333,
             "#721f81"
            ],
            [
             0.4444444444444444,
             "#9e2f7f"
            ],
            [
             0.5555555555555556,
             "#cd4071"
            ],
            [
             0.6666666666666666,
             "#f1605d"
            ],
            [
             0.7777777777777778,
             "#fd9668"
            ],
            [
             0.8888888888888888,
             "#feca8d"
            ],
            [
             1,
             "#fcfdbf"
            ]
           ],
           "showscale": false,
           "type": "heatmap",
           "x": [
            0,
            1,
            2
           ],
           "xgap": 5,
           "y": [
            0,
            1,
            2
           ],
           "ygap": 5,
           "z": [
            [
             4,
             7,
             8
            ],
            [
             5,
             0,
             6
            ],
            [
             1,
             2,
             3
            ]
           ]
          }
         ],
         "layout": {
          "annotations": [
           {
            "font": {
             "color": "green",
             "size": 80
            },
            "showarrow": false,
            "text": "4",
            "x": 0,
            "xref": "x",
            "y": 0,
            "yref": "y"
           },
           {
            "font": {
             "color": "green",
             "size": 80
            },
            "showarrow": false,
            "text": "7",
            "x": 1,
            "xref": "x",
            "y": 0,
            "yref": "y"
           },
           {
            "font": {
             "color": "green",
             "size": 80
            },
            "showarrow": false,
            "text": "8",
            "x": 2,
            "xref": "x",
            "y": 0,
            "yref": "y"
           },
           {
            "font": {
             "color": "green",
             "size": 80
            },
            "showarrow": false,
            "text": "5",
            "x": 0,
            "xref": "x",
            "y": 1,
            "yref": "y"
           },
           {
            "font": {
             "color": "green",
             "size": 80
            },
            "showarrow": false,
            "text": "",
            "x": 1,
            "xref": "x",
            "y": 1,
            "yref": "y"
           },
           {
            "font": {
             "color": "green",
             "size": 80
            },
            "showarrow": false,
            "text": "6",
            "x": 2,
            "xref": "x",
            "y": 1,
            "yref": "y"
           },
           {
            "font": {
             "color": "green",
             "size": 80
            },
            "showarrow": false,
            "text": "1",
            "x": 0,
            "xref": "x",
            "y": 2,
            "yref": "y"
           },
           {
            "font": {
             "color": "green",
             "size": 80
            },
            "showarrow": false,
            "text": "2",
            "x": 1,
            "xref": "x",
            "y": 2,
            "yref": "y"
           },
           {
            "font": {
             "color": "green",
             "size": 80
            },
            "showarrow": false,
            "text": "3",
            "x": 2,
            "xref": "x",
            "y": 2,
            "yref": "y"
           }
          ],
          "height": 700,
          "width": 600,
          "xaxis": {
           "showticklabels": false
          },
          "yaxis": {
           "showticklabels": false
          }
         },
         "name": "22"
        },
        {
         "data": [
          {
           "colorscale": [
            [
             0,
             "#000004"
            ],
            [
             0.1111111111111111,
             "#180f3d"
            ],
            [
             0.2222222222222222,
             "#440f76"
            ],
            [
             0.3333333333333333,
             "#721f81"
            ],
            [
             0.4444444444444444,
             "#9e2f7f"
            ],
            [
             0.5555555555555556,
             "#cd4071"
            ],
            [
             0.6666666666666666,
             "#f1605d"
            ],
            [
             0.7777777777777778,
             "#fd9668"
            ],
            [
             0.8888888888888888,
             "#feca8d"
            ],
            [
             1,
             "#fcfdbf"
            ]
           ],
           "showscale": false,
           "type": "heatmap",
           "x": [
            0,
            1,
            2
           ],
           "xgap": 5,
           "y": [
            0,
            1,
            2
           ],
           "ygap": 5,
           "z": [
            [
             4,
             7,
             8
            ],
            [
             0,
             5,
             6
            ],
            [
             1,
             2,
             3
            ]
           ]
          }
         ],
         "layout": {
          "annotations": [
           {
            "font": {
             "color": "green",
             "size": 80
            },
            "showarrow": false,
            "text": "4",
            "x": 0,
            "xref": "x",
            "y": 0,
            "yref": "y"
           },
           {
            "font": {
             "color": "green",
             "size": 80
            },
            "showarrow": false,
            "text": "7",
            "x": 1,
            "xref": "x",
            "y": 0,
            "yref": "y"
           },
           {
            "font": {
             "color": "green",
             "size": 80
            },
            "showarrow": false,
            "text": "8",
            "x": 2,
            "xref": "x",
            "y": 0,
            "yref": "y"
           },
           {
            "font": {
             "color": "green",
             "size": 80
            },
            "showarrow": false,
            "text": "",
            "x": 0,
            "xref": "x",
            "y": 1,
            "yref": "y"
           },
           {
            "font": {
             "color": "green",
             "size": 80
            },
            "showarrow": false,
            "text": "5",
            "x": 1,
            "xref": "x",
            "y": 1,
            "yref": "y"
           },
           {
            "font": {
             "color": "green",
             "size": 80
            },
            "showarrow": false,
            "text": "6",
            "x": 2,
            "xref": "x",
            "y": 1,
            "yref": "y"
           },
           {
            "font": {
             "color": "green",
             "size": 80
            },
            "showarrow": false,
            "text": "1",
            "x": 0,
            "xref": "x",
            "y": 2,
            "yref": "y"
           },
           {
            "font": {
             "color": "green",
             "size": 80
            },
            "showarrow": false,
            "text": "2",
            "x": 1,
            "xref": "x",
            "y": 2,
            "yref": "y"
           },
           {
            "font": {
             "color": "green",
             "size": 80
            },
            "showarrow": false,
            "text": "3",
            "x": 2,
            "xref": "x",
            "y": 2,
            "yref": "y"
           }
          ],
          "height": 700,
          "width": 600,
          "xaxis": {
           "showticklabels": false
          },
          "yaxis": {
           "showticklabels": false
          }
         },
         "name": "23"
        },
        {
         "data": [
          {
           "colorscale": [
            [
             0,
             "#000004"
            ],
            [
             0.1111111111111111,
             "#180f3d"
            ],
            [
             0.2222222222222222,
             "#440f76"
            ],
            [
             0.3333333333333333,
             "#721f81"
            ],
            [
             0.4444444444444444,
             "#9e2f7f"
            ],
            [
             0.5555555555555556,
             "#cd4071"
            ],
            [
             0.6666666666666666,
             "#f1605d"
            ],
            [
             0.7777777777777778,
             "#fd9668"
            ],
            [
             0.8888888888888888,
             "#feca8d"
            ],
            [
             1,
             "#fcfdbf"
            ]
           ],
           "showscale": false,
           "type": "heatmap",
           "x": [
            0,
            1,
            2
           ],
           "xgap": 5,
           "y": [
            0,
            1,
            2
           ],
           "ygap": 5,
           "z": [
            [
             0,
             7,
             8
            ],
            [
             4,
             5,
             6
            ],
            [
             1,
             2,
             3
            ]
           ]
          }
         ],
         "layout": {
          "annotations": [
           {
            "font": {
             "color": "green",
             "size": 80
            },
            "showarrow": false,
            "text": "",
            "x": 0,
            "xref": "x",
            "y": 0,
            "yref": "y"
           },
           {
            "font": {
             "color": "green",
             "size": 80
            },
            "showarrow": false,
            "text": "7",
            "x": 1,
            "xref": "x",
            "y": 0,
            "yref": "y"
           },
           {
            "font": {
             "color": "green",
             "size": 80
            },
            "showarrow": false,
            "text": "8",
            "x": 2,
            "xref": "x",
            "y": 0,
            "yref": "y"
           },
           {
            "font": {
             "color": "green",
             "size": 80
            },
            "showarrow": false,
            "text": "4",
            "x": 0,
            "xref": "x",
            "y": 1,
            "yref": "y"
           },
           {
            "font": {
             "color": "green",
             "size": 80
            },
            "showarrow": false,
            "text": "5",
            "x": 1,
            "xref": "x",
            "y": 1,
            "yref": "y"
           },
           {
            "font": {
             "color": "green",
             "size": 80
            },
            "showarrow": false,
            "text": "6",
            "x": 2,
            "xref": "x",
            "y": 1,
            "yref": "y"
           },
           {
            "font": {
             "color": "green",
             "size": 80
            },
            "showarrow": false,
            "text": "1",
            "x": 0,
            "xref": "x",
            "y": 2,
            "yref": "y"
           },
           {
            "font": {
             "color": "green",
             "size": 80
            },
            "showarrow": false,
            "text": "2",
            "x": 1,
            "xref": "x",
            "y": 2,
            "yref": "y"
           },
           {
            "font": {
             "color": "green",
             "size": 80
            },
            "showarrow": false,
            "text": "3",
            "x": 2,
            "xref": "x",
            "y": 2,
            "yref": "y"
           }
          ],
          "height": 700,
          "width": 600,
          "xaxis": {
           "showticklabels": false
          },
          "yaxis": {
           "showticklabels": false
          }
         },
         "name": "24"
        },
        {
         "data": [
          {
           "colorscale": [
            [
             0,
             "#000004"
            ],
            [
             0.1111111111111111,
             "#180f3d"
            ],
            [
             0.2222222222222222,
             "#440f76"
            ],
            [
             0.3333333333333333,
             "#721f81"
            ],
            [
             0.4444444444444444,
             "#9e2f7f"
            ],
            [
             0.5555555555555556,
             "#cd4071"
            ],
            [
             0.6666666666666666,
             "#f1605d"
            ],
            [
             0.7777777777777778,
             "#fd9668"
            ],
            [
             0.8888888888888888,
             "#feca8d"
            ],
            [
             1,
             "#fcfdbf"
            ]
           ],
           "showscale": false,
           "type": "heatmap",
           "x": [
            0,
            1,
            2
           ],
           "xgap": 5,
           "y": [
            0,
            1,
            2
           ],
           "ygap": 5,
           "z": [
            [
             7,
             0,
             8
            ],
            [
             4,
             5,
             6
            ],
            [
             1,
             2,
             3
            ]
           ]
          }
         ],
         "layout": {
          "annotations": [
           {
            "font": {
             "color": "green",
             "size": 80
            },
            "showarrow": false,
            "text": "7",
            "x": 0,
            "xref": "x",
            "y": 0,
            "yref": "y"
           },
           {
            "font": {
             "color": "green",
             "size": 80
            },
            "showarrow": false,
            "text": "",
            "x": 1,
            "xref": "x",
            "y": 0,
            "yref": "y"
           },
           {
            "font": {
             "color": "green",
             "size": 80
            },
            "showarrow": false,
            "text": "8",
            "x": 2,
            "xref": "x",
            "y": 0,
            "yref": "y"
           },
           {
            "font": {
             "color": "green",
             "size": 80
            },
            "showarrow": false,
            "text": "4",
            "x": 0,
            "xref": "x",
            "y": 1,
            "yref": "y"
           },
           {
            "font": {
             "color": "green",
             "size": 80
            },
            "showarrow": false,
            "text": "5",
            "x": 1,
            "xref": "x",
            "y": 1,
            "yref": "y"
           },
           {
            "font": {
             "color": "green",
             "size": 80
            },
            "showarrow": false,
            "text": "6",
            "x": 2,
            "xref": "x",
            "y": 1,
            "yref": "y"
           },
           {
            "font": {
             "color": "green",
             "size": 80
            },
            "showarrow": false,
            "text": "1",
            "x": 0,
            "xref": "x",
            "y": 2,
            "yref": "y"
           },
           {
            "font": {
             "color": "green",
             "size": 80
            },
            "showarrow": false,
            "text": "2",
            "x": 1,
            "xref": "x",
            "y": 2,
            "yref": "y"
           },
           {
            "font": {
             "color": "green",
             "size": 80
            },
            "showarrow": false,
            "text": "3",
            "x": 2,
            "xref": "x",
            "y": 2,
            "yref": "y"
           }
          ],
          "height": 700,
          "width": 600,
          "xaxis": {
           "showticklabels": false
          },
          "yaxis": {
           "showticklabels": false
          }
         },
         "name": "25"
        },
        {
         "data": [
          {
           "colorscale": [
            [
             0,
             "#000004"
            ],
            [
             0.1111111111111111,
             "#180f3d"
            ],
            [
             0.2222222222222222,
             "#440f76"
            ],
            [
             0.3333333333333333,
             "#721f81"
            ],
            [
             0.4444444444444444,
             "#9e2f7f"
            ],
            [
             0.5555555555555556,
             "#cd4071"
            ],
            [
             0.6666666666666666,
             "#f1605d"
            ],
            [
             0.7777777777777778,
             "#fd9668"
            ],
            [
             0.8888888888888888,
             "#feca8d"
            ],
            [
             1,
             "#fcfdbf"
            ]
           ],
           "showscale": false,
           "type": "heatmap",
           "x": [
            0,
            1,
            2
           ],
           "xgap": 5,
           "y": [
            0,
            1,
            2
           ],
           "ygap": 5,
           "z": [
            [
             7,
             8,
             0
            ],
            [
             4,
             5,
             6
            ],
            [
             1,
             2,
             3
            ]
           ]
          }
         ],
         "layout": {
          "annotations": [
           {
            "font": {
             "color": "green",
             "size": 80
            },
            "showarrow": false,
            "text": "7",
            "x": 0,
            "xref": "x",
            "y": 0,
            "yref": "y"
           },
           {
            "font": {
             "color": "green",
             "size": 80
            },
            "showarrow": false,
            "text": "8",
            "x": 1,
            "xref": "x",
            "y": 0,
            "yref": "y"
           },
           {
            "font": {
             "color": "green",
             "size": 80
            },
            "showarrow": false,
            "text": "",
            "x": 2,
            "xref": "x",
            "y": 0,
            "yref": "y"
           },
           {
            "font": {
             "color": "green",
             "size": 80
            },
            "showarrow": false,
            "text": "4",
            "x": 0,
            "xref": "x",
            "y": 1,
            "yref": "y"
           },
           {
            "font": {
             "color": "green",
             "size": 80
            },
            "showarrow": false,
            "text": "5",
            "x": 1,
            "xref": "x",
            "y": 1,
            "yref": "y"
           },
           {
            "font": {
             "color": "green",
             "size": 80
            },
            "showarrow": false,
            "text": "6",
            "x": 2,
            "xref": "x",
            "y": 1,
            "yref": "y"
           },
           {
            "font": {
             "color": "green",
             "size": 80
            },
            "showarrow": false,
            "text": "1",
            "x": 0,
            "xref": "x",
            "y": 2,
            "yref": "y"
           },
           {
            "font": {
             "color": "green",
             "size": 80
            },
            "showarrow": false,
            "text": "2",
            "x": 1,
            "xref": "x",
            "y": 2,
            "yref": "y"
           },
           {
            "font": {
             "color": "green",
             "size": 80
            },
            "showarrow": false,
            "text": "3",
            "x": 2,
            "xref": "x",
            "y": 2,
            "yref": "y"
           }
          ],
          "height": 700,
          "width": 600,
          "xaxis": {
           "showticklabels": false
          },
          "yaxis": {
           "showticklabels": false
          }
         },
         "name": "26"
        }
       ],
       "layout": {
        "annotations": [
         {
          "font": {
           "color": "green",
           "size": 80
          },
          "showarrow": false,
          "text": "6",
          "x": 0,
          "xref": "x",
          "y": 0,
          "yref": "y"
         },
         {
          "font": {
           "color": "green",
           "size": 80
          },
          "showarrow": false,
          "text": "5",
          "x": 1,
          "xref": "x",
          "y": 0,
          "yref": "y"
         },
         {
          "font": {
           "color": "green",
           "size": 80
          },
          "showarrow": false,
          "text": "7",
          "x": 2,
          "xref": "x",
          "y": 0,
          "yref": "y"
         },
         {
          "font": {
           "color": "green",
           "size": 80
          },
          "showarrow": false,
          "text": "3",
          "x": 0,
          "xref": "x",
          "y": 1,
          "yref": "y"
         },
         {
          "font": {
           "color": "green",
           "size": 80
          },
          "showarrow": false,
          "text": "",
          "x": 1,
          "xref": "x",
          "y": 1,
          "yref": "y"
         },
         {
          "font": {
           "color": "green",
           "size": 80
          },
          "showarrow": false,
          "text": "2",
          "x": 2,
          "xref": "x",
          "y": 1,
          "yref": "y"
         },
         {
          "font": {
           "color": "green",
           "size": 80
          },
          "showarrow": false,
          "text": "1",
          "x": 0,
          "xref": "x",
          "y": 2,
          "yref": "y"
         },
         {
          "font": {
           "color": "green",
           "size": 80
          },
          "showarrow": false,
          "text": "8",
          "x": 1,
          "xref": "x",
          "y": 2,
          "yref": "y"
         },
         {
          "font": {
           "color": "green",
           "size": 80
          },
          "showarrow": false,
          "text": "4",
          "x": 2,
          "xref": "x",
          "y": 2,
          "yref": "y"
         }
        ],
        "height": 700,
        "sliders": [
         {
          "active": 0,
          "currentvalue": {
           "font": {
            "size": 20
           },
           "prefix": "Step:",
           "visible": true,
           "xanchor": "right"
          },
          "len": 0.9,
          "pad": {
           "b": 10,
           "t": 50
          },
          "steps": [
           {
            "args": [
             [
              0
             ],
             {
              "frame": {
               "duration": 300,
               "redraw": true
              },
              "mode": "immediate",
              "transition": {
               "duration": 300
              }
             }
            ],
            "label": "0",
            "method": "animate"
           },
           {
            "args": [
             [
              1
             ],
             {
              "frame": {
               "duration": 300,
               "redraw": true
              },
              "mode": "immediate",
              "transition": {
               "duration": 300
              }
             }
            ],
            "label": "1",
            "method": "animate"
           },
           {
            "args": [
             [
              2
             ],
             {
              "frame": {
               "duration": 300,
               "redraw": true
              },
              "mode": "immediate",
              "transition": {
               "duration": 300
              }
             }
            ],
            "label": "2",
            "method": "animate"
           },
           {
            "args": [
             [
              3
             ],
             {
              "frame": {
               "duration": 300,
               "redraw": true
              },
              "mode": "immediate",
              "transition": {
               "duration": 300
              }
             }
            ],
            "label": "3",
            "method": "animate"
           },
           {
            "args": [
             [
              4
             ],
             {
              "frame": {
               "duration": 300,
               "redraw": true
              },
              "mode": "immediate",
              "transition": {
               "duration": 300
              }
             }
            ],
            "label": "4",
            "method": "animate"
           },
           {
            "args": [
             [
              5
             ],
             {
              "frame": {
               "duration": 300,
               "redraw": true
              },
              "mode": "immediate",
              "transition": {
               "duration": 300
              }
             }
            ],
            "label": "5",
            "method": "animate"
           },
           {
            "args": [
             [
              6
             ],
             {
              "frame": {
               "duration": 300,
               "redraw": true
              },
              "mode": "immediate",
              "transition": {
               "duration": 300
              }
             }
            ],
            "label": "6",
            "method": "animate"
           },
           {
            "args": [
             [
              7
             ],
             {
              "frame": {
               "duration": 300,
               "redraw": true
              },
              "mode": "immediate",
              "transition": {
               "duration": 300
              }
             }
            ],
            "label": "7",
            "method": "animate"
           },
           {
            "args": [
             [
              8
             ],
             {
              "frame": {
               "duration": 300,
               "redraw": true
              },
              "mode": "immediate",
              "transition": {
               "duration": 300
              }
             }
            ],
            "label": "8",
            "method": "animate"
           },
           {
            "args": [
             [
              9
             ],
             {
              "frame": {
               "duration": 300,
               "redraw": true
              },
              "mode": "immediate",
              "transition": {
               "duration": 300
              }
             }
            ],
            "label": "9",
            "method": "animate"
           },
           {
            "args": [
             [
              10
             ],
             {
              "frame": {
               "duration": 300,
               "redraw": true
              },
              "mode": "immediate",
              "transition": {
               "duration": 300
              }
             }
            ],
            "label": "10",
            "method": "animate"
           },
           {
            "args": [
             [
              11
             ],
             {
              "frame": {
               "duration": 300,
               "redraw": true
              },
              "mode": "immediate",
              "transition": {
               "duration": 300
              }
             }
            ],
            "label": "11",
            "method": "animate"
           },
           {
            "args": [
             [
              12
             ],
             {
              "frame": {
               "duration": 300,
               "redraw": true
              },
              "mode": "immediate",
              "transition": {
               "duration": 300
              }
             }
            ],
            "label": "12",
            "method": "animate"
           },
           {
            "args": [
             [
              13
             ],
             {
              "frame": {
               "duration": 300,
               "redraw": true
              },
              "mode": "immediate",
              "transition": {
               "duration": 300
              }
             }
            ],
            "label": "13",
            "method": "animate"
           },
           {
            "args": [
             [
              14
             ],
             {
              "frame": {
               "duration": 300,
               "redraw": true
              },
              "mode": "immediate",
              "transition": {
               "duration": 300
              }
             }
            ],
            "label": "14",
            "method": "animate"
           },
           {
            "args": [
             [
              15
             ],
             {
              "frame": {
               "duration": 300,
               "redraw": true
              },
              "mode": "immediate",
              "transition": {
               "duration": 300
              }
             }
            ],
            "label": "15",
            "method": "animate"
           },
           {
            "args": [
             [
              16
             ],
             {
              "frame": {
               "duration": 300,
               "redraw": true
              },
              "mode": "immediate",
              "transition": {
               "duration": 300
              }
             }
            ],
            "label": "16",
            "method": "animate"
           },
           {
            "args": [
             [
              17
             ],
             {
              "frame": {
               "duration": 300,
               "redraw": true
              },
              "mode": "immediate",
              "transition": {
               "duration": 300
              }
             }
            ],
            "label": "17",
            "method": "animate"
           },
           {
            "args": [
             [
              18
             ],
             {
              "frame": {
               "duration": 300,
               "redraw": true
              },
              "mode": "immediate",
              "transition": {
               "duration": 300
              }
             }
            ],
            "label": "18",
            "method": "animate"
           },
           {
            "args": [
             [
              19
             ],
             {
              "frame": {
               "duration": 300,
               "redraw": true
              },
              "mode": "immediate",
              "transition": {
               "duration": 300
              }
             }
            ],
            "label": "19",
            "method": "animate"
           },
           {
            "args": [
             [
              20
             ],
             {
              "frame": {
               "duration": 300,
               "redraw": true
              },
              "mode": "immediate",
              "transition": {
               "duration": 300
              }
             }
            ],
            "label": "20",
            "method": "animate"
           },
           {
            "args": [
             [
              21
             ],
             {
              "frame": {
               "duration": 300,
               "redraw": true
              },
              "mode": "immediate",
              "transition": {
               "duration": 300
              }
             }
            ],
            "label": "21",
            "method": "animate"
           },
           {
            "args": [
             [
              22
             ],
             {
              "frame": {
               "duration": 300,
               "redraw": true
              },
              "mode": "immediate",
              "transition": {
               "duration": 300
              }
             }
            ],
            "label": "22",
            "method": "animate"
           },
           {
            "args": [
             [
              23
             ],
             {
              "frame": {
               "duration": 300,
               "redraw": true
              },
              "mode": "immediate",
              "transition": {
               "duration": 300
              }
             }
            ],
            "label": "23",
            "method": "animate"
           },
           {
            "args": [
             [
              24
             ],
             {
              "frame": {
               "duration": 300,
               "redraw": true
              },
              "mode": "immediate",
              "transition": {
               "duration": 300
              }
             }
            ],
            "label": "24",
            "method": "animate"
           },
           {
            "args": [
             [
              25
             ],
             {
              "frame": {
               "duration": 300,
               "redraw": true
              },
              "mode": "immediate",
              "transition": {
               "duration": 300
              }
             }
            ],
            "label": "25",
            "method": "animate"
           },
           {
            "args": [
             [
              26
             ],
             {
              "frame": {
               "duration": 300,
               "redraw": true
              },
              "mode": "immediate",
              "transition": {
               "duration": 300
              }
             }
            ],
            "label": "26",
            "method": "animate"
           }
          ],
          "transition": {
           "duration": 300,
           "easing": "cubic-in-out"
          },
          "x": 0.1,
          "xanchor": "left",
          "y": 0,
          "yanchor": "top"
         }
        ],
        "template": {
         "data": {
          "bar": [
           {
            "error_x": {
             "color": "#2a3f5f"
            },
            "error_y": {
             "color": "#2a3f5f"
            },
            "marker": {
             "line": {
              "color": "#E5ECF6",
              "width": 0.5
             }
            },
            "type": "bar"
           }
          ],
          "barpolar": [
           {
            "marker": {
             "line": {
              "color": "#E5ECF6",
              "width": 0.5
             }
            },
            "type": "barpolar"
           }
          ],
          "carpet": [
           {
            "aaxis": {
             "endlinecolor": "#2a3f5f",
             "gridcolor": "white",
             "linecolor": "white",
             "minorgridcolor": "white",
             "startlinecolor": "#2a3f5f"
            },
            "baxis": {
             "endlinecolor": "#2a3f5f",
             "gridcolor": "white",
             "linecolor": "white",
             "minorgridcolor": "white",
             "startlinecolor": "#2a3f5f"
            },
            "type": "carpet"
           }
          ],
          "choropleth": [
           {
            "colorbar": {
             "outlinewidth": 0,
             "ticks": ""
            },
            "type": "choropleth"
           }
          ],
          "contour": [
           {
            "colorbar": {
             "outlinewidth": 0,
             "ticks": ""
            },
            "colorscale": [
             [
              0,
              "#0d0887"
             ],
             [
              0.1111111111111111,
              "#46039f"
             ],
             [
              0.2222222222222222,
              "#7201a8"
             ],
             [
              0.3333333333333333,
              "#9c179e"
             ],
             [
              0.4444444444444444,
              "#bd3786"
             ],
             [
              0.5555555555555556,
              "#d8576b"
             ],
             [
              0.6666666666666666,
              "#ed7953"
             ],
             [
              0.7777777777777778,
              "#fb9f3a"
             ],
             [
              0.8888888888888888,
              "#fdca26"
             ],
             [
              1,
              "#f0f921"
             ]
            ],
            "type": "contour"
           }
          ],
          "contourcarpet": [
           {
            "colorbar": {
             "outlinewidth": 0,
             "ticks": ""
            },
            "type": "contourcarpet"
           }
          ],
          "heatmap": [
           {
            "colorbar": {
             "outlinewidth": 0,
             "ticks": ""
            },
            "colorscale": [
             [
              0,
              "#0d0887"
             ],
             [
              0.1111111111111111,
              "#46039f"
             ],
             [
              0.2222222222222222,
              "#7201a8"
             ],
             [
              0.3333333333333333,
              "#9c179e"
             ],
             [
              0.4444444444444444,
              "#bd3786"
             ],
             [
              0.5555555555555556,
              "#d8576b"
             ],
             [
              0.6666666666666666,
              "#ed7953"
             ],
             [
              0.7777777777777778,
              "#fb9f3a"
             ],
             [
              0.8888888888888888,
              "#fdca26"
             ],
             [
              1,
              "#f0f921"
             ]
            ],
            "type": "heatmap"
           }
          ],
          "heatmapgl": [
           {
            "colorbar": {
             "outlinewidth": 0,
             "ticks": ""
            },
            "colorscale": [
             [
              0,
              "#0d0887"
             ],
             [
              0.1111111111111111,
              "#46039f"
             ],
             [
              0.2222222222222222,
              "#7201a8"
             ],
             [
              0.3333333333333333,
              "#9c179e"
             ],
             [
              0.4444444444444444,
              "#bd3786"
             ],
             [
              0.5555555555555556,
              "#d8576b"
             ],
             [
              0.6666666666666666,
              "#ed7953"
             ],
             [
              0.7777777777777778,
              "#fb9f3a"
             ],
             [
              0.8888888888888888,
              "#fdca26"
             ],
             [
              1,
              "#f0f921"
             ]
            ],
            "type": "heatmapgl"
           }
          ],
          "histogram": [
           {
            "marker": {
             "colorbar": {
              "outlinewidth": 0,
              "ticks": ""
             }
            },
            "type": "histogram"
           }
          ],
          "histogram2d": [
           {
            "colorbar": {
             "outlinewidth": 0,
             "ticks": ""
            },
            "colorscale": [
             [
              0,
              "#0d0887"
             ],
             [
              0.1111111111111111,
              "#46039f"
             ],
             [
              0.2222222222222222,
              "#7201a8"
             ],
             [
              0.3333333333333333,
              "#9c179e"
             ],
             [
              0.4444444444444444,
              "#bd3786"
             ],
             [
              0.5555555555555556,
              "#d8576b"
             ],
             [
              0.6666666666666666,
              "#ed7953"
             ],
             [
              0.7777777777777778,
              "#fb9f3a"
             ],
             [
              0.8888888888888888,
              "#fdca26"
             ],
             [
              1,
              "#f0f921"
             ]
            ],
            "type": "histogram2d"
           }
          ],
          "histogram2dcontour": [
           {
            "colorbar": {
             "outlinewidth": 0,
             "ticks": ""
            },
            "colorscale": [
             [
              0,
              "#0d0887"
             ],
             [
              0.1111111111111111,
              "#46039f"
             ],
             [
              0.2222222222222222,
              "#7201a8"
             ],
             [
              0.3333333333333333,
              "#9c179e"
             ],
             [
              0.4444444444444444,
              "#bd3786"
             ],
             [
              0.5555555555555556,
              "#d8576b"
             ],
             [
              0.6666666666666666,
              "#ed7953"
             ],
             [
              0.7777777777777778,
              "#fb9f3a"
             ],
             [
              0.8888888888888888,
              "#fdca26"
             ],
             [
              1,
              "#f0f921"
             ]
            ],
            "type": "histogram2dcontour"
           }
          ],
          "mesh3d": [
           {
            "colorbar": {
             "outlinewidth": 0,
             "ticks": ""
            },
            "type": "mesh3d"
           }
          ],
          "parcoords": [
           {
            "line": {
             "colorbar": {
              "outlinewidth": 0,
              "ticks": ""
             }
            },
            "type": "parcoords"
           }
          ],
          "pie": [
           {
            "automargin": true,
            "type": "pie"
           }
          ],
          "scatter": [
           {
            "marker": {
             "colorbar": {
              "outlinewidth": 0,
              "ticks": ""
             }
            },
            "type": "scatter"
           }
          ],
          "scatter3d": [
           {
            "line": {
             "colorbar": {
              "outlinewidth": 0,
              "ticks": ""
             }
            },
            "marker": {
             "colorbar": {
              "outlinewidth": 0,
              "ticks": ""
             }
            },
            "type": "scatter3d"
           }
          ],
          "scattercarpet": [
           {
            "marker": {
             "colorbar": {
              "outlinewidth": 0,
              "ticks": ""
             }
            },
            "type": "scattercarpet"
           }
          ],
          "scattergeo": [
           {
            "marker": {
             "colorbar": {
              "outlinewidth": 0,
              "ticks": ""
             }
            },
            "type": "scattergeo"
           }
          ],
          "scattergl": [
           {
            "marker": {
             "colorbar": {
              "outlinewidth": 0,
              "ticks": ""
             }
            },
            "type": "scattergl"
           }
          ],
          "scattermapbox": [
           {
            "marker": {
             "colorbar": {
              "outlinewidth": 0,
              "ticks": ""
             }
            },
            "type": "scattermapbox"
           }
          ],
          "scatterpolar": [
           {
            "marker": {
             "colorbar": {
              "outlinewidth": 0,
              "ticks": ""
             }
            },
            "type": "scatterpolar"
           }
          ],
          "scatterpolargl": [
           {
            "marker": {
             "colorbar": {
              "outlinewidth": 0,
              "ticks": ""
             }
            },
            "type": "scatterpolargl"
           }
          ],
          "scatterternary": [
           {
            "marker": {
             "colorbar": {
              "outlinewidth": 0,
              "ticks": ""
             }
            },
            "type": "scatterternary"
           }
          ],
          "surface": [
           {
            "colorbar": {
             "outlinewidth": 0,
             "ticks": ""
            },
            "colorscale": [
             [
              0,
              "#0d0887"
             ],
             [
              0.1111111111111111,
              "#46039f"
             ],
             [
              0.2222222222222222,
              "#7201a8"
             ],
             [
              0.3333333333333333,
              "#9c179e"
             ],
             [
              0.4444444444444444,
              "#bd3786"
             ],
             [
              0.5555555555555556,
              "#d8576b"
             ],
             [
              0.6666666666666666,
              "#ed7953"
             ],
             [
              0.7777777777777778,
              "#fb9f3a"
             ],
             [
              0.8888888888888888,
              "#fdca26"
             ],
             [
              1,
              "#f0f921"
             ]
            ],
            "type": "surface"
           }
          ],
          "table": [
           {
            "cells": {
             "fill": {
              "color": "#EBF0F8"
             },
             "line": {
              "color": "white"
             }
            },
            "header": {
             "fill": {
              "color": "#C8D4E3"
             },
             "line": {
              "color": "white"
             }
            },
            "type": "table"
           }
          ]
         },
         "layout": {
          "annotationdefaults": {
           "arrowcolor": "#2a3f5f",
           "arrowhead": 0,
           "arrowwidth": 1
          },
          "coloraxis": {
           "colorbar": {
            "outlinewidth": 0,
            "ticks": ""
           }
          },
          "colorscale": {
           "diverging": [
            [
             0,
             "#8e0152"
            ],
            [
             0.1,
             "#c51b7d"
            ],
            [
             0.2,
             "#de77ae"
            ],
            [
             0.3,
             "#f1b6da"
            ],
            [
             0.4,
             "#fde0ef"
            ],
            [
             0.5,
             "#f7f7f7"
            ],
            [
             0.6,
             "#e6f5d0"
            ],
            [
             0.7,
             "#b8e186"
            ],
            [
             0.8,
             "#7fbc41"
            ],
            [
             0.9,
             "#4d9221"
            ],
            [
             1,
             "#276419"
            ]
           ],
           "sequential": [
            [
             0,
             "#0d0887"
            ],
            [
             0.1111111111111111,
             "#46039f"
            ],
            [
             0.2222222222222222,
             "#7201a8"
            ],
            [
             0.3333333333333333,
             "#9c179e"
            ],
            [
             0.4444444444444444,
             "#bd3786"
            ],
            [
             0.5555555555555556,
             "#d8576b"
            ],
            [
             0.6666666666666666,
             "#ed7953"
            ],
            [
             0.7777777777777778,
             "#fb9f3a"
            ],
            [
             0.8888888888888888,
             "#fdca26"
            ],
            [
             1,
             "#f0f921"
            ]
           ],
           "sequentialminus": [
            [
             0,
             "#0d0887"
            ],
            [
             0.1111111111111111,
             "#46039f"
            ],
            [
             0.2222222222222222,
             "#7201a8"
            ],
            [
             0.3333333333333333,
             "#9c179e"
            ],
            [
             0.4444444444444444,
             "#bd3786"
            ],
            [
             0.5555555555555556,
             "#d8576b"
            ],
            [
             0.6666666666666666,
             "#ed7953"
            ],
            [
             0.7777777777777778,
             "#fb9f3a"
            ],
            [
             0.8888888888888888,
             "#fdca26"
            ],
            [
             1,
             "#f0f921"
            ]
           ]
          },
          "colorway": [
           "#636efa",
           "#EF553B",
           "#00cc96",
           "#ab63fa",
           "#FFA15A",
           "#19d3f3",
           "#FF6692",
           "#B6E880",
           "#FF97FF",
           "#FECB52"
          ],
          "font": {
           "color": "#2a3f5f"
          },
          "geo": {
           "bgcolor": "white",
           "lakecolor": "white",
           "landcolor": "#E5ECF6",
           "showlakes": true,
           "showland": true,
           "subunitcolor": "white"
          },
          "hoverlabel": {
           "align": "left"
          },
          "hovermode": "closest",
          "mapbox": {
           "style": "light"
          },
          "paper_bgcolor": "white",
          "plot_bgcolor": "#E5ECF6",
          "polar": {
           "angularaxis": {
            "gridcolor": "white",
            "linecolor": "white",
            "ticks": ""
           },
           "bgcolor": "#E5ECF6",
           "radialaxis": {
            "gridcolor": "white",
            "linecolor": "white",
            "ticks": ""
           }
          },
          "scene": {
           "xaxis": {
            "backgroundcolor": "#E5ECF6",
            "gridcolor": "white",
            "gridwidth": 2,
            "linecolor": "white",
            "showbackground": true,
            "ticks": "",
            "zerolinecolor": "white"
           },
           "yaxis": {
            "backgroundcolor": "#E5ECF6",
            "gridcolor": "white",
            "gridwidth": 2,
            "linecolor": "white",
            "showbackground": true,
            "ticks": "",
            "zerolinecolor": "white"
           },
           "zaxis": {
            "backgroundcolor": "#E5ECF6",
            "gridcolor": "white",
            "gridwidth": 2,
            "linecolor": "white",
            "showbackground": true,
            "ticks": "",
            "zerolinecolor": "white"
           }
          },
          "shapedefaults": {
           "line": {
            "color": "#2a3f5f"
           }
          },
          "ternary": {
           "aaxis": {
            "gridcolor": "white",
            "linecolor": "white",
            "ticks": ""
           },
           "baxis": {
            "gridcolor": "white",
            "linecolor": "white",
            "ticks": ""
           },
           "bgcolor": "#E5ECF6",
           "caxis": {
            "gridcolor": "white",
            "linecolor": "white",
            "ticks": ""
           }
          },
          "title": {
           "x": 0.05
          },
          "xaxis": {
           "automargin": true,
           "gridcolor": "white",
           "linecolor": "white",
           "ticks": "",
           "title": {
            "standoff": 15
           },
           "zerolinecolor": "white",
           "zerolinewidth": 2
          },
          "yaxis": {
           "automargin": true,
           "gridcolor": "white",
           "linecolor": "white",
           "ticks": "",
           "title": {
            "standoff": 15
           },
           "zerolinecolor": "white",
           "zerolinewidth": 2
          }
         }
        },
        "width": 600,
        "xaxis": {
         "showticklabels": false
        },
        "yaxis": {
         "showticklabels": false
        }
       }
      },
      "text/html": [
       "<div>                            <div id=\"6cc3afd8-1ff9-4d11-a4f3-4e4b38b117ca\" class=\"plotly-graph-div\" style=\"height:700px; width:600px;\"></div>            <script type=\"text/javascript\">                require([\"plotly\"], function(Plotly) {                    window.PLOTLYENV=window.PLOTLYENV || {};                                    if (document.getElementById(\"6cc3afd8-1ff9-4d11-a4f3-4e4b38b117ca\")) {                    Plotly.newPlot(                        \"6cc3afd8-1ff9-4d11-a4f3-4e4b38b117ca\",                        [{\"colorscale\": [[0.0, \"#000004\"], [0.1111111111111111, \"#180f3d\"], [0.2222222222222222, \"#440f76\"], [0.3333333333333333, \"#721f81\"], [0.4444444444444444, \"#9e2f7f\"], [0.5555555555555556, \"#cd4071\"], [0.6666666666666666, \"#f1605d\"], [0.7777777777777778, \"#fd9668\"], [0.8888888888888888, \"#feca8d\"], [1.0, \"#fcfdbf\"]], \"showscale\": false, \"type\": \"heatmap\", \"x\": [0, 1, 2], \"xgap\": 5, \"y\": [0, 1, 2], \"ygap\": 5, \"z\": [[6, 5, 7], [3, 0, 2], [1, 8, 4]]}],                        {\"annotations\": [{\"font\": {\"color\": \"green\", \"size\": 80}, \"showarrow\": false, \"text\": \"6\", \"x\": 0, \"xref\": \"x\", \"y\": 0, \"yref\": \"y\"}, {\"font\": {\"color\": \"green\", \"size\": 80}, \"showarrow\": false, \"text\": \"5\", \"x\": 1, \"xref\": \"x\", \"y\": 0, \"yref\": \"y\"}, {\"font\": {\"color\": \"green\", \"size\": 80}, \"showarrow\": false, \"text\": \"7\", \"x\": 2, \"xref\": \"x\", \"y\": 0, \"yref\": \"y\"}, {\"font\": {\"color\": \"green\", \"size\": 80}, \"showarrow\": false, \"text\": \"3\", \"x\": 0, \"xref\": \"x\", \"y\": 1, \"yref\": \"y\"}, {\"font\": {\"color\": \"green\", \"size\": 80}, \"showarrow\": false, \"text\": \"\", \"x\": 1, \"xref\": \"x\", \"y\": 1, \"yref\": \"y\"}, {\"font\": {\"color\": \"green\", \"size\": 80}, \"showarrow\": false, \"text\": \"2\", \"x\": 2, \"xref\": \"x\", \"y\": 1, \"yref\": \"y\"}, {\"font\": {\"color\": \"green\", \"size\": 80}, \"showarrow\": false, \"text\": \"1\", \"x\": 0, \"xref\": \"x\", \"y\": 2, \"yref\": \"y\"}, {\"font\": {\"color\": \"green\", \"size\": 80}, \"showarrow\": false, \"text\": \"8\", \"x\": 1, \"xref\": \"x\", \"y\": 2, \"yref\": \"y\"}, {\"font\": {\"color\": \"green\", \"size\": 80}, \"showarrow\": false, \"text\": \"4\", \"x\": 2, \"xref\": \"x\", \"y\": 2, \"yref\": \"y\"}], \"height\": 700, \"sliders\": [{\"active\": 0, \"currentvalue\": {\"font\": {\"size\": 20}, \"prefix\": \"Step:\", \"visible\": true, \"xanchor\": \"right\"}, \"len\": 0.9, \"pad\": {\"b\": 10, \"t\": 50}, \"steps\": [{\"args\": [[0], {\"frame\": {\"duration\": 300, \"redraw\": true}, \"mode\": \"immediate\", \"transition\": {\"duration\": 300}}], \"label\": \"0\", \"method\": \"animate\"}, {\"args\": [[1], {\"frame\": {\"duration\": 300, \"redraw\": true}, \"mode\": \"immediate\", \"transition\": {\"duration\": 300}}], \"label\": \"1\", \"method\": \"animate\"}, {\"args\": [[2], {\"frame\": {\"duration\": 300, \"redraw\": true}, \"mode\": \"immediate\", \"transition\": {\"duration\": 300}}], \"label\": \"2\", \"method\": \"animate\"}, {\"args\": [[3], {\"frame\": {\"duration\": 300, \"redraw\": true}, \"mode\": \"immediate\", \"transition\": {\"duration\": 300}}], \"label\": \"3\", \"method\": \"animate\"}, {\"args\": [[4], {\"frame\": {\"duration\": 300, \"redraw\": true}, \"mode\": \"immediate\", \"transition\": {\"duration\": 300}}], \"label\": \"4\", \"method\": \"animate\"}, {\"args\": [[5], {\"frame\": {\"duration\": 300, \"redraw\": true}, \"mode\": \"immediate\", \"transition\": {\"duration\": 300}}], \"label\": \"5\", \"method\": \"animate\"}, {\"args\": [[6], {\"frame\": {\"duration\": 300, \"redraw\": true}, \"mode\": \"immediate\", \"transition\": {\"duration\": 300}}], \"label\": \"6\", \"method\": \"animate\"}, {\"args\": [[7], {\"frame\": {\"duration\": 300, \"redraw\": true}, \"mode\": \"immediate\", \"transition\": {\"duration\": 300}}], \"label\": \"7\", \"method\": \"animate\"}, {\"args\": [[8], {\"frame\": {\"duration\": 300, \"redraw\": true}, \"mode\": \"immediate\", \"transition\": {\"duration\": 300}}], \"label\": \"8\", \"method\": \"animate\"}, {\"args\": [[9], {\"frame\": {\"duration\": 300, \"redraw\": true}, \"mode\": \"immediate\", \"transition\": {\"duration\": 300}}], \"label\": \"9\", \"method\": \"animate\"}, {\"args\": [[10], {\"frame\": {\"duration\": 300, \"redraw\": true}, \"mode\": \"immediate\", \"transition\": {\"duration\": 300}}], \"label\": \"10\", \"method\": \"animate\"}, {\"args\": [[11], {\"frame\": {\"duration\": 300, \"redraw\": true}, \"mode\": \"immediate\", \"transition\": {\"duration\": 300}}], \"label\": \"11\", \"method\": \"animate\"}, {\"args\": [[12], {\"frame\": {\"duration\": 300, \"redraw\": true}, \"mode\": \"immediate\", \"transition\": {\"duration\": 300}}], \"label\": \"12\", \"method\": \"animate\"}, {\"args\": [[13], {\"frame\": {\"duration\": 300, \"redraw\": true}, \"mode\": \"immediate\", \"transition\": {\"duration\": 300}}], \"label\": \"13\", \"method\": \"animate\"}, {\"args\": [[14], {\"frame\": {\"duration\": 300, \"redraw\": true}, \"mode\": \"immediate\", \"transition\": {\"duration\": 300}}], \"label\": \"14\", \"method\": \"animate\"}, {\"args\": [[15], {\"frame\": {\"duration\": 300, \"redraw\": true}, \"mode\": \"immediate\", \"transition\": {\"duration\": 300}}], \"label\": \"15\", \"method\": \"animate\"}, {\"args\": [[16], {\"frame\": {\"duration\": 300, \"redraw\": true}, \"mode\": \"immediate\", \"transition\": {\"duration\": 300}}], \"label\": \"16\", \"method\": \"animate\"}, {\"args\": [[17], {\"frame\": {\"duration\": 300, \"redraw\": true}, \"mode\": \"immediate\", \"transition\": {\"duration\": 300}}], \"label\": \"17\", \"method\": \"animate\"}, {\"args\": [[18], {\"frame\": {\"duration\": 300, \"redraw\": true}, \"mode\": \"immediate\", \"transition\": {\"duration\": 300}}], \"label\": \"18\", \"method\": \"animate\"}, {\"args\": [[19], {\"frame\": {\"duration\": 300, \"redraw\": true}, \"mode\": \"immediate\", \"transition\": {\"duration\": 300}}], \"label\": \"19\", \"method\": \"animate\"}, {\"args\": [[20], {\"frame\": {\"duration\": 300, \"redraw\": true}, \"mode\": \"immediate\", \"transition\": {\"duration\": 300}}], \"label\": \"20\", \"method\": \"animate\"}, {\"args\": [[21], {\"frame\": {\"duration\": 300, \"redraw\": true}, \"mode\": \"immediate\", \"transition\": {\"duration\": 300}}], \"label\": \"21\", \"method\": \"animate\"}, {\"args\": [[22], {\"frame\": {\"duration\": 300, \"redraw\": true}, \"mode\": \"immediate\", \"transition\": {\"duration\": 300}}], \"label\": \"22\", \"method\": \"animate\"}, {\"args\": [[23], {\"frame\": {\"duration\": 300, \"redraw\": true}, \"mode\": \"immediate\", \"transition\": {\"duration\": 300}}], \"label\": \"23\", \"method\": \"animate\"}, {\"args\": [[24], {\"frame\": {\"duration\": 300, \"redraw\": true}, \"mode\": \"immediate\", \"transition\": {\"duration\": 300}}], \"label\": \"24\", \"method\": \"animate\"}, {\"args\": [[25], {\"frame\": {\"duration\": 300, \"redraw\": true}, \"mode\": \"immediate\", \"transition\": {\"duration\": 300}}], \"label\": \"25\", \"method\": \"animate\"}, {\"args\": [[26], {\"frame\": {\"duration\": 300, \"redraw\": true}, \"mode\": \"immediate\", \"transition\": {\"duration\": 300}}], \"label\": \"26\", \"method\": \"animate\"}], \"transition\": {\"duration\": 300, \"easing\": \"cubic-in-out\"}, \"x\": 0.1, \"xanchor\": \"left\", \"y\": 0, \"yanchor\": \"top\"}], \"template\": {\"data\": {\"bar\": [{\"error_x\": {\"color\": \"#2a3f5f\"}, \"error_y\": {\"color\": \"#2a3f5f\"}, \"marker\": {\"line\": {\"color\": \"#E5ECF6\", \"width\": 0.5}}, \"type\": \"bar\"}], \"barpolar\": [{\"marker\": {\"line\": {\"color\": \"#E5ECF6\", \"width\": 0.5}}, \"type\": \"barpolar\"}], \"carpet\": [{\"aaxis\": {\"endlinecolor\": \"#2a3f5f\", \"gridcolor\": \"white\", \"linecolor\": \"white\", \"minorgridcolor\": \"white\", \"startlinecolor\": \"#2a3f5f\"}, \"baxis\": {\"endlinecolor\": \"#2a3f5f\", \"gridcolor\": \"white\", \"linecolor\": \"white\", \"minorgridcolor\": \"white\", \"startlinecolor\": \"#2a3f5f\"}, \"type\": \"carpet\"}], \"choropleth\": [{\"colorbar\": {\"outlinewidth\": 0, \"ticks\": \"\"}, \"type\": \"choropleth\"}], \"contour\": [{\"colorbar\": {\"outlinewidth\": 0, \"ticks\": \"\"}, \"colorscale\": [[0.0, \"#0d0887\"], [0.1111111111111111, \"#46039f\"], [0.2222222222222222, \"#7201a8\"], [0.3333333333333333, \"#9c179e\"], [0.4444444444444444, \"#bd3786\"], [0.5555555555555556, \"#d8576b\"], [0.6666666666666666, \"#ed7953\"], [0.7777777777777778, \"#fb9f3a\"], [0.8888888888888888, \"#fdca26\"], [1.0, \"#f0f921\"]], \"type\": \"contour\"}], \"contourcarpet\": [{\"colorbar\": {\"outlinewidth\": 0, \"ticks\": \"\"}, \"type\": \"contourcarpet\"}], \"heatmap\": [{\"colorbar\": {\"outlinewidth\": 0, \"ticks\": \"\"}, \"colorscale\": [[0.0, \"#0d0887\"], [0.1111111111111111, \"#46039f\"], [0.2222222222222222, \"#7201a8\"], [0.3333333333333333, \"#9c179e\"], [0.4444444444444444, \"#bd3786\"], [0.5555555555555556, \"#d8576b\"], [0.6666666666666666, \"#ed7953\"], [0.7777777777777778, \"#fb9f3a\"], [0.8888888888888888, \"#fdca26\"], [1.0, \"#f0f921\"]], \"type\": \"heatmap\"}], \"heatmapgl\": [{\"colorbar\": {\"outlinewidth\": 0, \"ticks\": \"\"}, \"colorscale\": [[0.0, \"#0d0887\"], [0.1111111111111111, \"#46039f\"], [0.2222222222222222, \"#7201a8\"], [0.3333333333333333, \"#9c179e\"], [0.4444444444444444, \"#bd3786\"], [0.5555555555555556, \"#d8576b\"], [0.6666666666666666, \"#ed7953\"], [0.7777777777777778, \"#fb9f3a\"], [0.8888888888888888, \"#fdca26\"], [1.0, \"#f0f921\"]], \"type\": \"heatmapgl\"}], \"histogram\": [{\"marker\": {\"colorbar\": {\"outlinewidth\": 0, \"ticks\": \"\"}}, \"type\": \"histogram\"}], \"histogram2d\": [{\"colorbar\": {\"outlinewidth\": 0, \"ticks\": \"\"}, \"colorscale\": [[0.0, \"#0d0887\"], [0.1111111111111111, \"#46039f\"], [0.2222222222222222, \"#7201a8\"], [0.3333333333333333, \"#9c179e\"], [0.4444444444444444, \"#bd3786\"], [0.5555555555555556, \"#d8576b\"], [0.6666666666666666, \"#ed7953\"], [0.7777777777777778, \"#fb9f3a\"], [0.8888888888888888, \"#fdca26\"], [1.0, \"#f0f921\"]], \"type\": \"histogram2d\"}], \"histogram2dcontour\": [{\"colorbar\": {\"outlinewidth\": 0, \"ticks\": \"\"}, \"colorscale\": [[0.0, \"#0d0887\"], [0.1111111111111111, \"#46039f\"], [0.2222222222222222, \"#7201a8\"], [0.3333333333333333, \"#9c179e\"], [0.4444444444444444, \"#bd3786\"], [0.5555555555555556, \"#d8576b\"], [0.6666666666666666, \"#ed7953\"], [0.7777777777777778, \"#fb9f3a\"], [0.8888888888888888, \"#fdca26\"], [1.0, \"#f0f921\"]], \"type\": \"histogram2dcontour\"}], \"mesh3d\": [{\"colorbar\": {\"outlinewidth\": 0, \"ticks\": \"\"}, \"type\": \"mesh3d\"}], \"parcoords\": [{\"line\": {\"colorbar\": {\"outlinewidth\": 0, \"ticks\": \"\"}}, \"type\": \"parcoords\"}], \"pie\": [{\"automargin\": true, \"type\": \"pie\"}], \"scatter\": [{\"marker\": {\"colorbar\": {\"outlinewidth\": 0, \"ticks\": \"\"}}, \"type\": \"scatter\"}], \"scatter3d\": [{\"line\": {\"colorbar\": {\"outlinewidth\": 0, \"ticks\": \"\"}}, \"marker\": {\"colorbar\": {\"outlinewidth\": 0, \"ticks\": \"\"}}, \"type\": \"scatter3d\"}], \"scattercarpet\": [{\"marker\": {\"colorbar\": {\"outlinewidth\": 0, \"ticks\": \"\"}}, \"type\": \"scattercarpet\"}], \"scattergeo\": [{\"marker\": {\"colorbar\": {\"outlinewidth\": 0, \"ticks\": \"\"}}, \"type\": \"scattergeo\"}], \"scattergl\": [{\"marker\": {\"colorbar\": {\"outlinewidth\": 0, \"ticks\": \"\"}}, \"type\": \"scattergl\"}], \"scattermapbox\": [{\"marker\": {\"colorbar\": {\"outlinewidth\": 0, \"ticks\": \"\"}}, \"type\": \"scattermapbox\"}], \"scatterpolar\": [{\"marker\": {\"colorbar\": {\"outlinewidth\": 0, \"ticks\": \"\"}}, \"type\": \"scatterpolar\"}], \"scatterpolargl\": [{\"marker\": {\"colorbar\": {\"outlinewidth\": 0, \"ticks\": \"\"}}, \"type\": \"scatterpolargl\"}], \"scatterternary\": [{\"marker\": {\"colorbar\": {\"outlinewidth\": 0, \"ticks\": \"\"}}, \"type\": \"scatterternary\"}], \"surface\": [{\"colorbar\": {\"outlinewidth\": 0, \"ticks\": \"\"}, \"colorscale\": [[0.0, \"#0d0887\"], [0.1111111111111111, \"#46039f\"], [0.2222222222222222, \"#7201a8\"], [0.3333333333333333, \"#9c179e\"], [0.4444444444444444, \"#bd3786\"], [0.5555555555555556, \"#d8576b\"], [0.6666666666666666, \"#ed7953\"], [0.7777777777777778, \"#fb9f3a\"], [0.8888888888888888, \"#fdca26\"], [1.0, \"#f0f921\"]], \"type\": \"surface\"}], \"table\": [{\"cells\": {\"fill\": {\"color\": \"#EBF0F8\"}, \"line\": {\"color\": \"white\"}}, \"header\": {\"fill\": {\"color\": \"#C8D4E3\"}, \"line\": {\"color\": \"white\"}}, \"type\": \"table\"}]}, \"layout\": {\"annotationdefaults\": {\"arrowcolor\": \"#2a3f5f\", \"arrowhead\": 0, \"arrowwidth\": 1}, \"coloraxis\": {\"colorbar\": {\"outlinewidth\": 0, \"ticks\": \"\"}}, \"colorscale\": {\"diverging\": [[0, \"#8e0152\"], [0.1, \"#c51b7d\"], [0.2, \"#de77ae\"], [0.3, \"#f1b6da\"], [0.4, \"#fde0ef\"], [0.5, \"#f7f7f7\"], [0.6, \"#e6f5d0\"], [0.7, \"#b8e186\"], [0.8, \"#7fbc41\"], [0.9, \"#4d9221\"], [1, \"#276419\"]], \"sequential\": [[0.0, \"#0d0887\"], [0.1111111111111111, \"#46039f\"], [0.2222222222222222, \"#7201a8\"], [0.3333333333333333, \"#9c179e\"], [0.4444444444444444, \"#bd3786\"], [0.5555555555555556, \"#d8576b\"], [0.6666666666666666, \"#ed7953\"], [0.7777777777777778, \"#fb9f3a\"], [0.8888888888888888, \"#fdca26\"], [1.0, \"#f0f921\"]], \"sequentialminus\": [[0.0, \"#0d0887\"], [0.1111111111111111, \"#46039f\"], [0.2222222222222222, \"#7201a8\"], [0.3333333333333333, \"#9c179e\"], [0.4444444444444444, \"#bd3786\"], [0.5555555555555556, \"#d8576b\"], [0.6666666666666666, \"#ed7953\"], [0.7777777777777778, \"#fb9f3a\"], [0.8888888888888888, \"#fdca26\"], [1.0, \"#f0f921\"]]}, \"colorway\": [\"#636efa\", \"#EF553B\", \"#00cc96\", \"#ab63fa\", \"#FFA15A\", \"#19d3f3\", \"#FF6692\", \"#B6E880\", \"#FF97FF\", \"#FECB52\"], \"font\": {\"color\": \"#2a3f5f\"}, \"geo\": {\"bgcolor\": \"white\", \"lakecolor\": \"white\", \"landcolor\": \"#E5ECF6\", \"showlakes\": true, \"showland\": true, \"subunitcolor\": \"white\"}, \"hoverlabel\": {\"align\": \"left\"}, \"hovermode\": \"closest\", \"mapbox\": {\"style\": \"light\"}, \"paper_bgcolor\": \"white\", \"plot_bgcolor\": \"#E5ECF6\", \"polar\": {\"angularaxis\": {\"gridcolor\": \"white\", \"linecolor\": \"white\", \"ticks\": \"\"}, \"bgcolor\": \"#E5ECF6\", \"radialaxis\": {\"gridcolor\": \"white\", \"linecolor\": \"white\", \"ticks\": \"\"}}, \"scene\": {\"xaxis\": {\"backgroundcolor\": \"#E5ECF6\", \"gridcolor\": \"white\", \"gridwidth\": 2, \"linecolor\": \"white\", \"showbackground\": true, \"ticks\": \"\", \"zerolinecolor\": \"white\"}, \"yaxis\": {\"backgroundcolor\": \"#E5ECF6\", \"gridcolor\": \"white\", \"gridwidth\": 2, \"linecolor\": \"white\", \"showbackground\": true, \"ticks\": \"\", \"zerolinecolor\": \"white\"}, \"zaxis\": {\"backgroundcolor\": \"#E5ECF6\", \"gridcolor\": \"white\", \"gridwidth\": 2, \"linecolor\": \"white\", \"showbackground\": true, \"ticks\": \"\", \"zerolinecolor\": \"white\"}}, \"shapedefaults\": {\"line\": {\"color\": \"#2a3f5f\"}}, \"ternary\": {\"aaxis\": {\"gridcolor\": \"white\", \"linecolor\": \"white\", \"ticks\": \"\"}, \"baxis\": {\"gridcolor\": \"white\", \"linecolor\": \"white\", \"ticks\": \"\"}, \"bgcolor\": \"#E5ECF6\", \"caxis\": {\"gridcolor\": \"white\", \"linecolor\": \"white\", \"ticks\": \"\"}}, \"title\": {\"x\": 0.05}, \"xaxis\": {\"automargin\": true, \"gridcolor\": \"white\", \"linecolor\": \"white\", \"ticks\": \"\", \"title\": {\"standoff\": 15}, \"zerolinecolor\": \"white\", \"zerolinewidth\": 2}, \"yaxis\": {\"automargin\": true, \"gridcolor\": \"white\", \"linecolor\": \"white\", \"ticks\": \"\", \"title\": {\"standoff\": 15}, \"zerolinecolor\": \"white\", \"zerolinewidth\": 2}}}, \"width\": 600, \"xaxis\": {\"showticklabels\": false}, \"yaxis\": {\"showticklabels\": false}},                        {\"responsive\": true}                    ).then(function(){\n",
       "                            Plotly.addFrames('6cc3afd8-1ff9-4d11-a4f3-4e4b38b117ca', [{\"data\": [{\"colorscale\": [[0.0, \"#000004\"], [0.1111111111111111, \"#180f3d\"], [0.2222222222222222, \"#440f76\"], [0.3333333333333333, \"#721f81\"], [0.4444444444444444, \"#9e2f7f\"], [0.5555555555555556, \"#cd4071\"], [0.6666666666666666, \"#f1605d\"], [0.7777777777777778, \"#fd9668\"], [0.8888888888888888, \"#feca8d\"], [1.0, \"#fcfdbf\"]], \"showscale\": false, \"x\": [0, 1, 2], \"xgap\": 5, \"y\": [0, 1, 2], \"ygap\": 5, \"z\": [[6, 5, 7], [3, 0, 2], [1, 8, 4]], \"type\": \"heatmap\"}], \"layout\": {\"annotations\": [{\"font\": {\"color\": \"green\", \"size\": 80}, \"showarrow\": false, \"text\": \"6\", \"x\": 0, \"xref\": \"x\", \"y\": 0, \"yref\": \"y\"}, {\"font\": {\"color\": \"green\", \"size\": 80}, \"showarrow\": false, \"text\": \"5\", \"x\": 1, \"xref\": \"x\", \"y\": 0, \"yref\": \"y\"}, {\"font\": {\"color\": \"green\", \"size\": 80}, \"showarrow\": false, \"text\": \"7\", \"x\": 2, \"xref\": \"x\", \"y\": 0, \"yref\": \"y\"}, {\"font\": {\"color\": \"green\", \"size\": 80}, \"showarrow\": false, \"text\": \"3\", \"x\": 0, \"xref\": \"x\", \"y\": 1, \"yref\": \"y\"}, {\"font\": {\"color\": \"green\", \"size\": 80}, \"showarrow\": false, \"text\": \"\", \"x\": 1, \"xref\": \"x\", \"y\": 1, \"yref\": \"y\"}, {\"font\": {\"color\": \"green\", \"size\": 80}, \"showarrow\": false, \"text\": \"2\", \"x\": 2, \"xref\": \"x\", \"y\": 1, \"yref\": \"y\"}, {\"font\": {\"color\": \"green\", \"size\": 80}, \"showarrow\": false, \"text\": \"1\", \"x\": 0, \"xref\": \"x\", \"y\": 2, \"yref\": \"y\"}, {\"font\": {\"color\": \"green\", \"size\": 80}, \"showarrow\": false, \"text\": \"8\", \"x\": 1, \"xref\": \"x\", \"y\": 2, \"yref\": \"y\"}, {\"font\": {\"color\": \"green\", \"size\": 80}, \"showarrow\": false, \"text\": \"4\", \"x\": 2, \"xref\": \"x\", \"y\": 2, \"yref\": \"y\"}], \"height\": 700, \"width\": 600, \"xaxis\": {\"showticklabels\": false}, \"yaxis\": {\"showticklabels\": false}}, \"name\": \"0\"}, {\"data\": [{\"colorscale\": [[0.0, \"#000004\"], [0.1111111111111111, \"#180f3d\"], [0.2222222222222222, \"#440f76\"], [0.3333333333333333, \"#721f81\"], [0.4444444444444444, \"#9e2f7f\"], [0.5555555555555556, \"#cd4071\"], [0.6666666666666666, \"#f1605d\"], [0.7777777777777778, \"#fd9668\"], [0.8888888888888888, \"#feca8d\"], [1.0, \"#fcfdbf\"]], \"showscale\": false, \"x\": [0, 1, 2], \"xgap\": 5, \"y\": [0, 1, 2], \"ygap\": 5, \"z\": [[6, 5, 7], [3, 8, 2], [1, 0, 4]], \"type\": \"heatmap\"}], \"layout\": {\"annotations\": [{\"font\": {\"color\": \"green\", \"size\": 80}, \"showarrow\": false, \"text\": \"6\", \"x\": 0, \"xref\": \"x\", \"y\": 0, \"yref\": \"y\"}, {\"font\": {\"color\": \"green\", \"size\": 80}, \"showarrow\": false, \"text\": \"5\", \"x\": 1, \"xref\": \"x\", \"y\": 0, \"yref\": \"y\"}, {\"font\": {\"color\": \"green\", \"size\": 80}, \"showarrow\": false, \"text\": \"7\", \"x\": 2, \"xref\": \"x\", \"y\": 0, \"yref\": \"y\"}, {\"font\": {\"color\": \"green\", \"size\": 80}, \"showarrow\": false, \"text\": \"3\", \"x\": 0, \"xref\": \"x\", \"y\": 1, \"yref\": \"y\"}, {\"font\": {\"color\": \"green\", \"size\": 80}, \"showarrow\": false, \"text\": \"8\", \"x\": 1, \"xref\": \"x\", \"y\": 1, \"yref\": \"y\"}, {\"font\": {\"color\": \"green\", \"size\": 80}, \"showarrow\": false, \"text\": \"2\", \"x\": 2, \"xref\": \"x\", \"y\": 1, \"yref\": \"y\"}, {\"font\": {\"color\": \"green\", \"size\": 80}, \"showarrow\": false, \"text\": \"1\", \"x\": 0, \"xref\": \"x\", \"y\": 2, \"yref\": \"y\"}, {\"font\": {\"color\": \"green\", \"size\": 80}, \"showarrow\": false, \"text\": \"\", \"x\": 1, \"xref\": \"x\", \"y\": 2, \"yref\": \"y\"}, {\"font\": {\"color\": \"green\", \"size\": 80}, \"showarrow\": false, \"text\": \"4\", \"x\": 2, \"xref\": \"x\", \"y\": 2, \"yref\": \"y\"}], \"height\": 700, \"width\": 600, \"xaxis\": {\"showticklabels\": false}, \"yaxis\": {\"showticklabels\": false}}, \"name\": \"1\"}, {\"data\": [{\"colorscale\": [[0.0, \"#000004\"], [0.1111111111111111, \"#180f3d\"], [0.2222222222222222, \"#440f76\"], [0.3333333333333333, \"#721f81\"], [0.4444444444444444, \"#9e2f7f\"], [0.5555555555555556, \"#cd4071\"], [0.6666666666666666, \"#f1605d\"], [0.7777777777777778, \"#fd9668\"], [0.8888888888888888, \"#feca8d\"], [1.0, \"#fcfdbf\"]], \"showscale\": false, \"x\": [0, 1, 2], \"xgap\": 5, \"y\": [0, 1, 2], \"ygap\": 5, \"z\": [[6, 5, 7], [3, 8, 2], [1, 4, 0]], \"type\": \"heatmap\"}], \"layout\": {\"annotations\": [{\"font\": {\"color\": \"green\", \"size\": 80}, \"showarrow\": false, \"text\": \"6\", \"x\": 0, \"xref\": \"x\", \"y\": 0, \"yref\": \"y\"}, {\"font\": {\"color\": \"green\", \"size\": 80}, \"showarrow\": false, \"text\": \"5\", \"x\": 1, \"xref\": \"x\", \"y\": 0, \"yref\": \"y\"}, {\"font\": {\"color\": \"green\", \"size\": 80}, \"showarrow\": false, \"text\": \"7\", \"x\": 2, \"xref\": \"x\", \"y\": 0, \"yref\": \"y\"}, {\"font\": {\"color\": \"green\", \"size\": 80}, \"showarrow\": false, \"text\": \"3\", \"x\": 0, \"xref\": \"x\", \"y\": 1, \"yref\": \"y\"}, {\"font\": {\"color\": \"green\", \"size\": 80}, \"showarrow\": false, \"text\": \"8\", \"x\": 1, \"xref\": \"x\", \"y\": 1, \"yref\": \"y\"}, {\"font\": {\"color\": \"green\", \"size\": 80}, \"showarrow\": false, \"text\": \"2\", \"x\": 2, \"xref\": \"x\", \"y\": 1, \"yref\": \"y\"}, {\"font\": {\"color\": \"green\", \"size\": 80}, \"showarrow\": false, \"text\": \"1\", \"x\": 0, \"xref\": \"x\", \"y\": 2, \"yref\": \"y\"}, {\"font\": {\"color\": \"green\", \"size\": 80}, \"showarrow\": false, \"text\": \"4\", \"x\": 1, \"xref\": \"x\", \"y\": 2, \"yref\": \"y\"}, {\"font\": {\"color\": \"green\", \"size\": 80}, \"showarrow\": false, \"text\": \"\", \"x\": 2, \"xref\": \"x\", \"y\": 2, \"yref\": \"y\"}], \"height\": 700, \"width\": 600, \"xaxis\": {\"showticklabels\": false}, \"yaxis\": {\"showticklabels\": false}}, \"name\": \"2\"}, {\"data\": [{\"colorscale\": [[0.0, \"#000004\"], [0.1111111111111111, \"#180f3d\"], [0.2222222222222222, \"#440f76\"], [0.3333333333333333, \"#721f81\"], [0.4444444444444444, \"#9e2f7f\"], [0.5555555555555556, \"#cd4071\"], [0.6666666666666666, \"#f1605d\"], [0.7777777777777778, \"#fd9668\"], [0.8888888888888888, \"#feca8d\"], [1.0, \"#fcfdbf\"]], \"showscale\": false, \"x\": [0, 1, 2], \"xgap\": 5, \"y\": [0, 1, 2], \"ygap\": 5, \"z\": [[6, 5, 7], [3, 8, 0], [1, 4, 2]], \"type\": \"heatmap\"}], \"layout\": {\"annotations\": [{\"font\": {\"color\": \"green\", \"size\": 80}, \"showarrow\": false, \"text\": \"6\", \"x\": 0, \"xref\": \"x\", \"y\": 0, \"yref\": \"y\"}, {\"font\": {\"color\": \"green\", \"size\": 80}, \"showarrow\": false, \"text\": \"5\", \"x\": 1, \"xref\": \"x\", \"y\": 0, \"yref\": \"y\"}, {\"font\": {\"color\": \"green\", \"size\": 80}, \"showarrow\": false, \"text\": \"7\", \"x\": 2, \"xref\": \"x\", \"y\": 0, \"yref\": \"y\"}, {\"font\": {\"color\": \"green\", \"size\": 80}, \"showarrow\": false, \"text\": \"3\", \"x\": 0, \"xref\": \"x\", \"y\": 1, \"yref\": \"y\"}, {\"font\": {\"color\": \"green\", \"size\": 80}, \"showarrow\": false, \"text\": \"8\", \"x\": 1, \"xref\": \"x\", \"y\": 1, \"yref\": \"y\"}, {\"font\": {\"color\": \"green\", \"size\": 80}, \"showarrow\": false, \"text\": \"\", \"x\": 2, \"xref\": \"x\", \"y\": 1, \"yref\": \"y\"}, {\"font\": {\"color\": \"green\", \"size\": 80}, \"showarrow\": false, \"text\": \"1\", \"x\": 0, \"xref\": \"x\", \"y\": 2, \"yref\": \"y\"}, {\"font\": {\"color\": \"green\", \"size\": 80}, \"showarrow\": false, \"text\": \"4\", \"x\": 1, \"xref\": \"x\", \"y\": 2, \"yref\": \"y\"}, {\"font\": {\"color\": \"green\", \"size\": 80}, \"showarrow\": false, \"text\": \"2\", \"x\": 2, \"xref\": \"x\", \"y\": 2, \"yref\": \"y\"}], \"height\": 700, \"width\": 600, \"xaxis\": {\"showticklabels\": false}, \"yaxis\": {\"showticklabels\": false}}, \"name\": \"3\"}, {\"data\": [{\"colorscale\": [[0.0, \"#000004\"], [0.1111111111111111, \"#180f3d\"], [0.2222222222222222, \"#440f76\"], [0.3333333333333333, \"#721f81\"], [0.4444444444444444, \"#9e2f7f\"], [0.5555555555555556, \"#cd4071\"], [0.6666666666666666, \"#f1605d\"], [0.7777777777777778, \"#fd9668\"], [0.8888888888888888, \"#feca8d\"], [1.0, \"#fcfdbf\"]], \"showscale\": false, \"x\": [0, 1, 2], \"xgap\": 5, \"y\": [0, 1, 2], \"ygap\": 5, \"z\": [[6, 5, 7], [3, 0, 8], [1, 4, 2]], \"type\": \"heatmap\"}], \"layout\": {\"annotations\": [{\"font\": {\"color\": \"green\", \"size\": 80}, \"showarrow\": false, \"text\": \"6\", \"x\": 0, \"xref\": \"x\", \"y\": 0, \"yref\": \"y\"}, {\"font\": {\"color\": \"green\", \"size\": 80}, \"showarrow\": false, \"text\": \"5\", \"x\": 1, \"xref\": \"x\", \"y\": 0, \"yref\": \"y\"}, {\"font\": {\"color\": \"green\", \"size\": 80}, \"showarrow\": false, \"text\": \"7\", \"x\": 2, \"xref\": \"x\", \"y\": 0, \"yref\": \"y\"}, {\"font\": {\"color\": \"green\", \"size\": 80}, \"showarrow\": false, \"text\": \"3\", \"x\": 0, \"xref\": \"x\", \"y\": 1, \"yref\": \"y\"}, {\"font\": {\"color\": \"green\", \"size\": 80}, \"showarrow\": false, \"text\": \"\", \"x\": 1, \"xref\": \"x\", \"y\": 1, \"yref\": \"y\"}, {\"font\": {\"color\": \"green\", \"size\": 80}, \"showarrow\": false, \"text\": \"8\", \"x\": 2, \"xref\": \"x\", \"y\": 1, \"yref\": \"y\"}, {\"font\": {\"color\": \"green\", \"size\": 80}, \"showarrow\": false, \"text\": \"1\", \"x\": 0, \"xref\": \"x\", \"y\": 2, \"yref\": \"y\"}, {\"font\": {\"color\": \"green\", \"size\": 80}, \"showarrow\": false, \"text\": \"4\", \"x\": 1, \"xref\": \"x\", \"y\": 2, \"yref\": \"y\"}, {\"font\": {\"color\": \"green\", \"size\": 80}, \"showarrow\": false, \"text\": \"2\", \"x\": 2, \"xref\": \"x\", \"y\": 2, \"yref\": \"y\"}], \"height\": 700, \"width\": 600, \"xaxis\": {\"showticklabels\": false}, \"yaxis\": {\"showticklabels\": false}}, \"name\": \"4\"}, {\"data\": [{\"colorscale\": [[0.0, \"#000004\"], [0.1111111111111111, \"#180f3d\"], [0.2222222222222222, \"#440f76\"], [0.3333333333333333, \"#721f81\"], [0.4444444444444444, \"#9e2f7f\"], [0.5555555555555556, \"#cd4071\"], [0.6666666666666666, \"#f1605d\"], [0.7777777777777778, \"#fd9668\"], [0.8888888888888888, \"#feca8d\"], [1.0, \"#fcfdbf\"]], \"showscale\": false, \"x\": [0, 1, 2], \"xgap\": 5, \"y\": [0, 1, 2], \"ygap\": 5, \"z\": [[6, 5, 7], [0, 3, 8], [1, 4, 2]], \"type\": \"heatmap\"}], \"layout\": {\"annotations\": [{\"font\": {\"color\": \"green\", \"size\": 80}, \"showarrow\": false, \"text\": \"6\", \"x\": 0, \"xref\": \"x\", \"y\": 0, \"yref\": \"y\"}, {\"font\": {\"color\": \"green\", \"size\": 80}, \"showarrow\": false, \"text\": \"5\", \"x\": 1, \"xref\": \"x\", \"y\": 0, \"yref\": \"y\"}, {\"font\": {\"color\": \"green\", \"size\": 80}, \"showarrow\": false, \"text\": \"7\", \"x\": 2, \"xref\": \"x\", \"y\": 0, \"yref\": \"y\"}, {\"font\": {\"color\": \"green\", \"size\": 80}, \"showarrow\": false, \"text\": \"\", \"x\": 0, \"xref\": \"x\", \"y\": 1, \"yref\": \"y\"}, {\"font\": {\"color\": \"green\", \"size\": 80}, \"showarrow\": false, \"text\": \"3\", \"x\": 1, \"xref\": \"x\", \"y\": 1, \"yref\": \"y\"}, {\"font\": {\"color\": \"green\", \"size\": 80}, \"showarrow\": false, \"text\": \"8\", \"x\": 2, \"xref\": \"x\", \"y\": 1, \"yref\": \"y\"}, {\"font\": {\"color\": \"green\", \"size\": 80}, \"showarrow\": false, \"text\": \"1\", \"x\": 0, \"xref\": \"x\", \"y\": 2, \"yref\": \"y\"}, {\"font\": {\"color\": \"green\", \"size\": 80}, \"showarrow\": false, \"text\": \"4\", \"x\": 1, \"xref\": \"x\", \"y\": 2, \"yref\": \"y\"}, {\"font\": {\"color\": \"green\", \"size\": 80}, \"showarrow\": false, \"text\": \"2\", \"x\": 2, \"xref\": \"x\", \"y\": 2, \"yref\": \"y\"}], \"height\": 700, \"width\": 600, \"xaxis\": {\"showticklabels\": false}, \"yaxis\": {\"showticklabels\": false}}, \"name\": \"5\"}, {\"data\": [{\"colorscale\": [[0.0, \"#000004\"], [0.1111111111111111, \"#180f3d\"], [0.2222222222222222, \"#440f76\"], [0.3333333333333333, \"#721f81\"], [0.4444444444444444, \"#9e2f7f\"], [0.5555555555555556, \"#cd4071\"], [0.6666666666666666, \"#f1605d\"], [0.7777777777777778, \"#fd9668\"], [0.8888888888888888, \"#feca8d\"], [1.0, \"#fcfdbf\"]], \"showscale\": false, \"x\": [0, 1, 2], \"xgap\": 5, \"y\": [0, 1, 2], \"ygap\": 5, \"z\": [[0, 5, 7], [6, 3, 8], [1, 4, 2]], \"type\": \"heatmap\"}], \"layout\": {\"annotations\": [{\"font\": {\"color\": \"green\", \"size\": 80}, \"showarrow\": false, \"text\": \"\", \"x\": 0, \"xref\": \"x\", \"y\": 0, \"yref\": \"y\"}, {\"font\": {\"color\": \"green\", \"size\": 80}, \"showarrow\": false, \"text\": \"5\", \"x\": 1, \"xref\": \"x\", \"y\": 0, \"yref\": \"y\"}, {\"font\": {\"color\": \"green\", \"size\": 80}, \"showarrow\": false, \"text\": \"7\", \"x\": 2, \"xref\": \"x\", \"y\": 0, \"yref\": \"y\"}, {\"font\": {\"color\": \"green\", \"size\": 80}, \"showarrow\": false, \"text\": \"6\", \"x\": 0, \"xref\": \"x\", \"y\": 1, \"yref\": \"y\"}, {\"font\": {\"color\": \"green\", \"size\": 80}, \"showarrow\": false, \"text\": \"3\", \"x\": 1, \"xref\": \"x\", \"y\": 1, \"yref\": \"y\"}, {\"font\": {\"color\": \"green\", \"size\": 80}, \"showarrow\": false, \"text\": \"8\", \"x\": 2, \"xref\": \"x\", \"y\": 1, \"yref\": \"y\"}, {\"font\": {\"color\": \"green\", \"size\": 80}, \"showarrow\": false, \"text\": \"1\", \"x\": 0, \"xref\": \"x\", \"y\": 2, \"yref\": \"y\"}, {\"font\": {\"color\": \"green\", \"size\": 80}, \"showarrow\": false, \"text\": \"4\", \"x\": 1, \"xref\": \"x\", \"y\": 2, \"yref\": \"y\"}, {\"font\": {\"color\": \"green\", \"size\": 80}, \"showarrow\": false, \"text\": \"2\", \"x\": 2, \"xref\": \"x\", \"y\": 2, \"yref\": \"y\"}], \"height\": 700, \"width\": 600, \"xaxis\": {\"showticklabels\": false}, \"yaxis\": {\"showticklabels\": false}}, \"name\": \"6\"}, {\"data\": [{\"colorscale\": [[0.0, \"#000004\"], [0.1111111111111111, \"#180f3d\"], [0.2222222222222222, \"#440f76\"], [0.3333333333333333, \"#721f81\"], [0.4444444444444444, \"#9e2f7f\"], [0.5555555555555556, \"#cd4071\"], [0.6666666666666666, \"#f1605d\"], [0.7777777777777778, \"#fd9668\"], [0.8888888888888888, \"#feca8d\"], [1.0, \"#fcfdbf\"]], \"showscale\": false, \"x\": [0, 1, 2], \"xgap\": 5, \"y\": [0, 1, 2], \"ygap\": 5, \"z\": [[5, 0, 7], [6, 3, 8], [1, 4, 2]], \"type\": \"heatmap\"}], \"layout\": {\"annotations\": [{\"font\": {\"color\": \"green\", \"size\": 80}, \"showarrow\": false, \"text\": \"5\", \"x\": 0, \"xref\": \"x\", \"y\": 0, \"yref\": \"y\"}, {\"font\": {\"color\": \"green\", \"size\": 80}, \"showarrow\": false, \"text\": \"\", \"x\": 1, \"xref\": \"x\", \"y\": 0, \"yref\": \"y\"}, {\"font\": {\"color\": \"green\", \"size\": 80}, \"showarrow\": false, \"text\": \"7\", \"x\": 2, \"xref\": \"x\", \"y\": 0, \"yref\": \"y\"}, {\"font\": {\"color\": \"green\", \"size\": 80}, \"showarrow\": false, \"text\": \"6\", \"x\": 0, \"xref\": \"x\", \"y\": 1, \"yref\": \"y\"}, {\"font\": {\"color\": \"green\", \"size\": 80}, \"showarrow\": false, \"text\": \"3\", \"x\": 1, \"xref\": \"x\", \"y\": 1, \"yref\": \"y\"}, {\"font\": {\"color\": \"green\", \"size\": 80}, \"showarrow\": false, \"text\": \"8\", \"x\": 2, \"xref\": \"x\", \"y\": 1, \"yref\": \"y\"}, {\"font\": {\"color\": \"green\", \"size\": 80}, \"showarrow\": false, \"text\": \"1\", \"x\": 0, \"xref\": \"x\", \"y\": 2, \"yref\": \"y\"}, {\"font\": {\"color\": \"green\", \"size\": 80}, \"showarrow\": false, \"text\": \"4\", \"x\": 1, \"xref\": \"x\", \"y\": 2, \"yref\": \"y\"}, {\"font\": {\"color\": \"green\", \"size\": 80}, \"showarrow\": false, \"text\": \"2\", \"x\": 2, \"xref\": \"x\", \"y\": 2, \"yref\": \"y\"}], \"height\": 700, \"width\": 600, \"xaxis\": {\"showticklabels\": false}, \"yaxis\": {\"showticklabels\": false}}, \"name\": \"7\"}, {\"data\": [{\"colorscale\": [[0.0, \"#000004\"], [0.1111111111111111, \"#180f3d\"], [0.2222222222222222, \"#440f76\"], [0.3333333333333333, \"#721f81\"], [0.4444444444444444, \"#9e2f7f\"], [0.5555555555555556, \"#cd4071\"], [0.6666666666666666, \"#f1605d\"], [0.7777777777777778, \"#fd9668\"], [0.8888888888888888, \"#feca8d\"], [1.0, \"#fcfdbf\"]], \"showscale\": false, \"x\": [0, 1, 2], \"xgap\": 5, \"y\": [0, 1, 2], \"ygap\": 5, \"z\": [[5, 7, 0], [6, 3, 8], [1, 4, 2]], \"type\": \"heatmap\"}], \"layout\": {\"annotations\": [{\"font\": {\"color\": \"green\", \"size\": 80}, \"showarrow\": false, \"text\": \"5\", \"x\": 0, \"xref\": \"x\", \"y\": 0, \"yref\": \"y\"}, {\"font\": {\"color\": \"green\", \"size\": 80}, \"showarrow\": false, \"text\": \"7\", \"x\": 1, \"xref\": \"x\", \"y\": 0, \"yref\": \"y\"}, {\"font\": {\"color\": \"green\", \"size\": 80}, \"showarrow\": false, \"text\": \"\", \"x\": 2, \"xref\": \"x\", \"y\": 0, \"yref\": \"y\"}, {\"font\": {\"color\": \"green\", \"size\": 80}, \"showarrow\": false, \"text\": \"6\", \"x\": 0, \"xref\": \"x\", \"y\": 1, \"yref\": \"y\"}, {\"font\": {\"color\": \"green\", \"size\": 80}, \"showarrow\": false, \"text\": \"3\", \"x\": 1, \"xref\": \"x\", \"y\": 1, \"yref\": \"y\"}, {\"font\": {\"color\": \"green\", \"size\": 80}, \"showarrow\": false, \"text\": \"8\", \"x\": 2, \"xref\": \"x\", \"y\": 1, \"yref\": \"y\"}, {\"font\": {\"color\": \"green\", \"size\": 80}, \"showarrow\": false, \"text\": \"1\", \"x\": 0, \"xref\": \"x\", \"y\": 2, \"yref\": \"y\"}, {\"font\": {\"color\": \"green\", \"size\": 80}, \"showarrow\": false, \"text\": \"4\", \"x\": 1, \"xref\": \"x\", \"y\": 2, \"yref\": \"y\"}, {\"font\": {\"color\": \"green\", \"size\": 80}, \"showarrow\": false, \"text\": \"2\", \"x\": 2, \"xref\": \"x\", \"y\": 2, \"yref\": \"y\"}], \"height\": 700, \"width\": 600, \"xaxis\": {\"showticklabels\": false}, \"yaxis\": {\"showticklabels\": false}}, \"name\": \"8\"}, {\"data\": [{\"colorscale\": [[0.0, \"#000004\"], [0.1111111111111111, \"#180f3d\"], [0.2222222222222222, \"#440f76\"], [0.3333333333333333, \"#721f81\"], [0.4444444444444444, \"#9e2f7f\"], [0.5555555555555556, \"#cd4071\"], [0.6666666666666666, \"#f1605d\"], [0.7777777777777778, \"#fd9668\"], [0.8888888888888888, \"#feca8d\"], [1.0, \"#fcfdbf\"]], \"showscale\": false, \"x\": [0, 1, 2], \"xgap\": 5, \"y\": [0, 1, 2], \"ygap\": 5, \"z\": [[5, 7, 8], [6, 3, 0], [1, 4, 2]], \"type\": \"heatmap\"}], \"layout\": {\"annotations\": [{\"font\": {\"color\": \"green\", \"size\": 80}, \"showarrow\": false, \"text\": \"5\", \"x\": 0, \"xref\": \"x\", \"y\": 0, \"yref\": \"y\"}, {\"font\": {\"color\": \"green\", \"size\": 80}, \"showarrow\": false, \"text\": \"7\", \"x\": 1, \"xref\": \"x\", \"y\": 0, \"yref\": \"y\"}, {\"font\": {\"color\": \"green\", \"size\": 80}, \"showarrow\": false, \"text\": \"8\", \"x\": 2, \"xref\": \"x\", \"y\": 0, \"yref\": \"y\"}, {\"font\": {\"color\": \"green\", \"size\": 80}, \"showarrow\": false, \"text\": \"6\", \"x\": 0, \"xref\": \"x\", \"y\": 1, \"yref\": \"y\"}, {\"font\": {\"color\": \"green\", \"size\": 80}, \"showarrow\": false, \"text\": \"3\", \"x\": 1, \"xref\": \"x\", \"y\": 1, \"yref\": \"y\"}, {\"font\": {\"color\": \"green\", \"size\": 80}, \"showarrow\": false, \"text\": \"\", \"x\": 2, \"xref\": \"x\", \"y\": 1, \"yref\": \"y\"}, {\"font\": {\"color\": \"green\", \"size\": 80}, \"showarrow\": false, \"text\": \"1\", \"x\": 0, \"xref\": \"x\", \"y\": 2, \"yref\": \"y\"}, {\"font\": {\"color\": \"green\", \"size\": 80}, \"showarrow\": false, \"text\": \"4\", \"x\": 1, \"xref\": \"x\", \"y\": 2, \"yref\": \"y\"}, {\"font\": {\"color\": \"green\", \"size\": 80}, \"showarrow\": false, \"text\": \"2\", \"x\": 2, \"xref\": \"x\", \"y\": 2, \"yref\": \"y\"}], \"height\": 700, \"width\": 600, \"xaxis\": {\"showticklabels\": false}, \"yaxis\": {\"showticklabels\": false}}, \"name\": \"9\"}, {\"data\": [{\"colorscale\": [[0.0, \"#000004\"], [0.1111111111111111, \"#180f3d\"], [0.2222222222222222, \"#440f76\"], [0.3333333333333333, \"#721f81\"], [0.4444444444444444, \"#9e2f7f\"], [0.5555555555555556, \"#cd4071\"], [0.6666666666666666, \"#f1605d\"], [0.7777777777777778, \"#fd9668\"], [0.8888888888888888, \"#feca8d\"], [1.0, \"#fcfdbf\"]], \"showscale\": false, \"x\": [0, 1, 2], \"xgap\": 5, \"y\": [0, 1, 2], \"ygap\": 5, \"z\": [[5, 7, 8], [6, 0, 3], [1, 4, 2]], \"type\": \"heatmap\"}], \"layout\": {\"annotations\": [{\"font\": {\"color\": \"green\", \"size\": 80}, \"showarrow\": false, \"text\": \"5\", \"x\": 0, \"xref\": \"x\", \"y\": 0, \"yref\": \"y\"}, {\"font\": {\"color\": \"green\", \"size\": 80}, \"showarrow\": false, \"text\": \"7\", \"x\": 1, \"xref\": \"x\", \"y\": 0, \"yref\": \"y\"}, {\"font\": {\"color\": \"green\", \"size\": 80}, \"showarrow\": false, \"text\": \"8\", \"x\": 2, \"xref\": \"x\", \"y\": 0, \"yref\": \"y\"}, {\"font\": {\"color\": \"green\", \"size\": 80}, \"showarrow\": false, \"text\": \"6\", \"x\": 0, \"xref\": \"x\", \"y\": 1, \"yref\": \"y\"}, {\"font\": {\"color\": \"green\", \"size\": 80}, \"showarrow\": false, \"text\": \"\", \"x\": 1, \"xref\": \"x\", \"y\": 1, \"yref\": \"y\"}, {\"font\": {\"color\": \"green\", \"size\": 80}, \"showarrow\": false, \"text\": \"3\", \"x\": 2, \"xref\": \"x\", \"y\": 1, \"yref\": \"y\"}, {\"font\": {\"color\": \"green\", \"size\": 80}, \"showarrow\": false, \"text\": \"1\", \"x\": 0, \"xref\": \"x\", \"y\": 2, \"yref\": \"y\"}, {\"font\": {\"color\": \"green\", \"size\": 80}, \"showarrow\": false, \"text\": \"4\", \"x\": 1, \"xref\": \"x\", \"y\": 2, \"yref\": \"y\"}, {\"font\": {\"color\": \"green\", \"size\": 80}, \"showarrow\": false, \"text\": \"2\", \"x\": 2, \"xref\": \"x\", \"y\": 2, \"yref\": \"y\"}], \"height\": 700, \"width\": 600, \"xaxis\": {\"showticklabels\": false}, \"yaxis\": {\"showticklabels\": false}}, \"name\": \"10\"}, {\"data\": [{\"colorscale\": [[0.0, \"#000004\"], [0.1111111111111111, \"#180f3d\"], [0.2222222222222222, \"#440f76\"], [0.3333333333333333, \"#721f81\"], [0.4444444444444444, \"#9e2f7f\"], [0.5555555555555556, \"#cd4071\"], [0.6666666666666666, \"#f1605d\"], [0.7777777777777778, \"#fd9668\"], [0.8888888888888888, \"#feca8d\"], [1.0, \"#fcfdbf\"]], \"showscale\": false, \"x\": [0, 1, 2], \"xgap\": 5, \"y\": [0, 1, 2], \"ygap\": 5, \"z\": [[5, 7, 8], [6, 4, 3], [1, 0, 2]], \"type\": \"heatmap\"}], \"layout\": {\"annotations\": [{\"font\": {\"color\": \"green\", \"size\": 80}, \"showarrow\": false, \"text\": \"5\", \"x\": 0, \"xref\": \"x\", \"y\": 0, \"yref\": \"y\"}, {\"font\": {\"color\": \"green\", \"size\": 80}, \"showarrow\": false, \"text\": \"7\", \"x\": 1, \"xref\": \"x\", \"y\": 0, \"yref\": \"y\"}, {\"font\": {\"color\": \"green\", \"size\": 80}, \"showarrow\": false, \"text\": \"8\", \"x\": 2, \"xref\": \"x\", \"y\": 0, \"yref\": \"y\"}, {\"font\": {\"color\": \"green\", \"size\": 80}, \"showarrow\": false, \"text\": \"6\", \"x\": 0, \"xref\": \"x\", \"y\": 1, \"yref\": \"y\"}, {\"font\": {\"color\": \"green\", \"size\": 80}, \"showarrow\": false, \"text\": \"4\", \"x\": 1, \"xref\": \"x\", \"y\": 1, \"yref\": \"y\"}, {\"font\": {\"color\": \"green\", \"size\": 80}, \"showarrow\": false, \"text\": \"3\", \"x\": 2, \"xref\": \"x\", \"y\": 1, \"yref\": \"y\"}, {\"font\": {\"color\": \"green\", \"size\": 80}, \"showarrow\": false, \"text\": \"1\", \"x\": 0, \"xref\": \"x\", \"y\": 2, \"yref\": \"y\"}, {\"font\": {\"color\": \"green\", \"size\": 80}, \"showarrow\": false, \"text\": \"\", \"x\": 1, \"xref\": \"x\", \"y\": 2, \"yref\": \"y\"}, {\"font\": {\"color\": \"green\", \"size\": 80}, \"showarrow\": false, \"text\": \"2\", \"x\": 2, \"xref\": \"x\", \"y\": 2, \"yref\": \"y\"}], \"height\": 700, \"width\": 600, \"xaxis\": {\"showticklabels\": false}, \"yaxis\": {\"showticklabels\": false}}, \"name\": \"11\"}, {\"data\": [{\"colorscale\": [[0.0, \"#000004\"], [0.1111111111111111, \"#180f3d\"], [0.2222222222222222, \"#440f76\"], [0.3333333333333333, \"#721f81\"], [0.4444444444444444, \"#9e2f7f\"], [0.5555555555555556, \"#cd4071\"], [0.6666666666666666, \"#f1605d\"], [0.7777777777777778, \"#fd9668\"], [0.8888888888888888, \"#feca8d\"], [1.0, \"#fcfdbf\"]], \"showscale\": false, \"x\": [0, 1, 2], \"xgap\": 5, \"y\": [0, 1, 2], \"ygap\": 5, \"z\": [[5, 7, 8], [6, 4, 3], [1, 2, 0]], \"type\": \"heatmap\"}], \"layout\": {\"annotations\": [{\"font\": {\"color\": \"green\", \"size\": 80}, \"showarrow\": false, \"text\": \"5\", \"x\": 0, \"xref\": \"x\", \"y\": 0, \"yref\": \"y\"}, {\"font\": {\"color\": \"green\", \"size\": 80}, \"showarrow\": false, \"text\": \"7\", \"x\": 1, \"xref\": \"x\", \"y\": 0, \"yref\": \"y\"}, {\"font\": {\"color\": \"green\", \"size\": 80}, \"showarrow\": false, \"text\": \"8\", \"x\": 2, \"xref\": \"x\", \"y\": 0, \"yref\": \"y\"}, {\"font\": {\"color\": \"green\", \"size\": 80}, \"showarrow\": false, \"text\": \"6\", \"x\": 0, \"xref\": \"x\", \"y\": 1, \"yref\": \"y\"}, {\"font\": {\"color\": \"green\", \"size\": 80}, \"showarrow\": false, \"text\": \"4\", \"x\": 1, \"xref\": \"x\", \"y\": 1, \"yref\": \"y\"}, {\"font\": {\"color\": \"green\", \"size\": 80}, \"showarrow\": false, \"text\": \"3\", \"x\": 2, \"xref\": \"x\", \"y\": 1, \"yref\": \"y\"}, {\"font\": {\"color\": \"green\", \"size\": 80}, \"showarrow\": false, \"text\": \"1\", \"x\": 0, \"xref\": \"x\", \"y\": 2, \"yref\": \"y\"}, {\"font\": {\"color\": \"green\", \"size\": 80}, \"showarrow\": false, \"text\": \"2\", \"x\": 1, \"xref\": \"x\", \"y\": 2, \"yref\": \"y\"}, {\"font\": {\"color\": \"green\", \"size\": 80}, \"showarrow\": false, \"text\": \"\", \"x\": 2, \"xref\": \"x\", \"y\": 2, \"yref\": \"y\"}], \"height\": 700, \"width\": 600, \"xaxis\": {\"showticklabels\": false}, \"yaxis\": {\"showticklabels\": false}}, \"name\": \"12\"}, {\"data\": [{\"colorscale\": [[0.0, \"#000004\"], [0.1111111111111111, \"#180f3d\"], [0.2222222222222222, \"#440f76\"], [0.3333333333333333, \"#721f81\"], [0.4444444444444444, \"#9e2f7f\"], [0.5555555555555556, \"#cd4071\"], [0.6666666666666666, \"#f1605d\"], [0.7777777777777778, \"#fd9668\"], [0.8888888888888888, \"#feca8d\"], [1.0, \"#fcfdbf\"]], \"showscale\": false, \"x\": [0, 1, 2], \"xgap\": 5, \"y\": [0, 1, 2], \"ygap\": 5, \"z\": [[5, 7, 8], [6, 4, 0], [1, 2, 3]], \"type\": \"heatmap\"}], \"layout\": {\"annotations\": [{\"font\": {\"color\": \"green\", \"size\": 80}, \"showarrow\": false, \"text\": \"5\", \"x\": 0, \"xref\": \"x\", \"y\": 0, \"yref\": \"y\"}, {\"font\": {\"color\": \"green\", \"size\": 80}, \"showarrow\": false, \"text\": \"7\", \"x\": 1, \"xref\": \"x\", \"y\": 0, \"yref\": \"y\"}, {\"font\": {\"color\": \"green\", \"size\": 80}, \"showarrow\": false, \"text\": \"8\", \"x\": 2, \"xref\": \"x\", \"y\": 0, \"yref\": \"y\"}, {\"font\": {\"color\": \"green\", \"size\": 80}, \"showarrow\": false, \"text\": \"6\", \"x\": 0, \"xref\": \"x\", \"y\": 1, \"yref\": \"y\"}, {\"font\": {\"color\": \"green\", \"size\": 80}, \"showarrow\": false, \"text\": \"4\", \"x\": 1, \"xref\": \"x\", \"y\": 1, \"yref\": \"y\"}, {\"font\": {\"color\": \"green\", \"size\": 80}, \"showarrow\": false, \"text\": \"\", \"x\": 2, \"xref\": \"x\", \"y\": 1, \"yref\": \"y\"}, {\"font\": {\"color\": \"green\", \"size\": 80}, \"showarrow\": false, \"text\": \"1\", \"x\": 0, \"xref\": \"x\", \"y\": 2, \"yref\": \"y\"}, {\"font\": {\"color\": \"green\", \"size\": 80}, \"showarrow\": false, \"text\": \"2\", \"x\": 1, \"xref\": \"x\", \"y\": 2, \"yref\": \"y\"}, {\"font\": {\"color\": \"green\", \"size\": 80}, \"showarrow\": false, \"text\": \"3\", \"x\": 2, \"xref\": \"x\", \"y\": 2, \"yref\": \"y\"}], \"height\": 700, \"width\": 600, \"xaxis\": {\"showticklabels\": false}, \"yaxis\": {\"showticklabels\": false}}, \"name\": \"13\"}, {\"data\": [{\"colorscale\": [[0.0, \"#000004\"], [0.1111111111111111, \"#180f3d\"], [0.2222222222222222, \"#440f76\"], [0.3333333333333333, \"#721f81\"], [0.4444444444444444, \"#9e2f7f\"], [0.5555555555555556, \"#cd4071\"], [0.6666666666666666, \"#f1605d\"], [0.7777777777777778, \"#fd9668\"], [0.8888888888888888, \"#feca8d\"], [1.0, \"#fcfdbf\"]], \"showscale\": false, \"x\": [0, 1, 2], \"xgap\": 5, \"y\": [0, 1, 2], \"ygap\": 5, \"z\": [[5, 7, 0], [6, 4, 8], [1, 2, 3]], \"type\": \"heatmap\"}], \"layout\": {\"annotations\": [{\"font\": {\"color\": \"green\", \"size\": 80}, \"showarrow\": false, \"text\": \"5\", \"x\": 0, \"xref\": \"x\", \"y\": 0, \"yref\": \"y\"}, {\"font\": {\"color\": \"green\", \"size\": 80}, \"showarrow\": false, \"text\": \"7\", \"x\": 1, \"xref\": \"x\", \"y\": 0, \"yref\": \"y\"}, {\"font\": {\"color\": \"green\", \"size\": 80}, \"showarrow\": false, \"text\": \"\", \"x\": 2, \"xref\": \"x\", \"y\": 0, \"yref\": \"y\"}, {\"font\": {\"color\": \"green\", \"size\": 80}, \"showarrow\": false, \"text\": \"6\", \"x\": 0, \"xref\": \"x\", \"y\": 1, \"yref\": \"y\"}, {\"font\": {\"color\": \"green\", \"size\": 80}, \"showarrow\": false, \"text\": \"4\", \"x\": 1, \"xref\": \"x\", \"y\": 1, \"yref\": \"y\"}, {\"font\": {\"color\": \"green\", \"size\": 80}, \"showarrow\": false, \"text\": \"8\", \"x\": 2, \"xref\": \"x\", \"y\": 1, \"yref\": \"y\"}, {\"font\": {\"color\": \"green\", \"size\": 80}, \"showarrow\": false, \"text\": \"1\", \"x\": 0, \"xref\": \"x\", \"y\": 2, \"yref\": \"y\"}, {\"font\": {\"color\": \"green\", \"size\": 80}, \"showarrow\": false, \"text\": \"2\", \"x\": 1, \"xref\": \"x\", \"y\": 2, \"yref\": \"y\"}, {\"font\": {\"color\": \"green\", \"size\": 80}, \"showarrow\": false, \"text\": \"3\", \"x\": 2, \"xref\": \"x\", \"y\": 2, \"yref\": \"y\"}], \"height\": 700, \"width\": 600, \"xaxis\": {\"showticklabels\": false}, \"yaxis\": {\"showticklabels\": false}}, \"name\": \"14\"}, {\"data\": [{\"colorscale\": [[0.0, \"#000004\"], [0.1111111111111111, \"#180f3d\"], [0.2222222222222222, \"#440f76\"], [0.3333333333333333, \"#721f81\"], [0.4444444444444444, \"#9e2f7f\"], [0.5555555555555556, \"#cd4071\"], [0.6666666666666666, \"#f1605d\"], [0.7777777777777778, \"#fd9668\"], [0.8888888888888888, \"#feca8d\"], [1.0, \"#fcfdbf\"]], \"showscale\": false, \"x\": [0, 1, 2], \"xgap\": 5, \"y\": [0, 1, 2], \"ygap\": 5, \"z\": [[5, 0, 7], [6, 4, 8], [1, 2, 3]], \"type\": \"heatmap\"}], \"layout\": {\"annotations\": [{\"font\": {\"color\": \"green\", \"size\": 80}, \"showarrow\": false, \"text\": \"5\", \"x\": 0, \"xref\": \"x\", \"y\": 0, \"yref\": \"y\"}, {\"font\": {\"color\": \"green\", \"size\": 80}, \"showarrow\": false, \"text\": \"\", \"x\": 1, \"xref\": \"x\", \"y\": 0, \"yref\": \"y\"}, {\"font\": {\"color\": \"green\", \"size\": 80}, \"showarrow\": false, \"text\": \"7\", \"x\": 2, \"xref\": \"x\", \"y\": 0, \"yref\": \"y\"}, {\"font\": {\"color\": \"green\", \"size\": 80}, \"showarrow\": false, \"text\": \"6\", \"x\": 0, \"xref\": \"x\", \"y\": 1, \"yref\": \"y\"}, {\"font\": {\"color\": \"green\", \"size\": 80}, \"showarrow\": false, \"text\": \"4\", \"x\": 1, \"xref\": \"x\", \"y\": 1, \"yref\": \"y\"}, {\"font\": {\"color\": \"green\", \"size\": 80}, \"showarrow\": false, \"text\": \"8\", \"x\": 2, \"xref\": \"x\", \"y\": 1, \"yref\": \"y\"}, {\"font\": {\"color\": \"green\", \"size\": 80}, \"showarrow\": false, \"text\": \"1\", \"x\": 0, \"xref\": \"x\", \"y\": 2, \"yref\": \"y\"}, {\"font\": {\"color\": \"green\", \"size\": 80}, \"showarrow\": false, \"text\": \"2\", \"x\": 1, \"xref\": \"x\", \"y\": 2, \"yref\": \"y\"}, {\"font\": {\"color\": \"green\", \"size\": 80}, \"showarrow\": false, \"text\": \"3\", \"x\": 2, \"xref\": \"x\", \"y\": 2, \"yref\": \"y\"}], \"height\": 700, \"width\": 600, \"xaxis\": {\"showticklabels\": false}, \"yaxis\": {\"showticklabels\": false}}, \"name\": \"15\"}, {\"data\": [{\"colorscale\": [[0.0, \"#000004\"], [0.1111111111111111, \"#180f3d\"], [0.2222222222222222, \"#440f76\"], [0.3333333333333333, \"#721f81\"], [0.4444444444444444, \"#9e2f7f\"], [0.5555555555555556, \"#cd4071\"], [0.6666666666666666, \"#f1605d\"], [0.7777777777777778, \"#fd9668\"], [0.8888888888888888, \"#feca8d\"], [1.0, \"#fcfdbf\"]], \"showscale\": false, \"x\": [0, 1, 2], \"xgap\": 5, \"y\": [0, 1, 2], \"ygap\": 5, \"z\": [[5, 4, 7], [6, 0, 8], [1, 2, 3]], \"type\": \"heatmap\"}], \"layout\": {\"annotations\": [{\"font\": {\"color\": \"green\", \"size\": 80}, \"showarrow\": false, \"text\": \"5\", \"x\": 0, \"xref\": \"x\", \"y\": 0, \"yref\": \"y\"}, {\"font\": {\"color\": \"green\", \"size\": 80}, \"showarrow\": false, \"text\": \"4\", \"x\": 1, \"xref\": \"x\", \"y\": 0, \"yref\": \"y\"}, {\"font\": {\"color\": \"green\", \"size\": 80}, \"showarrow\": false, \"text\": \"7\", \"x\": 2, \"xref\": \"x\", \"y\": 0, \"yref\": \"y\"}, {\"font\": {\"color\": \"green\", \"size\": 80}, \"showarrow\": false, \"text\": \"6\", \"x\": 0, \"xref\": \"x\", \"y\": 1, \"yref\": \"y\"}, {\"font\": {\"color\": \"green\", \"size\": 80}, \"showarrow\": false, \"text\": \"\", \"x\": 1, \"xref\": \"x\", \"y\": 1, \"yref\": \"y\"}, {\"font\": {\"color\": \"green\", \"size\": 80}, \"showarrow\": false, \"text\": \"8\", \"x\": 2, \"xref\": \"x\", \"y\": 1, \"yref\": \"y\"}, {\"font\": {\"color\": \"green\", \"size\": 80}, \"showarrow\": false, \"text\": \"1\", \"x\": 0, \"xref\": \"x\", \"y\": 2, \"yref\": \"y\"}, {\"font\": {\"color\": \"green\", \"size\": 80}, \"showarrow\": false, \"text\": \"2\", \"x\": 1, \"xref\": \"x\", \"y\": 2, \"yref\": \"y\"}, {\"font\": {\"color\": \"green\", \"size\": 80}, \"showarrow\": false, \"text\": \"3\", \"x\": 2, \"xref\": \"x\", \"y\": 2, \"yref\": \"y\"}], \"height\": 700, \"width\": 600, \"xaxis\": {\"showticklabels\": false}, \"yaxis\": {\"showticklabels\": false}}, \"name\": \"16\"}, {\"data\": [{\"colorscale\": [[0.0, \"#000004\"], [0.1111111111111111, \"#180f3d\"], [0.2222222222222222, \"#440f76\"], [0.3333333333333333, \"#721f81\"], [0.4444444444444444, \"#9e2f7f\"], [0.5555555555555556, \"#cd4071\"], [0.6666666666666666, \"#f1605d\"], [0.7777777777777778, \"#fd9668\"], [0.8888888888888888, \"#feca8d\"], [1.0, \"#fcfdbf\"]], \"showscale\": false, \"x\": [0, 1, 2], \"xgap\": 5, \"y\": [0, 1, 2], \"ygap\": 5, \"z\": [[5, 4, 7], [0, 6, 8], [1, 2, 3]], \"type\": \"heatmap\"}], \"layout\": {\"annotations\": [{\"font\": {\"color\": \"green\", \"size\": 80}, \"showarrow\": false, \"text\": \"5\", \"x\": 0, \"xref\": \"x\", \"y\": 0, \"yref\": \"y\"}, {\"font\": {\"color\": \"green\", \"size\": 80}, \"showarrow\": false, \"text\": \"4\", \"x\": 1, \"xref\": \"x\", \"y\": 0, \"yref\": \"y\"}, {\"font\": {\"color\": \"green\", \"size\": 80}, \"showarrow\": false, \"text\": \"7\", \"x\": 2, \"xref\": \"x\", \"y\": 0, \"yref\": \"y\"}, {\"font\": {\"color\": \"green\", \"size\": 80}, \"showarrow\": false, \"text\": \"\", \"x\": 0, \"xref\": \"x\", \"y\": 1, \"yref\": \"y\"}, {\"font\": {\"color\": \"green\", \"size\": 80}, \"showarrow\": false, \"text\": \"6\", \"x\": 1, \"xref\": \"x\", \"y\": 1, \"yref\": \"y\"}, {\"font\": {\"color\": \"green\", \"size\": 80}, \"showarrow\": false, \"text\": \"8\", \"x\": 2, \"xref\": \"x\", \"y\": 1, \"yref\": \"y\"}, {\"font\": {\"color\": \"green\", \"size\": 80}, \"showarrow\": false, \"text\": \"1\", \"x\": 0, \"xref\": \"x\", \"y\": 2, \"yref\": \"y\"}, {\"font\": {\"color\": \"green\", \"size\": 80}, \"showarrow\": false, \"text\": \"2\", \"x\": 1, \"xref\": \"x\", \"y\": 2, \"yref\": \"y\"}, {\"font\": {\"color\": \"green\", \"size\": 80}, \"showarrow\": false, \"text\": \"3\", \"x\": 2, \"xref\": \"x\", \"y\": 2, \"yref\": \"y\"}], \"height\": 700, \"width\": 600, \"xaxis\": {\"showticklabels\": false}, \"yaxis\": {\"showticklabels\": false}}, \"name\": \"17\"}, {\"data\": [{\"colorscale\": [[0.0, \"#000004\"], [0.1111111111111111, \"#180f3d\"], [0.2222222222222222, \"#440f76\"], [0.3333333333333333, \"#721f81\"], [0.4444444444444444, \"#9e2f7f\"], [0.5555555555555556, \"#cd4071\"], [0.6666666666666666, \"#f1605d\"], [0.7777777777777778, \"#fd9668\"], [0.8888888888888888, \"#feca8d\"], [1.0, \"#fcfdbf\"]], \"showscale\": false, \"x\": [0, 1, 2], \"xgap\": 5, \"y\": [0, 1, 2], \"ygap\": 5, \"z\": [[0, 4, 7], [5, 6, 8], [1, 2, 3]], \"type\": \"heatmap\"}], \"layout\": {\"annotations\": [{\"font\": {\"color\": \"green\", \"size\": 80}, \"showarrow\": false, \"text\": \"\", \"x\": 0, \"xref\": \"x\", \"y\": 0, \"yref\": \"y\"}, {\"font\": {\"color\": \"green\", \"size\": 80}, \"showarrow\": false, \"text\": \"4\", \"x\": 1, \"xref\": \"x\", \"y\": 0, \"yref\": \"y\"}, {\"font\": {\"color\": \"green\", \"size\": 80}, \"showarrow\": false, \"text\": \"7\", \"x\": 2, \"xref\": \"x\", \"y\": 0, \"yref\": \"y\"}, {\"font\": {\"color\": \"green\", \"size\": 80}, \"showarrow\": false, \"text\": \"5\", \"x\": 0, \"xref\": \"x\", \"y\": 1, \"yref\": \"y\"}, {\"font\": {\"color\": \"green\", \"size\": 80}, \"showarrow\": false, \"text\": \"6\", \"x\": 1, \"xref\": \"x\", \"y\": 1, \"yref\": \"y\"}, {\"font\": {\"color\": \"green\", \"size\": 80}, \"showarrow\": false, \"text\": \"8\", \"x\": 2, \"xref\": \"x\", \"y\": 1, \"yref\": \"y\"}, {\"font\": {\"color\": \"green\", \"size\": 80}, \"showarrow\": false, \"text\": \"1\", \"x\": 0, \"xref\": \"x\", \"y\": 2, \"yref\": \"y\"}, {\"font\": {\"color\": \"green\", \"size\": 80}, \"showarrow\": false, \"text\": \"2\", \"x\": 1, \"xref\": \"x\", \"y\": 2, \"yref\": \"y\"}, {\"font\": {\"color\": \"green\", \"size\": 80}, \"showarrow\": false, \"text\": \"3\", \"x\": 2, \"xref\": \"x\", \"y\": 2, \"yref\": \"y\"}], \"height\": 700, \"width\": 600, \"xaxis\": {\"showticklabels\": false}, \"yaxis\": {\"showticklabels\": false}}, \"name\": \"18\"}, {\"data\": [{\"colorscale\": [[0.0, \"#000004\"], [0.1111111111111111, \"#180f3d\"], [0.2222222222222222, \"#440f76\"], [0.3333333333333333, \"#721f81\"], [0.4444444444444444, \"#9e2f7f\"], [0.5555555555555556, \"#cd4071\"], [0.6666666666666666, \"#f1605d\"], [0.7777777777777778, \"#fd9668\"], [0.8888888888888888, \"#feca8d\"], [1.0, \"#fcfdbf\"]], \"showscale\": false, \"x\": [0, 1, 2], \"xgap\": 5, \"y\": [0, 1, 2], \"ygap\": 5, \"z\": [[4, 0, 7], [5, 6, 8], [1, 2, 3]], \"type\": \"heatmap\"}], \"layout\": {\"annotations\": [{\"font\": {\"color\": \"green\", \"size\": 80}, \"showarrow\": false, \"text\": \"4\", \"x\": 0, \"xref\": \"x\", \"y\": 0, \"yref\": \"y\"}, {\"font\": {\"color\": \"green\", \"size\": 80}, \"showarrow\": false, \"text\": \"\", \"x\": 1, \"xref\": \"x\", \"y\": 0, \"yref\": \"y\"}, {\"font\": {\"color\": \"green\", \"size\": 80}, \"showarrow\": false, \"text\": \"7\", \"x\": 2, \"xref\": \"x\", \"y\": 0, \"yref\": \"y\"}, {\"font\": {\"color\": \"green\", \"size\": 80}, \"showarrow\": false, \"text\": \"5\", \"x\": 0, \"xref\": \"x\", \"y\": 1, \"yref\": \"y\"}, {\"font\": {\"color\": \"green\", \"size\": 80}, \"showarrow\": false, \"text\": \"6\", \"x\": 1, \"xref\": \"x\", \"y\": 1, \"yref\": \"y\"}, {\"font\": {\"color\": \"green\", \"size\": 80}, \"showarrow\": false, \"text\": \"8\", \"x\": 2, \"xref\": \"x\", \"y\": 1, \"yref\": \"y\"}, {\"font\": {\"color\": \"green\", \"size\": 80}, \"showarrow\": false, \"text\": \"1\", \"x\": 0, \"xref\": \"x\", \"y\": 2, \"yref\": \"y\"}, {\"font\": {\"color\": \"green\", \"size\": 80}, \"showarrow\": false, \"text\": \"2\", \"x\": 1, \"xref\": \"x\", \"y\": 2, \"yref\": \"y\"}, {\"font\": {\"color\": \"green\", \"size\": 80}, \"showarrow\": false, \"text\": \"3\", \"x\": 2, \"xref\": \"x\", \"y\": 2, \"yref\": \"y\"}], \"height\": 700, \"width\": 600, \"xaxis\": {\"showticklabels\": false}, \"yaxis\": {\"showticklabels\": false}}, \"name\": \"19\"}, {\"data\": [{\"colorscale\": [[0.0, \"#000004\"], [0.1111111111111111, \"#180f3d\"], [0.2222222222222222, \"#440f76\"], [0.3333333333333333, \"#721f81\"], [0.4444444444444444, \"#9e2f7f\"], [0.5555555555555556, \"#cd4071\"], [0.6666666666666666, \"#f1605d\"], [0.7777777777777778, \"#fd9668\"], [0.8888888888888888, \"#feca8d\"], [1.0, \"#fcfdbf\"]], \"showscale\": false, \"x\": [0, 1, 2], \"xgap\": 5, \"y\": [0, 1, 2], \"ygap\": 5, \"z\": [[4, 7, 0], [5, 6, 8], [1, 2, 3]], \"type\": \"heatmap\"}], \"layout\": {\"annotations\": [{\"font\": {\"color\": \"green\", \"size\": 80}, \"showarrow\": false, \"text\": \"4\", \"x\": 0, \"xref\": \"x\", \"y\": 0, \"yref\": \"y\"}, {\"font\": {\"color\": \"green\", \"size\": 80}, \"showarrow\": false, \"text\": \"7\", \"x\": 1, \"xref\": \"x\", \"y\": 0, \"yref\": \"y\"}, {\"font\": {\"color\": \"green\", \"size\": 80}, \"showarrow\": false, \"text\": \"\", \"x\": 2, \"xref\": \"x\", \"y\": 0, \"yref\": \"y\"}, {\"font\": {\"color\": \"green\", \"size\": 80}, \"showarrow\": false, \"text\": \"5\", \"x\": 0, \"xref\": \"x\", \"y\": 1, \"yref\": \"y\"}, {\"font\": {\"color\": \"green\", \"size\": 80}, \"showarrow\": false, \"text\": \"6\", \"x\": 1, \"xref\": \"x\", \"y\": 1, \"yref\": \"y\"}, {\"font\": {\"color\": \"green\", \"size\": 80}, \"showarrow\": false, \"text\": \"8\", \"x\": 2, \"xref\": \"x\", \"y\": 1, \"yref\": \"y\"}, {\"font\": {\"color\": \"green\", \"size\": 80}, \"showarrow\": false, \"text\": \"1\", \"x\": 0, \"xref\": \"x\", \"y\": 2, \"yref\": \"y\"}, {\"font\": {\"color\": \"green\", \"size\": 80}, \"showarrow\": false, \"text\": \"2\", \"x\": 1, \"xref\": \"x\", \"y\": 2, \"yref\": \"y\"}, {\"font\": {\"color\": \"green\", \"size\": 80}, \"showarrow\": false, \"text\": \"3\", \"x\": 2, \"xref\": \"x\", \"y\": 2, \"yref\": \"y\"}], \"height\": 700, \"width\": 600, \"xaxis\": {\"showticklabels\": false}, \"yaxis\": {\"showticklabels\": false}}, \"name\": \"20\"}, {\"data\": [{\"colorscale\": [[0.0, \"#000004\"], [0.1111111111111111, \"#180f3d\"], [0.2222222222222222, \"#440f76\"], [0.3333333333333333, \"#721f81\"], [0.4444444444444444, \"#9e2f7f\"], [0.5555555555555556, \"#cd4071\"], [0.6666666666666666, \"#f1605d\"], [0.7777777777777778, \"#fd9668\"], [0.8888888888888888, \"#feca8d\"], [1.0, \"#fcfdbf\"]], \"showscale\": false, \"x\": [0, 1, 2], \"xgap\": 5, \"y\": [0, 1, 2], \"ygap\": 5, \"z\": [[4, 7, 8], [5, 6, 0], [1, 2, 3]], \"type\": \"heatmap\"}], \"layout\": {\"annotations\": [{\"font\": {\"color\": \"green\", \"size\": 80}, \"showarrow\": false, \"text\": \"4\", \"x\": 0, \"xref\": \"x\", \"y\": 0, \"yref\": \"y\"}, {\"font\": {\"color\": \"green\", \"size\": 80}, \"showarrow\": false, \"text\": \"7\", \"x\": 1, \"xref\": \"x\", \"y\": 0, \"yref\": \"y\"}, {\"font\": {\"color\": \"green\", \"size\": 80}, \"showarrow\": false, \"text\": \"8\", \"x\": 2, \"xref\": \"x\", \"y\": 0, \"yref\": \"y\"}, {\"font\": {\"color\": \"green\", \"size\": 80}, \"showarrow\": false, \"text\": \"5\", \"x\": 0, \"xref\": \"x\", \"y\": 1, \"yref\": \"y\"}, {\"font\": {\"color\": \"green\", \"size\": 80}, \"showarrow\": false, \"text\": \"6\", \"x\": 1, \"xref\": \"x\", \"y\": 1, \"yref\": \"y\"}, {\"font\": {\"color\": \"green\", \"size\": 80}, \"showarrow\": false, \"text\": \"\", \"x\": 2, \"xref\": \"x\", \"y\": 1, \"yref\": \"y\"}, {\"font\": {\"color\": \"green\", \"size\": 80}, \"showarrow\": false, \"text\": \"1\", \"x\": 0, \"xref\": \"x\", \"y\": 2, \"yref\": \"y\"}, {\"font\": {\"color\": \"green\", \"size\": 80}, \"showarrow\": false, \"text\": \"2\", \"x\": 1, \"xref\": \"x\", \"y\": 2, \"yref\": \"y\"}, {\"font\": {\"color\": \"green\", \"size\": 80}, \"showarrow\": false, \"text\": \"3\", \"x\": 2, \"xref\": \"x\", \"y\": 2, \"yref\": \"y\"}], \"height\": 700, \"width\": 600, \"xaxis\": {\"showticklabels\": false}, \"yaxis\": {\"showticklabels\": false}}, \"name\": \"21\"}, {\"data\": [{\"colorscale\": [[0.0, \"#000004\"], [0.1111111111111111, \"#180f3d\"], [0.2222222222222222, \"#440f76\"], [0.3333333333333333, \"#721f81\"], [0.4444444444444444, \"#9e2f7f\"], [0.5555555555555556, \"#cd4071\"], [0.6666666666666666, \"#f1605d\"], [0.7777777777777778, \"#fd9668\"], [0.8888888888888888, \"#feca8d\"], [1.0, \"#fcfdbf\"]], \"showscale\": false, \"x\": [0, 1, 2], \"xgap\": 5, \"y\": [0, 1, 2], \"ygap\": 5, \"z\": [[4, 7, 8], [5, 0, 6], [1, 2, 3]], \"type\": \"heatmap\"}], \"layout\": {\"annotations\": [{\"font\": {\"color\": \"green\", \"size\": 80}, \"showarrow\": false, \"text\": \"4\", \"x\": 0, \"xref\": \"x\", \"y\": 0, \"yref\": \"y\"}, {\"font\": {\"color\": \"green\", \"size\": 80}, \"showarrow\": false, \"text\": \"7\", \"x\": 1, \"xref\": \"x\", \"y\": 0, \"yref\": \"y\"}, {\"font\": {\"color\": \"green\", \"size\": 80}, \"showarrow\": false, \"text\": \"8\", \"x\": 2, \"xref\": \"x\", \"y\": 0, \"yref\": \"y\"}, {\"font\": {\"color\": \"green\", \"size\": 80}, \"showarrow\": false, \"text\": \"5\", \"x\": 0, \"xref\": \"x\", \"y\": 1, \"yref\": \"y\"}, {\"font\": {\"color\": \"green\", \"size\": 80}, \"showarrow\": false, \"text\": \"\", \"x\": 1, \"xref\": \"x\", \"y\": 1, \"yref\": \"y\"}, {\"font\": {\"color\": \"green\", \"size\": 80}, \"showarrow\": false, \"text\": \"6\", \"x\": 2, \"xref\": \"x\", \"y\": 1, \"yref\": \"y\"}, {\"font\": {\"color\": \"green\", \"size\": 80}, \"showarrow\": false, \"text\": \"1\", \"x\": 0, \"xref\": \"x\", \"y\": 2, \"yref\": \"y\"}, {\"font\": {\"color\": \"green\", \"size\": 80}, \"showarrow\": false, \"text\": \"2\", \"x\": 1, \"xref\": \"x\", \"y\": 2, \"yref\": \"y\"}, {\"font\": {\"color\": \"green\", \"size\": 80}, \"showarrow\": false, \"text\": \"3\", \"x\": 2, \"xref\": \"x\", \"y\": 2, \"yref\": \"y\"}], \"height\": 700, \"width\": 600, \"xaxis\": {\"showticklabels\": false}, \"yaxis\": {\"showticklabels\": false}}, \"name\": \"22\"}, {\"data\": [{\"colorscale\": [[0.0, \"#000004\"], [0.1111111111111111, \"#180f3d\"], [0.2222222222222222, \"#440f76\"], [0.3333333333333333, \"#721f81\"], [0.4444444444444444, \"#9e2f7f\"], [0.5555555555555556, \"#cd4071\"], [0.6666666666666666, \"#f1605d\"], [0.7777777777777778, \"#fd9668\"], [0.8888888888888888, \"#feca8d\"], [1.0, \"#fcfdbf\"]], \"showscale\": false, \"x\": [0, 1, 2], \"xgap\": 5, \"y\": [0, 1, 2], \"ygap\": 5, \"z\": [[4, 7, 8], [0, 5, 6], [1, 2, 3]], \"type\": \"heatmap\"}], \"layout\": {\"annotations\": [{\"font\": {\"color\": \"green\", \"size\": 80}, \"showarrow\": false, \"text\": \"4\", \"x\": 0, \"xref\": \"x\", \"y\": 0, \"yref\": \"y\"}, {\"font\": {\"color\": \"green\", \"size\": 80}, \"showarrow\": false, \"text\": \"7\", \"x\": 1, \"xref\": \"x\", \"y\": 0, \"yref\": \"y\"}, {\"font\": {\"color\": \"green\", \"size\": 80}, \"showarrow\": false, \"text\": \"8\", \"x\": 2, \"xref\": \"x\", \"y\": 0, \"yref\": \"y\"}, {\"font\": {\"color\": \"green\", \"size\": 80}, \"showarrow\": false, \"text\": \"\", \"x\": 0, \"xref\": \"x\", \"y\": 1, \"yref\": \"y\"}, {\"font\": {\"color\": \"green\", \"size\": 80}, \"showarrow\": false, \"text\": \"5\", \"x\": 1, \"xref\": \"x\", \"y\": 1, \"yref\": \"y\"}, {\"font\": {\"color\": \"green\", \"size\": 80}, \"showarrow\": false, \"text\": \"6\", \"x\": 2, \"xref\": \"x\", \"y\": 1, \"yref\": \"y\"}, {\"font\": {\"color\": \"green\", \"size\": 80}, \"showarrow\": false, \"text\": \"1\", \"x\": 0, \"xref\": \"x\", \"y\": 2, \"yref\": \"y\"}, {\"font\": {\"color\": \"green\", \"size\": 80}, \"showarrow\": false, \"text\": \"2\", \"x\": 1, \"xref\": \"x\", \"y\": 2, \"yref\": \"y\"}, {\"font\": {\"color\": \"green\", \"size\": 80}, \"showarrow\": false, \"text\": \"3\", \"x\": 2, \"xref\": \"x\", \"y\": 2, \"yref\": \"y\"}], \"height\": 700, \"width\": 600, \"xaxis\": {\"showticklabels\": false}, \"yaxis\": {\"showticklabels\": false}}, \"name\": \"23\"}, {\"data\": [{\"colorscale\": [[0.0, \"#000004\"], [0.1111111111111111, \"#180f3d\"], [0.2222222222222222, \"#440f76\"], [0.3333333333333333, \"#721f81\"], [0.4444444444444444, \"#9e2f7f\"], [0.5555555555555556, \"#cd4071\"], [0.6666666666666666, \"#f1605d\"], [0.7777777777777778, \"#fd9668\"], [0.8888888888888888, \"#feca8d\"], [1.0, \"#fcfdbf\"]], \"showscale\": false, \"x\": [0, 1, 2], \"xgap\": 5, \"y\": [0, 1, 2], \"ygap\": 5, \"z\": [[0, 7, 8], [4, 5, 6], [1, 2, 3]], \"type\": \"heatmap\"}], \"layout\": {\"annotations\": [{\"font\": {\"color\": \"green\", \"size\": 80}, \"showarrow\": false, \"text\": \"\", \"x\": 0, \"xref\": \"x\", \"y\": 0, \"yref\": \"y\"}, {\"font\": {\"color\": \"green\", \"size\": 80}, \"showarrow\": false, \"text\": \"7\", \"x\": 1, \"xref\": \"x\", \"y\": 0, \"yref\": \"y\"}, {\"font\": {\"color\": \"green\", \"size\": 80}, \"showarrow\": false, \"text\": \"8\", \"x\": 2, \"xref\": \"x\", \"y\": 0, \"yref\": \"y\"}, {\"font\": {\"color\": \"green\", \"size\": 80}, \"showarrow\": false, \"text\": \"4\", \"x\": 0, \"xref\": \"x\", \"y\": 1, \"yref\": \"y\"}, {\"font\": {\"color\": \"green\", \"size\": 80}, \"showarrow\": false, \"text\": \"5\", \"x\": 1, \"xref\": \"x\", \"y\": 1, \"yref\": \"y\"}, {\"font\": {\"color\": \"green\", \"size\": 80}, \"showarrow\": false, \"text\": \"6\", \"x\": 2, \"xref\": \"x\", \"y\": 1, \"yref\": \"y\"}, {\"font\": {\"color\": \"green\", \"size\": 80}, \"showarrow\": false, \"text\": \"1\", \"x\": 0, \"xref\": \"x\", \"y\": 2, \"yref\": \"y\"}, {\"font\": {\"color\": \"green\", \"size\": 80}, \"showarrow\": false, \"text\": \"2\", \"x\": 1, \"xref\": \"x\", \"y\": 2, \"yref\": \"y\"}, {\"font\": {\"color\": \"green\", \"size\": 80}, \"showarrow\": false, \"text\": \"3\", \"x\": 2, \"xref\": \"x\", \"y\": 2, \"yref\": \"y\"}], \"height\": 700, \"width\": 600, \"xaxis\": {\"showticklabels\": false}, \"yaxis\": {\"showticklabels\": false}}, \"name\": \"24\"}, {\"data\": [{\"colorscale\": [[0.0, \"#000004\"], [0.1111111111111111, \"#180f3d\"], [0.2222222222222222, \"#440f76\"], [0.3333333333333333, \"#721f81\"], [0.4444444444444444, \"#9e2f7f\"], [0.5555555555555556, \"#cd4071\"], [0.6666666666666666, \"#f1605d\"], [0.7777777777777778, \"#fd9668\"], [0.8888888888888888, \"#feca8d\"], [1.0, \"#fcfdbf\"]], \"showscale\": false, \"x\": [0, 1, 2], \"xgap\": 5, \"y\": [0, 1, 2], \"ygap\": 5, \"z\": [[7, 0, 8], [4, 5, 6], [1, 2, 3]], \"type\": \"heatmap\"}], \"layout\": {\"annotations\": [{\"font\": {\"color\": \"green\", \"size\": 80}, \"showarrow\": false, \"text\": \"7\", \"x\": 0, \"xref\": \"x\", \"y\": 0, \"yref\": \"y\"}, {\"font\": {\"color\": \"green\", \"size\": 80}, \"showarrow\": false, \"text\": \"\", \"x\": 1, \"xref\": \"x\", \"y\": 0, \"yref\": \"y\"}, {\"font\": {\"color\": \"green\", \"size\": 80}, \"showarrow\": false, \"text\": \"8\", \"x\": 2, \"xref\": \"x\", \"y\": 0, \"yref\": \"y\"}, {\"font\": {\"color\": \"green\", \"size\": 80}, \"showarrow\": false, \"text\": \"4\", \"x\": 0, \"xref\": \"x\", \"y\": 1, \"yref\": \"y\"}, {\"font\": {\"color\": \"green\", \"size\": 80}, \"showarrow\": false, \"text\": \"5\", \"x\": 1, \"xref\": \"x\", \"y\": 1, \"yref\": \"y\"}, {\"font\": {\"color\": \"green\", \"size\": 80}, \"showarrow\": false, \"text\": \"6\", \"x\": 2, \"xref\": \"x\", \"y\": 1, \"yref\": \"y\"}, {\"font\": {\"color\": \"green\", \"size\": 80}, \"showarrow\": false, \"text\": \"1\", \"x\": 0, \"xref\": \"x\", \"y\": 2, \"yref\": \"y\"}, {\"font\": {\"color\": \"green\", \"size\": 80}, \"showarrow\": false, \"text\": \"2\", \"x\": 1, \"xref\": \"x\", \"y\": 2, \"yref\": \"y\"}, {\"font\": {\"color\": \"green\", \"size\": 80}, \"showarrow\": false, \"text\": \"3\", \"x\": 2, \"xref\": \"x\", \"y\": 2, \"yref\": \"y\"}], \"height\": 700, \"width\": 600, \"xaxis\": {\"showticklabels\": false}, \"yaxis\": {\"showticklabels\": false}}, \"name\": \"25\"}, {\"data\": [{\"colorscale\": [[0.0, \"#000004\"], [0.1111111111111111, \"#180f3d\"], [0.2222222222222222, \"#440f76\"], [0.3333333333333333, \"#721f81\"], [0.4444444444444444, \"#9e2f7f\"], [0.5555555555555556, \"#cd4071\"], [0.6666666666666666, \"#f1605d\"], [0.7777777777777778, \"#fd9668\"], [0.8888888888888888, \"#feca8d\"], [1.0, \"#fcfdbf\"]], \"showscale\": false, \"x\": [0, 1, 2], \"xgap\": 5, \"y\": [0, 1, 2], \"ygap\": 5, \"z\": [[7, 8, 0], [4, 5, 6], [1, 2, 3]], \"type\": \"heatmap\"}], \"layout\": {\"annotations\": [{\"font\": {\"color\": \"green\", \"size\": 80}, \"showarrow\": false, \"text\": \"7\", \"x\": 0, \"xref\": \"x\", \"y\": 0, \"yref\": \"y\"}, {\"font\": {\"color\": \"green\", \"size\": 80}, \"showarrow\": false, \"text\": \"8\", \"x\": 1, \"xref\": \"x\", \"y\": 0, \"yref\": \"y\"}, {\"font\": {\"color\": \"green\", \"size\": 80}, \"showarrow\": false, \"text\": \"\", \"x\": 2, \"xref\": \"x\", \"y\": 0, \"yref\": \"y\"}, {\"font\": {\"color\": \"green\", \"size\": 80}, \"showarrow\": false, \"text\": \"4\", \"x\": 0, \"xref\": \"x\", \"y\": 1, \"yref\": \"y\"}, {\"font\": {\"color\": \"green\", \"size\": 80}, \"showarrow\": false, \"text\": \"5\", \"x\": 1, \"xref\": \"x\", \"y\": 1, \"yref\": \"y\"}, {\"font\": {\"color\": \"green\", \"size\": 80}, \"showarrow\": false, \"text\": \"6\", \"x\": 2, \"xref\": \"x\", \"y\": 1, \"yref\": \"y\"}, {\"font\": {\"color\": \"green\", \"size\": 80}, \"showarrow\": false, \"text\": \"1\", \"x\": 0, \"xref\": \"x\", \"y\": 2, \"yref\": \"y\"}, {\"font\": {\"color\": \"green\", \"size\": 80}, \"showarrow\": false, \"text\": \"2\", \"x\": 1, \"xref\": \"x\", \"y\": 2, \"yref\": \"y\"}, {\"font\": {\"color\": \"green\", \"size\": 80}, \"showarrow\": false, \"text\": \"3\", \"x\": 2, \"xref\": \"x\", \"y\": 2, \"yref\": \"y\"}], \"height\": 700, \"width\": 600, \"xaxis\": {\"showticklabels\": false}, \"yaxis\": {\"showticklabels\": false}}, \"name\": \"26\"}]);\n",
       "                        }).then(function(){\n",
       "                            Plotly.animate('6cc3afd8-1ff9-4d11-a4f3-4e4b38b117ca', null);\n",
       "                        }).then(function(){\n",
       "                            \n",
       "var gd = document.getElementById('6cc3afd8-1ff9-4d11-a4f3-4e4b38b117ca');\n",
       "var x = new MutationObserver(function (mutations, observer) {{\n",
       "        var display = window.getComputedStyle(gd).display;\n",
       "        if (!display || display === 'none') {{\n",
       "            console.log([gd, 'removed!']);\n",
       "            Plotly.purge(gd);\n",
       "            observer.disconnect();\n",
       "        }}\n",
       "}});\n",
       "\n",
       "// Listen for the removal of the full notebook cells\n",
       "var notebookContainer = gd.closest('#notebook-container');\n",
       "if (notebookContainer) {{\n",
       "    x.observe(notebookContainer, {childList: true});\n",
       "}}\n",
       "\n",
       "// Listen for the clearing of the current output cell\n",
       "var outputEl = gd.closest('.output');\n",
       "if (outputEl) {{\n",
       "    x.observe(outputEl, {childList: true});\n",
       "}}\n",
       "\n",
       "                        })                };                });            </script>        </div>"
      ]
     },
     "metadata": {},
     "output_type": "display_data"
    }
   ],
   "source": [
    "while True:\n",
    "    iplot(fig)\n",
    "    time.sleep(600*len(l)//1000+1)\n",
    "    clear_output(wait=True)"
   ]
  },
  {
   "cell_type": "code",
   "execution_count": 19,
   "metadata": {},
   "outputs": [],
   "source": []
  },
  {
   "cell_type": "code",
   "execution_count": 21,
   "metadata": {},
   "outputs": [
    {
     "ename": "KeyboardInterrupt",
     "evalue": "",
     "output_type": "error",
     "traceback": [
      "\u001b[0;31m---------------------------------------------------------------------------\u001b[0m",
      "\u001b[0;31mKeyboardInterrupt\u001b[0m                         Traceback (most recent call last)",
      "\u001b[0;32m<ipython-input-21-48e0d8c6ff4f>\u001b[0m in \u001b[0;36m<module>\u001b[0;34m\u001b[0m\n\u001b[0;32m----> 1\u001b[0;31m \u001b[0mtime\u001b[0m\u001b[0;34m.\u001b[0m\u001b[0msleep\u001b[0m\u001b[0;34m(\u001b[0m\u001b[0;36m20\u001b[0m\u001b[0;34m)\u001b[0m\u001b[0;34m\u001b[0m\u001b[0;34m\u001b[0m\u001b[0m\n\u001b[0m",
      "\u001b[0;31mKeyboardInterrupt\u001b[0m: "
     ]
    }
   ],
   "source": [
    "time.sleep(20)"
   ]
  },
  {
   "cell_type": "code",
   "execution_count": null,
   "metadata": {},
   "outputs": [],
   "source": []
  }
 ],
 "metadata": {
  "kernelspec": {
   "display_name": "Python 3",
   "language": "python",
   "name": "python3"
  },
  "language_info": {
   "codemirror_mode": {
    "name": "ipython",
    "version": 3
   },
   "file_extension": ".py",
   "mimetype": "text/x-python",
   "name": "python",
   "nbconvert_exporter": "python",
   "pygments_lexer": "ipython3",
   "version": "3.8.5"
  }
 },
 "nbformat": 4,
 "nbformat_minor": 4
}
