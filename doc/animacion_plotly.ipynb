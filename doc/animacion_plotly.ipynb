{
 "cells": [
  {
   "cell_type": "code",
   "execution_count": 1,
   "metadata": {},
   "outputs": [],
   "source": [
    "import sys,os\n",
    "import matplotlib.pyplot as plt\n",
    "import numpy as np\n",
    "import plotly.graph_objects as go\n",
    "import plotly.figure_factory as ff\n",
    "from plotly.offline import download_plotlyjs, init_notebook_mode,  iplot, plot\n",
    "from IPython.display import clear_output\n",
    "import time\n",
    "baile_path=os.path.abspath(os.path.join(\"..\",\"src\"))\n",
    "test_path=os.path.abspath(os.path.join(\"..\",\"test\"))\n",
    "if not baile_path in sys.path:\n",
    "    sys.path.append(baile_path)\n",
    "if not test_path in sys.path:\n",
    "    sys.path.append(test_path)\n",
    "import SimpleSearch as ss\n",
    "from test_simple_search import successor8Puzzle,goal8Puzzle"
   ]
  },
  {
   "cell_type": "code",
   "execution_count": 2,
   "metadata": {},
   "outputs": [
    {
     "name": "stdout",
     "output_type": "stream",
     "text": [
      "finished in 139428 iterations\n",
      "Se acabaron los estados: 15922\n"
     ]
    }
   ],
   "source": [
    "start=ss.node(((0,8,4),(1,3,2),(6,5,7)),op=\"start\")\n",
    "final=ss.node(((1,2,3),(4,5,6),(7,8,0)),op=\"final\")\n",
    "bfs=ss.BlindSearch(start,successor8Puzzle,goal8Puzzle,goal_state=final,strategy=\"bfs\")\n",
    "result=bfs.find()"
   ]
  },
  {
   "cell_type": "code",
   "execution_count": 6,
   "metadata": {},
   "outputs": [],
   "source": [
    "l=result.getPath()"
   ]
  },
  {
   "cell_type": "code",
   "execution_count": 7,
   "metadata": {},
   "outputs": [],
   "source": [
    "def genAnnotations(z):\n",
    "    x,y=[0,1,2],[0,1,2]\n",
    "    annotations = go.Annotations()\n",
    "    for n, row in enumerate(z):\n",
    "        for m, val in enumerate(row):\n",
    "            annotations.append(go.layout.Annotation(text= z[n][m] and str(z[n][m]) or \"\", x=x[m], y=y[n],\n",
    "                                                font={'color':'green','size':80}, xref='x1', yref='y1', \n",
    "                                                    showarrow=False))\n",
    "    return annotations\n",
    "def genFrames(path):\n",
    "    frames,steps=[],[]\n",
    "    x,y=[0,1,2],[0,1,2]\n",
    "    for item in path:\n",
    "        z=list(item[0])\n",
    "        z.reverse()\n",
    "        ann=genAnnotations(z)\n",
    "        name=item[2]\n",
    "        hm=go.Heatmap(z=np.array(z),showscale=False,x=x,y=y,colorscale='magma',ygap=5,xgap=5)\n",
    "        layout=go.Layout(annotations=ann,xaxis=dict(showticklabels=False),\n",
    "                         yaxis=dict(showticklabels=False),height=700, width=600)\n",
    "        frames.append(go.Frame(data=[hm], layout=layout, name=name))  \n",
    "        steps.append({\"args\": [[name], {\"frame\": {\"duration\": 300, \"redraw\": True}, \"mode\": \"immediate\",\n",
    "                                        \"transition\": {\"duration\": 300}}],\n",
    "                      \"label\": name,\"method\": \"animate\"})  \n",
    "    return frames,steps\n",
    "\n",
    "def animacion(path):\n",
    "    x,y=[0,1,2],[0,1,2]\n",
    "    frames,steps=genFrames(path)\n",
    "    st=list(path[0][0])\n",
    "    st.reverse()\n",
    "    ann=genAnnotations(st)\n",
    "    #menus=[dict(type=\"buttons\",buttons=[dict(label=\"Play\",method=\"animate\",args=[None])],direction='left',\n",
    "    #          x=0.1,y=0, xanchor= \"right\", yanchor=\"top\")]\n",
    "    sliders= { \"active\": 0, \"yanchor\": \"top\",\"xanchor\": \"left\",\n",
    "              \"currentvalue\": {\"font\": {\"size\": 20}, \"prefix\": \"Step:\",\"visible\": True,\"xanchor\": \"right\"},\n",
    "              \"transition\": {\"duration\": 300, \"easing\": \"cubic-in-out\"},\"pad\": {\"b\": 10, \"t\": 50},\n",
    "              \"len\": 0.9,\"x\": 0.1,\"y\": 0,\"steps\": []}\n",
    "    sliders['steps']=steps\n",
    "    layout=go.Layout(annotations=ann,xaxis=dict(showticklabels=False),sliders=[sliders],\n",
    "                         yaxis=dict(showticklabels=False),height=700, width=600)\n",
    "    fig = go.Figure(data=go.Heatmap(z=np.array(st),showscale=False,x=x,y=y,\n",
    "                                    colorscale='magma',ygap=5,xgap=5),\n",
    "                    frames=frames,layout=layout)\n",
    "    return fig"
   ]
  },
  {
   "cell_type": "code",
   "execution_count": 8,
   "metadata": {},
   "outputs": [
    {
     "name": "stderr",
     "output_type": "stream",
     "text": [
      "/home/rock/baile/test/baile/lib/python3.12/site-packages/plotly/graph_objs/_deprecations.py:62: DeprecationWarning:\n",
      "\n",
      "plotly.graph_objs.Annotations is deprecated.\n",
      "Please replace it with a list or tuple of instances of the following types\n",
      "  - plotly.graph_objs.layout.Annotation\n",
      "  - plotly.graph_objs.layout.scene.Annotation\n",
      "\n",
      "\n"
     ]
    },
    {
     "data": {
      "application/vnd.plotly.v1+json": {
       "config": {
        "plotlyServerURL": "https://plot.ly"
       },
       "data": [
        {
         "colorscale": [
          [
           0,
           "#000004"
          ],
          [
           0.1111111111111111,
           "#180f3d"
          ],
          [
           0.2222222222222222,
           "#440f76"
          ],
          [
           0.3333333333333333,
           "#721f81"
          ],
          [
           0.4444444444444444,
           "#9e2f7f"
          ],
          [
           0.5555555555555556,
           "#cd4071"
          ],
          [
           0.6666666666666666,
           "#f1605d"
          ],
          [
           0.7777777777777778,
           "#fd9668"
          ],
          [
           0.8888888888888888,
           "#feca8d"
          ],
          [
           1,
           "#fcfdbf"
          ]
         ],
         "showscale": false,
         "type": "heatmap",
         "x": [
          0,
          1,
          2
         ],
         "xgap": 5,
         "y": [
          0,
          1,
          2
         ],
         "ygap": 5,
         "z": {
          "bdata": "BgUHAQMCAAgE",
          "dtype": "i1",
          "shape": "3, 3"
         }
        }
       ],
       "frames": [
        {
         "data": [
          {
           "colorscale": [
            [
             0,
             "#000004"
            ],
            [
             0.1111111111111111,
             "#180f3d"
            ],
            [
             0.2222222222222222,
             "#440f76"
            ],
            [
             0.3333333333333333,
             "#721f81"
            ],
            [
             0.4444444444444444,
             "#9e2f7f"
            ],
            [
             0.5555555555555556,
             "#cd4071"
            ],
            [
             0.6666666666666666,
             "#f1605d"
            ],
            [
             0.7777777777777778,
             "#fd9668"
            ],
            [
             0.8888888888888888,
             "#feca8d"
            ],
            [
             1,
             "#fcfdbf"
            ]
           ],
           "showscale": false,
           "type": "heatmap",
           "x": [
            0,
            1,
            2
           ],
           "xgap": 5,
           "y": [
            0,
            1,
            2
           ],
           "ygap": 5,
           "z": {
            "bdata": "BgUHAQMCAAgE",
            "dtype": "i1",
            "shape": "3, 3"
           }
          }
         ],
         "layout": {
          "annotations": [
           {
            "font": {
             "color": "green",
             "size": 80
            },
            "showarrow": false,
            "text": "6",
            "x": 0,
            "xref": "x",
            "y": 0,
            "yref": "y"
           },
           {
            "font": {
             "color": "green",
             "size": 80
            },
            "showarrow": false,
            "text": "5",
            "x": 1,
            "xref": "x",
            "y": 0,
            "yref": "y"
           },
           {
            "font": {
             "color": "green",
             "size": 80
            },
            "showarrow": false,
            "text": "7",
            "x": 2,
            "xref": "x",
            "y": 0,
            "yref": "y"
           },
           {
            "font": {
             "color": "green",
             "size": 80
            },
            "showarrow": false,
            "text": "1",
            "x": 0,
            "xref": "x",
            "y": 1,
            "yref": "y"
           },
           {
            "font": {
             "color": "green",
             "size": 80
            },
            "showarrow": false,
            "text": "3",
            "x": 1,
            "xref": "x",
            "y": 1,
            "yref": "y"
           },
           {
            "font": {
             "color": "green",
             "size": 80
            },
            "showarrow": false,
            "text": "2",
            "x": 2,
            "xref": "x",
            "y": 1,
            "yref": "y"
           },
           {
            "font": {
             "color": "green",
             "size": 80
            },
            "showarrow": false,
            "text": "",
            "x": 0,
            "xref": "x",
            "y": 2,
            "yref": "y"
           },
           {
            "font": {
             "color": "green",
             "size": 80
            },
            "showarrow": false,
            "text": "8",
            "x": 1,
            "xref": "x",
            "y": 2,
            "yref": "y"
           },
           {
            "font": {
             "color": "green",
             "size": 80
            },
            "showarrow": false,
            "text": "4",
            "x": 2,
            "xref": "x",
            "y": 2,
            "yref": "y"
           }
          ],
          "height": 700,
          "width": 600,
          "xaxis": {
           "showticklabels": false
          },
          "yaxis": {
           "showticklabels": false
          }
         },
         "name": "0"
        },
        {
         "data": [
          {
           "colorscale": [
            [
             0,
             "#000004"
            ],
            [
             0.1111111111111111,
             "#180f3d"
            ],
            [
             0.2222222222222222,
             "#440f76"
            ],
            [
             0.3333333333333333,
             "#721f81"
            ],
            [
             0.4444444444444444,
             "#9e2f7f"
            ],
            [
             0.5555555555555556,
             "#cd4071"
            ],
            [
             0.6666666666666666,
             "#f1605d"
            ],
            [
             0.7777777777777778,
             "#fd9668"
            ],
            [
             0.8888888888888888,
             "#feca8d"
            ],
            [
             1,
             "#fcfdbf"
            ]
           ],
           "showscale": false,
           "type": "heatmap",
           "x": [
            0,
            1,
            2
           ],
           "xgap": 5,
           "y": [
            0,
            1,
            2
           ],
           "ygap": 5,
           "z": {
            "bdata": "BgUHAQMCCAAE",
            "dtype": "i1",
            "shape": "3, 3"
           }
          }
         ],
         "layout": {
          "annotations": [
           {
            "font": {
             "color": "green",
             "size": 80
            },
            "showarrow": false,
            "text": "6",
            "x": 0,
            "xref": "x",
            "y": 0,
            "yref": "y"
           },
           {
            "font": {
             "color": "green",
             "size": 80
            },
            "showarrow": false,
            "text": "5",
            "x": 1,
            "xref": "x",
            "y": 0,
            "yref": "y"
           },
           {
            "font": {
             "color": "green",
             "size": 80
            },
            "showarrow": false,
            "text": "7",
            "x": 2,
            "xref": "x",
            "y": 0,
            "yref": "y"
           },
           {
            "font": {
             "color": "green",
             "size": 80
            },
            "showarrow": false,
            "text": "1",
            "x": 0,
            "xref": "x",
            "y": 1,
            "yref": "y"
           },
           {
            "font": {
             "color": "green",
             "size": 80
            },
            "showarrow": false,
            "text": "3",
            "x": 1,
            "xref": "x",
            "y": 1,
            "yref": "y"
           },
           {
            "font": {
             "color": "green",
             "size": 80
            },
            "showarrow": false,
            "text": "2",
            "x": 2,
            "xref": "x",
            "y": 1,
            "yref": "y"
           },
           {
            "font": {
             "color": "green",
             "size": 80
            },
            "showarrow": false,
            "text": "8",
            "x": 0,
            "xref": "x",
            "y": 2,
            "yref": "y"
           },
           {
            "font": {
             "color": "green",
             "size": 80
            },
            "showarrow": false,
            "text": "",
            "x": 1,
            "xref": "x",
            "y": 2,
            "yref": "y"
           },
           {
            "font": {
             "color": "green",
             "size": 80
            },
            "showarrow": false,
            "text": "4",
            "x": 2,
            "xref": "x",
            "y": 2,
            "yref": "y"
           }
          ],
          "height": 700,
          "width": 600,
          "xaxis": {
           "showticklabels": false
          },
          "yaxis": {
           "showticklabels": false
          }
         },
         "name": "1"
        },
        {
         "data": [
          {
           "colorscale": [
            [
             0,
             "#000004"
            ],
            [
             0.1111111111111111,
             "#180f3d"
            ],
            [
             0.2222222222222222,
             "#440f76"
            ],
            [
             0.3333333333333333,
             "#721f81"
            ],
            [
             0.4444444444444444,
             "#9e2f7f"
            ],
            [
             0.5555555555555556,
             "#cd4071"
            ],
            [
             0.6666666666666666,
             "#f1605d"
            ],
            [
             0.7777777777777778,
             "#fd9668"
            ],
            [
             0.8888888888888888,
             "#feca8d"
            ],
            [
             1,
             "#fcfdbf"
            ]
           ],
           "showscale": false,
           "type": "heatmap",
           "x": [
            0,
            1,
            2
           ],
           "xgap": 5,
           "y": [
            0,
            1,
            2
           ],
           "ygap": 5,
           "z": {
            "bdata": "BgUHAQMCCAQA",
            "dtype": "i1",
            "shape": "3, 3"
           }
          }
         ],
         "layout": {
          "annotations": [
           {
            "font": {
             "color": "green",
             "size": 80
            },
            "showarrow": false,
            "text": "6",
            "x": 0,
            "xref": "x",
            "y": 0,
            "yref": "y"
           },
           {
            "font": {
             "color": "green",
             "size": 80
            },
            "showarrow": false,
            "text": "5",
            "x": 1,
            "xref": "x",
            "y": 0,
            "yref": "y"
           },
           {
            "font": {
             "color": "green",
             "size": 80
            },
            "showarrow": false,
            "text": "7",
            "x": 2,
            "xref": "x",
            "y": 0,
            "yref": "y"
           },
           {
            "font": {
             "color": "green",
             "size": 80
            },
            "showarrow": false,
            "text": "1",
            "x": 0,
            "xref": "x",
            "y": 1,
            "yref": "y"
           },
           {
            "font": {
             "color": "green",
             "size": 80
            },
            "showarrow": false,
            "text": "3",
            "x": 1,
            "xref": "x",
            "y": 1,
            "yref": "y"
           },
           {
            "font": {
             "color": "green",
             "size": 80
            },
            "showarrow": false,
            "text": "2",
            "x": 2,
            "xref": "x",
            "y": 1,
            "yref": "y"
           },
           {
            "font": {
             "color": "green",
             "size": 80
            },
            "showarrow": false,
            "text": "8",
            "x": 0,
            "xref": "x",
            "y": 2,
            "yref": "y"
           },
           {
            "font": {
             "color": "green",
             "size": 80
            },
            "showarrow": false,
            "text": "4",
            "x": 1,
            "xref": "x",
            "y": 2,
            "yref": "y"
           },
           {
            "font": {
             "color": "green",
             "size": 80
            },
            "showarrow": false,
            "text": "",
            "x": 2,
            "xref": "x",
            "y": 2,
            "yref": "y"
           }
          ],
          "height": 700,
          "width": 600,
          "xaxis": {
           "showticklabels": false
          },
          "yaxis": {
           "showticklabels": false
          }
         },
         "name": "2"
        },
        {
         "data": [
          {
           "colorscale": [
            [
             0,
             "#000004"
            ],
            [
             0.1111111111111111,
             "#180f3d"
            ],
            [
             0.2222222222222222,
             "#440f76"
            ],
            [
             0.3333333333333333,
             "#721f81"
            ],
            [
             0.4444444444444444,
             "#9e2f7f"
            ],
            [
             0.5555555555555556,
             "#cd4071"
            ],
            [
             0.6666666666666666,
             "#f1605d"
            ],
            [
             0.7777777777777778,
             "#fd9668"
            ],
            [
             0.8888888888888888,
             "#feca8d"
            ],
            [
             1,
             "#fcfdbf"
            ]
           ],
           "showscale": false,
           "type": "heatmap",
           "x": [
            0,
            1,
            2
           ],
           "xgap": 5,
           "y": [
            0,
            1,
            2
           ],
           "ygap": 5,
           "z": {
            "bdata": "BgUHAQMACAQC",
            "dtype": "i1",
            "shape": "3, 3"
           }
          }
         ],
         "layout": {
          "annotations": [
           {
            "font": {
             "color": "green",
             "size": 80
            },
            "showarrow": false,
            "text": "6",
            "x": 0,
            "xref": "x",
            "y": 0,
            "yref": "y"
           },
           {
            "font": {
             "color": "green",
             "size": 80
            },
            "showarrow": false,
            "text": "5",
            "x": 1,
            "xref": "x",
            "y": 0,
            "yref": "y"
           },
           {
            "font": {
             "color": "green",
             "size": 80
            },
            "showarrow": false,
            "text": "7",
            "x": 2,
            "xref": "x",
            "y": 0,
            "yref": "y"
           },
           {
            "font": {
             "color": "green",
             "size": 80
            },
            "showarrow": false,
            "text": "1",
            "x": 0,
            "xref": "x",
            "y": 1,
            "yref": "y"
           },
           {
            "font": {
             "color": "green",
             "size": 80
            },
            "showarrow": false,
            "text": "3",
            "x": 1,
            "xref": "x",
            "y": 1,
            "yref": "y"
           },
           {
            "font": {
             "color": "green",
             "size": 80
            },
            "showarrow": false,
            "text": "",
            "x": 2,
            "xref": "x",
            "y": 1,
            "yref": "y"
           },
           {
            "font": {
             "color": "green",
             "size": 80
            },
            "showarrow": false,
            "text": "8",
            "x": 0,
            "xref": "x",
            "y": 2,
            "yref": "y"
           },
           {
            "font": {
             "color": "green",
             "size": 80
            },
            "showarrow": false,
            "text": "4",
            "x": 1,
            "xref": "x",
            "y": 2,
            "yref": "y"
           },
           {
            "font": {
             "color": "green",
             "size": 80
            },
            "showarrow": false,
            "text": "2",
            "x": 2,
            "xref": "x",
            "y": 2,
            "yref": "y"
           }
          ],
          "height": 700,
          "width": 600,
          "xaxis": {
           "showticklabels": false
          },
          "yaxis": {
           "showticklabels": false
          }
         },
         "name": "3"
        },
        {
         "data": [
          {
           "colorscale": [
            [
             0,
             "#000004"
            ],
            [
             0.1111111111111111,
             "#180f3d"
            ],
            [
             0.2222222222222222,
             "#440f76"
            ],
            [
             0.3333333333333333,
             "#721f81"
            ],
            [
             0.4444444444444444,
             "#9e2f7f"
            ],
            [
             0.5555555555555556,
             "#cd4071"
            ],
            [
             0.6666666666666666,
             "#f1605d"
            ],
            [
             0.7777777777777778,
             "#fd9668"
            ],
            [
             0.8888888888888888,
             "#feca8d"
            ],
            [
             1,
             "#fcfdbf"
            ]
           ],
           "showscale": false,
           "type": "heatmap",
           "x": [
            0,
            1,
            2
           ],
           "xgap": 5,
           "y": [
            0,
            1,
            2
           ],
           "ygap": 5,
           "z": {
            "bdata": "BgUHAQADCAQC",
            "dtype": "i1",
            "shape": "3, 3"
           }
          }
         ],
         "layout": {
          "annotations": [
           {
            "font": {
             "color": "green",
             "size": 80
            },
            "showarrow": false,
            "text": "6",
            "x": 0,
            "xref": "x",
            "y": 0,
            "yref": "y"
           },
           {
            "font": {
             "color": "green",
             "size": 80
            },
            "showarrow": false,
            "text": "5",
            "x": 1,
            "xref": "x",
            "y": 0,
            "yref": "y"
           },
           {
            "font": {
             "color": "green",
             "size": 80
            },
            "showarrow": false,
            "text": "7",
            "x": 2,
            "xref": "x",
            "y": 0,
            "yref": "y"
           },
           {
            "font": {
             "color": "green",
             "size": 80
            },
            "showarrow": false,
            "text": "1",
            "x": 0,
            "xref": "x",
            "y": 1,
            "yref": "y"
           },
           {
            "font": {
             "color": "green",
             "size": 80
            },
            "showarrow": false,
            "text": "",
            "x": 1,
            "xref": "x",
            "y": 1,
            "yref": "y"
           },
           {
            "font": {
             "color": "green",
             "size": 80
            },
            "showarrow": false,
            "text": "3",
            "x": 2,
            "xref": "x",
            "y": 1,
            "yref": "y"
           },
           {
            "font": {
             "color": "green",
             "size": 80
            },
            "showarrow": false,
            "text": "8",
            "x": 0,
            "xref": "x",
            "y": 2,
            "yref": "y"
           },
           {
            "font": {
             "color": "green",
             "size": 80
            },
            "showarrow": false,
            "text": "4",
            "x": 1,
            "xref": "x",
            "y": 2,
            "yref": "y"
           },
           {
            "font": {
             "color": "green",
             "size": 80
            },
            "showarrow": false,
            "text": "2",
            "x": 2,
            "xref": "x",
            "y": 2,
            "yref": "y"
           }
          ],
          "height": 700,
          "width": 600,
          "xaxis": {
           "showticklabels": false
          },
          "yaxis": {
           "showticklabels": false
          }
         },
         "name": "4"
        },
        {
         "data": [
          {
           "colorscale": [
            [
             0,
             "#000004"
            ],
            [
             0.1111111111111111,
             "#180f3d"
            ],
            [
             0.2222222222222222,
             "#440f76"
            ],
            [
             0.3333333333333333,
             "#721f81"
            ],
            [
             0.4444444444444444,
             "#9e2f7f"
            ],
            [
             0.5555555555555556,
             "#cd4071"
            ],
            [
             0.6666666666666666,
             "#f1605d"
            ],
            [
             0.7777777777777778,
             "#fd9668"
            ],
            [
             0.8888888888888888,
             "#feca8d"
            ],
            [
             1,
             "#fcfdbf"
            ]
           ],
           "showscale": false,
           "type": "heatmap",
           "x": [
            0,
            1,
            2
           ],
           "xgap": 5,
           "y": [
            0,
            1,
            2
           ],
           "ygap": 5,
           "z": {
            "bdata": "BgUHAQQDCAAC",
            "dtype": "i1",
            "shape": "3, 3"
           }
          }
         ],
         "layout": {
          "annotations": [
           {
            "font": {
             "color": "green",
             "size": 80
            },
            "showarrow": false,
            "text": "6",
            "x": 0,
            "xref": "x",
            "y": 0,
            "yref": "y"
           },
           {
            "font": {
             "color": "green",
             "size": 80
            },
            "showarrow": false,
            "text": "5",
            "x": 1,
            "xref": "x",
            "y": 0,
            "yref": "y"
           },
           {
            "font": {
             "color": "green",
             "size": 80
            },
            "showarrow": false,
            "text": "7",
            "x": 2,
            "xref": "x",
            "y": 0,
            "yref": "y"
           },
           {
            "font": {
             "color": "green",
             "size": 80
            },
            "showarrow": false,
            "text": "1",
            "x": 0,
            "xref": "x",
            "y": 1,
            "yref": "y"
           },
           {
            "font": {
             "color": "green",
             "size": 80
            },
            "showarrow": false,
            "text": "4",
            "x": 1,
            "xref": "x",
            "y": 1,
            "yref": "y"
           },
           {
            "font": {
             "color": "green",
             "size": 80
            },
            "showarrow": false,
            "text": "3",
            "x": 2,
            "xref": "x",
            "y": 1,
            "yref": "y"
           },
           {
            "font": {
             "color": "green",
             "size": 80
            },
            "showarrow": false,
            "text": "8",
            "x": 0,
            "xref": "x",
            "y": 2,
            "yref": "y"
           },
           {
            "font": {
             "color": "green",
             "size": 80
            },
            "showarrow": false,
            "text": "",
            "x": 1,
            "xref": "x",
            "y": 2,
            "yref": "y"
           },
           {
            "font": {
             "color": "green",
             "size": 80
            },
            "showarrow": false,
            "text": "2",
            "x": 2,
            "xref": "x",
            "y": 2,
            "yref": "y"
           }
          ],
          "height": 700,
          "width": 600,
          "xaxis": {
           "showticklabels": false
          },
          "yaxis": {
           "showticklabels": false
          }
         },
         "name": "5"
        },
        {
         "data": [
          {
           "colorscale": [
            [
             0,
             "#000004"
            ],
            [
             0.1111111111111111,
             "#180f3d"
            ],
            [
             0.2222222222222222,
             "#440f76"
            ],
            [
             0.3333333333333333,
             "#721f81"
            ],
            [
             0.4444444444444444,
             "#9e2f7f"
            ],
            [
             0.5555555555555556,
             "#cd4071"
            ],
            [
             0.6666666666666666,
             "#f1605d"
            ],
            [
             0.7777777777777778,
             "#fd9668"
            ],
            [
             0.8888888888888888,
             "#feca8d"
            ],
            [
             1,
             "#fcfdbf"
            ]
           ],
           "showscale": false,
           "type": "heatmap",
           "x": [
            0,
            1,
            2
           ],
           "xgap": 5,
           "y": [
            0,
            1,
            2
           ],
           "ygap": 5,
           "z": {
            "bdata": "BgUHAQQDAAgC",
            "dtype": "i1",
            "shape": "3, 3"
           }
          }
         ],
         "layout": {
          "annotations": [
           {
            "font": {
             "color": "green",
             "size": 80
            },
            "showarrow": false,
            "text": "6",
            "x": 0,
            "xref": "x",
            "y": 0,
            "yref": "y"
           },
           {
            "font": {
             "color": "green",
             "size": 80
            },
            "showarrow": false,
            "text": "5",
            "x": 1,
            "xref": "x",
            "y": 0,
            "yref": "y"
           },
           {
            "font": {
             "color": "green",
             "size": 80
            },
            "showarrow": false,
            "text": "7",
            "x": 2,
            "xref": "x",
            "y": 0,
            "yref": "y"
           },
           {
            "font": {
             "color": "green",
             "size": 80
            },
            "showarrow": false,
            "text": "1",
            "x": 0,
            "xref": "x",
            "y": 1,
            "yref": "y"
           },
           {
            "font": {
             "color": "green",
             "size": 80
            },
            "showarrow": false,
            "text": "4",
            "x": 1,
            "xref": "x",
            "y": 1,
            "yref": "y"
           },
           {
            "font": {
             "color": "green",
             "size": 80
            },
            "showarrow": false,
            "text": "3",
            "x": 2,
            "xref": "x",
            "y": 1,
            "yref": "y"
           },
           {
            "font": {
             "color": "green",
             "size": 80
            },
            "showarrow": false,
            "text": "",
            "x": 0,
            "xref": "x",
            "y": 2,
            "yref": "y"
           },
           {
            "font": {
             "color": "green",
             "size": 80
            },
            "showarrow": false,
            "text": "8",
            "x": 1,
            "xref": "x",
            "y": 2,
            "yref": "y"
           },
           {
            "font": {
             "color": "green",
             "size": 80
            },
            "showarrow": false,
            "text": "2",
            "x": 2,
            "xref": "x",
            "y": 2,
            "yref": "y"
           }
          ],
          "height": 700,
          "width": 600,
          "xaxis": {
           "showticklabels": false
          },
          "yaxis": {
           "showticklabels": false
          }
         },
         "name": "6"
        },
        {
         "data": [
          {
           "colorscale": [
            [
             0,
             "#000004"
            ],
            [
             0.1111111111111111,
             "#180f3d"
            ],
            [
             0.2222222222222222,
             "#440f76"
            ],
            [
             0.3333333333333333,
             "#721f81"
            ],
            [
             0.4444444444444444,
             "#9e2f7f"
            ],
            [
             0.5555555555555556,
             "#cd4071"
            ],
            [
             0.6666666666666666,
             "#f1605d"
            ],
            [
             0.7777777777777778,
             "#fd9668"
            ],
            [
             0.8888888888888888,
             "#feca8d"
            ],
            [
             1,
             "#fcfdbf"
            ]
           ],
           "showscale": false,
           "type": "heatmap",
           "x": [
            0,
            1,
            2
           ],
           "xgap": 5,
           "y": [
            0,
            1,
            2
           ],
           "ygap": 5,
           "z": {
            "bdata": "BgUHAAQDAQgC",
            "dtype": "i1",
            "shape": "3, 3"
           }
          }
         ],
         "layout": {
          "annotations": [
           {
            "font": {
             "color": "green",
             "size": 80
            },
            "showarrow": false,
            "text": "6",
            "x": 0,
            "xref": "x",
            "y": 0,
            "yref": "y"
           },
           {
            "font": {
             "color": "green",
             "size": 80
            },
            "showarrow": false,
            "text": "5",
            "x": 1,
            "xref": "x",
            "y": 0,
            "yref": "y"
           },
           {
            "font": {
             "color": "green",
             "size": 80
            },
            "showarrow": false,
            "text": "7",
            "x": 2,
            "xref": "x",
            "y": 0,
            "yref": "y"
           },
           {
            "font": {
             "color": "green",
             "size": 80
            },
            "showarrow": false,
            "text": "",
            "x": 0,
            "xref": "x",
            "y": 1,
            "yref": "y"
           },
           {
            "font": {
             "color": "green",
             "size": 80
            },
            "showarrow": false,
            "text": "4",
            "x": 1,
            "xref": "x",
            "y": 1,
            "yref": "y"
           },
           {
            "font": {
             "color": "green",
             "size": 80
            },
            "showarrow": false,
            "text": "3",
            "x": 2,
            "xref": "x",
            "y": 1,
            "yref": "y"
           },
           {
            "font": {
             "color": "green",
             "size": 80
            },
            "showarrow": false,
            "text": "1",
            "x": 0,
            "xref": "x",
            "y": 2,
            "yref": "y"
           },
           {
            "font": {
             "color": "green",
             "size": 80
            },
            "showarrow": false,
            "text": "8",
            "x": 1,
            "xref": "x",
            "y": 2,
            "yref": "y"
           },
           {
            "font": {
             "color": "green",
             "size": 80
            },
            "showarrow": false,
            "text": "2",
            "x": 2,
            "xref": "x",
            "y": 2,
            "yref": "y"
           }
          ],
          "height": 700,
          "width": 600,
          "xaxis": {
           "showticklabels": false
          },
          "yaxis": {
           "showticklabels": false
          }
         },
         "name": "7"
        },
        {
         "data": [
          {
           "colorscale": [
            [
             0,
             "#000004"
            ],
            [
             0.1111111111111111,
             "#180f3d"
            ],
            [
             0.2222222222222222,
             "#440f76"
            ],
            [
             0.3333333333333333,
             "#721f81"
            ],
            [
             0.4444444444444444,
             "#9e2f7f"
            ],
            [
             0.5555555555555556,
             "#cd4071"
            ],
            [
             0.6666666666666666,
             "#f1605d"
            ],
            [
             0.7777777777777778,
             "#fd9668"
            ],
            [
             0.8888888888888888,
             "#feca8d"
            ],
            [
             1,
             "#fcfdbf"
            ]
           ],
           "showscale": false,
           "type": "heatmap",
           "x": [
            0,
            1,
            2
           ],
           "xgap": 5,
           "y": [
            0,
            1,
            2
           ],
           "ygap": 5,
           "z": {
            "bdata": "AAUHBgQDAQgC",
            "dtype": "i1",
            "shape": "3, 3"
           }
          }
         ],
         "layout": {
          "annotations": [
           {
            "font": {
             "color": "green",
             "size": 80
            },
            "showarrow": false,
            "text": "",
            "x": 0,
            "xref": "x",
            "y": 0,
            "yref": "y"
           },
           {
            "font": {
             "color": "green",
             "size": 80
            },
            "showarrow": false,
            "text": "5",
            "x": 1,
            "xref": "x",
            "y": 0,
            "yref": "y"
           },
           {
            "font": {
             "color": "green",
             "size": 80
            },
            "showarrow": false,
            "text": "7",
            "x": 2,
            "xref": "x",
            "y": 0,
            "yref": "y"
           },
           {
            "font": {
             "color": "green",
             "size": 80
            },
            "showarrow": false,
            "text": "6",
            "x": 0,
            "xref": "x",
            "y": 1,
            "yref": "y"
           },
           {
            "font": {
             "color": "green",
             "size": 80
            },
            "showarrow": false,
            "text": "4",
            "x": 1,
            "xref": "x",
            "y": 1,
            "yref": "y"
           },
           {
            "font": {
             "color": "green",
             "size": 80
            },
            "showarrow": false,
            "text": "3",
            "x": 2,
            "xref": "x",
            "y": 1,
            "yref": "y"
           },
           {
            "font": {
             "color": "green",
             "size": 80
            },
            "showarrow": false,
            "text": "1",
            "x": 0,
            "xref": "x",
            "y": 2,
            "yref": "y"
           },
           {
            "font": {
             "color": "green",
             "size": 80
            },
            "showarrow": false,
            "text": "8",
            "x": 1,
            "xref": "x",
            "y": 2,
            "yref": "y"
           },
           {
            "font": {
             "color": "green",
             "size": 80
            },
            "showarrow": false,
            "text": "2",
            "x": 2,
            "xref": "x",
            "y": 2,
            "yref": "y"
           }
          ],
          "height": 700,
          "width": 600,
          "xaxis": {
           "showticklabels": false
          },
          "yaxis": {
           "showticklabels": false
          }
         },
         "name": "8"
        },
        {
         "data": [
          {
           "colorscale": [
            [
             0,
             "#000004"
            ],
            [
             0.1111111111111111,
             "#180f3d"
            ],
            [
             0.2222222222222222,
             "#440f76"
            ],
            [
             0.3333333333333333,
             "#721f81"
            ],
            [
             0.4444444444444444,
             "#9e2f7f"
            ],
            [
             0.5555555555555556,
             "#cd4071"
            ],
            [
             0.6666666666666666,
             "#f1605d"
            ],
            [
             0.7777777777777778,
             "#fd9668"
            ],
            [
             0.8888888888888888,
             "#feca8d"
            ],
            [
             1,
             "#fcfdbf"
            ]
           ],
           "showscale": false,
           "type": "heatmap",
           "x": [
            0,
            1,
            2
           ],
           "xgap": 5,
           "y": [
            0,
            1,
            2
           ],
           "ygap": 5,
           "z": {
            "bdata": "BQAHBgQDAQgC",
            "dtype": "i1",
            "shape": "3, 3"
           }
          }
         ],
         "layout": {
          "annotations": [
           {
            "font": {
             "color": "green",
             "size": 80
            },
            "showarrow": false,
            "text": "5",
            "x": 0,
            "xref": "x",
            "y": 0,
            "yref": "y"
           },
           {
            "font": {
             "color": "green",
             "size": 80
            },
            "showarrow": false,
            "text": "",
            "x": 1,
            "xref": "x",
            "y": 0,
            "yref": "y"
           },
           {
            "font": {
             "color": "green",
             "size": 80
            },
            "showarrow": false,
            "text": "7",
            "x": 2,
            "xref": "x",
            "y": 0,
            "yref": "y"
           },
           {
            "font": {
             "color": "green",
             "size": 80
            },
            "showarrow": false,
            "text": "6",
            "x": 0,
            "xref": "x",
            "y": 1,
            "yref": "y"
           },
           {
            "font": {
             "color": "green",
             "size": 80
            },
            "showarrow": false,
            "text": "4",
            "x": 1,
            "xref": "x",
            "y": 1,
            "yref": "y"
           },
           {
            "font": {
             "color": "green",
             "size": 80
            },
            "showarrow": false,
            "text": "3",
            "x": 2,
            "xref": "x",
            "y": 1,
            "yref": "y"
           },
           {
            "font": {
             "color": "green",
             "size": 80
            },
            "showarrow": false,
            "text": "1",
            "x": 0,
            "xref": "x",
            "y": 2,
            "yref": "y"
           },
           {
            "font": {
             "color": "green",
             "size": 80
            },
            "showarrow": false,
            "text": "8",
            "x": 1,
            "xref": "x",
            "y": 2,
            "yref": "y"
           },
           {
            "font": {
             "color": "green",
             "size": 80
            },
            "showarrow": false,
            "text": "2",
            "x": 2,
            "xref": "x",
            "y": 2,
            "yref": "y"
           }
          ],
          "height": 700,
          "width": 600,
          "xaxis": {
           "showticklabels": false
          },
          "yaxis": {
           "showticklabels": false
          }
         },
         "name": "9"
        },
        {
         "data": [
          {
           "colorscale": [
            [
             0,
             "#000004"
            ],
            [
             0.1111111111111111,
             "#180f3d"
            ],
            [
             0.2222222222222222,
             "#440f76"
            ],
            [
             0.3333333333333333,
             "#721f81"
            ],
            [
             0.4444444444444444,
             "#9e2f7f"
            ],
            [
             0.5555555555555556,
             "#cd4071"
            ],
            [
             0.6666666666666666,
             "#f1605d"
            ],
            [
             0.7777777777777778,
             "#fd9668"
            ],
            [
             0.8888888888888888,
             "#feca8d"
            ],
            [
             1,
             "#fcfdbf"
            ]
           ],
           "showscale": false,
           "type": "heatmap",
           "x": [
            0,
            1,
            2
           ],
           "xgap": 5,
           "y": [
            0,
            1,
            2
           ],
           "ygap": 5,
           "z": {
            "bdata": "BQQHBgADAQgC",
            "dtype": "i1",
            "shape": "3, 3"
           }
          }
         ],
         "layout": {
          "annotations": [
           {
            "font": {
             "color": "green",
             "size": 80
            },
            "showarrow": false,
            "text": "5",
            "x": 0,
            "xref": "x",
            "y": 0,
            "yref": "y"
           },
           {
            "font": {
             "color": "green",
             "size": 80
            },
            "showarrow": false,
            "text": "4",
            "x": 1,
            "xref": "x",
            "y": 0,
            "yref": "y"
           },
           {
            "font": {
             "color": "green",
             "size": 80
            },
            "showarrow": false,
            "text": "7",
            "x": 2,
            "xref": "x",
            "y": 0,
            "yref": "y"
           },
           {
            "font": {
             "color": "green",
             "size": 80
            },
            "showarrow": false,
            "text": "6",
            "x": 0,
            "xref": "x",
            "y": 1,
            "yref": "y"
           },
           {
            "font": {
             "color": "green",
             "size": 80
            },
            "showarrow": false,
            "text": "",
            "x": 1,
            "xref": "x",
            "y": 1,
            "yref": "y"
           },
           {
            "font": {
             "color": "green",
             "size": 80
            },
            "showarrow": false,
            "text": "3",
            "x": 2,
            "xref": "x",
            "y": 1,
            "yref": "y"
           },
           {
            "font": {
             "color": "green",
             "size": 80
            },
            "showarrow": false,
            "text": "1",
            "x": 0,
            "xref": "x",
            "y": 2,
            "yref": "y"
           },
           {
            "font": {
             "color": "green",
             "size": 80
            },
            "showarrow": false,
            "text": "8",
            "x": 1,
            "xref": "x",
            "y": 2,
            "yref": "y"
           },
           {
            "font": {
             "color": "green",
             "size": 80
            },
            "showarrow": false,
            "text": "2",
            "x": 2,
            "xref": "x",
            "y": 2,
            "yref": "y"
           }
          ],
          "height": 700,
          "width": 600,
          "xaxis": {
           "showticklabels": false
          },
          "yaxis": {
           "showticklabels": false
          }
         },
         "name": "10"
        },
        {
         "data": [
          {
           "colorscale": [
            [
             0,
             "#000004"
            ],
            [
             0.1111111111111111,
             "#180f3d"
            ],
            [
             0.2222222222222222,
             "#440f76"
            ],
            [
             0.3333333333333333,
             "#721f81"
            ],
            [
             0.4444444444444444,
             "#9e2f7f"
            ],
            [
             0.5555555555555556,
             "#cd4071"
            ],
            [
             0.6666666666666666,
             "#f1605d"
            ],
            [
             0.7777777777777778,
             "#fd9668"
            ],
            [
             0.8888888888888888,
             "#feca8d"
            ],
            [
             1,
             "#fcfdbf"
            ]
           ],
           "showscale": false,
           "type": "heatmap",
           "x": [
            0,
            1,
            2
           ],
           "xgap": 5,
           "y": [
            0,
            1,
            2
           ],
           "ygap": 5,
           "z": {
            "bdata": "BQQHBggDAQAC",
            "dtype": "i1",
            "shape": "3, 3"
           }
          }
         ],
         "layout": {
          "annotations": [
           {
            "font": {
             "color": "green",
             "size": 80
            },
            "showarrow": false,
            "text": "5",
            "x": 0,
            "xref": "x",
            "y": 0,
            "yref": "y"
           },
           {
            "font": {
             "color": "green",
             "size": 80
            },
            "showarrow": false,
            "text": "4",
            "x": 1,
            "xref": "x",
            "y": 0,
            "yref": "y"
           },
           {
            "font": {
             "color": "green",
             "size": 80
            },
            "showarrow": false,
            "text": "7",
            "x": 2,
            "xref": "x",
            "y": 0,
            "yref": "y"
           },
           {
            "font": {
             "color": "green",
             "size": 80
            },
            "showarrow": false,
            "text": "6",
            "x": 0,
            "xref": "x",
            "y": 1,
            "yref": "y"
           },
           {
            "font": {
             "color": "green",
             "size": 80
            },
            "showarrow": false,
            "text": "8",
            "x": 1,
            "xref": "x",
            "y": 1,
            "yref": "y"
           },
           {
            "font": {
             "color": "green",
             "size": 80
            },
            "showarrow": false,
            "text": "3",
            "x": 2,
            "xref": "x",
            "y": 1,
            "yref": "y"
           },
           {
            "font": {
             "color": "green",
             "size": 80
            },
            "showarrow": false,
            "text": "1",
            "x": 0,
            "xref": "x",
            "y": 2,
            "yref": "y"
           },
           {
            "font": {
             "color": "green",
             "size": 80
            },
            "showarrow": false,
            "text": "",
            "x": 1,
            "xref": "x",
            "y": 2,
            "yref": "y"
           },
           {
            "font": {
             "color": "green",
             "size": 80
            },
            "showarrow": false,
            "text": "2",
            "x": 2,
            "xref": "x",
            "y": 2,
            "yref": "y"
           }
          ],
          "height": 700,
          "width": 600,
          "xaxis": {
           "showticklabels": false
          },
          "yaxis": {
           "showticklabels": false
          }
         },
         "name": "11"
        },
        {
         "data": [
          {
           "colorscale": [
            [
             0,
             "#000004"
            ],
            [
             0.1111111111111111,
             "#180f3d"
            ],
            [
             0.2222222222222222,
             "#440f76"
            ],
            [
             0.3333333333333333,
             "#721f81"
            ],
            [
             0.4444444444444444,
             "#9e2f7f"
            ],
            [
             0.5555555555555556,
             "#cd4071"
            ],
            [
             0.6666666666666666,
             "#f1605d"
            ],
            [
             0.7777777777777778,
             "#fd9668"
            ],
            [
             0.8888888888888888,
             "#feca8d"
            ],
            [
             1,
             "#fcfdbf"
            ]
           ],
           "showscale": false,
           "type": "heatmap",
           "x": [
            0,
            1,
            2
           ],
           "xgap": 5,
           "y": [
            0,
            1,
            2
           ],
           "ygap": 5,
           "z": {
            "bdata": "BQQHBggDAQIA",
            "dtype": "i1",
            "shape": "3, 3"
           }
          }
         ],
         "layout": {
          "annotations": [
           {
            "font": {
             "color": "green",
             "size": 80
            },
            "showarrow": false,
            "text": "5",
            "x": 0,
            "xref": "x",
            "y": 0,
            "yref": "y"
           },
           {
            "font": {
             "color": "green",
             "size": 80
            },
            "showarrow": false,
            "text": "4",
            "x": 1,
            "xref": "x",
            "y": 0,
            "yref": "y"
           },
           {
            "font": {
             "color": "green",
             "size": 80
            },
            "showarrow": false,
            "text": "7",
            "x": 2,
            "xref": "x",
            "y": 0,
            "yref": "y"
           },
           {
            "font": {
             "color": "green",
             "size": 80
            },
            "showarrow": false,
            "text": "6",
            "x": 0,
            "xref": "x",
            "y": 1,
            "yref": "y"
           },
           {
            "font": {
             "color": "green",
             "size": 80
            },
            "showarrow": false,
            "text": "8",
            "x": 1,
            "xref": "x",
            "y": 1,
            "yref": "y"
           },
           {
            "font": {
             "color": "green",
             "size": 80
            },
            "showarrow": false,
            "text": "3",
            "x": 2,
            "xref": "x",
            "y": 1,
            "yref": "y"
           },
           {
            "font": {
             "color": "green",
             "size": 80
            },
            "showarrow": false,
            "text": "1",
            "x": 0,
            "xref": "x",
            "y": 2,
            "yref": "y"
           },
           {
            "font": {
             "color": "green",
             "size": 80
            },
            "showarrow": false,
            "text": "2",
            "x": 1,
            "xref": "x",
            "y": 2,
            "yref": "y"
           },
           {
            "font": {
             "color": "green",
             "size": 80
            },
            "showarrow": false,
            "text": "",
            "x": 2,
            "xref": "x",
            "y": 2,
            "yref": "y"
           }
          ],
          "height": 700,
          "width": 600,
          "xaxis": {
           "showticklabels": false
          },
          "yaxis": {
           "showticklabels": false
          }
         },
         "name": "12"
        },
        {
         "data": [
          {
           "colorscale": [
            [
             0,
             "#000004"
            ],
            [
             0.1111111111111111,
             "#180f3d"
            ],
            [
             0.2222222222222222,
             "#440f76"
            ],
            [
             0.3333333333333333,
             "#721f81"
            ],
            [
             0.4444444444444444,
             "#9e2f7f"
            ],
            [
             0.5555555555555556,
             "#cd4071"
            ],
            [
             0.6666666666666666,
             "#f1605d"
            ],
            [
             0.7777777777777778,
             "#fd9668"
            ],
            [
             0.8888888888888888,
             "#feca8d"
            ],
            [
             1,
             "#fcfdbf"
            ]
           ],
           "showscale": false,
           "type": "heatmap",
           "x": [
            0,
            1,
            2
           ],
           "xgap": 5,
           "y": [
            0,
            1,
            2
           ],
           "ygap": 5,
           "z": {
            "bdata": "BQQHBggAAQID",
            "dtype": "i1",
            "shape": "3, 3"
           }
          }
         ],
         "layout": {
          "annotations": [
           {
            "font": {
             "color": "green",
             "size": 80
            },
            "showarrow": false,
            "text": "5",
            "x": 0,
            "xref": "x",
            "y": 0,
            "yref": "y"
           },
           {
            "font": {
             "color": "green",
             "size": 80
            },
            "showarrow": false,
            "text": "4",
            "x": 1,
            "xref": "x",
            "y": 0,
            "yref": "y"
           },
           {
            "font": {
             "color": "green",
             "size": 80
            },
            "showarrow": false,
            "text": "7",
            "x": 2,
            "xref": "x",
            "y": 0,
            "yref": "y"
           },
           {
            "font": {
             "color": "green",
             "size": 80
            },
            "showarrow": false,
            "text": "6",
            "x": 0,
            "xref": "x",
            "y": 1,
            "yref": "y"
           },
           {
            "font": {
             "color": "green",
             "size": 80
            },
            "showarrow": false,
            "text": "8",
            "x": 1,
            "xref": "x",
            "y": 1,
            "yref": "y"
           },
           {
            "font": {
             "color": "green",
             "size": 80
            },
            "showarrow": false,
            "text": "",
            "x": 2,
            "xref": "x",
            "y": 1,
            "yref": "y"
           },
           {
            "font": {
             "color": "green",
             "size": 80
            },
            "showarrow": false,
            "text": "1",
            "x": 0,
            "xref": "x",
            "y": 2,
            "yref": "y"
           },
           {
            "font": {
             "color": "green",
             "size": 80
            },
            "showarrow": false,
            "text": "2",
            "x": 1,
            "xref": "x",
            "y": 2,
            "yref": "y"
           },
           {
            "font": {
             "color": "green",
             "size": 80
            },
            "showarrow": false,
            "text": "3",
            "x": 2,
            "xref": "x",
            "y": 2,
            "yref": "y"
           }
          ],
          "height": 700,
          "width": 600,
          "xaxis": {
           "showticklabels": false
          },
          "yaxis": {
           "showticklabels": false
          }
         },
         "name": "13"
        },
        {
         "data": [
          {
           "colorscale": [
            [
             0,
             "#000004"
            ],
            [
             0.1111111111111111,
             "#180f3d"
            ],
            [
             0.2222222222222222,
             "#440f76"
            ],
            [
             0.3333333333333333,
             "#721f81"
            ],
            [
             0.4444444444444444,
             "#9e2f7f"
            ],
            [
             0.5555555555555556,
             "#cd4071"
            ],
            [
             0.6666666666666666,
             "#f1605d"
            ],
            [
             0.7777777777777778,
             "#fd9668"
            ],
            [
             0.8888888888888888,
             "#feca8d"
            ],
            [
             1,
             "#fcfdbf"
            ]
           ],
           "showscale": false,
           "type": "heatmap",
           "x": [
            0,
            1,
            2
           ],
           "xgap": 5,
           "y": [
            0,
            1,
            2
           ],
           "ygap": 5,
           "z": {
            "bdata": "BQQHBgAIAQID",
            "dtype": "i1",
            "shape": "3, 3"
           }
          }
         ],
         "layout": {
          "annotations": [
           {
            "font": {
             "color": "green",
             "size": 80
            },
            "showarrow": false,
            "text": "5",
            "x": 0,
            "xref": "x",
            "y": 0,
            "yref": "y"
           },
           {
            "font": {
             "color": "green",
             "size": 80
            },
            "showarrow": false,
            "text": "4",
            "x": 1,
            "xref": "x",
            "y": 0,
            "yref": "y"
           },
           {
            "font": {
             "color": "green",
             "size": 80
            },
            "showarrow": false,
            "text": "7",
            "x": 2,
            "xref": "x",
            "y": 0,
            "yref": "y"
           },
           {
            "font": {
             "color": "green",
             "size": 80
            },
            "showarrow": false,
            "text": "6",
            "x": 0,
            "xref": "x",
            "y": 1,
            "yref": "y"
           },
           {
            "font": {
             "color": "green",
             "size": 80
            },
            "showarrow": false,
            "text": "",
            "x": 1,
            "xref": "x",
            "y": 1,
            "yref": "y"
           },
           {
            "font": {
             "color": "green",
             "size": 80
            },
            "showarrow": false,
            "text": "8",
            "x": 2,
            "xref": "x",
            "y": 1,
            "yref": "y"
           },
           {
            "font": {
             "color": "green",
             "size": 80
            },
            "showarrow": false,
            "text": "1",
            "x": 0,
            "xref": "x",
            "y": 2,
            "yref": "y"
           },
           {
            "font": {
             "color": "green",
             "size": 80
            },
            "showarrow": false,
            "text": "2",
            "x": 1,
            "xref": "x",
            "y": 2,
            "yref": "y"
           },
           {
            "font": {
             "color": "green",
             "size": 80
            },
            "showarrow": false,
            "text": "3",
            "x": 2,
            "xref": "x",
            "y": 2,
            "yref": "y"
           }
          ],
          "height": 700,
          "width": 600,
          "xaxis": {
           "showticklabels": false
          },
          "yaxis": {
           "showticklabels": false
          }
         },
         "name": "14"
        },
        {
         "data": [
          {
           "colorscale": [
            [
             0,
             "#000004"
            ],
            [
             0.1111111111111111,
             "#180f3d"
            ],
            [
             0.2222222222222222,
             "#440f76"
            ],
            [
             0.3333333333333333,
             "#721f81"
            ],
            [
             0.4444444444444444,
             "#9e2f7f"
            ],
            [
             0.5555555555555556,
             "#cd4071"
            ],
            [
             0.6666666666666666,
             "#f1605d"
            ],
            [
             0.7777777777777778,
             "#fd9668"
            ],
            [
             0.8888888888888888,
             "#feca8d"
            ],
            [
             1,
             "#fcfdbf"
            ]
           ],
           "showscale": false,
           "type": "heatmap",
           "x": [
            0,
            1,
            2
           ],
           "xgap": 5,
           "y": [
            0,
            1,
            2
           ],
           "ygap": 5,
           "z": {
            "bdata": "BQQHAAYIAQID",
            "dtype": "i1",
            "shape": "3, 3"
           }
          }
         ],
         "layout": {
          "annotations": [
           {
            "font": {
             "color": "green",
             "size": 80
            },
            "showarrow": false,
            "text": "5",
            "x": 0,
            "xref": "x",
            "y": 0,
            "yref": "y"
           },
           {
            "font": {
             "color": "green",
             "size": 80
            },
            "showarrow": false,
            "text": "4",
            "x": 1,
            "xref": "x",
            "y": 0,
            "yref": "y"
           },
           {
            "font": {
             "color": "green",
             "size": 80
            },
            "showarrow": false,
            "text": "7",
            "x": 2,
            "xref": "x",
            "y": 0,
            "yref": "y"
           },
           {
            "font": {
             "color": "green",
             "size": 80
            },
            "showarrow": false,
            "text": "",
            "x": 0,
            "xref": "x",
            "y": 1,
            "yref": "y"
           },
           {
            "font": {
             "color": "green",
             "size": 80
            },
            "showarrow": false,
            "text": "6",
            "x": 1,
            "xref": "x",
            "y": 1,
            "yref": "y"
           },
           {
            "font": {
             "color": "green",
             "size": 80
            },
            "showarrow": false,
            "text": "8",
            "x": 2,
            "xref": "x",
            "y": 1,
            "yref": "y"
           },
           {
            "font": {
             "color": "green",
             "size": 80
            },
            "showarrow": false,
            "text": "1",
            "x": 0,
            "xref": "x",
            "y": 2,
            "yref": "y"
           },
           {
            "font": {
             "color": "green",
             "size": 80
            },
            "showarrow": false,
            "text": "2",
            "x": 1,
            "xref": "x",
            "y": 2,
            "yref": "y"
           },
           {
            "font": {
             "color": "green",
             "size": 80
            },
            "showarrow": false,
            "text": "3",
            "x": 2,
            "xref": "x",
            "y": 2,
            "yref": "y"
           }
          ],
          "height": 700,
          "width": 600,
          "xaxis": {
           "showticklabels": false
          },
          "yaxis": {
           "showticklabels": false
          }
         },
         "name": "15"
        },
        {
         "data": [
          {
           "colorscale": [
            [
             0,
             "#000004"
            ],
            [
             0.1111111111111111,
             "#180f3d"
            ],
            [
             0.2222222222222222,
             "#440f76"
            ],
            [
             0.3333333333333333,
             "#721f81"
            ],
            [
             0.4444444444444444,
             "#9e2f7f"
            ],
            [
             0.5555555555555556,
             "#cd4071"
            ],
            [
             0.6666666666666666,
             "#f1605d"
            ],
            [
             0.7777777777777778,
             "#fd9668"
            ],
            [
             0.8888888888888888,
             "#feca8d"
            ],
            [
             1,
             "#fcfdbf"
            ]
           ],
           "showscale": false,
           "type": "heatmap",
           "x": [
            0,
            1,
            2
           ],
           "xgap": 5,
           "y": [
            0,
            1,
            2
           ],
           "ygap": 5,
           "z": {
            "bdata": "AAQHBQYIAQID",
            "dtype": "i1",
            "shape": "3, 3"
           }
          }
         ],
         "layout": {
          "annotations": [
           {
            "font": {
             "color": "green",
             "size": 80
            },
            "showarrow": false,
            "text": "",
            "x": 0,
            "xref": "x",
            "y": 0,
            "yref": "y"
           },
           {
            "font": {
             "color": "green",
             "size": 80
            },
            "showarrow": false,
            "text": "4",
            "x": 1,
            "xref": "x",
            "y": 0,
            "yref": "y"
           },
           {
            "font": {
             "color": "green",
             "size": 80
            },
            "showarrow": false,
            "text": "7",
            "x": 2,
            "xref": "x",
            "y": 0,
            "yref": "y"
           },
           {
            "font": {
             "color": "green",
             "size": 80
            },
            "showarrow": false,
            "text": "5",
            "x": 0,
            "xref": "x",
            "y": 1,
            "yref": "y"
           },
           {
            "font": {
             "color": "green",
             "size": 80
            },
            "showarrow": false,
            "text": "6",
            "x": 1,
            "xref": "x",
            "y": 1,
            "yref": "y"
           },
           {
            "font": {
             "color": "green",
             "size": 80
            },
            "showarrow": false,
            "text": "8",
            "x": 2,
            "xref": "x",
            "y": 1,
            "yref": "y"
           },
           {
            "font": {
             "color": "green",
             "size": 80
            },
            "showarrow": false,
            "text": "1",
            "x": 0,
            "xref": "x",
            "y": 2,
            "yref": "y"
           },
           {
            "font": {
             "color": "green",
             "size": 80
            },
            "showarrow": false,
            "text": "2",
            "x": 1,
            "xref": "x",
            "y": 2,
            "yref": "y"
           },
           {
            "font": {
             "color": "green",
             "size": 80
            },
            "showarrow": false,
            "text": "3",
            "x": 2,
            "xref": "x",
            "y": 2,
            "yref": "y"
           }
          ],
          "height": 700,
          "width": 600,
          "xaxis": {
           "showticklabels": false
          },
          "yaxis": {
           "showticklabels": false
          }
         },
         "name": "16"
        },
        {
         "data": [
          {
           "colorscale": [
            [
             0,
             "#000004"
            ],
            [
             0.1111111111111111,
             "#180f3d"
            ],
            [
             0.2222222222222222,
             "#440f76"
            ],
            [
             0.3333333333333333,
             "#721f81"
            ],
            [
             0.4444444444444444,
             "#9e2f7f"
            ],
            [
             0.5555555555555556,
             "#cd4071"
            ],
            [
             0.6666666666666666,
             "#f1605d"
            ],
            [
             0.7777777777777778,
             "#fd9668"
            ],
            [
             0.8888888888888888,
             "#feca8d"
            ],
            [
             1,
             "#fcfdbf"
            ]
           ],
           "showscale": false,
           "type": "heatmap",
           "x": [
            0,
            1,
            2
           ],
           "xgap": 5,
           "y": [
            0,
            1,
            2
           ],
           "ygap": 5,
           "z": {
            "bdata": "BAAHBQYIAQID",
            "dtype": "i1",
            "shape": "3, 3"
           }
          }
         ],
         "layout": {
          "annotations": [
           {
            "font": {
             "color": "green",
             "size": 80
            },
            "showarrow": false,
            "text": "4",
            "x": 0,
            "xref": "x",
            "y": 0,
            "yref": "y"
           },
           {
            "font": {
             "color": "green",
             "size": 80
            },
            "showarrow": false,
            "text": "",
            "x": 1,
            "xref": "x",
            "y": 0,
            "yref": "y"
           },
           {
            "font": {
             "color": "green",
             "size": 80
            },
            "showarrow": false,
            "text": "7",
            "x": 2,
            "xref": "x",
            "y": 0,
            "yref": "y"
           },
           {
            "font": {
             "color": "green",
             "size": 80
            },
            "showarrow": false,
            "text": "5",
            "x": 0,
            "xref": "x",
            "y": 1,
            "yref": "y"
           },
           {
            "font": {
             "color": "green",
             "size": 80
            },
            "showarrow": false,
            "text": "6",
            "x": 1,
            "xref": "x",
            "y": 1,
            "yref": "y"
           },
           {
            "font": {
             "color": "green",
             "size": 80
            },
            "showarrow": false,
            "text": "8",
            "x": 2,
            "xref": "x",
            "y": 1,
            "yref": "y"
           },
           {
            "font": {
             "color": "green",
             "size": 80
            },
            "showarrow": false,
            "text": "1",
            "x": 0,
            "xref": "x",
            "y": 2,
            "yref": "y"
           },
           {
            "font": {
             "color": "green",
             "size": 80
            },
            "showarrow": false,
            "text": "2",
            "x": 1,
            "xref": "x",
            "y": 2,
            "yref": "y"
           },
           {
            "font": {
             "color": "green",
             "size": 80
            },
            "showarrow": false,
            "text": "3",
            "x": 2,
            "xref": "x",
            "y": 2,
            "yref": "y"
           }
          ],
          "height": 700,
          "width": 600,
          "xaxis": {
           "showticklabels": false
          },
          "yaxis": {
           "showticklabels": false
          }
         },
         "name": "17"
        },
        {
         "data": [
          {
           "colorscale": [
            [
             0,
             "#000004"
            ],
            [
             0.1111111111111111,
             "#180f3d"
            ],
            [
             0.2222222222222222,
             "#440f76"
            ],
            [
             0.3333333333333333,
             "#721f81"
            ],
            [
             0.4444444444444444,
             "#9e2f7f"
            ],
            [
             0.5555555555555556,
             "#cd4071"
            ],
            [
             0.6666666666666666,
             "#f1605d"
            ],
            [
             0.7777777777777778,
             "#fd9668"
            ],
            [
             0.8888888888888888,
             "#feca8d"
            ],
            [
             1,
             "#fcfdbf"
            ]
           ],
           "showscale": false,
           "type": "heatmap",
           "x": [
            0,
            1,
            2
           ],
           "xgap": 5,
           "y": [
            0,
            1,
            2
           ],
           "ygap": 5,
           "z": {
            "bdata": "BAcABQYIAQID",
            "dtype": "i1",
            "shape": "3, 3"
           }
          }
         ],
         "layout": {
          "annotations": [
           {
            "font": {
             "color": "green",
             "size": 80
            },
            "showarrow": false,
            "text": "4",
            "x": 0,
            "xref": "x",
            "y": 0,
            "yref": "y"
           },
           {
            "font": {
             "color": "green",
             "size": 80
            },
            "showarrow": false,
            "text": "7",
            "x": 1,
            "xref": "x",
            "y": 0,
            "yref": "y"
           },
           {
            "font": {
             "color": "green",
             "size": 80
            },
            "showarrow": false,
            "text": "",
            "x": 2,
            "xref": "x",
            "y": 0,
            "yref": "y"
           },
           {
            "font": {
             "color": "green",
             "size": 80
            },
            "showarrow": false,
            "text": "5",
            "x": 0,
            "xref": "x",
            "y": 1,
            "yref": "y"
           },
           {
            "font": {
             "color": "green",
             "size": 80
            },
            "showarrow": false,
            "text": "6",
            "x": 1,
            "xref": "x",
            "y": 1,
            "yref": "y"
           },
           {
            "font": {
             "color": "green",
             "size": 80
            },
            "showarrow": false,
            "text": "8",
            "x": 2,
            "xref": "x",
            "y": 1,
            "yref": "y"
           },
           {
            "font": {
             "color": "green",
             "size": 80
            },
            "showarrow": false,
            "text": "1",
            "x": 0,
            "xref": "x",
            "y": 2,
            "yref": "y"
           },
           {
            "font": {
             "color": "green",
             "size": 80
            },
            "showarrow": false,
            "text": "2",
            "x": 1,
            "xref": "x",
            "y": 2,
            "yref": "y"
           },
           {
            "font": {
             "color": "green",
             "size": 80
            },
            "showarrow": false,
            "text": "3",
            "x": 2,
            "xref": "x",
            "y": 2,
            "yref": "y"
           }
          ],
          "height": 700,
          "width": 600,
          "xaxis": {
           "showticklabels": false
          },
          "yaxis": {
           "showticklabels": false
          }
         },
         "name": "18"
        },
        {
         "data": [
          {
           "colorscale": [
            [
             0,
             "#000004"
            ],
            [
             0.1111111111111111,
             "#180f3d"
            ],
            [
             0.2222222222222222,
             "#440f76"
            ],
            [
             0.3333333333333333,
             "#721f81"
            ],
            [
             0.4444444444444444,
             "#9e2f7f"
            ],
            [
             0.5555555555555556,
             "#cd4071"
            ],
            [
             0.6666666666666666,
             "#f1605d"
            ],
            [
             0.7777777777777778,
             "#fd9668"
            ],
            [
             0.8888888888888888,
             "#feca8d"
            ],
            [
             1,
             "#fcfdbf"
            ]
           ],
           "showscale": false,
           "type": "heatmap",
           "x": [
            0,
            1,
            2
           ],
           "xgap": 5,
           "y": [
            0,
            1,
            2
           ],
           "ygap": 5,
           "z": {
            "bdata": "BAcIBQYAAQID",
            "dtype": "i1",
            "shape": "3, 3"
           }
          }
         ],
         "layout": {
          "annotations": [
           {
            "font": {
             "color": "green",
             "size": 80
            },
            "showarrow": false,
            "text": "4",
            "x": 0,
            "xref": "x",
            "y": 0,
            "yref": "y"
           },
           {
            "font": {
             "color": "green",
             "size": 80
            },
            "showarrow": false,
            "text": "7",
            "x": 1,
            "xref": "x",
            "y": 0,
            "yref": "y"
           },
           {
            "font": {
             "color": "green",
             "size": 80
            },
            "showarrow": false,
            "text": "8",
            "x": 2,
            "xref": "x",
            "y": 0,
            "yref": "y"
           },
           {
            "font": {
             "color": "green",
             "size": 80
            },
            "showarrow": false,
            "text": "5",
            "x": 0,
            "xref": "x",
            "y": 1,
            "yref": "y"
           },
           {
            "font": {
             "color": "green",
             "size": 80
            },
            "showarrow": false,
            "text": "6",
            "x": 1,
            "xref": "x",
            "y": 1,
            "yref": "y"
           },
           {
            "font": {
             "color": "green",
             "size": 80
            },
            "showarrow": false,
            "text": "",
            "x": 2,
            "xref": "x",
            "y": 1,
            "yref": "y"
           },
           {
            "font": {
             "color": "green",
             "size": 80
            },
            "showarrow": false,
            "text": "1",
            "x": 0,
            "xref": "x",
            "y": 2,
            "yref": "y"
           },
           {
            "font": {
             "color": "green",
             "size": 80
            },
            "showarrow": false,
            "text": "2",
            "x": 1,
            "xref": "x",
            "y": 2,
            "yref": "y"
           },
           {
            "font": {
             "color": "green",
             "size": 80
            },
            "showarrow": false,
            "text": "3",
            "x": 2,
            "xref": "x",
            "y": 2,
            "yref": "y"
           }
          ],
          "height": 700,
          "width": 600,
          "xaxis": {
           "showticklabels": false
          },
          "yaxis": {
           "showticklabels": false
          }
         },
         "name": "19"
        },
        {
         "data": [
          {
           "colorscale": [
            [
             0,
             "#000004"
            ],
            [
             0.1111111111111111,
             "#180f3d"
            ],
            [
             0.2222222222222222,
             "#440f76"
            ],
            [
             0.3333333333333333,
             "#721f81"
            ],
            [
             0.4444444444444444,
             "#9e2f7f"
            ],
            [
             0.5555555555555556,
             "#cd4071"
            ],
            [
             0.6666666666666666,
             "#f1605d"
            ],
            [
             0.7777777777777778,
             "#fd9668"
            ],
            [
             0.8888888888888888,
             "#feca8d"
            ],
            [
             1,
             "#fcfdbf"
            ]
           ],
           "showscale": false,
           "type": "heatmap",
           "x": [
            0,
            1,
            2
           ],
           "xgap": 5,
           "y": [
            0,
            1,
            2
           ],
           "ygap": 5,
           "z": {
            "bdata": "BAcIBQAGAQID",
            "dtype": "i1",
            "shape": "3, 3"
           }
          }
         ],
         "layout": {
          "annotations": [
           {
            "font": {
             "color": "green",
             "size": 80
            },
            "showarrow": false,
            "text": "4",
            "x": 0,
            "xref": "x",
            "y": 0,
            "yref": "y"
           },
           {
            "font": {
             "color": "green",
             "size": 80
            },
            "showarrow": false,
            "text": "7",
            "x": 1,
            "xref": "x",
            "y": 0,
            "yref": "y"
           },
           {
            "font": {
             "color": "green",
             "size": 80
            },
            "showarrow": false,
            "text": "8",
            "x": 2,
            "xref": "x",
            "y": 0,
            "yref": "y"
           },
           {
            "font": {
             "color": "green",
             "size": 80
            },
            "showarrow": false,
            "text": "5",
            "x": 0,
            "xref": "x",
            "y": 1,
            "yref": "y"
           },
           {
            "font": {
             "color": "green",
             "size": 80
            },
            "showarrow": false,
            "text": "",
            "x": 1,
            "xref": "x",
            "y": 1,
            "yref": "y"
           },
           {
            "font": {
             "color": "green",
             "size": 80
            },
            "showarrow": false,
            "text": "6",
            "x": 2,
            "xref": "x",
            "y": 1,
            "yref": "y"
           },
           {
            "font": {
             "color": "green",
             "size": 80
            },
            "showarrow": false,
            "text": "1",
            "x": 0,
            "xref": "x",
            "y": 2,
            "yref": "y"
           },
           {
            "font": {
             "color": "green",
             "size": 80
            },
            "showarrow": false,
            "text": "2",
            "x": 1,
            "xref": "x",
            "y": 2,
            "yref": "y"
           },
           {
            "font": {
             "color": "green",
             "size": 80
            },
            "showarrow": false,
            "text": "3",
            "x": 2,
            "xref": "x",
            "y": 2,
            "yref": "y"
           }
          ],
          "height": 700,
          "width": 600,
          "xaxis": {
           "showticklabels": false
          },
          "yaxis": {
           "showticklabels": false
          }
         },
         "name": "20"
        },
        {
         "data": [
          {
           "colorscale": [
            [
             0,
             "#000004"
            ],
            [
             0.1111111111111111,
             "#180f3d"
            ],
            [
             0.2222222222222222,
             "#440f76"
            ],
            [
             0.3333333333333333,
             "#721f81"
            ],
            [
             0.4444444444444444,
             "#9e2f7f"
            ],
            [
             0.5555555555555556,
             "#cd4071"
            ],
            [
             0.6666666666666666,
             "#f1605d"
            ],
            [
             0.7777777777777778,
             "#fd9668"
            ],
            [
             0.8888888888888888,
             "#feca8d"
            ],
            [
             1,
             "#fcfdbf"
            ]
           ],
           "showscale": false,
           "type": "heatmap",
           "x": [
            0,
            1,
            2
           ],
           "xgap": 5,
           "y": [
            0,
            1,
            2
           ],
           "ygap": 5,
           "z": {
            "bdata": "BAcIAAUGAQID",
            "dtype": "i1",
            "shape": "3, 3"
           }
          }
         ],
         "layout": {
          "annotations": [
           {
            "font": {
             "color": "green",
             "size": 80
            },
            "showarrow": false,
            "text": "4",
            "x": 0,
            "xref": "x",
            "y": 0,
            "yref": "y"
           },
           {
            "font": {
             "color": "green",
             "size": 80
            },
            "showarrow": false,
            "text": "7",
            "x": 1,
            "xref": "x",
            "y": 0,
            "yref": "y"
           },
           {
            "font": {
             "color": "green",
             "size": 80
            },
            "showarrow": false,
            "text": "8",
            "x": 2,
            "xref": "x",
            "y": 0,
            "yref": "y"
           },
           {
            "font": {
             "color": "green",
             "size": 80
            },
            "showarrow": false,
            "text": "",
            "x": 0,
            "xref": "x",
            "y": 1,
            "yref": "y"
           },
           {
            "font": {
             "color": "green",
             "size": 80
            },
            "showarrow": false,
            "text": "5",
            "x": 1,
            "xref": "x",
            "y": 1,
            "yref": "y"
           },
           {
            "font": {
             "color": "green",
             "size": 80
            },
            "showarrow": false,
            "text": "6",
            "x": 2,
            "xref": "x",
            "y": 1,
            "yref": "y"
           },
           {
            "font": {
             "color": "green",
             "size": 80
            },
            "showarrow": false,
            "text": "1",
            "x": 0,
            "xref": "x",
            "y": 2,
            "yref": "y"
           },
           {
            "font": {
             "color": "green",
             "size": 80
            },
            "showarrow": false,
            "text": "2",
            "x": 1,
            "xref": "x",
            "y": 2,
            "yref": "y"
           },
           {
            "font": {
             "color": "green",
             "size": 80
            },
            "showarrow": false,
            "text": "3",
            "x": 2,
            "xref": "x",
            "y": 2,
            "yref": "y"
           }
          ],
          "height": 700,
          "width": 600,
          "xaxis": {
           "showticklabels": false
          },
          "yaxis": {
           "showticklabels": false
          }
         },
         "name": "21"
        },
        {
         "data": [
          {
           "colorscale": [
            [
             0,
             "#000004"
            ],
            [
             0.1111111111111111,
             "#180f3d"
            ],
            [
             0.2222222222222222,
             "#440f76"
            ],
            [
             0.3333333333333333,
             "#721f81"
            ],
            [
             0.4444444444444444,
             "#9e2f7f"
            ],
            [
             0.5555555555555556,
             "#cd4071"
            ],
            [
             0.6666666666666666,
             "#f1605d"
            ],
            [
             0.7777777777777778,
             "#fd9668"
            ],
            [
             0.8888888888888888,
             "#feca8d"
            ],
            [
             1,
             "#fcfdbf"
            ]
           ],
           "showscale": false,
           "type": "heatmap",
           "x": [
            0,
            1,
            2
           ],
           "xgap": 5,
           "y": [
            0,
            1,
            2
           ],
           "ygap": 5,
           "z": {
            "bdata": "AAcIBAUGAQID",
            "dtype": "i1",
            "shape": "3, 3"
           }
          }
         ],
         "layout": {
          "annotations": [
           {
            "font": {
             "color": "green",
             "size": 80
            },
            "showarrow": false,
            "text": "",
            "x": 0,
            "xref": "x",
            "y": 0,
            "yref": "y"
           },
           {
            "font": {
             "color": "green",
             "size": 80
            },
            "showarrow": false,
            "text": "7",
            "x": 1,
            "xref": "x",
            "y": 0,
            "yref": "y"
           },
           {
            "font": {
             "color": "green",
             "size": 80
            },
            "showarrow": false,
            "text": "8",
            "x": 2,
            "xref": "x",
            "y": 0,
            "yref": "y"
           },
           {
            "font": {
             "color": "green",
             "size": 80
            },
            "showarrow": false,
            "text": "4",
            "x": 0,
            "xref": "x",
            "y": 1,
            "yref": "y"
           },
           {
            "font": {
             "color": "green",
             "size": 80
            },
            "showarrow": false,
            "text": "5",
            "x": 1,
            "xref": "x",
            "y": 1,
            "yref": "y"
           },
           {
            "font": {
             "color": "green",
             "size": 80
            },
            "showarrow": false,
            "text": "6",
            "x": 2,
            "xref": "x",
            "y": 1,
            "yref": "y"
           },
           {
            "font": {
             "color": "green",
             "size": 80
            },
            "showarrow": false,
            "text": "1",
            "x": 0,
            "xref": "x",
            "y": 2,
            "yref": "y"
           },
           {
            "font": {
             "color": "green",
             "size": 80
            },
            "showarrow": false,
            "text": "2",
            "x": 1,
            "xref": "x",
            "y": 2,
            "yref": "y"
           },
           {
            "font": {
             "color": "green",
             "size": 80
            },
            "showarrow": false,
            "text": "3",
            "x": 2,
            "xref": "x",
            "y": 2,
            "yref": "y"
           }
          ],
          "height": 700,
          "width": 600,
          "xaxis": {
           "showticklabels": false
          },
          "yaxis": {
           "showticklabels": false
          }
         },
         "name": "22"
        },
        {
         "data": [
          {
           "colorscale": [
            [
             0,
             "#000004"
            ],
            [
             0.1111111111111111,
             "#180f3d"
            ],
            [
             0.2222222222222222,
             "#440f76"
            ],
            [
             0.3333333333333333,
             "#721f81"
            ],
            [
             0.4444444444444444,
             "#9e2f7f"
            ],
            [
             0.5555555555555556,
             "#cd4071"
            ],
            [
             0.6666666666666666,
             "#f1605d"
            ],
            [
             0.7777777777777778,
             "#fd9668"
            ],
            [
             0.8888888888888888,
             "#feca8d"
            ],
            [
             1,
             "#fcfdbf"
            ]
           ],
           "showscale": false,
           "type": "heatmap",
           "x": [
            0,
            1,
            2
           ],
           "xgap": 5,
           "y": [
            0,
            1,
            2
           ],
           "ygap": 5,
           "z": {
            "bdata": "BwAIBAUGAQID",
            "dtype": "i1",
            "shape": "3, 3"
           }
          }
         ],
         "layout": {
          "annotations": [
           {
            "font": {
             "color": "green",
             "size": 80
            },
            "showarrow": false,
            "text": "7",
            "x": 0,
            "xref": "x",
            "y": 0,
            "yref": "y"
           },
           {
            "font": {
             "color": "green",
             "size": 80
            },
            "showarrow": false,
            "text": "",
            "x": 1,
            "xref": "x",
            "y": 0,
            "yref": "y"
           },
           {
            "font": {
             "color": "green",
             "size": 80
            },
            "showarrow": false,
            "text": "8",
            "x": 2,
            "xref": "x",
            "y": 0,
            "yref": "y"
           },
           {
            "font": {
             "color": "green",
             "size": 80
            },
            "showarrow": false,
            "text": "4",
            "x": 0,
            "xref": "x",
            "y": 1,
            "yref": "y"
           },
           {
            "font": {
             "color": "green",
             "size": 80
            },
            "showarrow": false,
            "text": "5",
            "x": 1,
            "xref": "x",
            "y": 1,
            "yref": "y"
           },
           {
            "font": {
             "color": "green",
             "size": 80
            },
            "showarrow": false,
            "text": "6",
            "x": 2,
            "xref": "x",
            "y": 1,
            "yref": "y"
           },
           {
            "font": {
             "color": "green",
             "size": 80
            },
            "showarrow": false,
            "text": "1",
            "x": 0,
            "xref": "x",
            "y": 2,
            "yref": "y"
           },
           {
            "font": {
             "color": "green",
             "size": 80
            },
            "showarrow": false,
            "text": "2",
            "x": 1,
            "xref": "x",
            "y": 2,
            "yref": "y"
           },
           {
            "font": {
             "color": "green",
             "size": 80
            },
            "showarrow": false,
            "text": "3",
            "x": 2,
            "xref": "x",
            "y": 2,
            "yref": "y"
           }
          ],
          "height": 700,
          "width": 600,
          "xaxis": {
           "showticklabels": false
          },
          "yaxis": {
           "showticklabels": false
          }
         },
         "name": "23"
        },
        {
         "data": [
          {
           "colorscale": [
            [
             0,
             "#000004"
            ],
            [
             0.1111111111111111,
             "#180f3d"
            ],
            [
             0.2222222222222222,
             "#440f76"
            ],
            [
             0.3333333333333333,
             "#721f81"
            ],
            [
             0.4444444444444444,
             "#9e2f7f"
            ],
            [
             0.5555555555555556,
             "#cd4071"
            ],
            [
             0.6666666666666666,
             "#f1605d"
            ],
            [
             0.7777777777777778,
             "#fd9668"
            ],
            [
             0.8888888888888888,
             "#feca8d"
            ],
            [
             1,
             "#fcfdbf"
            ]
           ],
           "showscale": false,
           "type": "heatmap",
           "x": [
            0,
            1,
            2
           ],
           "xgap": 5,
           "y": [
            0,
            1,
            2
           ],
           "ygap": 5,
           "z": {
            "bdata": "BwgABAUGAQID",
            "dtype": "i1",
            "shape": "3, 3"
           }
          }
         ],
         "layout": {
          "annotations": [
           {
            "font": {
             "color": "green",
             "size": 80
            },
            "showarrow": false,
            "text": "7",
            "x": 0,
            "xref": "x",
            "y": 0,
            "yref": "y"
           },
           {
            "font": {
             "color": "green",
             "size": 80
            },
            "showarrow": false,
            "text": "8",
            "x": 1,
            "xref": "x",
            "y": 0,
            "yref": "y"
           },
           {
            "font": {
             "color": "green",
             "size": 80
            },
            "showarrow": false,
            "text": "",
            "x": 2,
            "xref": "x",
            "y": 0,
            "yref": "y"
           },
           {
            "font": {
             "color": "green",
             "size": 80
            },
            "showarrow": false,
            "text": "4",
            "x": 0,
            "xref": "x",
            "y": 1,
            "yref": "y"
           },
           {
            "font": {
             "color": "green",
             "size": 80
            },
            "showarrow": false,
            "text": "5",
            "x": 1,
            "xref": "x",
            "y": 1,
            "yref": "y"
           },
           {
            "font": {
             "color": "green",
             "size": 80
            },
            "showarrow": false,
            "text": "6",
            "x": 2,
            "xref": "x",
            "y": 1,
            "yref": "y"
           },
           {
            "font": {
             "color": "green",
             "size": 80
            },
            "showarrow": false,
            "text": "1",
            "x": 0,
            "xref": "x",
            "y": 2,
            "yref": "y"
           },
           {
            "font": {
             "color": "green",
             "size": 80
            },
            "showarrow": false,
            "text": "2",
            "x": 1,
            "xref": "x",
            "y": 2,
            "yref": "y"
           },
           {
            "font": {
             "color": "green",
             "size": 80
            },
            "showarrow": false,
            "text": "3",
            "x": 2,
            "xref": "x",
            "y": 2,
            "yref": "y"
           }
          ],
          "height": 700,
          "width": 600,
          "xaxis": {
           "showticklabels": false
          },
          "yaxis": {
           "showticklabels": false
          }
         },
         "name": "24"
        }
       ],
       "layout": {
        "annotations": [
         {
          "font": {
           "color": "green",
           "size": 80
          },
          "showarrow": false,
          "text": "6",
          "x": 0,
          "xref": "x",
          "y": 0,
          "yref": "y"
         },
         {
          "font": {
           "color": "green",
           "size": 80
          },
          "showarrow": false,
          "text": "5",
          "x": 1,
          "xref": "x",
          "y": 0,
          "yref": "y"
         },
         {
          "font": {
           "color": "green",
           "size": 80
          },
          "showarrow": false,
          "text": "7",
          "x": 2,
          "xref": "x",
          "y": 0,
          "yref": "y"
         },
         {
          "font": {
           "color": "green",
           "size": 80
          },
          "showarrow": false,
          "text": "1",
          "x": 0,
          "xref": "x",
          "y": 1,
          "yref": "y"
         },
         {
          "font": {
           "color": "green",
           "size": 80
          },
          "showarrow": false,
          "text": "3",
          "x": 1,
          "xref": "x",
          "y": 1,
          "yref": "y"
         },
         {
          "font": {
           "color": "green",
           "size": 80
          },
          "showarrow": false,
          "text": "2",
          "x": 2,
          "xref": "x",
          "y": 1,
          "yref": "y"
         },
         {
          "font": {
           "color": "green",
           "size": 80
          },
          "showarrow": false,
          "text": "",
          "x": 0,
          "xref": "x",
          "y": 2,
          "yref": "y"
         },
         {
          "font": {
           "color": "green",
           "size": 80
          },
          "showarrow": false,
          "text": "8",
          "x": 1,
          "xref": "x",
          "y": 2,
          "yref": "y"
         },
         {
          "font": {
           "color": "green",
           "size": 80
          },
          "showarrow": false,
          "text": "4",
          "x": 2,
          "xref": "x",
          "y": 2,
          "yref": "y"
         }
        ],
        "height": 700,
        "sliders": [
         {
          "active": 0,
          "currentvalue": {
           "font": {
            "size": 20
           },
           "prefix": "Step:",
           "visible": true,
           "xanchor": "right"
          },
          "len": 0.9,
          "pad": {
           "b": 10,
           "t": 50
          },
          "steps": [
           {
            "args": [
             [
              0
             ],
             {
              "frame": {
               "duration": 300,
               "redraw": true
              },
              "mode": "immediate",
              "transition": {
               "duration": 300
              }
             }
            ],
            "label": "0",
            "method": "animate"
           },
           {
            "args": [
             [
              1
             ],
             {
              "frame": {
               "duration": 300,
               "redraw": true
              },
              "mode": "immediate",
              "transition": {
               "duration": 300
              }
             }
            ],
            "label": "1",
            "method": "animate"
           },
           {
            "args": [
             [
              2
             ],
             {
              "frame": {
               "duration": 300,
               "redraw": true
              },
              "mode": "immediate",
              "transition": {
               "duration": 300
              }
             }
            ],
            "label": "2",
            "method": "animate"
           },
           {
            "args": [
             [
              3
             ],
             {
              "frame": {
               "duration": 300,
               "redraw": true
              },
              "mode": "immediate",
              "transition": {
               "duration": 300
              }
             }
            ],
            "label": "3",
            "method": "animate"
           },
           {
            "args": [
             [
              4
             ],
             {
              "frame": {
               "duration": 300,
               "redraw": true
              },
              "mode": "immediate",
              "transition": {
               "duration": 300
              }
             }
            ],
            "label": "4",
            "method": "animate"
           },
           {
            "args": [
             [
              5
             ],
             {
              "frame": {
               "duration": 300,
               "redraw": true
              },
              "mode": "immediate",
              "transition": {
               "duration": 300
              }
             }
            ],
            "label": "5",
            "method": "animate"
           },
           {
            "args": [
             [
              6
             ],
             {
              "frame": {
               "duration": 300,
               "redraw": true
              },
              "mode": "immediate",
              "transition": {
               "duration": 300
              }
             }
            ],
            "label": "6",
            "method": "animate"
           },
           {
            "args": [
             [
              7
             ],
             {
              "frame": {
               "duration": 300,
               "redraw": true
              },
              "mode": "immediate",
              "transition": {
               "duration": 300
              }
             }
            ],
            "label": "7",
            "method": "animate"
           },
           {
            "args": [
             [
              8
             ],
             {
              "frame": {
               "duration": 300,
               "redraw": true
              },
              "mode": "immediate",
              "transition": {
               "duration": 300
              }
             }
            ],
            "label": "8",
            "method": "animate"
           },
           {
            "args": [
             [
              9
             ],
             {
              "frame": {
               "duration": 300,
               "redraw": true
              },
              "mode": "immediate",
              "transition": {
               "duration": 300
              }
             }
            ],
            "label": "9",
            "method": "animate"
           },
           {
            "args": [
             [
              10
             ],
             {
              "frame": {
               "duration": 300,
               "redraw": true
              },
              "mode": "immediate",
              "transition": {
               "duration": 300
              }
             }
            ],
            "label": "10",
            "method": "animate"
           },
           {
            "args": [
             [
              11
             ],
             {
              "frame": {
               "duration": 300,
               "redraw": true
              },
              "mode": "immediate",
              "transition": {
               "duration": 300
              }
             }
            ],
            "label": "11",
            "method": "animate"
           },
           {
            "args": [
             [
              12
             ],
             {
              "frame": {
               "duration": 300,
               "redraw": true
              },
              "mode": "immediate",
              "transition": {
               "duration": 300
              }
             }
            ],
            "label": "12",
            "method": "animate"
           },
           {
            "args": [
             [
              13
             ],
             {
              "frame": {
               "duration": 300,
               "redraw": true
              },
              "mode": "immediate",
              "transition": {
               "duration": 300
              }
             }
            ],
            "label": "13",
            "method": "animate"
           },
           {
            "args": [
             [
              14
             ],
             {
              "frame": {
               "duration": 300,
               "redraw": true
              },
              "mode": "immediate",
              "transition": {
               "duration": 300
              }
             }
            ],
            "label": "14",
            "method": "animate"
           },
           {
            "args": [
             [
              15
             ],
             {
              "frame": {
               "duration": 300,
               "redraw": true
              },
              "mode": "immediate",
              "transition": {
               "duration": 300
              }
             }
            ],
            "label": "15",
            "method": "animate"
           },
           {
            "args": [
             [
              16
             ],
             {
              "frame": {
               "duration": 300,
               "redraw": true
              },
              "mode": "immediate",
              "transition": {
               "duration": 300
              }
             }
            ],
            "label": "16",
            "method": "animate"
           },
           {
            "args": [
             [
              17
             ],
             {
              "frame": {
               "duration": 300,
               "redraw": true
              },
              "mode": "immediate",
              "transition": {
               "duration": 300
              }
             }
            ],
            "label": "17",
            "method": "animate"
           },
           {
            "args": [
             [
              18
             ],
             {
              "frame": {
               "duration": 300,
               "redraw": true
              },
              "mode": "immediate",
              "transition": {
               "duration": 300
              }
             }
            ],
            "label": "18",
            "method": "animate"
           },
           {
            "args": [
             [
              19
             ],
             {
              "frame": {
               "duration": 300,
               "redraw": true
              },
              "mode": "immediate",
              "transition": {
               "duration": 300
              }
             }
            ],
            "label": "19",
            "method": "animate"
           },
           {
            "args": [
             [
              20
             ],
             {
              "frame": {
               "duration": 300,
               "redraw": true
              },
              "mode": "immediate",
              "transition": {
               "duration": 300
              }
             }
            ],
            "label": "20",
            "method": "animate"
           },
           {
            "args": [
             [
              21
             ],
             {
              "frame": {
               "duration": 300,
               "redraw": true
              },
              "mode": "immediate",
              "transition": {
               "duration": 300
              }
             }
            ],
            "label": "21",
            "method": "animate"
           },
           {
            "args": [
             [
              22
             ],
             {
              "frame": {
               "duration": 300,
               "redraw": true
              },
              "mode": "immediate",
              "transition": {
               "duration": 300
              }
             }
            ],
            "label": "22",
            "method": "animate"
           },
           {
            "args": [
             [
              23
             ],
             {
              "frame": {
               "duration": 300,
               "redraw": true
              },
              "mode": "immediate",
              "transition": {
               "duration": 300
              }
             }
            ],
            "label": "23",
            "method": "animate"
           },
           {
            "args": [
             [
              24
             ],
             {
              "frame": {
               "duration": 300,
               "redraw": true
              },
              "mode": "immediate",
              "transition": {
               "duration": 300
              }
             }
            ],
            "label": "24",
            "method": "animate"
           }
          ],
          "transition": {
           "duration": 300,
           "easing": "cubic-in-out"
          },
          "x": 0.1,
          "xanchor": "left",
          "y": 0,
          "yanchor": "top"
         }
        ],
        "template": {
         "data": {
          "bar": [
           {
            "error_x": {
             "color": "#2a3f5f"
            },
            "error_y": {
             "color": "#2a3f5f"
            },
            "marker": {
             "line": {
              "color": "#E5ECF6",
              "width": 0.5
             },
             "pattern": {
              "fillmode": "overlay",
              "size": 10,
              "solidity": 0.2
             }
            },
            "type": "bar"
           }
          ],
          "barpolar": [
           {
            "marker": {
             "line": {
              "color": "#E5ECF6",
              "width": 0.5
             },
             "pattern": {
              "fillmode": "overlay",
              "size": 10,
              "solidity": 0.2
             }
            },
            "type": "barpolar"
           }
          ],
          "carpet": [
           {
            "aaxis": {
             "endlinecolor": "#2a3f5f",
             "gridcolor": "white",
             "linecolor": "white",
             "minorgridcolor": "white",
             "startlinecolor": "#2a3f5f"
            },
            "baxis": {
             "endlinecolor": "#2a3f5f",
             "gridcolor": "white",
             "linecolor": "white",
             "minorgridcolor": "white",
             "startlinecolor": "#2a3f5f"
            },
            "type": "carpet"
           }
          ],
          "choropleth": [
           {
            "colorbar": {
             "outlinewidth": 0,
             "ticks": ""
            },
            "type": "choropleth"
           }
          ],
          "contour": [
           {
            "colorbar": {
             "outlinewidth": 0,
             "ticks": ""
            },
            "colorscale": [
             [
              0,
              "#0d0887"
             ],
             [
              0.1111111111111111,
              "#46039f"
             ],
             [
              0.2222222222222222,
              "#7201a8"
             ],
             [
              0.3333333333333333,
              "#9c179e"
             ],
             [
              0.4444444444444444,
              "#bd3786"
             ],
             [
              0.5555555555555556,
              "#d8576b"
             ],
             [
              0.6666666666666666,
              "#ed7953"
             ],
             [
              0.7777777777777778,
              "#fb9f3a"
             ],
             [
              0.8888888888888888,
              "#fdca26"
             ],
             [
              1,
              "#f0f921"
             ]
            ],
            "type": "contour"
           }
          ],
          "contourcarpet": [
           {
            "colorbar": {
             "outlinewidth": 0,
             "ticks": ""
            },
            "type": "contourcarpet"
           }
          ],
          "heatmap": [
           {
            "colorbar": {
             "outlinewidth": 0,
             "ticks": ""
            },
            "colorscale": [
             [
              0,
              "#0d0887"
             ],
             [
              0.1111111111111111,
              "#46039f"
             ],
             [
              0.2222222222222222,
              "#7201a8"
             ],
             [
              0.3333333333333333,
              "#9c179e"
             ],
             [
              0.4444444444444444,
              "#bd3786"
             ],
             [
              0.5555555555555556,
              "#d8576b"
             ],
             [
              0.6666666666666666,
              "#ed7953"
             ],
             [
              0.7777777777777778,
              "#fb9f3a"
             ],
             [
              0.8888888888888888,
              "#fdca26"
             ],
             [
              1,
              "#f0f921"
             ]
            ],
            "type": "heatmap"
           }
          ],
          "histogram": [
           {
            "marker": {
             "pattern": {
              "fillmode": "overlay",
              "size": 10,
              "solidity": 0.2
             }
            },
            "type": "histogram"
           }
          ],
          "histogram2d": [
           {
            "colorbar": {
             "outlinewidth": 0,
             "ticks": ""
            },
            "colorscale": [
             [
              0,
              "#0d0887"
             ],
             [
              0.1111111111111111,
              "#46039f"
             ],
             [
              0.2222222222222222,
              "#7201a8"
             ],
             [
              0.3333333333333333,
              "#9c179e"
             ],
             [
              0.4444444444444444,
              "#bd3786"
             ],
             [
              0.5555555555555556,
              "#d8576b"
             ],
             [
              0.6666666666666666,
              "#ed7953"
             ],
             [
              0.7777777777777778,
              "#fb9f3a"
             ],
             [
              0.8888888888888888,
              "#fdca26"
             ],
             [
              1,
              "#f0f921"
             ]
            ],
            "type": "histogram2d"
           }
          ],
          "histogram2dcontour": [
           {
            "colorbar": {
             "outlinewidth": 0,
             "ticks": ""
            },
            "colorscale": [
             [
              0,
              "#0d0887"
             ],
             [
              0.1111111111111111,
              "#46039f"
             ],
             [
              0.2222222222222222,
              "#7201a8"
             ],
             [
              0.3333333333333333,
              "#9c179e"
             ],
             [
              0.4444444444444444,
              "#bd3786"
             ],
             [
              0.5555555555555556,
              "#d8576b"
             ],
             [
              0.6666666666666666,
              "#ed7953"
             ],
             [
              0.7777777777777778,
              "#fb9f3a"
             ],
             [
              0.8888888888888888,
              "#fdca26"
             ],
             [
              1,
              "#f0f921"
             ]
            ],
            "type": "histogram2dcontour"
           }
          ],
          "mesh3d": [
           {
            "colorbar": {
             "outlinewidth": 0,
             "ticks": ""
            },
            "type": "mesh3d"
           }
          ],
          "parcoords": [
           {
            "line": {
             "colorbar": {
              "outlinewidth": 0,
              "ticks": ""
             }
            },
            "type": "parcoords"
           }
          ],
          "pie": [
           {
            "automargin": true,
            "type": "pie"
           }
          ],
          "scatter": [
           {
            "fillpattern": {
             "fillmode": "overlay",
             "size": 10,
             "solidity": 0.2
            },
            "type": "scatter"
           }
          ],
          "scatter3d": [
           {
            "line": {
             "colorbar": {
              "outlinewidth": 0,
              "ticks": ""
             }
            },
            "marker": {
             "colorbar": {
              "outlinewidth": 0,
              "ticks": ""
             }
            },
            "type": "scatter3d"
           }
          ],
          "scattercarpet": [
           {
            "marker": {
             "colorbar": {
              "outlinewidth": 0,
              "ticks": ""
             }
            },
            "type": "scattercarpet"
           }
          ],
          "scattergeo": [
           {
            "marker": {
             "colorbar": {
              "outlinewidth": 0,
              "ticks": ""
             }
            },
            "type": "scattergeo"
           }
          ],
          "scattergl": [
           {
            "marker": {
             "colorbar": {
              "outlinewidth": 0,
              "ticks": ""
             }
            },
            "type": "scattergl"
           }
          ],
          "scattermap": [
           {
            "marker": {
             "colorbar": {
              "outlinewidth": 0,
              "ticks": ""
             }
            },
            "type": "scattermap"
           }
          ],
          "scattermapbox": [
           {
            "marker": {
             "colorbar": {
              "outlinewidth": 0,
              "ticks": ""
             }
            },
            "type": "scattermapbox"
           }
          ],
          "scatterpolar": [
           {
            "marker": {
             "colorbar": {
              "outlinewidth": 0,
              "ticks": ""
             }
            },
            "type": "scatterpolar"
           }
          ],
          "scatterpolargl": [
           {
            "marker": {
             "colorbar": {
              "outlinewidth": 0,
              "ticks": ""
             }
            },
            "type": "scatterpolargl"
           }
          ],
          "scatterternary": [
           {
            "marker": {
             "colorbar": {
              "outlinewidth": 0,
              "ticks": ""
             }
            },
            "type": "scatterternary"
           }
          ],
          "surface": [
           {
            "colorbar": {
             "outlinewidth": 0,
             "ticks": ""
            },
            "colorscale": [
             [
              0,
              "#0d0887"
             ],
             [
              0.1111111111111111,
              "#46039f"
             ],
             [
              0.2222222222222222,
              "#7201a8"
             ],
             [
              0.3333333333333333,
              "#9c179e"
             ],
             [
              0.4444444444444444,
              "#bd3786"
             ],
             [
              0.5555555555555556,
              "#d8576b"
             ],
             [
              0.6666666666666666,
              "#ed7953"
             ],
             [
              0.7777777777777778,
              "#fb9f3a"
             ],
             [
              0.8888888888888888,
              "#fdca26"
             ],
             [
              1,
              "#f0f921"
             ]
            ],
            "type": "surface"
           }
          ],
          "table": [
           {
            "cells": {
             "fill": {
              "color": "#EBF0F8"
             },
             "line": {
              "color": "white"
             }
            },
            "header": {
             "fill": {
              "color": "#C8D4E3"
             },
             "line": {
              "color": "white"
             }
            },
            "type": "table"
           }
          ]
         },
         "layout": {
          "annotationdefaults": {
           "arrowcolor": "#2a3f5f",
           "arrowhead": 0,
           "arrowwidth": 1
          },
          "autotypenumbers": "strict",
          "coloraxis": {
           "colorbar": {
            "outlinewidth": 0,
            "ticks": ""
           }
          },
          "colorscale": {
           "diverging": [
            [
             0,
             "#8e0152"
            ],
            [
             0.1,
             "#c51b7d"
            ],
            [
             0.2,
             "#de77ae"
            ],
            [
             0.3,
             "#f1b6da"
            ],
            [
             0.4,
             "#fde0ef"
            ],
            [
             0.5,
             "#f7f7f7"
            ],
            [
             0.6,
             "#e6f5d0"
            ],
            [
             0.7,
             "#b8e186"
            ],
            [
             0.8,
             "#7fbc41"
            ],
            [
             0.9,
             "#4d9221"
            ],
            [
             1,
             "#276419"
            ]
           ],
           "sequential": [
            [
             0,
             "#0d0887"
            ],
            [
             0.1111111111111111,
             "#46039f"
            ],
            [
             0.2222222222222222,
             "#7201a8"
            ],
            [
             0.3333333333333333,
             "#9c179e"
            ],
            [
             0.4444444444444444,
             "#bd3786"
            ],
            [
             0.5555555555555556,
             "#d8576b"
            ],
            [
             0.6666666666666666,
             "#ed7953"
            ],
            [
             0.7777777777777778,
             "#fb9f3a"
            ],
            [
             0.8888888888888888,
             "#fdca26"
            ],
            [
             1,
             "#f0f921"
            ]
           ],
           "sequentialminus": [
            [
             0,
             "#0d0887"
            ],
            [
             0.1111111111111111,
             "#46039f"
            ],
            [
             0.2222222222222222,
             "#7201a8"
            ],
            [
             0.3333333333333333,
             "#9c179e"
            ],
            [
             0.4444444444444444,
             "#bd3786"
            ],
            [
             0.5555555555555556,
             "#d8576b"
            ],
            [
             0.6666666666666666,
             "#ed7953"
            ],
            [
             0.7777777777777778,
             "#fb9f3a"
            ],
            [
             0.8888888888888888,
             "#fdca26"
            ],
            [
             1,
             "#f0f921"
            ]
           ]
          },
          "colorway": [
           "#636efa",
           "#EF553B",
           "#00cc96",
           "#ab63fa",
           "#FFA15A",
           "#19d3f3",
           "#FF6692",
           "#B6E880",
           "#FF97FF",
           "#FECB52"
          ],
          "font": {
           "color": "#2a3f5f"
          },
          "geo": {
           "bgcolor": "white",
           "lakecolor": "white",
           "landcolor": "#E5ECF6",
           "showlakes": true,
           "showland": true,
           "subunitcolor": "white"
          },
          "hoverlabel": {
           "align": "left"
          },
          "hovermode": "closest",
          "mapbox": {
           "style": "light"
          },
          "paper_bgcolor": "white",
          "plot_bgcolor": "#E5ECF6",
          "polar": {
           "angularaxis": {
            "gridcolor": "white",
            "linecolor": "white",
            "ticks": ""
           },
           "bgcolor": "#E5ECF6",
           "radialaxis": {
            "gridcolor": "white",
            "linecolor": "white",
            "ticks": ""
           }
          },
          "scene": {
           "xaxis": {
            "backgroundcolor": "#E5ECF6",
            "gridcolor": "white",
            "gridwidth": 2,
            "linecolor": "white",
            "showbackground": true,
            "ticks": "",
            "zerolinecolor": "white"
           },
           "yaxis": {
            "backgroundcolor": "#E5ECF6",
            "gridcolor": "white",
            "gridwidth": 2,
            "linecolor": "white",
            "showbackground": true,
            "ticks": "",
            "zerolinecolor": "white"
           },
           "zaxis": {
            "backgroundcolor": "#E5ECF6",
            "gridcolor": "white",
            "gridwidth": 2,
            "linecolor": "white",
            "showbackground": true,
            "ticks": "",
            "zerolinecolor": "white"
           }
          },
          "shapedefaults": {
           "line": {
            "color": "#2a3f5f"
           }
          },
          "ternary": {
           "aaxis": {
            "gridcolor": "white",
            "linecolor": "white",
            "ticks": ""
           },
           "baxis": {
            "gridcolor": "white",
            "linecolor": "white",
            "ticks": ""
           },
           "bgcolor": "#E5ECF6",
           "caxis": {
            "gridcolor": "white",
            "linecolor": "white",
            "ticks": ""
           }
          },
          "title": {
           "x": 0.05
          },
          "xaxis": {
           "automargin": true,
           "gridcolor": "white",
           "linecolor": "white",
           "ticks": "",
           "title": {
            "standoff": 15
           },
           "zerolinecolor": "white",
           "zerolinewidth": 2
          },
          "yaxis": {
           "automargin": true,
           "gridcolor": "white",
           "linecolor": "white",
           "ticks": "",
           "title": {
            "standoff": 15
           },
           "zerolinecolor": "white",
           "zerolinewidth": 2
          }
         }
        },
        "width": 600,
        "xaxis": {
         "showticklabels": false
        },
        "yaxis": {
         "showticklabels": false
        }
       }
      },
      "image/png": "[encoded data removed]"
     },
     "metadata": {},
     "output_type": "display_data"
    }
   ],
   "source": [
    "fig=animacion(l);\n",
    "fig.show()"
   ]
  },
  {
   "cell_type": "code",
   "execution_count": null,
   "metadata": {},
   "outputs": [],
   "source": [
    "while True:\n",
    "    iplot(fig)\n",
    "    time.sleep(600*len(l)//1000)\n",
    "    clear_output(wait=True)"
   ]
  },
  {
   "cell_type": "code",
   "execution_count": 23,
   "metadata": {},
   "outputs": [
    {
     "data": {
      "application/vnd.plotly.v1+json": {
       "config": {
        "plotlyServerURL": "https://plot.ly"
       },
       "data": [
        {
         "type": "heatmap",
         "z": [
          [
           0.926667155876483,
           0.9548371878738068,
           0.7701483883032667,
           0.16632750390824946,
           0.009981015996714082,
           0.4687555821124848,
           0.8369456977588199,
           0.5890555710380391,
           0.4039266590660059,
           0.9715059893465731
          ],
          [
           0.0778514800136415,
           0.554106628594967,
           0.655703080370489,
           0.33283854015482184,
           0.23581750061828377,
           0.34947898800269284,
           0.0976497356838949,
           0.5324490834362519,
           0.9132721208060415,
           0.4963249253801335
          ],
          [
           0.35477971525207197,
           0.9814756688008692,
           0.8807064286746638,
           0.8184998094778035,
           0.07840605325040495,
           0.5223467085721128,
           0.4372268536859075,
           0.9741095596279167,
           0.1442082113657973,
           0.05442667873004281
          ],
          [
           0.2704455117168495,
           0.07759050758301067,
           0.47025452150786606,
           0.4083781699864818,
           0.9769504443101942,
           0.9339959069331946,
           0.25533647695272943,
           0.5640784267467671,
           0.8772832850652572,
           0.3905387826031316
          ],
          [
           0.47391117768380386,
           0.9451023395460815,
           0.3126327647928767,
           0.6823770682919512,
           0.6202130360608473,
           0.7025091302678016,
           0.7648524106317192,
           0.11503319413751445,
           0.7099169145767013,
           0.2566030098404155
          ],
          [
           0.9046468165649033,
           0.4552897933456481,
           0.16359478462666854,
           0.8227039887775679,
           0.8944135620464028,
           0.8633842423525627,
           0.17645252398769928,
           0.2981836372481894,
           0.9027724517842587,
           0.8717623401036494
          ],
          [
           0.5056505708438093,
           0.6739268586302853,
           0.762049781461714,
           0.17050534102857107,
           0.2538806303690919,
           0.07754444206827116,
           0.9173284478911358,
           0.1215344716135267,
           0.5402886009796793,
           0.6523037186101375
          ],
          [
           0.25116855738536703,
           0.9249681886981247,
           0.18285015813048,
           0.8357051720742569,
           0.837302842236447,
           0.7831791407081035,
           0.28633044065271185,
           0.25995823148663255,
           0.4436971240619553,
           0.8070902259534072
          ],
          [
           0.734816144753751,
           0.7418418059879884,
           0.2869896881610926,
           0.01990440713324715,
           0.7635954199715977,
           0.6481326770808816,
           0.8896166300260603,
           0.3135171512145031,
           0.7963838818424946,
           0.6874193425608551
          ],
          [
           0.11817077686472077,
           0.497440838764867,
           0.2488959519489542,
           0.6560147853644324,
           0.19311249396096775,
           0.9753212938680433,
           0.7188959535371973,
           0.27089110370688363,
           0.40629476232599804,
           0.28327678389764643
          ]
         ]
        }
       ],
       "layout": {
        "template": {
         "data": {
          "bar": [
           {
            "error_x": {
             "color": "#2a3f5f"
            },
            "error_y": {
             "color": "#2a3f5f"
            },
            "marker": {
             "line": {
              "color": "#E5ECF6",
              "width": 0.5
             }
            },
            "type": "bar"
           }
          ],
          "barpolar": [
           {
            "marker": {
             "line": {
              "color": "#E5ECF6",
              "width": 0.5
             }
            },
            "type": "barpolar"
           }
          ],
          "carpet": [
           {
            "aaxis": {
             "endlinecolor": "#2a3f5f",
             "gridcolor": "white",
             "linecolor": "white",
             "minorgridcolor": "white",
             "startlinecolor": "#2a3f5f"
            },
            "baxis": {
             "endlinecolor": "#2a3f5f",
             "gridcolor": "white",
             "linecolor": "white",
             "minorgridcolor": "white",
             "startlinecolor": "#2a3f5f"
            },
            "type": "carpet"
           }
          ],
          "choropleth": [
           {
            "colorbar": {
             "outlinewidth": 0,
             "ticks": ""
            },
            "type": "choropleth"
           }
          ],
          "contour": [
           {
            "colorbar": {
             "outlinewidth": 0,
             "ticks": ""
            },
            "colorscale": [
             [
              0,
              "#0d0887"
             ],
             [
              0.1111111111111111,
              "#46039f"
             ],
             [
              0.2222222222222222,
              "#7201a8"
             ],
             [
              0.3333333333333333,
              "#9c179e"
             ],
             [
              0.4444444444444444,
              "#bd3786"
             ],
             [
              0.5555555555555556,
              "#d8576b"
             ],
             [
              0.6666666666666666,
              "#ed7953"
             ],
             [
              0.7777777777777778,
              "#fb9f3a"
             ],
             [
              0.8888888888888888,
              "#fdca26"
             ],
             [
              1,
              "#f0f921"
             ]
            ],
            "type": "contour"
           }
          ],
          "contourcarpet": [
           {
            "colorbar": {
             "outlinewidth": 0,
             "ticks": ""
            },
            "type": "contourcarpet"
           }
          ],
          "heatmap": [
           {
            "colorbar": {
             "outlinewidth": 0,
             "ticks": ""
            },
            "colorscale": [
             [
              0,
              "#0d0887"
             ],
             [
              0.1111111111111111,
              "#46039f"
             ],
             [
              0.2222222222222222,
              "#7201a8"
             ],
             [
              0.3333333333333333,
              "#9c179e"
             ],
             [
              0.4444444444444444,
              "#bd3786"
             ],
             [
              0.5555555555555556,
              "#d8576b"
             ],
             [
              0.6666666666666666,
              "#ed7953"
             ],
             [
              0.7777777777777778,
              "#fb9f3a"
             ],
             [
              0.8888888888888888,
              "#fdca26"
             ],
             [
              1,
              "#f0f921"
             ]
            ],
            "type": "heatmap"
           }
          ],
          "heatmapgl": [
           {
            "colorbar": {
             "outlinewidth": 0,
             "ticks": ""
            },
            "colorscale": [
             [
              0,
              "#0d0887"
             ],
             [
              0.1111111111111111,
              "#46039f"
             ],
             [
              0.2222222222222222,
              "#7201a8"
             ],
             [
              0.3333333333333333,
              "#9c179e"
             ],
             [
              0.4444444444444444,
              "#bd3786"
             ],
             [
              0.5555555555555556,
              "#d8576b"
             ],
             [
              0.6666666666666666,
              "#ed7953"
             ],
             [
              0.7777777777777778,
              "#fb9f3a"
             ],
             [
              0.8888888888888888,
              "#fdca26"
             ],
             [
              1,
              "#f0f921"
             ]
            ],
            "type": "heatmapgl"
           }
          ],
          "histogram": [
           {
            "marker": {
             "colorbar": {
              "outlinewidth": 0,
              "ticks": ""
             }
            },
            "type": "histogram"
           }
          ],
          "histogram2d": [
           {
            "colorbar": {
             "outlinewidth": 0,
             "ticks": ""
            },
            "colorscale": [
             [
              0,
              "#0d0887"
             ],
             [
              0.1111111111111111,
              "#46039f"
             ],
             [
              0.2222222222222222,
              "#7201a8"
             ],
             [
              0.3333333333333333,
              "#9c179e"
             ],
             [
              0.4444444444444444,
              "#bd3786"
             ],
             [
              0.5555555555555556,
              "#d8576b"
             ],
             [
              0.6666666666666666,
              "#ed7953"
             ],
             [
              0.7777777777777778,
              "#fb9f3a"
             ],
             [
              0.8888888888888888,
              "#fdca26"
             ],
             [
              1,
              "#f0f921"
             ]
            ],
            "type": "histogram2d"
           }
          ],
          "histogram2dcontour": [
           {
            "colorbar": {
             "outlinewidth": 0,
             "ticks": ""
            },
            "colorscale": [
             [
              0,
              "#0d0887"
             ],
             [
              0.1111111111111111,
              "#46039f"
             ],
             [
              0.2222222222222222,
              "#7201a8"
             ],
             [
              0.3333333333333333,
              "#9c179e"
             ],
             [
              0.4444444444444444,
              "#bd3786"
             ],
             [
              0.5555555555555556,
              "#d8576b"
             ],
             [
              0.6666666666666666,
              "#ed7953"
             ],
             [
              0.7777777777777778,
              "#fb9f3a"
             ],
             [
              0.8888888888888888,
              "#fdca26"
             ],
             [
              1,
              "#f0f921"
             ]
            ],
            "type": "histogram2dcontour"
           }
          ],
          "mesh3d": [
           {
            "colorbar": {
             "outlinewidth": 0,
             "ticks": ""
            },
            "type": "mesh3d"
           }
          ],
          "parcoords": [
           {
            "line": {
             "colorbar": {
              "outlinewidth": 0,
              "ticks": ""
             }
            },
            "type": "parcoords"
           }
          ],
          "pie": [
           {
            "automargin": true,
            "type": "pie"
           }
          ],
          "scatter": [
           {
            "marker": {
             "colorbar": {
              "outlinewidth": 0,
              "ticks": ""
             }
            },
            "type": "scatter"
           }
          ],
          "scatter3d": [
           {
            "line": {
             "colorbar": {
              "outlinewidth": 0,
              "ticks": ""
             }
            },
            "marker": {
             "colorbar": {
              "outlinewidth": 0,
              "ticks": ""
             }
            },
            "type": "scatter3d"
           }
          ],
          "scattercarpet": [
           {
            "marker": {
             "colorbar": {
              "outlinewidth": 0,
              "ticks": ""
             }
            },
            "type": "scattercarpet"
           }
          ],
          "scattergeo": [
           {
            "marker": {
             "colorbar": {
              "outlinewidth": 0,
              "ticks": ""
             }
            },
            "type": "scattergeo"
           }
          ],
          "scattergl": [
           {
            "marker": {
             "colorbar": {
              "outlinewidth": 0,
              "ticks": ""
             }
            },
            "type": "scattergl"
           }
          ],
          "scattermapbox": [
           {
            "marker": {
             "colorbar": {
              "outlinewidth": 0,
              "ticks": ""
             }
            },
            "type": "scattermapbox"
           }
          ],
          "scatterpolar": [
           {
            "marker": {
             "colorbar": {
              "outlinewidth": 0,
              "ticks": ""
             }
            },
            "type": "scatterpolar"
           }
          ],
          "scatterpolargl": [
           {
            "marker": {
             "colorbar": {
              "outlinewidth": 0,
              "ticks": ""
             }
            },
            "type": "scatterpolargl"
           }
          ],
          "scatterternary": [
           {
            "marker": {
             "colorbar": {
              "outlinewidth": 0,
              "ticks": ""
             }
            },
            "type": "scatterternary"
           }
          ],
          "surface": [
           {
            "colorbar": {
             "outlinewidth": 0,
             "ticks": ""
            },
            "colorscale": [
             [
              0,
              "#0d0887"
             ],
             [
              0.1111111111111111,
              "#46039f"
             ],
             [
              0.2222222222222222,
              "#7201a8"
             ],
             [
              0.3333333333333333,
              "#9c179e"
             ],
             [
              0.4444444444444444,
              "#bd3786"
             ],
             [
              0.5555555555555556,
              "#d8576b"
             ],
             [
              0.6666666666666666,
              "#ed7953"
             ],
             [
              0.7777777777777778,
              "#fb9f3a"
             ],
             [
              0.8888888888888888,
              "#fdca26"
             ],
             [
              1,
              "#f0f921"
             ]
            ],
            "type": "surface"
           }
          ],
          "table": [
           {
            "cells": {
             "fill": {
              "color": "#EBF0F8"
             },
             "line": {
              "color": "white"
             }
            },
            "header": {
             "fill": {
              "color": "#C8D4E3"
             },
             "line": {
              "color": "white"
             }
            },
            "type": "table"
           }
          ]
         },
         "layout": {
          "annotationdefaults": {
           "arrowcolor": "#2a3f5f",
           "arrowhead": 0,
           "arrowwidth": 1
          },
          "coloraxis": {
           "colorbar": {
            "outlinewidth": 0,
            "ticks": ""
           }
          },
          "colorscale": {
           "diverging": [
            [
             0,
             "#8e0152"
            ],
            [
             0.1,
             "#c51b7d"
            ],
            [
             0.2,
             "#de77ae"
            ],
            [
             0.3,
             "#f1b6da"
            ],
            [
             0.4,
             "#fde0ef"
            ],
            [
             0.5,
             "#f7f7f7"
            ],
            [
             0.6,
             "#e6f5d0"
            ],
            [
             0.7,
             "#b8e186"
            ],
            [
             0.8,
             "#7fbc41"
            ],
            [
             0.9,
             "#4d9221"
            ],
            [
             1,
             "#276419"
            ]
           ],
           "sequential": [
            [
             0,
             "#0d0887"
            ],
            [
             0.1111111111111111,
             "#46039f"
            ],
            [
             0.2222222222222222,
             "#7201a8"
            ],
            [
             0.3333333333333333,
             "#9c179e"
            ],
            [
             0.4444444444444444,
             "#bd3786"
            ],
            [
             0.5555555555555556,
             "#d8576b"
            ],
            [
             0.6666666666666666,
             "#ed7953"
            ],
            [
             0.7777777777777778,
             "#fb9f3a"
            ],
            [
             0.8888888888888888,
             "#fdca26"
            ],
            [
             1,
             "#f0f921"
            ]
           ],
           "sequentialminus": [
            [
             0,
             "#0d0887"
            ],
            [
             0.1111111111111111,
             "#46039f"
            ],
            [
             0.2222222222222222,
             "#7201a8"
            ],
            [
             0.3333333333333333,
             "#9c179e"
            ],
            [
             0.4444444444444444,
             "#bd3786"
            ],
            [
             0.5555555555555556,
             "#d8576b"
            ],
            [
             0.6666666666666666,
             "#ed7953"
            ],
            [
             0.7777777777777778,
             "#fb9f3a"
            ],
            [
             0.8888888888888888,
             "#fdca26"
            ],
            [
             1,
             "#f0f921"
            ]
           ]
          },
          "colorway": [
           "#636efa",
           "#EF553B",
           "#00cc96",
           "#ab63fa",
           "#FFA15A",
           "#19d3f3",
           "#FF6692",
           "#B6E880",
           "#FF97FF",
           "#FECB52"
          ],
          "font": {
           "color": "#2a3f5f"
          },
          "geo": {
           "bgcolor": "white",
           "lakecolor": "white",
           "landcolor": "#E5ECF6",
           "showlakes": true,
           "showland": true,
           "subunitcolor": "white"
          },
          "hoverlabel": {
           "align": "left"
          },
          "hovermode": "closest",
          "mapbox": {
           "style": "light"
          },
          "paper_bgcolor": "white",
          "plot_bgcolor": "#E5ECF6",
          "polar": {
           "angularaxis": {
            "gridcolor": "white",
            "linecolor": "white",
            "ticks": ""
           },
           "bgcolor": "#E5ECF6",
           "radialaxis": {
            "gridcolor": "white",
            "linecolor": "white",
            "ticks": ""
           }
          },
          "scene": {
           "xaxis": {
            "backgroundcolor": "#E5ECF6",
            "gridcolor": "white",
            "gridwidth": 2,
            "linecolor": "white",
            "showbackground": true,
            "ticks": "",
            "zerolinecolor": "white"
           },
           "yaxis": {
            "backgroundcolor": "#E5ECF6",
            "gridcolor": "white",
            "gridwidth": 2,
            "linecolor": "white",
            "showbackground": true,
            "ticks": "",
            "zerolinecolor": "white"
           },
           "zaxis": {
            "backgroundcolor": "#E5ECF6",
            "gridcolor": "white",
            "gridwidth": 2,
            "linecolor": "white",
            "showbackground": true,
            "ticks": "",
            "zerolinecolor": "white"
           }
          },
          "shapedefaults": {
           "line": {
            "color": "#2a3f5f"
           }
          },
          "ternary": {
           "aaxis": {
            "gridcolor": "white",
            "linecolor": "white",
            "ticks": ""
           },
           "baxis": {
            "gridcolor": "white",
            "linecolor": "white",
            "ticks": ""
           },
           "bgcolor": "#E5ECF6",
           "caxis": {
            "gridcolor": "white",
            "linecolor": "white",
            "ticks": ""
           }
          },
          "title": {
           "x": 0.05
          },
          "xaxis": {
           "automargin": true,
           "gridcolor": "white",
           "linecolor": "white",
           "ticks": "",
           "title": {
            "standoff": 15
           },
           "zerolinecolor": "white",
           "zerolinewidth": 2
          },
          "yaxis": {
           "automargin": true,
           "gridcolor": "white",
           "linecolor": "white",
           "ticks": "",
           "title": {
            "standoff": 15
           },
           "zerolinecolor": "white",
           "zerolinewidth": 2
          }
         }
        }
       }
      },
      "text/html": [
       "<div>                            <div id=\"f15887fa-9380-4ddc-831f-00a19b428389\" class=\"plotly-graph-div\" style=\"height:525px; width:100%;\"></div>            <script type=\"text/javascript\">                require([\"plotly\"], function(Plotly) {                    window.PLOTLYENV=window.PLOTLYENV || {};                                    if (document.getElementById(\"f15887fa-9380-4ddc-831f-00a19b428389\")) {                    Plotly.newPlot(                        \"f15887fa-9380-4ddc-831f-00a19b428389\",                        [{\"type\": \"heatmap\", \"z\": [[0.926667155876483, 0.9548371878738068, 0.7701483883032667, 0.16632750390824946, 0.009981015996714082, 0.4687555821124848, 0.8369456977588199, 0.5890555710380391, 0.4039266590660059, 0.9715059893465731], [0.0778514800136415, 0.554106628594967, 0.655703080370489, 0.33283854015482184, 0.23581750061828377, 0.34947898800269284, 0.0976497356838949, 0.5324490834362519, 0.9132721208060415, 0.4963249253801335], [0.35477971525207197, 0.9814756688008692, 0.8807064286746638, 0.8184998094778035, 0.07840605325040495, 0.5223467085721128, 0.4372268536859075, 0.9741095596279167, 0.1442082113657973, 0.05442667873004281], [0.2704455117168495, 0.07759050758301067, 0.47025452150786606, 0.4083781699864818, 0.9769504443101942, 0.9339959069331946, 0.25533647695272943, 0.5640784267467671, 0.8772832850652572, 0.3905387826031316], [0.47391117768380386, 0.9451023395460815, 0.3126327647928767, 0.6823770682919512, 0.6202130360608473, 0.7025091302678016, 0.7648524106317192, 0.11503319413751445, 0.7099169145767013, 0.2566030098404155], [0.9046468165649033, 0.4552897933456481, 0.16359478462666854, 0.8227039887775679, 0.8944135620464028, 0.8633842423525627, 0.17645252398769928, 0.2981836372481894, 0.9027724517842587, 0.8717623401036494], [0.5056505708438093, 0.6739268586302853, 0.762049781461714, 0.17050534102857107, 0.2538806303690919, 0.07754444206827116, 0.9173284478911358, 0.1215344716135267, 0.5402886009796793, 0.6523037186101375], [0.25116855738536703, 0.9249681886981247, 0.18285015813048, 0.8357051720742569, 0.837302842236447, 0.7831791407081035, 0.28633044065271185, 0.25995823148663255, 0.4436971240619553, 0.8070902259534072], [0.734816144753751, 0.7418418059879884, 0.2869896881610926, 0.01990440713324715, 0.7635954199715977, 0.6481326770808816, 0.8896166300260603, 0.3135171512145031, 0.7963838818424946, 0.6874193425608551], [0.11817077686472077, 0.497440838764867, 0.2488959519489542, 0.6560147853644324, 0.19311249396096775, 0.9753212938680433, 0.7188959535371973, 0.27089110370688363, 0.40629476232599804, 0.28327678389764643]]}],                        {\"template\": {\"data\": {\"bar\": [{\"error_x\": {\"color\": \"#2a3f5f\"}, \"error_y\": {\"color\": \"#2a3f5f\"}, \"marker\": {\"line\": {\"color\": \"#E5ECF6\", \"width\": 0.5}}, \"type\": \"bar\"}], \"barpolar\": [{\"marker\": {\"line\": {\"color\": \"#E5ECF6\", \"width\": 0.5}}, \"type\": \"barpolar\"}], \"carpet\": [{\"aaxis\": {\"endlinecolor\": \"#2a3f5f\", \"gridcolor\": \"white\", \"linecolor\": \"white\", \"minorgridcolor\": \"white\", \"startlinecolor\": \"#2a3f5f\"}, \"baxis\": {\"endlinecolor\": \"#2a3f5f\", \"gridcolor\": \"white\", \"linecolor\": \"white\", \"minorgridcolor\": \"white\", \"startlinecolor\": \"#2a3f5f\"}, \"type\": \"carpet\"}], \"choropleth\": [{\"colorbar\": {\"outlinewidth\": 0, \"ticks\": \"\"}, \"type\": \"choropleth\"}], \"contour\": [{\"colorbar\": {\"outlinewidth\": 0, \"ticks\": \"\"}, \"colorscale\": [[0.0, \"#0d0887\"], [0.1111111111111111, \"#46039f\"], [0.2222222222222222, \"#7201a8\"], [0.3333333333333333, \"#9c179e\"], [0.4444444444444444, \"#bd3786\"], [0.5555555555555556, \"#d8576b\"], [0.6666666666666666, \"#ed7953\"], [0.7777777777777778, \"#fb9f3a\"], [0.8888888888888888, \"#fdca26\"], [1.0, \"#f0f921\"]], \"type\": \"contour\"}], \"contourcarpet\": [{\"colorbar\": {\"outlinewidth\": 0, \"ticks\": \"\"}, \"type\": \"contourcarpet\"}], \"heatmap\": [{\"colorbar\": {\"outlinewidth\": 0, \"ticks\": \"\"}, \"colorscale\": [[0.0, \"#0d0887\"], [0.1111111111111111, \"#46039f\"], [0.2222222222222222, \"#7201a8\"], [0.3333333333333333, \"#9c179e\"], [0.4444444444444444, \"#bd3786\"], [0.5555555555555556, \"#d8576b\"], [0.6666666666666666, \"#ed7953\"], [0.7777777777777778, \"#fb9f3a\"], [0.8888888888888888, \"#fdca26\"], [1.0, \"#f0f921\"]], \"type\": \"heatmap\"}], \"heatmapgl\": [{\"colorbar\": {\"outlinewidth\": 0, \"ticks\": \"\"}, \"colorscale\": [[0.0, \"#0d0887\"], [0.1111111111111111, \"#46039f\"], [0.2222222222222222, \"#7201a8\"], [0.3333333333333333, \"#9c179e\"], [0.4444444444444444, \"#bd3786\"], [0.5555555555555556, \"#d8576b\"], [0.6666666666666666, \"#ed7953\"], [0.7777777777777778, \"#fb9f3a\"], [0.8888888888888888, \"#fdca26\"], [1.0, \"#f0f921\"]], \"type\": \"heatmapgl\"}], \"histogram\": [{\"marker\": {\"colorbar\": {\"outlinewidth\": 0, \"ticks\": \"\"}}, \"type\": \"histogram\"}], \"histogram2d\": [{\"colorbar\": {\"outlinewidth\": 0, \"ticks\": \"\"}, \"colorscale\": [[0.0, \"#0d0887\"], [0.1111111111111111, \"#46039f\"], [0.2222222222222222, \"#7201a8\"], [0.3333333333333333, \"#9c179e\"], [0.4444444444444444, \"#bd3786\"], [0.5555555555555556, \"#d8576b\"], [0.6666666666666666, \"#ed7953\"], [0.7777777777777778, \"#fb9f3a\"], [0.8888888888888888, \"#fdca26\"], [1.0, \"#f0f921\"]], \"type\": \"histogram2d\"}], \"histogram2dcontour\": [{\"colorbar\": {\"outlinewidth\": 0, \"ticks\": \"\"}, \"colorscale\": [[0.0, \"#0d0887\"], [0.1111111111111111, \"#46039f\"], [0.2222222222222222, \"#7201a8\"], [0.3333333333333333, \"#9c179e\"], [0.4444444444444444, \"#bd3786\"], [0.5555555555555556, \"#d8576b\"], [0.6666666666666666, \"#ed7953\"], [0.7777777777777778, \"#fb9f3a\"], [0.8888888888888888, \"#fdca26\"], [1.0, \"#f0f921\"]], \"type\": \"histogram2dcontour\"}], \"mesh3d\": [{\"colorbar\": {\"outlinewidth\": 0, \"ticks\": \"\"}, \"type\": \"mesh3d\"}], \"parcoords\": [{\"line\": {\"colorbar\": {\"outlinewidth\": 0, \"ticks\": \"\"}}, \"type\": \"parcoords\"}], \"pie\": [{\"automargin\": true, \"type\": \"pie\"}], \"scatter\": [{\"marker\": {\"colorbar\": {\"outlinewidth\": 0, \"ticks\": \"\"}}, \"type\": \"scatter\"}], \"scatter3d\": [{\"line\": {\"colorbar\": {\"outlinewidth\": 0, \"ticks\": \"\"}}, \"marker\": {\"colorbar\": {\"outlinewidth\": 0, \"ticks\": \"\"}}, \"type\": \"scatter3d\"}], \"scattercarpet\": [{\"marker\": {\"colorbar\": {\"outlinewidth\": 0, \"ticks\": \"\"}}, \"type\": \"scattercarpet\"}], \"scattergeo\": [{\"marker\": {\"colorbar\": {\"outlinewidth\": 0, \"ticks\": \"\"}}, \"type\": \"scattergeo\"}], \"scattergl\": [{\"marker\": {\"colorbar\": {\"outlinewidth\": 0, \"ticks\": \"\"}}, \"type\": \"scattergl\"}], \"scattermapbox\": [{\"marker\": {\"colorbar\": {\"outlinewidth\": 0, \"ticks\": \"\"}}, \"type\": \"scattermapbox\"}], \"scatterpolar\": [{\"marker\": {\"colorbar\": {\"outlinewidth\": 0, \"ticks\": \"\"}}, \"type\": \"scatterpolar\"}], \"scatterpolargl\": [{\"marker\": {\"colorbar\": {\"outlinewidth\": 0, \"ticks\": \"\"}}, \"type\": \"scatterpolargl\"}], \"scatterternary\": [{\"marker\": {\"colorbar\": {\"outlinewidth\": 0, \"ticks\": \"\"}}, \"type\": \"scatterternary\"}], \"surface\": [{\"colorbar\": {\"outlinewidth\": 0, \"ticks\": \"\"}, \"colorscale\": [[0.0, \"#0d0887\"], [0.1111111111111111, \"#46039f\"], [0.2222222222222222, \"#7201a8\"], [0.3333333333333333, \"#9c179e\"], [0.4444444444444444, \"#bd3786\"], [0.5555555555555556, \"#d8576b\"], [0.6666666666666666, \"#ed7953\"], [0.7777777777777778, \"#fb9f3a\"], [0.8888888888888888, \"#fdca26\"], [1.0, \"#f0f921\"]], \"type\": \"surface\"}], \"table\": [{\"cells\": {\"fill\": {\"color\": \"#EBF0F8\"}, \"line\": {\"color\": \"white\"}}, \"header\": {\"fill\": {\"color\": \"#C8D4E3\"}, \"line\": {\"color\": \"white\"}}, \"type\": \"table\"}]}, \"layout\": {\"annotationdefaults\": {\"arrowcolor\": \"#2a3f5f\", \"arrowhead\": 0, \"arrowwidth\": 1}, \"coloraxis\": {\"colorbar\": {\"outlinewidth\": 0, \"ticks\": \"\"}}, \"colorscale\": {\"diverging\": [[0, \"#8e0152\"], [0.1, \"#c51b7d\"], [0.2, \"#de77ae\"], [0.3, \"#f1b6da\"], [0.4, \"#fde0ef\"], [0.5, \"#f7f7f7\"], [0.6, \"#e6f5d0\"], [0.7, \"#b8e186\"], [0.8, \"#7fbc41\"], [0.9, \"#4d9221\"], [1, \"#276419\"]], \"sequential\": [[0.0, \"#0d0887\"], [0.1111111111111111, \"#46039f\"], [0.2222222222222222, \"#7201a8\"], [0.3333333333333333, \"#9c179e\"], [0.4444444444444444, \"#bd3786\"], [0.5555555555555556, \"#d8576b\"], [0.6666666666666666, \"#ed7953\"], [0.7777777777777778, \"#fb9f3a\"], [0.8888888888888888, \"#fdca26\"], [1.0, \"#f0f921\"]], \"sequentialminus\": [[0.0, \"#0d0887\"], [0.1111111111111111, \"#46039f\"], [0.2222222222222222, \"#7201a8\"], [0.3333333333333333, \"#9c179e\"], [0.4444444444444444, \"#bd3786\"], [0.5555555555555556, \"#d8576b\"], [0.6666666666666666, \"#ed7953\"], [0.7777777777777778, \"#fb9f3a\"], [0.8888888888888888, \"#fdca26\"], [1.0, \"#f0f921\"]]}, \"colorway\": [\"#636efa\", \"#EF553B\", \"#00cc96\", \"#ab63fa\", \"#FFA15A\", \"#19d3f3\", \"#FF6692\", \"#B6E880\", \"#FF97FF\", \"#FECB52\"], \"font\": {\"color\": \"#2a3f5f\"}, \"geo\": {\"bgcolor\": \"white\", \"lakecolor\": \"white\", \"landcolor\": \"#E5ECF6\", \"showlakes\": true, \"showland\": true, \"subunitcolor\": \"white\"}, \"hoverlabel\": {\"align\": \"left\"}, \"hovermode\": \"closest\", \"mapbox\": {\"style\": \"light\"}, \"paper_bgcolor\": \"white\", \"plot_bgcolor\": \"#E5ECF6\", \"polar\": {\"angularaxis\": {\"gridcolor\": \"white\", \"linecolor\": \"white\", \"ticks\": \"\"}, \"bgcolor\": \"#E5ECF6\", \"radialaxis\": {\"gridcolor\": \"white\", \"linecolor\": \"white\", \"ticks\": \"\"}}, \"scene\": {\"xaxis\": {\"backgroundcolor\": \"#E5ECF6\", \"gridcolor\": \"white\", \"gridwidth\": 2, \"linecolor\": \"white\", \"showbackground\": true, \"ticks\": \"\", \"zerolinecolor\": \"white\"}, \"yaxis\": {\"backgroundcolor\": \"#E5ECF6\", \"gridcolor\": \"white\", \"gridwidth\": 2, \"linecolor\": \"white\", \"showbackground\": true, \"ticks\": \"\", \"zerolinecolor\": \"white\"}, \"zaxis\": {\"backgroundcolor\": \"#E5ECF6\", \"gridcolor\": \"white\", \"gridwidth\": 2, \"linecolor\": \"white\", \"showbackground\": true, \"ticks\": \"\", \"zerolinecolor\": \"white\"}}, \"shapedefaults\": {\"line\": {\"color\": \"#2a3f5f\"}}, \"ternary\": {\"aaxis\": {\"gridcolor\": \"white\", \"linecolor\": \"white\", \"ticks\": \"\"}, \"baxis\": {\"gridcolor\": \"white\", \"linecolor\": \"white\", \"ticks\": \"\"}, \"bgcolor\": \"#E5ECF6\", \"caxis\": {\"gridcolor\": \"white\", \"linecolor\": \"white\", \"ticks\": \"\"}}, \"title\": {\"x\": 0.05}, \"xaxis\": {\"automargin\": true, \"gridcolor\": \"white\", \"linecolor\": \"white\", \"ticks\": \"\", \"title\": {\"standoff\": 15}, \"zerolinecolor\": \"white\", \"zerolinewidth\": 2}, \"yaxis\": {\"automargin\": true, \"gridcolor\": \"white\", \"linecolor\": \"white\", \"ticks\": \"\", \"title\": {\"standoff\": 15}, \"zerolinecolor\": \"white\", \"zerolinewidth\": 2}}}},                        {\"responsive\": true}                    ).then(function(){\n",
       "                            \n",
       "var gd = document.getElementById('f15887fa-9380-4ddc-831f-00a19b428389');\n",
       "var x = new MutationObserver(function (mutations, observer) {{\n",
       "        var display = window.getComputedStyle(gd).display;\n",
       "        if (!display || display === 'none') {{\n",
       "            console.log([gd, 'removed!']);\n",
       "            Plotly.purge(gd);\n",
       "            observer.disconnect();\n",
       "        }}\n",
       "}});\n",
       "\n",
       "// Listen for the removal of the full notebook cells\n",
       "var notebookContainer = gd.closest('#notebook-container');\n",
       "if (notebookContainer) {{\n",
       "    x.observe(notebookContainer, {childList: true});\n",
       "}}\n",
       "\n",
       "// Listen for the clearing of the current output cell\n",
       "var outputEl = gd.closest('.output');\n",
       "if (outputEl) {{\n",
       "    x.observe(outputEl, {childList: true});\n",
       "}}\n",
       "\n",
       "                        })                };                });            </script>        </div>"
      ]
     },
     "metadata": {},
     "output_type": "display_data"
    }
   ],
   "source": [
    "ff=go.Figure(data=go.Heatmap(z=np.random.rand(10,10)))\n",
    "ff.show()"
   ]
  },
  {
   "cell_type": "code",
   "execution_count": 11,
   "metadata": {},
   "outputs": [],
   "source": [
    "z=np.ones((3,3))"
   ]
  },
  {
   "cell_type": "code",
   "execution_count": 12,
   "metadata": {},
   "outputs": [
    {
     "data": {
      "text/plain": [
       "array([[1., 1., 1.],\n",
       "       [1., 1., 1.],\n",
       "       [1., 1., 1.]])"
      ]
     },
     "execution_count": 12,
     "metadata": {},
     "output_type": "execute_result"
    }
   ],
   "source": [
    "z"
   ]
  },
  {
   "cell_type": "code",
   "execution_count": 21,
   "metadata": {},
   "outputs": [
    {
     "data": {
      "text/plain": [
       "array([[0.50227334, 0.0313397 , 0.0142301 , 0.4787936 , 0.27233995,\n",
       "        0.29185771, 0.48696601, 0.68009418, 0.43742941, 0.85711122],\n",
       "       [0.91301893, 0.57450835, 0.03291605, 0.01477213, 0.99900337,\n",
       "        0.62229891, 0.62208617, 0.20906988, 0.541211  , 0.1703626 ],\n",
       "       [0.9485094 , 0.03144103, 0.68416597, 0.46401511, 0.50596136,\n",
       "        0.71162154, 0.46825252, 0.65719398, 0.5047608 , 0.6159745 ],\n",
       "       [0.45614028, 0.55351297, 0.80242372, 0.69292745, 0.04312804,\n",
       "        0.81394173, 0.10623061, 0.2742972 , 0.40457015, 0.65971217],\n",
       "       [0.58062384, 0.46866731, 0.56897748, 0.63991772, 0.62942172,\n",
       "        0.99547029, 0.93308674, 0.25478168, 0.92322909, 0.32022943],\n",
       "       [0.59577859, 0.57190968, 0.80403771, 0.79662466, 0.51626015,\n",
       "        0.27014784, 0.06487078, 0.05794334, 0.90739624, 0.84501238],\n",
       "       [0.76985867, 0.18169221, 0.302467  , 0.51124755, 0.94376583,\n",
       "        0.66054304, 0.86995125, 0.44486616, 0.6628117 , 0.09661586],\n",
       "       [0.77386252, 0.86883926, 0.49016474, 0.5114704 , 0.92619849,\n",
       "        0.6511458 , 0.68231015, 0.15325931, 0.99081546, 0.70166163],\n",
       "       [0.41349375, 0.67882934, 0.83030656, 0.81178309, 0.60272332,\n",
       "        0.4913024 , 0.00684631, 0.32301175, 0.93664927, 0.79060019],\n",
       "       [0.77842597, 0.45896428, 0.1736457 , 0.43461983, 0.52600568,\n",
       "        0.95745978, 0.0369134 , 0.9372302 , 0.92661647, 0.58916504]])"
      ]
     },
     "execution_count": 21,
     "metadata": {},
     "output_type": "execute_result"
    }
   ],
   "source": []
  },
  {
   "cell_type": "code",
   "execution_count": null,
   "metadata": {},
   "outputs": [],
   "source": []
  }
 ],
 "metadata": {
  "kernelspec": {
   "display_name": "Python 3 (ipykernel)",
   "language": "python",
   "name": "python3"
  },
  "language_info": {
   "codemirror_mode": {
    "name": "ipython",
    "version": 3
   },
   "file_extension": ".py",
   "mimetype": "text/x-python",
   "name": "python",
   "nbconvert_exporter": "python",
   "pygments_lexer": "ipython3",
   "version": "3.12.3"
  }
 },
 "nbformat": 4,
 "nbformat_minor": 4
}
